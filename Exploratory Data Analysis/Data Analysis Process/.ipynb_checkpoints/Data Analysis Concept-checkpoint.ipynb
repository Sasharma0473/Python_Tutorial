{
 "cells": [
  {
   "cell_type": "markdown",
   "id": "581c0b66",
   "metadata": {},
   "source": [
    "# What Is Data Analysis\n",
    "\n",
    "It is a process of inspecting , cleansing, transforming and modelling data with goal of discovering useful information \n",
    "informing conclusions and supporting decision making."
   ]
  },
  {
   "cell_type": "markdown",
   "id": "490a4863",
   "metadata": {},
   "source": [
    "# Steps Involve in Data Analysis.\n",
    "\n",
    "1). Asking the Right Question \n",
    "\n",
    "2). Data Wrangling/ Data Munging/ Data Preprocessing:-- The Data is always in Raw format and it contains some errors. \n",
    "We can'nt process that kind of data. We have to CLEAN it. If we clean that data then we can perform the analysis based on that easily.\n",
    "\n",
    "3). Exploratory Data Analysis:-- In this process we explore the data. try to find out patterns, plot graphs and derive correlations \n",
    "\n",
    "4). Drawing Conclusions:- In This we draw some conclusions about the data.\n",
    "\n",
    "5). Communicating Results: "
   ]
  },
  {
   "cell_type": "markdown",
   "id": "3e82df6b",
   "metadata": {},
   "source": [
    "# STEP 1 -- ASKING QUESTIONS\n",
    "\n",
    "1). What feature/columns will contribute to my analysis.\n",
    "\n",
    "2). What Feature/columns are not important for my analysis.\n",
    "\n",
    "3). which of the feature have a strong correlations.\n",
    "\n",
    "4). what kind of feature manipulation/engineering is required.\n",
    "\n",
    "# Answers \n",
    "\n",
    "1). Subject Matter Expertise.: - domain Knowledge\n",
    "\n",
    "2). Experience"
   ]
  },
  {
   "cell_type": "markdown",
   "id": "f1adb161",
   "metadata": {},
   "source": [
    "# STEP 2 - Data Wrangling/ Data Munging\n",
    "\n",
    "It sometimes refer to as data munging, is the process of tranforming and mapping data from one raw data form into another \n",
    "format with the intent of making it more appropriate and valuable for the variety of downstream purpose such as analytics.\n",
    "\n",
    "This Data Wrangling is further divided into 3 steps:\n",
    "\n",
    "1). GATHERING DATA : \n",
    "\n",
    "Sometimes we get the data in csv file format or in some other file format but, ||\n",
    "sometime we will have to fecth the data from the API, ||\n",
    "We can also perform Web Scraping, from Databases.\n",
    "\n",
    "2). ASSESSING DATA : \n",
    "\n",
    "It means that we will see some basic details about the data.Like:-\n",
    "\n",
    "Finding the number of row and columns(shape).|| Checking Various Datatypes of various columns. || Checking the missing values in the data. || Check for the duplicate data || Memory Occupied by Dataset || High Level Mathematical Overview of Data. \n",
    "\n",
    "3). CLEANING DATA: \n",
    "\n",
    "It majorly involves 3 things.\n",
    "\n",
    "Missing Data || Remove duplicates data || Incorrect DataType \n",
    "\n"
   ]
  },
  {
   "cell_type": "markdown",
   "id": "25f10eb0",
   "metadata": {},
   "source": [
    "# STEP 3 - Exploratory Data Analysis \n",
    "\n",
    "In this we generally perform 2 steps like:\n",
    "\n",
    "1). EXPLORE DATA: We explore data in this step.\n",
    "\n",
    "Finding correlations and covariance ||  Doing Univariate and Bivariate Analysis  ||  Plotting Graphs(Data Visualization)\n",
    "|| Other things \n",
    "\n",
    "2). AGUMENT DATA: It means we do some changes in data from our side.\n",
    "\n",
    "Removing Outliers  ||  Merging the Dataframe  ||  Adding a new Calculated columns  ||  \n",
    "\n",
    "So when we augemnt the data from our side then we called it as a feature engineering "
   ]
  },
  {
   "cell_type": "markdown",
   "id": "2f10bced",
   "metadata": {},
   "source": [
    "# STEP 4 - Drawing Conclusions \n",
    "\n",
    "We will draw the conclusion from the Data, we have to explore with 3 ways.- \n",
    "\n",
    "1). Machine learning: - to predict something we use these ML Algos.\n",
    "\n",
    "2). Inferential Statistics: We take sample data and predict something for Population data.\n",
    "\n",
    "3). Descriptive Statistics: - We use discriptive statistics to draw conclusion. \n",
    "\n",
    "Is Rohit sharma is better batsman in 2nd inning , Does being the female increase your chance of survial , Is delhi the most costly place for eating out \n"
   ]
  },
  {
   "cell_type": "markdown",
   "id": "7e7f2835",
   "metadata": {},
   "source": [
    "# Communicating/ Story Telling \n",
    "\n",
    "In person , Report , PPT , Blog Post "
   ]
  },
  {
   "cell_type": "code",
   "execution_count": null,
   "id": "77248b88",
   "metadata": {},
   "outputs": [],
   "source": []
  },
  {
   "cell_type": "code",
   "execution_count": null,
   "id": "35d1b10f",
   "metadata": {},
   "outputs": [],
   "source": []
  },
  {
   "cell_type": "code",
   "execution_count": null,
   "id": "d99679e3",
   "metadata": {},
   "outputs": [],
   "source": []
  },
  {
   "cell_type": "code",
   "execution_count": null,
   "id": "ea0ec1c5",
   "metadata": {},
   "outputs": [],
   "source": []
  },
  {
   "cell_type": "code",
   "execution_count": null,
   "id": "b3a4001e",
   "metadata": {},
   "outputs": [],
   "source": []
  },
  {
   "cell_type": "code",
   "execution_count": null,
   "id": "bb2e2e9a",
   "metadata": {},
   "outputs": [],
   "source": []
  },
  {
   "cell_type": "code",
   "execution_count": null,
   "id": "a3189b39",
   "metadata": {},
   "outputs": [],
   "source": []
  },
  {
   "cell_type": "code",
   "execution_count": null,
   "id": "2a200026",
   "metadata": {},
   "outputs": [],
   "source": []
  },
  {
   "cell_type": "code",
   "execution_count": null,
   "id": "93d38562",
   "metadata": {},
   "outputs": [],
   "source": []
  },
  {
   "cell_type": "code",
   "execution_count": null,
   "id": "4b39ee6d",
   "metadata": {},
   "outputs": [],
   "source": []
  },
  {
   "cell_type": "code",
   "execution_count": null,
   "id": "d33f465e",
   "metadata": {},
   "outputs": [],
   "source": []
  },
  {
   "cell_type": "code",
   "execution_count": null,
   "id": "4cf39c18",
   "metadata": {},
   "outputs": [],
   "source": []
  },
  {
   "cell_type": "code",
   "execution_count": null,
   "id": "50db2529",
   "metadata": {},
   "outputs": [],
   "source": []
  },
  {
   "cell_type": "code",
   "execution_count": null,
   "id": "dcf31471",
   "metadata": {},
   "outputs": [],
   "source": []
  },
  {
   "cell_type": "code",
   "execution_count": null,
   "id": "14afd68b",
   "metadata": {},
   "outputs": [],
   "source": []
  }
 ],
 "metadata": {
  "kernelspec": {
   "display_name": "Python 3 (ipykernel)",
   "language": "python",
   "name": "python3"
  },
  "language_info": {
   "codemirror_mode": {
    "name": "ipython",
    "version": 3
   },
   "file_extension": ".py",
   "mimetype": "text/x-python",
   "name": "python",
   "nbconvert_exporter": "python",
   "pygments_lexer": "ipython3",
   "version": "3.11.4"
  }
 },
 "nbformat": 4,
 "nbformat_minor": 5
}
