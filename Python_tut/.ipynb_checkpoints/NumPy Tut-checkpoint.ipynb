{
 "cells": [
  {
   "cell_type": "code",
   "execution_count": 1,
   "id": "3e3cd9c1",
   "metadata": {},
   "outputs": [],
   "source": [
    "# Numerical Python lib.(Numpy). This lib is used to work with numerical data. It contains multidimensional array \n",
    "# and matrix data structure.It used to perform mathematical operation on array.It perform efficent calculation with array \n",
    "# and matrics.perform high level mathematical operation on array and matrices."
   ]
  },
  {
   "cell_type": "code",
   "execution_count": 2,
   "id": "1bdd9284",
   "metadata": {},
   "outputs": [],
   "source": [
    "# Why use numpy??\n",
    "# In python we have list which perform the same function as array but we use numpy because numpy array calculation is 50x faster\n",
    "# than list."
   ]
  },
  {
   "cell_type": "code",
   "execution_count": 3,
   "id": "3062f21d",
   "metadata": {},
   "outputs": [],
   "source": [
    "# Numpy array are stored at one continuos place in the memory, so processes can access and manupulate them very efficently. \n",
    "# This is called as locality of reference. that is why numpy is faster than list."
   ]
  },
  {
   "cell_type": "code",
   "execution_count": 4,
   "id": "f9521154",
   "metadata": {},
   "outputs": [],
   "source": [
    "import numpy as np"
   ]
  },
  {
   "cell_type": "code",
   "execution_count": 5,
   "id": "ca3d2977",
   "metadata": {},
   "outputs": [
    {
     "name": "stdout",
     "output_type": "stream",
     "text": [
      "[1 2 3 4 5]\n",
      "<class 'numpy.ndarray'>\n"
     ]
    }
   ],
   "source": [
    "arr = np.array([1,2,3,4,5])     # list pass in argument\n",
    "print(arr)\n",
    "print(type(arr))                  # ndarray:- "
   ]
  },
  {
   "cell_type": "code",
   "execution_count": 6,
   "id": "abf76894",
   "metadata": {},
   "outputs": [
    {
     "name": "stdout",
     "output_type": "stream",
     "text": [
      "[1 2 3 4 5]\n",
      "<class 'numpy.ndarray'>\n"
     ]
    }
   ],
   "source": [
    "arr1 = np.array((1,2,3,4,5))\n",
    "print(arr1)\n",
    "print(type(arr1))"
   ]
  },
  {
   "cell_type": "markdown",
   "id": "fe621b13",
   "metadata": {},
   "source": [
    "# Dimension in array"
   ]
  },
  {
   "cell_type": "code",
   "execution_count": 7,
   "id": "01d80f35",
   "metadata": {},
   "outputs": [
    {
     "name": "stdout",
     "output_type": "stream",
     "text": [
      "20\n",
      "<class 'numpy.ndarray'>\n",
      "0\n"
     ]
    }
   ],
   "source": [
    "arr2 = np.array(20)\n",
    "print(arr2)\n",
    "print(type(arr2))\n",
    "print(arr2.ndim)    # gives dimension "
   ]
  },
  {
   "cell_type": "code",
   "execution_count": 8,
   "id": "230d6715",
   "metadata": {},
   "outputs": [
    {
     "name": "stdout",
     "output_type": "stream",
     "text": [
      "[20 30 40 50]\n",
      "1\n"
     ]
    }
   ],
   "source": [
    "arr3 = np.array([20,30,40,50])   # 1D array\n",
    "print(arr3)\n",
    "print(arr3.ndim)"
   ]
  },
  {
   "cell_type": "code",
   "execution_count": 9,
   "id": "a7648038",
   "metadata": {},
   "outputs": [
    {
     "name": "stdout",
     "output_type": "stream",
     "text": [
      "[[1 2 3]\n",
      " [4 5 6]]\n",
      "2\n"
     ]
    }
   ],
   "source": [
    "arr4 = np.array([[1,2,3],[4,5,6]])   # 2D array\n",
    "print(arr4)\n",
    "print(arr4.ndim)"
   ]
  },
  {
   "cell_type": "code",
   "execution_count": 10,
   "id": "6d0e6c63",
   "metadata": {},
   "outputs": [
    {
     "name": "stdout",
     "output_type": "stream",
     "text": [
      "[[[1 2 3 4]\n",
      "  [5 6 7 8]\n",
      "  [3 4 5 6]\n",
      "  [5 6 7 8]\n",
      "  [7 8 2 1]]]\n",
      "3\n"
     ]
    }
   ],
   "source": [
    "arr5 = np.array([[[1,2,3,4],[5,6,7,8],[3,4,5,6],[5,6,7,8],[7,8,2,1]]])   # 3D array\n",
    "print(arr5)\n",
    "print(arr5.ndim)"
   ]
  },
  {
   "cell_type": "code",
   "execution_count": 11,
   "id": "451135b5",
   "metadata": {},
   "outputs": [
    {
     "name": "stdout",
     "output_type": "stream",
     "text": [
      "[[[[[1 2 3 4 5]]]]]\n",
      "<class 'numpy.ndarray'>\n",
      "5\n"
     ]
    }
   ],
   "source": [
    "arr6 = np.array([1,2,3,4,5], ndmin=5)     # 5 dimension array\n",
    "print(arr6)\n",
    "print(type(arr6))\n",
    "print(arr6.ndim)"
   ]
  },
  {
   "cell_type": "markdown",
   "id": "74e8d072",
   "metadata": {},
   "source": [
    "# NumPy Array Indexing "
   ]
  },
  {
   "cell_type": "code",
   "execution_count": 12,
   "id": "2a11bc45",
   "metadata": {},
   "outputs": [],
   "source": [
    "# Array indexing is the same as accessing an array element. you can access array by elemant by refering to its index element\n",
    "# The Index in numpy starts with 0."
   ]
  },
  {
   "cell_type": "code",
   "execution_count": 13,
   "id": "465a9604",
   "metadata": {},
   "outputs": [
    {
     "name": "stdout",
     "output_type": "stream",
     "text": [
      "1\n",
      "5\n"
     ]
    }
   ],
   "source": [
    "# 1D array\n",
    "arr7 = np.array([1,2,3,4,5])\n",
    "print(arr[0])\n",
    "print(arr[4])"
   ]
  },
  {
   "cell_type": "code",
   "execution_count": 14,
   "id": "eb9a23e4",
   "metadata": {},
   "outputs": [
    {
     "name": "stdout",
     "output_type": "stream",
     "text": [
      "The fisrt element is  3\n",
      "The second element is  5\n",
      "The third element is  9\n",
      "The sum of the number is  17\n"
     ]
    }
   ],
   "source": [
    "#1D array\n",
    "arr8 = np.array([1,2,3,4,5,6,7,8,9,10])\n",
    "a= arr8[2]    # 3 \n",
    "print(\"The fisrt element is \", a)\n",
    "b= arr8[4]    # 5\n",
    "print(\"The second element is \", b)\n",
    "c= arr8[8]    # 9\n",
    "print(\"The third element is \", c)\n",
    "d = a+b+c\n",
    "print(\"The sum of the number is \", d)"
   ]
  },
  {
   "cell_type": "code",
   "execution_count": 15,
   "id": "eac59427",
   "metadata": {},
   "outputs": [
    {
     "name": "stdout",
     "output_type": "stream",
     "text": [
      "[[ 10  20  30  40  50]\n",
      " [ 60  70  80  90 100]]\n",
      "The fisrt row and 2nd element  20\n",
      "The first row and 5th element  50\n",
      "The second row and 4th element  90\n",
      "The sum is  160\n"
     ]
    }
   ],
   "source": [
    "# 2D array\n",
    "arr9 = np.array([[10,20,30,40,50],[60,70,80,90,100]])\n",
    "print(arr9)\n",
    "a1 = arr9[0][1]\n",
    "print(\"The fisrt row and 2nd element \", a1)\n",
    "b1 = arr9[0][4]\n",
    "print(\"The first row and 5th element \", b1)\n",
    "c1 = arr9[1][3]\n",
    "print(\"The second row and 4th element \", c1)\n",
    "d1 = arr9[0][1]+arr9[0][4]+arr9[1][3]\n",
    "print(\"The sum is \", d1)"
   ]
  },
  {
   "cell_type": "code",
   "execution_count": 16,
   "id": "2bc67423",
   "metadata": {},
   "outputs": [
    {
     "name": "stdout",
     "output_type": "stream",
     "text": [
      "[[[ 1  2  3  4]\n",
      "  [ 5  6  7  8]\n",
      "  [ 9 10 11 12]]]\n",
      "1 2 3 4\n",
      "5 6 7 8\n",
      "9 10 11 12\n"
     ]
    }
   ],
   "source": [
    "# 3D array\n",
    "arr10 = np.array([[[1,2,3,4],[5,6,7,8],[9,10,11,12]]])\n",
    "ar1 = arr10[0,0,0]\n",
    "ar2 = arr10[0,0,1]\n",
    "ar3 = arr10[0,0,2]\n",
    "ar4 = arr10[0,0,3]\n",
    "\n",
    "ar5 = arr10[0,1,0]\n",
    "ar6 = arr10[0,1,1]\n",
    "ar7 = arr10[0,1,2]\n",
    "ar8 = arr10[0,1,3]\n",
    "\n",
    "ar9 = arr10[0,2,0]\n",
    "ar10 = arr10[0,2,1]\n",
    "ar11 = arr10[0,2,2]\n",
    "ar12 = arr10[0,2,3]\n",
    "\n",
    "print(arr10)\n",
    "print(ar1,ar2,ar3,ar4)\n",
    "print(ar5,ar6,ar7,ar8)\n",
    "print(ar9,ar10,ar11,ar12)\n",
    "\n"
   ]
  },
  {
   "cell_type": "markdown",
   "id": "c43a8043",
   "metadata": {},
   "source": [
    "# Slicing of NumPy Array"
   ]
  },
  {
   "cell_type": "code",
   "execution_count": 17,
   "id": "d8907a4d",
   "metadata": {},
   "outputs": [
    {
     "name": "stdout",
     "output_type": "stream",
     "text": [
      "[1 2 3 4 5 6 7 8]\n",
      "[3 4 5 6]\n",
      "[2 3 4 5 6 7]\n",
      "[1 3 5 7]\n"
     ]
    }
   ],
   "source": [
    "# 1D array slicing \n",
    "ay1 = np.array([1,2,3,4,5,6,7,8])\n",
    "print(ay1)\n",
    "print(ay1[2:6])\n",
    "print(ay1[1:7])\n",
    "print(ay1[::2])     # To skip one row "
   ]
  },
  {
   "cell_type": "code",
   "execution_count": 18,
   "id": "88c82139",
   "metadata": {},
   "outputs": [
    {
     "name": "stdout",
     "output_type": "stream",
     "text": [
      "[[ 10  20  30  40  50]\n",
      " [ 60  70  80  90 100]]\n",
      "[20 30 40]\n",
      "[70 80 90]\n"
     ]
    }
   ],
   "source": [
    "# 2D array\n",
    "ay2 = np.array([[10,20,30,40,50],[60,70,80,90,100]])\n",
    "print(ay2)\n",
    "print(ay2[0,1:4])\n",
    "print(ay2[1,1:4])"
   ]
  },
  {
   "cell_type": "code",
   "execution_count": 19,
   "id": "e41d7014",
   "metadata": {},
   "outputs": [
    {
     "data": {
      "text/plain": [
       "'\\ni-integer,\\nb-boolean, \\nu-unsigned int , \\nf-floating point, \\nc-complex floating,\\nm -timedelta\\nM - datetime\\nO - object \\nS - string \\nU - unicode string \\nV - Fixed chunk of memory for other type(void)\\n'"
      ]
     },
     "execution_count": 19,
     "metadata": {},
     "output_type": "execute_result"
    }
   ],
   "source": [
    "# Data types in numpy \n",
    "'''\n",
    "i-integer,\n",
    "b-boolean, \n",
    "u-unsigned int , \n",
    "f-floating point, \n",
    "c-complex floating,\n",
    "m -timedelta\n",
    "M - datetime\n",
    "O - object \n",
    "S - string \n",
    "U - unicode string \n",
    "V - Fixed chunk of memory for other type(void)\n",
    "'''"
   ]
  },
  {
   "cell_type": "code",
   "execution_count": 20,
   "id": "17b5e73c",
   "metadata": {},
   "outputs": [
    {
     "name": "stdout",
     "output_type": "stream",
     "text": [
      "int32\n",
      "<U7\n"
     ]
    }
   ],
   "source": [
    "# checking the data type in array\n",
    "ay3 = np.array([1,2,3,4])\n",
    "print(ay3.dtype)\n",
    "ay4 = np.array([\"Sahil\",\"Arpit\",\"Harshit\"])\n",
    "print(ay4.dtype)"
   ]
  },
  {
   "cell_type": "code",
   "execution_count": 21,
   "id": "26663bf2",
   "metadata": {},
   "outputs": [
    {
     "name": "stdout",
     "output_type": "stream",
     "text": [
      "[b'1' b'2' b'3' b'4']\n",
      "|S1\n"
     ]
    }
   ],
   "source": [
    "# creating datatype in numpy\n",
    "ay5 = np.array([1,2,3,4],dtype='S')\n",
    "print(ay5)\n",
    "print(ay5.dtype)"
   ]
  },
  {
   "cell_type": "markdown",
   "id": "d105d6f4",
   "metadata": {},
   "source": [
    "# NumPy Array Shape"
   ]
  },
  {
   "cell_type": "code",
   "execution_count": 22,
   "id": "24d648e0",
   "metadata": {},
   "outputs": [],
   "source": [
    "# Shape of array is the number of elemnet in each dimension."
   ]
  },
  {
   "cell_type": "code",
   "execution_count": 23,
   "id": "63d4ad34",
   "metadata": {},
   "outputs": [
    {
     "name": "stdout",
     "output_type": "stream",
     "text": [
      "(3, 6)\n"
     ]
    }
   ],
   "source": [
    "arrr1 = np.array([[1,2,3,4,5,6],[5,6,7,8,9,7],[1,2,3,4,5,9]])\n",
    "print(arrr1.shape)"
   ]
  },
  {
   "cell_type": "code",
   "execution_count": 24,
   "id": "6e9fef7c",
   "metadata": {
    "scrolled": true
   },
   "outputs": [
    {
     "name": "stdout",
     "output_type": "stream",
     "text": [
      "(1, 4, 7)\n"
     ]
    }
   ],
   "source": [
    "arrr2 = np.array([[[1,2,3,4,5,6,8],[5,6,7,8,9,7,9],[1,2,3,4,5,9,10],[1,2,3,4,5,6,4]]])\n",
    "print(arrr2.shape)"
   ]
  },
  {
   "cell_type": "markdown",
   "id": "dcd7fc60",
   "metadata": {},
   "source": [
    "# Joining NumPy Array"
   ]
  },
  {
   "cell_type": "code",
   "execution_count": 25,
   "id": "ffe9d3cc",
   "metadata": {},
   "outputs": [
    {
     "name": "stdout",
     "output_type": "stream",
     "text": [
      "[1 2 3 4 5 6]\n"
     ]
    }
   ],
   "source": [
    "aay1 = np.array([1,2,3])\n",
    "aay2 = np.array([4,5,6])\n",
    "aay = np.concatenate((aay1,aay2))\n",
    "print(aay)"
   ]
  },
  {
   "cell_type": "code",
   "execution_count": 26,
   "id": "1c278dc8",
   "metadata": {
    "scrolled": true
   },
   "outputs": [
    {
     "name": "stdout",
     "output_type": "stream",
     "text": [
      "[[1 2 3]\n",
      " [4 5 6]\n",
      " [4 5 6]\n",
      " [9 8 7]]\n"
     ]
    }
   ],
   "source": [
    "aay3 = np.array([[1,2,3],[4,5,6]])\n",
    "aay4 = np.array([[4,5,6],[9,8,7]])\n",
    "aay = np.concatenate((aay3,aay4))\n",
    "print(aay)     # join along col"
   ]
  },
  {
   "cell_type": "code",
   "execution_count": 27,
   "id": "c574b686",
   "metadata": {},
   "outputs": [
    {
     "name": "stdout",
     "output_type": "stream",
     "text": [
      "[[1 2 3 4 5 6]\n",
      " [4 5 6 9 8 7]]\n"
     ]
    }
   ],
   "source": [
    "aay3 = np.array([[1,2,3],[4,5,6]])\n",
    "aay4 = np.array([[4,5,6],[9,8,7]])\n",
    "aay = np.concatenate((aay3,aay4),axis=1)\n",
    "print(aay)     # join along rows"
   ]
  },
  {
   "cell_type": "markdown",
   "id": "0c013ede",
   "metadata": {},
   "source": [
    "# Splitting NumPy Arrays"
   ]
  },
  {
   "cell_type": "code",
   "execution_count": 28,
   "id": "778b576f",
   "metadata": {},
   "outputs": [
    {
     "name": "stdout",
     "output_type": "stream",
     "text": [
      "[array([1, 2]), array([3, 4]), array([5, 6])]\n"
     ]
    }
   ],
   "source": [
    "aay4 = np.array([1,2,3,4,5,6])\n",
    "newarr = np.array_split(aay4,3)\n",
    "print(newarr)"
   ]
  },
  {
   "cell_type": "code",
   "execution_count": 29,
   "id": "5f001dd7",
   "metadata": {},
   "outputs": [
    {
     "name": "stdout",
     "output_type": "stream",
     "text": [
      "[array([1, 2]), array([3, 4]), array([5]), array([6])]\n"
     ]
    }
   ],
   "source": [
    "aay5 = np.array([1,2,3,4,5,6])\n",
    "new_arr = np.array_split(aay5,4)\n",
    "print(new_arr)"
   ]
  },
  {
   "cell_type": "markdown",
   "id": "c1ce9101",
   "metadata": {},
   "source": [
    "# Ravel and Flatten\n",
    "It will convert multidimensional array into 1D array. They both perform the same operation."
   ]
  },
  {
   "cell_type": "code",
   "execution_count": 30,
   "id": "c1efb1a0",
   "metadata": {},
   "outputs": [
    {
     "name": "stdout",
     "output_type": "stream",
     "text": [
      "[[[1 2 3]\n",
      "  [4 5 6]\n",
      "  [7 8 9]]]\n",
      "The dimension of array is  3\n",
      "It will change 3d array to 1d [1 2 3 4 5 6 7 8 9]\n",
      "This is the 1d array 1\n"
     ]
    }
   ],
   "source": [
    "m = np.array([[[1,2,3],[4,5,6],[7,8,9]]])\n",
    "print(m)\n",
    "print(\"The dimension of array is \", m.ndim)\n",
    "n= m.ravel()\n",
    "print(\"It will change 3d array to 1d\", n)\n",
    "print(\"This is the 1d array\", n.ndim)"
   ]
  },
  {
   "cell_type": "code",
   "execution_count": 31,
   "id": "58e0b339",
   "metadata": {},
   "outputs": [
    {
     "name": "stdout",
     "output_type": "stream",
     "text": [
      "[[[[1 2 3]\n",
      "   [4 5 6]\n",
      "   [7 8 9]\n",
      "   [3 5 7]]]]\n",
      "The dimension of array is  4\n",
      "It will change 3d array to 1d [1 2 3 4 5 6 7 8 9]\n",
      "This is the 1d array 1\n"
     ]
    }
   ],
   "source": [
    "m1 = np.array([[[[1,2,3],[4,5,6],[7,8,9],[3,5,7]]]])\n",
    "print(m1)\n",
    "print(\"The dimension of array is \", m1.ndim)\n",
    "n1= m.flatten()\n",
    "print(\"It will change 3d array to 1d\", n1)\n",
    "print(\"This is the 1d array\", n1.ndim)"
   ]
  },
  {
   "cell_type": "markdown",
   "id": "28587758",
   "metadata": {},
   "source": [
    "# Unique function"
   ]
  },
  {
   "cell_type": "code",
   "execution_count": 32,
   "id": "79a8238d",
   "metadata": {},
   "outputs": [
    {
     "name": "stdout",
     "output_type": "stream",
     "text": [
      "[ 1  1  1  2  2  2  5  5  5 66  6 66  6 66  3  3  3  3 12 12 12]\n",
      "These values are unique [ 1  2  3  5  6 12 66]\n"
     ]
    }
   ],
   "source": [
    "uni = np.array([1,1,1,2,2,2,5,5,5,66,6,66,6,66,3,3,3,3,12,12,12])\n",
    "print(uni)\n",
    "k = np.unique(uni)\n",
    "print(\"These values are unique\",k)     # remove all the element from the array."
   ]
  },
  {
   "cell_type": "code",
   "execution_count": 33,
   "id": "a1489ada",
   "metadata": {},
   "outputs": [
    {
     "name": "stdout",
     "output_type": "stream",
     "text": [
      "[ 1  1  1  2  2  2  5  5  5 66  6 66  6 66  3  3  3  3 12 12 12]\n",
      "These values are unique (array([ 1,  2,  3,  5,  6, 12, 66]), array([ 0,  3, 14,  6, 10, 18,  9], dtype=int64))\n"
     ]
    }
   ],
   "source": [
    "uni = np.array([1,1,1,2,2,2,5,5,5,66,6,66,6,66,3,3,3,3,12,12,12])\n",
    "print(uni)\n",
    "k = np.unique(uni,return_index = True)\n",
    "print(\"These values are unique\",k)"
   ]
  },
  {
   "cell_type": "code",
   "execution_count": 34,
   "id": "557a31c9",
   "metadata": {},
   "outputs": [
    {
     "name": "stdout",
     "output_type": "stream",
     "text": [
      "[ 1  1  1  2  2  2  5  5  5 66  6 66  6 66  3  3  3  3 12 12 12]\n",
      "These values are unique (array([ 1,  2,  3,  5,  6, 12, 66]), array([ 0,  3, 14,  6, 10, 18,  9], dtype=int64), array([3, 3, 4, 3, 2, 3, 3], dtype=int64))\n"
     ]
    }
   ],
   "source": [
    "uni = np.array([1,1,1,2,2,2,5,5,5,66,6,66,6,66,3,3,3,3,12,12,12])\n",
    "print(uni)\n",
    "k = np.unique(uni,return_index = True,return_counts = True)\n",
    "print(\"These values are unique\",k)"
   ]
  },
  {
   "cell_type": "markdown",
   "id": "153acbfa",
   "metadata": {},
   "source": [
    "# Delete"
   ]
  },
  {
   "cell_type": "code",
   "execution_count": 35,
   "id": "b5187311",
   "metadata": {},
   "outputs": [
    {
     "name": "stdout",
     "output_type": "stream",
     "text": [
      "[1 2 4 5 6]\n"
     ]
    }
   ],
   "source": [
    "dele = np.array([1,2,3,4,5,6])\n",
    "d = np.delete(dele,[2])\n",
    "print(d)"
   ]
  },
  {
   "cell_type": "markdown",
   "id": "4a7371d4",
   "metadata": {},
   "source": [
    "# 100 NumPy Questions"
   ]
  },
  {
   "cell_type": "code",
   "execution_count": 36,
   "id": "14bbfee6",
   "metadata": {},
   "outputs": [],
   "source": [
    "# Import the numpy package under the name\n",
    "import numpy as np"
   ]
  },
  {
   "cell_type": "code",
   "execution_count": 37,
   "id": "35d5e965",
   "metadata": {},
   "outputs": [
    {
     "name": "stdout",
     "output_type": "stream",
     "text": [
      "1.26.4\n",
      "Build Dependencies:\n",
      "  blas:\n",
      "    detection method: pkgconfig\n",
      "    found: true\n",
      "    include directory: /c/opt/64/include\n",
      "    lib directory: /c/opt/64/lib\n",
      "    name: openblas64\n",
      "    openblas configuration: USE_64BITINT=1 DYNAMIC_ARCH=1 DYNAMIC_OLDER= NO_CBLAS=\n",
      "      NO_LAPACK= NO_LAPACKE= NO_AFFINITY=1 USE_OPENMP= SKYLAKEX MAX_THREADS=2\n",
      "    pc file directory: C:/opt/64/lib/pkgconfig\n",
      "    version: 0.3.23.dev\n",
      "  lapack:\n",
      "    detection method: internal\n",
      "    found: true\n",
      "    include directory: unknown\n",
      "    lib directory: unknown\n",
      "    name: dep2270588361616\n",
      "    openblas configuration: unknown\n",
      "    pc file directory: unknown\n",
      "    version: 1.26.4\n",
      "Compilers:\n",
      "  c:\n",
      "    commands: cl\n",
      "    linker: link\n",
      "    name: msvc\n",
      "    version: 19.29.30153\n",
      "  c++:\n",
      "    commands: cl\n",
      "    linker: link\n",
      "    name: msvc\n",
      "    version: 19.29.30153\n",
      "  cython:\n",
      "    commands: cython\n",
      "    linker: cython\n",
      "    name: cython\n",
      "    version: 3.0.8\n",
      "Machine Information:\n",
      "  build:\n",
      "    cpu: x86_64\n",
      "    endian: little\n",
      "    family: x86_64\n",
      "    system: windows\n",
      "  host:\n",
      "    cpu: x86_64\n",
      "    endian: little\n",
      "    family: x86_64\n",
      "    system: windows\n",
      "Python Information:\n",
      "  path: C:\\Users\\runneradmin\\AppData\\Local\\Temp\\cibw-run-j442zwj6\\cp311-win_amd64\\build\\venv\\Scripts\\python.exe\n",
      "  version: '3.11'\n",
      "SIMD Extensions:\n",
      "  baseline:\n",
      "  - SSE\n",
      "  - SSE2\n",
      "  - SSE3\n",
      "  found:\n",
      "  - SSSE3\n",
      "  - SSE41\n",
      "  - POPCNT\n",
      "  - SSE42\n",
      "  - AVX\n",
      "  - F16C\n",
      "  - FMA3\n",
      "  - AVX2\n",
      "  not found:\n",
      "  - AVX512F\n",
      "  - AVX512CD\n",
      "  - AVX512_SKX\n",
      "  - AVX512_CLX\n",
      "  - AVX512_CNL\n",
      "  - AVX512_ICL\n",
      "\n",
      "None\n"
     ]
    }
   ],
   "source": [
    "# Print the numpy version and the configuration\n",
    "print(np.__version__)\n",
    "print(np.show_config())"
   ]
  },
  {
   "cell_type": "code",
   "execution_count": 38,
   "id": "935e189f",
   "metadata": {},
   "outputs": [
    {
     "name": "stdout",
     "output_type": "stream",
     "text": [
      "[0. 0. 0. 0. 0. 0. 0. 0. 0. 0.]\n",
      "[ 0.  0.  0.  0.  0.  0. 11.  0.  0.  0.]\n"
     ]
    }
   ],
   "source": [
    "# Create a null vector of size 10 and update sixth value to 11\n",
    "import numpy as np\n",
    "vec = np.zeros(10)\n",
    "print(vec)\n",
    "vec[6] = 11\n",
    "print(vec)"
   ]
  },
  {
   "cell_type": "code",
   "execution_count": 39,
   "id": "23ba96cc",
   "metadata": {},
   "outputs": [
    {
     "name": "stdout",
     "output_type": "stream",
     "text": [
      "1464197607088\n",
      "80\n",
      "16\n",
      "4\n",
      "-------------------------------------------\n",
      "84\n",
      "3\n"
     ]
    }
   ],
   "source": [
    "#How to find the memory size of any array\n",
    "print(id(vec))  # It will give the memory addess\n",
    "print(vec.nbytes)\n",
    "x = np.array([1,2,3,4])\n",
    "print(x.nbytes)\n",
    "print(x.size)\n",
    "print(\"-------------------------------------------\")\n",
    "str = np.array([\"Sahil\",\"harshit\",\"Arpit\"])\n",
    "print(str.nbytes) # provide the size of memeory take by that particular list.\n",
    "print(str.size)   # No of element present in list.\n"
   ]
  },
  {
   "cell_type": "code",
   "execution_count": 40,
   "id": "b4665225",
   "metadata": {},
   "outputs": [
    {
     "name": "stdout",
     "output_type": "stream",
     "text": [
      "add(x1, x2, /, out=None, *, where=True, casting='same_kind', order='K', dtype=None, subok=True[, signature, extobj])\n",
      "\n",
      "Add arguments element-wise.\n",
      "\n",
      "Parameters\n",
      "----------\n",
      "x1, x2 : array_like\n",
      "    The arrays to be added.\n",
      "    If ``x1.shape != x2.shape``, they must be broadcastable to a common\n",
      "    shape (which becomes the shape of the output).\n",
      "out : ndarray, None, or tuple of ndarray and None, optional\n",
      "    A location into which the result is stored. If provided, it must have\n",
      "    a shape that the inputs broadcast to. If not provided or None,\n",
      "    a freshly-allocated array is returned. A tuple (possible only as a\n",
      "    keyword argument) must have length equal to the number of outputs.\n",
      "where : array_like, optional\n",
      "    This condition is broadcast over the input. At locations where the\n",
      "    condition is True, the `out` array will be set to the ufunc result.\n",
      "    Elsewhere, the `out` array will retain its original value.\n",
      "    Note that if an uninitialized `out` array is created via the default\n",
      "    ``out=None``, locations within it where the condition is False will\n",
      "    remain uninitialized.\n",
      "**kwargs\n",
      "    For other keyword-only arguments, see the\n",
      "    :ref:`ufunc docs <ufuncs.kwargs>`.\n",
      "\n",
      "Returns\n",
      "-------\n",
      "add : ndarray or scalar\n",
      "    The sum of `x1` and `x2`, element-wise.\n",
      "    This is a scalar if both `x1` and `x2` are scalars.\n",
      "\n",
      "Notes\n",
      "-----\n",
      "Equivalent to `x1` + `x2` in terms of array broadcasting.\n",
      "\n",
      "Examples\n",
      "--------\n",
      ">>> np.add(1.0, 4.0)\n",
      "5.0\n",
      ">>> x1 = np.arange(9.0).reshape((3, 3))\n",
      ">>> x2 = np.arange(3.0)\n",
      ">>> np.add(x1, x2)\n",
      "array([[  0.,   2.,   4.],\n",
      "       [  3.,   5.,   7.],\n",
      "       [  6.,   8.,  10.]])\n",
      "\n",
      "The ``+`` operator can be used as a shorthand for ``np.add`` on ndarrays.\n",
      "\n",
      ">>> x1 = np.arange(9.0).reshape((3, 3))\n",
      ">>> x2 = np.arange(3.0)\n",
      ">>> x1 + x2\n",
      "array([[ 0.,  2.,  4.],\n",
      "       [ 3.,  5.,  7.],\n",
      "       [ 6.,  8., 10.]])\n",
      "None\n"
     ]
    }
   ],
   "source": [
    "# How to get the documentation of the numpy add function from the command line? \n",
    "print(np.info(np.add))"
   ]
  },
  {
   "cell_type": "code",
   "execution_count": 41,
   "id": "fd0155e4",
   "metadata": {},
   "outputs": [
    {
     "name": "stdout",
     "output_type": "stream",
     "text": [
      "[10 11 12 13 14 15 16 17 18 19 20 21 22 23 24 25 26 27 28 29 30 31 32 33\n",
      " 34 35 36 37 38 39 40 41 42 43 44 45 46 47 48]\n",
      "---------------------\n",
      "[11 12 13 14 15 16 17 18 19 20 21 22 23 24 25 26 27 28 29 30 31 32 33 34\n",
      " 35 36 37 38 39 40 41 42 43 44 45 46 47]\n"
     ]
    }
   ],
   "source": [
    "# Create a vector with values ranging from 10 to 49 and remove 1st and last element in list \n",
    "values = np.arange(10,49)\n",
    "print(values)\n",
    "print(\"---------------------\")\n",
    "val = values[1:-1]\n",
    "print(val)"
   ]
  },
  {
   "cell_type": "code",
   "execution_count": 42,
   "id": "e5d829d4",
   "metadata": {},
   "outputs": [
    {
     "name": "stdout",
     "output_type": "stream",
     "text": [
      "[10 11 12 13 14 15 16 17 18 19]\n",
      "-------------\n",
      "[19 18 17 16 15 14 13 12 11 10]\n"
     ]
    }
   ],
   "source": [
    "# Reverse a vector (first element becomes last)\n",
    "vec1 = np.arange(10,20)\n",
    "print(vec1)\n",
    "print(\"-------------\")\n",
    "x1 = vec1[::-1]   # Reverse the vector\n",
    "print(x1)"
   ]
  },
  {
   "cell_type": "code",
   "execution_count": 43,
   "id": "2a744903",
   "metadata": {},
   "outputs": [
    {
     "name": "stdout",
     "output_type": "stream",
     "text": [
      "[[1 2 3]\n",
      " [4 5 6]\n",
      " [7 8 9]]\n",
      "2\n",
      "int32\n"
     ]
    }
   ],
   "source": [
    "# Create a 3x3 matrix with values ranging from 1 to 8\n",
    "mat = np.arange(1,10).reshape(3,3)\n",
    "print(mat)\n",
    "print(mat.ndim)\n",
    "print(mat.dtype)"
   ]
  },
  {
   "cell_type": "code",
   "execution_count": 44,
   "id": "c82bdd2f",
   "metadata": {},
   "outputs": [
    {
     "name": "stdout",
     "output_type": "stream",
     "text": [
      "\n",
      "\n",
      "\n",
      "[1, 2, 4]\n"
     ]
    }
   ],
   "source": [
    "# Find indices of non-zero elements from [1,2,0,0,4,0]\n",
    "ind = np.array([1,2,0,0,4,0])\n",
    "new_ind = []\n",
    "def indices_print(indi):\n",
    "    for i in indi:\n",
    "        if i != 0:\n",
    "            new_ind.append(i)\n",
    "        else:\n",
    "            print(\"\")\n",
    "    return new_ind\n",
    "indie_print = indices_print(ind)\n",
    "print(indie_print)"
   ]
  },
  {
   "cell_type": "code",
   "execution_count": 45,
   "id": "3431e9fa",
   "metadata": {},
   "outputs": [],
   "source": [
    "# Create a 3x3 identity matrix"
   ]
  },
  {
   "cell_type": "code",
   "execution_count": 46,
   "id": "bf11acec",
   "metadata": {},
   "outputs": [
    {
     "name": "stdout",
     "output_type": "stream",
     "text": [
      "[[1. 0. 0.]\n",
      " [0. 1. 0.]\n",
      " [0. 0. 1.]]\n"
     ]
    }
   ],
   "source": [
    "identity = np.identity(3)\n",
    "print(identity)"
   ]
  },
  {
   "cell_type": "code",
   "execution_count": 47,
   "id": "91051f90",
   "metadata": {},
   "outputs": [
    {
     "name": "stdout",
     "output_type": "stream",
     "text": [
      "[[0.29870083 0.82060269 0.52577385]\n",
      " [0.44062743 0.90555177 0.98216355]\n",
      " [0.37348708 0.36352806 0.67080501]]\n",
      "float64\n",
      "2\n"
     ]
    }
   ],
   "source": [
    "# Create a 3x3x3 array with random values\n",
    "rand = np.random.random((3,3))\n",
    "print(rand)\n",
    "print(rand.dtype)\n",
    "print(rand.ndim)"
   ]
  },
  {
   "cell_type": "code",
   "execution_count": 48,
   "id": "7c870eec",
   "metadata": {},
   "outputs": [
    {
     "name": "stdout",
     "output_type": "stream",
     "text": [
      "[[[0.33499853 0.26874478 0.62261226]\n",
      "  [0.00308485 0.4087136  0.2293623 ]\n",
      "  [0.6919575  0.1535407  0.63368885]]\n",
      "\n",
      " [[0.74974002 0.45211918 0.57776172]\n",
      "  [0.20530929 0.31401125 0.03287379]\n",
      "  [0.37432072 0.71675245 0.7260091 ]]\n",
      "\n",
      " [[0.01758832 0.51948007 0.3029601 ]\n",
      "  [0.60446457 0.75523095 0.38519133]\n",
      "  [0.38995442 0.65805173 0.62159699]]]\n",
      "float64\n",
      "3\n"
     ]
    }
   ],
   "source": [
    "rand1 = np.random.random((3,3,3))\n",
    "print(rand1)\n",
    "print(rand1.dtype)\n",
    "print(rand1.ndim)"
   ]
  },
  {
   "cell_type": "code",
   "execution_count": 49,
   "id": "7538158a",
   "metadata": {},
   "outputs": [
    {
     "name": "stdout",
     "output_type": "stream",
     "text": [
      "[[0.46554422 0.94618437 0.23585692 0.88108155 0.95345519 0.45687129\n",
      "  0.17559349 0.32681204 0.20219322 0.37367036]\n",
      " [0.4470023  0.76311068 0.3916499  0.00762272 0.7280897  0.57819689\n",
      "  0.11971706 0.96792907 0.48507518 0.2826423 ]\n",
      " [0.91829999 0.8677131  0.40010189 0.98777202 0.33446345 0.3254936\n",
      "  0.89766303 0.42847609 0.88146027 0.57783744]\n",
      " [0.08387224 0.08583343 0.87236377 0.06834846 0.55316864 0.79366041\n",
      "  0.83300058 0.79258314 0.62396849 0.66970811]\n",
      " [0.89456342 0.08779082 0.54096635 0.8681857  0.7451106  0.73635664\n",
      "  0.60853131 0.13256131 0.35947808 0.77708893]\n",
      " [0.67743062 0.54465443 0.72311145 0.70590415 0.76461893 0.59855142\n",
      "  0.66607077 0.29356016 0.22880024 0.07349398]\n",
      " [0.55938279 0.34976055 0.91574333 0.54072766 0.70156326 0.40769591\n",
      "  0.39997205 0.45822113 0.57704374 0.68810063]\n",
      " [0.18405549 0.5846254  0.22151778 0.61317355 0.14721783 0.06076965\n",
      "  0.50109476 0.89149789 0.21597827 0.00544796]\n",
      " [0.46416617 0.3694222  0.5749111  0.32361361 0.82910455 0.68060365\n",
      "  0.19414554 0.28360365 0.33337048 0.74553131]\n",
      " [0.45353216 0.1164681  0.03720127 0.14703627 0.64374809 0.26110069\n",
      "  0.72117706 0.82792211 0.68001937 0.99130603]]\n",
      "The maximum number is 0.9913060334940905 and minimum number is 0.005447956943726351\n",
      "float64\n",
      "2\n"
     ]
    }
   ],
   "source": [
    "# Create a 10x10 array with random values and find the minimum and maximum values\n",
    "arr_rand = np.random.random((10,10))\n",
    "mini,maxi = arr_rand.min(),arr_rand.max()\n",
    "print(arr_rand)\n",
    "print(\"The maximum number is {} and minimum number is {}\".format(maxi,mini))\n",
    "print(arr_rand.dtype)\n",
    "print(arr_rand.ndim)"
   ]
  },
  {
   "cell_type": "code",
   "execution_count": 50,
   "id": "b3c90001",
   "metadata": {},
   "outputs": [
    {
     "name": "stdout",
     "output_type": "stream",
     "text": [
      "[0.00110968 0.18769047 0.66228096 0.7958117  0.49841132 0.26664691\n",
      " 0.51326368 0.43482346 0.76231161 0.24416797 0.07248579 0.58860497\n",
      " 0.93200083 0.30024544 0.16627847 0.78163978 0.11766211 0.42608817\n",
      " 0.12032653 0.69057209 0.77754427 0.93378347 0.63760203 0.62537419\n",
      " 0.67158531 0.51310248 0.87917651 0.21638833 0.00821179 0.89891638]\n",
      "-------------\n",
      "The mean is  0.4908035573758748\n"
     ]
    }
   ],
   "source": [
    "# Create a random vector of size 30 and find the mean value\n",
    "rand_vec = np.random.random(30)\n",
    "mean = rand_vec.mean()\n",
    "print(rand_vec)\n",
    "print(\"-------------\")\n",
    "print(\"The mean is \", mean)"
   ]
  },
  {
   "cell_type": "code",
   "execution_count": 51,
   "id": "049b16cb",
   "metadata": {},
   "outputs": [
    {
     "name": "stdout",
     "output_type": "stream",
     "text": [
      "[[1. 1. 1. 1. 1.]\n",
      " [1. 0. 0. 0. 1.]\n",
      " [1. 0. 0. 0. 1.]\n",
      " [1. 0. 0. 0. 1.]\n",
      " [1. 1. 1. 1. 1.]]\n"
     ]
    }
   ],
   "source": [
    "# Create a 2d array with 1 on the border and 0 inside \n",
    "arr_one = np.ones((5,5))\n",
    "arr_one[1:-1,1:-1] = 0\n",
    "print(arr_one)"
   ]
  },
  {
   "cell_type": "code",
   "execution_count": 52,
   "id": "bf042407",
   "metadata": {},
   "outputs": [
    {
     "name": "stdout",
     "output_type": "stream",
     "text": [
      "[[0. 0. 0. 0. 0.]\n",
      " [0. 1. 1. 1. 0.]\n",
      " [0. 1. 1. 1. 0.]\n",
      " [0. 1. 1. 1. 0.]\n",
      " [0. 0. 0. 0. 0.]]\n"
     ]
    }
   ],
   "source": [
    "# How to add a border (filled with 0's) around an existing array?\n",
    "arr_one = np.ones((5,5))\n",
    "arr_one[0:1] = 0\n",
    "arr_one[4:]= 0\n",
    "arr_one[1,0],arr_one[2,0],arr_one[3,0]=0,0,0\n",
    "arr_one[1,4],arr_one[2,4],arr_one[3,4]=0,0,0\n",
    "print(arr_one)"
   ]
  },
  {
   "cell_type": "code",
   "execution_count": 53,
   "id": "cbce72ab",
   "metadata": {},
   "outputs": [
    {
     "name": "stdout",
     "output_type": "stream",
     "text": [
      "[[1. 1. 1.]\n",
      " [1. 1. 1.]\n",
      " [1. 1. 1.]]\n",
      "--------------------\n",
      "[[0. 0. 0. 0. 0.]\n",
      " [0. 1. 1. 1. 0.]\n",
      " [0. 1. 1. 1. 0.]\n",
      " [0. 1. 1. 1. 0.]\n",
      " [0. 0. 0. 0. 0.]]\n"
     ]
    }
   ],
   "source": [
    "# How to add a border (filled with 0's) around an existing array?\n",
    "# We do padding to include 0 in our array.\n",
    "arr_zero = np.ones((3,3))\n",
    "print(arr_zero)\n",
    "print(\"--------------------\")\n",
    "arr_z= np.pad(arr_zero,pad_width=1,mode='constant', constant_values=0)\n",
    "print(arr_z)"
   ]
  },
  {
   "cell_type": "code",
   "execution_count": 54,
   "id": "5ca9553b",
   "metadata": {},
   "outputs": [
    {
     "name": "stdout",
     "output_type": "stream",
     "text": [
      "nan\n",
      "False\n",
      "False\n",
      "nan\n",
      "True\n",
      "False\n"
     ]
    }
   ],
   "source": [
    "# What is the result of the following expression\n",
    "print(0 * np.nan)\n",
    "print(np.nan == np.nan)\n",
    "print(np.inf > np.nan)\n",
    "print(np.nan - np.nan)\n",
    "print(np.nan in set([np.nan]))\n",
    "print(0.3 == 3 * 0.1)"
   ]
  },
  {
   "cell_type": "code",
   "execution_count": 55,
   "id": "b8081de1",
   "metadata": {},
   "outputs": [
    {
     "name": "stdout",
     "output_type": "stream",
     "text": [
      "[[1 0 0 0 0]\n",
      " [0 2 0 0 0]\n",
      " [0 0 3 0 0]\n",
      " [0 0 0 4 0]\n",
      " [0 0 0 0 5]]\n"
     ]
    }
   ],
   "source": [
    "# Create a 5x5 matrix with values 1,2,3,4 just below the diagonal (★☆☆)\n",
    "diag1 = np.diag((1,2,3,4,5))\n",
    "print(diag1)"
   ]
  },
  {
   "cell_type": "code",
   "execution_count": 56,
   "id": "b1ad4696",
   "metadata": {},
   "outputs": [
    {
     "name": "stdout",
     "output_type": "stream",
     "text": [
      "[[0. 1. 0. 1. 0. 1. 0. 1.]\n",
      " [1. 0. 1. 0. 1. 0. 1. 0.]\n",
      " [0. 1. 0. 1. 0. 1. 0. 1.]\n",
      " [1. 0. 1. 0. 1. 0. 1. 0.]\n",
      " [0. 1. 0. 1. 0. 1. 0. 1.]\n",
      " [1. 0. 1. 0. 1. 0. 1. 0.]\n",
      " [0. 1. 0. 1. 0. 1. 0. 1.]\n",
      " [1. 0. 1. 0. 1. 0. 1. 0.]]\n"
     ]
    }
   ],
   "source": [
    "# Create a 8x8 matrix and fill it with a checkerboard pattern\n",
    "     # 1,3,5,7 row is changed\n",
    "# check_board: This is the NumPy array we created earlier to represent the chessboard.\n",
    "#[1::2, ::2]: This part specifies the rows and columns where we want to assign the value 1.\n",
    "\n",
    "# 1::2: This specifies the row slicing. It starts from the second row (index 1) \n",
    "# and selects every other row (stride 2). \n",
    "# So it selects rows 1, 3, 5, and 7 (because indexing starts from 0).\n",
    "\n",
    "# ::2: This specifies the column slicing. \n",
    "# It selects every other column starting from the first column (index 0). \n",
    "# So it selects columns 0, 2, 4, and 6.\n",
    "\n",
    "# =1: This assigns the value 1 to the selected rows and columns.\n",
    "# Syntax of slicing in numpy \n",
    "# array[row_start:row_stop:row_step, col_start:col_stop:col_step]   very important synatx\n",
    "\n",
    "check_board = np.zeros((8,8))\n",
    "check_board[1::2,::2]=1 \n",
    "check_board[::2,1::2]=1\n",
    "print(check_board)\n"
   ]
  },
  {
   "cell_type": "code",
   "execution_count": 57,
   "id": "89c9a7ae",
   "metadata": {},
   "outputs": [
    {
     "name": "stdout",
     "output_type": "stream",
     "text": [
      "[[0. 1. 0. 1. 0. 1. 0. 1.]\n",
      " [1. 0. 1. 0. 1. 0. 1. 0.]\n",
      " [0. 1. 0. 1. 0. 1. 0. 1.]\n",
      " [1. 0. 1. 0. 1. 0. 1. 0.]\n",
      " [0. 1. 0. 1. 0. 1. 0. 1.]\n",
      " [1. 0. 1. 0. 1. 0. 1. 0.]\n",
      " [0. 1. 0. 1. 0. 1. 0. 1.]\n",
      " [1. 0. 1. 0. 1. 0. 1. 0.]]\n"
     ]
    }
   ],
   "source": [
    "check_board1 = np.zeros((8,8))\n",
    "check_board1[1::2,::2]=1\n",
    "check_board1[::2,1::2]=1\n",
    "print(check_board1)"
   ]
  },
  {
   "cell_type": "code",
   "execution_count": 58,
   "id": "f0fc3ab2",
   "metadata": {},
   "outputs": [
    {
     "name": "stdout",
     "output_type": "stream",
     "text": [
      "[[0 1 0 1 0 1 0 1]\n",
      " [1 0 1 0 1 0 1 0]\n",
      " [0 1 0 1 0 1 0 1]\n",
      " [1 0 1 0 1 0 1 0]\n",
      " [0 1 0 1 0 1 0 1]\n",
      " [1 0 1 0 1 0 1 0]\n",
      " [0 1 0 1 0 1 0 1]\n",
      " [1 0 1 0 1 0 1 0]]\n"
     ]
    }
   ],
   "source": [
    "# Create a checkerboard 8x8 matrix using the tile function\n",
    "tile_arr = np.tile([[0,1],[1,0]],(4,4))\n",
    "print(tile_arr)"
   ]
  },
  {
   "cell_type": "code",
   "execution_count": 59,
   "id": "109681c4",
   "metadata": {},
   "outputs": [
    {
     "name": "stdout",
     "output_type": "stream",
     "text": [
      "[[[  1   2   3   4   5   6   7   8]\n",
      "  [  9  10  11  12  13  14  15  16]\n",
      "  [ 17  18  19  20  21  22  23  24]\n",
      "  [ 25  26  27  28  29  30  31  32]\n",
      "  [ 33  34  35  36  37  38  39  40]\n",
      "  [ 41  42  43  44  45  46  47  48]\n",
      "  [ 49  50  51  52  53  54  55  56]]\n",
      "\n",
      " [[ 57  58  59  60  61  62  63  64]\n",
      "  [ 65  66  67  68  69  70  71  72]\n",
      "  [ 73  74  75  76  77  78  79  80]\n",
      "  [ 81  82  83  84  85  86  87  88]\n",
      "  [ 89  90  91  92  93  94  95  96]\n",
      "  [ 97  98  99 100 101 102 103 104]\n",
      "  [105 106 107 108 109 110 111 112]]\n",
      "\n",
      " [[113 114 115 116 117 118 119 120]\n",
      "  [121 122 123 124 125 126 127 128]\n",
      "  [129 130 131 132 133 134 135 136]\n",
      "  [137 138 139 140 141 142 143 144]\n",
      "  [145 146 147 148 149 150 151 152]\n",
      "  [153 154 155 156 157 158 159 160]\n",
      "  [161 162 163 164 165 166 167 168]]\n",
      "\n",
      " [[169 170 171 172 173 174 175 176]\n",
      "  [177 178 179 180 181 182 183 184]\n",
      "  [185 186 187 188 189 190 191 192]\n",
      "  [193 194 195 196 197 198 199 200]\n",
      "  [201 202 203 204 205 206 207 208]\n",
      "  [209 210 211 212 213 214 215 216]\n",
      "  [217 218 219 220 221 222 223 224]]\n",
      "\n",
      " [[225 226 227 228 229 230 231 232]\n",
      "  [233 234 235 236 237 238 239 240]\n",
      "  [241 242 243 244 245 246 247 248]\n",
      "  [249 250 251 252 253 254 255 256]\n",
      "  [257 258 259 260 261 262 263 264]\n",
      "  [265 266 267 268 269 270 271 272]\n",
      "  [273 274 275 276 277 278 279 280]]\n",
      "\n",
      " [[281 282 283 284 285 286 287 288]\n",
      "  [289 290 291 292 293 294 295 296]\n",
      "  [297 298 299 300 301 302 303 304]\n",
      "  [305 306 307 308 309 310 311 312]\n",
      "  [313 314 315 316 317 318 319 320]\n",
      "  [321 322 323 324 325 326 327 328]\n",
      "  [329 330 331 332 333 334 335 336]]]\n",
      "(1, 5, 4)\n",
      "The dimesnion of array 3\n"
     ]
    }
   ],
   "source": [
    "# Consider a (6,7,8) shape array, what is the index (x,y,z) of the 100th element?\n",
    "array_shape = np.arange(1,337).reshape(6,7,8)\n",
    "print(array_shape)\n",
    "flat_index = 100\n",
    "shape = array_shape.shape\n",
    "index = np.unravel_index(flat_index,shape)\n",
    "print(index)\n",
    "print(\"The dimesnion of array\",array_shape.ndim)"
   ]
  },
  {
   "cell_type": "code",
   "execution_count": 60,
   "id": "e477afb0",
   "metadata": {},
   "outputs": [
    {
     "name": "stdout",
     "output_type": "stream",
     "text": [
      "[[ 0  1  2  3]\n",
      " [ 4  5  6  7]\n",
      " [ 8  9 10 11]]\n",
      "(1, 2)\n"
     ]
    }
   ],
   "source": [
    "# unravel_index = It will basically convert a flat array into a multidimesional array. and return the \n",
    "# the value of index for a particular element in the array.\n",
    "import numpy as np\n",
    "# Create a 2D array with shape (3, 4)\n",
    "arr = np.arange(12).reshape(3, 4)\n",
    "print(arr)\n",
    "# Flat index\n",
    "flat_index = 6\n",
    "# Shape of the array\n",
    "shape = arr.shape\n",
    "# Convert flat index to multi-dimensional indices\n",
    "indices = np.unravel_index(flat_index, shape)\n",
    "print(indices)"
   ]
  },
  {
   "cell_type": "code",
   "execution_count": 61,
   "id": "a9c3ce20",
   "metadata": {},
   "outputs": [],
   "source": [
    "# What is Normalizing a maxtric and how can we normalize a 5,5 matrix."
   ]
  },
  {
   "cell_type": "code",
   "execution_count": 62,
   "id": "507282cd",
   "metadata": {},
   "outputs": [
    {
     "name": "stdout",
     "output_type": "stream",
     "text": [
      "[[0.60917514 1.47215075]\n",
      " [0.59639723 1.27950836]\n",
      " [0.5337544  1.23399469]\n",
      " [0.55948482 0.95851897]\n",
      " [0.07029789 0.34819786]]\n"
     ]
    }
   ],
   "source": [
    "# Multiply a 5x3 matrix by a 3x2 matrix (real matrix product)\n",
    "matrix1 = np.random.random((5,3))\n",
    "matrix2 = np.random.random((3,2))\n",
    "matrix_sol = np.dot(matrix1,matrix2)\n",
    "print(matrix_sol)"
   ]
  },
  {
   "cell_type": "code",
   "execution_count": 63,
   "id": "3c7bf143",
   "metadata": {},
   "outputs": [
    {
     "name": "stdout",
     "output_type": "stream",
     "text": [
      "[ 0  1  2  3 -4 -5 -6 -7 -8  9 10]\n"
     ]
    }
   ],
   "source": [
    "# Given a 1D array, negate all elements which are between 3 and 8, in place\n",
    "negate_ele = np.arange(11)\n",
    "negate_ele[(3<negate_ele) & (negate_ele<=8)] *= -1\n",
    "print(negate_ele)"
   ]
  },
  {
   "cell_type": "code",
   "execution_count": 64,
   "id": "ec009e20",
   "metadata": {},
   "outputs": [
    {
     "name": "stdout",
     "output_type": "stream",
     "text": [
      "9\n",
      "10\n"
     ]
    }
   ],
   "source": [
    "print(sum(range(5),-1))\n",
    "from numpy import *\n",
    "print(sum(range(5),-1))"
   ]
  },
  {
   "cell_type": "code",
   "execution_count": 65,
   "id": "ff047d60",
   "metadata": {},
   "outputs": [
    {
     "name": "stdout",
     "output_type": "stream",
     "text": [
      "[1. 2. 3. 4. 5.]\n"
     ]
    }
   ],
   "source": [
    "#How to round away from zero a float array ?\n",
    "round_array = np.array([1,2.4,3,4,5])\n",
    "rnd = np.round(round_array)\n",
    "print(rnd)"
   ]
  },
  {
   "cell_type": "code",
   "execution_count": 66,
   "id": "bd732c27",
   "metadata": {},
   "outputs": [
    {
     "name": "stdout",
     "output_type": "stream",
     "text": [
      "[2 3 4]\n"
     ]
    }
   ],
   "source": [
    "# How to find common values between two arrays?\n",
    "common_array1 = np.array([1,2,3,4,5,6])\n",
    "common_array2 = np.array([2,3,4])\n",
    "intersection = np.intersect1d(common_array1,common_array2)\n",
    "print(intersection)"
   ]
  },
  {
   "cell_type": "code",
   "execution_count": 67,
   "id": "f75e013a",
   "metadata": {},
   "outputs": [
    {
     "name": "stdout",
     "output_type": "stream",
     "text": [
      "2024-05-07\n",
      "2024-05-06\n",
      "2024-05-08\n"
     ]
    }
   ],
   "source": [
    "# How to get the dates of yesterday, today and tomorrow?\n",
    "yesterday = np.datetime64('today','D')-np.timedelta64(1,'D')\n",
    "today = np.datetime64('today','D')\n",
    "tommorow = np.datetime64('today','D')+np.timedelta64(1,'D')\n",
    "print(today)\n",
    "print(yesterday)\n",
    "print(tommorow)"
   ]
  },
  {
   "cell_type": "code",
   "execution_count": 68,
   "id": "61ea82ae",
   "metadata": {},
   "outputs": [
    {
     "name": "stdout",
     "output_type": "stream",
     "text": [
      "['2016-06-01' '2016-06-02' '2016-06-03' '2016-06-04' '2016-06-05'\n",
      " '2016-06-06' '2016-06-07' '2016-06-08' '2016-06-09' '2016-06-10'\n",
      " '2016-06-11' '2016-06-12' '2016-06-13' '2016-06-14' '2016-06-15'\n",
      " '2016-06-16' '2016-06-17' '2016-06-18' '2016-06-19' '2016-06-20'\n",
      " '2016-06-21' '2016-06-22' '2016-06-23' '2016-06-24' '2016-06-25'\n",
      " '2016-06-26' '2016-06-27' '2016-06-28' '2016-06-29' '2016-06-30']\n"
     ]
    }
   ],
   "source": [
    "# How to get all the dates corresponding to the month of July 2016?\n",
    "all_date = np.arange('2016-06','2016-07',dtype = 'datetime64[D]')\n",
    "print(all_date)"
   ]
  },
  {
   "cell_type": "code",
   "execution_count": 82,
   "id": "71b7bf47",
   "metadata": {},
   "outputs": [
    {
     "name": "stdout",
     "output_type": "stream",
     "text": [
      "[-1.5 -1.5 -1.5]\n"
     ]
    }
   ],
   "source": [
    "# How to compute ((A+B)*(-A/2)) in place (without copy)\n",
    "A = np.ones(3)*1\n",
    "B = np.ones(3)*2\n",
    "C = np.ones(3)*-1\n",
    "D = np.add(A,B)\n",
    "E = np.divide(A,2)\n",
    "F = np.negative(E)\n",
    "G = np.multiply(D,F)\n",
    "print(G)"
   ]
  },
  {
   "cell_type": "code",
   "execution_count": 91,
   "id": "d186df74",
   "metadata": {},
   "outputs": [
    {
     "name": "stdout",
     "output_type": "stream",
     "text": [
      "[[0. 1. 2. 3. 4.]\n",
      " [0. 1. 2. 3. 4.]\n",
      " [0. 1. 2. 3. 4.]\n",
      " [0. 1. 2. 3. 4.]\n",
      " [0. 1. 2. 3. 4.]]\n"
     ]
    }
   ],
   "source": [
    "# Create a 5x5 matrix with row values ranging from 0 to 4 \n",
    "mat_zero = np.zeros((5,5))\n",
    "mat_range = np.arange(5) + mat_zero\n",
    "print(mat_range)"
   ]
  },
  {
   "cell_type": "code",
   "execution_count": 97,
   "id": "bce682ce",
   "metadata": {},
   "outputs": [
    {
     "name": "stdout",
     "output_type": "stream",
     "text": [
      "[0.00421829 0.0690238  0.18033708 0.20836787 0.4868231  0.55718841\n",
      " 0.68299195 0.78365791 0.94489478 0.94800766]\n"
     ]
    }
   ],
   "source": [
    "# Create a random vector of size 10 and sort it\n",
    "rand_vector = np.random.random(10)\n",
    "rv1 = sort(rand_vector)\n",
    "print(rv1)"
   ]
  },
  {
   "cell_type": "markdown",
   "id": "2b5e3fe1",
   "metadata": {},
   "source": [
    "# Practice NumPy Questions"
   ]
  },
  {
   "cell_type": "markdown",
   "id": "a29894f0",
   "metadata": {},
   "source": [
    "# NUMPY ARRAY QUESTIONS IMP"
   ]
  },
  {
   "cell_type": "code",
   "execution_count": null,
   "id": "e7f32741",
   "metadata": {},
   "outputs": [],
   "source": [
    "# How to create an empty and a full NumPy array?\n",
    "# Create a Numpy array filled with all zeros\n",
    "# Create a Numpy array filled with all ones\n",
    "# Check whether a Numpy array contains a specified row\n",
    "# How to Remove rows in Numpy array that contains non-numeric values?\n",
    "# Remove single-dimensional entries from the shape of an array\n",
    "# Find the number of occurrences of a sequence in a NumPy array\n",
    "# Find the most frequent value in a NumPy array\n",
    "# Combining a one and a two-dimensional NumPy Array\n",
    "# How to build an array of all combinations of two NumPy arrays?\n",
    "# How to add a border around a NumPy array?\n",
    "# How to compare two NumPy arrays?\n",
    "# How to check whether specified values are present in NumPy array?\n",
    "# How to get all 2D diagonals of a 3D NumPy array?\n",
    "# Flatten a Matrix in Python using NumPy\n",
    "# Flatten a 2d numpy array into 1d array\n",
    "# Move axes of an array to new positions\n",
    "# Interchange two axes of an array\n",
    "# NumPy – Fibonacci Series using Binet Formula\n",
    "# Counts the number of non-zero values in the array\n",
    "# Count the number of elements along a given axis\n",
    "# Trim the leading and/or trailing zeros from a 1-D array\n",
    "# Change data type of given numpy array\n",
    "# Reverse a numpy array\n",
    "# How to make a NumPy array read-only?"
   ]
  },
  {
   "cell_type": "markdown",
   "id": "9d9829d5",
   "metadata": {},
   "source": [
    "# NumPy Matrix IMP"
   ]
  },
  {
   "cell_type": "code",
   "execution_count": null,
   "id": "a662dbdd",
   "metadata": {},
   "outputs": [],
   "source": [
    "# Get the maximum value from given matrix\n",
    "# Get the minimum value from given matrix\n",
    "# Find the number of rows and columns of a given matrix using NumPy\n",
    "# Select the elements from a given matrix\n",
    "# Find the sum of values in a matrix\n",
    "# Calculate the sum of the diagonal elements of a NumPy array\n",
    "# Adding and Subtracting Matrices in Python\n",
    "# Ways to add row/columns in numpy array\n",
    "# Matrix Multiplication in NumPy\n",
    "# Get the eigen values of a matrix\n",
    "# How to Calculate the determinant of a matrix using NumPy?\n",
    "# How to inverse a matrix using NumPy\n",
    "# How to count the frequency of unique values in NumPy array?\n",
    "# Multiply matrices of complex numbers using NumPy in Python\n",
    "# Compute the outer product of two given vectors using NumPy in Python\n",
    "# Calculate inner, outer, and cross products of matrices and vectors using NumPy\n",
    "# Compute the covariance matrix of two given NumPy arrays\n",
    "# Convert covariance matrix to correlation matrix using Python\n",
    "# Compute the Kronecker product of two mulitdimension NumPy arrays\n",
    "# Convert the matrix into a list"
   ]
  },
  {
   "cell_type": "markdown",
   "id": "49845329",
   "metadata": {},
   "source": [
    "# NumPy Indexing Imp"
   ]
  },
  {
   "cell_type": "code",
   "execution_count": null,
   "id": "ffb16f07",
   "metadata": {},
   "outputs": [],
   "source": [
    "# Replace NumPy array elements that doesn’t satisfy the given condition\n",
    "# Return the indices of elements where the given condition is satisfied\n",
    "# Replace NaN values with average of columns\n",
    "# Replace negative value with zero in numpy array\n",
    "# How to get values of an NumPy array at certain index positions?\n",
    "# Find indices of elements equal to zero in a NumPy array\n",
    "# How to Remove columns in Numpy array that contains non-numeric values?\n",
    "# How to access different rows of a multidimensional NumPy array?\n",
    "# Get row numbers of NumPy array having element larger than X\n",
    "# Get filled the diagonals of NumPy array\n",
    "# Check elements present in the NumPy array\n",
    "# Combined array index by index"
   ]
  },
  {
   "cell_type": "markdown",
   "id": "0fcc2e33",
   "metadata": {},
   "source": [
    "# NumPy Linear Algebra"
   ]
  },
  {
   "cell_type": "code",
   "execution_count": null,
   "id": "cebb9884",
   "metadata": {},
   "outputs": [],
   "source": [
    "# Find a matrix or vector norm using NumPy\n",
    "# Calculate the QR decomposition of a given matrix using NumPy\n",
    "# Compute the condition number of a given matrix using NumPy\n",
    "# Compute the eigenvalues and right eigenvectors of a given square array using NumPy?\n",
    "# Calculate the Euclidean distance using NumPy"
   ]
  },
  {
   "cell_type": "markdown",
   "id": "f64f73c2",
   "metadata": {},
   "source": [
    "# NumPy Random Imp"
   ]
  },
  {
   "cell_type": "code",
   "execution_count": null,
   "id": "81907129",
   "metadata": {},
   "outputs": [],
   "source": [
    "# Create a Numpy array with random values\n",
    "# How to choose elements from the list with different probability using NumPy?\n",
    "# How to get weighted random choice in Python?\n",
    "# Generate Random Numbers From The Uniform Distribution using NumPy\n",
    "# Get Random Elements form geometric distribution\n",
    "# Get Random elements from Laplace distribution\n",
    "# Return a Matrix of random values from a uniform distribution\n",
    "# Return a Matrix of random values from a Gaussian distribution"
   ]
  },
  {
   "cell_type": "markdown",
   "id": "414c89d8",
   "metadata": {},
   "source": [
    "# NumPy Sorting and Searching Imp"
   ]
  },
  {
   "cell_type": "code",
   "execution_count": null,
   "id": "7818366b",
   "metadata": {},
   "outputs": [],
   "source": [
    "# How to get the indices of the sorted array using NumPy in Python?\n",
    "# Finding the k smallest values of a NumPy array\n",
    "# How to get the n-largest values of an array using NumPy?\n",
    "# Sort the values in a matrix\n",
    "# Filter out integers from float numpy array\n",
    "# Find the indices into a sorted array"
   ]
  },
  {
   "cell_type": "markdown",
   "id": "a3930927",
   "metadata": {},
   "source": [
    "# Polynomial"
   ]
  },
  {
   "cell_type": "code",
   "execution_count": 100,
   "id": "18a52926",
   "metadata": {},
   "outputs": [],
   "source": [
    "# Define a polynomial function\n",
    "# How to add one polynomial to another using NumPy in Python?\n",
    "# How to subtract one polynomial to another using NumPy in Python?\n",
    "# How to multiply a polynomial to another using NumPy in Python?\n",
    "# How to divide a polynomial to another using NumPy in Python?\n",
    "# Find the roots of the polynomials using NumPy\n",
    "# Evaluate a 2-D polynomial series on the Cartesian product\n",
    "# Evaluate a 3-D polynomial series on the Cartesian product"
   ]
  },
  {
   "cell_type": "markdown",
   "id": "a4b36422",
   "metadata": {},
   "source": [
    "#  NumPy Strings"
   ]
  },
  {
   "cell_type": "code",
   "execution_count": 101,
   "id": "63d7efbc",
   "metadata": {},
   "outputs": [],
   "source": [
    "# Repeat all the elements of a NumPy array of strings\n",
    "# How to split the element of a given NumPy array with spaces?\n",
    "# How to insert a space between characters of all the elements of a given NumPy array?\n",
    "# Find the length of each string element in the Numpy array\n",
    "# Swap the case of an array of string\n",
    "# Change the case to uppercase of elements of an array\n",
    "# Change the case to lowercase of elements of an array\n",
    "# Join String by a separator\n",
    "# Check if two same shaped string arrayss one by one\n",
    "# Count the number of substrings in an array\n",
    "# Find the lowest index of the substring in an array\n",
    "# Get the boolean array when values end with a particular character"
   ]
  },
  {
   "cell_type": "markdown",
   "id": "4bd4c80e",
   "metadata": {},
   "source": [
    "# NumPy"
   ]
  },
  {
   "cell_type": "code",
   "execution_count": null,
   "id": "0c33bf82",
   "metadata": {},
   "outputs": [],
   "source": [
    "# Different ways to convert a Python dictionary to a NumPy array\n",
    "# How to convert a list and tuple into NumPy arrays?\n",
    "# Ways to convert array of strings to array of floats\n",
    "# Convert a NumPy array into a csv file\n",
    "# How to Convert an image to NumPy array and save it to CSV file using Python?\n",
    "# How to save a NumPy array to a text file?\n",
    "# Load data from a text file\n",
    "# Plot line graph from NumPy array\n",
    "# Create Histogram using NumPy"
   ]
  },
  {
   "cell_type": "code",
   "execution_count": null,
   "id": "7bd9af91",
   "metadata": {},
   "outputs": [],
   "source": []
  },
  {
   "cell_type": "code",
   "execution_count": null,
   "id": "ffa63862",
   "metadata": {},
   "outputs": [],
   "source": []
  },
  {
   "cell_type": "code",
   "execution_count": null,
   "id": "415f72d7",
   "metadata": {},
   "outputs": [],
   "source": []
  },
  {
   "cell_type": "code",
   "execution_count": null,
   "id": "ff6068a9",
   "metadata": {},
   "outputs": [],
   "source": []
  },
  {
   "cell_type": "code",
   "execution_count": null,
   "id": "108def89",
   "metadata": {},
   "outputs": [],
   "source": []
  },
  {
   "cell_type": "code",
   "execution_count": null,
   "id": "8ec62c66",
   "metadata": {},
   "outputs": [],
   "source": []
  }
 ],
 "metadata": {
  "kernelspec": {
   "display_name": "Python 3 (ipykernel)",
   "language": "python",
   "name": "python3"
  },
  "language_info": {
   "codemirror_mode": {
    "name": "ipython",
    "version": 3
   },
   "file_extension": ".py",
   "mimetype": "text/x-python",
   "name": "python",
   "nbconvert_exporter": "python",
   "pygments_lexer": "ipython3",
   "version": "3.11.4"
  }
 },
 "nbformat": 4,
 "nbformat_minor": 5
}
