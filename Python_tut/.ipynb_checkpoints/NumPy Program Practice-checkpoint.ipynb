{
 "cells": [
  {
   "cell_type": "code",
   "execution_count": 1,
   "id": "40b990ab",
   "metadata": {},
   "outputs": [],
   "source": [
    "# NumPy Mathematics Imp - 1\n",
    "# NumPy Statistics Imp - 2\n",
    "# NumPy Sorting and Searching Imp -3"
   ]
  },
  {
   "cell_type": "markdown",
   "id": "828e318b",
   "metadata": {},
   "source": [
    "# NumPy Statistics Imp"
   ]
  },
  {
   "cell_type": "code",
   "execution_count": 2,
   "id": "a5e66e5f",
   "metadata": {},
   "outputs": [],
   "source": [
    "# Compute the median of the flattened NumPy array\n",
    "# Find Mean of a List of Numpy Array\n",
    "# Calculate the mean of array ignoring the NaN value\n",
    "# Get the mean value from given matrix\n",
    "# Compute the variance of the NumPy array\n",
    "# Compute the standard deviation of the NumPy array\n",
    "# Calculate the mean across dimension in a 2D NumPy array"
   ]
  },
  {
   "cell_type": "code",
   "execution_count": 3,
   "id": "8152680c",
   "metadata": {},
   "outputs": [
    {
     "name": "stdout",
     "output_type": "stream",
     "text": [
      "The array is  [1 2 3 4 5 6 7 8 9]\n",
      "The median of array is  5.0\n"
     ]
    }
   ],
   "source": [
    "# Compute the median of the flattened NumPy array\n",
    "import numpy as np\n",
    "arr = np.array([1,2,3,4,5,6,7,8,9])\n",
    "print(\"The array is \", arr)\n",
    "median_arr = np.median(arr)\n",
    "print(\"The median of array is \", median_arr)"
   ]
  },
  {
   "cell_type": "code",
   "execution_count": 4,
   "id": "5d08484f",
   "metadata": {},
   "outputs": [
    {
     "name": "stdout",
     "output_type": "stream",
     "text": [
      "The array is  [1 2 3 4 5 6 7 8]\n",
      "The mean is  4.5\n"
     ]
    }
   ],
   "source": [
    "# Find Mean of a List of Numpy Array\n",
    "import numpy as np \n",
    "arr1 = np.array([1,2,3,4,5,6,7,8])\n",
    "print(\"The array is \", arr1)\n",
    "mean_arr1 = np.mean(arr1)\n",
    "print(\"The mean is \", mean_arr1)"
   ]
  },
  {
   "cell_type": "code",
   "execution_count": 5,
   "id": "f29ea3ce",
   "metadata": {},
   "outputs": [
    {
     "name": "stdout",
     "output_type": "stream",
     "text": [
      "The array is  [ 1.  2.  3.  4.  5. nan  6.  7.  8.]\n",
      "4.5\n"
     ]
    }
   ],
   "source": [
    "# Calculate the mean of array ignoring the NaN value\n",
    "import numpy as np \n",
    "mean_nan = np.array([1,2,3,4,5,np.nan,6,7,8])\n",
    "print(\"The array is \", mean_nan)\n",
    "mean_nan1 = np.nanmean(mean_nan) # Compute the arithmetic mean along the specified axis, ignoring NaNs\n",
    "print(mean_nan1)"
   ]
  },
  {
   "cell_type": "code",
   "execution_count": 6,
   "id": "10932644",
   "metadata": {},
   "outputs": [
    {
     "name": "stdout",
     "output_type": "stream",
     "text": [
      "The array is  [ 1  2  3  9  2  3  4 10  5  6  7  8]\n",
      "5.0\n"
     ]
    }
   ],
   "source": [
    "# Get the mean value from given matrix\n",
    "mat = np.array([[1,2,3,9],[2,3,4,10],[5,6,7,8]])\n",
    "mat_arr = mat.flatten()\n",
    "print(\"The array is \", mat_arr)\n",
    "mat_mean= np.mean(mat_arr)\n",
    "print(mat_mean)"
   ]
  },
  {
   "cell_type": "code",
   "execution_count": 7,
   "id": "590c2fb6",
   "metadata": {},
   "outputs": [
    {
     "name": "stdout",
     "output_type": "stream",
     "text": [
      "5.25\n"
     ]
    }
   ],
   "source": [
    "# Compute the variance of the NumPy array\n",
    "import numpy as np \n",
    "var_arr = np.array([1,2,3,4,5,6,7,8])\n",
    "var1 = np.var(var_arr)\n",
    "print(var1)"
   ]
  },
  {
   "cell_type": "code",
   "execution_count": 8,
   "id": "a0959ed2",
   "metadata": {},
   "outputs": [
    {
     "name": "stdout",
     "output_type": "stream",
     "text": [
      "18.666666666666668\n"
     ]
    }
   ],
   "source": [
    "import numpy as np \n",
    "var_arr1 = np.arange(15)\n",
    "var2 = np.var(var_arr1)\n",
    "print(var2)"
   ]
  },
  {
   "cell_type": "code",
   "execution_count": 9,
   "id": "8d759b73",
   "metadata": {},
   "outputs": [
    {
     "name": "stdout",
     "output_type": "stream",
     "text": [
      "4.320493798938574\n"
     ]
    }
   ],
   "source": [
    "# Compute the standard deviation of the NumPy array\n",
    "import numpy as np \n",
    "std_dev1 = np.arange(15)\n",
    "standard_deviation = np.std(std_dev1)\n",
    "print(standard_deviation)"
   ]
  },
  {
   "cell_type": "code",
   "execution_count": 10,
   "id": "ee813b3e",
   "metadata": {
    "scrolled": true
   },
   "outputs": [
    {
     "name": "stdout",
     "output_type": "stream",
     "text": [
      "The mean of row is [2. 5. 8.]\n",
      "The mean of col is  [4. 5. 6.]\n"
     ]
    }
   ],
   "source": [
    "# Calculate the mean across dimension in a 2D NumPy array\n",
    "import numpy as np\n",
    "matrix_mean = np.array([[1,2,3],[4,5,6],[7,8,9]])\n",
    "row_mean = np.mean(matrix_mean,axis =1)\n",
    "row1_mean= row_mean[0::]\n",
    "print(\"The mean of row is\", row1_mean)\n",
    "column_mean = np.mean(matrix_mean,axis=0)\n",
    "col1_mean= column_mean[0::]\n",
    "print(\"The mean of col is \", col1_mean)"
   ]
  },
  {
   "cell_type": "markdown",
   "id": "003aa1a9",
   "metadata": {},
   "source": [
    "# NumPy Mathematics Imp"
   ]
  },
  {
   "cell_type": "code",
   "execution_count": 11,
   "id": "bc59405a",
   "metadata": {},
   "outputs": [],
   "source": [
    "# How to get element-wise true division of an array using Numpy?\n",
    "# How to calculate the element-wise absolute value of NumPy array?\n",
    "# Compute the negative of the NumPy array\n",
    "# Multiply 2d numpy array corresponding to 1d array\n",
    "# Computes the inner product of two arrays\n",
    "# Compute the nth percentile of the NumPy array\n",
    "# Calculate the n-th order discrete difference along the given axis\n",
    "# Calculate the sum of all columns in a 2D NumPy array\n",
    "# Calculate average values of two given NumPy arrays\n",
    "# Determine the positive square-root of an array"
   ]
  },
  {
   "cell_type": "code",
   "execution_count": 12,
   "id": "e8f7ed7a",
   "metadata": {},
   "outputs": [
    {
     "name": "stdout",
     "output_type": "stream",
     "text": [
      "[0.         0.33333333 0.66666667 1.         1.33333333 1.66666667\n",
      " 2.         2.33333333 2.66666667 3.        ]\n"
     ]
    }
   ],
   "source": [
    "# How to get element-wise true division of an array using Numpy?\n",
    "import numpy as np\n",
    "div = np.arange(10)\n",
    "division = np.true_divide(div,3)   # it will perform the division in the array.\n",
    "print(division)"
   ]
  },
  {
   "cell_type": "code",
   "execution_count": 13,
   "id": "b29ab06b",
   "metadata": {},
   "outputs": [
    {
     "name": "stdout",
     "output_type": "stream",
     "text": [
      "[ 1  2  3  4  5  6  7  8  9 10]\n"
     ]
    }
   ],
   "source": [
    "# How to calculate the element-wise absolute value of NumPy array?\n",
    "import numpy as np\n",
    "absolute_array = np.array([1,2,-3,-4,-5,-6,-7,-8,9,10])\n",
    "absolute_ele = np.absolute(absolute_array)      # It will give the absolute value. we can also use fabs function to get this.\n",
    "print(absolute_ele)"
   ]
  },
  {
   "cell_type": "code",
   "execution_count": 14,
   "id": "657b5ee0",
   "metadata": {},
   "outputs": [
    {
     "name": "stdout",
     "output_type": "stream",
     "text": [
      "[-1 -2 -3 -4 -5]\n"
     ]
    }
   ],
   "source": [
    "# Compute the negative of the NumPy array\n",
    "# It will give the negative of a given array.\n",
    "import numpy as np\n",
    "negative_array = np.array([1,2,3,4,5])\n",
    "negation_array = np.negative(negative_array)\n",
    "print(negation_array)"
   ]
  },
  {
   "cell_type": "code",
   "execution_count": 15,
   "id": "aea9a723",
   "metadata": {},
   "outputs": [
    {
     "name": "stdout",
     "output_type": "stream",
     "text": [
      "[[1 2 3]\n",
      " [4 5 6]]\n",
      "[1 2 3]\n",
      "[[ 1  4  9]\n",
      " [ 4 10 18]]\n"
     ]
    }
   ],
   "source": [
    "# Multiply 2d numpy array corresponding to 1d array\n",
    "import numpy as np\n",
    "twodarray = np.array([[1,2,3],[4,5,6]])\n",
    "onedarray = np.array([1,2,3])\n",
    "print(twodarray)\n",
    "print(onedarray)\n",
    "multiplication = np.multiply(twodarray,onedarray)\n",
    "print(multiplication)"
   ]
  },
  {
   "cell_type": "code",
   "execution_count": 16,
   "id": "58496e70",
   "metadata": {},
   "outputs": [
    {
     "name": "stdout",
     "output_type": "stream",
     "text": [
      "70\n"
     ]
    }
   ],
   "source": [
    "# Computes the inner product of two arrays.\n",
    "# It will give the product of inner arrays.\n",
    "import numpy as np\n",
    "arr1 = np.array([1,2,3,4])\n",
    "arr2 = np.array([5,6,7,8])\n",
    "inner_result = np.inner(arr1,arr2)\n",
    "print(inner_result)"
   ]
  },
  {
   "cell_type": "code",
   "execution_count": 17,
   "id": "fc99e974",
   "metadata": {},
   "outputs": [
    {
     "name": "stdout",
     "output_type": "stream",
     "text": [
      "The 25 percentile is 3.25 and 75 percentile is 7.75\n"
     ]
    }
   ],
   "source": [
    "# Compute the nth percentile of the NumPy array\n",
    "import numpy as np\n",
    "percentile_array = np.array([1,2,3,4,5,6,7,8,9,10])\n",
    "percentile1,percentile2= np.percentile(percentile_array,[25,75])\n",
    "print(\"The 25 percentile is {} and 75 percentile is {}\".format(percentile1,percentile2))"
   ]
  },
  {
   "cell_type": "code",
   "execution_count": 18,
   "id": "d458e315",
   "metadata": {},
   "outputs": [
    {
     "name": "stdout",
     "output_type": "stream",
     "text": [
      "[1 1 1 1]\n"
     ]
    }
   ],
   "source": [
    "# Calculate the n-th order discrete difference along the given axis\n",
    "# Please visit the concept\n",
    "import numpy as np \n",
    "discrete_diff = np.array([1,2,3,4,5])\n",
    "d_diff = np.diff(discrete_diff)\n",
    "print(d_diff)"
   ]
  },
  {
   "cell_type": "code",
   "execution_count": 19,
   "id": "8dbd9dfc",
   "metadata": {},
   "outputs": [
    {
     "name": "stdout",
     "output_type": "stream",
     "text": [
      "[2 4 6]\n"
     ]
    }
   ],
   "source": [
    "# Calculate the sum of all columns in a 2D NumPy array\n",
    "# column_sum = np.sum(array_column,axis=0) here if we take axis = 0 it will sum all column , if we take axis=1 then\n",
    "# it will add all columns\n",
    "import numpy as np\n",
    "array_column = np.array([[1,2,3],[1,2,3]])\n",
    "column_sum = np.sum(array_column,axis=0)\n",
    "print(column_sum)"
   ]
  },
  {
   "cell_type": "code",
   "execution_count": 20,
   "id": "ce25f8bd",
   "metadata": {},
   "outputs": [
    {
     "name": "stdout",
     "output_type": "stream",
     "text": [
      "3.0\n"
     ]
    }
   ],
   "source": [
    "# Calculate average values of two given NumPy arrays\n",
    "import numpy as np\n",
    "array1 = np.array([1,2,3,4,5])\n",
    "avg = np.average(array1)\n",
    "print(avg)"
   ]
  },
  {
   "cell_type": "code",
   "execution_count": 21,
   "id": "86f2e2fc",
   "metadata": {},
   "outputs": [
    {
     "name": "stdout",
     "output_type": "stream",
     "text": [
      "[5. 6. 7.]\n"
     ]
    }
   ],
   "source": [
    "# Determine the positive square-root of an array\n",
    "array2 = np.array([25,36,49])\n",
    "square_root = np.sqrt(array2)\n",
    "print(square_root)"
   ]
  },
  {
   "cell_type": "markdown",
   "id": "ce609f8a",
   "metadata": {},
   "source": [
    "# NumPy Sorting and Searching Imp"
   ]
  },
  {
   "cell_type": "code",
   "execution_count": 22,
   "id": "a476c132",
   "metadata": {},
   "outputs": [],
   "source": [
    "# Finding the k smallest values of a NumPy array\n",
    "# How to get the n-largest values of an array using NumPy?"
   ]
  },
  {
   "cell_type": "code",
   "execution_count": 23,
   "id": "f7502aff",
   "metadata": {},
   "outputs": [
    {
     "name": "stdout",
     "output_type": "stream",
     "text": [
      "1\n"
     ]
    }
   ],
   "source": [
    "# Finding the k smallest values of a NumPy array\n",
    "import numpy as np \n",
    "minimum_array = np.array([4,2,1,5,3,6,8,9])\n",
    "mini_array = np.sort(minimum_array)\n",
    "mini_value = mini_array[0]\n",
    "print(mini_value)"
   ]
  },
  {
   "cell_type": "code",
   "execution_count": 24,
   "id": "9fbd885f",
   "metadata": {},
   "outputs": [
    {
     "name": "stdout",
     "output_type": "stream",
     "text": [
      "9\n"
     ]
    }
   ],
   "source": [
    "# How to get the n-largest values of an array using NumPy?\n",
    "import numpy as np \n",
    "large_array = np.array([4,2,1,5,3,6,8,9])\n",
    "l_array = np.sort(large_array)\n",
    "max_value = l_array[-1]\n",
    "print(max_value)"
   ]
  },
  {
   "cell_type": "code",
   "execution_count": null,
   "id": "255ab4a9",
   "metadata": {},
   "outputs": [],
   "source": []
  },
  {
   "cell_type": "code",
   "execution_count": null,
   "id": "9495908b",
   "metadata": {},
   "outputs": [],
   "source": []
  },
  {
   "cell_type": "code",
   "execution_count": null,
   "id": "4e73b7be",
   "metadata": {},
   "outputs": [],
   "source": []
  },
  {
   "cell_type": "code",
   "execution_count": null,
   "id": "cf00eed7",
   "metadata": {},
   "outputs": [],
   "source": []
  },
  {
   "cell_type": "code",
   "execution_count": null,
   "id": "418592d0",
   "metadata": {},
   "outputs": [],
   "source": []
  },
  {
   "cell_type": "code",
   "execution_count": null,
   "id": "dd35acfb",
   "metadata": {},
   "outputs": [],
   "source": [
    "\n"
   ]
  }
 ],
 "metadata": {
  "kernelspec": {
   "display_name": "Python 3 (ipykernel)",
   "language": "python",
   "name": "python3"
  },
  "language_info": {
   "codemirror_mode": {
    "name": "ipython",
    "version": 3
   },
   "file_extension": ".py",
   "mimetype": "text/x-python",
   "name": "python",
   "nbconvert_exporter": "python",
   "pygments_lexer": "ipython3",
   "version": "3.11.4"
  }
 },
 "nbformat": 4,
 "nbformat_minor": 5
}
