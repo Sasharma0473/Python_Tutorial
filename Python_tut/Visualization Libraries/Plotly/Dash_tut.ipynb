{
 "cells": [
  {
   "cell_type": "code",
   "execution_count": 2,
   "id": "a4f01daf",
   "metadata": {},
   "outputs": [],
   "source": [
    "import pandas as pd\n",
    "import numpy as np\n",
    "import plotly.graph_objs as go\n",
    "import  plotly.express as px\n",
    "import dash\n",
    "import dash_html_components as html\n",
    "import dash_core_components as dcc"
   ]
  },
  {
   "cell_type": "code",
   "execution_count": 3,
   "id": "6fb5e460",
   "metadata": {},
   "outputs": [
    {
     "data": {
      "text/html": [
       "<div>\n",
       "<style scoped>\n",
       "    .dataframe tbody tr th:only-of-type {\n",
       "        vertical-align: middle;\n",
       "    }\n",
       "\n",
       "    .dataframe tbody tr th {\n",
       "        vertical-align: top;\n",
       "    }\n",
       "\n",
       "    .dataframe thead th {\n",
       "        text-align: right;\n",
       "    }\n",
       "</style>\n",
       "<table border=\"1\" class=\"dataframe\">\n",
       "  <thead>\n",
       "    <tr style=\"text-align: right;\">\n",
       "      <th></th>\n",
       "      <th>country</th>\n",
       "      <th>continent</th>\n",
       "      <th>year</th>\n",
       "      <th>lifeExp</th>\n",
       "      <th>pop</th>\n",
       "      <th>gdpPercap</th>\n",
       "      <th>iso_alpha</th>\n",
       "      <th>iso_num</th>\n",
       "    </tr>\n",
       "  </thead>\n",
       "  <tbody>\n",
       "    <tr>\n",
       "      <th>479</th>\n",
       "      <td>El Salvador</td>\n",
       "      <td>Americas</td>\n",
       "      <td>2007</td>\n",
       "      <td>71.878</td>\n",
       "      <td>6939688</td>\n",
       "      <td>5728.353514</td>\n",
       "      <td>SLV</td>\n",
       "      <td>222</td>\n",
       "    </tr>\n",
       "    <tr>\n",
       "      <th>378</th>\n",
       "      <td>Croatia</td>\n",
       "      <td>Europe</td>\n",
       "      <td>1982</td>\n",
       "      <td>70.460</td>\n",
       "      <td>4413368</td>\n",
       "      <td>13221.821840</td>\n",
       "      <td>HRV</td>\n",
       "      <td>191</td>\n",
       "    </tr>\n",
       "    <tr>\n",
       "      <th>790</th>\n",
       "      <td>Jamaica</td>\n",
       "      <td>Americas</td>\n",
       "      <td>2002</td>\n",
       "      <td>72.047</td>\n",
       "      <td>2664659</td>\n",
       "      <td>6994.774861</td>\n",
       "      <td>JAM</td>\n",
       "      <td>388</td>\n",
       "    </tr>\n",
       "    <tr>\n",
       "      <th>967</th>\n",
       "      <td>Mauritania</td>\n",
       "      <td>Africa</td>\n",
       "      <td>1987</td>\n",
       "      <td>56.145</td>\n",
       "      <td>1841240</td>\n",
       "      <td>1421.603576</td>\n",
       "      <td>MRT</td>\n",
       "      <td>478</td>\n",
       "    </tr>\n",
       "    <tr>\n",
       "      <th>1430</th>\n",
       "      <td>Sri Lanka</td>\n",
       "      <td>Asia</td>\n",
       "      <td>1962</td>\n",
       "      <td>62.192</td>\n",
       "      <td>10421936</td>\n",
       "      <td>1074.471960</td>\n",
       "      <td>LKA</td>\n",
       "      <td>144</td>\n",
       "    </tr>\n",
       "  </tbody>\n",
       "</table>\n",
       "</div>"
      ],
      "text/plain": [
       "          country continent  year  lifeExp       pop     gdpPercap iso_alpha  \\\n",
       "479   El Salvador  Americas  2007   71.878   6939688   5728.353514       SLV   \n",
       "378       Croatia    Europe  1982   70.460   4413368  13221.821840       HRV   \n",
       "790       Jamaica  Americas  2002   72.047   2664659   6994.774861       JAM   \n",
       "967    Mauritania    Africa  1987   56.145   1841240   1421.603576       MRT   \n",
       "1430    Sri Lanka      Asia  1962   62.192  10421936   1074.471960       LKA   \n",
       "\n",
       "      iso_num  \n",
       "479       222  \n",
       "378       191  \n",
       "790       388  \n",
       "967       478  \n",
       "1430      144  "
      ]
     },
     "execution_count": 3,
     "metadata": {},
     "output_type": "execute_result"
    }
   ],
   "source": [
    "gap_data = px.data.gapminder()\n",
    "gap_data.sample(5)"
   ]
  },
  {
   "cell_type": "code",
   "execution_count": 4,
   "id": "069228af",
   "metadata": {},
   "outputs": [
    {
     "data": {
      "text/html": [
       "\n",
       "        <iframe\n",
       "            width=\"100%\"\n",
       "            height=\"650\"\n",
       "            src=\"http://127.0.0.1:8050/\"\n",
       "            frameborder=\"0\"\n",
       "            allowfullscreen\n",
       "            \n",
       "        ></iframe>\n",
       "        "
      ],
      "text/plain": [
       "<IPython.lib.display.IFrame at 0x248b0c54f50>"
      ]
     },
     "metadata": {},
     "output_type": "display_data"
    }
   ],
   "source": [
    "app = dash.Dash()\n",
    "app.layout = html.H1(children =\"My First DashBoard\",style={\"color\":\"Black\",\"text-align\":\"center\"})\n",
    "if __name__ == '__main__':\n",
    "    app.run_server()"
   ]
  },
  {
   "cell_type": "code",
   "execution_count": 5,
   "id": "1cf62e3d",
   "metadata": {},
   "outputs": [
    {
     "data": {
      "text/html": [
       "\n",
       "        <iframe\n",
       "            width=\"100%\"\n",
       "            height=\"650\"\n",
       "            src=\"http://127.0.0.1:8050/\"\n",
       "            frameborder=\"0\"\n",
       "            allowfullscreen\n",
       "            \n",
       "        ></iframe>\n",
       "        "
      ],
      "text/plain": [
       "<IPython.lib.display.IFrame at 0x248b0c479d0>"
      ]
     },
     "metadata": {},
     "output_type": "display_data"
    }
   ],
   "source": [
    "app1 = dash.Dash()\n",
    "app1.layout = html.Div([\n",
    "    html.Div(children = [\n",
    "        html.H1(\"My First DashBoard\", style={\"color\":\"red\",'text-align':'center'})\n",
    "    ] ,style={'border':'1px black solid','float':'left','width':'100%','height':'80px'}),\n",
    "    html.Div(style={'border':'1px black solid','float':'left','width':'49.7%','height':'350px'}),\n",
    "    html.Div(style={'border':'1px black solid','float':'left','width':'49.7%','height':'350px'})\n",
    "])\n",
    "\n",
    "if __name__ == '__main__':\n",
    "    app1.run_server()"
   ]
  },
  {
   "cell_type": "code",
   "execution_count": 6,
   "id": "42ab630a",
   "metadata": {},
   "outputs": [
    {
     "data": {
      "text/html": [
       "\n",
       "        <iframe\n",
       "            width=\"100%\"\n",
       "            height=\"650\"\n",
       "            src=\"http://127.0.0.1:8050/\"\n",
       "            frameborder=\"0\"\n",
       "            allowfullscreen\n",
       "            \n",
       "        ></iframe>\n",
       "        "
      ],
      "text/plain": [
       "<IPython.lib.display.IFrame at 0x248b0ea2f50>"
      ]
     },
     "metadata": {},
     "output_type": "display_data"
    }
   ],
   "source": [
    "app2 = dash.Dash()\n",
    "app2.layout = html.Div([\n",
    "    html.Div(children = [\n",
    "        html.H1(\"My First DashBoard\", style={\"color\":\"black\",'text-align':'center'})\n",
    "    ] ,style={'border':'1px black solid','float':'left','width':'100%','height':'80px'}),\n",
    "    html.Div(children = [\n",
    "        dcc.Graph(id = 'scatter-plot',figure={'data':[go.Scatter(x=gap_data['pop'],\n",
    "                                                                 y = gap_data['gdpPercap'],mode= 'markers')],\n",
    "                                             \"layout\":go.Layout(title='Scatter-Plot',\n",
    "                                                                xaxis = {\"title\":\"population\"},\n",
    "                                                               yaxis = {\"title\":\"GDP\"} )})\n",
    "    ],style={'border':'1px black solid','float':'left','width':'49.7%','height':'500px'}),\n",
    "    html.Div(children = [\n",
    "        dcc.Graph(id = 'box-plot', figure= {'data':[go.Box(x=gap_data['gdpPercap'])],\n",
    "                                       \"layout\":go.Layout(title = \"Box-Plot\")})\n",
    "    ],style={'border':'1px black solid','float':'left','width':'49.7%','height':'500px'})\n",
    "])\n",
    "\n",
    "if __name__ == '__main__':\n",
    "    app2.run_server()"
   ]
  },
  {
   "cell_type": "code",
   "execution_count": null,
   "id": "af4d50bf",
   "metadata": {},
   "outputs": [],
   "source": []
  }
 ],
 "metadata": {
  "kernelspec": {
   "display_name": "Python 3 (ipykernel)",
   "language": "python",
   "name": "python3"
  },
  "language_info": {
   "codemirror_mode": {
    "name": "ipython",
    "version": 3
   },
   "file_extension": ".py",
   "mimetype": "text/x-python",
   "name": "python",
   "nbconvert_exporter": "python",
   "pygments_lexer": "ipython3",
   "version": "3.11.4"
  }
 },
 "nbformat": 4,
 "nbformat_minor": 5
}
