{
 "cells": [
  {
   "cell_type": "code",
   "execution_count": 1,
   "id": "a4f01daf",
   "metadata": {},
   "outputs": [
    {
     "name": "stderr",
     "output_type": "stream",
     "text": [
      "C:\\Users\\sasha\\AppData\\Local\\Temp\\ipykernel_12984\\2847859867.py:6: UserWarning: \n",
      "The dash_html_components package is deprecated. Please replace\n",
      "`import dash_html_components as html` with `from dash import html`\n",
      "  import dash_html_components as html\n",
      "C:\\Users\\sasha\\AppData\\Local\\Temp\\ipykernel_12984\\2847859867.py:7: UserWarning: \n",
      "The dash_core_components package is deprecated. Please replace\n",
      "`import dash_core_components as dcc` with `from dash import dcc`\n",
      "  import dash_core_components as dcc\n"
     ]
    }
   ],
   "source": [
    "import pandas as pd\n",
    "import numpy as np\n",
    "import plotly.graph_objs as go\n",
    "import  plotly.express as px\n",
    "import dash\n",
    "import dash_html_components as html\n",
    "import dash_core_components as dcc"
   ]
  },
  {
   "cell_type": "code",
   "execution_count": 2,
   "id": "6fb5e460",
   "metadata": {},
   "outputs": [
    {
     "data": {
      "text/html": [
       "<div>\n",
       "<style scoped>\n",
       "    .dataframe tbody tr th:only-of-type {\n",
       "        vertical-align: middle;\n",
       "    }\n",
       "\n",
       "    .dataframe tbody tr th {\n",
       "        vertical-align: top;\n",
       "    }\n",
       "\n",
       "    .dataframe thead th {\n",
       "        text-align: right;\n",
       "    }\n",
       "</style>\n",
       "<table border=\"1\" class=\"dataframe\">\n",
       "  <thead>\n",
       "    <tr style=\"text-align: right;\">\n",
       "      <th></th>\n",
       "      <th>country</th>\n",
       "      <th>continent</th>\n",
       "      <th>year</th>\n",
       "      <th>lifeExp</th>\n",
       "      <th>pop</th>\n",
       "      <th>gdpPercap</th>\n",
       "      <th>iso_alpha</th>\n",
       "      <th>iso_num</th>\n",
       "    </tr>\n",
       "  </thead>\n",
       "  <tbody>\n",
       "    <tr>\n",
       "      <th>692</th>\n",
       "      <td>Iceland</td>\n",
       "      <td>Europe</td>\n",
       "      <td>1992</td>\n",
       "      <td>78.770</td>\n",
       "      <td>259012</td>\n",
       "      <td>25144.392010</td>\n",
       "      <td>ISL</td>\n",
       "      <td>352</td>\n",
       "    </tr>\n",
       "    <tr>\n",
       "      <th>979</th>\n",
       "      <td>Mauritius</td>\n",
       "      <td>Africa</td>\n",
       "      <td>1987</td>\n",
       "      <td>68.740</td>\n",
       "      <td>1042663</td>\n",
       "      <td>4783.586903</td>\n",
       "      <td>MUS</td>\n",
       "      <td>480</td>\n",
       "    </tr>\n",
       "    <tr>\n",
       "      <th>905</th>\n",
       "      <td>Libya</td>\n",
       "      <td>Africa</td>\n",
       "      <td>1977</td>\n",
       "      <td>57.442</td>\n",
       "      <td>2721783</td>\n",
       "      <td>21951.211760</td>\n",
       "      <td>LBY</td>\n",
       "      <td>434</td>\n",
       "    </tr>\n",
       "    <tr>\n",
       "      <th>1014</th>\n",
       "      <td>Montenegro</td>\n",
       "      <td>Europe</td>\n",
       "      <td>1982</td>\n",
       "      <td>74.101</td>\n",
       "      <td>562548</td>\n",
       "      <td>11222.587620</td>\n",
       "      <td>MNE</td>\n",
       "      <td>499</td>\n",
       "    </tr>\n",
       "    <tr>\n",
       "      <th>1499</th>\n",
       "      <td>Syria</td>\n",
       "      <td>Asia</td>\n",
       "      <td>2007</td>\n",
       "      <td>74.143</td>\n",
       "      <td>19314747</td>\n",
       "      <td>4184.548089</td>\n",
       "      <td>SYR</td>\n",
       "      <td>760</td>\n",
       "    </tr>\n",
       "  </tbody>\n",
       "</table>\n",
       "</div>"
      ],
      "text/plain": [
       "         country continent  year  lifeExp       pop     gdpPercap iso_alpha  \\\n",
       "692      Iceland    Europe  1992   78.770    259012  25144.392010       ISL   \n",
       "979    Mauritius    Africa  1987   68.740   1042663   4783.586903       MUS   \n",
       "905        Libya    Africa  1977   57.442   2721783  21951.211760       LBY   \n",
       "1014  Montenegro    Europe  1982   74.101    562548  11222.587620       MNE   \n",
       "1499       Syria      Asia  2007   74.143  19314747   4184.548089       SYR   \n",
       "\n",
       "      iso_num  \n",
       "692       352  \n",
       "979       480  \n",
       "905       434  \n",
       "1014      499  \n",
       "1499      760  "
      ]
     },
     "execution_count": 2,
     "metadata": {},
     "output_type": "execute_result"
    }
   ],
   "source": [
    "gap_data = px.data.gapminder()\n",
    "gap_data.sample(5)"
   ]
  },
  {
   "cell_type": "code",
   "execution_count": 3,
   "id": "069228af",
   "metadata": {},
   "outputs": [
    {
     "data": {
      "text/html": [
       "\n",
       "        <iframe\n",
       "            width=\"100%\"\n",
       "            height=\"650\"\n",
       "            src=\"http://127.0.0.1:8050/\"\n",
       "            frameborder=\"0\"\n",
       "            allowfullscreen\n",
       "            \n",
       "        ></iframe>\n",
       "        "
      ],
      "text/plain": [
       "<IPython.lib.display.IFrame at 0x15dec356c90>"
      ]
     },
     "metadata": {},
     "output_type": "display_data"
    }
   ],
   "source": [
    "app = dash.Dash()\n",
    "app.layout = html.H1(children =\"My First DashBoard\",style={\"color\":\"Black\",\"text-align\":\"center\"})\n",
    "if __name__ == '__main__':\n",
    "    app.run_server()"
   ]
  },
  {
   "cell_type": "code",
   "execution_count": 4,
   "id": "1cf62e3d",
   "metadata": {},
   "outputs": [
    {
     "data": {
      "text/html": [
       "\n",
       "        <iframe\n",
       "            width=\"100%\"\n",
       "            height=\"650\"\n",
       "            src=\"http://127.0.0.1:8050/\"\n",
       "            frameborder=\"0\"\n",
       "            allowfullscreen\n",
       "            \n",
       "        ></iframe>\n",
       "        "
      ],
      "text/plain": [
       "<IPython.lib.display.IFrame at 0x15decb0da10>"
      ]
     },
     "metadata": {},
     "output_type": "display_data"
    }
   ],
   "source": [
    "app1 = dash.Dash()\n",
    "app1.layout = html.Div([\n",
    "    html.Div(children = [\n",
    "        html.H1(\"My First DashBoard\", style={\"color\":\"red\",'text-align':'center'})\n",
    "    ] ,style={'border':'1px black solid','float':'left','width':'100%','height':'80px'}),\n",
    "    html.Div(style={'border':'1px black solid','float':'left','width':'49.7%','height':'350px'}),\n",
    "    html.Div(style={'border':'1px black solid','float':'left','width':'49.7%','height':'350px'})\n",
    "])\n",
    "\n",
    "if __name__ == '__main__':\n",
    "    app1.run_server()"
   ]
  },
  {
   "cell_type": "code",
   "execution_count": 5,
   "id": "42ab630a",
   "metadata": {},
   "outputs": [
    {
     "data": {
      "text/html": [
       "\n",
       "        <iframe\n",
       "            width=\"100%\"\n",
       "            height=\"650\"\n",
       "            src=\"http://127.0.0.1:8050/\"\n",
       "            frameborder=\"0\"\n",
       "            allowfullscreen\n",
       "            \n",
       "        ></iframe>\n",
       "        "
      ],
      "text/plain": [
       "<IPython.lib.display.IFrame at 0x15decbaa350>"
      ]
     },
     "metadata": {},
     "output_type": "display_data"
    }
   ],
   "source": [
    "app2 = dash.Dash()\n",
    "app2.layout = html.Div([\n",
    "    html.Div(children = [\n",
    "        html.H1(\"My First DashBoard\", style={\"color\":\"black\",'text-align':'center'})\n",
    "    ] ,style={'border':'1px black solid','float':'left','width':'100%','height':'80px'}),\n",
    "    html.Div(children = [\n",
    "        dcc.Graph(id = 'scatter-plot',figure={'data':[go.Scatter(x=gap_data['pop'],\n",
    "                                                                 y = gap_data['gdpPercap'],mode= 'markers')],\n",
    "                                             \"layout\":go.Layout(title='Scatter-Plot',\n",
    "                                                                xaxis = {\"title\":\"population\"},\n",
    "                                                               yaxis = {\"title\":\"GDP\"} )})\n",
    "    ],style={'border':'1px black solid','float':'left','width':'49.7%','height':'500px'}),\n",
    "    html.Div(children = [\n",
    "        dcc.Graph(id = 'box-plot', figure= {'data':[go.Box(x=gap_data['gdpPercap'])],\n",
    "                                       \"layout\":go.Layout(title = \"Box-Plot\")})\n",
    "    ],style={'border':'1px black solid','float':'left','width':'49.7%','height':'500px'})\n",
    "])\n",
    "\n",
    "if __name__ == '__main__':\n",
    "    app2.run_server()"
   ]
  },
  {
   "cell_type": "code",
   "execution_count": null,
   "id": "af4d50bf",
   "metadata": {},
   "outputs": [],
   "source": []
  }
 ],
 "metadata": {
  "kernelspec": {
   "display_name": "Python 3 (ipykernel)",
   "language": "python",
   "name": "python3"
  },
  "language_info": {
   "codemirror_mode": {
    "name": "ipython",
    "version": 3
   },
   "file_extension": ".py",
   "mimetype": "text/x-python",
   "name": "python",
   "nbconvert_exporter": "python",
   "pygments_lexer": "ipython3",
   "version": "3.11.4"
  }
 },
 "nbformat": 4,
 "nbformat_minor": 5
}
