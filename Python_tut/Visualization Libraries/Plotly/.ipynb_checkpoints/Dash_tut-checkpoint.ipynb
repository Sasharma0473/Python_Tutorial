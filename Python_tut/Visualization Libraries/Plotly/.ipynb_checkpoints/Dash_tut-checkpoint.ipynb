{
 "cells": [
  {
   "cell_type": "code",
   "execution_count": 1,
   "id": "a4f01daf",
   "metadata": {},
   "outputs": [
    {
     "name": "stderr",
     "output_type": "stream",
     "text": [
      "C:\\Users\\sasha\\AppData\\Local\\Temp\\ipykernel_24436\\2847859867.py:6: UserWarning: \n",
      "The dash_html_components package is deprecated. Please replace\n",
      "`import dash_html_components as html` with `from dash import html`\n",
      "  import dash_html_components as html\n",
      "C:\\Users\\sasha\\AppData\\Local\\Temp\\ipykernel_24436\\2847859867.py:7: UserWarning: \n",
      "The dash_core_components package is deprecated. Please replace\n",
      "`import dash_core_components as dcc` with `from dash import dcc`\n",
      "  import dash_core_components as dcc\n"
     ]
    }
   ],
   "source": [
    "import pandas as pd\n",
    "import numpy as np\n",
    "import plotly.graph_objs as go\n",
    "import  plotly.express as px\n",
    "import dash\n",
    "import dash_html_components as html\n",
    "import dash_core_components as dcc"
   ]
  },
  {
   "cell_type": "code",
   "execution_count": 2,
   "id": "6fb5e460",
   "metadata": {},
   "outputs": [
    {
     "data": {
      "text/html": [
       "<div>\n",
       "<style scoped>\n",
       "    .dataframe tbody tr th:only-of-type {\n",
       "        vertical-align: middle;\n",
       "    }\n",
       "\n",
       "    .dataframe tbody tr th {\n",
       "        vertical-align: top;\n",
       "    }\n",
       "\n",
       "    .dataframe thead th {\n",
       "        text-align: right;\n",
       "    }\n",
       "</style>\n",
       "<table border=\"1\" class=\"dataframe\">\n",
       "  <thead>\n",
       "    <tr style=\"text-align: right;\">\n",
       "      <th></th>\n",
       "      <th>country</th>\n",
       "      <th>continent</th>\n",
       "      <th>year</th>\n",
       "      <th>lifeExp</th>\n",
       "      <th>pop</th>\n",
       "      <th>gdpPercap</th>\n",
       "      <th>iso_alpha</th>\n",
       "      <th>iso_num</th>\n",
       "    </tr>\n",
       "  </thead>\n",
       "  <tbody>\n",
       "    <tr>\n",
       "      <th>996</th>\n",
       "      <td>Mongolia</td>\n",
       "      <td>Asia</td>\n",
       "      <td>1952</td>\n",
       "      <td>42.244</td>\n",
       "      <td>800663</td>\n",
       "      <td>786.566857</td>\n",
       "      <td>MNG</td>\n",
       "      <td>496</td>\n",
       "    </tr>\n",
       "    <tr>\n",
       "      <th>946</th>\n",
       "      <td>Malaysia</td>\n",
       "      <td>Asia</td>\n",
       "      <td>2002</td>\n",
       "      <td>73.044</td>\n",
       "      <td>22662365</td>\n",
       "      <td>10206.977940</td>\n",
       "      <td>MYS</td>\n",
       "      <td>458</td>\n",
       "    </tr>\n",
       "    <tr>\n",
       "      <th>569</th>\n",
       "      <td>Germany</td>\n",
       "      <td>Europe</td>\n",
       "      <td>1977</td>\n",
       "      <td>72.500</td>\n",
       "      <td>78160773</td>\n",
       "      <td>20512.921230</td>\n",
       "      <td>DEU</td>\n",
       "      <td>276</td>\n",
       "    </tr>\n",
       "    <tr>\n",
       "      <th>214</th>\n",
       "      <td>Burundi</td>\n",
       "      <td>Africa</td>\n",
       "      <td>2002</td>\n",
       "      <td>47.360</td>\n",
       "      <td>7021078</td>\n",
       "      <td>446.403513</td>\n",
       "      <td>BDI</td>\n",
       "      <td>108</td>\n",
       "    </tr>\n",
       "    <tr>\n",
       "      <th>210</th>\n",
       "      <td>Burundi</td>\n",
       "      <td>Africa</td>\n",
       "      <td>1982</td>\n",
       "      <td>47.471</td>\n",
       "      <td>4580410</td>\n",
       "      <td>559.603231</td>\n",
       "      <td>BDI</td>\n",
       "      <td>108</td>\n",
       "    </tr>\n",
       "  </tbody>\n",
       "</table>\n",
       "</div>"
      ],
      "text/plain": [
       "      country continent  year  lifeExp       pop     gdpPercap iso_alpha  \\\n",
       "996  Mongolia      Asia  1952   42.244    800663    786.566857       MNG   \n",
       "946  Malaysia      Asia  2002   73.044  22662365  10206.977940       MYS   \n",
       "569   Germany    Europe  1977   72.500  78160773  20512.921230       DEU   \n",
       "214   Burundi    Africa  2002   47.360   7021078    446.403513       BDI   \n",
       "210   Burundi    Africa  1982   47.471   4580410    559.603231       BDI   \n",
       "\n",
       "     iso_num  \n",
       "996      496  \n",
       "946      458  \n",
       "569      276  \n",
       "214      108  \n",
       "210      108  "
      ]
     },
     "execution_count": 2,
     "metadata": {},
     "output_type": "execute_result"
    }
   ],
   "source": [
    "gap_data = px.data.gapminder()\n",
    "gap_data.sample(5)"
   ]
  },
  {
   "cell_type": "code",
   "execution_count": 3,
   "id": "069228af",
   "metadata": {},
   "outputs": [
    {
     "data": {
      "text/html": [
       "\n",
       "        <iframe\n",
       "            width=\"100%\"\n",
       "            height=\"650\"\n",
       "            src=\"http://127.0.0.1:8050/\"\n",
       "            frameborder=\"0\"\n",
       "            allowfullscreen\n",
       "            \n",
       "        ></iframe>\n",
       "        "
      ],
      "text/plain": [
       "<IPython.lib.display.IFrame at 0x17b861e69d0>"
      ]
     },
     "metadata": {},
     "output_type": "display_data"
    }
   ],
   "source": [
    "app = dash.Dash()\n",
    "app.layout = html.H1(children =\"My First DashBoard\",style={\"color\":\"Black\",\"text-align\":\"center\"})\n",
    "if __name__ == '__main__':\n",
    "    app.run_server()"
   ]
  },
  {
   "cell_type": "code",
   "execution_count": 6,
   "id": "1cf62e3d",
   "metadata": {},
   "outputs": [
    {
     "data": {
      "text/html": [
       "\n",
       "        <iframe\n",
       "            width=\"100%\"\n",
       "            height=\"650\"\n",
       "            src=\"http://127.0.0.1:8050/\"\n",
       "            frameborder=\"0\"\n",
       "            allowfullscreen\n",
       "            \n",
       "        ></iframe>\n",
       "        "
      ],
      "text/plain": [
       "<IPython.lib.display.IFrame at 0x17b86a6a3d0>"
      ]
     },
     "metadata": {},
     "output_type": "display_data"
    }
   ],
   "source": [
    "app1 = dash.Dash()\n",
    "app1.layout = html.Div([\n",
    "    html.Div(children = [\n",
    "        html.H1(\"My First DashBoard\", style={\"color\":\"red\",'text-align':'center'})\n",
    "    ] ,style={'border':'1px black solid','float':'left','width':'100%','height':'80px'}),\n",
    "    html.Div(style={'border':'1px black solid','float':'left','width':'49.7%','height':'350px'}),\n",
    "    html.Div(style={'border':'1px black solid','float':'left','width':'49.7%','height':'350px'})\n",
    "])\n",
    "\n",
    "if __name__ == '__main__':\n",
    "    app1.run_server()"
   ]
  },
  {
   "cell_type": "code",
   "execution_count": 5,
   "id": "42ab630a",
   "metadata": {},
   "outputs": [
    {
     "data": {
      "text/html": [
       "\n",
       "        <iframe\n",
       "            width=\"100%\"\n",
       "            height=\"650\"\n",
       "            src=\"http://127.0.0.1:8050/\"\n",
       "            frameborder=\"0\"\n",
       "            allowfullscreen\n",
       "            \n",
       "        ></iframe>\n",
       "        "
      ],
      "text/plain": [
       "<IPython.lib.display.IFrame at 0x17b869945d0>"
      ]
     },
     "metadata": {},
     "output_type": "display_data"
    }
   ],
   "source": [
    "app2 = dash.Dash()\n",
    "app2.layout = html.Div([\n",
    "    html.Div(children = [\n",
    "        html.H1(\"My First DashBoard\", style={\"color\":\"black\",'text-align':'center'})\n",
    "    ] ,style={'border':'1px black solid','float':'left','width':'100%','height':'80px'}),\n",
    "    html.Div(children = [\n",
    "        dcc.Graph(id = 'scatter-plot',figure={'data':[go.Scatter(x=gap_data['pop'],\n",
    "                                                                 y = gap_data['gdpPercap'],mode= 'markers')],\n",
    "                                             \"layout\":go.Layout(title='Scatter-Plot',\n",
    "                                                                xaxis = {\"title\":\"population\"},\n",
    "                                                               yaxis = {\"title\":\"GDP\"} )})\n",
    "    ],style={'border':'1px black solid','float':'left','width':'49.7%','height':'500px'}),\n",
    "    html.Div(children = [\n",
    "        dcc.Graph(id = 'box-plot', figure= {'data':[go.Box(x=gap_data['gdpPercap'])],\n",
    "                                       \"layout\":go.Layout(title = \"Box-Plot\")})\n",
    "    ],style={'border':'1px black solid','float':'left','width':'49.7%','height':'500px'})\n",
    "])\n",
    "\n",
    "if __name__ == '__main__':\n",
    "    app2.run_server()"
   ]
  },
  {
   "cell_type": "code",
   "execution_count": null,
   "id": "af4d50bf",
   "metadata": {},
   "outputs": [],
   "source": []
  },
  {
   "cell_type": "code",
   "execution_count": null,
   "id": "2f4a53f9",
   "metadata": {},
   "outputs": [],
   "source": []
  }
 ],
 "metadata": {
  "kernelspec": {
   "display_name": "Python 3 (ipykernel)",
   "language": "python",
   "name": "python3"
  },
  "language_info": {
   "codemirror_mode": {
    "name": "ipython",
    "version": 3
   },
   "file_extension": ".py",
   "mimetype": "text/x-python",
   "name": "python",
   "nbconvert_exporter": "python",
   "pygments_lexer": "ipython3",
   "version": "3.11.4"
  }
 },
 "nbformat": 4,
 "nbformat_minor": 5
}
