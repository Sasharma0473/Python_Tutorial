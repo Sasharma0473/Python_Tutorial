{
 "cells": [
  {
   "cell_type": "markdown",
   "id": "81698366",
   "metadata": {},
   "source": [
    "# Numpy Array VS Python List\n",
    "speed -->> We need numpy array because the python built-in datatypes are too slow.\n",
    "\n",
    "memory \n",
    "\n",
    "because of speed, memory, conviences numpy array is better than python list"
   ]
  },
  {
   "cell_type": "code",
   "execution_count": 1,
   "id": "de97c8fb",
   "metadata": {},
   "outputs": [
    {
     "name": "stdout",
     "output_type": "stream",
     "text": [
      "The time take by python list  2.461367607116699\n"
     ]
    }
   ],
   "source": [
    "# Speed -- in python list.\n",
    "import time\n",
    "a = [i for i in range(0,10000000)]\n",
    "b = [i for i in range(10000000,20000000)]\n",
    "c=[]\n",
    "start = time.time()\n",
    "for i in range(len(a)):\n",
    "    c.append(a[i]+b[i])\n",
    "\n",
    "print(\"The time take by python list \",time.time()-start)\n",
    "# so here it will take 3.093 sec "
   ]
  },
  {
   "cell_type": "code",
   "execution_count": 2,
   "id": "c2a1d4a9",
   "metadata": {},
   "outputs": [
    {
     "name": "stdout",
     "output_type": "stream",
     "text": [
      "The time taken by numpy array  0.16075849533081055\n"
     ]
    }
   ],
   "source": [
    "import numpy as np\n",
    "a = np.arange(0,10000000)\n",
    "b = np.arange(10000000,20000000)\n",
    "start1 = time.time()\n",
    "\n",
    "c = a+b\n",
    "\n",
    "print(\"The time taken by numpy array \",time.time()-start1)\n",
    "\n",
    "# Note1: Here in numpy we will use the ctype array which will store the value \n",
    "# in the variable instead of referencing value or address, which make the numpy array faster than the python list.\n",
    "\n",
    "# Note2: In python it will basically store the address of where the value is stored, which make the python slower\n",
    "# than the numpy."
   ]
  },
  {
   "cell_type": "code",
   "execution_count": 7,
   "id": "969ffb21",
   "metadata": {},
   "outputs": [
    {
     "data": {
      "text/plain": [
       "89095160"
      ]
     },
     "execution_count": 7,
     "metadata": {},
     "output_type": "execute_result"
    }
   ],
   "source": [
    "# Memory \n",
    "import sys\n",
    "a = [i for i in range(10000000)]\n",
    "sys.getsizeof(a)"
   ]
  },
  {
   "cell_type": "code",
   "execution_count": 8,
   "id": "e5f49e86",
   "metadata": {},
   "outputs": [
    {
     "name": "stdout",
     "output_type": "stream",
     "text": [
      "40000112\n",
      "int32\n",
      "==============\n",
      "\n",
      "\n",
      "20000112\n",
      "int16\n"
     ]
    }
   ],
   "source": [
    "a1 = np.arange(0,10000000,dtype= np.int32)\n",
    "print(sys.getsizeof(a1))\n",
    "print(a1.dtype)\n",
    "\n",
    "print(\"==============\\n\\n\")\n",
    "b1 = np.arange(0,10000000,dtype= np.int16)\n",
    "print(sys.getsizeof(b1))\n",
    "print(b1.dtype)\n",
    "\n",
    "# Note1: So here we can clearly see that how we can reduce the memory space in the numpy array."
   ]
  },
  {
   "cell_type": "markdown",
   "id": "f26fd018",
   "metadata": {},
   "source": [
    "# Advance Indexing\n",
    "\n",
    "1). Fancy Indexing\n",
    "\n",
    "2). Boolean Indexing"
   ]
  },
  {
   "cell_type": "code",
   "execution_count": 5,
   "id": "b753f0cf",
   "metadata": {},
   "outputs": [
    {
     "data": {
      "text/plain": [
       "array([[ 0,  1,  2],\n",
       "       [ 3,  4,  5],\n",
       "       [ 6,  7,  8],\n",
       "       [ 9, 10, 11]])"
      ]
     },
     "execution_count": 5,
     "metadata": {},
     "output_type": "execute_result"
    }
   ],
   "source": [
    "new_ar = np.arange(12).reshape(4,3)\n",
    "new_ar"
   ]
  },
  {
   "cell_type": "code",
   "execution_count": 6,
   "id": "1913e9c5",
   "metadata": {},
   "outputs": [
    {
     "data": {
      "text/plain": [
       "array([[ 0,  1,  2],\n",
       "       [ 6,  7,  8],\n",
       "       [ 9, 10, 11]])"
      ]
     },
     "execution_count": 6,
     "metadata": {},
     "output_type": "execute_result"
    }
   ],
   "source": [
    "# Fancy Indexing : In this if we do'nt find any pattern while indexing then will use the fancy indexing.\n",
    "new_ar[[0,2,3]]"
   ]
  },
  {
   "cell_type": "code",
   "execution_count": 7,
   "id": "e30bcb9b",
   "metadata": {},
   "outputs": [
    {
     "data": {
      "text/plain": [
       "array([[ 0,  1,  2,  3],\n",
       "       [ 4,  5,  6,  7],\n",
       "       [ 8,  9, 10, 11],\n",
       "       [12, 13, 14, 15],\n",
       "       [16, 17, 18, 19],\n",
       "       [20, 21, 22, 23]])"
      ]
     },
     "execution_count": 7,
     "metadata": {},
     "output_type": "execute_result"
    }
   ],
   "source": [
    "arr_1 = np.arange(24).reshape(6,4)\n",
    "arr_1"
   ]
  },
  {
   "cell_type": "code",
   "execution_count": 8,
   "id": "cf5dcc20",
   "metadata": {},
   "outputs": [
    {
     "data": {
      "text/plain": [
       "array([[ 0,  1,  2,  3],\n",
       "       [ 8,  9, 10, 11],\n",
       "       [12, 13, 14, 15],\n",
       "       [20, 21, 22, 23]])"
      ]
     },
     "execution_count": 8,
     "metadata": {},
     "output_type": "execute_result"
    }
   ],
   "source": [
    "# Fancy indexing \n",
    "arr_1[[0,2,3,5]]"
   ]
  },
  {
   "cell_type": "code",
   "execution_count": 9,
   "id": "ef4867dd",
   "metadata": {},
   "outputs": [
    {
     "data": {
      "text/plain": [
       "array([[ 0,  2,  3],\n",
       "       [ 4,  6,  7],\n",
       "       [ 8, 10, 11],\n",
       "       [12, 14, 15],\n",
       "       [16, 18, 19],\n",
       "       [20, 22, 23]])"
      ]
     },
     "execution_count": 9,
     "metadata": {},
     "output_type": "execute_result"
    }
   ],
   "source": [
    "arr_1[:,[0,2,3]]"
   ]
  },
  {
   "cell_type": "code",
   "execution_count": 10,
   "id": "2a14fbf8",
   "metadata": {},
   "outputs": [
    {
     "data": {
      "text/plain": [
       "array([[ 8, 63, 20, 38],\n",
       "       [26,  1, 73, 38],\n",
       "       [30, 73, 24, 39],\n",
       "       [28, 49, 16, 20],\n",
       "       [41, 43, 28,  1],\n",
       "       [55, 31, 82, 60]])"
      ]
     },
     "execution_count": 10,
     "metadata": {},
     "output_type": "execute_result"
    }
   ],
   "source": [
    "# Boolean Indexing\n",
    "import numpy as np\n",
    "bool_data = np.random.randint(1,100,24).reshape(6,4)\n",
    "bool_data"
   ]
  },
  {
   "cell_type": "code",
   "execution_count": 11,
   "id": "5036edcf",
   "metadata": {},
   "outputs": [
    {
     "data": {
      "text/plain": [
       "array([63, 73, 73, 55, 82, 60])"
      ]
     },
     "execution_count": 11,
     "metadata": {},
     "output_type": "execute_result"
    }
   ],
   "source": [
    "# Find all the number greater than 50\n",
    "\n",
    "# Note:\n",
    "# Boolean array.: Array consist of True and False values.\n",
    "# Boolean mask: we will take the boolean array which consist of True and False values. and put it on (or mask it ) on the\n",
    "# original array then which have values as true will return, this we called as boolean masking.\n",
    "\n",
    "bool_data[bool_data>50]"
   ]
  },
  {
   "cell_type": "code",
   "execution_count": 12,
   "id": "e0a30cd9",
   "metadata": {},
   "outputs": [
    {
     "data": {
      "text/plain": [
       "array([ 8, 20, 38, 26, 38, 30, 24, 28, 16, 20, 28, 82, 60])"
      ]
     },
     "execution_count": 12,
     "metadata": {},
     "output_type": "execute_result"
    }
   ],
   "source": [
    "# Find out Even Number:\n",
    "bool_data[bool_data%2==0]"
   ]
  },
  {
   "cell_type": "code",
   "execution_count": 13,
   "id": "ff117fd6",
   "metadata": {},
   "outputs": [
    {
     "data": {
      "text/plain": [
       "array([82, 60])"
      ]
     },
     "execution_count": 13,
     "metadata": {},
     "output_type": "execute_result"
    }
   ],
   "source": [
    "# Find all number greater than 50 and even number\n",
    "bool_data[(bool_data>50) & (bool_data%2==0)]"
   ]
  },
  {
   "cell_type": "code",
   "execution_count": 14,
   "id": "3f6c799a",
   "metadata": {},
   "outputs": [
    {
     "data": {
      "text/plain": [
       "array([ 8, 20, 38, 26,  1, 73, 38, 30, 73, 24, 39, 16, 20, 41, 43,  1, 55,\n",
       "       31, 82, 60])"
      ]
     },
     "execution_count": 14,
     "metadata": {},
     "output_type": "execute_result"
    }
   ],
   "source": [
    "# find all number NOT divisble by 7\n",
    "bool_data[~(bool_data%7==0)]\n",
    "#bool_data[bool_data%7!=0]"
   ]
  },
  {
   "cell_type": "markdown",
   "id": "82eb2e1c",
   "metadata": {},
   "source": [
    "# BROADCASTING\n",
    "\n",
    "The term broadcasting describes how NumPy treats arrays with different shapes during arithmetic operations.\n",
    "The smaller array is “broadcast” across the larger array so that they have compatible shapes."
   ]
  },
  {
   "cell_type": "code",
   "execution_count": 15,
   "id": "9e48ad75",
   "metadata": {},
   "outputs": [
    {
     "name": "stdout",
     "output_type": "stream",
     "text": [
      "[[ 6  8 10]\n",
      " [12 14 16]]\n"
     ]
    }
   ],
   "source": [
    "# Same Shape\n",
    "b1 = np.arange(6).reshape(2,3)\n",
    "b2 = np.arange(6,12).reshape(2,3)\n",
    "print(b1+b2)"
   ]
  },
  {
   "cell_type": "code",
   "execution_count": 4,
   "id": "828953d6",
   "metadata": {},
   "outputs": [
    {
     "name": "stdout",
     "output_type": "stream",
     "text": [
      "[[0 2 4]\n",
      " [3 5 7]]\n"
     ]
    }
   ],
   "source": [
    "# different shape\n",
    "d1 = np.arange(6).reshape(2,3)\n",
    "d2 = np.arange(3).reshape(1,3)\n",
    "print(d1+d2)"
   ]
  },
  {
   "cell_type": "markdown",
   "id": "8652b94e",
   "metadata": {},
   "source": [
    "# BROADCASTING RULES\n",
    "\n",
    "1). Make the two arrays have the same number of dimensions.\n",
    "\n",
    "If the numbers of dimensions of the two arrays are different, add new dimensions with size 1 to the head of the array with the smaller dimension.\n",
    "\n",
    "2). Make each dimension of the two arrays the same size.\n",
    "\n",
    "If the sizes of each dimension of the two arrays do not match, dimensions with size 1 are stretched to the size of the other array.\n",
    "\n",
    "If there is a dimension whose size is not 1 in either of the two arrays, it cannot be broadcasted, and an error is raised."
   ]
  },
  {
   "cell_type": "code",
   "execution_count": 5,
   "id": "4f9db7f4",
   "metadata": {},
   "outputs": [
    {
     "name": "stdout",
     "output_type": "stream",
     "text": [
      "[[ 0  1  2]\n",
      " [ 3  4  5]\n",
      " [ 6  7  8]\n",
      " [ 9 10 11]]\n",
      "=========================\n",
      "[[0 1 2]]\n",
      "=========================\n",
      "[[ 0  2  4]\n",
      " [ 3  5  7]\n",
      " [ 6  8 10]\n",
      " [ 9 11 13]]\n"
     ]
    }
   ],
   "source": [
    "a = np.arange(12).reshape(4,3)\n",
    "b = np.arange(3).reshape(1,3)\n",
    "\n",
    "print(a)\n",
    "print(\"=========================\")\n",
    "print(b)\n",
    "print(\"=========================\")\n",
    "print(a+b)"
   ]
  },
  {
   "cell_type": "code",
   "execution_count": 18,
   "id": "600acf58",
   "metadata": {
    "scrolled": true
   },
   "outputs": [
    {
     "name": "stdout",
     "output_type": "stream",
     "text": [
      "[[ 0  1  2  3]\n",
      " [ 4  5  6  7]\n",
      " [ 8  9 10 11]]\n",
      "============================\n",
      "[0 1 2]\n",
      "============================\n"
     ]
    },
    {
     "ename": "ValueError",
     "evalue": "operands could not be broadcast together with shapes (3,4) (3,) ",
     "output_type": "error",
     "traceback": [
      "\u001b[1;31m---------------------------------------------------------------------------\u001b[0m",
      "\u001b[1;31mValueError\u001b[0m                                Traceback (most recent call last)",
      "Cell \u001b[1;32mIn[18], line 7\u001b[0m\n\u001b[0;32m      5\u001b[0m \u001b[38;5;28mprint\u001b[39m(c2)\n\u001b[0;32m      6\u001b[0m \u001b[38;5;28mprint\u001b[39m(\u001b[38;5;124m\"\u001b[39m\u001b[38;5;124m============================\u001b[39m\u001b[38;5;124m\"\u001b[39m)\n\u001b[1;32m----> 7\u001b[0m \u001b[38;5;28mprint\u001b[39m(\u001b[43mc1\u001b[49m\u001b[38;5;241;43m+\u001b[39;49m\u001b[43mc2\u001b[49m)\n",
      "\u001b[1;31mValueError\u001b[0m: operands could not be broadcast together with shapes (3,4) (3,) "
     ]
    }
   ],
   "source": [
    "c1 = np.arange(12).reshape(3,4)\n",
    "c2 = np.arange(3)\n",
    "print(c1)\n",
    "print(\"============================\")\n",
    "print(c2)\n",
    "print(\"============================\")\n",
    "print(c1+c2)"
   ]
  },
  {
   "cell_type": "code",
   "execution_count": 20,
   "id": "e14dc579",
   "metadata": {},
   "outputs": [
    {
     "name": "stdout",
     "output_type": "stream",
     "text": [
      "[[0 1 2]]\n",
      "=====================\n",
      "[[0]\n",
      " [1]\n",
      " [2]]\n",
      "=====================\n",
      "\n",
      "\n",
      "[[0 1 2]\n",
      " [1 2 3]\n",
      " [2 3 4]]\n"
     ]
    }
   ],
   "source": [
    "a1 = np.arange(3).reshape(1,3)\n",
    "a2 = np.arange(3).reshape(3,1)\n",
    "print(a1)\n",
    "print(\"=====================\")\n",
    "print(a2)\n",
    "print(\"=====================\\n\\n\")\n",
    "print(a1+a2)"
   ]
  },
  {
   "cell_type": "code",
   "execution_count": 21,
   "id": "2facac05",
   "metadata": {},
   "outputs": [
    {
     "name": "stdout",
     "output_type": "stream",
     "text": [
      "[[0 1 2]]\n",
      "=========================\n",
      "\n",
      "[[0]\n",
      " [1]\n",
      " [2]\n",
      " [3]]\n",
      "=========================\n",
      "\n",
      "\n",
      "[[0 1 2]\n",
      " [1 2 3]\n",
      " [2 3 4]\n",
      " [3 4 5]]\n"
     ]
    }
   ],
   "source": [
    "a = np.arange(3).reshape(1,3)\n",
    "b = np.arange(4).reshape(4,1)\n",
    "print(a)\n",
    "print(\"=========================\\n\")\n",
    "print(b)\n",
    "print(\"=========================\\n\\n\")\n",
    "print(a+b)"
   ]
  },
  {
   "cell_type": "code",
   "execution_count": 22,
   "id": "8e66a1e3",
   "metadata": {},
   "outputs": [
    {
     "name": "stdout",
     "output_type": "stream",
     "text": [
      "[[1 2]\n",
      " [3 4]]\n"
     ]
    }
   ],
   "source": [
    "a = np.array([1])\n",
    "# shape --> (1,1)\n",
    "b = np.arange(4).reshape(2,2)\n",
    "\n",
    "print(a+b)"
   ]
  },
  {
   "cell_type": "code",
   "execution_count": 23,
   "id": "ed326ccc",
   "metadata": {},
   "outputs": [
    {
     "ename": "ValueError",
     "evalue": "operands could not be broadcast together with shapes (3,4) (4,3) ",
     "output_type": "error",
     "traceback": [
      "\u001b[1;31m---------------------------------------------------------------------------\u001b[0m",
      "\u001b[1;31mValueError\u001b[0m                                Traceback (most recent call last)",
      "Cell \u001b[1;32mIn[23], line 3\u001b[0m\n\u001b[0;32m      1\u001b[0m a \u001b[38;5;241m=\u001b[39m np\u001b[38;5;241m.\u001b[39marange(\u001b[38;5;241m12\u001b[39m)\u001b[38;5;241m.\u001b[39mreshape(\u001b[38;5;241m3\u001b[39m,\u001b[38;5;241m4\u001b[39m)\n\u001b[0;32m      2\u001b[0m b \u001b[38;5;241m=\u001b[39m np\u001b[38;5;241m.\u001b[39marange(\u001b[38;5;241m12\u001b[39m)\u001b[38;5;241m.\u001b[39mreshape(\u001b[38;5;241m4\u001b[39m,\u001b[38;5;241m3\u001b[39m)\n\u001b[1;32m----> 3\u001b[0m \u001b[38;5;28mprint\u001b[39m(\u001b[43ma\u001b[49m\u001b[38;5;241;43m+\u001b[39;49m\u001b[43mb\u001b[49m)\n",
      "\u001b[1;31mValueError\u001b[0m: operands could not be broadcast together with shapes (3,4) (4,3) "
     ]
    }
   ],
   "source": [
    "a = np.arange(12).reshape(3,4)\n",
    "b = np.arange(12).reshape(4,3)\n",
    "print(a+b)"
   ]
  },
  {
   "cell_type": "code",
   "execution_count": 11,
   "id": "f0f5b082",
   "metadata": {},
   "outputs": [
    {
     "name": "stdout",
     "output_type": "stream",
     "text": [
      "[[ 0  1  2  3]\n",
      " [ 4  5  6  7]\n",
      " [ 8  9 10 11]\n",
      " [12 13 14 15]]\n",
      "[[0 1 2 3]]\n",
      "[[ 0  2  4  6]\n",
      " [ 4  6  8 10]\n",
      " [ 8 10 12 14]\n",
      " [12 14 16 18]]\n"
     ]
    }
   ],
   "source": [
    "a = np.arange(16).reshape(4,4)\n",
    "b = np.arange(4).reshape(1,4)\n",
    "\n",
    "print(a)\n",
    "print(b)\n",
    "\n",
    "print(a+b)"
   ]
  },
  {
   "cell_type": "markdown",
   "id": "f5f72bb4",
   "metadata": {},
   "source": [
    "# WORKING WITH MATHEMATICAL FORMULAS\n",
    "\n",
    "sigmoid, \n",
    "mean squared error, \n",
    "binary cross entropy"
   ]
  },
  {
   "cell_type": "code",
   "execution_count": 25,
   "id": "b82f88ac",
   "metadata": {},
   "outputs": [
    {
     "data": {
      "text/plain": [
       "array([ 0.        ,  0.84147098,  0.90929743,  0.14112001, -0.7568025 ,\n",
       "       -0.95892427, -0.2794155 ,  0.6569866 ,  0.98935825,  0.41211849])"
      ]
     },
     "execution_count": 25,
     "metadata": {},
     "output_type": "execute_result"
    }
   ],
   "source": [
    "a = np.arange(10)\n",
    "np.sin(a)"
   ]
  },
  {
   "cell_type": "code",
   "execution_count": 26,
   "id": "f681c4d0",
   "metadata": {},
   "outputs": [
    {
     "data": {
      "text/plain": [
       "array([0.5       , 0.73105858, 0.88079708, 0.95257413, 0.98201379,\n",
       "       0.99330715, 0.99752738, 0.99908895, 0.99966465, 0.99987661])"
      ]
     },
     "execution_count": 26,
     "metadata": {},
     "output_type": "execute_result"
    }
   ],
   "source": [
    "# sigmoid S(x)= 1/1 + e**-x : - one upon one plus e to the power -x\n",
    "def sigmoid(array):\n",
    "    return 1/(1+ np.exp(-(array)))\n",
    "\n",
    "a = np.arange(10)\n",
    "sigmoid(a)"
   ]
  },
  {
   "cell_type": "code",
   "execution_count": 27,
   "id": "35c46506",
   "metadata": {},
   "outputs": [
    {
     "name": "stdout",
     "output_type": "stream",
     "text": [
      "[49 24 48 30 22 21 17 31 37 36 44 41 43 29 35 34  7 25  3 13 28  4 38 24\n",
      " 26]\n",
      "[11 33 15 19 33 35  1 13  1  2 27 31 37 24  4 13 20 14  4  7 41 21  1 49\n",
      " 27]\n"
     ]
    }
   ],
   "source": [
    "# mean squared error.  very imp.\n",
    "actual = np.random.randint(1,50,25)\n",
    "predicted = np.random.randint(1,50,25)\n",
    "print(actual)\n",
    "print(predicted)"
   ]
  },
  {
   "cell_type": "code",
   "execution_count": 28,
   "id": "455f015b",
   "metadata": {},
   "outputs": [
    {
     "data": {
      "text/plain": [
       "428.64"
      ]
     },
     "execution_count": 28,
     "metadata": {},
     "output_type": "execute_result"
    }
   ],
   "source": [
    "def mean_square_error(actual,predicted):\n",
    "    return np.mean((actual-predicted)**2)\n",
    "\n",
    "mean_square_error(actual,predicted)"
   ]
  },
  {
   "cell_type": "markdown",
   "id": "ddb59f5d",
   "metadata": {},
   "source": [
    "# Working With Missing Values"
   ]
  },
  {
   "cell_type": "code",
   "execution_count": 29,
   "id": "e3eef653",
   "metadata": {},
   "outputs": [
    {
     "data": {
      "text/plain": [
       "array([1., 2., 3., 4., 6.])"
      ]
     },
     "execution_count": 29,
     "metadata": {},
     "output_type": "execute_result"
    }
   ],
   "source": [
    "# here we will handle the nan values or missing values. Here we have func isnan() which will give the boolean result.\n",
    "# and take the reqd values with the help of boolean masking.\n",
    "\n",
    "nan_arr = np.array([1,2,3,4,np.NaN,6])\n",
    "nan_arr[~np.isnan(nan_arr)]"
   ]
  },
  {
   "cell_type": "markdown",
   "id": "4933988c",
   "metadata": {},
   "source": [
    "# Functions in NumPy"
   ]
  },
  {
   "cell_type": "markdown",
   "id": "8e532b2c",
   "metadata": {},
   "source": [
    "# np.sort\n",
    "\n",
    "Return the sorted copy of an array"
   ]
  },
  {
   "cell_type": "code",
   "execution_count": 5,
   "id": "0cee7619",
   "metadata": {},
   "outputs": [
    {
     "name": "stdout",
     "output_type": "stream",
     "text": [
      "[ 5  5  8 16 20 23 31 32 46 47 55 68 72 95 99]\n",
      "[99 95 72 68 55 47 46 32 31 23 20 16  8  5  5]\n"
     ]
    }
   ],
   "source": [
    "sort_arr = np.random.randint(1,100,15)\n",
    "print(np.sort(sort_arr))\n",
    "print(np.sort(sort_arr)[::-1])\n"
   ]
  },
  {
   "cell_type": "code",
   "execution_count": 7,
   "id": "3af86fcb",
   "metadata": {},
   "outputs": [
    {
     "data": {
      "text/plain": [
       "array([[11,  1, 13, 16],\n",
       "       [47, 40, 41, 43],\n",
       "       [69, 55, 46, 56],\n",
       "       [98, 74, 54, 64]])"
      ]
     },
     "execution_count": 7,
     "metadata": {},
     "output_type": "execute_result"
    }
   ],
   "source": [
    "sort_arr1 = np.random.randint(1,100,16).reshape(4,4)\n",
    "np.sort(sort_arr1,axis =0)  # axis 0 for columns wise and 1 for row wise."
   ]
  },
  {
   "cell_type": "markdown",
   "id": "68216720",
   "metadata": {},
   "source": [
    "# np.append\n",
    "\n",
    "It will append the values along the mentioned axis at the end of this array."
   ]
  },
  {
   "cell_type": "code",
   "execution_count": 32,
   "id": "f6f77ddc",
   "metadata": {},
   "outputs": [
    {
     "data": {
      "text/plain": [
       "array([ 18,  32,  27,  87,  39,  75,  89,  23,  49,  54,  72,  56,   5,\n",
       "         8,  49, 200])"
      ]
     },
     "execution_count": 32,
     "metadata": {},
     "output_type": "execute_result"
    }
   ],
   "source": [
    "sort_arr\n",
    "np.append(sort_arr,200)"
   ]
  },
  {
   "cell_type": "code",
   "execution_count": 11,
   "id": "a37ade22",
   "metadata": {},
   "outputs": [
    {
     "name": "stdout",
     "output_type": "stream",
     "text": [
      "[[11  1 13 43]\n",
      " [69 74 41 64]\n",
      " [47 40 46 56]\n",
      " [98 55 54 16]]\n",
      "=========================\n",
      "\n",
      "\n"
     ]
    },
    {
     "data": {
      "text/plain": [
       "array([[11.,  1., 13., 43.,  1.],\n",
       "       [69., 74., 41., 64.,  1.],\n",
       "       [47., 40., 46., 56.,  1.],\n",
       "       [98., 55., 54., 16.,  1.]])"
      ]
     },
     "execution_count": 11,
     "metadata": {},
     "output_type": "execute_result"
    }
   ],
   "source": [
    "print(sort_arr1)\n",
    "print(\"=========================\\n\\n\")\n",
    "np.append(sort_arr1,np.ones((sort_arr1.shape[0],1)),axis=1)"
   ]
  },
  {
   "cell_type": "markdown",
   "id": "86634a1d",
   "metadata": {},
   "source": [
    "# np.Concatenate\n",
    "\n",
    "It will concat the sequence of array along an exisiting axis."
   ]
  },
  {
   "cell_type": "code",
   "execution_count": 34,
   "id": "d87076d7",
   "metadata": {},
   "outputs": [
    {
     "name": "stdout",
     "output_type": "stream",
     "text": [
      "[[0 1 2]\n",
      " [3 4 5]]\n",
      "==========\n",
      "\n",
      "[[ 6  7  8]\n",
      " [ 9 10 11]]\n",
      "==========\n",
      "\n",
      "[[ 0  1  2  6  7  8]\n",
      " [ 3  4  5  9 10 11]]\n",
      "==========\n",
      "\n",
      "[[ 0  1  2]\n",
      " [ 3  4  5]\n",
      " [ 6  7  8]\n",
      " [ 9 10 11]]\n"
     ]
    }
   ],
   "source": [
    "a1 = np.arange(6).reshape(2,3)\n",
    "a2 = np.arange(6,12).reshape(2,3)\n",
    "\n",
    "print(a1)\n",
    "print(\"==========\\n\")\n",
    "print(a2)\n",
    "print(\"==========\\n\")\n",
    "print(np.concatenate((a1,a2),axis=1))\n",
    "print(\"==========\\n\")\n",
    "print(np.concatenate((a1,a2),axis=0))"
   ]
  },
  {
   "cell_type": "markdown",
   "id": "5026257b",
   "metadata": {},
   "source": [
    "# np.unique\n",
    "\n",
    "with the help of this method we will get the unique values from the array given as a parameter."
   ]
  },
  {
   "cell_type": "code",
   "execution_count": 35,
   "id": "8adbbc97",
   "metadata": {},
   "outputs": [
    {
     "data": {
      "text/plain": [
       "array([1, 2, 3, 4, 5, 6, 7])"
      ]
     },
     "execution_count": 35,
     "metadata": {},
     "output_type": "execute_result"
    }
   ],
   "source": [
    "un_arr = np.array([1,1,1,1,2,2,2,3,3,3,4,5,6,7,7,7])\n",
    "np.unique(un_arr)"
   ]
  },
  {
   "cell_type": "markdown",
   "id": "e485f481",
   "metadata": {},
   "source": [
    "# np.expand_dims\n",
    "\n",
    "With the help of Numpy.expand_dims() method, we can get the expanded dimensions of an array"
   ]
  },
  {
   "cell_type": "code",
   "execution_count": 36,
   "id": "4efc632d",
   "metadata": {},
   "outputs": [
    {
     "data": {
      "text/plain": [
       "(15,)"
      ]
     },
     "execution_count": 36,
     "metadata": {},
     "output_type": "execute_result"
    }
   ],
   "source": [
    "a= np.arange(15)\n",
    "a.shape"
   ]
  },
  {
   "cell_type": "code",
   "execution_count": 37,
   "id": "39e0d9d1",
   "metadata": {},
   "outputs": [
    {
     "name": "stdout",
     "output_type": "stream",
     "text": [
      "[[ 0]\n",
      " [ 1]\n",
      " [ 2]\n",
      " [ 3]\n",
      " [ 4]\n",
      " [ 5]\n",
      " [ 6]\n",
      " [ 7]\n",
      " [ 8]\n",
      " [ 9]\n",
      " [10]\n",
      " [11]\n",
      " [12]\n",
      " [13]\n",
      " [14]]\n",
      "===============\n",
      "\n",
      "[[ 0  1  2  3  4  5  6  7  8  9 10 11 12 13 14]]\n"
     ]
    }
   ],
   "source": [
    "print(np.expand_dims(a,axis=1))\n",
    "print(\"===============\\n\")\n",
    "print(np.expand_dims(a,axis=0))"
   ]
  },
  {
   "cell_type": "markdown",
   "id": "187eb986",
   "metadata": {},
   "source": [
    "# np.where \n",
    "\n",
    "The numpy.where() function returns the indices of elements in an input array where the given condition is satisfied."
   ]
  },
  {
   "cell_type": "code",
   "execution_count": 38,
   "id": "d6e38be3",
   "metadata": {},
   "outputs": [
    {
     "data": {
      "text/plain": [
       "array([36, 95, 24, 92, 20, 41, 18, 62,  4, 98, 98, 85, 63, 76, 65])"
      ]
     },
     "execution_count": 38,
     "metadata": {},
     "output_type": "execute_result"
    }
   ],
   "source": [
    "arr1 = np.random.randint(1,100,15)\n",
    "arr1"
   ]
  },
  {
   "cell_type": "code",
   "execution_count": 39,
   "id": "6249cc6f",
   "metadata": {},
   "outputs": [
    {
     "name": "stdout",
     "output_type": "stream",
     "text": [
      "(array([ 1,  3,  7,  9, 10, 11, 12, 13, 14], dtype=int64),)\n",
      "===========\n",
      "\n"
     ]
    },
    {
     "data": {
      "text/plain": [
       "array([95, 92, 62, 98, 98, 85, 63, 76, 65])"
      ]
     },
     "execution_count": 39,
     "metadata": {},
     "output_type": "execute_result"
    }
   ],
   "source": [
    "# find all the indices with the value greater than 50\n",
    "\n",
    "print(np.where(arr1>50))\n",
    "print(\"===========\\n\")\n",
    "# if we want to get the value then will take\n",
    "\n",
    "arr1[np.where(arr1>50)]"
   ]
  },
  {
   "cell_type": "code",
   "execution_count": 40,
   "id": "374cb8c5",
   "metadata": {},
   "outputs": [
    {
     "data": {
      "text/plain": [
       "array([36,  0, 24,  0, 20, 41, 18,  0,  4,  0,  0,  0,  0,  0,  0])"
      ]
     },
     "execution_count": 40,
     "metadata": {},
     "output_type": "execute_result"
    }
   ],
   "source": [
    "# replace all values >50 with 0\n",
    "# np.where(condition,true,false)\n",
    "np.where(arr1>50,0,arr1)"
   ]
  },
  {
   "cell_type": "code",
   "execution_count": 41,
   "id": "f922ef14",
   "metadata": {},
   "outputs": [
    {
     "data": {
      "text/plain": [
       "array([ 0, 95,  0,  0,  0, 41,  0,  0,  0,  0,  0, 85, 63,  0, 65])"
      ]
     },
     "execution_count": 41,
     "metadata": {},
     "output_type": "execute_result"
    }
   ],
   "source": [
    "# replace all even number with 0\n",
    "np.where(arr1%2==0,0,arr1)"
   ]
  },
  {
   "cell_type": "markdown",
   "id": "c7a214b9",
   "metadata": {},
   "source": [
    "# np.argmax\n",
    "\n",
    "The numpy.argmax() function returns indices of the max element of the array in a particular axis."
   ]
  },
  {
   "cell_type": "code",
   "execution_count": 42,
   "id": "1ce56dbc",
   "metadata": {},
   "outputs": [
    {
     "data": {
      "text/plain": [
       "array([36, 95, 24, 92, 20, 41, 18, 62,  4, 98, 98, 85, 63, 76, 65])"
      ]
     },
     "execution_count": 42,
     "metadata": {},
     "output_type": "execute_result"
    }
   ],
   "source": [
    "arr1"
   ]
  },
  {
   "cell_type": "code",
   "execution_count": 43,
   "id": "8646f602",
   "metadata": {},
   "outputs": [
    {
     "data": {
      "text/plain": [
       "9"
      ]
     },
     "execution_count": 43,
     "metadata": {},
     "output_type": "execute_result"
    }
   ],
   "source": [
    "np.argmax(arr1)"
   ]
  },
  {
   "cell_type": "code",
   "execution_count": 44,
   "id": "876761de",
   "metadata": {},
   "outputs": [
    {
     "name": "stdout",
     "output_type": "stream",
     "text": [
      "[[ 9 45  8 85]\n",
      " [76  6 61 98]\n",
      " [12 85 78 98]\n",
      " [ 1 26 66  1]]\n",
      "7\n"
     ]
    }
   ],
   "source": [
    "arr2 = np.random.randint(1,100,16).reshape(4,4)\n",
    "print(arr2)\n",
    "print(np.argmax(arr2))"
   ]
  },
  {
   "cell_type": "code",
   "execution_count": 45,
   "id": "f8922f31",
   "metadata": {},
   "outputs": [
    {
     "name": "stdout",
     "output_type": "stream",
     "text": [
      "8\n",
      "[2 1 0 0]\n"
     ]
    }
   ],
   "source": [
    "# argmin\n",
    "print(np.argmin(arr1))\n",
    "print(np.argmin(arr2,axis=1))"
   ]
  },
  {
   "cell_type": "markdown",
   "id": "662e7af5",
   "metadata": {},
   "source": [
    "# np.cumsum\n",
    "\n",
    "numpy.cumsum() function is used when we want to compute the cumulative sum of array elements over a given axis."
   ]
  },
  {
   "cell_type": "code",
   "execution_count": 46,
   "id": "2cd8e433",
   "metadata": {},
   "outputs": [
    {
     "name": "stdout",
     "output_type": "stream",
     "text": [
      "[36 95 24 92 20 41 18 62  4 98 98 85 63 76 65]\n",
      "[ 36 131 155 247 267 308 326 388 392 490 588 673 736 812 877]\n"
     ]
    }
   ],
   "source": [
    "print(arr1)\n",
    "\n",
    "print(np.cumsum(arr1))"
   ]
  },
  {
   "cell_type": "code",
   "execution_count": 47,
   "id": "a298ee77",
   "metadata": {},
   "outputs": [
    {
     "name": "stdout",
     "output_type": "stream",
     "text": [
      "[[ 9 45  8 85]\n",
      " [76  6 61 98]\n",
      " [12 85 78 98]\n",
      " [ 1 26 66  1]]\n",
      "==============\n",
      "\n",
      "[  9  54  62 147 223 229 290 388 400 485 563 661 662 688 754 755]\n",
      "==============\n",
      "\n",
      "[[  9  45   8  85]\n",
      " [ 85  51  69 183]\n",
      " [ 97 136 147 281]\n",
      " [ 98 162 213 282]]\n",
      "==============\n",
      "\n",
      "[[  9  54  62 147]\n",
      " [ 76  82 143 241]\n",
      " [ 12  97 175 273]\n",
      " [  1  27  93  94]]\n"
     ]
    }
   ],
   "source": [
    "print(arr2)\n",
    "print(\"==============\\n\")\n",
    "print(np.cumsum(arr2))\n",
    "print(\"==============\\n\")\n",
    "print(np.cumsum(arr2,axis=0))\n",
    "print(\"==============\\n\")\n",
    "print(np.cumsum(arr2,axis=1))"
   ]
  },
  {
   "cell_type": "code",
   "execution_count": 48,
   "id": "5784942f",
   "metadata": {},
   "outputs": [
    {
     "data": {
      "text/plain": [
       "array([  1,   2,   6,  24, 120])"
      ]
     },
     "execution_count": 48,
     "metadata": {},
     "output_type": "execute_result"
    }
   ],
   "source": [
    "# np.cumprod\n",
    "a = np.array([1,2,3,4,5])\n",
    "np.cumprod(a)"
   ]
  },
  {
   "cell_type": "markdown",
   "id": "3ba8931e",
   "metadata": {},
   "source": [
    "# np.percentile\n",
    "\n",
    "numpy.percentile()function used to compute the nth percentile of the given data (array elements) along the specified axis.\n",
    "\n",
    "pecentile = (no of values below x/ total no of values)*100"
   ]
  },
  {
   "cell_type": "code",
   "execution_count": 49,
   "id": "32f5c7c1",
   "metadata": {},
   "outputs": [
    {
     "name": "stdout",
     "output_type": "stream",
     "text": [
      "[36 95 24 92 20 41 18 62  4 98 98 85 63 76 65]\n",
      "98.0\n",
      "88.5\n",
      "44.779999999999994\n"
     ]
    }
   ],
   "source": [
    "print(arr1)\n",
    "print(np.percentile(arr1,100))\n",
    "print(np.percentile(arr1,75))\n",
    "print(np.percentile(arr1,37))"
   ]
  },
  {
   "cell_type": "code",
   "execution_count": 50,
   "id": "dec0df96",
   "metadata": {},
   "outputs": [
    {
     "data": {
      "text/plain": [
       "(array([2, 2, 1, 1, 0, 3, 1, 1, 4], dtype=int64),\n",
       " array([  0,  20,  30,  40,  50,  60,  70,  80,  90, 100]))"
      ]
     },
     "execution_count": 50,
     "metadata": {},
     "output_type": "execute_result"
    }
   ],
   "source": [
    "# np.histogram\n",
    "np.histogram(arr1,bins=[0,20,30,40,50,60,70,80,90,100])"
   ]
  },
  {
   "cell_type": "code",
   "execution_count": 51,
   "id": "1fdd675a",
   "metadata": {},
   "outputs": [
    {
     "data": {
      "text/plain": [
       "array([[1.        , 0.25344572],\n",
       "       [0.25344572, 1.        ]])"
      ]
     },
     "execution_count": 51,
     "metadata": {},
     "output_type": "execute_result"
    }
   ],
   "source": [
    "# np.corrcoef == correlation coefficient \n",
    "# Return Pearson product-moment correlation coefficients.\n",
    "salary = np.array([20000,40000,25000,35000,60000])\n",
    "experience = np.array([1,3,2,4,2])\n",
    "\n",
    "np.corrcoef(salary,experience)"
   ]
  },
  {
   "cell_type": "code",
   "execution_count": 52,
   "id": "cbc278c2",
   "metadata": {},
   "outputs": [],
   "source": [
    "# np.flip :- The numpy.flip() function reverses the order of array elements along the specified axis, \n",
    "# preserving the shape of the array."
   ]
  },
  {
   "cell_type": "code",
   "execution_count": 53,
   "id": "b929dea4",
   "metadata": {},
   "outputs": [
    {
     "name": "stdout",
     "output_type": "stream",
     "text": [
      "[36 95 24 92 20 41 18 62  4 98 98 85 63 76 65]\n",
      "[100 122  24  92  20  41  18  62   4  98  98  85  63  76  65]\n"
     ]
    }
   ],
   "source": [
    "# np.put:- The numpy.put() function replaces specific elements of an array with given values of p_array. \n",
    "# Array indexed works on flattened array.  np.put(array_name,index pos, value used for replace)\n",
    "\n",
    "print(arr1)\n",
    "np.put(arr1,[0,1],[100,122])\n",
    "print(arr1)"
   ]
  },
  {
   "cell_type": "code",
   "execution_count": 54,
   "id": "fc1da927",
   "metadata": {},
   "outputs": [
    {
     "data": {
      "text/plain": [
       "array([122,  24,  92,  20,  41,  18,  62,   4,  98,  98,  85,  63,  76,\n",
       "        65])"
      ]
     },
     "execution_count": 54,
     "metadata": {},
     "output_type": "execute_result"
    }
   ],
   "source": [
    "# np.delete\n",
    "np.delete(arr1,0)"
   ]
  },
  {
   "cell_type": "code",
   "execution_count": 55,
   "id": "80736e31",
   "metadata": {},
   "outputs": [
    {
     "data": {
      "text/plain": [
       "array([75, 75, 25, 75, 25, 41, 25, 62, 25, 75, 75, 75, 63, 75, 65])"
      ]
     },
     "execution_count": 55,
     "metadata": {},
     "output_type": "execute_result"
    }
   ],
   "source": [
    "# np.clip: it is used to clip the values in the array \n",
    "np.clip(arr1,a_min=25,a_max=75)"
   ]
  },
  {
   "cell_type": "markdown",
   "id": "533e70a7",
   "metadata": {},
   "source": [
    "# MeshGrid"
   ]
  },
  {
   "cell_type": "code",
   "execution_count": 68,
   "id": "9dae78a0",
   "metadata": {},
   "outputs": [
    {
     "name": "stdout",
     "output_type": "stream",
     "text": [
      "[[0. 1. 2. 3. 4. 5. 6. 7. 8. 9.]\n",
      " [0. 1. 2. 3. 4. 5. 6. 7. 8. 9.]\n",
      " [0. 1. 2. 3. 4. 5. 6. 7. 8. 9.]\n",
      " [0. 1. 2. 3. 4. 5. 6. 7. 8. 9.]\n",
      " [0. 1. 2. 3. 4. 5. 6. 7. 8. 9.]\n",
      " [0. 1. 2. 3. 4. 5. 6. 7. 8. 9.]\n",
      " [0. 1. 2. 3. 4. 5. 6. 7. 8. 9.]\n",
      " [0. 1. 2. 3. 4. 5. 6. 7. 8. 9.]\n",
      " [0. 1. 2. 3. 4. 5. 6. 7. 8. 9.]\n",
      " [0. 1. 2. 3. 4. 5. 6. 7. 8. 9.]]\n",
      "=================\n",
      "[[0. 0. 0. 0. 0. 0. 0. 0. 0. 0.]\n",
      " [1. 1. 1. 1. 1. 1. 1. 1. 1. 1.]\n",
      " [2. 2. 2. 2. 2. 2. 2. 2. 2. 2.]\n",
      " [3. 3. 3. 3. 3. 3. 3. 3. 3. 3.]\n",
      " [4. 4. 4. 4. 4. 4. 4. 4. 4. 4.]\n",
      " [5. 5. 5. 5. 5. 5. 5. 5. 5. 5.]\n",
      " [6. 6. 6. 6. 6. 6. 6. 6. 6. 6.]\n",
      " [7. 7. 7. 7. 7. 7. 7. 7. 7. 7.]\n",
      " [8. 8. 8. 8. 8. 8. 8. 8. 8. 8.]\n",
      " [9. 9. 9. 9. 9. 9. 9. 9. 9. 9.]]\n"
     ]
    },
    {
     "data": {
      "text/plain": [
       "<matplotlib.collections.PathCollection at 0x1bf85658690>"
      ]
     },
     "execution_count": 68,
     "metadata": {},
     "output_type": "execute_result"
    },
    {
     "data": {
      "image/png": "[encoded data removed]",
      "text/plain": [
       "<Figure size 640x480 with 1 Axes>"
      ]
     },
     "metadata": {},
     "output_type": "display_data"
    }
   ],
   "source": [
    "import matplotlib.pyplot as plt\n",
    "x = np.linspace(0,9,10)\n",
    "y = np.linspace(0,9,10)\n",
    "xx,yy = np.meshgrid(x,y)\n",
    "\n",
    "print(xx)\n",
    "print(\"=================\")\n",
    "print(yy)\n",
    "\n",
    "plt.scatter(xx,yy)"
   ]
  },
  {
   "cell_type": "code",
   "execution_count": 81,
   "id": "251f2cb6",
   "metadata": {},
   "outputs": [
    {
     "name": "stdout",
     "output_type": "stream",
     "text": [
      "[[0.3927848  0.83607876 0.33739616]\n",
      " [0.64817187 0.36824154 0.95715516]]\n",
      "=======================\n",
      "[[45 48 65 68]\n",
      " [68 10 84 22]\n",
      " [37 88 71 89]]\n"
     ]
    }
   ],
   "source": [
    "# Working with Random\n",
    "# random , randint, seed, choice,shuffle\n",
    "print(np.random.random((2,3)))\n",
    "print(\"=======================\")\n",
    "np.random.seed(0)\n",
    "print(np.random.randint(1,100,12).reshape(3,4))"
   ]
  },
  {
   "cell_type": "code",
   "execution_count": 4,
   "id": "fbf7979f",
   "metadata": {},
   "outputs": [
    {
     "name": "stdout",
     "output_type": "stream",
     "text": [
      "[43 23 54 12 65 76 34 98]\n",
      "===================\n",
      "[98 12 54 76 65 23 34 43]\n",
      "====================\n",
      "[12 98 54 23]\n"
     ]
    }
   ],
   "source": [
    "# shuffle\n",
    "import numpy as np\n",
    "arr = np.array([43,23,54,12,65,76,34,98])\n",
    "print(arr)\n",
    "np.random.shuffle(arr)\n",
    "print(\"===================\")\n",
    "print(arr)\n",
    "print(\"====================\")\n",
    "print(np.random.choice(arr,4))"
   ]
  },
  {
   "cell_type": "code",
   "execution_count": null,
   "id": "985107d4",
   "metadata": {},
   "outputs": [],
   "source": []
  }
 ],
 "metadata": {
  "kernelspec": {
   "display_name": "Python 3 (ipykernel)",
   "language": "python",
   "name": "python3"
  },
  "language_info": {
   "codemirror_mode": {
    "name": "ipython",
    "version": 3
   },
   "file_extension": ".py",
   "mimetype": "text/x-python",
   "name": "python",
   "nbconvert_exporter": "python",
   "pygments_lexer": "ipython3",
   "version": "3.11.4"
  }
 },
 "nbformat": 4,
 "nbformat_minor": 5
}
