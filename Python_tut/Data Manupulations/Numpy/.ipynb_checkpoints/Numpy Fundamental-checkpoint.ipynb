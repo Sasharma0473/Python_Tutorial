{
 "cells": [
  {
   "cell_type": "markdown",
   "id": "f851f117",
   "metadata": {},
   "source": [
    "# What is NumPy\n",
    "\n",
    "NumPy is the fundamental package for scientific computing in Python. \n",
    "It is a Python library that provides a multidimensional array object, \n",
    "various derived objects (such as masked arrays and matrices), \n",
    "and an assortment of routines for fast operations \n",
    "on arrays, including mathematical, logical, shape manipulation, sorting, \n",
    "selecting, I/O, discrete Fourier transforms, basic linear algebra, \n",
    "basic statistical operations, random simulation and much more.\n",
    "\n",
    "At the core of the NumPy package, is the ndarray object. This encapsulates n-dimensional arrays of homogeneous data types."
   ]
  },
  {
   "cell_type": "markdown",
   "id": "b64daa35",
   "metadata": {},
   "source": [
    "# Numpy Arrays Vs Python Sequences\n",
    "\n",
    "NumPy arrays have a fixed size at creation, unlike Python lists (which can grow dynamically). \n",
    "Changing the size of an ndarray will create a new array and delete the original.\n",
    "\n",
    "The elements in a NumPy array are all required to be of the same data type, and thus will be the same size in memory.\n",
    "\n",
    "NumPy arrays facilitate advanced mathematical and other types of operations on large numbers of data. \n",
    "Typically, such operations are executed more efficiently and with less code \n",
    "than is possible using Python’s built-in sequences.\n",
    "\n",
    "A growing plethora of scientific and mathematical Python-based packages are using NumPy arrays; \n",
    "though these typically support Python-sequence input, they convert such input to NumPy arrays prior to processing, \n",
    "and they often output NumPy arrays."
   ]
  },
  {
   "cell_type": "code",
   "execution_count": 1,
   "id": "b00a0c3b",
   "metadata": {},
   "outputs": [],
   "source": [
    "import numpy as np "
   ]
  },
  {
   "cell_type": "markdown",
   "id": "0ba601f0",
   "metadata": {},
   "source": [
    "# Functions for Creating Array"
   ]
  },
  {
   "cell_type": "code",
   "execution_count": 2,
   "id": "a42e5e46",
   "metadata": {},
   "outputs": [
    {
     "name": "stdout",
     "output_type": "stream",
     "text": [
      "[1 2 3]\n",
      "[ 1  2  3  4  5  6  7  8  9 10]\n",
      "[1 3 5 7 9]\n"
     ]
    }
   ],
   "source": [
    "# It will print all number og given range.\n",
    "arr = np.array([1,2,3])\n",
    "a = np.arange(1,11)  \n",
    "b = np.arange(1,11,2)   # It will skip the one values.\n",
    "print(arr)\n",
    "print(a)\n",
    "print(b)"
   ]
  },
  {
   "cell_type": "code",
   "execution_count": 3,
   "id": "a1c1cc2d",
   "metadata": {},
   "outputs": [
    {
     "name": "stdout",
     "output_type": "stream",
     "text": [
      "[[ 1  2]\n",
      " [ 3  4]\n",
      " [ 5  6]\n",
      " [ 7  8]\n",
      " [ 9 10]]\n",
      "----------------------------\n",
      "[[ 1  2  3  4  5]\n",
      " [ 6  7  8  9 10]]\n"
     ]
    }
   ],
   "source": [
    "# Reshape.:- It will convert the given numpy array into a shape.\n",
    "a1 = np.arange(1,11)\n",
    "b1 = a1.reshape(5,2)\n",
    "c1 = a1.reshape(2,5)\n",
    "print(b1)\n",
    "print(\"----------------------------\")\n",
    "print(c1)"
   ]
  },
  {
   "cell_type": "code",
   "execution_count": 4,
   "id": "7073f1b0",
   "metadata": {},
   "outputs": [
    {
     "name": "stdout",
     "output_type": "stream",
     "text": [
      "[[1. 1. 1. 1.]\n",
      " [1. 1. 1. 1.]\n",
      " [1. 1. 1. 1.]]\n",
      "------------------\n",
      "[[0. 0. 0. 0.]\n",
      " [0. 0. 0. 0.]\n",
      " [0. 0. 0. 0.]]\n"
     ]
    }
   ],
   "source": [
    "# np.ones and np.zeros.\n",
    "o = np.ones((3,4))\n",
    "z = np.zeros((3,4))\n",
    "print(o)\n",
    "print(\"------------------\")\n",
    "print(z)"
   ]
  },
  {
   "cell_type": "code",
   "execution_count": 43,
   "id": "de7027b7",
   "metadata": {},
   "outputs": [
    {
     "data": {
      "text/plain": [
       "array([[0.67187545, 0.59904103, 0.35593857],\n",
       "       [0.37233081, 0.40492094, 0.61727959]])"
      ]
     },
     "execution_count": 43,
     "metadata": {},
     "output_type": "execute_result"
    }
   ],
   "source": [
    "# np.random -- its a random module and within that we have random functions in that.\n",
    "r1 = np.random.random((2,3))\n",
    "r1"
   ]
  },
  {
   "cell_type": "code",
   "execution_count": 44,
   "id": "926743df",
   "metadata": {},
   "outputs": [
    {
     "data": {
      "text/plain": [
       "array([-10.        ,  -7.77777778,  -5.55555556,  -3.33333333,\n",
       "        -1.11111111,   1.11111111,   3.33333333,   5.55555556,\n",
       "         7.77777778,  10.        ])"
      ]
     },
     "execution_count": 44,
     "metadata": {},
     "output_type": "execute_result"
    }
   ],
   "source": [
    "# np.linspace(lower range,upper range,no of items generated) == linear space== linear separable space.\n",
    "# It will generate the linear separable value.\n",
    "np.linspace(-10,10,10)"
   ]
  },
  {
   "cell_type": "code",
   "execution_count": 7,
   "id": "57e228c4",
   "metadata": {},
   "outputs": [
    {
     "data": {
      "text/plain": [
       "array([[1., 0., 0.],\n",
       "       [0., 1., 0.],\n",
       "       [0., 0., 1.]])"
      ]
     },
     "execution_count": 7,
     "metadata": {},
     "output_type": "execute_result"
    }
   ],
   "source": [
    "# np.identity -- creating identity matrix\n",
    "np.identity(3)"
   ]
  },
  {
   "cell_type": "markdown",
   "id": "47892c3b",
   "metadata": {},
   "source": [
    "# Numpy Array Attribute\n"
   ]
  },
  {
   "cell_type": "code",
   "execution_count": 46,
   "id": "8045184d",
   "metadata": {},
   "outputs": [
    {
     "name": "stdout",
     "output_type": "stream",
     "text": [
      "[0 1 2 3 4 5 6 7 8 9]\n",
      "----------------------------\n",
      "[[ 0.  1.  2.  3.]\n",
      " [ 4.  5.  6.  7.]\n",
      " [ 8.  9. 10. 11.]]\n",
      "----------------------------\n",
      "[[[0 1]\n",
      "  [2 3]]\n",
      "\n",
      " [[4 5]\n",
      "  [6 7]]]\n"
     ]
    }
   ],
   "source": [
    "a1 = np.arange(10)  # Vector \n",
    "b1 = np.arange(12,dtype=float).reshape(3,4) # matrix \n",
    "c1 = np.arange(8).reshape(2,2,2) # tensor \n",
    "print(a1)\n",
    "print(\"----------------------------\")\n",
    "print(b1)\n",
    "print(\"----------------------------\")\n",
    "print(c1)"
   ]
  },
  {
   "cell_type": "code",
   "execution_count": 9,
   "id": "ec95a72f",
   "metadata": {},
   "outputs": [
    {
     "name": "stdout",
     "output_type": "stream",
     "text": [
      "1\n",
      "2\n",
      "3\n"
     ]
    }
   ],
   "source": [
    "# ndim: It will give the dimesion of the given array. whether its 1D , 2D, 3D or ND\n",
    "print(a1.ndim)\n",
    "print(b1.ndim)\n",
    "print(c1.ndim)"
   ]
  },
  {
   "cell_type": "code",
   "execution_count": 10,
   "id": "e4f9bf97",
   "metadata": {},
   "outputs": [
    {
     "name": "stdout",
     "output_type": "stream",
     "text": [
      "(10,)\n",
      "(3, 4)\n",
      "(2, 2, 2)\n"
     ]
    }
   ],
   "source": [
    "# shape\n",
    "print(a1.shape)\n",
    "print(b1.shape)\n",
    "print(c1.shape)   # There are two 2D array of shape 2*2 == (2,2,2) explaination"
   ]
  },
  {
   "cell_type": "code",
   "execution_count": 11,
   "id": "a2dd85e8",
   "metadata": {},
   "outputs": [
    {
     "name": "stdout",
     "output_type": "stream",
     "text": [
      "12\n",
      "8\n"
     ]
    }
   ],
   "source": [
    "# size : It will give the number of items.\n",
    "print(b1.size)\n",
    "print(c1.size)"
   ]
  },
  {
   "cell_type": "code",
   "execution_count": 12,
   "id": "a4a8e85d",
   "metadata": {},
   "outputs": [
    {
     "name": "stdout",
     "output_type": "stream",
     "text": [
      "4\n",
      "8\n",
      "4\n"
     ]
    }
   ],
   "source": [
    "# Itemsize : It will tell what is the size of every item in the memory.\n",
    "print(c1.itemsize)\n",
    "print(b1.itemsize)\n",
    "print(a1.itemsize)"
   ]
  },
  {
   "cell_type": "code",
   "execution_count": 13,
   "id": "f738d9d2",
   "metadata": {},
   "outputs": [
    {
     "name": "stdout",
     "output_type": "stream",
     "text": [
      "int32\n",
      "float64\n",
      "int32\n"
     ]
    }
   ],
   "source": [
    "#dtype: It will give the data type.\n",
    "print(a1.dtype)\n",
    "print(b1.dtype)\n",
    "print(c1.dtype)"
   ]
  },
  {
   "cell_type": "markdown",
   "id": "7d17e6c3",
   "metadata": {},
   "source": [
    "# Changing Datatype"
   ]
  },
  {
   "cell_type": "code",
   "execution_count": 14,
   "id": "fdb9dd34",
   "metadata": {},
   "outputs": [
    {
     "name": "stdout",
     "output_type": "stream",
     "text": [
      "int64\n"
     ]
    }
   ],
   "source": [
    "#astype: It basically used for changing the data type.\n",
    "c1 = c1.astype(np.int64)\n",
    "print(c1.dtype)"
   ]
  },
  {
   "cell_type": "markdown",
   "id": "c24c6f1a",
   "metadata": {},
   "source": [
    "# Array Operation"
   ]
  },
  {
   "cell_type": "code",
   "execution_count": 15,
   "id": "597c10f1",
   "metadata": {},
   "outputs": [
    {
     "name": "stdout",
     "output_type": "stream",
     "text": [
      "[[ 0  1  2  3]\n",
      " [ 4  5  6  7]\n",
      " [ 8  9 10 11]]\n",
      "---------------------\n",
      "[[12 13 14 15]\n",
      " [16 17 18 19]\n",
      " [20 21 22 23]]\n"
     ]
    }
   ],
   "source": [
    "a1 = np.arange(12).reshape(3,4)\n",
    "a2 = np.arange(12,24).reshape(3,4)\n",
    "print(a1)\n",
    "print(\"---------------------\")\n",
    "print(a2)"
   ]
  },
  {
   "cell_type": "code",
   "execution_count": 16,
   "id": "22747bdf",
   "metadata": {},
   "outputs": [
    {
     "name": "stdout",
     "output_type": "stream",
     "text": [
      "[[ 0  2  4  6]\n",
      " [ 8 10 12 14]\n",
      " [16 18 20 22]]\n",
      "-----------------------\n",
      "[[ 2  3  4  5]\n",
      " [ 6  7  8  9]\n",
      " [10 11 12 13]]\n",
      "------------------------\n",
      "[[-2 -1  0  1]\n",
      " [ 2  3  4  5]\n",
      " [ 6  7  8  9]]\n",
      "-------------------------\n",
      "[[0.  0.5 1.  1.5]\n",
      " [2.  2.5 3.  3.5]\n",
      " [4.  4.5 5.  5.5]]\n"
     ]
    }
   ],
   "source": [
    "# Scaler operation \n",
    "\n",
    "\n",
    "# arithemtic operation\n",
    "\n",
    "print(a1*2)\n",
    "print(\"-----------------------\")\n",
    "print(a1+2)\n",
    "print(\"------------------------\")\n",
    "print(a1-2)\n",
    "print(\"-------------------------\")\n",
    "print(a1/2)"
   ]
  },
  {
   "cell_type": "code",
   "execution_count": 17,
   "id": "aa907926",
   "metadata": {},
   "outputs": [
    {
     "name": "stdout",
     "output_type": "stream",
     "text": [
      "[[False False False False]\n",
      " [ True  True  True  True]\n",
      " [ True  True  True  True]]\n",
      "------------------\n",
      "[[ True  True  True False]\n",
      " [False False False False]\n",
      " [False False False False]]\n"
     ]
    }
   ],
   "source": [
    "# Relational operator\n",
    "print(a2 > 15)\n",
    "print(\"------------------\")\n",
    "print(a2<15)"
   ]
  },
  {
   "cell_type": "code",
   "execution_count": 18,
   "id": "53c2c3d7",
   "metadata": {},
   "outputs": [
    {
     "name": "stdout",
     "output_type": "stream",
     "text": [
      "[[12 14 16 18]\n",
      " [20 22 24 26]\n",
      " [28 30 32 34]]\n",
      "---------------\n",
      "[[  0  13  28  45]\n",
      " [ 64  85 108 133]\n",
      " [160 189 220 253]]\n",
      "---------------\n"
     ]
    }
   ],
   "source": [
    "# Vector operation\n",
    "# arithemtic operation\n",
    "\n",
    "print(a1+a2)\n",
    "print(\"---------------\")\n",
    "print(a1*a2)\n",
    "print(\"---------------\")"
   ]
  },
  {
   "cell_type": "markdown",
   "id": "0772ec61",
   "metadata": {},
   "source": [
    "# Numpy Array Functions"
   ]
  },
  {
   "cell_type": "code",
   "execution_count": 19,
   "id": "f6e63424",
   "metadata": {},
   "outputs": [
    {
     "data": {
      "text/plain": [
       "array([[42.82804088, 51.51380738, 41.52513645],\n",
       "       [21.19665879, 87.56574727, 12.76199281],\n",
       "       [74.74883859,  4.97278331,  9.97594387]])"
      ]
     },
     "execution_count": 19,
     "metadata": {},
     "output_type": "execute_result"
    }
   ],
   "source": [
    "arr1 = np.random.random((3,3))\n",
    "arr = arr1*100\n",
    "arr"
   ]
  },
  {
   "cell_type": "code",
   "execution_count": 20,
   "id": "dafac94a",
   "metadata": {},
   "outputs": [
    {
     "name": "stdout",
     "output_type": "stream",
     "text": [
      "87.56574726598404\n",
      "4.972783307561491\n",
      "347.088949345948\n",
      "8047130977737.546\n",
      "=============================================\n",
      "[51.51380738 87.56574727 74.74883859]\n",
      "=============================================\n",
      "[41.52513645 12.76199281  4.97278331]\n"
     ]
    }
   ],
   "source": [
    "# basic mathematical operation.\n",
    "# max,min,sum,prod\n",
    "print(np.max(arr))\n",
    "print(np.min(arr))\n",
    "print(np.sum(arr))\n",
    "print(np.prod(arr))  # product of number\n",
    "print(\"=============================================\")\n",
    "# row wise max and min value from the array\n",
    "# here in axis 0 represent --> columns and 1 represent --> row.\n",
    "print(np.max(arr,axis=1))\n",
    "print(\"=============================================\")\n",
    "print(np.min(arr,axis=1))"
   ]
  },
  {
   "cell_type": "code",
   "execution_count": 21,
   "id": "5e9fc9f2",
   "metadata": {},
   "outputs": [
    {
     "name": "stdout",
     "output_type": "stream",
     "text": [
      "[45.2889949  40.50813296 29.89918859]\n",
      "[42.82804088 21.19665879  9.97594387]\n",
      "[  19.65707187 1119.06679734 1009.91748867]\n",
      "[ 4.43362965 33.45245577 31.77919899]\n"
     ]
    }
   ],
   "source": [
    "# statistical operation.\n",
    "# mean,mode,median,var,std\n",
    "print(np.mean(arr,axis=1))\n",
    "print(np.median(arr,axis=1))\n",
    "print(np.var(arr,axis=1))\n",
    "print(np.std(arr,axis=1))"
   ]
  },
  {
   "cell_type": "code",
   "execution_count": 22,
   "id": "ab3ce2b4",
   "metadata": {},
   "outputs": [
    {
     "data": {
      "text/plain": [
       "array([[114, 120, 126],\n",
       "       [378, 400, 422],\n",
       "       [642, 680, 718]])"
      ]
     },
     "execution_count": 22,
     "metadata": {},
     "output_type": "execute_result"
    }
   ],
   "source": [
    "# dot product\n",
    "# if we have matrix of 2*3 and 3*2 the we will see the cond like if c1 = r1 then will perform dot prod and matrix is 2*2\n",
    "d1 = np.arange(12).reshape(3,4)\n",
    "d2 = np.arange(12,24).reshape(4,3)\n",
    "dot_prod = np.dot(d1,d2)\n",
    "dot_prod"
   ]
  },
  {
   "cell_type": "code",
   "execution_count": 23,
   "id": "2bcf5e8f",
   "metadata": {},
   "outputs": [
    {
     "name": "stdout",
     "output_type": "stream",
     "text": [
      "[[-0.84797714 -0.66332031 -0.87887124]\n",
      " [-1.55132662 -0.13278028 -2.05869874]\n",
      " [-0.29103651 -3.00119048 -2.3049936 ]]\n",
      "==================================\n",
      "[[1.53461634 1.6738696  1.51475145]\n",
      " [1.23610658 2.40045301 1.13612111]\n",
      " [2.1116896  1.05098501 1.10490509]]\n"
     ]
    }
   ],
   "source": [
    "# log and exponent\n",
    "print(np.log(arr1))\n",
    "print(\"==================================\")\n",
    "print(np.exp(arr1))"
   ]
  },
  {
   "cell_type": "code",
   "execution_count": 24,
   "id": "0b8fa824",
   "metadata": {},
   "outputs": [
    {
     "name": "stdout",
     "output_type": "stream",
     "text": [
      "[[23. 96. 25.]\n",
      " [43. 11. 69.]]\n",
      "====================================\n",
      "[[13. 16. 24.]\n",
      " [42. 41. 64.]]\n",
      "====================================\n",
      "[[38. 35. 43.]\n",
      " [12. 94. 31.]]\n"
     ]
    }
   ],
   "source": [
    "# Round, floor ,ceil\n",
    "print(np.round(np.random.random((2,3))*100))\n",
    "print(\"====================================\")\n",
    "print(np.ceil(np.random.random((2,3))*100))\n",
    "print(\"====================================\")\n",
    "print(np.floor(np.random.random((2,3))*100))"
   ]
  },
  {
   "cell_type": "markdown",
   "id": "081956a1",
   "metadata": {},
   "source": [
    "# Indexing and Slicing"
   ]
  },
  {
   "cell_type": "code",
   "execution_count": 25,
   "id": "08c6e281",
   "metadata": {},
   "outputs": [
    {
     "name": "stdout",
     "output_type": "stream",
     "text": [
      "[0 1 2 3 4 5 6 7 8 9]\n",
      "===================\n",
      "[[ 0  1  2  3]\n",
      " [ 4  5  6  7]\n",
      " [ 8  9 10 11]]\n",
      "===================\n",
      "[[[0 1]\n",
      "  [2 3]]\n",
      "\n",
      " [[4 5]\n",
      "  [6 7]]]\n"
     ]
    }
   ],
   "source": [
    "arr1 = np.arange(10)\n",
    "arr2 = np.arange(12).reshape(3,4)\n",
    "arr3 = np.arange(8).reshape(2,2,2)\n",
    "print(arr1)\n",
    "print(\"===================\")\n",
    "print(arr2)\n",
    "print(\"===================\")\n",
    "print(arr3)"
   ]
  },
  {
   "cell_type": "code",
   "execution_count": 26,
   "id": "a6452edc",
   "metadata": {},
   "outputs": [
    {
     "name": "stdout",
     "output_type": "stream",
     "text": [
      "6\n",
      "9\n"
     ]
    }
   ],
   "source": [
    "# Indexing in 2D matrix\n",
    "# print(arr2[row,column])\n",
    "print(arr2[1,2])\n",
    "print(arr2[2,1])"
   ]
  },
  {
   "cell_type": "code",
   "execution_count": 27,
   "id": "aaf4ffe1",
   "metadata": {},
   "outputs": [
    {
     "name": "stdout",
     "output_type": "stream",
     "text": [
      "[[[0 1]\n",
      "  [2 3]]\n",
      "\n",
      " [[4 5]\n",
      "  [6 7]]]\n",
      "5\n",
      "1\n",
      "3\n"
     ]
    }
   ],
   "source": [
    "# Indexing in 3D matrix\n",
    "print(arr3)\n",
    "print(arr3[1,0,1])   # arr3[kis 2D array m exisit karta h, row indexing, column indexing]\n",
    "print(arr3[0,0,1])\n",
    "print(arr3[0,1,1])"
   ]
  },
  {
   "cell_type": "markdown",
   "id": "8fdeee71",
   "metadata": {},
   "source": [
    "# Slicing"
   ]
  },
  {
   "cell_type": "code",
   "execution_count": 28,
   "id": "b4665cb7",
   "metadata": {},
   "outputs": [
    {
     "name": "stdout",
     "output_type": "stream",
     "text": [
      "[0 1 2 3 4 5 6 7 8 9]\n",
      "[2 3 4]\n"
     ]
    }
   ],
   "source": [
    "# slicing in 1D\n",
    "print(arr1)\n",
    "print(arr1[2:5])"
   ]
  },
  {
   "cell_type": "code",
   "execution_count": 29,
   "id": "d7a52a66",
   "metadata": {},
   "outputs": [
    {
     "name": "stdout",
     "output_type": "stream",
     "text": [
      "[[ 0  1  2  3]\n",
      " [ 4  5  6  7]\n",
      " [ 8  9 10 11]]\n",
      "=========================\n",
      "[1 2]\n",
      "=========================\n",
      "[6 7]\n",
      "=========================\n",
      "[0 1 2 3]\n",
      "=========================\n",
      "[ 2  6 10]\n",
      "=========================\n",
      "[1 5 9]\n",
      "=========================\n",
      "[ 3  7 11]\n",
      "==========================\n",
      "[[ 5  6]\n",
      " [ 9 10]]\n",
      "==========================\n",
      "[[ 0  3]\n",
      " [ 8 11]]\n",
      "==========================\n",
      "[[ 1  3]\n",
      " [ 9 11]]\n",
      "==========================\n",
      "[4 7]\n",
      "==========================\n",
      "[[1 2 3]\n",
      " [5 6 7]]\n"
     ]
    }
   ],
   "source": [
    "# Slicing in 2D\n",
    "print(arr2)\n",
    "print(\"=========================\")\n",
    "print(arr2[0,1:3])\n",
    "print(\"=========================\")\n",
    "print(arr2[1,2:4])\n",
    "print(\"=========================\")\n",
    "print(arr2[0,:])\n",
    "print(\"=========================\")\n",
    "print(arr2[:,2])\n",
    "print(\"=========================\")\n",
    "print(arr2[:,1])\n",
    "print(\"=========================\")\n",
    "print(arr2[:,3])\n",
    "print(\"==========================\")\n",
    "print(arr2[1:,1:3])\n",
    "print(\"==========================\")\n",
    "print(arr2[::2,::3])\n",
    "print(\"==========================\")\n",
    "print(arr2[::2,1::2])\n",
    "print(\"==========================\")\n",
    "print(arr2[1,0::3])\n",
    "print(\"==========================\")\n",
    "print(arr2[0:2,1:])"
   ]
  },
  {
   "cell_type": "code",
   "execution_count": 30,
   "id": "6f81426b",
   "metadata": {},
   "outputs": [
    {
     "name": "stdout",
     "output_type": "stream",
     "text": [
      "[[[ 0  1  2]\n",
      "  [ 3  4  5]\n",
      "  [ 6  7  8]]\n",
      "\n",
      " [[ 9 10 11]\n",
      "  [12 13 14]\n",
      "  [15 16 17]]\n",
      "\n",
      " [[18 19 20]\n",
      "  [21 22 23]\n",
      "  [24 25 26]]]\n",
      "==========================\n",
      "[[0 1 2]\n",
      " [3 4 5]\n",
      " [6 7 8]]\n",
      "==========================\n",
      "[[ 9 10 11]\n",
      " [12 13 14]\n",
      " [15 16 17]]\n",
      "==========================\n",
      "[[18 19 20]\n",
      " [21 22 23]\n",
      " [24 25 26]]\n",
      "==========================\n",
      "[[[ 0  1  2]\n",
      "  [ 3  4  5]\n",
      "  [ 6  7  8]]\n",
      "\n",
      " [[18 19 20]\n",
      "  [21 22 23]\n",
      "  [24 25 26]]]\n",
      "==========================\n",
      "[3 4 5]\n",
      "==========================\n",
      "[10 13 16]\n",
      "==========================\n",
      "[[22 23]\n",
      " [25 26]]\n",
      "==========================\n",
      "[[[ 0  2]]\n",
      "\n",
      " [[18 20]]]\n"
     ]
    }
   ],
   "source": [
    "# Slicing in 3D\n",
    "ar = np.arange(27).reshape(3,3,3)\n",
    "print(ar)\n",
    "print(\"==========================\")\n",
    "print(ar[0])\n",
    "print(\"==========================\")\n",
    "print(ar[1])\n",
    "print(\"==========================\")\n",
    "print(ar[2])\n",
    "print(\"==========================\")\n",
    "print(ar[::2])\n",
    "print(\"==========================\")\n",
    "print(ar[0,1,:])\n",
    "print(\"==========================\")\n",
    "print(ar[1,:,1])\n",
    "print(\"==========================\")\n",
    "print(ar[2,1:,1:])\n",
    "print(\"==========================\")\n",
    "print(ar[::2,0:1:2,0::2])"
   ]
  },
  {
   "cell_type": "markdown",
   "id": "cb67b47e",
   "metadata": {},
   "source": [
    "# Iterating"
   ]
  },
  {
   "cell_type": "code",
   "execution_count": 31,
   "id": "81da8fee",
   "metadata": {},
   "outputs": [
    {
     "name": "stdout",
     "output_type": "stream",
     "text": [
      "[0 1 2 3 4 5 6 7 8 9]\n",
      "=======================\n",
      "0\n",
      "1\n",
      "2\n",
      "3\n",
      "4\n",
      "5\n",
      "6\n",
      "7\n",
      "8\n",
      "9\n"
     ]
    }
   ],
   "source": [
    "print(arr1)\n",
    "print(\"=======================\")\n",
    "for i in arr1:\n",
    "    print(i)"
   ]
  },
  {
   "cell_type": "code",
   "execution_count": 32,
   "id": "0103c919",
   "metadata": {},
   "outputs": [
    {
     "name": "stdout",
     "output_type": "stream",
     "text": [
      "[[ 0  1  2  3]\n",
      " [ 4  5  6  7]\n",
      " [ 8  9 10 11]]\n",
      "===================\n",
      "[0 1 2 3]\n",
      "[4 5 6 7]\n",
      "[ 8  9 10 11]\n"
     ]
    }
   ],
   "source": [
    "print(arr2)\n",
    "print(\"===================\")\n",
    "for i in arr2:\n",
    "    print(i)"
   ]
  },
  {
   "cell_type": "code",
   "execution_count": 33,
   "id": "a8407141",
   "metadata": {},
   "outputs": [
    {
     "name": "stdout",
     "output_type": "stream",
     "text": [
      "[[[ 0  1  2]\n",
      "  [ 3  4  5]\n",
      "  [ 6  7  8]]\n",
      "\n",
      " [[ 9 10 11]\n",
      "  [12 13 14]\n",
      "  [15 16 17]]\n",
      "\n",
      " [[18 19 20]\n",
      "  [21 22 23]\n",
      "  [24 25 26]]]\n",
      "=======================\n",
      "\n",
      "[[0 1 2]\n",
      " [3 4 5]\n",
      " [6 7 8]]\n",
      "[[ 9 10 11]\n",
      " [12 13 14]\n",
      " [15 16 17]]\n",
      "[[18 19 20]\n",
      " [21 22 23]\n",
      " [24 25 26]]\n"
     ]
    }
   ],
   "source": [
    "print(ar)\n",
    "print(\"=======================\\n\")\n",
    "for i in ar:\n",
    "    print(i)"
   ]
  },
  {
   "cell_type": "code",
   "execution_count": 34,
   "id": "69440850",
   "metadata": {},
   "outputs": [
    {
     "name": "stdout",
     "output_type": "stream",
     "text": [
      "0\n",
      "1\n",
      "2\n",
      "3\n",
      "4\n",
      "5\n",
      "6\n",
      "7\n",
      "8\n",
      "9\n",
      "10\n",
      "11\n",
      "12\n",
      "13\n",
      "14\n",
      "15\n",
      "16\n",
      "17\n",
      "18\n",
      "19\n",
      "20\n",
      "21\n",
      "22\n",
      "23\n",
      "24\n",
      "25\n",
      "26\n"
     ]
    }
   ],
   "source": [
    "# for 3D array   we can use nd iter \n",
    "for i in np.nditer(ar):\n",
    "    print(i)"
   ]
  },
  {
   "cell_type": "markdown",
   "id": "e9cdd96c",
   "metadata": {},
   "source": [
    "# Reshaping"
   ]
  },
  {
   "cell_type": "code",
   "execution_count": 35,
   "id": "b2d9b72a",
   "metadata": {},
   "outputs": [
    {
     "name": "stdout",
     "output_type": "stream",
     "text": [
      "[[ 0  1  2  3]\n",
      " [ 4  5  6  7]\n",
      " [ 8  9 10 11]]\n",
      "===================================\n",
      "[[ 0  4  8]\n",
      " [ 1  5  9]\n",
      " [ 2  6 10]\n",
      " [ 3  7 11]]\n"
     ]
    }
   ],
   "source": [
    "# Transpose\n",
    "print(arr2)\n",
    "print(\"===================================\")\n",
    "print(np.transpose(arr2))"
   ]
  },
  {
   "cell_type": "code",
   "execution_count": 36,
   "id": "f46bbab4",
   "metadata": {},
   "outputs": [
    {
     "name": "stdout",
     "output_type": "stream",
     "text": [
      "[[ 0  1  2  3]\n",
      " [ 4  5  6  7]\n",
      " [ 8  9 10 11]]\n",
      "===================\n",
      "[ 0  1  2  3  4  5  6  7  8  9 10 11]\n",
      "===================\n",
      "[[[ 0  1  2]\n",
      "  [ 3  4  5]\n",
      "  [ 6  7  8]]\n",
      "\n",
      " [[ 9 10 11]\n",
      "  [12 13 14]\n",
      "  [15 16 17]]\n",
      "\n",
      " [[18 19 20]\n",
      "  [21 22 23]\n",
      "  [24 25 26]]]\n",
      "===================\n",
      "[ 0  1  2  3  4  5  6  7  8  9 10 11 12 13 14 15 16 17 18 19 20 21 22 23\n",
      " 24 25 26]\n"
     ]
    }
   ],
   "source": [
    "# Ravel : It will convert any dimension of array into 1D array.\n",
    "print(arr2)\n",
    "print(\"===================\")\n",
    "print(arr2.ravel())\n",
    "print(\"===================\")\n",
    "print(ar)\n",
    "print(\"===================\")\n",
    "print(ar.ravel())"
   ]
  },
  {
   "cell_type": "markdown",
   "id": "e711cc7d",
   "metadata": {},
   "source": [
    "# Stacking\n",
    "Two join 2 array one after the other then will called it as stacking."
   ]
  },
  {
   "cell_type": "code",
   "execution_count": 37,
   "id": "b1eb5143",
   "metadata": {},
   "outputs": [
    {
     "name": "stdout",
     "output_type": "stream",
     "text": [
      "[[ 0  1  2  3]\n",
      " [ 4  5  6  7]\n",
      " [ 8  9 10 11]]\n",
      "======================\n",
      "[[12 13 14 15]\n",
      " [16 17 18 19]\n",
      " [20 21 22 23]]\n",
      "======================\n",
      "\n",
      "\n"
     ]
    },
    {
     "data": {
      "text/plain": [
       "array([[ 0,  1,  2,  3, 12, 13, 14, 15,  0,  1,  2,  3, 12, 13, 14, 15],\n",
       "       [ 4,  5,  6,  7, 16, 17, 18, 19,  4,  5,  6,  7, 16, 17, 18, 19],\n",
       "       [ 8,  9, 10, 11, 20, 21, 22, 23,  8,  9, 10, 11, 20, 21, 22, 23]])"
      ]
     },
     "execution_count": 37,
     "metadata": {},
     "output_type": "execute_result"
    }
   ],
   "source": [
    "# horizontal stacking\n",
    "s1 = np.arange(12).reshape(3,4)\n",
    "s2 = np.arange(12,24).reshape(3,4)\n",
    "print(s1)\n",
    "print(\"======================\")\n",
    "print(s2)\n",
    "print(\"======================\\n\\n\")\n",
    "s_hori = np.hstack((s1,s2,s1,s2))\n",
    "s_hori"
   ]
  },
  {
   "cell_type": "code",
   "execution_count": 38,
   "id": "25dd9342",
   "metadata": {},
   "outputs": [
    {
     "data": {
      "text/plain": [
       "array([[ 0,  1,  2,  3],\n",
       "       [ 4,  5,  6,  7],\n",
       "       [ 8,  9, 10, 11],\n",
       "       [12, 13, 14, 15],\n",
       "       [16, 17, 18, 19],\n",
       "       [20, 21, 22, 23],\n",
       "       [ 0,  1,  2,  3],\n",
       "       [ 4,  5,  6,  7],\n",
       "       [ 8,  9, 10, 11]])"
      ]
     },
     "execution_count": 38,
     "metadata": {},
     "output_type": "execute_result"
    }
   ],
   "source": [
    "# vertical stacking\n",
    "s_vert = np.vstack((s1,s2,s1))\n",
    "s_vert"
   ]
  },
  {
   "cell_type": "markdown",
   "id": "1ccb9c89",
   "metadata": {},
   "source": [
    "# spliting"
   ]
  },
  {
   "cell_type": "code",
   "execution_count": 39,
   "id": "4b6bd146",
   "metadata": {},
   "outputs": [
    {
     "data": {
      "text/plain": [
       "[array([[ 0,  1,  2,  3],\n",
       "        [ 4,  5,  6,  7],\n",
       "        [ 8,  9, 10, 11]]),\n",
       " array([[12, 13, 14, 15],\n",
       "        [16, 17, 18, 19],\n",
       "        [20, 21, 22, 23]]),\n",
       " array([[ 0,  1,  2,  3],\n",
       "        [ 4,  5,  6,  7],\n",
       "        [ 8,  9, 10, 11]]),\n",
       " array([[12, 13, 14, 15],\n",
       "        [16, 17, 18, 19],\n",
       "        [20, 21, 22, 23]])]"
      ]
     },
     "execution_count": 39,
     "metadata": {},
     "output_type": "execute_result"
    }
   ],
   "source": [
    "# horizontal split\n",
    "np.hsplit(s_hori,4)"
   ]
  },
  {
   "cell_type": "code",
   "execution_count": 40,
   "id": "0128e8df",
   "metadata": {},
   "outputs": [
    {
     "data": {
      "text/plain": [
       "[array([[ 0,  1,  2,  3],\n",
       "        [ 4,  5,  6,  7],\n",
       "        [ 8,  9, 10, 11]]),\n",
       " array([[12, 13, 14, 15],\n",
       "        [16, 17, 18, 19],\n",
       "        [20, 21, 22, 23]]),\n",
       " array([[ 0,  1,  2,  3],\n",
       "        [ 4,  5,  6,  7],\n",
       "        [ 8,  9, 10, 11]])]"
      ]
     },
     "execution_count": 40,
     "metadata": {},
     "output_type": "execute_result"
    }
   ],
   "source": [
    "# vsplit -- vertical split\n",
    "s_vert\n",
    "np.vsplit(s_vert,3)"
   ]
  },
  {
   "cell_type": "code",
   "execution_count": null,
   "id": "03a23798",
   "metadata": {},
   "outputs": [],
   "source": []
  }
 ],
 "metadata": {
  "kernelspec": {
   "display_name": "Python 3 (ipykernel)",
   "language": "python",
   "name": "python3"
  },
  "language_info": {
   "codemirror_mode": {
    "name": "ipython",
    "version": 3
   },
   "file_extension": ".py",
   "mimetype": "text/x-python",
   "name": "python",
   "nbconvert_exporter": "python",
   "pygments_lexer": "ipython3",
   "version": "3.11.4"
  }
 },
 "nbformat": 4,
 "nbformat_minor": 5
}
