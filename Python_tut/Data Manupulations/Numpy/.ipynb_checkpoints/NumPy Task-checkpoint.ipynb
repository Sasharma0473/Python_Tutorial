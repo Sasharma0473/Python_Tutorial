{
 "cells": [
  {
   "cell_type": "code",
   "execution_count": 1,
   "id": "40b990ab",
   "metadata": {},
   "outputs": [],
   "source": [
    "# NumPy Mathematics Imp - 1\n",
    "# NumPy Statistics Imp - 2\n",
    "# NumPy Sorting and Searching Imp -3"
   ]
  },
  {
   "cell_type": "markdown",
   "id": "828e318b",
   "metadata": {},
   "source": [
    "# NumPy Statistics Imp"
   ]
  },
  {
   "cell_type": "code",
   "execution_count": 2,
   "id": "a5e66e5f",
   "metadata": {},
   "outputs": [],
   "source": [
    "# Compute the median of the flattened NumPy array\n",
    "# Find Mean of a List of Numpy Array\n",
    "# Calculate the mean of array ignoring the NaN value\n",
    "# Get the mean value from given matrix\n",
    "# Compute the variance of the NumPy array\n",
    "# Compute the standard deviation of the NumPy array\n",
    "# Calculate the mean across dimension in a 2D NumPy array"
   ]
  },
  {
   "cell_type": "code",
   "execution_count": 3,
   "id": "8152680c",
   "metadata": {},
   "outputs": [
    {
     "name": "stdout",
     "output_type": "stream",
     "text": [
      "The array is  [1 2 3 4 5 6 7 8 9]\n",
      "The median of array is  5.0\n"
     ]
    }
   ],
   "source": [
    "# Compute the median of the flattened NumPy array\n",
    "import numpy as np\n",
    "arr = np.array([1,2,3,4,5,6,7,8,9])\n",
    "print(\"The array is \", arr)\n",
    "median_arr = np.median(arr)\n",
    "print(\"The median of array is \", median_arr)"
   ]
  },
  {
   "cell_type": "code",
   "execution_count": 4,
   "id": "5d08484f",
   "metadata": {},
   "outputs": [
    {
     "name": "stdout",
     "output_type": "stream",
     "text": [
      "The array is  [1 2 3 4 5 6 7 8]\n",
      "The mean is  4.5\n"
     ]
    }
   ],
   "source": [
    "# Find Mean of a List of Numpy Array\n",
    "import numpy as np \n",
    "arr1 = np.array([1,2,3,4,5,6,7,8])\n",
    "print(\"The array is \", arr1)\n",
    "mean_arr1 = np.mean(arr1)\n",
    "print(\"The mean is \", mean_arr1) "
   ]
  },
  {
   "cell_type": "code",
   "execution_count": 5,
   "id": "f29ea3ce",
   "metadata": {},
   "outputs": [
    {
     "name": "stdout",
     "output_type": "stream",
     "text": [
      "The array is  [ 1.  2.  3.  4.  5. nan  6.  7.  8.]\n",
      "4.5\n"
     ]
    }
   ],
   "source": [
    "# Calculate the mean of array ignoring the NaN value\n",
    "import numpy as np \n",
    "mean_nan = np.array([1,2,3,4,5,np.nan,6,7,8])\n",
    "print(\"The array is \", mean_nan)\n",
    "mean_nan1 = np.nanmean(mean_nan) # Compute the arithmetic mean along the specified axis, ignoring NaNs\n",
    "print(mean_nan1)"
   ]
  },
  {
   "cell_type": "code",
   "execution_count": 6,
   "id": "10932644",
   "metadata": {},
   "outputs": [
    {
     "name": "stdout",
     "output_type": "stream",
     "text": [
      "The array is  [ 1  2  3  9  2  3  4 10  5  6  7  8]\n",
      "5.0\n"
     ]
    }
   ],
   "source": [
    "# Get the mean value from given matrix\n",
    "mat = np.array([[1,2,3,9],[2,3,4,10],[5,6,7,8]])\n",
    "mat_arr = mat.flatten()\n",
    "print(\"The array is \", mat_arr)\n",
    "mat_mean= np.mean(mat_arr)\n",
    "print(mat_mean)"
   ]
  },
  {
   "cell_type": "code",
   "execution_count": 7,
   "id": "590c2fb6",
   "metadata": {},
   "outputs": [
    {
     "name": "stdout",
     "output_type": "stream",
     "text": [
      "5.25\n"
     ]
    }
   ],
   "source": [
    "# Compute the variance of the NumPy array\n",
    "import numpy as np \n",
    "var_arr = np.array([1,2,3,4,5,6,7,8])\n",
    "var1 = np.var(var_arr)\n",
    "print(var1)"
   ]
  },
  {
   "cell_type": "code",
   "execution_count": 8,
   "id": "a0959ed2",
   "metadata": {},
   "outputs": [
    {
     "name": "stdout",
     "output_type": "stream",
     "text": [
      "18.666666666666668\n"
     ]
    }
   ],
   "source": [
    "import numpy as np \n",
    "var_arr1 = np.arange(15)\n",
    "var2 = np.var(var_arr1)\n",
    "print(var2)"
   ]
  },
  {
   "cell_type": "code",
   "execution_count": 9,
   "id": "8d759b73",
   "metadata": {},
   "outputs": [
    {
     "name": "stdout",
     "output_type": "stream",
     "text": [
      "4.320493798938574\n"
     ]
    }
   ],
   "source": [
    "# Compute the standard deviation of the NumPy array\n",
    "import numpy as np \n",
    "std_dev1 = np.arange(15)\n",
    "standard_deviation = np.std(std_dev1)\n",
    "print(standard_deviation)"
   ]
  },
  {
   "cell_type": "code",
   "execution_count": 10,
   "id": "ee813b3e",
   "metadata": {
    "scrolled": true
   },
   "outputs": [
    {
     "name": "stdout",
     "output_type": "stream",
     "text": [
      "The mean of row is [2. 5. 8.]\n",
      "The mean of col is  [4. 5. 6.]\n"
     ]
    }
   ],
   "source": [
    "# Calculate the mean across dimension in a 2D NumPy array\n",
    "import numpy as np\n",
    "matrix_mean = np.array([[1,2,3],[4,5,6],[7,8,9]])\n",
    "row_mean = np.mean(matrix_mean,axis =1)\n",
    "row1_mean= row_mean[0::]\n",
    "print(\"The mean of row is\", row1_mean)\n",
    "column_mean = np.mean(matrix_mean,axis=0)\n",
    "col1_mean= column_mean[0::]\n",
    "print(\"The mean of col is \", col1_mean)"
   ]
  },
  {
   "cell_type": "markdown",
   "id": "003aa1a9",
   "metadata": {},
   "source": [
    "# NumPy Mathematics Imp"
   ]
  },
  {
   "cell_type": "code",
   "execution_count": 11,
   "id": "bc59405a",
   "metadata": {},
   "outputs": [],
   "source": [
    "# How to get element-wise true division of an array using Numpy?\n",
    "# How to calculate the element-wise absolute value of NumPy array?\n",
    "# Compute the negative of the NumPy array\n",
    "# Multiply 2d numpy array corresponding to 1d array\n",
    "# Computes the inner product of two arrays\n",
    "# Compute the nth percentile of the NumPy array\n",
    "# Calculate the n-th order discrete difference along the given axis\n",
    "# Calculate the sum of all columns in a 2D NumPy array\n",
    "# Calculate average values of two given NumPy arrays\n",
    "# Determine the positive square-root of an array"
   ]
  },
  {
   "cell_type": "code",
   "execution_count": 12,
   "id": "e8f7ed7a",
   "metadata": {},
   "outputs": [
    {
     "name": "stdout",
     "output_type": "stream",
     "text": [
      "[0.         0.33333333 0.66666667 1.         1.33333333 1.66666667\n",
      " 2.         2.33333333 2.66666667 3.        ]\n"
     ]
    }
   ],
   "source": [
    "# How to get element-wise true division of an array using Numpy?\n",
    "import numpy as np\n",
    "div = np.arange(10)\n",
    "division = np.true_divide(div,3)   # it will perform the division in the array.\n",
    "print(division)"
   ]
  },
  {
   "cell_type": "code",
   "execution_count": 13,
   "id": "b29ab06b",
   "metadata": {},
   "outputs": [
    {
     "name": "stdout",
     "output_type": "stream",
     "text": [
      "[ 1  2  3  4  5  6  7  8  9 10]\n"
     ]
    }
   ],
   "source": [
    "# How to calculate the element-wise absolute value of NumPy array?\n",
    "import numpy as np\n",
    "absolute_array = np.array([1,2,-3,-4,-5,-6,-7,-8,9,10])\n",
    "absolute_ele = np.absolute(absolute_array)      # It will give the absolute value. we can also use fabs function to get this.\n",
    "print(absolute_ele)"
   ]
  },
  {
   "cell_type": "code",
   "execution_count": 14,
   "id": "657b5ee0",
   "metadata": {},
   "outputs": [
    {
     "name": "stdout",
     "output_type": "stream",
     "text": [
      "[-1 -2 -3 -4 -5]\n"
     ]
    }
   ],
   "source": [
    "# Compute the negative of the NumPy array\n",
    "# It will give the negative of a given array.\n",
    "import numpy as np\n",
    "negative_array = np.array([1,2,3,4,5])\n",
    "negation_array = np.negative(negative_array)\n",
    "print(negation_array)"
   ]
  },
  {
   "cell_type": "code",
   "execution_count": 15,
   "id": "aea9a723",
   "metadata": {},
   "outputs": [
    {
     "name": "stdout",
     "output_type": "stream",
     "text": [
      "[[1 2 3]\n",
      " [4 5 6]]\n",
      "[1 2 3]\n",
      "[[ 1  4  9]\n",
      " [ 4 10 18]]\n"
     ]
    }
   ],
   "source": [
    "# Multiply 2d numpy array corresponding to 1d array\n",
    "import numpy as np\n",
    "twodarray = np.array([[1,2,3],[4,5,6]])\n",
    "onedarray = np.array([1,2,3])\n",
    "print(twodarray)\n",
    "print(onedarray)\n",
    "multiplication = np.multiply(twodarray,onedarray)\n",
    "print(multiplication)"
   ]
  },
  {
   "cell_type": "code",
   "execution_count": 16,
   "id": "58496e70",
   "metadata": {},
   "outputs": [
    {
     "name": "stdout",
     "output_type": "stream",
     "text": [
      "70\n"
     ]
    }
   ],
   "source": [
    "# Computes the inner product of two arrays.\n",
    "# It will give the product of inner arrays.\n",
    "import numpy as np\n",
    "arr1 = np.array([1,2,3,4])\n",
    "arr2 = np.array([5,6,7,8])\n",
    "inner_result = np.inner(arr1,arr2)\n",
    "print(inner_result)"
   ]
  },
  {
   "cell_type": "code",
   "execution_count": 17,
   "id": "fc99e974",
   "metadata": {},
   "outputs": [
    {
     "name": "stdout",
     "output_type": "stream",
     "text": [
      "The 25 percentile is 3.25 and 75 percentile is 7.75\n"
     ]
    }
   ],
   "source": [
    "# Compute the nth percentile of the NumPy array\n",
    "import numpy as np\n",
    "percentile_array = np.array([1,2,3,4,5,6,7,8,9,10])\n",
    "percentile1,percentile2= np.percentile(percentile_array,[25,75])\n",
    "print(\"The 25 percentile is {} and 75 percentile is {}\".format(percentile1,percentile2))"
   ]
  },
  {
   "cell_type": "code",
   "execution_count": 18,
   "id": "d458e315",
   "metadata": {},
   "outputs": [
    {
     "name": "stdout",
     "output_type": "stream",
     "text": [
      "[1 1 1 1]\n"
     ]
    }
   ],
   "source": [
    "# Calculate the n-th order discrete difference along the given axis\n",
    "# Please visit the concept\n",
    "import numpy as np \n",
    "discrete_diff = np.array([1,2,3,4,5])\n",
    "d_diff = np.diff(discrete_diff)\n",
    "print(d_diff)"
   ]
  },
  {
   "cell_type": "code",
   "execution_count": 19,
   "id": "8dbd9dfc",
   "metadata": {},
   "outputs": [
    {
     "name": "stdout",
     "output_type": "stream",
     "text": [
      "[2 4 6]\n"
     ]
    }
   ],
   "source": [
    "# Calculate the sum of all columns in a 2D NumPy array\n",
    "# column_sum = np.sum(array_column,axis=0) here if we take axis = 0 it will sum all column , if we take axis=1 then\n",
    "# it will add all columns\n",
    "import numpy as np\n",
    "array_column = np.array([[1,2,3],[1,2,3]])\n",
    "column_sum = np.sum(array_column,axis=0)\n",
    "print(column_sum)"
   ]
  },
  {
   "cell_type": "code",
   "execution_count": 20,
   "id": "ce25f8bd",
   "metadata": {},
   "outputs": [
    {
     "name": "stdout",
     "output_type": "stream",
     "text": [
      "3.0\n"
     ]
    }
   ],
   "source": [
    "# Calculate average values of two given NumPy arrays\n",
    "import numpy as np\n",
    "array1 = np.array([1,2,3,4,5])\n",
    "avg = np.average(array1)\n",
    "print(avg)"
   ]
  },
  {
   "cell_type": "code",
   "execution_count": 21,
   "id": "86f2e2fc",
   "metadata": {},
   "outputs": [
    {
     "name": "stdout",
     "output_type": "stream",
     "text": [
      "[5. 6. 7.]\n"
     ]
    }
   ],
   "source": [
    "# Determine the positive square-root of an array\n",
    "array2 = np.array([25,36,49])\n",
    "square_root = np.sqrt(array2)\n",
    "print(square_root)"
   ]
  },
  {
   "cell_type": "markdown",
   "id": "ce609f8a",
   "metadata": {},
   "source": [
    "# NumPy Sorting and Searching Imp"
   ]
  },
  {
   "cell_type": "code",
   "execution_count": 22,
   "id": "a476c132",
   "metadata": {},
   "outputs": [],
   "source": [
    "# Finding the k smallest values of a NumPy array\n",
    "# How to get the n-largest values of an array using NumPy?"
   ]
  },
  {
   "cell_type": "code",
   "execution_count": 23,
   "id": "f7502aff",
   "metadata": {},
   "outputs": [
    {
     "name": "stdout",
     "output_type": "stream",
     "text": [
      "1\n"
     ]
    }
   ],
   "source": [
    "# Finding the k smallest values of a NumPy array\n",
    "import numpy as np \n",
    "minimum_array = np.array([4,2,1,5,3,6,8,9])\n",
    "mini_array = np.sort(minimum_array)\n",
    "mini_value = mini_array[0]\n",
    "print(mini_value)"
   ]
  },
  {
   "cell_type": "code",
   "execution_count": 24,
   "id": "9fbd885f",
   "metadata": {},
   "outputs": [
    {
     "name": "stdout",
     "output_type": "stream",
     "text": [
      "9\n"
     ]
    }
   ],
   "source": [
    "# How to get the n-largest values of an array using NumPy?\n",
    "import numpy as np \n",
    "large_array = np.array([4,2,1,5,3,6,8,9])\n",
    "l_array = np.sort(large_array)\n",
    "max_value = l_array[-1]\n",
    "print(max_value)"
   ]
  },
  {
   "cell_type": "markdown",
   "id": "8f228f3a",
   "metadata": {},
   "source": [
    "# Numpy Task 1"
   ]
  },
  {
   "cell_type": "code",
   "execution_count": 25,
   "id": "9495908b",
   "metadata": {},
   "outputs": [
    {
     "data": {
      "text/plain": [
       "array([nan, nan, nan, nan,  1., nan, nan, nan, nan, nan])"
      ]
     },
     "execution_count": 25,
     "metadata": {},
     "output_type": "execute_result"
    }
   ],
   "source": [
    "# Create a null vector of size 10 but the fifth value which is 1.\n",
    "nan_value = np.nan*np.empty(10)\n",
    "nan_value[4]=1\n",
    "nan_value"
   ]
  },
  {
   "cell_type": "code",
   "execution_count": 26,
   "id": "4e73b7be",
   "metadata": {},
   "outputs": [
    {
     "name": "stdout",
     "output_type": "stream",
     "text": [
      "Enter the value in a 3\n",
      "enter the value in b 4\n",
      "[[22  9 17 63]\n",
      " [65 14  5 70]\n",
      " [ 3 41 17 47]]\n"
     ]
    },
    {
     "data": {
      "text/plain": [
       "31.083333333333332"
      ]
     },
     "execution_count": 26,
     "metadata": {},
     "output_type": "execute_result"
    }
   ],
   "source": [
    "# Ask user to input two numbers a, b. \n",
    "# Write a program to generate a random array of shape (a, b) and print the array and avg of the array.\n",
    "import math\n",
    "def random_array(a,b):\n",
    "    rand_arr = np.random.randint(1,100,a*b).reshape(a,b)\n",
    "    print(rand_arr)\n",
    "    mean_value = np.mean(rand_arr)\n",
    "    return mean_value\n",
    "\n",
    "a = int(input(\"Enter the value in a \"))\n",
    "b = int(input(\"enter the value in b \"))\n",
    "random_array(a,b)"
   ]
  },
  {
   "cell_type": "code",
   "execution_count": 3,
   "id": "31db6c08",
   "metadata": {},
   "outputs": [
    {
     "name": "stdout",
     "output_type": "stream",
     "text": [
      "enter the 2 number 5 5\n"
     ]
    },
    {
     "data": {
      "text/plain": [
       "array([[1., 1., 1., 1., 1.],\n",
       "       [1., 0., 0., 0., 1.],\n",
       "       [1., 0., 0., 0., 1.],\n",
       "       [1., 0., 0., 0., 1.],\n",
       "       [1., 1., 1., 1., 1.]])"
      ]
     },
     "execution_count": 3,
     "metadata": {},
     "output_type": "execute_result"
    }
   ],
   "source": [
    "# Write a function to create a 2d array with 1 on the border and 0 inside. \n",
    "# Take 2-D array shape as (a,b) as parameter to function.\n",
    "import numpy as np\n",
    "def border_array(l1,l2):\n",
    "    one_arr = np.ones((l1,l2))\n",
    "    one_arr[1:-1,1:-1]=0\n",
    "    return one_arr\n",
    "\n",
    "l1,l2 = map(int,input(\"enter the 2 number \").split())\n",
    "border_array(l1,l2)"
   ]
  },
  {
   "cell_type": "code",
   "execution_count": 28,
   "id": "c0a87f34",
   "metadata": {},
   "outputs": [
    {
     "data": {
      "text/plain": [
       "array([0.        , 0.11111111, 0.22222222, 0.33333333, 0.44444444,\n",
       "       0.55555556, 0.66666667, 0.77777778, 0.88888889, 1.        ])"
      ]
     },
     "execution_count": 28,
     "metadata": {},
     "output_type": "execute_result"
    }
   ],
   "source": [
    "# Create a vector of size 10 with values ranging from 0 to 1, both excluded.\n",
    "np.linspace(0,1,10)"
   ]
  },
  {
   "cell_type": "code",
   "execution_count": 29,
   "id": "0a82a850",
   "metadata": {},
   "outputs": [
    {
     "data": {
      "text/plain": [
       "array([[0., 1., 2., 3., 4.],\n",
       "       [0., 1., 2., 3., 4.],\n",
       "       [0., 1., 2., 3., 4.],\n",
       "       [0., 1., 2., 3., 4.],\n",
       "       [0., 1., 2., 3., 4.]])"
      ]
     },
     "execution_count": 29,
     "metadata": {},
     "output_type": "execute_result"
    }
   ],
   "source": [
    "# Create a 5x5 matrix with row values ranging from 0 to 4.\n",
    "\n",
    "zero = np.zeros((5,5))\n",
    "num = np.arange(0,5)\n",
    "new_mat = zero+num\n",
    "new_mat"
   ]
  },
  {
   "cell_type": "code",
   "execution_count": 30,
   "id": "e5a8c1ad",
   "metadata": {},
   "outputs": [
    {
     "data": {
      "text/plain": [
       "array([31.89043744, 97.04638066, 73.17103252, 42.63801121, 84.62860037,\n",
       "       95.713113  , 84.        , 54.23098745, 49.36598019, 79.20227269])"
      ]
     },
     "execution_count": 30,
     "metadata": {},
     "output_type": "execute_result"
    }
   ],
   "source": [
    "# Consider a random integer (in range 1 to 100) vector with shape (10,2) representing coordinates, \n",
    "# and coordinates of a point as array is given. Create an array of distance of each point \n",
    "# in the random vectros from the given point. Distance array should be interger type.\n",
    "arr = np.random.randint(1,100,20).reshape(10,2)\n",
    "point = np.array([2,3])\n",
    "dist = np.sqrt(np.sum(abs((point-arr))**2,axis=1))\n",
    "dist"
   ]
  },
  {
   "cell_type": "code",
   "execution_count": 31,
   "id": "498ce68f",
   "metadata": {},
   "outputs": [
    {
     "name": "stdout",
     "output_type": "stream",
     "text": [
      "1\n"
     ]
    },
    {
     "data": {
      "text/plain": [
       "array([[1.]])"
      ]
     },
     "execution_count": 31,
     "metadata": {},
     "output_type": "execute_result"
    }
   ],
   "source": [
    "# You are given a space separated list of numbers. \n",
    "# Your task is to print a reversed NumPy array with the element type float.\n",
    "\n",
    "#Input Format:\n",
    "#A single line of input containing space separated numbers.\n",
    "\n",
    "#Output Format:\n",
    "#Print the reverse NumPy array with type float.\n",
    "\n",
    "# solution \n",
    "# strip - it will remove extra sapce or white space from the given input\n",
    "\n",
    "arr = input().strip().split()\n",
    "np.array([arr[::-1]]).astype('float')"
   ]
  },
  {
   "cell_type": "code",
   "execution_count": 32,
   "id": "619fd3be",
   "metadata": {},
   "outputs": [
    {
     "data": {
      "text/plain": [
       "10"
      ]
     },
     "execution_count": 32,
     "metadata": {},
     "output_type": "execute_result"
    }
   ],
   "source": [
    "# Count the number of elements of a numpy array.\n",
    "\n",
    "arr = np.array([2,2,2,4,5,5,6,6,6,6])\n",
    "arr.size"
   ]
  },
  {
   "cell_type": "code",
   "execution_count": 33,
   "id": "b26bbea2",
   "metadata": {},
   "outputs": [
    {
     "data": {
      "text/plain": [
       "array([[0, 1, 2, 3, 4],\n",
       "       [5, 6, 7, 8, 9],\n",
       "       [1, 1, 1, 1, 1],\n",
       "       [1, 1, 1, 1, 1]])"
      ]
     },
     "execution_count": 33,
     "metadata": {},
     "output_type": "execute_result"
    }
   ],
   "source": [
    "# Write a python function that accepts infinite number of numpy arrays and do the vertical stack to them. \n",
    "# Then return that new array as result. The function only accepts the numpy array, otherwise raise error.\n",
    "# The -1 means that the number of columns is inferred based on the size of the original array.\n",
    "\n",
    "def vertical_stack(*args):\n",
    "    for i in args:\n",
    "        if type(i)!= np.ndarray:\n",
    "            raise TypeError(\"Require Numpy Array\")\n",
    "    return np.vstack(args)\n",
    "\n",
    "a = np.arange(10).reshape(2,-1)\n",
    "b = np.repeat(1, 10).reshape(2, -1)\n",
    "vertical_stack(a,b)"
   ]
  },
  {
   "cell_type": "code",
   "execution_count": 34,
   "id": "7b1fb4bb",
   "metadata": {},
   "outputs": [
    {
     "data": {
      "text/plain": [
       "array(['2020-09-15', '2020-09-16', '2020-09-17', '2020-09-18',\n",
       "       '2020-09-19', '2020-09-20', '2020-09-21', '2020-09-22',\n",
       "       '2020-09-23', '2020-09-24'], dtype='datetime64[D]')"
      ]
     },
     "execution_count": 34,
     "metadata": {},
     "output_type": "execute_result"
    }
   ],
   "source": [
    "# Create a python function named date_array that accepts two dates as string format and returns \n",
    "# a numpy array of dates between those 2 dates. \n",
    "# The function only accept 2 strings, otherwise raise error. \n",
    "# The date format should be like this only: 2022-12-6. \n",
    "# The end date should be included and for simplicity, choose dates from a same year.\n",
    "\n",
    "def date_array(start:str,end:str):\n",
    "    if type(start)!=str or type(end)!=str:\n",
    "        raise TypeError(\"Enter start and end as str\")\n",
    "        \n",
    "    return np.arange(start,end,dtype='datetime64[D]')\n",
    "\n",
    "date_array(start = '2020-09-15', end = '2020-09-25')"
   ]
  },
  {
   "cell_type": "code",
   "execution_count": 35,
   "id": "09aa2036",
   "metadata": {},
   "outputs": [
    {
     "data": {
      "text/plain": [
       "24"
      ]
     },
     "execution_count": 35,
     "metadata": {},
     "output_type": "execute_result"
    }
   ],
   "source": [
    "### `Q-1:` Find the nearest element in the array to a given integer.\n",
    "''''\n",
    "Ex:- \n",
    "a=23 and array - [10 17 24 31 38 45 52 59].\n",
    "Nearest element is 24\n",
    "```\n",
    "Hint: Read about this function `argmin()`\n",
    "'''\n",
    "arr = np.array([10,17,24,31,38,45,52,59])\n",
    "a= 23\n",
    "arr[abs(arr-a).argmin()]"
   ]
  },
  {
   "cell_type": "code",
   "execution_count": 36,
   "id": "a3472fe8",
   "metadata": {},
   "outputs": [
    {
     "data": {
      "text/plain": [
       "array([98,  0,  0, 76, 98,  0,  0, 76, 31, 56, 23,  0,  0,  7,  0,  0,  0,\n",
       "       76, 23,  8, 94,  0, 73,  0, 82,  0,  0,  0,  0, 52,  0,  0,  0,  0,\n",
       "        0,  4, 16,  0, 97,  0,  0, 74,  0,  0,  0, 83,  0,  0,  0,  0])"
      ]
     },
     "execution_count": 36,
     "metadata": {},
     "output_type": "execute_result"
    }
   ],
   "source": [
    "# Replace multiples of 3 or 5 as 0 in the given array.\n",
    "arr = np.random.randint(1,100,50)\n",
    "arr[(arr%3==0) | (arr%5==0)]=0\n",
    "arr"
   ]
  },
  {
   "cell_type": "code",
   "execution_count": 37,
   "id": "49413eda",
   "metadata": {},
   "outputs": [
    {
     "data": {
      "text/plain": [
       "array([ 0,  1,  2,  6,  8,  5,  6,  7,  8, 18])"
      ]
     },
     "execution_count": 37,
     "metadata": {},
     "output_type": "execute_result"
    }
   ],
   "source": [
    "# Double the array elements at given indexes\n",
    "arr = np.arange(10)\n",
    "arr[[0,3,4,9]] = arr[[0,3,4,9]]*2\n",
    "arr"
   ]
  },
  {
   "cell_type": "code",
   "execution_count": 38,
   "id": "a4273546",
   "metadata": {},
   "outputs": [
    {
     "data": {
      "text/plain": [
       "array([1, 1, 1, 1, 2, 2, 2, 2, 3, 3, 3, 3, 4, 4, 4, 4])"
      ]
     },
     "execution_count": 38,
     "metadata": {},
     "output_type": "execute_result"
    }
   ],
   "source": [
    "# Using a given array make a different array as in below example\n",
    "'''\n",
    "array = [1,2,3]\n",
    "result array -> [1 1 1 2 2 2 3 3 3]\n",
    "'''\n",
    "arr = np.array([1,2,3,4])\n",
    "indexes = []\n",
    "for index in range(len(arr)):\n",
    "    indexes.extend([index]*len(arr))\n",
    "arr[indexes]"
   ]
  },
  {
   "cell_type": "code",
   "execution_count": 13,
   "id": "8aacb126",
   "metadata": {},
   "outputs": [
    {
     "name": "stdout",
     "output_type": "stream",
     "text": [
      "[[ 1.  2. nan]\n",
      " [ 4.  2.  6.]\n",
      " [nan nan  5.]]\n",
      "{1.0: 1}\n",
      "{1.0: 1, 2.0: 1}\n",
      "{1.0: 1, 2.0: 1, nan: 1}\n",
      "{1.0: 1, 2.0: 1, nan: 1, 4.0: 1}\n",
      "{1.0: 1, 2.0: 2, nan: 1, 4.0: 1}\n",
      "{1.0: 1, 2.0: 2, nan: 1, 4.0: 1, 6.0: 1}\n",
      "{1.0: 1, 2.0: 2, nan: 1, 4.0: 1, 6.0: 1, nan: 1}\n",
      "{1.0: 1, 2.0: 2, nan: 1, 4.0: 1, 6.0: 1, nan: 1, nan: 1}\n",
      "{1.0: 1, 2.0: 2, nan: 1, 4.0: 1, 6.0: 1, nan: 1, nan: 1, 5.0: 1}\n"
     ]
    },
    {
     "data": {
      "text/plain": [
       "array([[1., 2., 2.],\n",
       "       [4., 2., 6.],\n",
       "       [2., 2., 5.]])"
      ]
     },
     "execution_count": 13,
     "metadata": {},
     "output_type": "execute_result"
    }
   ],
   "source": [
    "# Your are given an array which is having some nan value. \n",
    "# You job is to fill those nan values with most common element in the array.\n",
    "arr=np.array([[1,2,np.nan],[4,2,6],[np.nan,np.nan,5]])\n",
    "print(arr)\n",
    "d = {}\n",
    "for i in arr.flatten():\n",
    "    if i in d:\n",
    "        d[i]=d[i]+1\n",
    "        print(d)\n",
    "    else:\n",
    "        d[i]=1\n",
    "        print(d)\n",
    "arr[np.isnan(arr)]= sorted(d.items(),key = lambda x : x[1])[-1][0]\n",
    "arr"
   ]
  },
  {
   "cell_type": "code",
   "execution_count": 40,
   "id": "8fb26ed4",
   "metadata": {},
   "outputs": [
    {
     "name": "stdout",
     "output_type": "stream",
     "text": [
      "[[False False  True False]\n",
      " [False False False False]\n",
      " [False  True False  True]]\n",
      "[[ 3.  2.  0.  1.]\n",
      " [10. 12. 10.  9.]\n",
      " [ 5.  0.  1.  0.]]\n"
     ]
    }
   ],
   "source": [
    "# Write a NumPy program\n",
    "# to find the missing data in a given array. Return a boolean matrix.\n",
    "# also try to fill those missing values with 0. For that, you can use np.nan_to_num(a)\n",
    "arr = np.array([[3, 2, np.nan, 1],\n",
    "          [10, 12, 10, 9],\n",
    "          [5, np.nan, 1, np.nan]])\n",
    "print(np.isnan(arr))\n",
    "print(np.nan_to_num(arr,nan=0))"
   ]
  },
  {
   "cell_type": "code",
   "execution_count": 41,
   "id": "f1336380",
   "metadata": {},
   "outputs": [
    {
     "name": "stdout",
     "output_type": "stream",
     "text": [
      "[[1]\n",
      " [2]\n",
      " [3]\n",
      " [4]]\n",
      "[5 6 7]\n"
     ]
    },
    {
     "data": {
      "text/plain": [
       "array([[-0.25      , -0.2       , -0.16666667],\n",
       "       [-0.33333333, -0.25      , -0.2       ],\n",
       "       [-0.5       , -0.33333333, -0.25      ],\n",
       "       [-1.        , -0.5       , -0.33333333]])"
      ]
     },
     "execution_count": 41,
     "metadata": {},
     "output_type": "execute_result"
    }
   ],
   "source": [
    "# Given two arrays, X and Y, construct the Cauchy matrix C.\n",
    "# Cij =1/(xi - yj)\n",
    "x = np.array([1,2,3,4]).reshape((-1, 1))\n",
    "y = np.array([5,6,7])\n",
    "print(x)\n",
    "print(y)\n",
    "1/(x-y)"
   ]
  },
  {
   "cell_type": "code",
   "execution_count": 42,
   "id": "c0eaa0cd",
   "metadata": {},
   "outputs": [
    {
     "data": {
      "text/plain": [
       "[<matplotlib.lines.Line2D at 0x1ac3ad17f50>]"
      ]
     },
     "execution_count": 42,
     "metadata": {},
     "output_type": "execute_result"
    },
    {
     "data": {
      "image/png": "[encoded data removed]",
      "text/plain": [
       "<Figure size 640x480 with 1 Axes>"
      ]
     },
     "metadata": {},
     "output_type": "display_data"
    }
   ],
   "source": [
    "# Plot this below equation.\n",
    "# y=(e^x−e^−x) / (e^x+e^−x)\n",
    "# Note: This equation is called tanh activation function. In deep learning, many times this function is used. \n",
    "#    If you find some difference between the sigmoid function and this tanh function, note that to your notebook.\n",
    "\n",
    "import matplotlib.pyplot as plt\n",
    "x = np.linspace(-30,30,1000)\n",
    "y = (np.exp(x)-np.exp(-x))/ (np.exp(x)+np.exp(-x))\n",
    "\n",
    "plt.plot(x,y)"
   ]
  },
  {
   "cell_type": "code",
   "execution_count": 43,
   "id": "19d19f4c",
   "metadata": {},
   "outputs": [
    {
     "data": {
      "text/plain": [
       "[<matplotlib.lines.Line2D at 0x1ac3ad3bb90>]"
      ]
     },
     "execution_count": 43,
     "metadata": {},
     "output_type": "execute_result"
    },
    {
     "data": {
      "image/png": "[encoded data removed]",
      "text/plain": [
       "<Figure size 640x480 with 1 Axes>"
      ]
     },
     "metadata": {},
     "output_type": "display_data"
    }
   ],
   "source": [
    "# Plot the below equation.\n",
    "# y=36−(x−4)2−−−−−−−−−−√+2 \n",
    "#The range of x should be between -2 to 10.  x∈[−2,10]\n",
    "\n",
    "x = np.linspace(-2,10,1000)\n",
    "y = np.sqrt(36-(x-4)**2)+2\n",
    "plt.plot(x,y)"
   ]
  },
  {
   "cell_type": "code",
   "execution_count": 44,
   "id": "80264d59",
   "metadata": {},
   "outputs": [
    {
     "data": {
      "text/plain": [
       "'\\nshape of a- (3,2,2)\\nshape of b- (2,2)\\ncheck_broadcast(a, b) -> return Boolean (True if can broadcasted, False other wise.)\\n'"
      ]
     },
     "execution_count": 44,
     "metadata": {},
     "output_type": "execute_result"
    }
   ],
   "source": [
    "# Doubt \n",
    "# Write a program implement Broadcasting Rule to check if two array can be added or not.\n",
    "# Given tuples of shapes.\n",
    "'''\n",
    "shape of a- (3,2,2)\n",
    "shape of b- (2,2)\n",
    "check_broadcast(a, b) -> return Boolean (True if can broadcasted, False other wise.)\n",
    "'''"
   ]
  },
  {
   "cell_type": "code",
   "execution_count": 45,
   "id": "231b5105",
   "metadata": {},
   "outputs": [
    {
     "name": "stdout",
     "output_type": "stream",
     "text": [
      "[[44 47 64 67]\n",
      " [ 9 21 67 83]\n",
      " [36 70 87 88]]\n",
      "\n",
      "\n",
      "\n",
      "[[36  9 64 21]\n",
      " [44 47 70 67]\n",
      " [67 87 83 88]]\n",
      "\n",
      "\n",
      "\n",
      "[[44 47 64 67]\n",
      " [67  9 83 21]\n",
      " [36 87 70 88]]\n",
      "\n",
      "\n",
      "\n",
      "[[67  9 83 21]\n",
      " [44 47 64 67]\n",
      " [36 87 70 88]]\n",
      "\n",
      "\n",
      "\n",
      "[[ 9 21 36 44]\n",
      " [47 64 67 67]\n",
      " [70 83 87 88]]\n"
     ]
    }
   ],
   "source": [
    "# Create a random 3x4 matrix with value between 0-100. And perform below tasks\n",
    "# i. Sort this matrix. np.sort()\n",
    "# ii. Sort this matrix based on values in 2nd column.\n",
    "# iii. Sort this matrix based on max value in each row.\n",
    "# iv. Sort based on elements value.\n",
    "np.random.seed(0)\n",
    "rand_arr = np.random.randint(0,100,12).reshape(3,4)\n",
    "print(np.sort(rand_arr))\n",
    "print(\"\\n\\n\")\n",
    "print(np.sort(rand_arr,axis=0))\n",
    "print(\"\\n\\n\")\n",
    "print(np.array(sorted(rand_arr,key= lambda x:max(x))))\n",
    "print(\"\\n\\n\")\n",
    "print(rand_arr[rand_arr[:,1].argsort()])\n",
    "print(\"\\n\\n\")\n",
    "print(np.array(np.sort(rand_arr.flatten())).reshape(3,4))"
   ]
  },
  {
   "cell_type": "code",
   "execution_count": 46,
   "id": "b30a2066",
   "metadata": {},
   "outputs": [
    {
     "name": "stdout",
     "output_type": "stream",
     "text": [
      "[[ 77  83  98  95  89 442]\n",
      " [ 92  71  52  61  53 329]\n",
      " [ 63  46  90  42  87 328]\n",
      " [ 67  61  59  36  92 315]\n",
      " [ 82   9  29  78  36 234]\n",
      " [ 39  76  13  29  72 229]\n",
      " [ 13  10   9  33  41 106]]\n"
     ]
    }
   ],
   "source": [
    "# There is an array of marks of 5 students in 4 subjects. Further you are asked to perform below task.\n",
    "# i. Add marks every student of an extra subject in the same array.\n",
    "# ii. Add two new students marks in respective 5 subjects.(one subject added in above task)\n",
    "# iii. Add extra column with sum of all subjects(5-subjects) marks.\n",
    "# iv. Sort the array(non-ascending order) on total marks column--one added in above task. Show top 2 rows.\n",
    "marks = np.array([[13, 10,  9, 33],\n",
    "       [63, 46, 90, 42],\n",
    "       [39, 76, 13, 29],\n",
    "       [82,  9, 29, 78],\n",
    "       [67, 61, 59, 36]])\n",
    "extra_sub = np.array([41, 87, 72, 36, 92]).reshape(-1,1)\n",
    "rec1 = np.array([77, 83, 98, 95, 89])\n",
    "rec2 = np.array([92, 71, 52, 61, 53])\n",
    "add_marks = np.hstack((marks,extra_sub))\n",
    "new_rec = np.vstack((add_marks,rec1,rec2))\n",
    "# print(new_rec)\n",
    "\n",
    "sum_arr = np.sum(new_rec,axis=1).reshape(-1,1)\n",
    "# print(\"\\n\",sum_arr)\n",
    "\n",
    "new_sum_arr = np.hstack((new_rec,sum_arr))\n",
    "# print(new_sum_arr)\n",
    "\n",
    "sorted_arr = np.array(sorted(new_sum_arr,key = lambda x: x[-1] , reverse=True))\n",
    "print(sorted_arr)"
   ]
  },
  {
   "cell_type": "code",
   "execution_count": 47,
   "id": "c1a8fd31",
   "metadata": {},
   "outputs": [
    {
     "name": "stdout",
     "output_type": "stream",
     "text": [
      "[[0 9 1 2 8 8]\n",
      " [1 2 3 3 1 1]\n",
      " [1 2 3 8 8 8]]\n",
      "\n",
      "\n",
      "[[1 1 2 3 3]\n",
      " [0 8 9 1 2]\n",
      " [1 8 2 3 8]\n",
      " [1 1 2 3 3]]\n"
     ]
    }
   ],
   "source": [
    "# Find unique arrays from a 2D array column wise and row wise.\n",
    "\n",
    "arr = np.array([[1,2,3,3,1,1],\n",
    "                [0,9,1,2,8,8],\n",
    "                [1,2,3,8,8,8],\n",
    "                [1,2,3,3,1,1]])\n",
    "print(np.unique(arr,axis=0))\n",
    "print(\"\\n\")\n",
    "print(np.unique(arr,axis=1))"
   ]
  },
  {
   "cell_type": "code",
   "execution_count": 48,
   "id": "5a2ab6f5",
   "metadata": {},
   "outputs": [
    {
     "name": "stdout",
     "output_type": "stream",
     "text": [
      "[[ 1  2  3  3  1  1]\n",
      " [ 0  9  1  2  8  8]\n",
      " [ 1  2  3  8  8  8]\n",
      " [ 1  2  3  3  1  1]\n",
      " [ 0  6  1  2 11  7]\n",
      " [10 19 14 -2  8 -1]] \n",
      "\n",
      "[[-1  8 -2 14 19 10]\n",
      " [ 7 11  2  1  6  0]\n",
      " [ 1  1  3  3  2  1]\n",
      " [ 8  8  8  3  2  1]\n",
      " [ 8  8  2  1  9  0]\n",
      " [ 1  1  3  3  2  1]]\n"
     ]
    }
   ],
   "source": [
    "# Flip given 2-D array along both axes at the same time.\n",
    "\n",
    "arr = np.array([[1,2,3,3,1,1],\n",
    "               [0,9,1,2,8,8],\n",
    "               [1,2,3,8,8,8],\n",
    "               [1,2,3,3,1,1],\n",
    "               [0,6,1,2,11,7],\n",
    "               [10,19,14,-2,8,-1]])\n",
    "print(arr,\"\\n\")\n",
    "flip_arr = np.flip(arr,axis=[0,1])\n",
    "print(flip_arr)"
   ]
  },
  {
   "cell_type": "code",
   "execution_count": 49,
   "id": "9c9566a7",
   "metadata": {},
   "outputs": [
    {
     "data": {
      "text/plain": [
       "(array([1, 1, 3, 3], dtype=int64), array([0, 2, 0, 1], dtype=int64))"
      ]
     },
     "execution_count": 49,
     "metadata": {},
     "output_type": "execute_result"
    }
   ],
   "source": [
    "# Get row numbers of NumPy array having element larger than X.\n",
    "arr = np.array([[1,2,3,4,5], \n",
    "      [10,-3,30,4,5], \n",
    "      [3,2,5,-4,5], \n",
    "      [9,7,3,6,5]])\n",
    "\n",
    "X = 6\n",
    "np.where(arr>X)"
   ]
  },
  {
   "cell_type": "code",
   "execution_count": 61,
   "id": "1cfaf89b",
   "metadata": {},
   "outputs": [
    {
     "name": "stdout",
     "output_type": "stream",
     "text": [
      "[[448 563 418 240 507 362 345 236 719 291 298 639 458 387 262 613 267 882\n",
      "  181 425 790 635 889 818 872 967 277 470 336 920 917 295 557 830 506 385\n",
      "  353 975 592 997 137 340 222 215 472 459 617 649 935 956 914 932 645 952\n",
      "  921 490 527 972 278 307 840 958 246 449 251 957 103 627 920 824 356 825\n",
      "  173 323 372 960 710 464 244 782 763 635 436 774 171 469 178 458 624 211\n",
      "  771 270 308 231 952 514 699 702 433 900 373 318 998 265 503 320 230 324\n",
      "  922 967 620 743 527 117 566 804 123 946 587 227 853 757 944 328 855 930\n",
      "  325 729 426 514 296 879 575 936 705 209 191 743 510 513 628 559 658 528\n",
      "  395 525 922 136 496 225 895 975 263 908 420 711 800 976 786 235 930 859\n",
      "  618 226 695 460 218 483 490 803 621 453 193 607 677 637 728 724 534 748\n",
      "  291 194 761 875 687 569 228 482 781 554 654 739 885 197 266 228 892 207\n",
      "  883 588]]\n",
      "998 103\n",
      "997 117\n"
     ]
    }
   ],
   "source": [
    "# You are given a array. You have to find the minimum and maximum array element and remove that from the array.\n",
    "np.random.seed(400)\n",
    "arr = np.random.randint(100, 1000, 200).reshape((1, 200))\n",
    "print(arr)\n",
    "max_ele = arr.argmax()\n",
    "min_ele = arr.argmin()\n",
    "print(arr.max(),arr.min())\n",
    "arr = np.delete(arr,max_ele,axis=1)\n",
    "arr = np.delete(arr,min_ele,axis=1)\n",
    "print(arr.max(),arr.min())"
   ]
  },
  {
   "cell_type": "code",
   "execution_count": 66,
   "id": "82e976d5",
   "metadata": {},
   "outputs": [
    {
     "data": {
      "text/plain": [
       "array([  100,   200,   300,   400,   500,   600,   700,   800,   900,\n",
       "        1000,  1100,  1200,  1300,  1400,  1500,  1600,  1700,  1800,\n",
       "        1900,  2000,  2100,  2200,  2306,  2422,  2542,  2667,  2793,\n",
       "        2920,  3052,  3188,  3325,  3462,  3614,  3769,  3940,  4111,\n",
       "        4283,  4458,  4635,  4814,  4996,  5179,  5363,  5552,  5743,\n",
       "        5935,  6129,  6324,  6523,  6723,  6923,  7123,  7323,  7523,\n",
       "        7723,  7923,  8123,  8323,  8523,  8723,  8923,  9123,  9323,\n",
       "        9523,  9723,  9923, 10123, 10323, 10523, 10723, 10923, 11123,\n",
       "       11323, 11523, 11723, 11923, 12123, 12323, 12523, 12723, 12923,\n",
       "       13123, 13323, 13523, 13723, 13923, 14123, 14323, 14523, 14723,\n",
       "       14923, 15123, 15323, 15523, 15723, 15923, 16123, 16323, 16523,\n",
       "       16723, 16923, 17123, 17323, 17523, 17723, 17923, 18123, 18323,\n",
       "       18523, 18723, 18923, 19123, 19323, 19523, 19723, 19923, 20123,\n",
       "       20323, 20523, 20723, 20923, 21123, 21323, 21523, 21723, 21923,\n",
       "       22123, 22323, 22523, 22723, 22923, 23123, 23323, 23523, 23723,\n",
       "       23923, 24123, 24323, 24523, 24723, 24923, 25123, 25323, 25523,\n",
       "       25723, 25923, 26123, 26323, 26523, 26723, 26923, 27123, 27323,\n",
       "       27523, 27723, 27923, 28123, 28323, 28523, 28723, 28923, 29123,\n",
       "       29323, 29523, 29723, 29923, 30123, 30323, 30523, 30723, 30923,\n",
       "       31123, 31323, 31523, 31723, 31923, 32123, 32323, 32523, 32723,\n",
       "       32923, 33123, 33323, 33523, 33723, 33923, 34123, 34323, 34523,\n",
       "       34723, 34923, 35123, 35323, 35523, 35723, 35923, 36123, 36323,\n",
       "       36523, 36723, 36923, 37123, 37323, 37523, 37723, 37923, 38123,\n",
       "       38323, 38523, 38723, 38923, 39123, 39323, 39523, 39723, 39923,\n",
       "       40123, 40323, 40523, 40723, 40923, 41123, 41323, 41523, 41723,\n",
       "       41923, 42123, 42323, 42523, 42723, 42923, 43123, 43323, 43523,\n",
       "       43723, 43923, 44123, 44323, 44523, 44723, 44923, 45123, 45323,\n",
       "       45523, 45723, 45923, 46123, 46323, 46523, 46723, 46923, 47123,\n",
       "       47323, 47523, 47723, 47923, 48123, 48323, 48523, 48723, 48923,\n",
       "       49123, 49323, 49523, 49723, 49923, 50123, 50323, 50523, 50723,\n",
       "       50923, 51123, 51323, 51523, 51723, 51923, 52123, 52323, 52523,\n",
       "       52723, 52923, 53123, 53323, 53523, 53723, 53923, 54123, 54323,\n",
       "       54523, 54723, 54923, 55123, 55323, 55523, 55723, 55923, 56123,\n",
       "       56323, 56523, 56723, 56923, 57123, 57323, 57523, 57723, 57923,\n",
       "       58123, 58323, 58523, 58723, 58923, 59123, 59323, 59523, 59723,\n",
       "       59923, 60123, 60323, 60523, 60723, 60923, 61123, 61323, 61523,\n",
       "       61723, 61923, 62123, 62323, 62523, 62723, 62923, 63123, 63323,\n",
       "       63523, 63723, 63923, 64123, 64323, 64523, 64723, 64923, 65123,\n",
       "       65323, 65523, 65723, 65923, 66123, 66323, 66523, 66723, 66923,\n",
       "       67123, 67323, 67523, 67723, 67923, 68123, 68323, 68523, 68723,\n",
       "       68923, 69123, 69323, 69523, 69723, 69923, 70123, 70323, 70523,\n",
       "       70723, 70923, 71123, 71323, 71523, 71723, 71923, 72123, 72323,\n",
       "       72523, 72723, 72923, 73123, 73323, 73523, 73723, 73923, 74123,\n",
       "       74323, 74523, 74723, 74923, 75123, 75323, 75523, 75723, 75923,\n",
       "       76123, 76323, 76523, 76723, 76923, 77123, 77323, 77523, 77723,\n",
       "       77923, 78123, 78323, 78523, 78723, 78923, 79123, 79323, 79523,\n",
       "       79723, 79923, 80123, 80323, 80523, 80723, 80923, 81123, 81323,\n",
       "       81523, 81723, 81923, 82123, 82323, 82523, 82723, 82923, 83123,\n",
       "       83323, 83523, 83723, 83923, 84123, 84323, 84523, 84723, 84923,\n",
       "       85123, 85323, 85523, 85723, 85923, 86123, 86323, 86523, 86723,\n",
       "       86923, 87123, 87323, 87523, 87723, 87923, 88123, 88323, 88523,\n",
       "       88723, 88923, 89123, 89323, 89523, 89723, 89923, 90123, 90323,\n",
       "       90523, 90723, 90923, 91123, 91323, 91523, 91723, 91923, 92123,\n",
       "       92323, 92523, 92723, 92923, 93123, 93323, 93523, 93723, 93923,\n",
       "       94123, 94323, 94523, 94723, 94923, 95123, 95323, 95523, 95723,\n",
       "       95923, 96123, 96323, 96523, 96723])"
      ]
     },
     "execution_count": 66,
     "metadata": {},
     "output_type": "execute_result"
    }
   ],
   "source": [
    "#You are given an arrays. You have to limit this array's elements between 100 to 200.  \n",
    "#arr∈[100,200] . So replace those values accordingly with the minimum and maximum value. \n",
    "#Then sort the array and perform the cumulative sum of that array.\n",
    "\n",
    "rand_arr = np.random.randint(0,2000,500)\n",
    "np.cumsum(np.sort(np.clip(rand_arr,100,200)))"
   ]
  },
  {
   "cell_type": "code",
   "execution_count": 80,
   "id": "e73f793e",
   "metadata": {},
   "outputs": [
    {
     "name": "stdout",
     "output_type": "stream",
     "text": [
      "0th percentile == minimum value of the array:  True\n",
      "100th percentile == maximum value of the array:  True\n",
      "also find the difference betwen 51th percenile and 50th percentile values:  0.010380000000000056\n"
     ]
    }
   ],
   "source": [
    "# You are given a array ( arr∈[0,1] ). First you have round off the elements upto 3 decimal places and compare that\n",
    "# 0th percentile == minimum value of the array\n",
    "# 100th percentile == maximum value of the array\n",
    "# also find the difference betwen 51th percenile and 50th percentile values\n",
    "\n",
    "arr = np.random.random(100)\n",
    "new_arr = np.around(arr,decimals=3)\n",
    "\n",
    "print(\"0th percentile == minimum value of the array: \",(np.percentile(new_arr,0))==(new_arr.min()))\n",
    "print(\"100th percentile == maximum value of the array: \",(np.percentile(new_arr,100))==(new_arr.max()))\n",
    "print(\"also find the difference betwen 51th percenile and 50th percentile values: \", np.percentile(new_arr,51)-np.percentile(new_arr,50))\n"
   ]
  },
  {
   "cell_type": "code",
   "execution_count": null,
   "id": "cf00eed7",
   "metadata": {},
   "outputs": [],
   "source": []
  },
  {
   "cell_type": "code",
   "execution_count": null,
   "id": "418592d0",
   "metadata": {},
   "outputs": [],
   "source": []
  },
  {
   "cell_type": "code",
   "execution_count": null,
   "id": "dd35acfb",
   "metadata": {},
   "outputs": [],
   "source": [
    "\n"
   ]
  }
 ],
 "metadata": {
  "kernelspec": {
   "display_name": "Python 3 (ipykernel)",
   "language": "python",
   "name": "python3"
  },
  "language_info": {
   "codemirror_mode": {
    "name": "ipython",
    "version": 3
   },
   "file_extension": ".py",
   "mimetype": "text/x-python",
   "name": "python",
   "nbconvert_exporter": "python",
   "pygments_lexer": "ipython3",
   "version": "3.11.4"
  }
 },
 "nbformat": 4,
 "nbformat_minor": 5
}
