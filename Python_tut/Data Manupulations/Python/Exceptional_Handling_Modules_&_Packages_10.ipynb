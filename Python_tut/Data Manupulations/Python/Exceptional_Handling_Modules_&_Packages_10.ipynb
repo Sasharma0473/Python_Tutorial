{
 "cells": [
  {
   "cell_type": "markdown",
   "id": "109f5853",
   "metadata": {},
   "source": [
    "#### There are 2 stages where error may happen in a program\n",
    "\n",
    "- During compilation -> Syntax Error\n",
    "- During execution -> Exceptions"
   ]
  },
  {
   "cell_type": "markdown",
   "id": "a6132c63",
   "metadata": {},
   "source": [
    "#### Syntax Error\n",
    "- Something in the program is not written according to the program grammar.\n",
    "- Error is raised by the interpreter/compiler\n",
    "- You can solve it by rectifying the program"
   ]
  },
  {
   "cell_type": "code",
   "execution_count": null,
   "id": "a8941cc9",
   "metadata": {},
   "outputs": [],
   "source": [
    "print 'hello world'"
   ]
  },
  {
   "cell_type": "markdown",
   "id": "e2e5170c",
   "metadata": {},
   "source": [
    "#### Other examples of syntax error\n",
    "- Leaving symbols like colon,brackets\n",
    "- Misspelling a keyword\n",
    "- Incorrect indentation\n",
    "- empty if/else/loops/class/functions"
   ]
  },
  {
   "cell_type": "code",
   "execution_count": null,
   "id": "3fa15620",
   "metadata": {},
   "outputs": [],
   "source": [
    "a = 5 \n",
    "if a==2\n",
    "    print(\"gello \")"
   ]
  },
  {
   "cell_type": "code",
   "execution_count": null,
   "id": "86de0813",
   "metadata": {},
   "outputs": [],
   "source": [
    "a = 5 \n",
    "iff a==2:\n",
    "    print(\"gello \")"
   ]
  },
  {
   "cell_type": "code",
   "execution_count": null,
   "id": "74d29cd1",
   "metadata": {},
   "outputs": [],
   "source": [
    "a = 5 \n",
    "if a==2:\n",
    "print(\"gello \")"
   ]
  },
  {
   "cell_type": "code",
   "execution_count": 1,
   "id": "4071e6a0",
   "metadata": {},
   "outputs": [
    {
     "ename": "IndexError",
     "evalue": "list index out of range",
     "output_type": "error",
     "traceback": [
      "\u001b[1;31m---------------------------------------------------------------------------\u001b[0m",
      "\u001b[1;31mIndexError\u001b[0m                                Traceback (most recent call last)",
      "Cell \u001b[1;32mIn[1], line 4\u001b[0m\n\u001b[0;32m      1\u001b[0m \u001b[38;5;66;03m# # IndexError\u001b[39;00m\n\u001b[0;32m      2\u001b[0m \u001b[38;5;66;03m# The IndexError is thrown when trying to access an item at an invalid index.\u001b[39;00m\n\u001b[0;32m      3\u001b[0m lst \u001b[38;5;241m=\u001b[39m[\u001b[38;5;241m1\u001b[39m,\u001b[38;5;241m2\u001b[39m,\u001b[38;5;241m3\u001b[39m]\n\u001b[1;32m----> 4\u001b[0m \u001b[43mlst\u001b[49m\u001b[43m[\u001b[49m\u001b[38;5;241;43m100\u001b[39;49m\u001b[43m]\u001b[49m\n",
      "\u001b[1;31mIndexError\u001b[0m: list index out of range"
     ]
    }
   ],
   "source": [
    "# # IndexError\n",
    "# The IndexError is thrown when trying to access an item at an invalid index.\n",
    "lst =[1,2,3]\n",
    "lst[100]"
   ]
  },
  {
   "cell_type": "code",
   "execution_count": 2,
   "id": "87a5d07f",
   "metadata": {},
   "outputs": [
    {
     "ename": "ModuleNotFoundError",
     "evalue": "No module named 'mat'",
     "output_type": "error",
     "traceback": [
      "\u001b[1;31m---------------------------------------------------------------------------\u001b[0m",
      "\u001b[1;31mModuleNotFoundError\u001b[0m                       Traceback (most recent call last)",
      "Cell \u001b[1;32mIn[2], line 3\u001b[0m\n\u001b[0;32m      1\u001b[0m \u001b[38;5;66;03m# ModuleNotFoundError\u001b[39;00m\n\u001b[0;32m      2\u001b[0m \u001b[38;5;66;03m# The ModuleNotFoundError is thrown when a module could not be found.\u001b[39;00m\n\u001b[1;32m----> 3\u001b[0m \u001b[38;5;28;01mimport\u001b[39;00m \u001b[38;5;21;01mmat\u001b[39;00m\n\u001b[0;32m      4\u001b[0m math\u001b[38;5;241m.\u001b[39mfloor(\u001b[38;5;241m5.4\u001b[39m)\n",
      "\u001b[1;31mModuleNotFoundError\u001b[0m: No module named 'mat'"
     ]
    }
   ],
   "source": [
    "# ModuleNotFoundError\n",
    "# The ModuleNotFoundError is thrown when a module could not be found.\n",
    "import mat\n",
    "math.floor(5.4)"
   ]
  },
  {
   "cell_type": "code",
   "execution_count": 3,
   "id": "4d95616a",
   "metadata": {
    "scrolled": true
   },
   "outputs": [
    {
     "ename": "KeyError",
     "evalue": "'age'",
     "output_type": "error",
     "traceback": [
      "\u001b[1;31m---------------------------------------------------------------------------\u001b[0m",
      "\u001b[1;31mKeyError\u001b[0m                                  Traceback (most recent call last)",
      "Cell \u001b[1;32mIn[3], line 5\u001b[0m\n\u001b[0;32m      1\u001b[0m \u001b[38;5;66;03m# KeyError\u001b[39;00m\n\u001b[0;32m      2\u001b[0m \u001b[38;5;66;03m# The KeyError is thrown when a key is not found\u001b[39;00m\n\u001b[0;32m      4\u001b[0m d \u001b[38;5;241m=\u001b[39m {\u001b[38;5;124m'\u001b[39m\u001b[38;5;124mname\u001b[39m\u001b[38;5;124m'\u001b[39m:\u001b[38;5;124m'\u001b[39m\u001b[38;5;124mnitish\u001b[39m\u001b[38;5;124m'\u001b[39m}\n\u001b[1;32m----> 5\u001b[0m \u001b[43md\u001b[49m\u001b[43m[\u001b[49m\u001b[38;5;124;43m'\u001b[39;49m\u001b[38;5;124;43mage\u001b[39;49m\u001b[38;5;124;43m'\u001b[39;49m\u001b[43m]\u001b[49m\n",
      "\u001b[1;31mKeyError\u001b[0m: 'age'"
     ]
    }
   ],
   "source": [
    "# KeyError\n",
    "# The KeyError is thrown when a key is not found\n",
    "\n",
    "d = {'name':'nitish'}\n",
    "d['age']"
   ]
  },
  {
   "cell_type": "code",
   "execution_count": 4,
   "id": "78617c74",
   "metadata": {},
   "outputs": [
    {
     "ename": "TypeError",
     "evalue": "unsupported operand type(s) for +: 'int' and 'str'",
     "output_type": "error",
     "traceback": [
      "\u001b[1;31m---------------------------------------------------------------------------\u001b[0m",
      "\u001b[1;31mTypeError\u001b[0m                                 Traceback (most recent call last)",
      "Cell \u001b[1;32mIn[4], line 3\u001b[0m\n\u001b[0;32m      1\u001b[0m \u001b[38;5;66;03m# TypeError\u001b[39;00m\n\u001b[0;32m      2\u001b[0m \u001b[38;5;66;03m# The TypeError is thrown when an operation or function is applied to an object of an inappropriate type.\u001b[39;00m\n\u001b[1;32m----> 3\u001b[0m \u001b[38;5;241;43m1\u001b[39;49m\u001b[43m \u001b[49m\u001b[38;5;241;43m+\u001b[39;49m\u001b[43m \u001b[49m\u001b[38;5;124;43m'\u001b[39;49m\u001b[38;5;124;43ma\u001b[39;49m\u001b[38;5;124;43m'\u001b[39;49m\n",
      "\u001b[1;31mTypeError\u001b[0m: unsupported operand type(s) for +: 'int' and 'str'"
     ]
    }
   ],
   "source": [
    "# TypeError\n",
    "# The TypeError is thrown when an operation or function is applied to an object of an inappropriate type.\n",
    "1 + 'a'"
   ]
  },
  {
   "cell_type": "code",
   "execution_count": 5,
   "id": "660f5231",
   "metadata": {},
   "outputs": [
    {
     "ename": "ValueError",
     "evalue": "invalid literal for int() with base 10: 'a'",
     "output_type": "error",
     "traceback": [
      "\u001b[1;31m---------------------------------------------------------------------------\u001b[0m",
      "\u001b[1;31mValueError\u001b[0m                                Traceback (most recent call last)",
      "Cell \u001b[1;32mIn[5], line 3\u001b[0m\n\u001b[0;32m      1\u001b[0m \u001b[38;5;66;03m# ValueError\u001b[39;00m\n\u001b[0;32m      2\u001b[0m \u001b[38;5;66;03m# The ValueError is thrown when a function's argument is of an inappropriate type.\u001b[39;00m\n\u001b[1;32m----> 3\u001b[0m \u001b[38;5;28;43mint\u001b[39;49m\u001b[43m(\u001b[49m\u001b[38;5;124;43m'\u001b[39;49m\u001b[38;5;124;43ma\u001b[39;49m\u001b[38;5;124;43m'\u001b[39;49m\u001b[43m)\u001b[49m\n",
      "\u001b[1;31mValueError\u001b[0m: invalid literal for int() with base 10: 'a'"
     ]
    }
   ],
   "source": [
    "# ValueError\n",
    "# The ValueError is thrown when a function's argument is of an inappropriate type.\n",
    "int('a')"
   ]
  },
  {
   "cell_type": "code",
   "execution_count": 6,
   "id": "20acede0",
   "metadata": {},
   "outputs": [
    {
     "ename": "NameError",
     "evalue": "name 'k' is not defined",
     "output_type": "error",
     "traceback": [
      "\u001b[1;31m---------------------------------------------------------------------------\u001b[0m",
      "\u001b[1;31mNameError\u001b[0m                                 Traceback (most recent call last)",
      "Cell \u001b[1;32mIn[6], line 3\u001b[0m\n\u001b[0;32m      1\u001b[0m \u001b[38;5;66;03m# NameError\u001b[39;00m\n\u001b[0;32m      2\u001b[0m \u001b[38;5;66;03m# The NameError is thrown when an object could not be found.\u001b[39;00m\n\u001b[1;32m----> 3\u001b[0m \u001b[38;5;28mprint\u001b[39m(\u001b[43mk\u001b[49m)\n",
      "\u001b[1;31mNameError\u001b[0m: name 'k' is not defined"
     ]
    }
   ],
   "source": [
    "# NameError\n",
    "# The NameError is thrown when an object could not be found.\n",
    "print(k)"
   ]
  },
  {
   "cell_type": "code",
   "execution_count": 7,
   "id": "469f6598",
   "metadata": {},
   "outputs": [
    {
     "ename": "AttributeError",
     "evalue": "'list' object has no attribute 'upper'",
     "output_type": "error",
     "traceback": [
      "\u001b[1;31m---------------------------------------------------------------------------\u001b[0m",
      "\u001b[1;31mAttributeError\u001b[0m                            Traceback (most recent call last)",
      "Cell \u001b[1;32mIn[7], line 3\u001b[0m\n\u001b[0;32m      1\u001b[0m \u001b[38;5;66;03m# AttributeError\u001b[39;00m\n\u001b[0;32m      2\u001b[0m L \u001b[38;5;241m=\u001b[39m [\u001b[38;5;241m1\u001b[39m,\u001b[38;5;241m2\u001b[39m,\u001b[38;5;241m3\u001b[39m]\n\u001b[1;32m----> 3\u001b[0m \u001b[43mL\u001b[49m\u001b[38;5;241;43m.\u001b[39;49m\u001b[43mupper\u001b[49m()\n\u001b[0;32m      5\u001b[0m \u001b[38;5;66;03m# Stacktrace\u001b[39;00m\n",
      "\u001b[1;31mAttributeError\u001b[0m: 'list' object has no attribute 'upper'"
     ]
    }
   ],
   "source": [
    "# AttributeError\n",
    "L = [1,2,3]\n",
    "L.upper()\n",
    "\n",
    "# Stacktrace"
   ]
  },
  {
   "cell_type": "markdown",
   "id": "3ab683ea",
   "metadata": {},
   "source": [
    "#### Exceptions\n",
    "- If things go wrong during the execution of the program(runtime). It generally happens when something \n",
    "  unforeseen has happened.\n",
    "- You have to takle is on the fly\n",
    "- Exceptions are raised by python runtime\n",
    "#### Examples\n",
    "- Memory overflow\n",
    "- Divide by 0 -> logical error\n",
    "- Database error"
   ]
  },
  {
   "cell_type": "markdown",
   "id": "ffecdc71",
   "metadata": {},
   "source": [
    "#### Why is it important to handle exceptions\n",
    "- Because we want to create a application which is good in user experience. and second part is the security, so that \n",
    "- no one is able to hack our application and manupulate data in that.\n",
    "##### how to handle exceptions\n",
    "- Try except block"
   ]
  },
  {
   "cell_type": "code",
   "execution_count": null,
   "id": "d1ba36fe",
   "metadata": {},
   "outputs": [],
   "source": [
    "# Lets create a file\n",
    "with open('New_Sample.txt','w') as f:\n",
    "    f.write('Hello world')"
   ]
  },
  {
   "cell_type": "code",
   "execution_count": null,
   "id": "529e8fb8",
   "metadata": {},
   "outputs": [],
   "source": [
    "with open('New_Sample.txt','r') as f:\n",
    "    print(f.read())"
   ]
  },
  {
   "cell_type": "code",
   "execution_count": null,
   "id": "a57f7941",
   "metadata": {},
   "outputs": [],
   "source": [
    "# Try-Catch Demo --> Its used in the case where \n",
    "try:\n",
    "    with open('New_Sample1.txt','r') as f:\n",
    "        print(f.read())\n",
    "except:\n",
    "    print(\"File Not Find\")"
   ]
  },
  {
   "cell_type": "code",
   "execution_count": null,
   "id": "447b99ac",
   "metadata": {},
   "outputs": [],
   "source": [
    "# Catching Specific Error\n",
    "try:\n",
    "    f = open('New_Sample1.txt','r')\n",
    "    print(f.read())\n",
    "    print(m)\n",
    "except:\n",
    "    print('Some Error Occured')"
   ]
  },
  {
   "cell_type": "code",
   "execution_count": null,
   "id": "f0391c4e",
   "metadata": {},
   "outputs": [],
   "source": [
    "# Catching Specific Error\n",
    "try:\n",
    "    f = open('New_Sample.txt','r')\n",
    "    print(f.read())\n",
    "    print(m)\n",
    "except:\n",
    "    print('Some Error Occured')"
   ]
  },
  {
   "cell_type": "code",
   "execution_count": null,
   "id": "062ec2b7",
   "metadata": {},
   "outputs": [],
   "source": [
    "# Catching Specific Error\n",
    "try:\n",
    "    f = open('New_Sample.txt','r')\n",
    "    print(f.read())\n",
    "    print(m)\n",
    "except Exception as e:\n",
    "    print(e)                # It will give where error is occured.\n",
    "    print(e.with_traceback) # It will give what kind of error we are facing."
   ]
  },
  {
   "cell_type": "code",
   "execution_count": null,
   "id": "17dccf9f",
   "metadata": {},
   "outputs": [],
   "source": [
    "# Catching Specific Error\n",
    "try:\n",
    "    m =5 \n",
    "    f = open('New_Sample.txt','r')\n",
    "    print(f.read())\n",
    "    print(m)\n",
    "    print(5/1)\n",
    "    ls=[1,2,3]\n",
    "    print(ls[100])\n",
    "except FileNotFoundError:\n",
    "    print('File Not Found')\n",
    "except NameError:\n",
    "    print('variable not defined')\n",
    "except ZeroDivisionError:\n",
    "    print('Can not divided by 0')\n",
    "except Exception as e:\n",
    "    print(e)"
   ]
  },
  {
   "cell_type": "code",
   "execution_count": null,
   "id": "f1cc84f3",
   "metadata": {},
   "outputs": [],
   "source": [
    "# else\n",
    "try:\n",
    "    f = open('New_Sample.txt','r')\n",
    "except FileNotFoundError:\n",
    "    print('File Nai Milli')\n",
    "except Exception:\n",
    "    print('Kuch toh lafda h bhai')\n",
    "else:\n",
    "    print(f.read())"
   ]
  },
  {
   "cell_type": "code",
   "execution_count": null,
   "id": "6a192892",
   "metadata": {},
   "outputs": [],
   "source": [
    "# Finally\n",
    "# else\n",
    "try:\n",
    "    f = open('New_Sample.txt','r')\n",
    "except FileNotFoundError:\n",
    "    print('File Nai Milli')\n",
    "except Exception:\n",
    "    print('Kuch toh lafda h bhai')\n",
    "else:\n",
    "    print(f.read())\n",
    "finally:\n",
    "    print(\"Ye toh exceute hoga hi\")"
   ]
  },
  {
   "cell_type": "code",
   "execution_count": null,
   "id": "e20e21b6",
   "metadata": {},
   "outputs": [],
   "source": [
    "try:\n",
    "    f = open('New_Sample1.txt','r')\n",
    "except FileNotFoundError:\n",
    "    print('File Nai Milli')\n",
    "except Exception:\n",
    "    print('Kuch toh lafda h bhai')\n",
    "else:\n",
    "    print(f.read())\n",
    "finally:\n",
    "    print(\"Ye toh exceute hoga hi\")"
   ]
  },
  {
   "cell_type": "code",
   "execution_count": null,
   "id": "f98a1bb8",
   "metadata": {},
   "outputs": [],
   "source": [
    "# raise Exception\n",
    "# In Python programming, exceptions are raised when errors occur at runtime. \n",
    "# We can also manually raise exceptions using the raise keyword.\n",
    "\n",
    "# We can optionally pass values to the exception to clarify why that exception was raised"
   ]
  },
  {
   "cell_type": "code",
   "execution_count": null,
   "id": "a790dc2c",
   "metadata": {},
   "outputs": [],
   "source": [
    "raise NameError('aise hi try kr rha hu')"
   ]
  },
  {
   "cell_type": "code",
   "execution_count": null,
   "id": "c4b3173a",
   "metadata": {},
   "outputs": [],
   "source": [
    "raise FileNotFoundError('aise hi try kr rha hu')"
   ]
  },
  {
   "cell_type": "code",
   "execution_count": null,
   "id": "76b1d18f",
   "metadata": {},
   "outputs": [],
   "source": [
    "raise ModuleNotFoundError('aise hi try kr rha hu')"
   ]
  },
  {
   "cell_type": "code",
   "execution_count": null,
   "id": "d157188b",
   "metadata": {},
   "outputs": [],
   "source": [
    "raise ZeroDivisionError(\"aise hi try kr rha hu\")"
   ]
  },
  {
   "cell_type": "code",
   "execution_count": null,
   "id": "7e9394e1",
   "metadata": {},
   "outputs": [],
   "source": [
    "class Bank:\n",
    "    \n",
    "    def __init__(self,balance):\n",
    "        self.balance = balance\n",
    "        \n",
    "    def withdraw(self,amount):\n",
    "        if amount<0:\n",
    "            raise Exception('Amount Can Not be Negative')\n",
    "        elif self.balance < amount:\n",
    "            raise Exception('Paise Nhi duga')\n",
    "        else:\n",
    "            self.balance = self.balance - amount\n",
    "        \n",
    "obj = Bank(10000)\n",
    "try:\n",
    "    obj.withdraw(5000)\n",
    "except Exception as e:\n",
    "    print(e)\n",
    "else:\n",
    "    print(obj.balance)"
   ]
  },
  {
   "cell_type": "markdown",
   "id": "68129da6",
   "metadata": {},
   "source": [
    "#### creating custom exceptions:- \n",
    "    It means that we are creating a custom exception class as per our requirements.\n",
    "\n",
    "#### exception hierarchy in python\n",
    "\n",
    "    In Python, exceptions are organized in a hierarchy to represent different types of errors that can occur during \n",
    "    program execution. Here's an overview of the exception hierarchy in Python:\n",
    "\n",
    "    Base of the Hierarchy\n",
    "    BaseException\n",
    "    The root of the exception hierarchy. All exceptions inherit from this class. It is not recommended to \n",
    "    inherit directly from BaseException.\n",
    "    Common Subclasses of BaseException\n",
    "    Exception\n",
    "\n",
    "    The base class for all built-in, non-system-exiting exceptions. Most user-defined exceptions should inherit \n",
    "    from this class.\n",
    "    SystemExit\n",
    "\n",
    "    Raised by the sys.exit() function. It is used to exit Python cleanly.\n",
    "    KeyboardInterrupt\n",
    "\n",
    "    Raised when the user interrupts program execution, typically by pressing Ctrl+C.\n",
    "    GeneratorExit\n",
    "\n",
    "    Raised when a generator's close() method is called.\n",
    "    Subclasses of Exception\n",
    "    Errors Related to Arithmetic Operations\n",
    "    ArithmeticError (Base class for arithmetic-related errors)\n",
    "    OverflowError\n",
    "    Raised when a calculation exceeds the maximum limit for a numeric type.\n",
    "    ZeroDivisionError\n",
    "    Raised when division or modulo by zero is attempted.\n",
    "    FloatingPointError\n",
    "    Raised for floating-point operation issues (rare in Python).\n",
    "    Lookup and Access Errors\n",
    "    LookupError (Base class for lookup errors)\n",
    "    IndexError\n",
    "    Raised when trying to access an index that is out of range.\n",
    "    KeyError\n",
    "    Raised when trying to access a dictionary key that does not exist.\n",
    "    Type and Value Errors\n",
    "    TypeError\n",
    "    Raised when an operation is performed on an object of an inappropriate type.\n",
    "    ValueError\n",
    "    Raised when an operation or function receives an argument of the right type but an inappropriate value.\n",
    "    Input/Output Errors\n",
    "    OSError (Base class for OS-related errors)\n",
    "    FileNotFoundError\n",
    "    Raised when a file or directory is requested but not found.\n",
    "    PermissionError\n",
    "    Raised when attempting an operation without the necessary permissions.\n",
    "    IsADirectoryError\n",
    "    Raised when a file operation is performed on a directory.\n",
    "    NotADirectoryError\n",
    "    Raised when a directory operation is performed on a file.\n",
    "    BlockingIOError\n",
    "    Raised when an operation would block (e.g., on a non-blocking I/O object).\n",
    "    Import Errors\n",
    "    ImportError\n",
    "    Raised when an import statement fails.\n",
    "    ModuleNotFoundError\n",
    "    Subclass of ImportError raised when a module cannot be found.\n",
    "    Assertion and Attribute Errors\n",
    "    AssertionError\n",
    "    Raised when an assert statement fails.\n",
    "    AttributeError\n",
    "    Raised when an invalid attribute reference is made.\n",
    "    Other Common Errors\n",
    "    NameError\n",
    "    Raised when a variable or function name is not found.\n",
    "    UnboundLocalError\n",
    "    Subclass of NameError raised for referencing an uninitialized local variable.\n",
    "    RuntimeError\n",
    "    Raised when an error is detected that doesn’t fall into other categories.\n",
    "    RecursionError\n",
    "    Raised when the maximum recursion depth is exceeded.\n",
    "    NotImplementedError\n",
    "    Raised by abstract methods that need to be implemented in subclasses.\n",
    "    Warnings (Non-Fatal)\n",
    "    Warning (Base class for warnings)\n",
    "    DeprecationWarning\n",
    "    SyntaxWarning\n",
    "    UserWarning"
   ]
  },
  {
   "cell_type": "code",
   "execution_count": null,
   "id": "2d9d5e90",
   "metadata": {},
   "outputs": [],
   "source": [
    "class MyException(Exception):\n",
    "    def __init__(self,message):\n",
    "        print(message)\n",
    "        \n",
    "class Bank:\n",
    "    \n",
    "    def __init__(self,balance):\n",
    "        self.balance = balance\n",
    "        \n",
    "    def withdraw(self,amount):\n",
    "        if amount<0:\n",
    "            raise MyException('Amount Can Not be Negative')\n",
    "        elif self.balance < amount:\n",
    "            raise MyException('Paise Nhi duga')\n",
    "        else:\n",
    "            self.balance = self.balance - amount\n",
    "        \n",
    "obj = Bank(10000)\n",
    "try:\n",
    "    obj.withdraw(5000)\n",
    "except MyException as e:\n",
    "    pass\n",
    "else:\n",
    "    print(obj.balance)"
   ]
  },
  {
   "cell_type": "code",
   "execution_count": 3,
   "id": "07fc4b2e",
   "metadata": {},
   "outputs": [
    {
     "name": "stdout",
     "output_type": "stream",
     "text": [
      "Bhai teri toh lag gyi\n",
      "Logout\n",
      "Database Connection Closed\n"
     ]
    }
   ],
   "source": [
    "class SecurityError(Exception):\n",
    "    \n",
    "    def __init__(self,message):\n",
    "        print(message)\n",
    "        \n",
    "    def logout(self):\n",
    "        print('Logout')\n",
    "        \n",
    "class Google:\n",
    "    \n",
    "    def __init__(self,name,email,password,device):\n",
    "        self.name = name\n",
    "        self.email = email\n",
    "        self.password = password\n",
    "        self.device = device\n",
    "    \n",
    "    def login(self,email,password,device):\n",
    "        if device != self.device:\n",
    "            raise SecurityError('Bhai teri toh lag gyi')\n",
    "        if email == self.email and password == self.password:\n",
    "            print('Welcome')\n",
    "        else:\n",
    "            print('login error')\n",
    "    \n",
    "obj2 = Google('Sahil','sahilsharma.infy16@gmail.com','arpitsharma','andriod')\n",
    "try:\n",
    "    obj2.login('sahilsharma.infy16@gmail.com','arpitsharma','windows')\n",
    "    \n",
    "except SecurityError as e:\n",
    "    e.logout()\n",
    "else:\n",
    "    print(obj2.name)\n",
    "finally:\n",
    "    print('Database Connection Closed')"
   ]
  },
  {
   "cell_type": "code",
   "execution_count": null,
   "id": "e1812240",
   "metadata": {},
   "outputs": [],
   "source": []
  },
  {
   "cell_type": "code",
   "execution_count": null,
   "id": "30e40e22",
   "metadata": {},
   "outputs": [],
   "source": []
  },
  {
   "cell_type": "code",
   "execution_count": null,
   "id": "2eb411f5",
   "metadata": {},
   "outputs": [],
   "source": []
  },
  {
   "cell_type": "code",
   "execution_count": null,
   "id": "28173aed",
   "metadata": {},
   "outputs": [],
   "source": []
  },
  {
   "cell_type": "code",
   "execution_count": null,
   "id": "06bf9646",
   "metadata": {},
   "outputs": [],
   "source": []
  },
  {
   "cell_type": "code",
   "execution_count": null,
   "id": "1812a3bf",
   "metadata": {},
   "outputs": [],
   "source": []
  },
  {
   "cell_type": "code",
   "execution_count": null,
   "id": "677925fe",
   "metadata": {},
   "outputs": [],
   "source": []
  },
  {
   "cell_type": "code",
   "execution_count": null,
   "id": "e4459f26",
   "metadata": {},
   "outputs": [],
   "source": []
  },
  {
   "cell_type": "code",
   "execution_count": null,
   "id": "e0828325",
   "metadata": {},
   "outputs": [],
   "source": []
  },
  {
   "cell_type": "code",
   "execution_count": null,
   "id": "a2b68971",
   "metadata": {},
   "outputs": [],
   "source": []
  },
  {
   "cell_type": "code",
   "execution_count": null,
   "id": "c2c27b62",
   "metadata": {},
   "outputs": [],
   "source": []
  },
  {
   "cell_type": "code",
   "execution_count": null,
   "id": "934af7ad",
   "metadata": {},
   "outputs": [],
   "source": []
  },
  {
   "cell_type": "code",
   "execution_count": null,
   "id": "41fe9de2",
   "metadata": {},
   "outputs": [],
   "source": []
  },
  {
   "cell_type": "code",
   "execution_count": null,
   "id": "72c98c2c",
   "metadata": {},
   "outputs": [],
   "source": []
  },
  {
   "cell_type": "code",
   "execution_count": null,
   "id": "3a5bae6c",
   "metadata": {},
   "outputs": [],
   "source": []
  },
  {
   "cell_type": "code",
   "execution_count": null,
   "id": "90f90b2f",
   "metadata": {},
   "outputs": [],
   "source": []
  },
  {
   "cell_type": "code",
   "execution_count": null,
   "id": "765aa7f0",
   "metadata": {},
   "outputs": [],
   "source": []
  },
  {
   "cell_type": "code",
   "execution_count": null,
   "id": "9c8e4b5f",
   "metadata": {},
   "outputs": [],
   "source": []
  },
  {
   "cell_type": "code",
   "execution_count": null,
   "id": "848e170a",
   "metadata": {},
   "outputs": [],
   "source": []
  },
  {
   "cell_type": "code",
   "execution_count": null,
   "id": "66f1c979",
   "metadata": {},
   "outputs": [],
   "source": []
  },
  {
   "cell_type": "code",
   "execution_count": null,
   "id": "cfd7b375",
   "metadata": {},
   "outputs": [],
   "source": []
  },
  {
   "cell_type": "code",
   "execution_count": null,
   "id": "0ea2358e",
   "metadata": {},
   "outputs": [],
   "source": []
  },
  {
   "cell_type": "code",
   "execution_count": null,
   "id": "81162cff",
   "metadata": {},
   "outputs": [],
   "source": []
  },
  {
   "cell_type": "code",
   "execution_count": null,
   "id": "6cab4ee7",
   "metadata": {},
   "outputs": [],
   "source": []
  },
  {
   "cell_type": "code",
   "execution_count": null,
   "id": "c9f11978",
   "metadata": {},
   "outputs": [],
   "source": []
  },
  {
   "cell_type": "code",
   "execution_count": null,
   "id": "6c8263ed",
   "metadata": {},
   "outputs": [],
   "source": []
  }
 ],
 "metadata": {
  "kernelspec": {
   "display_name": "Python 3 (ipykernel)",
   "language": "python",
   "name": "python3"
  },
  "language_info": {
   "codemirror_mode": {
    "name": "ipython",
    "version": 3
   },
   "file_extension": ".py",
   "mimetype": "text/x-python",
   "name": "python",
   "nbconvert_exporter": "python",
   "pygments_lexer": "ipython3",
   "version": "3.11.4"
  }
 },
 "nbformat": 4,
 "nbformat_minor": 5
}
