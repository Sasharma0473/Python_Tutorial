{
 "cells": [
  {
   "cell_type": "code",
   "execution_count": 1,
   "id": "7ee9aa7d",
   "metadata": {},
   "outputs": [],
   "source": [
    "import pandas as pd\n",
    "import numpy as np\n",
    "import matplotlib.pyplot as plt\n",
    "import seaborn as sns"
   ]
  },
  {
   "cell_type": "markdown",
   "id": "684d60fc",
   "metadata": {},
   "source": [
    "# Task1 \n",
    "    Problem Statement\n",
    "    1. Find the no. of Sales of North Team\n",
    "    2. Find the no. of Confirmed Sales of Ram\n",
    "    3. Find the Sum of Sale Amount of Bharat and Shyam combined\n",
    "    4. Find the Average Sale Amount of Alisha\n",
    "    5. Which Employee has the highest Confirmed Booking / Total Bookings ratio? And which employee has the lowest?\n",
    "    6. Give a business analysis on the Performance of the overall team"
   ]
  },
  {
   "cell_type": "code",
   "execution_count": 2,
   "id": "343a0f0c",
   "metadata": {},
   "outputs": [
    {
     "data": {
      "text/html": [
       "<div>\n",
       "<style scoped>\n",
       "    .dataframe tbody tr th:only-of-type {\n",
       "        vertical-align: middle;\n",
       "    }\n",
       "\n",
       "    .dataframe tbody tr th {\n",
       "        vertical-align: top;\n",
       "    }\n",
       "\n",
       "    .dataframe thead th {\n",
       "        text-align: right;\n",
       "    }\n",
       "</style>\n",
       "<table border=\"1\" class=\"dataframe\">\n",
       "  <thead>\n",
       "    <tr style=\"text-align: right;\">\n",
       "      <th></th>\n",
       "      <th>BookingNo.</th>\n",
       "      <th>Sales Person</th>\n",
       "      <th>Area</th>\n",
       "      <th>Booking Confirmed</th>\n",
       "      <th>Sales</th>\n",
       "      <th>Unnamed: 5</th>\n",
       "      <th>Unnamed: 6</th>\n",
       "      <th>Unnamed: 7</th>\n",
       "    </tr>\n",
       "  </thead>\n",
       "  <tbody>\n",
       "    <tr>\n",
       "      <th>0</th>\n",
       "      <td>1</td>\n",
       "      <td>Bharat</td>\n",
       "      <td>North</td>\n",
       "      <td>Yes</td>\n",
       "      <td>201</td>\n",
       "      <td>NaN</td>\n",
       "      <td>NaN</td>\n",
       "      <td>Problem Statement</td>\n",
       "    </tr>\n",
       "    <tr>\n",
       "      <th>1</th>\n",
       "      <td>2</td>\n",
       "      <td>Ram</td>\n",
       "      <td>North</td>\n",
       "      <td>Yes</td>\n",
       "      <td>263</td>\n",
       "      <td>NaN</td>\n",
       "      <td>NaN</td>\n",
       "      <td>1. Find the no. of Sales of North Team</td>\n",
       "    </tr>\n",
       "    <tr>\n",
       "      <th>2</th>\n",
       "      <td>3</td>\n",
       "      <td>Shyam</td>\n",
       "      <td>North</td>\n",
       "      <td>Yes</td>\n",
       "      <td>590</td>\n",
       "      <td>NaN</td>\n",
       "      <td>NaN</td>\n",
       "      <td>2.  Find the no. of Confirmed Sales of Ram</td>\n",
       "    </tr>\n",
       "    <tr>\n",
       "      <th>3</th>\n",
       "      <td>4</td>\n",
       "      <td>Ram</td>\n",
       "      <td>North</td>\n",
       "      <td>Yes</td>\n",
       "      <td>293</td>\n",
       "      <td>NaN</td>\n",
       "      <td>NaN</td>\n",
       "      <td>3. Find the Sum of Sale Amount of Bharat and S...</td>\n",
       "    </tr>\n",
       "    <tr>\n",
       "      <th>4</th>\n",
       "      <td>5</td>\n",
       "      <td>Alisha</td>\n",
       "      <td>North</td>\n",
       "      <td>No</td>\n",
       "      <td>406</td>\n",
       "      <td>NaN</td>\n",
       "      <td>NaN</td>\n",
       "      <td>4. Find the Average Sale Amount of Alisha</td>\n",
       "    </tr>\n",
       "  </tbody>\n",
       "</table>\n",
       "</div>"
      ],
      "text/plain": [
       "   BookingNo. Sales Person   Area Booking Confirmed  Sales  Unnamed: 5  \\\n",
       "0           1       Bharat  North               Yes    201         NaN   \n",
       "1           2          Ram  North               Yes    263         NaN   \n",
       "2           3        Shyam  North               Yes    590         NaN   \n",
       "3           4          Ram  North               Yes    293         NaN   \n",
       "4           5       Alisha  North                No    406         NaN   \n",
       "\n",
       "   Unnamed: 6                                         Unnamed: 7  \n",
       "0         NaN                                  Problem Statement  \n",
       "1         NaN             1. Find the no. of Sales of North Team  \n",
       "2         NaN         2.  Find the no. of Confirmed Sales of Ram  \n",
       "3         NaN  3. Find the Sum of Sale Amount of Bharat and S...  \n",
       "4         NaN          4. Find the Average Sale Amount of Alisha  "
      ]
     },
     "execution_count": 2,
     "metadata": {},
     "output_type": "execute_result"
    }
   ],
   "source": [
    "sales_data  = pd.read_excel(r\"C:\\Users\\sasha\\Desktop\\SahilSharma_GeneralAnalyst_10C.xlsx\",sheet_name='Task - 1')\n",
    "sales_data.head()"
   ]
  },
  {
   "cell_type": "code",
   "execution_count": 3,
   "id": "6b012dea",
   "metadata": {},
   "outputs": [],
   "source": [
    "# sales_data.drop(columns=['Unnamed: 5','Unnamed: 6','Unnamed: 7'],inplace=True)"
   ]
  },
  {
   "cell_type": "code",
   "execution_count": 4,
   "id": "beb280d2",
   "metadata": {},
   "outputs": [
    {
     "data": {
      "text/html": [
       "<div>\n",
       "<style scoped>\n",
       "    .dataframe tbody tr th:only-of-type {\n",
       "        vertical-align: middle;\n",
       "    }\n",
       "\n",
       "    .dataframe tbody tr th {\n",
       "        vertical-align: top;\n",
       "    }\n",
       "\n",
       "    .dataframe thead th {\n",
       "        text-align: right;\n",
       "    }\n",
       "</style>\n",
       "<table border=\"1\" class=\"dataframe\">\n",
       "  <thead>\n",
       "    <tr style=\"text-align: right;\">\n",
       "      <th></th>\n",
       "      <th>BookingNo.</th>\n",
       "      <th>Sales Person</th>\n",
       "      <th>Area</th>\n",
       "      <th>Booking Confirmed</th>\n",
       "      <th>Sales</th>\n",
       "      <th>Unnamed: 5</th>\n",
       "      <th>Unnamed: 6</th>\n",
       "      <th>Unnamed: 7</th>\n",
       "    </tr>\n",
       "  </thead>\n",
       "  <tbody>\n",
       "    <tr>\n",
       "      <th>0</th>\n",
       "      <td>1</td>\n",
       "      <td>Bharat</td>\n",
       "      <td>North</td>\n",
       "      <td>Yes</td>\n",
       "      <td>201</td>\n",
       "      <td>NaN</td>\n",
       "      <td>NaN</td>\n",
       "      <td>Problem Statement</td>\n",
       "    </tr>\n",
       "    <tr>\n",
       "      <th>1</th>\n",
       "      <td>2</td>\n",
       "      <td>Ram</td>\n",
       "      <td>North</td>\n",
       "      <td>Yes</td>\n",
       "      <td>263</td>\n",
       "      <td>NaN</td>\n",
       "      <td>NaN</td>\n",
       "      <td>1. Find the no. of Sales of North Team</td>\n",
       "    </tr>\n",
       "  </tbody>\n",
       "</table>\n",
       "</div>"
      ],
      "text/plain": [
       "   BookingNo. Sales Person   Area Booking Confirmed  Sales  Unnamed: 5  \\\n",
       "0           1       Bharat  North               Yes    201         NaN   \n",
       "1           2          Ram  North               Yes    263         NaN   \n",
       "\n",
       "   Unnamed: 6                              Unnamed: 7  \n",
       "0         NaN                       Problem Statement  \n",
       "1         NaN  1. Find the no. of Sales of North Team  "
      ]
     },
     "execution_count": 4,
     "metadata": {},
     "output_type": "execute_result"
    }
   ],
   "source": [
    "sales_data.head(2)"
   ]
  },
  {
   "cell_type": "code",
   "execution_count": 5,
   "id": "1ab07e27",
   "metadata": {},
   "outputs": [
    {
     "data": {
      "text/plain": [
       "11"
      ]
     },
     "execution_count": 5,
     "metadata": {},
     "output_type": "execute_result"
    }
   ],
   "source": [
    "# Find the no. of Sales of North Team\n",
    "total_sales_north = sales_data[sales_data['Area']=='North']['Sales'].count()\n",
    "total_sales_north"
   ]
  },
  {
   "cell_type": "code",
   "execution_count": 6,
   "id": "d3d53e45",
   "metadata": {},
   "outputs": [
    {
     "data": {
      "text/plain": [
       "4"
      ]
     },
     "execution_count": 6,
     "metadata": {},
     "output_type": "execute_result"
    }
   ],
   "source": [
    "# Find the no. of Confirmed Sales of Ram\n",
    "ram_confirmed_sales = sales_data[(sales_data['Booking Confirmed']=='Yes') & (sales_data['Sales Person']=='Ram')]['Sales'].count()\n",
    "ram_confirmed_sales"
   ]
  },
  {
   "cell_type": "code",
   "execution_count": 7,
   "id": "43ec8a68",
   "metadata": {},
   "outputs": [
    {
     "data": {
      "text/plain": [
       "3483"
      ]
     },
     "execution_count": 7,
     "metadata": {},
     "output_type": "execute_result"
    }
   ],
   "source": [
    "# Find the Sum of Sale Amount of Bharat and Shyam combined\n",
    "bharat_Shyam_Sales = sales_data[sales_data['Sales Person'].isin(['Bharat','Shyam'])]['Sales'].sum()\n",
    "bharat_Shyam_Sales"
   ]
  },
  {
   "cell_type": "code",
   "execution_count": 8,
   "id": "19a6516e",
   "metadata": {},
   "outputs": [
    {
     "data": {
      "text/plain": [
       "450.0"
      ]
     },
     "execution_count": 8,
     "metadata": {},
     "output_type": "execute_result"
    }
   ],
   "source": [
    "# Find the Average Sale Amount of Alisha\n",
    "sales_data[sales_data['Sales Person']=='Alisha']['Sales'].mean()"
   ]
  },
  {
   "cell_type": "code",
   "execution_count": 187,
   "id": "b47ad694",
   "metadata": {},
   "outputs": [
    {
     "name": "stdout",
     "output_type": "stream",
     "text": [
      "The highest ratio employee is Ram and the lowest ratio employee is Shyam\n"
     ]
    }
   ],
   "source": [
    "# Which Employee has the highest Confirmed Booking / Total Bookings ratio? And which employee has the lowest?\n",
    "employees = sales_data['Sales Person'].unique()\n",
    "# print(employees)\n",
    "ratio = {}\n",
    "for employee in employees:\n",
    "    total_booking = sales_data[sales_data['Sales Person'] == employee].shape[0]\n",
    "    # print(total_booking)\n",
    "    confirmed_booking = sales_data[(sales_data['Sales Person']== employee) & (sales_data['Booking Confirmed']=='Yes')].shape[0]\n",
    "    # print(confirmed_booking)\n",
    "    ratio[employee] = confirmed_booking/total_booking \n",
    "    # print(ratio[employee])\n",
    "\n",
    "highest_ratio_employee = max(ratio,key=ratio.get)\n",
    "#print(highest_ratio_employee)\n",
    "lowest_ratio_employee =  min(ratio,key=ratio.get)\n",
    "#print(lowest_ratio_employee)\n",
    "print(\"The highest ratio employee is {} and the lowest ratio employee is {}\".format(highest_ratio_employee,lowest_ratio_employee))"
   ]
  },
  {
   "cell_type": "code",
   "execution_count": 10,
   "id": "c38914d7",
   "metadata": {},
   "outputs": [
    {
     "name": "stdout",
     "output_type": "stream",
     "text": [
      "   index  count\n",
      "0      0    0.5\n",
      "1      1    0.4\n",
      "2      2    0.8\n",
      "3      3    0.8\n",
      "4      4    0.5\n",
      "The highest ratio is  0.8\n",
      "The lowest ratio is  0.4\n"
     ]
    }
   ],
   "source": [
    "total_booking = sales_data['Sales Person'].value_counts().reset_index()\n",
    "confirmed_booking = sales_data[sales_data['Booking Confirmed'] =='Yes'].groupby('Sales Person')['Sales Person'].value_counts().reset_index()\n",
    "ratio = confirmed_booking['count']/total_booking['count']\n",
    "\n",
    "print(ratio.reset_index())\n",
    "print(\"The highest ratio is \",max(ratio))\n",
    "print(\"The lowest ratio is \", min(ratio))"
   ]
  },
  {
   "cell_type": "markdown",
   "id": "bed294fd",
   "metadata": {},
   "source": [
    "### Give a business analysis on the Performance of the overall team\n",
    "    As I have gone through the data i can clearly conclude that:\n",
    "    \n",
    "    1) The team which is working in the South of city has total number of 14 sales which is higher than the north team\n",
    "    which has done 11 sales in their area.\n",
    "    2) The highest performer is Ram(0.8) as it has the highest confirmed to total booking ratio and we have Shyam(0.4) \n",
    "    as the lowest performer as it has the lowest confirmed to total booking ratio\n",
    "    3) With the help of above data we can clealy say that bharat and shayam together give the huge amount of sales in their \n",
    "    working region.\n",
    "    4) Alisha on the other hand has the mean of 450.0 as of total sales which she did."
   ]
  },
  {
   "cell_type": "markdown",
   "id": "2cdab670",
   "metadata": {},
   "source": [
    "# Task 2\n",
    "    Create an automated mechanism to calculate the price on the basis of the selection of Hotel, No of Trip Days, No of Rooms, and No. Of Cabs required.\n",
    "    \n",
    "***Please see the Solution in Excel***"
   ]
  },
  {
   "cell_type": "code",
   "execution_count": 11,
   "id": "f7e5d587",
   "metadata": {},
   "outputs": [],
   "source": [
    "trip_data = pd.read_excel(r\"C:\\Users\\sasha\\Desktop\\SahilSharma_GeneralAnalyst_10C.xlsx\",sheet_name='Task - 2')"
   ]
  },
  {
   "cell_type": "markdown",
   "id": "3bf4679c",
   "metadata": {},
   "source": [
    "# Task 3\n",
    "    1. Identify top 3 Best Performing Ad campaigns. Also give 1 best performing campaign based on impressions, \n",
    "    clicks and sales\n",
    "    2. Identify which are the best Selling SKUs and what is the Ad spend on them\n",
    "    3. Based on the Sales Trend, Identify SKus where there is need to re-order\n",
    "    4. Identify which are the SKUs where the Sales is low and Inventory is high\n",
    "    5. Show Week on Week trend of SKus against the Sales and Ad spends\"\n"
   ]
  },
  {
   "cell_type": "code",
   "execution_count": 12,
   "id": "4592fb3f",
   "metadata": {},
   "outputs": [],
   "source": [
    "product_sales = pd.read_excel(r\"C:\\Users\\sasha\\Desktop\\SahilSharma_GeneralAnalyst_10C.xlsx\", sheet_name= 'Sales')\n",
    "ads_data = pd.read_excel(r\"C:\\Users\\sasha\\Desktop\\SahilSharma_GeneralAnalyst_10C.xlsx\", sheet_name='Ads dump')\n",
    "inventory_data = pd.read_excel(r\"C:\\Users\\sasha\\Desktop\\SahilSharma_GeneralAnalyst_10C.xlsx\",sheet_name='inv dump')"
   ]
  },
  {
   "cell_type": "markdown",
   "id": "d67c9ff1",
   "metadata": {},
   "source": [
    "# Data Cleaning "
   ]
  },
  {
   "cell_type": "code",
   "execution_count": 13,
   "id": "3a5a4b6c",
   "metadata": {},
   "outputs": [
    {
     "data": {
      "text/plain": [
       "(1673, 8)"
      ]
     },
     "execution_count": 13,
     "metadata": {},
     "output_type": "execute_result"
    }
   ],
   "source": [
    "product_sales.shape"
   ]
  },
  {
   "cell_type": "code",
   "execution_count": 14,
   "id": "1ad50859",
   "metadata": {},
   "outputs": [
    {
     "data": {
      "text/plain": [
       "(11194, 7)"
      ]
     },
     "execution_count": 14,
     "metadata": {},
     "output_type": "execute_result"
    }
   ],
   "source": [
    "ads_data.shape"
   ]
  },
  {
   "cell_type": "code",
   "execution_count": 15,
   "id": "a7036612",
   "metadata": {},
   "outputs": [
    {
     "data": {
      "text/plain": [
       "(9692, 3)"
      ]
     },
     "execution_count": 15,
     "metadata": {},
     "output_type": "execute_result"
    }
   ],
   "source": [
    "inventory_data.shape"
   ]
  },
  {
   "cell_type": "code",
   "execution_count": 16,
   "id": "8e4aadf7",
   "metadata": {},
   "outputs": [
    {
     "data": {
      "text/html": [
       "<div>\n",
       "<style scoped>\n",
       "    .dataframe tbody tr th:only-of-type {\n",
       "        vertical-align: middle;\n",
       "    }\n",
       "\n",
       "    .dataframe tbody tr th {\n",
       "        vertical-align: top;\n",
       "    }\n",
       "\n",
       "    .dataframe thead th {\n",
       "        text-align: right;\n",
       "    }\n",
       "</style>\n",
       "<table border=\"1\" class=\"dataframe\">\n",
       "  <thead>\n",
       "    <tr style=\"text-align: right;\">\n",
       "      <th></th>\n",
       "      <th>date</th>\n",
       "      <th>ASIN</th>\n",
       "      <th>Title</th>\n",
       "      <th>SKU</th>\n",
       "      <th>Sessions - Total</th>\n",
       "      <th>Page Views - Total</th>\n",
       "      <th>Units Ordered</th>\n",
       "      <th>Ordered Product Sales</th>\n",
       "    </tr>\n",
       "  </thead>\n",
       "  <tbody>\n",
       "    <tr>\n",
       "      <th>0</th>\n",
       "      <td>2024-04-01</td>\n",
       "      <td>B08VS7JX1G</td>\n",
       "      <td>Celio Men's Regular Fit Fullsleeve Shirt (8904...</td>\n",
       "      <td>8904330000000</td>\n",
       "      <td>1</td>\n",
       "      <td>6</td>\n",
       "      <td>1</td>\n",
       "      <td>₹1,249.00</td>\n",
       "    </tr>\n",
       "    <tr>\n",
       "      <th>1</th>\n",
       "      <td>2024-04-01</td>\n",
       "      <td>B0B63YHTPM</td>\n",
       "      <td>Celio Men Tie Dye Light Blue Half Sleeve Sprea...</td>\n",
       "      <td>8905550000000</td>\n",
       "      <td>2</td>\n",
       "      <td>2</td>\n",
       "      <td>1</td>\n",
       "      <td>₹999.00</td>\n",
       "    </tr>\n",
       "  </tbody>\n",
       "</table>\n",
       "</div>"
      ],
      "text/plain": [
       "        date        ASIN                                              Title  \\\n",
       "0 2024-04-01  B08VS7JX1G  Celio Men's Regular Fit Fullsleeve Shirt (8904...   \n",
       "1 2024-04-01  B0B63YHTPM  Celio Men Tie Dye Light Blue Half Sleeve Sprea...   \n",
       "\n",
       "             SKU  Sessions - Total  Page Views - Total  Units Ordered  \\\n",
       "0  8904330000000                 1                   6              1   \n",
       "1  8905550000000                 2                   2              1   \n",
       "\n",
       "  Ordered Product Sales  \n",
       "0             ₹1,249.00  \n",
       "1               ₹999.00  "
      ]
     },
     "execution_count": 16,
     "metadata": {},
     "output_type": "execute_result"
    }
   ],
   "source": [
    "product_sales.head(2)"
   ]
  },
  {
   "cell_type": "code",
   "execution_count": 17,
   "id": "183d6750",
   "metadata": {},
   "outputs": [
    {
     "name": "stdout",
     "output_type": "stream",
     "text": [
      "<class 'pandas.core.frame.DataFrame'>\n",
      "RangeIndex: 1673 entries, 0 to 1672\n",
      "Data columns (total 8 columns):\n",
      " #   Column                 Non-Null Count  Dtype         \n",
      "---  ------                 --------------  -----         \n",
      " 0   date                   1673 non-null   datetime64[ns]\n",
      " 1   ASIN                   1673 non-null   object        \n",
      " 2   Title                  1673 non-null   object        \n",
      " 3   SKU                    1673 non-null   int64         \n",
      " 4   Sessions - Total       1673 non-null   int64         \n",
      " 5   Page Views - Total     1673 non-null   int64         \n",
      " 6   Units Ordered          1673 non-null   int64         \n",
      " 7   Ordered Product Sales  1673 non-null   object        \n",
      "dtypes: datetime64[ns](1), int64(4), object(3)\n",
      "memory usage: 104.7+ KB\n"
     ]
    }
   ],
   "source": [
    "product_sales.info()"
   ]
  },
  {
   "cell_type": "code",
   "execution_count": 18,
   "id": "da9185d6",
   "metadata": {},
   "outputs": [],
   "source": [
    "product_sales['Ordered Product Sales'] = product_sales['Ordered Product Sales'].str.replace('₹','').str.replace(',','').astype('float')"
   ]
  },
  {
   "cell_type": "code",
   "execution_count": 19,
   "id": "10aae9b3",
   "metadata": {},
   "outputs": [
    {
     "name": "stdout",
     "output_type": "stream",
     "text": [
      "<class 'pandas.core.frame.DataFrame'>\n",
      "RangeIndex: 1673 entries, 0 to 1672\n",
      "Data columns (total 8 columns):\n",
      " #   Column                 Non-Null Count  Dtype         \n",
      "---  ------                 --------------  -----         \n",
      " 0   date                   1673 non-null   datetime64[ns]\n",
      " 1   ASIN                   1673 non-null   object        \n",
      " 2   Title                  1673 non-null   object        \n",
      " 3   SKU                    1673 non-null   int64         \n",
      " 4   Sessions - Total       1673 non-null   int64         \n",
      " 5   Page Views - Total     1673 non-null   int64         \n",
      " 6   Units Ordered          1673 non-null   int64         \n",
      " 7   Ordered Product Sales  1673 non-null   float64       \n",
      "dtypes: datetime64[ns](1), float64(1), int64(4), object(2)\n",
      "memory usage: 104.7+ KB\n"
     ]
    }
   ],
   "source": [
    "product_sales.info()"
   ]
  },
  {
   "cell_type": "code",
   "execution_count": 20,
   "id": "6f960a8c",
   "metadata": {},
   "outputs": [
    {
     "data": {
      "text/html": [
       "<div>\n",
       "<style scoped>\n",
       "    .dataframe tbody tr th:only-of-type {\n",
       "        vertical-align: middle;\n",
       "    }\n",
       "\n",
       "    .dataframe tbody tr th {\n",
       "        vertical-align: top;\n",
       "    }\n",
       "\n",
       "    .dataframe thead th {\n",
       "        text-align: right;\n",
       "    }\n",
       "</style>\n",
       "<table border=\"1\" class=\"dataframe\">\n",
       "  <thead>\n",
       "    <tr style=\"text-align: right;\">\n",
       "      <th></th>\n",
       "      <th>Date</th>\n",
       "      <th>Campaign Name</th>\n",
       "      <th>Advertised SKU</th>\n",
       "      <th>Advertised ASIN</th>\n",
       "      <th>Impressions</th>\n",
       "      <th>Clicks</th>\n",
       "      <th>Spend</th>\n",
       "    </tr>\n",
       "  </thead>\n",
       "  <tbody>\n",
       "    <tr>\n",
       "      <th>0</th>\n",
       "      <td>2024-04-01</td>\n",
       "      <td>Tshirt/24E/SP/Auto</td>\n",
       "      <td>8905550083669</td>\n",
       "      <td>B0CKXCCL7T</td>\n",
       "      <td>4185</td>\n",
       "      <td>6</td>\n",
       "      <td>₹50.80</td>\n",
       "    </tr>\n",
       "    <tr>\n",
       "      <th>1</th>\n",
       "      <td>2024-04-02</td>\n",
       "      <td>Tshirt/24E/SP/Auto</td>\n",
       "      <td>8905550083669</td>\n",
       "      <td>B0CKXCCL7T</td>\n",
       "      <td>2494</td>\n",
       "      <td>8</td>\n",
       "      <td>₹68.24</td>\n",
       "    </tr>\n",
       "  </tbody>\n",
       "</table>\n",
       "</div>"
      ],
      "text/plain": [
       "        Date       Campaign Name  Advertised SKU Advertised ASIN  Impressions  \\\n",
       "0 2024-04-01  Tshirt/24E/SP/Auto   8905550083669      B0CKXCCL7T         4185   \n",
       "1 2024-04-02  Tshirt/24E/SP/Auto   8905550083669      B0CKXCCL7T         2494   \n",
       "\n",
       "   Clicks   Spend  \n",
       "0       6  ₹50.80  \n",
       "1       8  ₹68.24  "
      ]
     },
     "execution_count": 20,
     "metadata": {},
     "output_type": "execute_result"
    }
   ],
   "source": [
    "ads_data.head(2)"
   ]
  },
  {
   "cell_type": "code",
   "execution_count": 21,
   "id": "ad29edca",
   "metadata": {},
   "outputs": [
    {
     "name": "stdout",
     "output_type": "stream",
     "text": [
      "<class 'pandas.core.frame.DataFrame'>\n",
      "RangeIndex: 11194 entries, 0 to 11193\n",
      "Data columns (total 7 columns):\n",
      " #   Column           Non-Null Count  Dtype         \n",
      "---  ------           --------------  -----         \n",
      " 0   Date             11194 non-null  datetime64[ns]\n",
      " 1   Campaign Name    11194 non-null  object        \n",
      " 2   Advertised SKU   11194 non-null  int64         \n",
      " 3   Advertised ASIN  11194 non-null  object        \n",
      " 4   Impressions      11194 non-null  int64         \n",
      " 5   Clicks           11194 non-null  int64         \n",
      " 6   Spend            11194 non-null  object        \n",
      "dtypes: datetime64[ns](1), int64(3), object(3)\n",
      "memory usage: 612.3+ KB\n"
     ]
    }
   ],
   "source": [
    "ads_data.info()"
   ]
  },
  {
   "cell_type": "code",
   "execution_count": 22,
   "id": "58e9a8ba",
   "metadata": {},
   "outputs": [],
   "source": [
    "ads_data['Spend'] = ads_data['Spend'].str.strip().str.replace('₹','').str.replace(',','').astype('float')"
   ]
  },
  {
   "cell_type": "code",
   "execution_count": 23,
   "id": "61d1b210",
   "metadata": {},
   "outputs": [
    {
     "name": "stdout",
     "output_type": "stream",
     "text": [
      "<class 'pandas.core.frame.DataFrame'>\n",
      "RangeIndex: 11194 entries, 0 to 11193\n",
      "Data columns (total 7 columns):\n",
      " #   Column           Non-Null Count  Dtype         \n",
      "---  ------           --------------  -----         \n",
      " 0   Date             11194 non-null  datetime64[ns]\n",
      " 1   Campaign Name    11194 non-null  object        \n",
      " 2   Advertised SKU   11194 non-null  int64         \n",
      " 3   Advertised ASIN  11194 non-null  object        \n",
      " 4   Impressions      11194 non-null  int64         \n",
      " 5   Clicks           11194 non-null  int64         \n",
      " 6   Spend            11194 non-null  float64       \n",
      "dtypes: datetime64[ns](1), float64(1), int64(3), object(2)\n",
      "memory usage: 612.3+ KB\n"
     ]
    }
   ],
   "source": [
    "ads_data.info()"
   ]
  },
  {
   "cell_type": "code",
   "execution_count": 24,
   "id": "a863ebd9",
   "metadata": {},
   "outputs": [
    {
     "data": {
      "text/html": [
       "<div>\n",
       "<style scoped>\n",
       "    .dataframe tbody tr th:only-of-type {\n",
       "        vertical-align: middle;\n",
       "    }\n",
       "\n",
       "    .dataframe tbody tr th {\n",
       "        vertical-align: top;\n",
       "    }\n",
       "\n",
       "    .dataframe thead th {\n",
       "        text-align: right;\n",
       "    }\n",
       "</style>\n",
       "<table border=\"1\" class=\"dataframe\">\n",
       "  <thead>\n",
       "    <tr style=\"text-align: right;\">\n",
       "      <th></th>\n",
       "      <th>Store Name</th>\n",
       "      <th>SKU</th>\n",
       "      <th>Total Available Quantity</th>\n",
       "    </tr>\n",
       "  </thead>\n",
       "  <tbody>\n",
       "    <tr>\n",
       "      <th>0</th>\n",
       "      <td>Bhiwandi Warehouse</td>\n",
       "      <td>3596652935250</td>\n",
       "      <td>2</td>\n",
       "    </tr>\n",
       "    <tr>\n",
       "      <th>1</th>\n",
       "      <td>Bhiwandi Warehouse</td>\n",
       "      <td>3596652935342</td>\n",
       "      <td>3</td>\n",
       "    </tr>\n",
       "  </tbody>\n",
       "</table>\n",
       "</div>"
      ],
      "text/plain": [
       "           Store Name            SKU  Total Available Quantity\n",
       "0  Bhiwandi Warehouse  3596652935250                         2\n",
       "1  Bhiwandi Warehouse  3596652935342                         3"
      ]
     },
     "execution_count": 24,
     "metadata": {},
     "output_type": "execute_result"
    }
   ],
   "source": [
    "inventory_data.head(2)"
   ]
  },
  {
   "cell_type": "code",
   "execution_count": 25,
   "id": "17fff3e0",
   "metadata": {},
   "outputs": [
    {
     "name": "stdout",
     "output_type": "stream",
     "text": [
      "<class 'pandas.core.frame.DataFrame'>\n",
      "RangeIndex: 9692 entries, 0 to 9691\n",
      "Data columns (total 3 columns):\n",
      " #   Column                    Non-Null Count  Dtype \n",
      "---  ------                    --------------  ----- \n",
      " 0   Store Name                9692 non-null   object\n",
      " 1   SKU                       9692 non-null   int64 \n",
      " 2   Total Available Quantity  9692 non-null   int64 \n",
      "dtypes: int64(2), object(1)\n",
      "memory usage: 227.3+ KB\n"
     ]
    }
   ],
   "source": [
    "inventory_data.info()"
   ]
  },
  {
   "cell_type": "markdown",
   "id": "a59847c5",
   "metadata": {},
   "source": [
    "# Problem Solving "
   ]
  },
  {
   "cell_type": "markdown",
   "id": "f758b981",
   "metadata": {},
   "source": [
    "#### Identify top 3 Best Performing Ad campaigns. Also give 1 best performing campaign based on impressions,clicks and sales"
   ]
  },
  {
   "cell_type": "code",
   "execution_count": 63,
   "id": "4abafc14",
   "metadata": {},
   "outputs": [
    {
     "name": "stdout",
     "output_type": "stream",
     "text": [
      "(961,)\n",
      "(295,)\n",
      "(501,)\n",
      "(269,)\n",
      "(1673, 8)\n",
      "(11194, 7)\n"
     ]
    }
   ],
   "source": [
    "# Advertised SKU , Advertised ASIN\n",
    "print(product_sales['ASIN'].unique().shape)\n",
    "print(ads_data['Advertised ASIN'].unique().shape)\n",
    "print(product_sales['SKU'].unique().shape)\n",
    "print(ads_data['Advertised SKU'].unique().shape)\n",
    "print(product_sales.shape)\n",
    "print(ads_data.shape)"
   ]
  },
  {
   "cell_type": "code",
   "execution_count": 94,
   "id": "0f66a6c7",
   "metadata": {},
   "outputs": [],
   "source": [
    "# product_sales.merge(ads_data,how = 'inner', left_on='ASIN',right_on='Advertised ASIN').shape"
   ]
  },
  {
   "cell_type": "code",
   "execution_count": 28,
   "id": "d7369cc9",
   "metadata": {},
   "outputs": [
    {
     "data": {
      "text/plain": [
       "(733150, 15)"
      ]
     },
     "execution_count": 28,
     "metadata": {},
     "output_type": "execute_result"
    }
   ],
   "source": [
    "product_ads_data = product_sales.merge(ads_data,how='inner',left_on='SKU',right_on='Advertised SKU')\n",
    "product_ads_data.shape"
   ]
  },
  {
   "cell_type": "code",
   "execution_count": 95,
   "id": "f1cafcd9",
   "metadata": {},
   "outputs": [
    {
     "data": {
      "text/html": [
       "<div>\n",
       "<style scoped>\n",
       "    .dataframe tbody tr th:only-of-type {\n",
       "        vertical-align: middle;\n",
       "    }\n",
       "\n",
       "    .dataframe tbody tr th {\n",
       "        vertical-align: top;\n",
       "    }\n",
       "\n",
       "    .dataframe thead th {\n",
       "        text-align: right;\n",
       "    }\n",
       "</style>\n",
       "<table border=\"1\" class=\"dataframe\">\n",
       "  <thead>\n",
       "    <tr style=\"text-align: right;\">\n",
       "      <th></th>\n",
       "      <th>date</th>\n",
       "      <th>ASIN</th>\n",
       "      <th>Title</th>\n",
       "      <th>SKU</th>\n",
       "      <th>Sessions - Total</th>\n",
       "      <th>Page Views - Total</th>\n",
       "      <th>Units Ordered</th>\n",
       "      <th>Ordered Product Sales</th>\n",
       "      <th>Date</th>\n",
       "      <th>Campaign Name</th>\n",
       "      <th>Advertised SKU</th>\n",
       "      <th>Advertised ASIN</th>\n",
       "      <th>Impressions</th>\n",
       "      <th>Clicks</th>\n",
       "      <th>Spend</th>\n",
       "      <th>Total_Sales</th>\n",
       "      <th>Profit</th>\n",
       "    </tr>\n",
       "  </thead>\n",
       "  <tbody>\n",
       "  </tbody>\n",
       "</table>\n",
       "</div>"
      ],
      "text/plain": [
       "Empty DataFrame\n",
       "Columns: [date, ASIN, Title, SKU, Sessions - Total, Page Views - Total, Units Ordered, Ordered Product Sales, Date, Campaign Name, Advertised SKU, Advertised ASIN, Impressions, Clicks, Spend, Total_Sales, Profit]\n",
       "Index: []"
      ]
     },
     "execution_count": 95,
     "metadata": {},
     "output_type": "execute_result"
    }
   ],
   "source": [
    "product_ads_data[product_ads_data.duplicated()]"
   ]
  },
  {
   "cell_type": "code",
   "execution_count": 29,
   "id": "a9533d0c",
   "metadata": {},
   "outputs": [],
   "source": [
    "product_ads_data['Total_Sales'] = product_ads_data['Units Ordered'] * product_ads_data['Ordered Product Sales']"
   ]
  },
  {
   "cell_type": "code",
   "execution_count": 30,
   "id": "a7d36759",
   "metadata": {},
   "outputs": [
    {
     "data": {
      "text/html": [
       "<div>\n",
       "<style scoped>\n",
       "    .dataframe tbody tr th:only-of-type {\n",
       "        vertical-align: middle;\n",
       "    }\n",
       "\n",
       "    .dataframe tbody tr th {\n",
       "        vertical-align: top;\n",
       "    }\n",
       "\n",
       "    .dataframe thead th {\n",
       "        text-align: right;\n",
       "    }\n",
       "</style>\n",
       "<table border=\"1\" class=\"dataframe\">\n",
       "  <thead>\n",
       "    <tr style=\"text-align: right;\">\n",
       "      <th></th>\n",
       "      <th>date</th>\n",
       "      <th>ASIN</th>\n",
       "      <th>Title</th>\n",
       "      <th>SKU</th>\n",
       "      <th>Sessions - Total</th>\n",
       "      <th>Page Views - Total</th>\n",
       "      <th>Units Ordered</th>\n",
       "      <th>Ordered Product Sales</th>\n",
       "      <th>Date</th>\n",
       "      <th>Campaign Name</th>\n",
       "      <th>Advertised SKU</th>\n",
       "      <th>Advertised ASIN</th>\n",
       "      <th>Impressions</th>\n",
       "      <th>Clicks</th>\n",
       "      <th>Spend</th>\n",
       "      <th>Total_Sales</th>\n",
       "    </tr>\n",
       "  </thead>\n",
       "  <tbody>\n",
       "    <tr>\n",
       "      <th>36027</th>\n",
       "      <td>2024-04-02</td>\n",
       "      <td>B0C5XY94V2</td>\n",
       "      <td>Celio Men's Orange Printed Bermuda Shorts</td>\n",
       "      <td>3596660000000</td>\n",
       "      <td>1</td>\n",
       "      <td>1</td>\n",
       "      <td>2</td>\n",
       "      <td>2698.0</td>\n",
       "      <td>2024-03-08</td>\n",
       "      <td>Tshirt/24E/SP/Auto</td>\n",
       "      <td>3596660000000</td>\n",
       "      <td>B0C9QBZ3T3</td>\n",
       "      <td>67</td>\n",
       "      <td>0</td>\n",
       "      <td>0.0</td>\n",
       "      <td>5396.0</td>\n",
       "    </tr>\n",
       "  </tbody>\n",
       "</table>\n",
       "</div>"
      ],
      "text/plain": [
       "            date        ASIN                                      Title  \\\n",
       "36027 2024-04-02  B0C5XY94V2  Celio Men's Orange Printed Bermuda Shorts   \n",
       "\n",
       "                 SKU  Sessions - Total  Page Views - Total  Units Ordered  \\\n",
       "36027  3596660000000                 1                   1              2   \n",
       "\n",
       "       Ordered Product Sales       Date       Campaign Name  Advertised SKU  \\\n",
       "36027                 2698.0 2024-03-08  Tshirt/24E/SP/Auto   3596660000000   \n",
       "\n",
       "      Advertised ASIN  Impressions  Clicks  Spend  Total_Sales  \n",
       "36027      B0C9QBZ3T3           67       0    0.0       5396.0  "
      ]
     },
     "execution_count": 30,
     "metadata": {},
     "output_type": "execute_result"
    }
   ],
   "source": [
    "product_ads_data[product_ads_data['Units Ordered']==2].head(1)"
   ]
  },
  {
   "cell_type": "code",
   "execution_count": 31,
   "id": "a87d4bf5",
   "metadata": {},
   "outputs": [],
   "source": [
    "# Just Munging with data.\n",
    "# product_ads_data.groupby('SKU')['Spend'].sum().sort_values(ascending = True).head(3)\n",
    "# product_ads_data.groupby('SKU')['Total_Sales'].sum().sort_values(ascending =False).head(3).reset_index()\n",
    "# top3_sku= product_ads_data.groupby('SKU')['Total_Sales'].sum().sort_values(ascending =False).head(3).index.tolist()\n",
    "# product_ads_data[product_ads_data['SKU'].isin(top3_sku)].groupby('SKU')['Spend'].sum().reset_index()"
   ]
  },
  {
   "cell_type": "code",
   "execution_count": 32,
   "id": "5f3b65e2",
   "metadata": {},
   "outputs": [],
   "source": [
    "pd.set_option('display.float_format', '{:.10f}'.format)"
   ]
  },
  {
   "cell_type": "code",
   "execution_count": 33,
   "id": "7207a1c2",
   "metadata": {},
   "outputs": [],
   "source": [
    "product_ads_data['Profit'] = product_ads_data['Total_Sales']-product_ads_data['Spend']"
   ]
  },
  {
   "cell_type": "code",
   "execution_count": 34,
   "id": "27970f0c",
   "metadata": {},
   "outputs": [
    {
     "data": {
      "text/html": [
       "<div>\n",
       "<style scoped>\n",
       "    .dataframe tbody tr th:only-of-type {\n",
       "        vertical-align: middle;\n",
       "    }\n",
       "\n",
       "    .dataframe tbody tr th {\n",
       "        vertical-align: top;\n",
       "    }\n",
       "\n",
       "    .dataframe thead th {\n",
       "        text-align: right;\n",
       "    }\n",
       "</style>\n",
       "<table border=\"1\" class=\"dataframe\">\n",
       "  <thead>\n",
       "    <tr style=\"text-align: right;\">\n",
       "      <th></th>\n",
       "      <th>SKU</th>\n",
       "      <th>Profit</th>\n",
       "    </tr>\n",
       "  </thead>\n",
       "  <tbody>\n",
       "    <tr>\n",
       "      <th>0</th>\n",
       "      <td>8905550000000</td>\n",
       "      <td>1372978297.7200000286</td>\n",
       "    </tr>\n",
       "    <tr>\n",
       "      <th>1</th>\n",
       "      <td>3596660000000</td>\n",
       "      <td>185625243.8000000119</td>\n",
       "    </tr>\n",
       "    <tr>\n",
       "      <th>2</th>\n",
       "      <td>8904328628170</td>\n",
       "      <td>1849504.7600000000</td>\n",
       "    </tr>\n",
       "  </tbody>\n",
       "</table>\n",
       "</div>"
      ],
      "text/plain": [
       "             SKU                Profit\n",
       "0  8905550000000 1372978297.7200000286\n",
       "1  3596660000000  185625243.8000000119\n",
       "2  8904328628170    1849504.7600000000"
      ]
     },
     "execution_count": 34,
     "metadata": {},
     "output_type": "execute_result"
    }
   ],
   "source": [
    "# Identify top 3 Best Performing Ad campaigns OR Best Performing campaign on the basis of SALES\n",
    "top5_sales_ad = product_ads_data.groupby('SKU')['Profit'].sum().sort_values(ascending=False).head(3).reset_index()\n",
    "top5_sales_ad"
   ]
  },
  {
   "cell_type": "code",
   "execution_count": 35,
   "id": "e821e906",
   "metadata": {},
   "outputs": [
    {
     "data": {
      "text/plain": [
       "[8905550000000, 3596660000000, 8904328628170]"
      ]
     },
     "execution_count": 35,
     "metadata": {},
     "output_type": "execute_result"
    }
   ],
   "source": [
    "top5_sales_ad['SKU'].values.tolist()"
   ]
  },
  {
   "cell_type": "code",
   "execution_count": 36,
   "id": "f9c3c025",
   "metadata": {},
   "outputs": [
    {
     "data": {
      "text/html": [
       "<div>\n",
       "<style scoped>\n",
       "    .dataframe tbody tr th:only-of-type {\n",
       "        vertical-align: middle;\n",
       "    }\n",
       "\n",
       "    .dataframe tbody tr th {\n",
       "        vertical-align: top;\n",
       "    }\n",
       "\n",
       "    .dataframe thead th {\n",
       "        text-align: right;\n",
       "    }\n",
       "</style>\n",
       "<table border=\"1\" class=\"dataframe\">\n",
       "  <thead>\n",
       "    <tr style=\"text-align: right;\">\n",
       "      <th></th>\n",
       "      <th>SKU</th>\n",
       "      <th>Impressions</th>\n",
       "    </tr>\n",
       "  </thead>\n",
       "  <tbody>\n",
       "    <tr>\n",
       "      <th>0</th>\n",
       "      <td>8905550000000</td>\n",
       "      <td>441289134</td>\n",
       "    </tr>\n",
       "  </tbody>\n",
       "</table>\n",
       "</div>"
      ],
      "text/plain": [
       "             SKU  Impressions\n",
       "0  8905550000000    441289134"
      ]
     },
     "execution_count": 36,
     "metadata": {},
     "output_type": "execute_result"
    }
   ],
   "source": [
    "# Best Performing SKU Based on impression\n",
    "product_ads_data.groupby('SKU')['Impressions'].sum().sort_values(ascending =False).head(1).reset_index()"
   ]
  },
  {
   "cell_type": "code",
   "execution_count": 37,
   "id": "b7e56415",
   "metadata": {},
   "outputs": [
    {
     "data": {
      "text/html": [
       "<div>\n",
       "<style scoped>\n",
       "    .dataframe tbody tr th:only-of-type {\n",
       "        vertical-align: middle;\n",
       "    }\n",
       "\n",
       "    .dataframe tbody tr th {\n",
       "        vertical-align: top;\n",
       "    }\n",
       "\n",
       "    .dataframe thead th {\n",
       "        text-align: right;\n",
       "    }\n",
       "</style>\n",
       "<table border=\"1\" class=\"dataframe\">\n",
       "  <thead>\n",
       "    <tr style=\"text-align: right;\">\n",
       "      <th></th>\n",
       "      <th>SKU</th>\n",
       "      <th>Clicks</th>\n",
       "    </tr>\n",
       "  </thead>\n",
       "  <tbody>\n",
       "    <tr>\n",
       "      <th>0</th>\n",
       "      <td>8905550000000</td>\n",
       "      <td>2382974</td>\n",
       "    </tr>\n",
       "  </tbody>\n",
       "</table>\n",
       "</div>"
      ],
      "text/plain": [
       "             SKU   Clicks\n",
       "0  8905550000000  2382974"
      ]
     },
     "execution_count": 37,
     "metadata": {},
     "output_type": "execute_result"
    }
   ],
   "source": [
    "# Best Performing SKU Based on CLicks\n",
    "product_ads_data.groupby('SKU')['Clicks'].sum().sort_values(ascending=False).head(1).reset_index()"
   ]
  },
  {
   "cell_type": "markdown",
   "id": "537a25a4",
   "metadata": {},
   "source": [
    "#### Identify which are the best Selling SKUs and what is the Ad spend on them"
   ]
  },
  {
   "cell_type": "code",
   "execution_count": 38,
   "id": "22a9276f",
   "metadata": {},
   "outputs": [
    {
     "data": {
      "text/html": [
       "<div>\n",
       "<style scoped>\n",
       "    .dataframe tbody tr th:only-of-type {\n",
       "        vertical-align: middle;\n",
       "    }\n",
       "\n",
       "    .dataframe tbody tr th {\n",
       "        vertical-align: top;\n",
       "    }\n",
       "\n",
       "    .dataframe thead th {\n",
       "        text-align: right;\n",
       "    }\n",
       "</style>\n",
       "<table border=\"1\" class=\"dataframe\">\n",
       "  <thead>\n",
       "    <tr style=\"text-align: right;\">\n",
       "      <th></th>\n",
       "      <th>SKU</th>\n",
       "      <th>Profit</th>\n",
       "    </tr>\n",
       "  </thead>\n",
       "  <tbody>\n",
       "    <tr>\n",
       "      <th>0</th>\n",
       "      <td>8905550000000</td>\n",
       "      <td>1372978297.7200000286</td>\n",
       "    </tr>\n",
       "    <tr>\n",
       "      <th>1</th>\n",
       "      <td>3596660000000</td>\n",
       "      <td>185625243.8000000119</td>\n",
       "    </tr>\n",
       "    <tr>\n",
       "      <th>2</th>\n",
       "      <td>8904328628170</td>\n",
       "      <td>1849504.7600000000</td>\n",
       "    </tr>\n",
       "    <tr>\n",
       "      <th>3</th>\n",
       "      <td>8905550063883</td>\n",
       "      <td>1156660.8400000001</td>\n",
       "    </tr>\n",
       "    <tr>\n",
       "      <th>4</th>\n",
       "      <td>8905550071420</td>\n",
       "      <td>948842.8100000001</td>\n",
       "    </tr>\n",
       "  </tbody>\n",
       "</table>\n",
       "</div>"
      ],
      "text/plain": [
       "             SKU                Profit\n",
       "0  8905550000000 1372978297.7200000286\n",
       "1  3596660000000  185625243.8000000119\n",
       "2  8904328628170    1849504.7600000000\n",
       "3  8905550063883    1156660.8400000001\n",
       "4  8905550071420     948842.8100000001"
      ]
     },
     "execution_count": 38,
     "metadata": {},
     "output_type": "execute_result"
    }
   ],
   "source": [
    "# Best Selling SKU's\n",
    "best_selling_sku = product_ads_data.groupby('SKU')['Profit'].sum().sort_values(ascending = False).head().reset_index()\n",
    "best_selling_sku"
   ]
  },
  {
   "cell_type": "code",
   "execution_count": 39,
   "id": "3368ccc5",
   "metadata": {},
   "outputs": [],
   "source": [
    "best_sku = best_selling_sku['SKU'].values.tolist()"
   ]
  },
  {
   "cell_type": "code",
   "execution_count": 42,
   "id": "e9015825",
   "metadata": {},
   "outputs": [
    {
     "data": {
      "text/html": [
       "<div>\n",
       "<style scoped>\n",
       "    .dataframe tbody tr th:only-of-type {\n",
       "        vertical-align: middle;\n",
       "    }\n",
       "\n",
       "    .dataframe tbody tr th {\n",
       "        vertical-align: top;\n",
       "    }\n",
       "\n",
       "    .dataframe thead th {\n",
       "        text-align: right;\n",
       "    }\n",
       "</style>\n",
       "<table border=\"1\" class=\"dataframe\">\n",
       "  <thead>\n",
       "    <tr style=\"text-align: right;\">\n",
       "      <th></th>\n",
       "      <th>SKU</th>\n",
       "      <th>Spend</th>\n",
       "    </tr>\n",
       "  </thead>\n",
       "  <tbody>\n",
       "    <tr>\n",
       "      <th>0</th>\n",
       "      <td>8905550000000</td>\n",
       "      <td>11096750.2799999993</td>\n",
       "    </tr>\n",
       "    <tr>\n",
       "      <th>1</th>\n",
       "      <td>3596660000000</td>\n",
       "      <td>1292287.2000000000</td>\n",
       "    </tr>\n",
       "    <tr>\n",
       "      <th>2</th>\n",
       "      <td>8905550063883</td>\n",
       "      <td>167438.1600000000</td>\n",
       "    </tr>\n",
       "    <tr>\n",
       "      <th>3</th>\n",
       "      <td>8905550071420</td>\n",
       "      <td>62847.1900000000</td>\n",
       "    </tr>\n",
       "    <tr>\n",
       "      <th>4</th>\n",
       "      <td>8904328628170</td>\n",
       "      <td>8367.2400000000</td>\n",
       "    </tr>\n",
       "  </tbody>\n",
       "</table>\n",
       "</div>"
      ],
      "text/plain": [
       "             SKU               Spend\n",
       "0  8905550000000 11096750.2799999993\n",
       "1  3596660000000  1292287.2000000000\n",
       "2  8905550063883   167438.1600000000\n",
       "3  8905550071420    62847.1900000000\n",
       "4  8904328628170     8367.2400000000"
      ]
     },
     "execution_count": 42,
     "metadata": {},
     "output_type": "execute_result"
    }
   ],
   "source": [
    "# ads spend on best performing SKU\n",
    "product_ads_data[product_ads_data['SKU'].isin(best_sku)].groupby('SKU')['Spend'].sum().sort_values(ascending=False).reset_index()"
   ]
  },
  {
   "cell_type": "markdown",
   "id": "5124ad30",
   "metadata": {},
   "source": [
    "#### Based on the Sales Trend, Identify SKus where there is need to re-order"
   ]
  },
  {
   "cell_type": "code",
   "execution_count": 70,
   "id": "34d095bb",
   "metadata": {},
   "outputs": [],
   "source": [
    "order_repeated = product_ads_data[(product_ads_data['Units Ordered']==3) | (product_ads_data['Units Ordered']==2)]"
   ]
  },
  {
   "cell_type": "code",
   "execution_count": 79,
   "id": "0dd4c54c",
   "metadata": {},
   "outputs": [
    {
     "data": {
      "text/plain": [
       "[3596656029832,\n",
       " 3596660000000,\n",
       " 8904328628170,\n",
       " 8905550000000,\n",
       " 8905550063883,\n",
       " 8905550065351,\n",
       " 8905550065597,\n",
       " 8905550071420,\n",
       " 8905550084628,\n",
       " 8905550126908]"
      ]
     },
     "execution_count": 79,
     "metadata": {},
     "output_type": "execute_result"
    }
   ],
   "source": [
    "all_sku_reorder = order_repeated.groupby('SKU')['Ordered Product Sales'].sum().index.tolist()\n",
    "all_sku_reorder"
   ]
  },
  {
   "cell_type": "markdown",
   "id": "6dc504e5",
   "metadata": {},
   "source": [
    "#### Identify which are the SKUs where the Sales is low and Inventory is high"
   ]
  },
  {
   "cell_type": "code",
   "execution_count": 88,
   "id": "8a5bee35",
   "metadata": {},
   "outputs": [
    {
     "name": "stdout",
     "output_type": "stream",
     "text": [
      "(9692, 3)\n",
      "(1673, 8)\n"
     ]
    }
   ],
   "source": [
    "print(inventory_data.shape)\n",
    "print(product_sales.shape)"
   ]
  },
  {
   "cell_type": "code",
   "execution_count": 96,
   "id": "26ff9180",
   "metadata": {
    "scrolled": false
   },
   "outputs": [],
   "source": [
    "product_inv_data = product_sales.merge(inventory_data,how='inner', on='SKU')"
   ]
  },
  {
   "cell_type": "code",
   "execution_count": 98,
   "id": "bb9af26d",
   "metadata": {},
   "outputs": [
    {
     "data": {
      "text/plain": [
       "(540, 10)"
      ]
     },
     "execution_count": 98,
     "metadata": {},
     "output_type": "execute_result"
    }
   ],
   "source": [
    "product_inv_data.shape"
   ]
  },
  {
   "cell_type": "code",
   "execution_count": 99,
   "id": "8a51d4bc",
   "metadata": {},
   "outputs": [
    {
     "name": "stdout",
     "output_type": "stream",
     "text": [
      "<class 'pandas.core.frame.DataFrame'>\n",
      "RangeIndex: 540 entries, 0 to 539\n",
      "Data columns (total 10 columns):\n",
      " #   Column                    Non-Null Count  Dtype         \n",
      "---  ------                    --------------  -----         \n",
      " 0   date                      540 non-null    datetime64[ns]\n",
      " 1   ASIN                      540 non-null    object        \n",
      " 2   Title                     540 non-null    object        \n",
      " 3   SKU                       540 non-null    int64         \n",
      " 4   Sessions - Total          540 non-null    int64         \n",
      " 5   Page Views - Total        540 non-null    int64         \n",
      " 6   Units Ordered             540 non-null    int64         \n",
      " 7   Ordered Product Sales     540 non-null    float64       \n",
      " 8   Store Name                540 non-null    object        \n",
      " 9   Total Available Quantity  540 non-null    int64         \n",
      "dtypes: datetime64[ns](1), float64(1), int64(5), object(3)\n",
      "memory usage: 42.3+ KB\n"
     ]
    }
   ],
   "source": [
    "product_inv_data.info()"
   ]
  },
  {
   "cell_type": "code",
   "execution_count": 138,
   "id": "e957917c",
   "metadata": {},
   "outputs": [
    {
     "data": {
      "text/plain": [
       "SKU\n",
       "3596656029931     0.0000000000\n",
       "8905550125512     0.0000000000\n",
       "8905550072724     0.0000000000\n",
       "3596655930900     0.0000000000\n",
       "8905550066662     0.0000000000\n",
       "3596655915099     0.0000000000\n",
       "3596656061894     0.0000000000\n",
       "8905550059855     0.0000000000\n",
       "8904328682370   591.6900000000\n",
       "Name: Ordered Product Sales, dtype: float64"
      ]
     },
     "execution_count": 138,
     "metadata": {},
     "output_type": "execute_result"
    }
   ],
   "source": [
    "product_inv_data.groupby('SKU')['Ordered Product Sales'].sum().sort_values().head(9)"
   ]
  },
  {
   "cell_type": "code",
   "execution_count": 136,
   "id": "7e5709d0",
   "metadata": {},
   "outputs": [
    {
     "data": {
      "text/plain": [
       "[3596656029931,\n",
       " 8905550125512,\n",
       " 8905550072724,\n",
       " 3596655930900,\n",
       " 8905550066662,\n",
       " 3596655915099,\n",
       " 3596656061894,\n",
       " 8905550059855]"
      ]
     },
     "execution_count": 136,
     "metadata": {},
     "output_type": "execute_result"
    }
   ],
   "source": [
    "min_sku = product_inv_data.groupby('SKU')['Ordered Product Sales'].sum().sort_values().head(8).index.tolist()\n",
    "min_sku"
   ]
  },
  {
   "cell_type": "code",
   "execution_count": 139,
   "id": "cf54eb62",
   "metadata": {},
   "outputs": [
    {
     "data": {
      "text/plain": [
       "SKU\n",
       "8905550072724    32\n",
       "3596655930900     6\n",
       "3596656061894     6\n",
       "8905550125512     6\n",
       "8905550059855     3\n",
       "3596655915099     2\n",
       "3596656029931     2\n",
       "8905550066662     2\n",
       "Name: Total Available Quantity, dtype: int64"
      ]
     },
     "execution_count": 139,
     "metadata": {},
     "output_type": "execute_result"
    }
   ],
   "source": [
    "product_inv_data[product_inv_data['SKU'].isin(min_sku)].groupby('SKU')['Total Available Quantity'].sum().sort_values(ascending =False)"
   ]
  },
  {
   "cell_type": "code",
   "execution_count": 134,
   "id": "f7697d63",
   "metadata": {},
   "outputs": [
    {
     "data": {
      "text/html": [
       "<div>\n",
       "<style scoped>\n",
       "    .dataframe tbody tr th:only-of-type {\n",
       "        vertical-align: middle;\n",
       "    }\n",
       "\n",
       "    .dataframe tbody tr th {\n",
       "        vertical-align: top;\n",
       "    }\n",
       "\n",
       "    .dataframe thead th {\n",
       "        text-align: right;\n",
       "    }\n",
       "</style>\n",
       "<table border=\"1\" class=\"dataframe\">\n",
       "  <thead>\n",
       "    <tr style=\"text-align: right;\">\n",
       "      <th></th>\n",
       "      <th>date</th>\n",
       "      <th>ASIN</th>\n",
       "      <th>Title</th>\n",
       "      <th>SKU</th>\n",
       "      <th>Sessions - Total</th>\n",
       "      <th>Page Views - Total</th>\n",
       "      <th>Units Ordered</th>\n",
       "      <th>Ordered Product Sales</th>\n",
       "      <th>Store Name</th>\n",
       "      <th>Total Available Quantity</th>\n",
       "    </tr>\n",
       "  </thead>\n",
       "  <tbody>\n",
       "    <tr>\n",
       "      <th>256</th>\n",
       "      <td>2024-04-24</td>\n",
       "      <td>B0CBQ49FLV</td>\n",
       "      <td>Celio Solid Brown Long Sleeves Denim Jacket</td>\n",
       "      <td>8905550072724</td>\n",
       "      <td>0</td>\n",
       "      <td>0</td>\n",
       "      <td>1</td>\n",
       "      <td>0.0000000000</td>\n",
       "      <td>Bhiwandi Warehouse</td>\n",
       "      <td>32</td>\n",
       "    </tr>\n",
       "  </tbody>\n",
       "</table>\n",
       "</div>"
      ],
      "text/plain": [
       "          date        ASIN                                        Title  \\\n",
       "256 2024-04-24  B0CBQ49FLV  Celio Solid Brown Long Sleeves Denim Jacket   \n",
       "\n",
       "               SKU  Sessions - Total  Page Views - Total  Units Ordered  \\\n",
       "256  8905550072724                 0                   0              1   \n",
       "\n",
       "     Ordered Product Sales          Store Name  Total Available Quantity  \n",
       "256           0.0000000000  Bhiwandi Warehouse                        32  "
      ]
     },
     "execution_count": 134,
     "metadata": {},
     "output_type": "execute_result"
    }
   ],
   "source": [
    "product_inv_data[product_inv_data['SKU']==8905550072724]   "
   ]
  },
  {
   "cell_type": "markdown",
   "id": "6ee20cd2",
   "metadata": {},
   "source": [
    "#### Show Week on Week trend of SKus against the Sales and Ad spends\""
   ]
  },
  {
   "cell_type": "code",
   "execution_count": 169,
   "id": "46dd5d59",
   "metadata": {},
   "outputs": [
    {
     "data": {
      "text/plain": [
       "date\n",
       "2024-03-03    61783179.0000000000\n",
       "2024-03-10   111109908.0000000000\n",
       "2024-03-17   118826455.0000000000\n",
       "2024-03-24   202097187.0000000000\n",
       "2024-03-31   241910636.0000000000\n",
       "2024-04-07   499148060.0000000000\n",
       "2024-04-14   207342149.0000000000\n",
       "2024-04-21     3551142.0000000000\n",
       "2024-04-28     3295818.0000000000\n",
       "2024-05-05     2423967.9600000000\n",
       "Freq: W-SUN, Name: Ordered Product Sales, dtype: float64"
      ]
     },
     "execution_count": 169,
     "metadata": {},
     "output_type": "execute_result"
    }
   ],
   "source": [
    "# Week on Week trends of SKUs against the Sales\n",
    "week_wise_sales = product_ads_data.resample('W-SUN',on='date')['Ordered Product Sales'].sum()\n",
    "week_wise_sales"
   ]
  },
  {
   "cell_type": "code",
   "execution_count": 168,
   "id": "7cd5ebb7",
   "metadata": {},
   "outputs": [
    {
     "data": {
      "text/plain": [
       "date\n",
       "2024-03-03    520711.4000000000\n",
       "2024-03-10    886564.6800000001\n",
       "2024-03-17    978426.7100000000\n",
       "2024-03-24   1594958.9600000000\n",
       "2024-03-31   2242484.6400000001\n",
       "2024-04-07   4461212.7599999998\n",
       "2024-04-14   1816881.9199999999\n",
       "2024-04-21    137827.0300000000\n",
       "2024-04-28    152725.6700000000\n",
       "2024-05-05    134387.2200000000\n",
       "Freq: W-SUN, Name: Spend, dtype: float64"
      ]
     },
     "execution_count": 168,
     "metadata": {},
     "output_type": "execute_result"
    }
   ],
   "source": [
    "# Week on Week trends of SKUs against the ads-spends\n",
    "week_wise_ads_spend = product_ads_data.resample('W-SUN', on='date')['Spend'].sum()\n",
    "week_wise_ads_spend"
   ]
  },
  {
   "cell_type": "code",
   "execution_count": 172,
   "id": "cb5eea49",
   "metadata": {},
   "outputs": [
    {
     "data": {
      "text/plain": [
       "SKU            date      \n",
       "3596655708967  2024-04-28      135218.0000000000\n",
       "3596655844085  2024-05-05       67455.0000000000\n",
       "3596655852301  2024-05-05      322410.2400000000\n",
       "3596655881523  2024-04-21       78705.0000000000\n",
       "3596655896046  2024-03-17       50141.0000000000\n",
       "               2024-03-24           0.0000000000\n",
       "               2024-03-31           0.0000000000\n",
       "               2024-04-07           0.0000000000\n",
       "               2024-04-14       50141.0000000000\n",
       "3596655963274  2024-05-05       41560.0000000000\n",
       "3596655976359  2024-05-05       71022.6000000000\n",
       "3596656012704  2024-03-17      121394.0000000000\n",
       "               2024-03-24           0.0000000000\n",
       "               2024-03-31           0.0000000000\n",
       "               2024-04-07           0.0000000000\n",
       "               2024-04-14       60697.0000000000\n",
       "               2024-04-21      121394.0000000000\n",
       "3596656012728  2024-03-17       73892.0000000000\n",
       "               2024-03-24           0.0000000000\n",
       "               2024-03-31           0.0000000000\n",
       "               2024-04-07           0.0000000000\n",
       "               2024-04-14       73892.0000000000\n",
       "3596656023953  2024-05-05       57840.1200000000\n",
       "3596656026640  2024-05-05       47980.0000000000\n",
       "3596656029832  2024-04-21      191940.0000000000\n",
       "3596656042978  2024-05-05       14388.0000000000\n",
       "3596656043531  2024-03-17       66317.0000000000\n",
       "               2024-03-24           0.0000000000\n",
       "               2024-03-31           0.0000000000\n",
       "               2024-04-07           0.0000000000\n",
       "               2024-04-14       66317.0000000000\n",
       "               2024-04-21       66317.0000000000\n",
       "3596656045450  2024-04-28       33572.0000000000\n",
       "3596656045467  2024-04-28       33572.0000000000\n",
       "               2024-05-05       33572.0000000000\n",
       "3596656045474  2024-04-21       34771.0000000000\n",
       "3596656063928  2024-04-21       68355.0000000000\n",
       "               2024-04-28       68355.0000000000\n",
       "3596660000000  2024-03-03     6770159.0000000000\n",
       "               2024-03-10    14684798.0000000000\n",
       "               2024-03-17    18679282.0000000000\n",
       "               2024-03-24    22698957.0000000000\n",
       "               2024-03-31    22207888.0000000000\n",
       "               2024-04-07    62405882.0000000000\n",
       "               2024-04-14    35448713.0000000000\n",
       "8904231587069  2024-04-21       58758.0000000000\n",
       "8904231587076  2024-04-28       51763.0000000000\n",
       "8904231587090  2024-04-28       30778.0000000000\n",
       "               2024-05-05       30778.0000000000\n",
       "8904328628170  2024-03-17      348351.0000000000\n",
       "               2024-03-24           0.0000000000\n",
       "               2024-03-31           0.0000000000\n",
       "               2024-04-07           0.0000000000\n",
       "               2024-04-14      348351.0000000000\n",
       "               2024-04-21      348351.0000000000\n",
       "               2024-04-28           0.0000000000\n",
       "               2024-05-05      116117.0000000000\n",
       "8904328628194  2024-04-28       99329.0000000000\n",
       "8904328639237  2024-03-17       26439.0000000000\n",
       "               2024-03-24           0.0000000000\n",
       "               2024-03-31           0.0000000000\n",
       "               2024-04-07           0.0000000000\n",
       "               2024-04-14       26439.0000000000\n",
       "               2024-04-21       26439.0000000000\n",
       "8904328646655  2024-03-17      124108.0000000000\n",
       "               2024-03-24           0.0000000000\n",
       "               2024-03-31           0.0000000000\n",
       "               2024-04-07           0.0000000000\n",
       "               2024-04-14           0.0000000000\n",
       "               2024-04-21      124108.0000000000\n",
       "               2024-04-28      137908.0000000000\n",
       "8904328659099  2024-04-28       67455.0000000000\n",
       "8904328660866  2024-05-05        1349.0000000000\n",
       "8905550000000  2024-03-03    55013020.0000000000\n",
       "               2024-03-10    96425110.0000000000\n",
       "               2024-03-17    98850124.0000000000\n",
       "               2024-03-24   179398230.0000000000\n",
       "               2024-03-31   219702748.0000000000\n",
       "               2024-04-07   436742178.0000000000\n",
       "               2024-04-14   170811162.0000000000\n",
       "8905550015233  2024-05-05      131904.0000000000\n",
       "8905550017022  2024-04-28      125910.0000000000\n",
       "8905550018104  2024-03-17       23976.0000000000\n",
       "               2024-03-24           0.0000000000\n",
       "               2024-03-31           0.0000000000\n",
       "               2024-04-07           0.0000000000\n",
       "               2024-04-14       23976.0000000000\n",
       "8905550020060  2024-04-28       91439.0000000000\n",
       "8905550026543  2024-04-21       36344.0000000000\n",
       "8905550026550  2024-04-28       18172.0000000000\n",
       "8905550027045  2024-05-05       31225.0000000000\n",
       "8905550027359  2024-03-17        3196.0000000000\n",
       "               2024-03-24           0.0000000000\n",
       "               2024-03-31           0.0000000000\n",
       "               2024-04-07           0.0000000000\n",
       "               2024-04-14        3196.0000000000\n",
       "8905550034289  2024-05-05       67455.0000000000\n",
       "8905550037501  2024-05-05        5994.0000000000\n",
       "8905550054683  2024-03-17       44955.0000000000\n",
       "               2024-03-24           0.0000000000\n",
       "               2024-03-31           0.0000000000\n",
       "               2024-04-07           0.0000000000\n",
       "               2024-04-14       44955.0000000000\n",
       "               2024-04-21       44955.0000000000\n",
       "8905550054904  2024-04-28       44955.0000000000\n",
       "8905550059855  2024-04-28           0.0000000000\n",
       "8905550063883  2024-03-17      189157.0000000000\n",
       "               2024-03-24           0.0000000000\n",
       "               2024-03-31           0.0000000000\n",
       "               2024-04-07           0.0000000000\n",
       "               2024-04-14      189157.0000000000\n",
       "               2024-04-21      378314.0000000000\n",
       "               2024-04-28      189157.0000000000\n",
       "               2024-05-05      189157.0000000000\n",
       "8905550063890  2024-04-21       96778.0000000000\n",
       "               2024-04-28      193556.0000000000\n",
       "8905550065191  2024-04-28      139860.0000000000\n",
       "               2024-05-05      139860.0000000000\n",
       "8905550065351  2024-04-21       48258.0000000000\n",
       "               2024-04-28      241290.0000000000\n",
       "               2024-05-05       48258.0000000000\n",
       "8905550065597  2024-03-17       29970.0000000000\n",
       "               2024-03-24           0.0000000000\n",
       "               2024-03-31           0.0000000000\n",
       "               2024-04-07           0.0000000000\n",
       "               2024-04-14           0.0000000000\n",
       "               2024-04-21       89910.0000000000\n",
       "               2024-04-28       29970.0000000000\n",
       "8905550066679  2024-04-21       50556.0000000000\n",
       "               2024-04-28      101112.0000000000\n",
       "               2024-05-05           0.0000000000\n",
       "8905550067287  2024-04-21      140906.0000000000\n",
       "               2024-04-28       70453.0000000000\n",
       "8905550068208  2024-04-28       18821.0000000000\n",
       "8905550070645  2024-05-05       72442.0000000000\n",
       "8905550071277  2024-04-21       85462.0000000000\n",
       "               2024-04-28           0.0000000000\n",
       "               2024-05-05      151924.0000000000\n",
       "8905550071420  2024-03-17       56205.0000000000\n",
       "               2024-03-24           0.0000000000\n",
       "               2024-03-31           0.0000000000\n",
       "               2024-04-07           0.0000000000\n",
       "               2024-04-14       56205.0000000000\n",
       "               2024-04-21       56205.0000000000\n",
       "               2024-04-28      224820.0000000000\n",
       "               2024-05-05      168615.0000000000\n",
       "8905550076647  2024-04-21       29980.0000000000\n",
       "               2024-04-28       29980.0000000000\n",
       "8905550084024  2024-05-05      258984.0000000000\n",
       "8905550084222  2024-04-21       65753.0000000000\n",
       "               2024-04-28      131506.0000000000\n",
       "8905550084567  2024-05-05        6245.0000000000\n",
       "8905550084574  2024-04-21           0.0000000000\n",
       "               2024-04-28       51209.0000000000\n",
       "               2024-05-05           0.0000000000\n",
       "8905550084628  2024-04-21           0.0000000000\n",
       "               2024-04-28       74940.0000000000\n",
       "               2024-05-05       49960.0000000000\n",
       "8905550125581  2024-04-21      436644.0000000000\n",
       "8905550125741  2024-03-17       39186.0000000000\n",
       "               2024-03-24           0.0000000000\n",
       "               2024-03-31           0.0000000000\n",
       "               2024-04-07           0.0000000000\n",
       "               2024-04-14       39186.0000000000\n",
       "8905550125765  2024-04-21      249111.0000000000\n",
       "               2024-04-28      249111.0000000000\n",
       "8905550126892  2024-04-21       31980.0000000000\n",
       "8905550126908  2024-04-21      127920.0000000000\n",
       "8905550126960  2024-04-21      175912.0000000000\n",
       "               2024-04-28      175912.0000000000\n",
       "8905550130929  2024-04-21       95166.0000000000\n",
       "               2024-04-28       95166.0000000000\n",
       "               2024-05-05       95166.0000000000\n",
       "8905550132435  2024-05-05       78372.0000000000\n",
       "8905550134484  2024-04-28       91124.0000000000\n",
       "8905550136259  2024-05-05       79170.0000000000\n",
       "8905550140980  2024-04-21       89530.0000000000\n",
       "               2024-04-28       44765.0000000000\n",
       "               2024-05-05       44765.0000000000\n",
       "8905550141024  2024-03-17       99762.0000000000\n",
       "               2024-03-24           0.0000000000\n",
       "               2024-03-31           0.0000000000\n",
       "               2024-04-07           0.0000000000\n",
       "               2024-04-14       99762.0000000000\n",
       "8905550141031  2024-04-21      102320.0000000000\n",
       "               2024-04-28      204640.0000000000\n",
       "Name: Ordered Product Sales, dtype: float64"
      ]
     },
     "execution_count": 172,
     "metadata": {},
     "output_type": "execute_result"
    }
   ],
   "source": [
    "pd.set_option('display.max_rows', None)\n",
    "product_ads_data.groupby('SKU').resample('W-SUN',on='date')['Ordered Product Sales'].sum()"
   ]
  },
  {
   "cell_type": "code",
   "execution_count": 173,
   "id": "fa27fd10",
   "metadata": {},
   "outputs": [
    {
     "data": {
      "text/plain": [
       "SKU            date      \n",
       "3596655708967  2024-04-28      4294.2700000000\n",
       "3596655844085  2024-05-05       298.2900000000\n",
       "3596655852301  2024-05-05        98.1600000000\n",
       "3596655881523  2024-04-21       720.4900000000\n",
       "3596655896046  2024-03-17       770.2200000000\n",
       "               2024-03-24         0.0000000000\n",
       "               2024-03-31         0.0000000000\n",
       "               2024-04-07         0.0000000000\n",
       "               2024-04-14       770.2200000000\n",
       "3596655963274  2024-05-05      3690.8600000000\n",
       "3596655976359  2024-05-05      2019.3400000000\n",
       "3596656012704  2024-03-17      2142.8200000000\n",
       "               2024-03-24         0.0000000000\n",
       "               2024-03-31         0.0000000000\n",
       "               2024-04-07         0.0000000000\n",
       "               2024-04-14      1071.4100000000\n",
       "               2024-04-21      2142.8200000000\n",
       "3596656012728  2024-03-17      5383.3800000000\n",
       "               2024-03-24         0.0000000000\n",
       "               2024-03-31         0.0000000000\n",
       "               2024-04-07         0.0000000000\n",
       "               2024-04-14      5383.3800000000\n",
       "3596656023953  2024-05-05      2076.3900000000\n",
       "3596656026640  2024-05-05       731.9100000000\n",
       "3596656029832  2024-04-21      1558.2600000000\n",
       "3596656042978  2024-05-05       253.5300000000\n",
       "3596656043531  2024-03-17       842.1700000000\n",
       "               2024-03-24         0.0000000000\n",
       "               2024-03-31         0.0000000000\n",
       "               2024-04-07         0.0000000000\n",
       "               2024-04-14       842.1700000000\n",
       "               2024-04-21       842.1700000000\n",
       "3596656045450  2024-04-28       852.9700000000\n",
       "3596656045467  2024-04-28       542.9700000000\n",
       "               2024-05-05       542.9700000000\n",
       "3596656045474  2024-04-21       440.5500000000\n",
       "3596656063928  2024-04-21       473.4000000000\n",
       "               2024-04-28       473.4000000000\n",
       "3596660000000  2024-03-03     51504.2000000000\n",
       "               2024-03-10    112372.8000000000\n",
       "               2024-03-17    145148.2000000000\n",
       "               2024-03-24    163877.0000000000\n",
       "               2024-03-31    154512.6000000000\n",
       "               2024-04-07    449491.2000000000\n",
       "               2024-04-14    215381.2000000000\n",
       "8904231587069  2024-04-21      1169.6600000000\n",
       "8904231587076  2024-04-28       898.4800000000\n",
       "8904231587090  2024-04-28      1295.6400000000\n",
       "               2024-05-05      1295.6400000000\n",
       "8904328628170  2024-03-17      2390.6400000000\n",
       "               2024-03-24         0.0000000000\n",
       "               2024-03-31         0.0000000000\n",
       "               2024-04-07         0.0000000000\n",
       "               2024-04-14      2390.6400000000\n",
       "               2024-04-21      2390.6400000000\n",
       "               2024-04-28         0.0000000000\n",
       "               2024-05-05      1195.3200000000\n",
       "8904328628194  2024-04-28      9517.4800000000\n",
       "8904328639237  2024-03-17       103.5400000000\n",
       "               2024-03-24         0.0000000000\n",
       "               2024-03-31         0.0000000000\n",
       "               2024-04-07         0.0000000000\n",
       "               2024-04-14       103.5400000000\n",
       "               2024-04-21       103.5400000000\n",
       "8904328646655  2024-03-17      3851.9100000000\n",
       "               2024-03-24         0.0000000000\n",
       "               2024-03-31         0.0000000000\n",
       "               2024-04-07         0.0000000000\n",
       "               2024-04-14         0.0000000000\n",
       "               2024-04-21      3851.9100000000\n",
       "               2024-04-28      3851.9100000000\n",
       "8904328659099  2024-04-28      1061.4300000000\n",
       "8904328660866  2024-05-05         0.0000000000\n",
       "8905550000000  2024-03-03    469207.2000000000\n",
       "               2024-03-10    774191.8800000000\n",
       "               2024-03-17    774191.8800000000\n",
       "               2024-03-24   1431081.9600000000\n",
       "               2024-03-31   2087972.0400000000\n",
       "               2024-04-07   4011721.5600000001\n",
       "               2024-04-14   1548383.7600000000\n",
       "8905550015233  2024-05-05      1460.1400000000\n",
       "8905550017022  2024-04-28       706.3400000000\n",
       "8905550018104  2024-03-17       759.0500000000\n",
       "               2024-03-24         0.0000000000\n",
       "               2024-03-31         0.0000000000\n",
       "               2024-04-07         0.0000000000\n",
       "               2024-04-14       759.0500000000\n",
       "8905550020060  2024-04-28       578.5400000000\n",
       "8905550026543  2024-04-21       165.4600000000\n",
       "8905550026550  2024-04-28       251.2500000000\n",
       "8905550027045  2024-05-05      1922.3000000000\n",
       "8905550027359  2024-03-17        40.6800000000\n",
       "               2024-03-24         0.0000000000\n",
       "               2024-03-31         0.0000000000\n",
       "               2024-04-07         0.0000000000\n",
       "               2024-04-14        40.6800000000\n",
       "8905550034289  2024-05-05      1026.8300000000\n",
       "8905550037501  2024-05-05      1056.3100000000\n",
       "8905550054683  2024-03-17      1945.2000000000\n",
       "               2024-03-24         0.0000000000\n",
       "               2024-03-31         0.0000000000\n",
       "               2024-04-07         0.0000000000\n",
       "               2024-04-14      1945.2000000000\n",
       "               2024-04-21      1945.2000000000\n",
       "8905550054904  2024-04-28      1072.2700000000\n",
       "8905550059855  2024-04-28      3103.2800000000\n",
       "8905550063883  2024-03-17     27906.3600000000\n",
       "               2024-03-24         0.0000000000\n",
       "               2024-03-31         0.0000000000\n",
       "               2024-04-07         0.0000000000\n",
       "               2024-04-14     27906.3600000000\n",
       "               2024-04-21     55812.7200000000\n",
       "               2024-04-28     27906.3600000000\n",
       "               2024-05-05     27906.3600000000\n",
       "8905550063890  2024-04-21      5757.7500000000\n",
       "               2024-04-28     11515.5000000000\n",
       "8905550065191  2024-04-28      2258.8600000000\n",
       "               2024-05-05      2258.8600000000\n",
       "8905550065351  2024-04-21      4681.5100000000\n",
       "               2024-04-28     18726.0400000000\n",
       "               2024-05-05      4681.5100000000\n",
       "8905550065597  2024-03-17      1046.3500000000\n",
       "               2024-03-24         0.0000000000\n",
       "               2024-03-31         0.0000000000\n",
       "               2024-04-07         0.0000000000\n",
       "               2024-04-14         0.0000000000\n",
       "               2024-04-21      2092.7000000000\n",
       "               2024-04-28      1046.3500000000\n",
       "8905550066679  2024-04-21      1065.4000000000\n",
       "               2024-04-28      2130.8000000000\n",
       "               2024-05-05      1065.4000000000\n",
       "8905550067287  2024-04-21      4799.9600000000\n",
       "               2024-04-28      2399.9800000000\n",
       "8905550068208  2024-04-28       569.8400000000\n",
       "8905550070645  2024-05-05       809.7300000000\n",
       "8905550071277  2024-04-21     10304.7200000000\n",
       "               2024-04-28         0.0000000000\n",
       "               2024-05-05     20609.4400000000\n",
       "8905550071420  2024-03-17      8978.1700000000\n",
       "               2024-03-24         0.0000000000\n",
       "               2024-03-31         0.0000000000\n",
       "               2024-04-07         0.0000000000\n",
       "               2024-04-14      8978.1700000000\n",
       "               2024-04-21      8978.1700000000\n",
       "               2024-04-28     26934.5100000000\n",
       "               2024-05-05      8978.1700000000\n",
       "8905550076647  2024-04-21       735.8000000000\n",
       "               2024-04-28       735.8000000000\n",
       "8905550084024  2024-05-05     41493.1200000000\n",
       "8905550084222  2024-04-21      5432.9500000000\n",
       "               2024-04-28     10865.9000000000\n",
       "8905550084567  2024-05-05        18.7500000000\n",
       "8905550084574  2024-04-21      2441.2000000000\n",
       "               2024-04-28      2441.2000000000\n",
       "               2024-05-05      2441.2000000000\n",
       "8905550084628  2024-04-21       648.6400000000\n",
       "               2024-04-28      1945.9200000000\n",
       "               2024-05-05      1297.2800000000\n",
       "8905550125581  2024-04-21      4093.7600000000\n",
       "8905550125741  2024-03-17       265.6500000000\n",
       "               2024-03-24         0.0000000000\n",
       "               2024-03-31         0.0000000000\n",
       "               2024-04-07         0.0000000000\n",
       "               2024-04-14       265.6500000000\n",
       "8905550125765  2024-04-21      1200.8400000000\n",
       "               2024-04-28      1200.8400000000\n",
       "8905550126892  2024-04-21       598.3400000000\n",
       "8905550126908  2024-04-21      1036.0400000000\n",
       "8905550126960  2024-04-21      6995.1800000000\n",
       "               2024-04-28      6995.1800000000\n",
       "8905550130929  2024-04-21       610.2100000000\n",
       "               2024-04-28       610.2100000000\n",
       "               2024-05-05       610.2100000000\n",
       "8905550132435  2024-05-05      1481.7400000000\n",
       "8905550134484  2024-04-28      2234.7900000000\n",
       "8905550136259  2024-05-05      1145.2200000000\n",
       "8905550140980  2024-04-21      3844.4800000000\n",
       "               2024-04-28      1922.2400000000\n",
       "               2024-05-05      1922.2400000000\n",
       "8905550141024  2024-03-17      2660.4900000000\n",
       "               2024-03-24         0.0000000000\n",
       "               2024-03-31         0.0000000000\n",
       "               2024-04-07         0.0000000000\n",
       "               2024-04-14      2660.4900000000\n",
       "8905550141031  2024-04-21       892.5600000000\n",
       "               2024-04-28      1785.1200000000\n",
       "Name: Spend, dtype: float64"
      ]
     },
     "execution_count": 173,
     "metadata": {},
     "output_type": "execute_result"
    }
   ],
   "source": [
    "product_ads_data.groupby('SKU').resample('W-SUN', on='date')['Spend'].sum()"
   ]
  },
  {
   "cell_type": "code",
   "execution_count": null,
   "id": "9fa25f3c",
   "metadata": {},
   "outputs": [],
   "source": []
  }
 ],
 "metadata": {
  "kernelspec": {
   "display_name": "Python 3 (ipykernel)",
   "language": "python",
   "name": "python3"
  },
  "language_info": {
   "codemirror_mode": {
    "name": "ipython",
    "version": 3
   },
   "file_extension": ".py",
   "mimetype": "text/x-python",
   "name": "python",
   "nbconvert_exporter": "python",
   "pygments_lexer": "ipython3",
   "version": "3.11.4"
  }
 },
 "nbformat": 4,
 "nbformat_minor": 5
}
