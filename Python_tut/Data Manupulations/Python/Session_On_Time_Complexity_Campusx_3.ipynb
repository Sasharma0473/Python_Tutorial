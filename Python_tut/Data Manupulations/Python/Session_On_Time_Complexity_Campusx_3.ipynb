{
 "cells": [
  {
   "cell_type": "markdown",
   "id": "6c2d5e91",
   "metadata": {},
   "source": [
    "#### Time And Space Complexity:\n",
    "\n",
    "    1). The Time Complexity is basically used to measure how much time does a program takes to exceute.\n",
    "    2). The Space Complexity is basically used to measure how much space our program takes in the memory.\n",
    "    \n",
    "#### Technique to Measure Time efficiency:\n",
    "\n",
    "    1). Measure Time To execute the Program\n",
    "    2). Counting Opeartion Involved\n",
    "    3). Abstract Notion of order of Growth"
   ]
  },
  {
   "cell_type": "markdown",
   "id": "fd9d0eeb",
   "metadata": {},
   "source": [
    "#### Measuring time"
   ]
  },
  {
   "cell_type": "code",
   "execution_count": null,
   "id": "792f02a3",
   "metadata": {
    "scrolled": true
   },
   "outputs": [],
   "source": [
    "import time\n",
    "\n",
    "start_time = time.time()\n",
    "\n",
    "for i in range(0,1000):\n",
    "    print(i)\n",
    "    \n",
    "end_time = time.time()\n",
    "\n",
    "print(end_time-start_time)"
   ]
  },
  {
   "cell_type": "markdown",
   "id": "25afdf79",
   "metadata": {},
   "source": [
    "##### Probelm with this approach \n",
    "\n",
    "    1). Different time for different algorithms\n",
    "    2). Time varies if implementation changes\n",
    "    3). Different machine differnt time\n",
    "    4). Does'nt work for extremly small inputs\n",
    "    5). Time varies for different input, but can'nt establish a relationship\n",
    "    6). Dependent on machine.\n",
    "    "
   ]
  },
  {
   "cell_type": "markdown",
   "id": "19db3c86",
   "metadata": {},
   "source": [
    "##### Counting Operations\n",
    "\n",
    "    1). Assume these steps take constant time:\n",
    "    \n",
    "    mathematical operation \n",
    "    comparison \n",
    "    assignment \n",
    "    accessing objects in memory objects\n",
    "    \n",
    "**** then count the number of operation exceuted as a function of size of input\n",
    "\n",
    "##### Advantage: \n",
    "    1). It will be machine independent\n",
    "    2). Different Machine for different time\n",
    "    3). Time varies of different inputs, but can'nt establish a mathematical relationship\n",
    "    \n",
    "##### Problems\n",
    "    1). Time Varies if implemenation change.\n",
    "    2). No Clear definition of which opeartion to count."
   ]
  },
  {
   "cell_type": "markdown",
   "id": "48330297",
   "metadata": {},
   "source": [
    "##### What do we want:\n",
    "\n",
    "    1). We want to Evaluate the Algorithms.\n",
    "    2). We want to Evaluate the Scalability.\n",
    "    3). We want to Evaluate in terms of input size. We want to establish the mathematical relationship between \n",
    "        time and the input size."
   ]
  },
  {
   "cell_type": "markdown",
   "id": "394649f7",
   "metadata": {},
   "source": [
    "##### Orders of Growth\n",
    "\n",
    "    Goals:\n",
    "    1). want to evaluate program's efficiency when input is very big \n",
    "    2). want to express the growth of programs run time as input size of growth\n",
    "    3). want to put upper bound on growth - as tight as possible\n",
    "    4). do'nt need to be precise order of not exact\n",
    "    5). we will look at the largest factor in run time(which section of the program will take the longest to run)\n",
    "    6). thus, generally we want tight upper bound on growth, as functions of size of input, in worst case."
   ]
  },
  {
   "cell_type": "markdown",
   "id": "7ebb2444",
   "metadata": {},
   "source": [
    "##### Exact Steps vs O():\n",
    "\n",
    "    def fact_iter(n):\n",
    "        ans = 1\n",
    "        while n>1:\n",
    "            ans = ans * n\n",
    "            n= n -1\n",
    "        return ans\n",
    "        \n",
    "***count of operation \n",
    "\n",
    "    ans =1 --> 1 operation\n",
    "    ans = ans * n --> 2 operation 1 is ans*n and other is storing value in ans\n",
    "    n= n -1 --> 2 operation 1 is n-1 and other is storing value in n\n",
    "    while n>1 --> 1 opeartion \n",
    "    so the mathematical relationship is 5n+1+1\n",
    "    \n",
    "***worst case asymptotic complexity\n",
    "\n",
    "    ignore addtive constant\n",
    "    ignore multiplicative constant\n",
    "    \n",
    "    So the time complexity is O(n) -- relationship is linear relation.\n",
    "    \n",
    "    "
   ]
  },
  {
   "cell_type": "markdown",
   "id": "6b1434d1",
   "metadata": {},
   "source": [
    "n^2 + 2n +1 --> n^2\n",
    "\n",
    "n^2 + 10000n + 3^1000  --> n^2\n",
    "\n",
    "log(n) + n + 4 --> n\n",
    "\n",
    "0.0001*n*log(n) + 300n --> n*log(n)\n",
    "\n",
    "2n^30 + 3^n --> 3^n"
   ]
  },
  {
   "cell_type": "markdown",
   "id": "aed4ee39",
   "metadata": {},
   "source": [
    "##### Types of Order of Growth\n",
    "\n",
    "    1). Constant \n",
    "    2). linear\n",
    "    3). quadratic\n",
    "    4). logarathmic\n",
    "    5). nlogn\n",
    "    6). exponential\n",
    "    \n",
    "    "
   ]
  },
  {
   "cell_type": "markdown",
   "id": "5440e0ba",
   "metadata": {},
   "source": [
    "#### Law of Addition\n",
    "    for i in range(n):\n",
    "        print(i)             --> O(n)\n",
    "    for i in range(n):\n",
    "        print(i)             --> O(n*n)\n",
    "        \n",
    "    order of growth --> O(n+n) --> O(2n) --> O(n)\n",
    "    "
   ]
  },
  {
   "cell_type": "code",
   "execution_count": 5,
   "id": "6667123d",
   "metadata": {},
   "outputs": [
    {
     "name": "stdout",
     "output_type": "stream",
     "text": [
      "Enter the Number234\n",
      "5\n",
      "45\n",
      "345\n",
      "345\n"
     ]
    }
   ],
   "source": [
    "number = int(input(\"Enter the Number\"))\n",
    "digit = '1234567890'\n",
    "result = ''\n",
    "while number != 0:\n",
    "    result = digit[number%10]+result\n",
    "    number = number //10\n",
    "    print(result)\n",
    "    \n",
    "print(result)\n",
    "\n",
    "# Complexity is log(n)"
   ]
  },
  {
   "cell_type": "code",
   "execution_count": null,
   "id": "cef2e780",
   "metadata": {},
   "outputs": [],
   "source": [
    "lst = [1,2,3,4,5]\n",
    "sum1 = 0\n",
    "for i in lst:\n",
    "    sum1 = sum1+i\n",
    "    \n",
    "product = 1\n",
    "for i in lst:\n",
    "    product = product * i\n",
    "print(f\"The Sum and The product is {sum1} and {product}\")\n",
    "\n",
    "# Complexity is O(n)"
   ]
  },
  {
   "cell_type": "code",
   "execution_count": null,
   "id": "c3b4f014",
   "metadata": {
    "scrolled": true
   },
   "outputs": [],
   "source": [
    "A = [1,2,3,4,5]\n",
    "B = [5,6,7,8,9]\n",
    "\n",
    "for i in A:\n",
    "    for j in B:\n",
    "        print(i,j)\n",
    "        \n",
    "# Time complexity is O(n^2)"
   ]
  },
  {
   "cell_type": "code",
   "execution_count": null,
   "id": "7321b27e",
   "metadata": {},
   "outputs": [],
   "source": [
    "A = [1,2,3,4]\n",
    "B =[5,6,7,8]\n",
    "for i in A:\n",
    "    for j in B:\n",
    "        for k in range(1000000):\n",
    "            print(i,j)\n",
    "            \n",
    "# Time complexity is O(n^2)"
   ]
  },
  {
   "cell_type": "code",
   "execution_count": 2,
   "id": "e42963e7",
   "metadata": {},
   "outputs": [
    {
     "name": "stdout",
     "output_type": "stream",
     "text": [
      "1\n",
      "2\n",
      "3\n",
      "4\n",
      "         80 function calls in 0.000 seconds\n",
      "\n",
      "   Ordered by: standard name\n",
      "\n",
      "   ncalls  tottime  percall  cumtime  percall filename:lineno(function)\n",
      "        1    0.000    0.000    0.000    0.000 1222064790.py:3(my_function)\n",
      "        1    0.000    0.000    0.000    0.000 <string>:1(<module>)\n",
      "        1    0.000    0.000    0.000    0.000 iostream.py:125(_event_pipe)\n",
      "        1    0.000    0.000    0.000    0.000 iostream.py:241(schedule)\n",
      "        8    0.000    0.000    0.000    0.000 iostream.py:503(_is_master_process)\n",
      "        8    0.000    0.000    0.000    0.000 iostream.py:530(_schedule_flush)\n",
      "        8    0.000    0.000    0.000    0.000 iostream.py:608(write)\n",
      "        1    0.000    0.000    0.000    0.000 socket.py:621(send)\n",
      "        1    0.000    0.000    0.000    0.000 threading.py:1118(_wait_for_tstate_lock)\n",
      "        1    0.000    0.000    0.000    0.000 threading.py:1185(is_alive)\n",
      "        1    0.000    0.000    0.000    0.000 threading.py:568(is_set)\n",
      "        1    0.000    0.000    0.000    0.000 {built-in method builtins.exec}\n",
      "        8    0.000    0.000    0.000    0.000 {built-in method builtins.isinstance}\n",
      "        8    0.000    0.000    0.000    0.000 {built-in method builtins.len}\n",
      "        4    0.000    0.000    0.000    0.000 {built-in method builtins.print}\n",
      "        8    0.000    0.000    0.000    0.000 {built-in method nt.getpid}\n",
      "        8    0.000    0.000    0.000    0.000 {method '__exit__' of '_thread.RLock' objects}\n",
      "        1    0.000    0.000    0.000    0.000 {method 'acquire' of '_thread.lock' objects}\n",
      "        1    0.000    0.000    0.000    0.000 {method 'append' of 'collections.deque' objects}\n",
      "        1    0.000    0.000    0.000    0.000 {method 'disable' of '_lsprof.Profiler' objects}\n",
      "        8    0.000    0.000    0.000    0.000 {method 'write' of '_io.StringIO' objects}\n",
      "\n",
      "\n"
     ]
    }
   ],
   "source": [
    "import cProfile\n",
    "\n",
    "def my_function(A):\n",
    "    # your code here\n",
    "    for i in A:\n",
    "        print(i)\n",
    "\n",
    "A = [1,2,3,4]\n",
    "cProfile.run('my_function(A)')"
   ]
  },
  {
   "cell_type": "code",
   "execution_count": null,
   "id": "b15751ed",
   "metadata": {},
   "outputs": [],
   "source": []
  },
  {
   "cell_type": "code",
   "execution_count": null,
   "id": "2f0b292f",
   "metadata": {},
   "outputs": [],
   "source": []
  },
  {
   "cell_type": "code",
   "execution_count": null,
   "id": "e673ffd5",
   "metadata": {},
   "outputs": [],
   "source": []
  },
  {
   "cell_type": "code",
   "execution_count": null,
   "id": "782de4ef",
   "metadata": {},
   "outputs": [],
   "source": []
  },
  {
   "cell_type": "code",
   "execution_count": null,
   "id": "4864495d",
   "metadata": {},
   "outputs": [],
   "source": []
  }
 ],
 "metadata": {
  "kernelspec": {
   "display_name": "Python 3 (ipykernel)",
   "language": "python",
   "name": "python3"
  },
  "language_info": {
   "codemirror_mode": {
    "name": "ipython",
    "version": 3
   },
   "file_extension": ".py",
   "mimetype": "text/x-python",
   "name": "python",
   "nbconvert_exporter": "python",
   "pygments_lexer": "ipython3",
   "version": "3.11.4"
  }
 },
 "nbformat": 4,
 "nbformat_minor": 5
}
