{
 "cells": [
  {
   "cell_type": "markdown",
   "id": "22206341",
   "metadata": {},
   "source": [
    "### Why Python\n",
    "    Design philosophy --> easy to understand so that even child can understand it. code is well intended, readable etc.\n",
    "    \n",
    "    Batteries included--> battery included means yaha pr phele se kuch functionality di jati h, \n",
    "                            We have build-in function for some specific work.\n",
    "    \n",
    "    General purpose programming lang --> procedural programming, oop, functional programming, desktop software, \n",
    "                                        Facebook like website, Data science code.\n",
    "                                        \n",
    "    libraies and community--> pandas, numpy, matplotlib, seaborn , plotly, dash, tenserflow, pytorch, flask, django, scipy\n",
    "                                "
   ]
  },
  {
   "cell_type": "markdown",
   "id": "b08b1edb",
   "metadata": {},
   "source": [
    "### Why python for Data Science\n",
    "    Easy to learn, proximity with math, community"
   ]
  },
  {
   "cell_type": "markdown",
   "id": "cf946efb",
   "metadata": {},
   "source": [
    "### 1. Python Output"
   ]
  },
  {
   "cell_type": "code",
   "execution_count": null,
   "id": "be113c88",
   "metadata": {},
   "outputs": [],
   "source": [
    "# Python is a case sensitive language\n",
    "print('Hello World')"
   ]
  },
  {
   "cell_type": "code",
   "execution_count": null,
   "id": "1e954aea",
   "metadata": {},
   "outputs": [],
   "source": [
    "print('Hello \\nWorld')"
   ]
  },
  {
   "cell_type": "code",
   "execution_count": null,
   "id": "ccb9d0b0",
   "metadata": {},
   "outputs": [],
   "source": [
    "print('APJ Abdul Kalam')"
   ]
  },
  {
   "cell_type": "code",
   "execution_count": null,
   "id": "71debdc6",
   "metadata": {},
   "outputs": [],
   "source": [
    "print(7)"
   ]
  },
  {
   "cell_type": "code",
   "execution_count": null,
   "id": "32cd6f06",
   "metadata": {},
   "outputs": [],
   "source": [
    "print(7.5)"
   ]
  },
  {
   "cell_type": "code",
   "execution_count": null,
   "id": "fa4867dc",
   "metadata": {},
   "outputs": [],
   "source": [
    "print(True)"
   ]
  },
  {
   "cell_type": "code",
   "execution_count": null,
   "id": "90883f5e",
   "metadata": {},
   "outputs": [],
   "source": [
    "print(type(True))"
   ]
  },
  {
   "cell_type": "code",
   "execution_count": null,
   "id": "bf09c3df",
   "metadata": {},
   "outputs": [],
   "source": [
    "print('Hello',1,2.5,True)"
   ]
  },
  {
   "cell_type": "code",
   "execution_count": null,
   "id": "171433fa",
   "metadata": {},
   "outputs": [],
   "source": [
    "print('Hello',1,2.5,True, sep ='/')"
   ]
  },
  {
   "cell_type": "code",
   "execution_count": null,
   "id": "6e927e76",
   "metadata": {},
   "outputs": [],
   "source": [
    "print('hello')\n",
    "print('world')"
   ]
  },
  {
   "cell_type": "code",
   "execution_count": null,
   "id": "e25f2115",
   "metadata": {},
   "outputs": [],
   "source": [
    "print('hello', end ='-')\n",
    "print('world')"
   ]
  },
  {
   "cell_type": "markdown",
   "id": "950cef36",
   "metadata": {},
   "source": [
    "### 2. Data Types"
   ]
  },
  {
   "cell_type": "code",
   "execution_count": null,
   "id": "b6c8ab2d",
   "metadata": {},
   "outputs": [],
   "source": [
    "print(type(8))"
   ]
  },
  {
   "cell_type": "code",
   "execution_count": null,
   "id": "cdbb8d92",
   "metadata": {},
   "outputs": [],
   "source": [
    "print(type(8.8))"
   ]
  },
  {
   "cell_type": "code",
   "execution_count": null,
   "id": "01ce36d2",
   "metadata": {},
   "outputs": [],
   "source": [
    "print(type(True))"
   ]
  },
  {
   "cell_type": "code",
   "execution_count": null,
   "id": "65fe33f6",
   "metadata": {},
   "outputs": [],
   "source": [
    "print(type('Hello World'))"
   ]
  },
  {
   "cell_type": "code",
   "execution_count": 4,
   "id": "b93d20c5",
   "metadata": {},
   "outputs": [
    {
     "name": "stdout",
     "output_type": "stream",
     "text": [
      "<class 'complex'>\n"
     ]
    }
   ],
   "source": [
    "print(type(5+6j))"
   ]
  },
  {
   "cell_type": "code",
   "execution_count": null,
   "id": "32437d03",
   "metadata": {},
   "outputs": [],
   "source": [
    "print([1,2,3,4])\n",
    "print(type([1,2,3,4]))"
   ]
  },
  {
   "cell_type": "code",
   "execution_count": null,
   "id": "f8c1d57b",
   "metadata": {},
   "outputs": [],
   "source": [
    "print((1,2,3,4,5))\n",
    "print(type((1,2,3,4,5)))"
   ]
  },
  {
   "cell_type": "code",
   "execution_count": 2,
   "id": "014796e4",
   "metadata": {},
   "outputs": [
    {
     "name": "stdout",
     "output_type": "stream",
     "text": [
      "{1, 2, 3, 4}\n",
      "<class 'set'>\n"
     ]
    }
   ],
   "source": [
    "print({1,2,3,4})\n",
    "print(type({1,2,3,4}))"
   ]
  },
  {
   "cell_type": "code",
   "execution_count": 1,
   "id": "7b01d3fe",
   "metadata": {},
   "outputs": [
    {
     "name": "stdout",
     "output_type": "stream",
     "text": [
      "{'Nitish': 70, 'Sahil': 80, 'Arpit': 60}\n"
     ]
    }
   ],
   "source": [
    "print({'Nitish':70,'Sahil':80,'Arpit':60})"
   ]
  },
  {
   "cell_type": "code",
   "execution_count": 3,
   "id": "37441f97",
   "metadata": {},
   "outputs": [
    {
     "name": "stdout",
     "output_type": "stream",
     "text": [
      "<class 'dict'>\n"
     ]
    }
   ],
   "source": [
    "print(type({'Nitish':70,'Sahil':80,'Arpit':60}))"
   ]
  },
  {
   "cell_type": "markdown",
   "id": "d6c940ac",
   "metadata": {},
   "source": [
    "### Variable\n",
    "    Variable are basically containers where we store any information.\n",
    "    \n",
    "##### 1). Static and Dynamic Typing -- \n",
    "    In dynamic typing we do'nt tell the interpreter about the type of variable we are going to declare. \n",
    "    We will simply declare the variable. But in static typing we need to declare the variable and tell \n",
    "    the compiler that we are going to declare this variable. dynamic typing -- python, static typing -- C, C++, java etc\n",
    "                                       \n",
    "    2). Static and Dynamic Binding\n",
    "    3). Stylish Declaration Technique"
   ]
  },
  {
   "cell_type": "code",
   "execution_count": null,
   "id": "a781c122",
   "metadata": {},
   "outputs": [],
   "source": [
    "name ='Sahil'\n",
    "print(name)"
   ]
  },
  {
   "cell_type": "code",
   "execution_count": null,
   "id": "6ee739cc",
   "metadata": {},
   "outputs": [],
   "source": [
    "a= 6\n",
    "b= 7\n",
    "print(a+b)"
   ]
  },
  {
   "cell_type": "code",
   "execution_count": null,
   "id": "032e1208",
   "metadata": {},
   "outputs": [],
   "source": [
    "# Dynamic Typing\n",
    "a= 5\n",
    "# static Typing\n",
    "int a = 5"
   ]
  },
  {
   "cell_type": "code",
   "execution_count": null,
   "id": "43b116ec",
   "metadata": {},
   "outputs": [],
   "source": [
    "# Dynamic Binding -- Independent of Datatypes. like a here store a=5 and a ='Sahil', python m ek variable ka koi fix \n",
    "                    # datatype nhi hota h, it will change according to the demands of user.\n",
    "    \n",
    "# Static Binding -- dependent of Datatypes. \n",
    "                   # Like we can'nt use the same variable of different values means different datatypes. in C,C++,Java.\n",
    "\n",
    "a= 5     # Integer \n",
    "print(a)\n",
    "a= 'Sahil'   # String\n",
    "print(a)"
   ]
  },
  {
   "cell_type": "code",
   "execution_count": null,
   "id": "33c56132",
   "metadata": {},
   "outputs": [],
   "source": [
    "a,b,c = 5,6,7\n",
    "print(a,b,c)"
   ]
  },
  {
   "cell_type": "code",
   "execution_count": null,
   "id": "21e041c8",
   "metadata": {},
   "outputs": [],
   "source": [
    "a=b=c=5\n",
    "print(a,b,c)"
   ]
  },
  {
   "cell_type": "markdown",
   "id": "8dfad588",
   "metadata": {},
   "source": [
    "### Keyword and Identifiers\n",
    "    Keywords are the reserve words which is used by the python.\n",
    "    \n",
    "##### Identifiers:\n",
    "    variables, class, functions, \n",
    "    You can not start with digits\n",
    "    We can use _ special charater not any other.\n",
    "    Identifiers can not be keywords"
   ]
  },
  {
   "cell_type": "code",
   "execution_count": 2,
   "id": "f7cba48f",
   "metadata": {},
   "outputs": [
    {
     "name": "stdout",
     "output_type": "stream",
     "text": [
      "123\n"
     ]
    },
    {
     "data": {
      "text/plain": [
       "'123'"
      ]
     },
     "execution_count": 2,
     "metadata": {},
     "output_type": "execute_result"
    }
   ],
   "source": [
    "# Static Software and Dynamic Software:\n",
    "# In static software we do'nt interact with the software we just go and follow that content which is there in software.\n",
    "# eg. Calender, clock, Blogs, college website these are static software. \n",
    "\n",
    "# In dynamic softare we can interact with the sofware which is interacting with user.\n",
    "# youtube , google, ola , zomato etc\n",
    "\n",
    "input()"
   ]
  },
  {
   "cell_type": "code",
   "execution_count": 3,
   "id": "8aacc9c5",
   "metadata": {},
   "outputs": [
    {
     "name": "stdout",
     "output_type": "stream",
     "text": [
      "Enter Emailsahilsharma.infy16@gmail.com\n"
     ]
    },
    {
     "data": {
      "text/plain": [
       "'sahilsharma.infy16@gmail.com'"
      ]
     },
     "execution_count": 3,
     "metadata": {},
     "output_type": "execute_result"
    }
   ],
   "source": [
    "input(\"Enter Email\")     # here input is keywords"
   ]
  },
  {
   "cell_type": "code",
   "execution_count": null,
   "id": "349bc870",
   "metadata": {},
   "outputs": [],
   "source": [
    "fnum = input(\"enter first number\")\n",
    "snum = input(\"enter second number\")\n",
    "print(type(fnum),type(snum))\n",
    "result = fnum+snum\n",
    "print(type(result))\n",
    "print(result)\n",
    "\n",
    "# here input, print, type, these are the keywords.\n",
    "# fnum, snum result are the identifiers."
   ]
  },
  {
   "cell_type": "markdown",
   "id": "7e6f19e3",
   "metadata": {},
   "source": [
    "### Type Conversion\n",
    "    \n",
    "    Change one datatype to another datatype that we called it as a type comversion.\n",
    "\n",
    "    1). Implicit Type Conversion/Type Conversion:- can be done automatically by the interpreter. Int to float\n",
    "    \n",
    "    2). Explicit Type Conversion/Type Casting:- jab programmer request karta h type change karne ke liye tab usko \n",
    "                                    explicit type conversion bolte h.  float to int\n",
    "    \n",
    "    Compiler and Interpreter\n",
    "    \n",
    "    Feature\t                                             Compiler\t                              Interpreter\n",
    "    Translation\t                         Translates the whole code at once.\t          Translates and executes line by line.\n",
    "    Execution                            Speed Faster after compilation.\t            Slower due to runtime translation.\n",
    "    Error Handling\t                      Reports all errors after compilation.\t   Stops execution at the first error.\n",
    "    Output\t                                 Produces an executable file.\t        Does not create an executable file.\n",
    "    Use Cases\t                           Used in statically-typed languages.\t       Used in dynamically-typed languages.\n",
    "    \n",
    "    \n",
    "#### Is typecasting and type conversion is same?\n",
    "    \n",
    "        No, typecasting and type conversion are not the same, though they are closely related concepts in programming. \n",
    "        Here's a detailed comparison:\n",
    "\n",
    "##### 1. Typecasting\n",
    "        Definition: It is the explicit conversion of one data type into another by the programmer.\n",
    "        Control: Controlled by the programmer (manual intervention is required).\n",
    "        Syntax: Often uses casting operators or specific functions provided by the programming language.\n",
    "        Risk: There is a higher risk of data loss or errors if the programmer doesn't account for differences \n",
    "        between the types.\n",
    "        \n",
    "##### 2. TypeConversion\n",
    "        Definition: It is the automatic or implicit conversion of one data type into another performed \n",
    "        by the compiler or runtime environment.\n",
    "        Control: Done automatically without the need for explicit instructions from the programmer.\n",
    "        Risk: Generally safe, as the compiler ensures there is no data loss or invalid operation."
   ]
  },
  {
   "cell_type": "code",
   "execution_count": 4,
   "id": "15f70b0b",
   "metadata": {},
   "outputs": [
    {
     "name": "stdout",
     "output_type": "stream",
     "text": [
      "10.6\n",
      "<class 'int'> <class 'float'>\n"
     ]
    }
   ],
   "source": [
    "# Implicit type conversion -- int to float\n",
    "print(5+5.6)\n",
    "print(type(5),type(5.6))"
   ]
  },
  {
   "cell_type": "code",
   "execution_count": 7,
   "id": "8911d1c7",
   "metadata": {},
   "outputs": [
    {
     "name": "stdout",
     "output_type": "stream",
     "text": [
      "8\n",
      "<class 'int'>\n"
     ]
    },
    {
     "ename": "TypeError",
     "evalue": "unsupported operand type(s) for +: 'int' and 'str'",
     "output_type": "error",
     "traceback": [
      "\u001b[1;31m---------------------------------------------------------------------------\u001b[0m",
      "\u001b[1;31mTypeError\u001b[0m                                 Traceback (most recent call last)",
      "Cell \u001b[1;32mIn[7], line 4\u001b[0m\n\u001b[0;32m      2\u001b[0m \u001b[38;5;28mprint\u001b[39m(\u001b[38;5;241m4\u001b[39m\u001b[38;5;241m+\u001b[39m\u001b[38;5;28mint\u001b[39m(\u001b[38;5;124m'\u001b[39m\u001b[38;5;124m4\u001b[39m\u001b[38;5;124m'\u001b[39m))\n\u001b[0;32m      3\u001b[0m \u001b[38;5;28mprint\u001b[39m(\u001b[38;5;28mtype\u001b[39m(\u001b[38;5;28mint\u001b[39m(\u001b[38;5;241m4\u001b[39m)))\n\u001b[1;32m----> 4\u001b[0m \u001b[38;5;28mprint\u001b[39m(\u001b[38;5;241;43m4\u001b[39;49m\u001b[38;5;241;43m+\u001b[39;49m\u001b[38;5;124;43m'\u001b[39;49m\u001b[38;5;124;43m4\u001b[39;49m\u001b[38;5;124;43m'\u001b[39;49m)\n",
      "\u001b[1;31mTypeError\u001b[0m: unsupported operand type(s) for +: 'int' and 'str'"
     ]
    }
   ],
   "source": [
    "# Explicit type conversion\n",
    "print(4+int('4'))\n",
    "print(type(int(4)))\n",
    "print(4+'4')"
   ]
  },
  {
   "cell_type": "code",
   "execution_count": null,
   "id": "cc52e70e",
   "metadata": {},
   "outputs": [],
   "source": [
    "# Explicit Type conversion  float to int\n",
    "print(int('4'))\n",
    "print(type('4'))"
   ]
  },
  {
   "cell_type": "code",
   "execution_count": null,
   "id": "ed7493b0",
   "metadata": {},
   "outputs": [],
   "source": [
    "fnum = input(\"enter first number\")\n",
    "snum = input(\"enter second number\")\n",
    "print(type(fnum),type(snum))\n",
    "result = int(fnum)+int(snum)\n",
    "print(type(result))\n",
    "print(result)"
   ]
  },
  {
   "cell_type": "markdown",
   "id": "d3591056",
   "metadata": {},
   "source": [
    "### Literals\n",
    "    variable ke andar jis bhi value ko store kiya jata h usko literal bol dete h."
   ]
  },
  {
   "cell_type": "code",
   "execution_count": 8,
   "id": "c61204c8",
   "metadata": {},
   "outputs": [
    {
     "name": "stdout",
     "output_type": "stream",
     "text": [
      "10 100 200 300\n",
      "10.5 150.0 0.0015\n",
      "3.14j 3.14 0.0\n"
     ]
    }
   ],
   "source": [
    "a = 0b1010       #Binary Literals\n",
    "b = 100          #Decimal Literal \n",
    "c = 0o310        #Octal Literal\n",
    "d = 0x12c        #Hexadecimal Literal\n",
    "\n",
    "#Float Literal\n",
    "float_1 = 10.5\n",
    "float_2 = 1.5e2 # 1.5 * 10^2\n",
    "float_3 = 1.5e-3 # 1.5 * 10^-3\n",
    "\n",
    "#Complex Literal \n",
    "x = 3.14j\n",
    "\n",
    "print(a, b, c, d)\n",
    "print(float_1, float_2,float_3)\n",
    "print(x, x.imag, x.real)"
   ]
  },
  {
   "cell_type": "code",
   "execution_count": 9,
   "id": "a368e001",
   "metadata": {},
   "outputs": [
    {
     "name": "stdout",
     "output_type": "stream",
     "text": [
      "This is Python\n",
      "This is Python\n",
      "C\n",
      "This is a multiline string with more than one line code.\n",
      "😀😆🤣\n",
      "raw \\n string\n"
     ]
    }
   ],
   "source": [
    "string = 'This is Python'\n",
    "strings = \"This is Python\"\n",
    "char = \"C\"\n",
    "multiline_str = \"\"\"This is a multiline string with more than one line code.\"\"\"\n",
    "unicode = u\"\\U0001f600\\U0001F606\\U0001F923\"\n",
    "raw_str = r\"raw \\n string\"\n",
    "\n",
    "print(string)\n",
    "print(strings)\n",
    "print(char)\n",
    "print(multiline_str)\n",
    "print(unicode)\n",
    "print(raw_str)"
   ]
  },
  {
   "cell_type": "code",
   "execution_count": 10,
   "id": "62972b47",
   "metadata": {},
   "outputs": [
    {
     "name": "stdout",
     "output_type": "stream",
     "text": [
      "a: 5\n",
      "b: 10\n"
     ]
    }
   ],
   "source": [
    "a = True + 4\n",
    "b = False + 10\n",
    "\n",
    "print(\"a:\", a)\n",
    "print(\"b:\", b)"
   ]
  },
  {
   "cell_type": "code",
   "execution_count": 11,
   "id": "80101292",
   "metadata": {},
   "outputs": [
    {
     "name": "stdout",
     "output_type": "stream",
     "text": [
      "Program exe\n",
      "None\n",
      "5 6\n"
     ]
    }
   ],
   "source": [
    "k = None\n",
    "a = 5\n",
    "b = 6\n",
    "print('Program exe')\n",
    "print(k)\n",
    "print(a,b)"
   ]
  },
  {
   "cell_type": "markdown",
   "id": "501100e2",
   "metadata": {},
   "source": [
    "### Assignment - I"
   ]
  },
  {
   "cell_type": "code",
   "execution_count": null,
   "id": "649873d0",
   "metadata": {},
   "outputs": [],
   "source": [
    "print(\"Data\", \"Science\", \"Mentorship\", \"Program\", sep='-',end='-started-')\n",
    "print(\"By\",\"CampusX\", sep = '-')"
   ]
  },
  {
   "cell_type": "code",
   "execution_count": null,
   "id": "a7bdce46",
   "metadata": {},
   "outputs": [],
   "source": [
    "# Q2:- Write a program that will convert celsius value to fahrenheit.\n",
    "\n",
    "c = float(input(\"Enter the degree celsius value\"))\n",
    "f = ((c*(9/5))+32)\n",
    "print(f\"The degree fahrenheit is {f}F\")"
   ]
  },
  {
   "cell_type": "code",
   "execution_count": null,
   "id": "5a286dc8",
   "metadata": {},
   "outputs": [],
   "source": [
    "# Take 2 numbers as input from the user.Write a program to swap the numbers without using any special python syntax.\n",
    "a = int(input(\"Enter the First Number\"))\n",
    "b = int(input(\"Enter the Second Number\"))\n",
    "temp = a\n",
    "a=b\n",
    "b= temp\n",
    "print(f\"The first number is:{a} and second number is:{b} after swapping\")"
   ]
  },
  {
   "cell_type": "code",
   "execution_count": null,
   "id": "230d9d7d",
   "metadata": {},
   "outputs": [],
   "source": [
    "# Write a program to find the euclidean distance between two coordinates.\n",
    "# Take both the coordinates from the user as input.\n",
    "x1,y1 = int(input(\"Enter the x1 coordinates\")),int(input(\"Enter the y1 coordinates\"))\n",
    "x2,y2 = int(input(\"Enter the x2 coordinates\")),int(input(\"Enter the y2 coordinates\"))\n",
    "dist = (((x2-x1)**2) + ((y2-y1)**2))**0.5\n",
    "print(f\"The Euclidean distance is {dist}\")"
   ]
  },
  {
   "cell_type": "code",
   "execution_count": null,
   "id": "86ffdcda",
   "metadata": {},
   "outputs": [],
   "source": [
    "# Write a program to find the simple interest when the value of principle,rate of interest and time period \n",
    "# is provided by the user.\n",
    "P, rate, time_period = int(input(\"Enter the Pricipal\")),float(input(\"Enter the rate\")),int(input(\"Enter the time period\"))\n",
    "SI = (P*rate*time_period)/100\n",
    "print(f\"The Simple Interest is {SI}\")"
   ]
  },
  {
   "cell_type": "code",
   "execution_count": null,
   "id": "d6c70da1",
   "metadata": {},
   "outputs": [],
   "source": [
    "# Write a program that will tell the number of dogs and chicken are there when the user will provide the value \n",
    "# of total heads and legs.\n",
    "heads, legs = int(input(\"Enter the Total Numbers of Heads\")), int(input(\"Enter the Total Numbers of legs\"))\n"
   ]
  },
  {
   "cell_type": "code",
   "execution_count": null,
   "id": "9d084191",
   "metadata": {},
   "outputs": [],
   "source": [
    "# Write a program to find the sum of squares of first n natural numbers where n will be provided by the user.\n",
    "n = int(input(\"Enter the value of N to find the sum of square of first N natural Numbers\"))\n",
    "sum_of_square = (n*(n+1)*((2*n)+1))/6\n",
    "print(f\"The sum of square of First N Natural Number is: {sum_of_square}\")"
   ]
  },
  {
   "cell_type": "code",
   "execution_count": null,
   "id": "1747565a",
   "metadata": {},
   "outputs": [],
   "source": [
    "# Q8:- Given the first 2 terms of an Arithmetic Series.Find the Nth term of the series. \n",
    "# Assume all inputs are provided by the user. an = a+(n-1)d\n",
    "nth = int(input(\"Enter the nth term which you want to find\"))\n",
    "first_term , second_term = int(input(\"Enter the first term of the series\")),int(input(\"Enter the second term of the series\"))\n",
    "d = second_term - first_term\n",
    "an = first_term +((n-1)*d)\n",
    "print(f\"The Nth term is {an}\")"
   ]
  },
  {
   "cell_type": "code",
   "execution_count": null,
   "id": "cc451dd0",
   "metadata": {},
   "outputs": [],
   "source": [
    "# Q9:- Given 2 fractions, find the sum of those 2 fractions.Take the numerator and denominator values of \n",
    "# the fractions from the user.\n",
    "n1,d1= int(input(\"Enter the first numerator\")), int(input(\"Enter the first denominator\"))\n",
    "n2,d2 = int(input(\"Enter the second numerator\")), int(input(\"Enter the second denominator\"))\n",
    "sum_of_nr_dr = (n1*d2) + (n2*d1)\n",
    "print(f\"The sum of nr and dr is {sum_of_nr_dr}\")"
   ]
  },
  {
   "cell_type": "code",
   "execution_count": null,
   "id": "5ba26a3d",
   "metadata": {},
   "outputs": [],
   "source": [
    "# Q10:- Given the height, width and breadth of a cubodial milk tank, you have to find out how many glasses of milk \n",
    "# can be obtained? Assume all the inputs are provided by the user.\n",
    "\"\"\"\n",
    "Input:\n",
    "Dimensions of the milk tank\n",
    "H = 20cm, L = 20cm, B = 20cm\n",
    "\n",
    "Dimensions of the glass\n",
    "h = 3cm, r = 1cm\n",
    "\"\"\"\n",
    "l,b,h = int(input(\"Enter the length\")), int(input(\"Enter the breath\")), int(input(\"Enter the height\"))\n",
    "r,h = int(input(\"Enter the value of radius\")), int(input(\"Enter the value of height\"))\n",
    "\n",
    "vol_of_tank = l*b*h\n",
    "vol_of_glass = 3.14*r*r*h\n",
    "\n",
    "number_glass_milk = (vol_of_tank/vol_of_glass)\n",
    "print(f\"The number of glass of milk is {number_glass_milk}\")"
   ]
  },
  {
   "cell_type": "markdown",
   "id": "c32d7faa",
   "metadata": {},
   "source": [
    "### Operator + if-else + Loops"
   ]
  },
  {
   "cell_type": "markdown",
   "id": "b391e4a4",
   "metadata": {},
   "source": [
    "### Operators in Python\n",
    "- Arithmetic Operators\n",
    "- Relational Operators\n",
    "- Logical Operators\n",
    "- Bitwise Operators\n",
    "- Assignment Operators\n",
    "- Membership Operators"
   ]
  },
  {
   "cell_type": "code",
   "execution_count": 12,
   "id": "d7fd5d3d",
   "metadata": {},
   "outputs": [
    {
     "name": "stdout",
     "output_type": "stream",
     "text": [
      "-1\n",
      "13\n",
      "2\n",
      "10\n",
      "2.5\n",
      "1\n",
      "25\n"
     ]
    }
   ],
   "source": [
    "# Arithmetic Operators\n",
    "print(5-6)\n",
    "print(6+7)\n",
    "print(5//2)\n",
    "print(5*2)\n",
    "print(5/2)\n",
    "print(5%2)\n",
    "print(5**2)"
   ]
  },
  {
   "cell_type": "code",
   "execution_count": 13,
   "id": "340c68c4",
   "metadata": {},
   "outputs": [
    {
     "name": "stdout",
     "output_type": "stream",
     "text": [
      "False\n",
      "True\n",
      "True\n",
      "True\n",
      "False\n"
     ]
    }
   ],
   "source": [
    "# Relational Operators\n",
    "print(4>5)\n",
    "print(4<5)\n",
    "print(4>=4)\n",
    "print(4==4)\n",
    "print(4!=4)"
   ]
  },
  {
   "cell_type": "code",
   "execution_count": 14,
   "id": "3f0542d2",
   "metadata": {},
   "outputs": [
    {
     "name": "stdout",
     "output_type": "stream",
     "text": [
      "1\n",
      "0\n",
      "True\n"
     ]
    }
   ],
   "source": [
    "# Logical Operators -- and , or, not\n",
    "print(1 and 1)\n",
    "print(0 or 0)\n",
    "print(not 0)"
   ]
  },
  {
   "cell_type": "code",
   "execution_count": 15,
   "id": "1b6d0534",
   "metadata": {},
   "outputs": [
    {
     "name": "stdout",
     "output_type": "stream",
     "text": [
      "2\n",
      "3\n",
      "1\n",
      "-4\n",
      "1\n",
      "16\n"
     ]
    }
   ],
   "source": [
    "# Bitwise Operators: These are the special operator which operate on the binary values.\n",
    "# bitwise or, and, xor, not, right shift and left shift.\n",
    "\n",
    "# bitwise and\n",
    "print(2&3)\n",
    "\n",
    "# bitwise or\n",
    "print(2|3)\n",
    "\n",
    "# bitwise xor\n",
    "print(2^3)\n",
    "\n",
    "# bitwise not\n",
    "print(~3)\n",
    "\n",
    "# bitwise left shift\n",
    "print(4>>2)\n",
    "\n",
    "# bitwise right shift\n",
    "print(4<<2)"
   ]
  },
  {
   "cell_type": "code",
   "execution_count": null,
   "id": "d34305b3",
   "metadata": {},
   "outputs": [],
   "source": [
    "# Assignment Operator\n",
    "a=2\n",
    "a = a+2\n",
    "print(a)"
   ]
  },
  {
   "cell_type": "code",
   "execution_count": null,
   "id": "49917da6",
   "metadata": {},
   "outputs": [],
   "source": [
    "# membership operator\n",
    "# in/not in\n",
    "print('D' in 'Delhi')\n",
    "print('i' not in 'Delhi')\n",
    "print(1 in [1,2,3,4,5])"
   ]
  },
  {
   "cell_type": "code",
   "execution_count": 18,
   "id": "2ef9e6eb",
   "metadata": {},
   "outputs": [
    {
     "name": "stdout",
     "output_type": "stream",
     "text": [
      "Enter the 3 digit Number123\n",
      "The remainder is  3\n",
      "The number after division  12\n",
      "2\n",
      "1\n",
      "1\n",
      "6\n"
     ]
    }
   ],
   "source": [
    "# Find the sum of 3 digit number entered by the user\n",
    "number = int(input(\"Enter the 3 digit Number\"))\n",
    "\n",
    "a = number%10\n",
    "print(\"The remainder is \", a)\n",
    "number = number//10\n",
    "print(\"The number after division \", number)\n",
    "\n",
    "b = number%10\n",
    "print(b)\n",
    "number = number//10\n",
    "print(number)\n",
    "\n",
    "c = number%10\n",
    "print(c)\n",
    "\n",
    "print(a+b+c)"
   ]
  },
  {
   "cell_type": "markdown",
   "id": "fdfdfa44",
   "metadata": {},
   "source": [
    "### If-else statement in Python"
   ]
  },
  {
   "cell_type": "code",
   "execution_count": null,
   "id": "3db7bc66",
   "metadata": {},
   "outputs": [],
   "source": [
    "# Login program and Indentation\n",
    "# Email - sahilsharma.infy16@gmail.com and password = 1234\n",
    "\n",
    "email = input(\"Enter the email\")\n",
    "password = input(\"Enter the Password\")\n",
    "\n",
    "if email == 'sahilsharma.infy16@gmail.com' and password == '1234':\n",
    "    print(\"Welcome\")\n",
    "\n",
    "elif email == 'sahilsharma.infy16@gmail.com' and password != '1234':\n",
    "    print(\"The password is Incorrect\")\n",
    "    password = input(\"Enter the Password again\")\n",
    "    if password == '1234':\n",
    "        print(\"welcome\")\n",
    "    else:\n",
    "        print(\"Beta tum se naa ho payega\")\n",
    "\n",
    "elif email != 'sahilsharma.infy16@gmail.com' and password == '1234':\n",
    "    print(\"Worng Email\")\n",
    "    email = input(\"Enter the Email again\")\n",
    "    if email == 'sahilsharma.infy16@gmail.com':\n",
    "        print('Welcome')\n",
    "    else:\n",
    "        print(\"Beta tum se naa ho payega\")\n",
    "\n",
    "else:\n",
    "    print(\"Not Correct\")"
   ]
  },
  {
   "cell_type": "markdown",
   "id": "c495803a",
   "metadata": {},
   "source": [
    "### Module in Python\n",
    "\n",
    "    Module is basically a python file in which some functions written in that. and we import that file so that \n",
    "    we will be able to use those functions directly in our program.\n",
    "    \n",
    "    math , keyword, random, datetime"
   ]
  },
  {
   "cell_type": "code",
   "execution_count": 19,
   "id": "3b62423b",
   "metadata": {},
   "outputs": [
    {
     "data": {
      "text/plain": [
       "120"
      ]
     },
     "execution_count": 19,
     "metadata": {},
     "output_type": "execute_result"
    }
   ],
   "source": [
    "import math\n",
    "math.factorial(5)"
   ]
  },
  {
   "cell_type": "code",
   "execution_count": null,
   "id": "f812d3a6",
   "metadata": {},
   "outputs": [],
   "source": [
    "math.sqrt(196)"
   ]
  },
  {
   "cell_type": "code",
   "execution_count": 20,
   "id": "0e0d4335",
   "metadata": {},
   "outputs": [
    {
     "name": "stdout",
     "output_type": "stream",
     "text": [
      "['False', 'None', 'True', 'and', 'as', 'assert', 'async', 'await', 'break', 'class', 'continue', 'def', 'del', 'elif', 'else', 'except', 'finally', 'for', 'from', 'global', 'if', 'import', 'in', 'is', 'lambda', 'nonlocal', 'not', 'or', 'pass', 'raise', 'return', 'try', 'while', 'with', 'yield']\n"
     ]
    }
   ],
   "source": [
    "import keyword\n",
    "print(keyword.kwlist)  #kw --> keyword list"
   ]
  },
  {
   "cell_type": "code",
   "execution_count": 21,
   "id": "02dc2ef8",
   "metadata": {},
   "outputs": [
    {
     "name": "stdout",
     "output_type": "stream",
     "text": [
      "45\n"
     ]
    }
   ],
   "source": [
    "# Random\n",
    "import random\n",
    "print(random.randint(1,100))"
   ]
  },
  {
   "cell_type": "code",
   "execution_count": 22,
   "id": "4eb8a177",
   "metadata": {},
   "outputs": [
    {
     "name": "stdout",
     "output_type": "stream",
     "text": [
      "2025-01-10 16:22:26.939354\n"
     ]
    }
   ],
   "source": [
    "# datetime\n",
    "import datetime\n",
    "print(datetime.datetime.now())"
   ]
  },
  {
   "cell_type": "code",
   "execution_count": 23,
   "id": "96be20fd",
   "metadata": {
    "scrolled": true
   },
   "outputs": [
    {
     "name": "stdout",
     "output_type": "stream",
     "text": [
      "\n",
      "Please wait a moment while I gather a list of all available modules...\n",
      "\n",
      "test_sqlite3: testing with version '2.6.0', sqlite_version '3.42.0'\n"
     ]
    },
    {
     "name": "stderr",
     "output_type": "stream",
     "text": [
      "C:\\Users\\sasha\\AppData\\Local\\Programs\\Python\\Python311\\Lib\\pkgutil.py:92: UserWarning: \n",
      "The dash_core_components package is deprecated. Please replace\n",
      "`import dash_core_components as dcc` with `from dash import dcc`\n",
      "  __import__(info.name)\n",
      "C:\\Users\\sasha\\AppData\\Local\\Programs\\Python\\Python311\\Lib\\pkgutil.py:92: UserWarning: \n",
      "The dash_html_components package is deprecated. Please replace\n",
      "`import dash_html_components as html` with `from dash import html`\n",
      "  __import__(info.name)\n",
      "C:\\Users\\sasha\\AppData\\Local\\Programs\\Python\\Python311\\Lib\\pkgutil.py:92: UserWarning: \n",
      "The dash_table package is deprecated. Please replace\n",
      "`import dash_table` with `from dash import dash_table`\n",
      "\n",
      "Also, if you're using any of the table format helpers (e.g. Group), replace \n",
      "`from dash_table.Format import Group` with \n",
      "`from dash.dash_table.Format import Group`\n",
      "  __import__(info.name)\n",
      "C:\\Users\\sasha\\AppData\\Local\\Programs\\Python\\Python311\\Lib\\site-packages\\nltk\\twitter\\__init__.py:20: UserWarning: The twython library has not been installed. Some functionality from the twitter package will not be available.\n",
      "  warnings.warn(\n",
      "C:\\Users\\sasha\\AppData\\Local\\Programs\\Python\\Python311\\Lib\\pkgutil.py:92: UserWarning: The numpy.array_api submodule is still experimental. See NEP 47.\n",
      "  __import__(info.name)\n",
      "C:\\Users\\sasha\\AppData\\Local\\Programs\\Python\\Python311\\Lib\\site-packages\\_distutils_hack\\__init__.py:33: UserWarning: Setuptools is replacing distutils.\n",
      "  warnings.warn(\"Setuptools is replacing distutils.\")\n"
     ]
    },
    {
     "name": "stdout",
     "output_type": "stream",
     "text": [
      "IPython             cmd                 modulefinder        sre_parse\n",
      "PIL                 code                mpl_toolkits        ssl\n",
      "__future__          codecs              msilib              sspi\n",
      "__hello__           codeop              msvcrt              sspicon\n",
      "__phello__          collections         multiprocessing     stack_data\n",
      "_abc                colorama            mysql               start_pythonwin\n",
      "_aix_support        colorsys            mysqlx              stat\n",
      "_argon2_cffi_bindings comm                nbclassic           statistics\n",
      "_ast                commctrl            nbclient            statsmodels\n",
      "_asyncio            compileall          nbconvert           streamlit\n",
      "_bisect             concurrent          nbformat            string\n",
      "_blake2             configparser        nest_asyncio        stringprep\n",
      "_bootsubprocess     contextlib          netbios             struct\n",
      "_bz2                contextvars         netrc               subprocess\n",
      "_cffi_backend       contourpy           nlpcloud            sunau\n",
      "_codecs             copy                nltk                symtable\n",
      "_codecs_cn          copyreg             nntplib             sys\n",
      "_codecs_hk          crypt               notebook            sysconfig\n",
      "_codecs_iso2022     csv                 notebook_shim       tabnanny\n",
      "_codecs_jp          ctypes              nt                  tarfile\n",
      "_codecs_kr          curses              ntpath              telnetlib\n",
      "_codecs_tw          cycler              ntsecuritycon       tempfile\n",
      "_collections        dash                nturl2path          tenacity\n",
      "_collections_abc    dash_core_components numbers             terminado\n",
      "_compat_pickle      dash_html_components numpy               test\n",
      "_compression        dash_table          oauthlib            textblob\n",
      "_contextvars        dataclasses         odbc                textwrap\n",
      "_csv                datetime            opcode              this\n",
      "_ctypes             dateutil            openpyxl            threading\n",
      "_ctypes_test        dbi                 operator            threadpoolctl\n",
      "_datetime           dbm                 optparse            time\n",
      "_decimal            dde                 os                  timeit\n",
      "_distutils_hack     debugpy             outcome             timer\n",
      "_elementtree        decimal             overrides           tinycss2\n",
      "_functools          decorator           packaging           tkinter\n",
      "_hashlib            defusedxml          pandas              tlz\n",
      "_heapq              difflib             pandocfilters       token\n",
      "_imp                dis                 parso               tokenize\n",
      "_io                 distutils           pathlib             toml\n",
      "_json               doctest             patsy               tomllib\n",
      "_locale             email               pdb                 toolz\n",
      "_lsprof             encodings           perfmon             tornado\n",
      "_lzma               ensurepip           pickle              tqdm\n",
      "_markupbase         enum                pickleshare         trace\n",
      "_md5                errno               pickletools         traceback\n",
      "_msi                et_xmlfile          pip                 tracemalloc\n",
      "_multibytecodec     executing           pipes               traitlets\n",
      "_multiprocessing    fastjsonschema      pkg_resources       trio\n",
      "_opcode             faulthandler        pkgutil             trio_websocket\n",
      "_operator           filecmp             platform            tty\n",
      "_osx_support        fileinput           platformdirs        turtle\n",
      "_overlapped         findspark           plistlib            turtledemo\n",
      "_pickle             flask               plotly              types\n",
      "_plotly_future_     fnmatch             poplib              typing\n",
      "_plotly_utils       fontTools           posixpath           typing_extensions\n",
      "_py_abc             fqdn                pprint              tzdata\n",
      "_pydecimal          fractions           profile             unicodedata\n",
      "_pyio               ftplib              prometheus_client   unittest\n",
      "_pyrsistent_version functools           prompt_toolkit      uri_template\n",
      "_queue              gc                  proto               uritemplate\n",
      "_random             genericpath         pstats              urllib\n",
      "_sha1               getopt              psutil              urllib3\n",
      "_sha256             getpass             pty                 uu\n",
      "_sha3               gettext             pure_eval           uuid\n",
      "_sha512             git                 pvectorc            venv\n",
      "_signal             gitdb               py_compile          warnings\n",
      "_sitebuiltins       glob                pyarrow             watchdog\n",
      "_socket             google_auth_httplib2 pyasn1              wave\n",
      "_sqlite3            google_auth_oauthlib pyasn1_modules      wcwidth\n",
      "_sre                googleapiclient     pyclbr              weakref\n",
      "_ssl                graphlib            pycparser           webbrowser\n",
      "_stat               greenlet            pydeck              webcolors\n",
      "_statistics         gzip                pydoc               webencodings\n",
      "_string             h11                 pydoc_data          websocket\n",
      "_strptime           hashlib             pyexpat             werkzeug\n",
      "_struct             heapq               pygments            widgetsnbextension\n",
      "_symtable           hmac                pylab               win2kras\n",
      "_testbuffer         html                pylabs              win32api\n",
      "_testcapi           http                pymysql             win32clipboard\n",
      "_testconsole        httpcore            pyodbc              win32com\n",
      "_testimportmultiple httplib2            pyparsing           win32con\n",
      "_testinternalcapi   httpx               pyrsistent          win32console\n",
      "_testmultiphase     idlelib             pythoncom           win32cred\n",
      "_thread             idna                pythonjsonlogger    win32crypt\n",
      "_threading_local    imaplib             pytz                win32cryptcon\n",
      "_tkinter            imghdr              pywin               win32event\n",
      "_tokenize           imp                 pywin32_bootstrap   win32evtlog\n",
      "_tracemalloc        importlib           pywin32_testutil    win32evtlogutil\n",
      "_typing             importlib_metadata  pywintypes          win32file\n",
      "_uuid               inspect             qtconsole           win32gui\n",
      "_warnings           io                  qtpy                win32gui_struct\n",
      "_weakref            ipaddress           queue               win32help\n",
      "_weakrefset         ipykernel           quopri              win32inet\n",
      "_win32sysloader     ipykernel_launcher  random              win32inetcon\n",
      "_winapi             ipython_genutils    rasutil             win32job\n",
      "_winxptheme         ipywidgets          re                  win32lz\n",
      "_xxsubinterpreters  isapi               referencing         win32net\n",
      "_yaml               isoduration         regcheck            win32netcon\n",
      "_zoneinfo           itertools           regex               win32pdh\n",
      "abc                 itsdangerous        regutil             win32pdhquery\n",
      "adodbapi            jedi                reprlib             win32pdhutil\n",
      "afxres              jinja2              requests            win32pipe\n",
      "aifc                joblib              requests_oauthlib   win32print\n",
      "altair              json                retrying            win32process\n",
      "antigravity         json5               rfc3339_validator   win32profile\n",
      "anyio               jsonpointer         rfc3986_validator   win32ras\n",
      "apiclient           jsonschema          rich                win32rcparser\n",
      "argon2              jsonschema_specifications rlcompleter         win32security\n",
      "argparse            jupyter             rpds                win32service\n",
      "array               jupyter_client      rsa                 win32serviceutil\n",
      "arrow               jupyter_console     runpy               win32timezone\n",
      "ast                 jupyter_core        sched               win32trace\n",
      "asttokens           jupyter_events      scipy               win32traceutil\n",
      "async_lru           jupyter_lsp         seaborn             win32transaction\n",
      "asynchat            jupyter_server      secrets             win32ts\n",
      "asyncio             jupyter_server_terminals select              win32ui\n",
      "asyncore            jupyterlab          selectors           win32uiole\n",
      "atexit              jupyterlab_plotly   selenium            win32verstamp\n",
      "attr                jupyterlab_pygments send2trash          win32wnet\n",
      "attrs               jupyterlab_server   servicemanager      winerror\n",
      "audioop             jupyterlab_widgets  setuptools          winioctlcon\n",
      "babel               keyword             shelve              winnt\n",
      "backcall            kiwisolver          shlex               winperf\n",
      "base64              lib2to3             shutil              winpty\n",
      "bdb                 linecache           signal              winreg\n",
      "binascii            locale              site                winsound\n",
      "bisect              logging             six                 winxpgui\n",
      "bleach              lxml                sklearn             winxptheme\n",
      "blinker             lzma                smmap               wordcloud\n",
      "bs4                 mailbox             smtpd               wsgiref\n",
      "builtins            mailcap             smtplib             wsproto\n",
      "bz2                 markdown_it         sndhdr              xdrlib\n",
      "cProfile            markupsafe          sniffio             xml\n",
      "cachetools          marshal             socket              xmlrpc\n",
      "calendar            math                socketserver        xxsubtype\n",
      "certifi             matplotlib          socks               yaml\n",
      "cffi                matplotlib_inline   sockshandler        zipapp\n",
      "cgi                 mdurl               sortedcontainers    zipfile\n",
      "cgitb               mimetypes           soupsieve           zipimport\n",
      "charset_normalizer  mistune             sqlalchemy          zipp\n",
      "chunk               mmap                sqlite3             zlib\n",
      "click               mmapfile            sre_compile         zmq\n",
      "cmath               mmsystem            sre_constants       zoneinfo\n",
      "\n",
      "Enter any module name to get more help.  Or, type \"modules spam\" to search\n",
      "for modules whose name or summary contain the string \"spam\".\n",
      "\n"
     ]
    }
   ],
   "source": [
    "help('modules')"
   ]
  },
  {
   "cell_type": "markdown",
   "id": "07bdff76",
   "metadata": {},
   "source": [
    "### Loops In Python \n",
    "\n",
    "- Need for loops\n",
    "- while loops\n",
    "- for loops"
   ]
  },
  {
   "cell_type": "code",
   "execution_count": 24,
   "id": "1b08834d",
   "metadata": {},
   "outputs": [
    {
     "name": "stdout",
     "output_type": "stream",
     "text": [
      "enter the number10\n",
      "10*1 = 10\n",
      "10*2 = 20\n",
      "10*3 = 30\n",
      "10*4 = 40\n",
      "10*5 = 50\n",
      "10*6 = 60\n",
      "10*7 = 70\n",
      "10*8 = 80\n",
      "10*9 = 90\n",
      "10*10 = 100\n"
     ]
    }
   ],
   "source": [
    "number = int(input(\"enter the number\"))\n",
    "i = 1\n",
    "\n",
    "while i<11:\n",
    "    print(f\"{number}*{i} = {number*i}\")\n",
    "    i=i+1"
   ]
  },
  {
   "cell_type": "code",
   "execution_count": 25,
   "id": "439bcdbe",
   "metadata": {},
   "outputs": [
    {
     "name": "stdout",
     "output_type": "stream",
     "text": [
      "1\n",
      "2\n",
      "limit crossed\n"
     ]
    }
   ],
   "source": [
    "x = 1\n",
    "while x<3:\n",
    "    print(x)\n",
    "    x= x+1\n",
    "else:\n",
    "    print(\"limit crossed\")"
   ]
  },
  {
   "cell_type": "code",
   "execution_count": 26,
   "id": "fd383901",
   "metadata": {},
   "outputs": [
    {
     "name": "stdout",
     "output_type": "stream",
     "text": [
      "Guess the Number23\n",
      "Wrong Guess! Guess Higher\n",
      "Guess again50\n",
      "Wrong Guess! Guess Higher\n",
      "Guess again70\n",
      "Wrong Guess! Guess Lower\n",
      "Guess again60\n",
      "Wrong Guess! Guess Lower\n",
      "Guess again55\n",
      "Wrong Guess! Guess Higher\n",
      "Guess again57\n",
      "Correct Guess\n",
      "Number of Attempts is 6\n"
     ]
    }
   ],
   "source": [
    "# Guessing number \n",
    "import random\n",
    "jackpot = random.randint(1,100)\n",
    "guess = int(input(\"Guess the Number\"))\n",
    "count = 1\n",
    "\n",
    "while guess != jackpot:\n",
    "    if guess<jackpot:\n",
    "        print(\"Wrong Guess! Guess Higher\")\n",
    "    else:\n",
    "        print(\"Wrong Guess! Guess Lower\")\n",
    "    guess = int(input(\"Guess again\"))\n",
    "    count =count+1\n",
    "else:\n",
    "    print(\"Correct Guess\")\n",
    "    print(f\"Number of Attempts is {count}\")"
   ]
  },
  {
   "cell_type": "markdown",
   "id": "82bfca4b",
   "metadata": {},
   "source": [
    "#### For Loops"
   ]
  },
  {
   "cell_type": "code",
   "execution_count": null,
   "id": "d444a6dd",
   "metadata": {},
   "outputs": [],
   "source": [
    "for i in range(1,11):\n",
    "    print(i)"
   ]
  },
  {
   "cell_type": "code",
   "execution_count": null,
   "id": "aa27e763",
   "metadata": {},
   "outputs": [],
   "source": [
    "for i in range(1,11,2):\n",
    "    print(i)"
   ]
  },
  {
   "cell_type": "code",
   "execution_count": null,
   "id": "3d58956e",
   "metadata": {},
   "outputs": [],
   "source": [
    "for i in range(10,1,-2):\n",
    "    print(i)"
   ]
  },
  {
   "cell_type": "code",
   "execution_count": null,
   "id": "28ab7ff8",
   "metadata": {},
   "outputs": [],
   "source": [
    "for i in 'delhi':\n",
    "    print(i)"
   ]
  },
  {
   "cell_type": "code",
   "execution_count": null,
   "id": "fe60a087",
   "metadata": {},
   "outputs": [],
   "source": [
    "for i in [1,2,3,4,5]:\n",
    "    print(i)"
   ]
  },
  {
   "cell_type": "code",
   "execution_count": null,
   "id": "58a1ebbe",
   "metadata": {},
   "outputs": [],
   "source": [
    "for i in (1,2,3,4,5):\n",
    "    print(i)"
   ]
  },
  {
   "cell_type": "code",
   "execution_count": null,
   "id": "4c1d6623",
   "metadata": {},
   "outputs": [],
   "source": [
    "# Program - The current population of a town is 10000. The population of the town is increasing at the \n",
    "# rate of 10% per year. \n",
    "# You have to write a program to find out the population at the end of each of the last 10 years.\n",
    "\n",
    "current_pop = 10000\n",
    "for i in range(10,0,-1):\n",
    "    print(f\"The year is {i} and the population is {current_pop}\")\n",
    "    current_pop = round(current_pop/1.1,2)"
   ]
  },
  {
   "cell_type": "code",
   "execution_count": null,
   "id": "6074f0a8",
   "metadata": {},
   "outputs": [],
   "source": [
    "# sequence sum \n",
    "# 1/1! + 2/2! + 3/3!+....\n",
    "\n",
    "seq_number = int(input(\"Enter the integer number\"))\n",
    "\n",
    "result = 0\n",
    "fact = 1\n",
    "for i in range(1,seq_number+1):\n",
    "    fact = fact*i\n",
    "    result = result + i/fact\n",
    "    \n",
    "print(result)"
   ]
  },
  {
   "cell_type": "markdown",
   "id": "d68ce966",
   "metadata": {},
   "source": [
    "### Nested Loops"
   ]
  },
  {
   "cell_type": "code",
   "execution_count": 27,
   "id": "6e2372ab",
   "metadata": {
    "scrolled": true
   },
   "outputs": [
    {
     "name": "stdout",
     "output_type": "stream",
     "text": [
      "1 1\n",
      "1 2\n",
      "1 3\n",
      "1 4\n",
      "2 1\n",
      "2 2\n",
      "2 3\n",
      "2 4\n",
      "3 1\n",
      "3 2\n",
      "3 3\n",
      "3 4\n",
      "4 1\n",
      "4 2\n",
      "4 3\n",
      "4 4\n"
     ]
    }
   ],
   "source": [
    "for i in range(1,5):\n",
    "    for j in range(1,5):\n",
    "        print(i,j)"
   ]
  },
  {
   "cell_type": "code",
   "execution_count": 28,
   "id": "f066251d",
   "metadata": {},
   "outputs": [
    {
     "name": "stdout",
     "output_type": "stream",
     "text": [
      "Enter the Number of Rows5\n",
      "*\n",
      "**\n",
      "***\n",
      "****\n",
      "*****\n"
     ]
    }
   ],
   "source": [
    "rows = int(input(\"Enter the Number of Rows\"))\n",
    "for i in range(1,rows+1):\n",
    "    for j in range(1,i+1):\n",
    "        print(\"*\",end='')\n",
    "    print()"
   ]
  },
  {
   "cell_type": "code",
   "execution_count": 29,
   "id": "d25ee2c7",
   "metadata": {},
   "outputs": [
    {
     "name": "stdout",
     "output_type": "stream",
     "text": [
      "Enter the Number of rows7\n",
      "1\n",
      "121\n",
      "12321\n",
      "1234321\n",
      "123454321\n",
      "12345654321\n",
      "1234567654321\n"
     ]
    }
   ],
   "source": [
    "rows = int(input(\"Enter the Number of rows\"))\n",
    "for i in range(1,rows+1):\n",
    "    for j in range(1,i+1):\n",
    "        print(j,end='')\n",
    "    for k in range(i-1,0,-1):\n",
    "        print(k,end='')\n",
    "    print()"
   ]
  },
  {
   "cell_type": "code",
   "execution_count": 30,
   "id": "fab89ef2",
   "metadata": {},
   "outputs": [
    {
     "name": "stdout",
     "output_type": "stream",
     "text": [
      "Enter the Number of rows6\n",
      "1\n",
      "122\n",
      "12333\n",
      "1234444\n",
      "123455555\n",
      "12345666666\n"
     ]
    }
   ],
   "source": [
    "rows = int(input(\"Enter the Number of rows\"))\n",
    "for i in range(1,rows+1):\n",
    "    for j in range(1,i+1):\n",
    "        print(j,end='')\n",
    "    for k in range(i-1,0,-1):\n",
    "        print(j,end='')\n",
    "    print()"
   ]
  },
  {
   "cell_type": "markdown",
   "id": "db7c706c",
   "metadata": {},
   "source": [
    "### Loops control statement\n",
    "    Break \n",
    "    continue\n",
    "    pass"
   ]
  },
  {
   "cell_type": "code",
   "execution_count": null,
   "id": "95dceb73",
   "metadata": {},
   "outputs": [],
   "source": [
    "for i in range(1,10):\n",
    "    if i == 5:\n",
    "        break\n",
    "    print(i)"
   ]
  },
  {
   "cell_type": "code",
   "execution_count": 31,
   "id": "3a822f93",
   "metadata": {
    "scrolled": true
   },
   "outputs": [
    {
     "name": "stdout",
     "output_type": "stream",
     "text": [
      "Enter the Lower Range1\n",
      "Enter the Upper Range100\n",
      "1\n",
      "2\n",
      "3\n",
      "5\n",
      "7\n",
      "11\n",
      "13\n",
      "17\n",
      "19\n",
      "23\n",
      "29\n",
      "31\n",
      "37\n",
      "41\n",
      "43\n",
      "47\n",
      "53\n",
      "59\n",
      "61\n",
      "67\n",
      "71\n",
      "73\n",
      "79\n",
      "83\n",
      "89\n",
      "97\n"
     ]
    }
   ],
   "source": [
    "lower = int(input(\"Enter the Lower Range\"))\n",
    "upper = int(input(\"Enter the Upper Range\"))\n",
    "\n",
    "for i in range(lower,upper+1):\n",
    "    for j in range(2,i):\n",
    "        if i%j == 0:\n",
    "            break\n",
    "    else:\n",
    "        print(i)"
   ]
  },
  {
   "cell_type": "code",
   "execution_count": 32,
   "id": "44d072bf",
   "metadata": {},
   "outputs": [
    {
     "name": "stdout",
     "output_type": "stream",
     "text": [
      "1\n",
      "2\n",
      "3\n",
      "4\n",
      "6\n",
      "7\n",
      "8\n",
      "9\n"
     ]
    }
   ],
   "source": [
    "for i in range(1,10):\n",
    "    if i == 5:\n",
    "        continue\n",
    "    else:\n",
    "        print(i)"
   ]
  },
  {
   "cell_type": "code",
   "execution_count": 33,
   "id": "eebd7eb1",
   "metadata": {},
   "outputs": [],
   "source": [
    "for i in range(1,10):\n",
    "    pass"
   ]
  },
  {
   "cell_type": "markdown",
   "id": "c1fdf2d7",
   "metadata": {},
   "source": [
    "### Assignment - II"
   ]
  },
  {
   "cell_type": "code",
   "execution_count": null,
   "id": "d8ddff67",
   "metadata": {},
   "outputs": [],
   "source": [
    "\"\"\"\n",
    "Problem 1: Write a program that will give you in hand monthly salary after deduction on CTC - HRA(10%), DA(5%), PF(3%) \n",
    "            and taxes deduction as below:\n",
    "            \n",
    "Salary(Lakhs) : Tax(%)\n",
    "Below 5 : 0%\n",
    "5-10 : 10%\n",
    "10-20 : 20%\n",
    "aboove 20 : 30%\n",
    "\"\"\"\n",
    "\n",
    "ctc = int(input(\"Enter the salary of the employee\"))\n",
    "\n",
    "if ctc<5:\n",
    "    salary = ctc - ((0.1*ctc)+(0.05*ctc)+(0.03*ctc))\n",
    "    print(f\"The salary of employee after deduction of hra,da and pf is {salary}\")\n",
    "    \n",
    "elif ctc>5 and ctc<10:\n",
    "    salary = ctc - ((0.1*ctc)+(0.05*ctc)+(0.03*ctc)+(0.1*ctc))\n",
    "    print(f\"The salary of employee after deduction of hra,da and pf is {salary}\")\n",
    "    \n",
    "elif ctc>10 and ctc<20:\n",
    "    salary = ctc - ((0.1*ctc)+(0.05*ctc)+(0.03*ctc)+(0.2*ctc))\n",
    "    print(f\"The salary of employee after deduction of hra,da and pf is {salary}\")\n",
    "    \n",
    "else:\n",
    "    salary = ctc - ((0.1*ctc)+(0.05*ctc)+(0.03*ctc)+(0.3*ctc))\n",
    "    print(f\"The salary of employee after deduction of hra,da and pf is {salary}\")"
   ]
  },
  {
   "cell_type": "code",
   "execution_count": null,
   "id": "cc645b21",
   "metadata": {},
   "outputs": [],
   "source": [
    "# Write a program that take a user input of three angles and will find out whether it can form a triangle or not.\n",
    "tri1 = int(input(\"Enter the first side of triangle\"))\n",
    "tri2 = int(input(\"Enter the second side of triangle\"))\n",
    "tri3 = int(input(\"Enter the third side of triangle\"))\n",
    "\n",
    "if tri1+tri2>tri3 and tri2+tri3>tri1 and tri1+tri3>tri2:\n",
    "    print(\"Yes! Its form a triangle\")\n",
    "else:\n",
    "    print(\"No! Its does'nt form a triangle\")"
   ]
  },
  {
   "cell_type": "code",
   "execution_count": null,
   "id": "cbc3c5a3",
   "metadata": {},
   "outputs": [],
   "source": [
    "# Problem 3: Write a program that will take user input of cost price and selling price and determines whether \n",
    "# its a loss or a profit.\n",
    "\n",
    "cp = int(input(\"Enter the cost price\"))\n",
    "sp = int(input(\"Enter the selling price\"))\n",
    "\n",
    "if sp>cp:\n",
    "    profit = sp-cp\n",
    "    print(f\"The profit is {profit}\")\n",
    "elif sp<cp:\n",
    "    loss = cp-sp\n",
    "    print(f\"The loss is {loss}\")\n",
    "else:\n",
    "    print(\"No profit No loss \")"
   ]
  },
  {
   "cell_type": "code",
   "execution_count": null,
   "id": "070eb248",
   "metadata": {},
   "outputs": [],
   "source": [
    "\"\"\"Write a menu-driven program -\n",
    "cm to ft\n",
    "km to miles\n",
    "USD to INR\n",
    "exit\n",
    "\"\"\"\n",
    "menu = int(input(\"\"\"Hi select one option \n",
    "1. Change from cm to ft \n",
    "2. Change from km to miles \n",
    "3. Change from USD to INR \n",
    "4. Exit the program \"\"\"))\n",
    "\n",
    "if menu == 1:\n",
    "    cm = float(input(\"Enter the Value in cm to change in ft\"))\n",
    "    print(\"The value in ft is \", round(cm*0.032,2))\n",
    "                 \n",
    "elif menu == 2:\n",
    "    km = int(input(\"Enter the Values in km to change to miles\"))\n",
    "    print(\"The value in miles is \", km*0.62)\n",
    "    \n",
    "elif menu == 3:\n",
    "    usd = int(input(\"Enter the Value in USD\"))\n",
    "    print(\"The value in INR is \", usd*84)\n",
    "    \n",
    "else:\n",
    "    print(\"Exit the program\")"
   ]
  },
  {
   "cell_type": "code",
   "execution_count": null,
   "id": "b4849723",
   "metadata": {},
   "outputs": [],
   "source": [
    "\"\"\"\n",
    "Problem 5 - Exercise 12: Display Fibonacci series up to 10 terms.\n",
    "Note: The Fibonacci Sequence is a series of numbers. \n",
    "The next number is found by adding up the two numbers before it. \n",
    "The first two numbers are 0 and 1. For example, 0, 1, 1, 2, 3, 5, 8, 13, 21. \n",
    "The next number in this series above is 13+21 = 34\n",
    "\"\"\"\n",
    "fibo_term = int(input(\"Enter the number of term to generate the Fibonacci series\"))\n",
    "first_term = 0\n",
    "second_term = 1\n",
    "print(f\"the first term is {first_term} and the second term is {second_term}\")\n",
    "\n",
    "for i in range(3,fibo_term):\n",
    "    new_term = first_term+second_term\n",
    "    print(f\"the {i} term is {new_term}\")\n",
    "    first_term = second_term\n",
    "    second_term = new_term"
   ]
  },
  {
   "cell_type": "code",
   "execution_count": null,
   "id": "4a6b0eb4",
   "metadata": {},
   "outputs": [],
   "source": [
    "\"\"\"\n",
    "Problem 6 - Find the factorial of a given number.\n",
    "Write a program to use the loop to find the factorial of a given number.\n",
    "The factorial (symbol: !) means to multiply all whole numbers from the chosen number down to 1.\n",
    "For example: calculate the factorial of 5 = 5*4*3*2*1\n",
    "\"\"\"\n",
    "fact_number = int(input(\"Enter the Number for which you need to find the factorial\"))\n",
    "\n",
    "fact = 1\n",
    "for i in range(1,fact_number+1):\n",
    "    fact = fact*i\n",
    "print(f\"The factorial of the given number is {fact}\")"
   ]
  },
  {
   "cell_type": "code",
   "execution_count": null,
   "id": "401017ee",
   "metadata": {},
   "outputs": [],
   "source": [
    "# Reverse a given integer number.\n",
    "int_number = int(input(\"Enter the Integer Number\"))\n",
    "rev = 0\n",
    "while int_number>0:\n",
    "    last = int_number%10\n",
    "    rev = rev*10+ last\n",
    "    int_number = int_number//10\n",
    "print(f\"The rev is {rev}\")"
   ]
  },
  {
   "cell_type": "code",
   "execution_count": null,
   "id": "e70a3a18",
   "metadata": {},
   "outputs": [],
   "source": [
    "\"\"\"Take a user input as integer N. Find out the sum from 1 to N. If any number if divisible by 5, \n",
    "then skip that number. And if the sum is greater than 300, don't need to calculate the sum further more. \n",
    "Print the final result. And don't use for loop to solve this problem. \"\"\"\n"
   ]
  },
  {
   "cell_type": "code",
   "execution_count": null,
   "id": "9b5c3603",
   "metadata": {},
   "outputs": [],
   "source": []
  },
  {
   "cell_type": "code",
   "execution_count": null,
   "id": "130ceb40",
   "metadata": {},
   "outputs": [],
   "source": []
  },
  {
   "cell_type": "code",
   "execution_count": null,
   "id": "8141949d",
   "metadata": {},
   "outputs": [],
   "source": []
  },
  {
   "cell_type": "code",
   "execution_count": null,
   "id": "5989bd36",
   "metadata": {},
   "outputs": [],
   "source": []
  },
  {
   "cell_type": "code",
   "execution_count": null,
   "id": "1f630785",
   "metadata": {},
   "outputs": [],
   "source": []
  },
  {
   "cell_type": "code",
   "execution_count": null,
   "id": "f3bc7fe8",
   "metadata": {},
   "outputs": [],
   "source": []
  },
  {
   "cell_type": "code",
   "execution_count": null,
   "id": "db1397fa",
   "metadata": {},
   "outputs": [],
   "source": []
  },
  {
   "cell_type": "code",
   "execution_count": null,
   "id": "baef9812",
   "metadata": {},
   "outputs": [],
   "source": []
  },
  {
   "cell_type": "code",
   "execution_count": null,
   "id": "7513867b",
   "metadata": {},
   "outputs": [],
   "source": []
  },
  {
   "cell_type": "code",
   "execution_count": null,
   "id": "eb0a936e",
   "metadata": {},
   "outputs": [],
   "source": []
  },
  {
   "cell_type": "code",
   "execution_count": null,
   "id": "536acfd8",
   "metadata": {},
   "outputs": [],
   "source": []
  },
  {
   "cell_type": "code",
   "execution_count": null,
   "id": "2e9da2d0",
   "metadata": {},
   "outputs": [],
   "source": []
  },
  {
   "cell_type": "code",
   "execution_count": null,
   "id": "7974f0ca",
   "metadata": {},
   "outputs": [],
   "source": []
  },
  {
   "cell_type": "code",
   "execution_count": null,
   "id": "6718d789",
   "metadata": {},
   "outputs": [],
   "source": []
  },
  {
   "cell_type": "code",
   "execution_count": null,
   "id": "2bd6bac4",
   "metadata": {},
   "outputs": [],
   "source": []
  },
  {
   "cell_type": "code",
   "execution_count": null,
   "id": "63ebf67f",
   "metadata": {},
   "outputs": [],
   "source": []
  },
  {
   "cell_type": "code",
   "execution_count": null,
   "id": "ffb8a47b",
   "metadata": {},
   "outputs": [],
   "source": []
  },
  {
   "cell_type": "code",
   "execution_count": null,
   "id": "a11899d4",
   "metadata": {},
   "outputs": [],
   "source": []
  },
  {
   "cell_type": "code",
   "execution_count": null,
   "id": "18fa48a5",
   "metadata": {},
   "outputs": [],
   "source": []
  },
  {
   "cell_type": "code",
   "execution_count": null,
   "id": "27954754",
   "metadata": {},
   "outputs": [],
   "source": []
  },
  {
   "cell_type": "code",
   "execution_count": null,
   "id": "df628598",
   "metadata": {},
   "outputs": [],
   "source": []
  },
  {
   "cell_type": "code",
   "execution_count": null,
   "id": "70f53e99",
   "metadata": {},
   "outputs": [],
   "source": []
  },
  {
   "cell_type": "code",
   "execution_count": null,
   "id": "176fb434",
   "metadata": {},
   "outputs": [],
   "source": []
  },
  {
   "cell_type": "code",
   "execution_count": null,
   "id": "fefeb32f",
   "metadata": {},
   "outputs": [],
   "source": []
  },
  {
   "cell_type": "code",
   "execution_count": null,
   "id": "04db8088",
   "metadata": {},
   "outputs": [],
   "source": []
  },
  {
   "cell_type": "code",
   "execution_count": null,
   "id": "9a1a4d1e",
   "metadata": {},
   "outputs": [],
   "source": []
  },
  {
   "cell_type": "code",
   "execution_count": null,
   "id": "be437d98",
   "metadata": {},
   "outputs": [],
   "source": []
  },
  {
   "cell_type": "code",
   "execution_count": null,
   "id": "f407d3c7",
   "metadata": {},
   "outputs": [],
   "source": []
  },
  {
   "cell_type": "code",
   "execution_count": null,
   "id": "5816d86e",
   "metadata": {},
   "outputs": [],
   "source": []
  },
  {
   "cell_type": "code",
   "execution_count": null,
   "id": "3bb7b659",
   "metadata": {},
   "outputs": [],
   "source": []
  }
 ],
 "metadata": {
  "kernelspec": {
   "display_name": "Python 3 (ipykernel)",
   "language": "python",
   "name": "python3"
  },
  "language_info": {
   "codemirror_mode": {
    "name": "ipython",
    "version": 3
   },
   "file_extension": ".py",
   "mimetype": "text/x-python",
   "name": "python",
   "nbconvert_exporter": "python",
   "pygments_lexer": "ipython3",
   "version": "3.11.4"
  }
 },
 "nbformat": 4,
 "nbformat_minor": 5
}
