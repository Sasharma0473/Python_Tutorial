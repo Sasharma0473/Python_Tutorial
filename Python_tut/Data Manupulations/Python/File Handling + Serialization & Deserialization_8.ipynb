{
 "cells": [
  {
   "cell_type": "markdown",
   "id": "a45af789",
   "metadata": {},
   "source": [
    "### Some Theory\n",
    "##### Types of data used for I/O:\n",
    "    \n",
    "- Text - '12345' as a sequence of unicode chars\n",
    "- Binary - 12345 as a sequence of bytes of its binary equivalent\n",
    "\n",
    "##### Hence there are 2 file types to deal with\n",
    "    \n",
    "- Text files - All program files are text files\n",
    "- Binary Files - Images,music,video,exe files\n",
    "\n",
    "##### How File I/O is done in most programming languages\n",
    "- Open a file\n",
    "- Read/Write data\n",
    "- Close the file"
   ]
  },
  {
   "cell_type": "markdown",
   "id": "0f9b808b",
   "metadata": {},
   "source": [
    "### Writing to File"
   ]
  },
  {
   "cell_type": "code",
   "execution_count": null,
   "id": "81fbc4cf",
   "metadata": {},
   "outputs": [],
   "source": [
    "# Case 1- if the file is not present \n",
    "f = open('Sample.txt','w')\n",
    "f.write('Hello World')\n",
    "f.close()\n",
    "f.write('Big Deal')\n",
    "# Since file is closed that is why its showing this error."
   ]
  },
  {
   "cell_type": "code",
   "execution_count": null,
   "id": "c666daf4",
   "metadata": {},
   "outputs": [],
   "source": [
    "# Write Multiple Strings.\n",
    "f = open('Sample1.txt','w')\n",
    "f.write('Hello World')\n",
    "f.write('\\n How are you?')\n",
    "f.close()"
   ]
  },
  {
   "cell_type": "code",
   "execution_count": null,
   "id": "8e6b761b",
   "metadata": {},
   "outputs": [],
   "source": [
    "# Case -2 If the file is Present.\n",
    "# If we write on the exiting file.Purana sara content delete ho jata h and new content aa jata h file m. \n",
    "f = open('Sample.txt','w')\n",
    "f.write('Guys I am looking smart today')\n",
    "f.close()"
   ]
  },
  {
   "cell_type": "code",
   "execution_count": null,
   "id": "bb43903b",
   "metadata": {},
   "outputs": [],
   "source": [
    "# How excatly open() works??\n",
    "# Here Sample.txt file store in the hard drive of computer system. Its not present in the RAM. \n",
    "# Python code is basically picking up the file and load it in the RAM and its load in buffer memory(In buffer memory \n",
    "# our file is read character by character). "
   ]
  },
  {
   "cell_type": "code",
   "execution_count": null,
   "id": "6778b090",
   "metadata": {},
   "outputs": [],
   "source": [
    "# Problem With write Mode:- It will overwrite the content.\n",
    "# Introducing append mode.\n",
    "f = open('C:/Users/sasha/Desktop/Python/Python_Tutorial/Python_tut/Data Manupulations/Python/Sample1.txt','a')\n",
    "f.write('\\nHello America I am india')\n",
    "f.close()"
   ]
  },
  {
   "cell_type": "code",
   "execution_count": null,
   "id": "0f3a9616",
   "metadata": {},
   "outputs": [],
   "source": [
    "# Write Multiple Lines together.\n",
    "lst = ['Hello\\n','Hi\\n','Good things we been grow\\n','\\n Good Work']\n",
    "f = open(\"C:/Users/sasha/Desktop/Python/Python_Tutorial/Python_tut/Data Manupulations/Python/Sample.txt\",'w')\n",
    "f.writelines(lst)\n",
    "f.close()\n",
    "\n",
    "# Why we use f.close()\n",
    "# The file is in the RAM which can be access by any hacker in our PC got Hack because that buffer or link is created with \n",
    "# the file. and second the file is kept in the RAM only if some garbage collector does'nt come and clean up the file."
   ]
  },
  {
   "cell_type": "markdown",
   "id": "c4b90932",
   "metadata": {},
   "source": [
    "### Reading from the files"
   ]
  },
  {
   "cell_type": "code",
   "execution_count": null,
   "id": "3754f81a",
   "metadata": {},
   "outputs": [],
   "source": [
    "# Using read() -> It will read the complete content of file in one go.\n",
    "# readlines() -> It will read line by line.\n",
    "f = open('C:/Users/sasha/Desktop/Python/Python_Tutorial/Python_tut/Data Manupulations/Python/Sample.txt','r')\n",
    "s = f.read()\n",
    "print(s)\n",
    "f.close()"
   ]
  },
  {
   "cell_type": "code",
   "execution_count": null,
   "id": "73230a48",
   "metadata": {},
   "outputs": [],
   "source": [
    "# Reading upto n Characters\n",
    "f = open('C:/Users/sasha/Desktop/Python/Python_Tutorial/Python_tut/Data Manupulations/Python/Sample.txt','r')\n",
    "s = f.read(10)\n",
    "print(s)\n",
    "f.close()"
   ]
  },
  {
   "cell_type": "code",
   "execution_count": null,
   "id": "1f08af92",
   "metadata": {},
   "outputs": [],
   "source": [
    "# Readlines - read line by line\n",
    "f = open('C:/Users/sasha/Desktop/Python/Python_Tutorial/Python_tut/Data Manupulations/Python/Sample.txt','r')\n",
    "print(f.readline())\n",
    "print(f.readline())\n",
    "f.close()\n",
    "# Here there is Gap between the lines because readline change the line and print also has the same kind of functionality."
   ]
  },
  {
   "cell_type": "code",
   "execution_count": null,
   "id": "2440bbbf",
   "metadata": {},
   "outputs": [],
   "source": [
    "# In which scenario we will use read and readline will be used.\n",
    "# Readline is used where we have a lot of content in our file and we do'nt want to load the entire content in the memory.\n",
    "# Then will use readline\n",
    "# Read is used when we have samll amount of content in the file and all can be loaded in the memeory. there we used read()."
   ]
  },
  {
   "cell_type": "code",
   "execution_count": null,
   "id": "f00d67bd",
   "metadata": {},
   "outputs": [],
   "source": [
    "# Reading entire using readline.\n",
    "f = open('C:/Users/sasha/Desktop/Python/Python_Tutorial/Python_tut/Data Manupulations/Python/Sample.txt','r')\n",
    "while True:\n",
    "    data = f.readline()\n",
    "    if data == '':\n",
    "        break\n",
    "    else:\n",
    "        print(data,end = '')\n",
    "f.close()"
   ]
  },
  {
   "cell_type": "markdown",
   "id": "a873f3cb",
   "metadata": {},
   "source": [
    "#### Using Context Manager (With)\n",
    "- It's a good idea to close a file after usage as it will free up the resources\n",
    "- If we dont close it, garbage collector would close it\n",
    "- with keyword closes the file as soon as the usage is over"
   ]
  },
  {
   "cell_type": "code",
   "execution_count": null,
   "id": "d6972b03",
   "metadata": {},
   "outputs": [],
   "source": [
    "# With -- open in write mode\n",
    "with open('C:/Users/sasha/Desktop/Python/Python_Tutorial/Python_tut/Data Manupulations/Python/Sample.txt','w') as f:\n",
    "    f.write('The Good Things We Been Grow')"
   ]
  },
  {
   "cell_type": "code",
   "execution_count": null,
   "id": "c3008ba2",
   "metadata": {},
   "outputs": [],
   "source": [
    "f.write('hello')"
   ]
  },
  {
   "cell_type": "code",
   "execution_count": null,
   "id": "fa20e02a",
   "metadata": {},
   "outputs": [],
   "source": [
    "# Open the file in read mode using with \n",
    "with open('C:/Users/sasha/Desktop/Python/Python_Tutorial/Python_tut/Data Manupulations/Python/Sample.txt','r') as f:\n",
    "    print(f.read())"
   ]
  },
  {
   "cell_type": "code",
   "execution_count": null,
   "id": "695bdf6c",
   "metadata": {},
   "outputs": [],
   "source": [
    "# Moving within a file -> 10 char by 10 char\n",
    "with open('C:/Users/sasha/Desktop/Python/Python_Tutorial/Python_tut/Data Manupulations/Python/Sample.txt','r') as f:\n",
    "    print(f.read(10))\n",
    "    print(f.read(10))"
   ]
  },
  {
   "cell_type": "code",
   "execution_count": null,
   "id": "6be20122",
   "metadata": {},
   "outputs": [],
   "source": [
    "# Benefit to load a big file in memory\n",
    "big_lst = ['hello world' for i in range(1000)]\n",
    "# print(big_lst)"
   ]
  },
  {
   "cell_type": "code",
   "execution_count": null,
   "id": "2f6ede94",
   "metadata": {},
   "outputs": [],
   "source": [
    "with open('big.txt','w') as f:\n",
    "    f.writelines(big_lst)"
   ]
  },
  {
   "cell_type": "code",
   "execution_count": null,
   "id": "81dc4ac9",
   "metadata": {
    "scrolled": true
   },
   "outputs": [],
   "source": [
    "with open('big.txt','r') as f:\n",
    "    chunk_size = 10\n",
    "    \n",
    "    while len(f.read(chunk_size))>0:\n",
    "        print(f.read(chunk_size),end='***')\n",
    "        # f.read(chunk_size)"
   ]
  },
  {
   "cell_type": "markdown",
   "id": "69e704c8",
   "metadata": {},
   "source": [
    "### Seek and Tell function in file"
   ]
  },
  {
   "cell_type": "code",
   "execution_count": null,
   "id": "cd284d36",
   "metadata": {},
   "outputs": [],
   "source": [
    "with open('C:/Users/sasha/Desktop/Python/Python_Tutorial/Python_tut/Data Manupulations/Python/Sample.txt','r') as f:\n",
    "    print(f.read(10))\n",
    "    print(f.tell())     # It will tell that the cursor is on 10th position.\n",
    "    f.seek(0)          # It will asically shift the position of cursor to 0.\n",
    "    print(f.read(10))\n",
    "    print(f.read(10))"
   ]
  },
  {
   "cell_type": "code",
   "execution_count": null,
   "id": "74421fc5",
   "metadata": {},
   "outputs": [],
   "source": [
    "with open('C:/Users/sasha/Desktop/Python/Python_Tutorial/Python_tut/Data Manupulations/Python/Sample.txt','w') as f:\n",
    "    print(f.write('Good Things We been Grow'))\n",
    "    f.seek(0)\n",
    "    print(f.write('Xab'))"
   ]
  },
  {
   "cell_type": "markdown",
   "id": "9bd8b6c0",
   "metadata": {},
   "source": [
    "### Problems with working in text mode\n",
    "- can't work with binary files like images\n",
    "- not good for other data types like int/float/list/tuples"
   ]
  },
  {
   "cell_type": "code",
   "execution_count": null,
   "id": "7300db06",
   "metadata": {},
   "outputs": [],
   "source": [
    "with open(\"C:/Users/sasha/Pictures/Screenshots/Sign.png\",'r') as f:\n",
    "    f.read()\n",
    "# 'charmap' codec can't decode byte 0x8f in position 57: character maps to <undefined>\n",
    "# This above error means in this way we can'nt read the binary file like this. "
   ]
  },
  {
   "cell_type": "code",
   "execution_count": null,
   "id": "f7464dad",
   "metadata": {},
   "outputs": [],
   "source": [
    "# Working with Binary files.\n",
    "with open(\"C:/Users/sasha/Pictures/Screenshots/Sign.png\",'rb') as f:\n",
    "    with open('C:/Users/sasha/Pictures/Screenshots/Sign_copy.png','wb') as wf:\n",
    "        wf.write(f.read())"
   ]
  },
  {
   "cell_type": "code",
   "execution_count": null,
   "id": "e403fc72",
   "metadata": {},
   "outputs": [],
   "source": [
    "# Working with Binary files.\n",
    "with open(\"C:/Users/sasha/Pictures/Screenshots/Sign.png\",'rb') as f:\n",
    "        print(f.read())"
   ]
  },
  {
   "cell_type": "code",
   "execution_count": null,
   "id": "97d00ae1",
   "metadata": {},
   "outputs": [],
   "source": [
    "# Working with other datatype\n",
    "with open('C:/Users/sasha/Desktop/Python/Python_Tutorial/Python_tut/Data Manupulations/Python/Sample.txt','w') as f:\n",
    "    f.write(5)"
   ]
  },
  {
   "cell_type": "code",
   "execution_count": null,
   "id": "a999a0e7",
   "metadata": {},
   "outputs": [],
   "source": [
    "with open('C:/Users/sasha/Desktop/Python/Python_Tutorial/Python_tut/Data Manupulations/Python/Sample.txt','w') as f:\n",
    "    f.write('5')"
   ]
  },
  {
   "cell_type": "code",
   "execution_count": null,
   "id": "6251b172",
   "metadata": {},
   "outputs": [],
   "source": [
    "with open('C:/Users/sasha/Desktop/Python/Python_Tutorial/Python_tut/Data Manupulations/Python/Sample.txt','r') as f:\n",
    "    print(int(f.read()) + 5)"
   ]
  },
  {
   "cell_type": "code",
   "execution_count": null,
   "id": "f0dcfebc",
   "metadata": {},
   "outputs": [],
   "source": [
    "# More Complex Datatype\n",
    "dict1 = {\n",
    "    'Name' : 'Sahil',\n",
    "    'Age' : 33,\n",
    "    'Gender': 'Male'\n",
    "}"
   ]
  },
  {
   "cell_type": "code",
   "execution_count": null,
   "id": "f9903d03",
   "metadata": {},
   "outputs": [],
   "source": [
    "with open('C:/Users/sasha/Desktop/Python/Python_Tutorial/Python_tut/Data Manupulations/Python/Sample.txt','w') as f:\n",
    "    f.write(dict1)"
   ]
  },
  {
   "cell_type": "code",
   "execution_count": null,
   "id": "3cc0be0f",
   "metadata": {},
   "outputs": [],
   "source": [
    "with open('C:/Users/sasha/Desktop/Python/Python_Tutorial/Python_tut/Data Manupulations/Python/Sample.txt','w') as f:\n",
    "    f.write(str(dict1))"
   ]
  },
  {
   "cell_type": "code",
   "execution_count": null,
   "id": "fdff3a33",
   "metadata": {},
   "outputs": [],
   "source": [
    "with open('C:/Users/sasha/Desktop/Python/Python_Tutorial/Python_tut/Data Manupulations/Python/Sample.txt','r') as f:\n",
    "    print(f.read())"
   ]
  },
  {
   "cell_type": "code",
   "execution_count": null,
   "id": "22623108",
   "metadata": {},
   "outputs": [],
   "source": [
    "# We can not write the complex datatype in the file. as we have to face the probelm while retreving the file content and \n",
    "# This problem is solved by the Concept or method called Serilization and DeSerilization."
   ]
  },
  {
   "cell_type": "markdown",
   "id": "617c6bad",
   "metadata": {},
   "source": [
    "### Serialization and Deserialization\n",
    "\n",
    "- Serialization - process of converting python data types to JSON format\n",
    "- Deserialization - process of converting JSON to python data types"
   ]
  },
  {
   "cell_type": "code",
   "execution_count": null,
   "id": "1f686ec1",
   "metadata": {},
   "outputs": [],
   "source": [
    "# Serilization using Json Module\n",
    "# Here is the example of writing the complex datatype.\n",
    "import json\n",
    "lst = [1,2,3,4]\n",
    "with open('demo.json','w') as f:\n",
    "    json.dump(lst,f)             # Lst kisko dalna h. f object kisme dalna h."
   ]
  },
  {
   "cell_type": "code",
   "execution_count": null,
   "id": "28fa42f4",
   "metadata": {},
   "outputs": [],
   "source": [
    "import json\n",
    "with open('demo.json','r') as f:\n",
    "    l1 = json.load(f)\n",
    "    print(l1)\n",
    "    print(type(l1))"
   ]
  },
  {
   "cell_type": "code",
   "execution_count": null,
   "id": "ec9f2d47",
   "metadata": {},
   "outputs": [],
   "source": [
    "dict2 = {\n",
    "    'Name':'Sahil',\n",
    "    'Age':33,\n",
    "    'Gender':'Male'\n",
    "}\n",
    "with open('demo.json','w') as f:\n",
    "    json.dump(dict2,f,indent= 4)"
   ]
  },
  {
   "cell_type": "code",
   "execution_count": null,
   "id": "aa941ead",
   "metadata": {},
   "outputs": [],
   "source": [
    "# Deserialization\n",
    "import json\n",
    "with open('demo.json','r') as f:\n",
    "    d1 = json.load(f)\n",
    "    print(d1)\n",
    "    print(type(d1))"
   ]
  },
  {
   "cell_type": "code",
   "execution_count": 1,
   "id": "b4b1e760",
   "metadata": {},
   "outputs": [],
   "source": [
    "# Serilization and deserilization in tuples\n",
    "import json \n",
    "tuple1 = (1,2,3,4,5,6)\n",
    "with open('demo.json','w') as f:\n",
    "    json.dump(tuple1,f)"
   ]
  },
  {
   "cell_type": "code",
   "execution_count": 4,
   "id": "864ea99e",
   "metadata": {},
   "outputs": [],
   "source": [
    "dict10 = {\n",
    "    'Name':'Gargi',\n",
    "    'Marks': [23,45,13,55,87,98],\n",
    "    'Gender':'Female'\n",
    "}\n",
    "with open('demo.json','w') as f:\n",
    "    json.dump(dict10,f,indent= 4)"
   ]
  },
  {
   "cell_type": "code",
   "execution_count": 5,
   "id": "8a529083",
   "metadata": {},
   "outputs": [],
   "source": [
    "class Person:\n",
    "    def __init__(self,fname,lname,age,gender):\n",
    "        self.fname = fname\n",
    "        self.lname = lname\n",
    "        self.age = age\n",
    "        self.gender = gender\n",
    "        "
   ]
  },
  {
   "cell_type": "code",
   "execution_count": 7,
   "id": "51d98b90",
   "metadata": {},
   "outputs": [
    {
     "name": "stdout",
     "output_type": "stream",
     "text": [
      "<__main__.Person object at 0x00000230EEFA4F10>\n"
     ]
    }
   ],
   "source": [
    "p1 = Person('Sahil','Sharma',33,'Male')\n",
    "print(p1)"
   ]
  },
  {
   "cell_type": "code",
   "execution_count": 11,
   "id": "e5bc4bf0",
   "metadata": {
    "scrolled": true
   },
   "outputs": [],
   "source": [
    "import json\n",
    "\n",
    "def show_object(person):\n",
    "    if isinstance(person,Person):\n",
    "        return \"First_Name --> {}, Last_Name --> {}, age --> {}, gender --> {}\".format(person.fname,person.lname,person.age,person.gender)\n",
    "\n",
    "with open('demo.json','w') as f:\n",
    "    json.dump(p1,f,default=show_object)"
   ]
  },
  {
   "cell_type": "code",
   "execution_count": 12,
   "id": "0ff6aaf8",
   "metadata": {},
   "outputs": [],
   "source": [
    "# As a Dict format\n",
    "import json\n",
    "\n",
    "def show_object(person):\n",
    "    if isinstance(person,Person):\n",
    "        return {'Name':person.fname +' '+ person.lname, 'Age':person.age,'Gender':person.gender}\n",
    "\n",
    "with open('demo.json','w') as f:\n",
    "    json.dump(p1,f,default=show_object,indent= 4)"
   ]
  },
  {
   "cell_type": "code",
   "execution_count": 15,
   "id": "9733bff4",
   "metadata": {},
   "outputs": [
    {
     "name": "stdout",
     "output_type": "stream",
     "text": [
      "{'Name': 'Sahil Sharma', 'Age': 33, 'Gender': 'Male'}\n",
      "<class 'dict'>\n"
     ]
    }
   ],
   "source": [
    "# Deserialization objects\n",
    "import json\n",
    "with open('demo.json','r') as f:\n",
    "    dict10 = json.load(f)\n",
    "    print(dict10)\n",
    "    print(type(dict10))"
   ]
  },
  {
   "cell_type": "markdown",
   "id": "b7b99f70",
   "metadata": {},
   "source": [
    "### Pickling\n",
    "\n",
    "    Pickling is the process whereby a Python object hierarchy is converted into a byte stream, \n",
    "    and unpickling is the inverse operation, whereby a byte stream (from a binary file or bytes-like object) \n",
    "    is converted back into an object hierarchy.\n",
    "    \n"
   ]
  },
  {
   "cell_type": "code",
   "execution_count": 16,
   "id": "f60e6d36",
   "metadata": {},
   "outputs": [],
   "source": [
    "class PersonClass:\n",
    "    def __init__(self,name,age):\n",
    "        self.name = name\n",
    "        self.age = age\n",
    "        \n",
    "    def display_info(self):\n",
    "        print(f'Hi My name is {self.name} and my age is {self.age}')"
   ]
  },
  {
   "cell_type": "code",
   "execution_count": 17,
   "id": "4ff8d3c8",
   "metadata": {},
   "outputs": [],
   "source": [
    "p2 = PersonClass('Sahil',32)"
   ]
  },
  {
   "cell_type": "code",
   "execution_count": 19,
   "id": "ab767639",
   "metadata": {},
   "outputs": [],
   "source": [
    "# Pickle dump\n",
    "import pickle\n",
    "with open('person.pkl','wb') as f:\n",
    "    pickle.dump(p2,f)"
   ]
  },
  {
   "cell_type": "code",
   "execution_count": 23,
   "id": "3d4aac69",
   "metadata": {},
   "outputs": [
    {
     "name": "stdout",
     "output_type": "stream",
     "text": [
      "<__main__.PersonClass object at 0x00000230EF63FF90>\n",
      "<class '__main__.PersonClass'>\n",
      "Hi My name is Sahil and my age is 32\n"
     ]
    }
   ],
   "source": [
    "import pickle\n",
    "with open('person.pkl','rb') as f:\n",
    "    p3 = pickle.load(f)\n",
    "    print(p3)\n",
    "    print(type(p3))\n",
    "p2.display_info()"
   ]
  },
  {
   "cell_type": "markdown",
   "id": "dcfdd19a",
   "metadata": {},
   "source": [
    "#### Pickle Vs Json\n",
    "    Pickle lets the user to store data in binary format. JSON lets the user store data in a human-readable text format.\n",
    "    object ka functionality retain karna h aur usko dusri file m send karna h tab hum pickle use karte h "
   ]
  },
  {
   "cell_type": "code",
   "execution_count": null,
   "id": "a15ea122",
   "metadata": {},
   "outputs": [],
   "source": []
  },
  {
   "cell_type": "code",
   "execution_count": null,
   "id": "76cc48dd",
   "metadata": {},
   "outputs": [],
   "source": []
  }
 ],
 "metadata": {
  "kernelspec": {
   "display_name": "Python 3 (ipykernel)",
   "language": "python",
   "name": "python3"
  },
  "language_info": {
   "codemirror_mode": {
    "name": "ipython",
    "version": 3
   },
   "file_extension": ".py",
   "mimetype": "text/x-python",
   "name": "python",
   "nbconvert_exporter": "python",
   "pygments_lexer": "ipython3",
   "version": "3.11.4"
  }
 },
 "nbformat": 4,
 "nbformat_minor": 5
}
