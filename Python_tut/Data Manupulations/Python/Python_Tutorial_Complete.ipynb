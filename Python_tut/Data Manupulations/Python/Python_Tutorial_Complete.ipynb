{
 "cells": [
  {
   "cell_type": "markdown",
   "id": "5b2cbdc6",
   "metadata": {},
   "source": [
    "# Python practice Notebook"
   ]
  },
  {
   "cell_type": "code",
   "execution_count": 5,
   "id": "2f00f76f",
   "metadata": {},
   "outputs": [
    {
     "name": "stdout",
     "output_type": "stream",
     "text": [
      "Hello World\n",
      "Welcome to my channel\n"
     ]
    }
   ],
   "source": [
    "print(\"Hello World\")\n",
    "print(\"Welcome to my channel\")"
   ]
  },
  {
   "cell_type": "code",
   "execution_count": 6,
   "id": "42d34ed3",
   "metadata": {},
   "outputs": [
    {
     "name": "stdout",
     "output_type": "stream",
     "text": [
      "hello\n"
     ]
    }
   ],
   "source": [
    "#single line comment and multiple line commnets.\n",
    "\n",
    "'''\n",
    "multiple lines comment \n",
    "youtube is best platform to search \n",
    "'''\n",
    "print(\"hello\")"
   ]
  },
  {
   "cell_type": "code",
   "execution_count": 7,
   "id": "a6eb2347",
   "metadata": {},
   "outputs": [
    {
     "name": "stdout",
     "output_type": "stream",
     "text": [
      "<class 'int'>\n"
     ]
    }
   ],
   "source": [
    "#variable declaration \n",
    "a= 10\n",
    "print(type(a))\n"
   ]
  },
  {
   "cell_type": "code",
   "execution_count": 10,
   "id": "418654a4",
   "metadata": {},
   "outputs": [
    {
     "name": "stdout",
     "output_type": "stream",
     "text": [
      "<class 'float'>\n",
      "<class 'bool'>\n",
      "<class 'str'>\n"
     ]
    }
   ],
   "source": [
    "a= 190.5\n",
    "b= True\n",
    "c= \"string\"\n",
    "print(type(a))\n",
    "print(type(b))\n",
    "print(type(c))"
   ]
  },
  {
   "cell_type": "code",
   "execution_count": 13,
   "id": "354ff302",
   "metadata": {},
   "outputs": [
    {
     "data": {
      "text/plain": [
       "'string values'"
      ]
     },
     "execution_count": 13,
     "metadata": {},
     "output_type": "execute_result"
    }
   ],
   "source": [
    "c+ \" values\"  # concatenation . Its also the example of strong typing."
   ]
  },
  {
   "cell_type": "code",
   "execution_count": 17,
   "id": "7624e4f5",
   "metadata": {},
   "outputs": [
    {
     "data": {
      "text/plain": [
       "'string1'"
      ]
     },
     "execution_count": 17,
     "metadata": {},
     "output_type": "execute_result"
    }
   ],
   "source": [
    "c+str(1)"
   ]
  },
  {
   "cell_type": "code",
   "execution_count": 18,
   "id": "c5ba9059",
   "metadata": {},
   "outputs": [
    {
     "name": "stdout",
     "output_type": "stream",
     "text": [
      "sahil\n"
     ]
    }
   ],
   "source": [
    "#dynamic typing\n",
    "a= 10\n",
    "a=\"sahil\"\n",
    "print(a)"
   ]
  },
  {
   "cell_type": "code",
   "execution_count": 19,
   "id": "5534ee6b",
   "metadata": {},
   "outputs": [
    {
     "name": "stdout",
     "output_type": "stream",
     "text": [
      "the value of a is - 100\n"
     ]
    }
   ],
   "source": [
    "#string Formatting \n",
    "a= 100\n",
    "print(\"the value of a is -\",a)"
   ]
  },
  {
   "cell_type": "code",
   "execution_count": 1,
   "id": "c8567c2d",
   "metadata": {},
   "outputs": [
    {
     "name": "stdout",
     "output_type": "stream",
     "text": [
      "The firstname is Sharma and the last name is Sahil\n"
     ]
    }
   ],
   "source": [
    "firstname = \"Sahil\"\n",
    "LastName = \"Sharma\"\n",
    "print(\"The firstname is {} and the last name is {}\".format(LastName,firstname))"
   ]
  },
  {
   "cell_type": "code",
   "execution_count": 2,
   "id": "a9efe473",
   "metadata": {},
   "outputs": [
    {
     "name": "stdout",
     "output_type": "stream",
     "text": [
      "The firstname is Sahil and the last name is Sharma\n"
     ]
    }
   ],
   "source": [
    "firstname = \"Sahil\"\n",
    "LastName = \"Sharma\"\n",
    "print(\"The firstname is {1} and the last name is {0}\".format(LastName,firstname))"
   ]
  },
  {
   "cell_type": "code",
   "execution_count": 30,
   "id": "a031a1e5",
   "metadata": {},
   "outputs": [
    {
     "name": "stdout",
     "output_type": "stream",
     "text": [
      "enter a number A 34\n",
      "enter the number B 34\n",
      "68\n"
     ]
    }
   ],
   "source": [
    "#input type\n",
    "a = int(input(\"enter a number A \"))\n",
    "b = int(input(\"enter the number B \"))\n",
    "print(a+b)"
   ]
  },
  {
   "cell_type": "markdown",
   "id": "7d20b061",
   "metadata": {},
   "source": [
    "# Python Control Flows"
   ]
  },
  {
   "cell_type": "code",
   "execution_count": 54,
   "id": "5c753468",
   "metadata": {},
   "outputs": [
    {
     "name": "stdout",
     "output_type": "stream",
     "text": [
      "enter the value from your end 123\n",
      "The numbe is greater than 100 \n"
     ]
    }
   ],
   "source": [
    "# if-else Statement\n",
    "value = float(input(\"enter the value from your end \"))\n",
    "if(value>100):\n",
    "    print(\"The number is greater than 100 \")\n",
    "else:\n",
    "    print(\"the number is not greater than 100\")"
   ]
  },
  {
   "cell_type": "code",
   "execution_count": 35,
   "id": "f8c58eed",
   "metadata": {},
   "outputs": [
    {
     "name": "stdout",
     "output_type": "stream",
     "text": [
      "enter the value from your end 23\n",
      "the number is NOT greater than 100\n"
     ]
    }
   ],
   "source": [
    "# if else Statement\n",
    "value = float(input(\"enter the value from your end \"))\n",
    "if(value>100):\n",
    "    print(\"The numbe is greater than 100 \")\n",
    "else:\n",
    "    print(\"the number is NOT greater than 100\")"
   ]
  },
  {
   "cell_type": "code",
   "execution_count": 37,
   "id": "9a3cd0e5",
   "metadata": {},
   "outputs": [
    {
     "name": "stdout",
     "output_type": "stream",
     "text": [
      "enter the value from your end 23\n",
      "The Number Is Odd Number \n"
     ]
    }
   ],
   "source": [
    "# if else Statement\n",
    "value = float(input(\"enter the value from your end \"))\n",
    "if(value%2 == 0):\n",
    "    print(\"The Number Is Even Number \")\n",
    "else:\n",
    "    print(\"The Number Is Odd Number \")"
   ]
  },
  {
   "cell_type": "code",
   "execution_count": 1,
   "id": "abb4086b",
   "metadata": {},
   "outputs": [
    {
     "name": "stdout",
     "output_type": "stream",
     "text": [
      "enter the value from your end 24\n",
      "The Number Is Even Number \n"
     ]
    }
   ],
   "source": [
    "# if else Statement\n",
    "value = float(input(\"enter the value from your end \"))\n",
    "if(value%2 == 0):\n",
    "    print(\"The Number Is Even Number \")\n",
    "else:\n",
    "    print(\"The Number Is Odd Number \")"
   ]
  },
  {
   "cell_type": "code",
   "execution_count": null,
   "id": "aace2689",
   "metadata": {},
   "outputs": [],
   "source": [
    "# nested if-else statement "
   ]
  },
  {
   "cell_type": "code",
   "execution_count": 5,
   "id": "47e6ec2a",
   "metadata": {
    "scrolled": false
   },
   "outputs": [
    {
     "name": "stdout",
     "output_type": "stream",
     "text": [
      "enter the value of age6\n",
      "You are a minor \n"
     ]
    }
   ],
   "source": [
    "age = float(input(\"enter the value of age\"))\n",
    "if(age<18):\n",
    "    print(\"You are a minor \")\n",
    "elif(age>=18 and age<45):\n",
    "    print(\"You are in mid age\")\n",
    "elif(age>=45 and age<60):\n",
    "    print(\"You are in senior mid age\")\n",
    "else:\n",
    "    print(\"You are senior\")"
   ]
  },
  {
   "cell_type": "code",
   "execution_count": 7,
   "id": "cc5881d1",
   "metadata": {},
   "outputs": [
    {
     "name": "stdout",
     "output_type": "stream",
     "text": [
      "enter the value of age17\n",
      "You are a minor \n",
      "You are in college\n"
     ]
    }
   ],
   "source": [
    "age = float(input(\"enter the value of age\"))\n",
    "if(age<18):\n",
    "    print(\"You are a minor \")\n",
    "    if(age<15):\n",
    "        print(\"You are in school\")\n",
    "    else:\n",
    "        print(\"You are in college\")\n",
    "elif(age>=18 and age<45):\n",
    "    print(\"You are in mid age\")\n",
    "elif(age>=45 and age<60):\n",
    "    print(\"You are in senior mid age\")\n",
    "else:\n",
    "    print(\"You are senior\")"
   ]
  },
  {
   "cell_type": "code",
   "execution_count": 1,
   "id": "7fc8021e",
   "metadata": {},
   "outputs": [
    {
     "name": "stdout",
     "output_type": "stream",
     "text": [
      "1\n",
      "2\n",
      "3\n",
      "4\n",
      "5\n"
     ]
    }
   ],
   "source": [
    "# Loops statement\n",
    "# while, for  \n",
    "lst = [1,2,3,4,5]\n",
    "for i in lst:\n",
    "    print(i)"
   ]
  },
  {
   "cell_type": "code",
   "execution_count": 11,
   "id": "103c969a",
   "metadata": {},
   "outputs": [
    {
     "name": "stdout",
     "output_type": "stream",
     "text": [
      "1\n",
      "4\n",
      "9\n",
      "16\n",
      "25\n"
     ]
    }
   ],
   "source": [
    "lst = [1,2,3,4,5]\n",
    "for i in lst:\n",
    "    print(i**2)"
   ]
  },
  {
   "cell_type": "code",
   "execution_count": 16,
   "id": "73dd498b",
   "metadata": {},
   "outputs": [
    {
     "name": "stdout",
     "output_type": "stream",
     "text": [
      "15\n"
     ]
    }
   ],
   "source": [
    "# find the sum of all element in the list\n",
    "sum1 =0 \n",
    "lst= [1,2,3,4,5]\n",
    "for i in lst:\n",
    "    sum1 = sum1+i\n",
    "print(sum1)"
   ]
  },
  {
   "cell_type": "code",
   "execution_count": 1,
   "id": "e8faf2a7",
   "metadata": {},
   "outputs": [
    {
     "name": "stdout",
     "output_type": "stream",
     "text": [
      "The sum of even number is 30 and sum of odd number is 25\n"
     ]
    }
   ],
   "source": [
    "# find the sum of even and odd number \n",
    "even_sum =0\n",
    "odd_sum = 0\n",
    "lst = [1,2,3,4,5,6,7,8,9,10]\n",
    "for i in lst:\n",
    "    if(i%2==0):\n",
    "        even_sum = i+even_sum\n",
    "    else:\n",
    "        odd_sum = odd_sum+i\n",
    "print(\"The sum of even number is {} and sum of odd number is {}\".format(even_sum,odd_sum))"
   ]
  },
  {
   "cell_type": "code",
   "execution_count": 2,
   "id": "8b217f18",
   "metadata": {},
   "outputs": [
    {
     "name": "stdout",
     "output_type": "stream",
     "text": [
      "The sum of even number is 30 sum of odd number is 25\n"
     ]
    }
   ],
   "source": [
    "# while loops\n",
    "i=0\n",
    "even_sum=0\n",
    "odd_sum=0\n",
    "while(i<=10):\n",
    "    for i in lst:\n",
    "        if(i%2==0):\n",
    "            even_sum = i+even_sum\n",
    "        else:\n",
    "            odd_sum = odd_sum+i\n",
    "    i=i+1\n",
    "print(\"The sum of even number is {} sum of odd number is {}\".format(even_sum,odd_sum))"
   ]
  },
  {
   "cell_type": "code",
   "execution_count": null,
   "id": "0fc6ce5d",
   "metadata": {},
   "outputs": [],
   "source": [
    "# Break and continue \n"
   ]
  },
  {
   "cell_type": "markdown",
   "id": "56e44206",
   "metadata": {},
   "source": [
    "# Python Operators \n",
    "\n",
    "Logical,\n",
    "equality,\n",
    "comparision, \n",
    "Arithmetic,"
   ]
  },
  {
   "cell_type": "code",
   "execution_count": 1,
   "id": "6df4dc63",
   "metadata": {},
   "outputs": [],
   "source": [
    "# logical opeartor \n",
    "# and , or , not \n",
    "# boolean variable -- true , false"
   ]
  },
  {
   "cell_type": "code",
   "execution_count": 2,
   "id": "2c0e5b83",
   "metadata": {},
   "outputs": [
    {
     "data": {
      "text/plain": [
       "bool"
      ]
     },
     "execution_count": 2,
     "metadata": {},
     "output_type": "execute_result"
    }
   ],
   "source": [
    "type(True)"
   ]
  },
  {
   "cell_type": "code",
   "execution_count": 3,
   "id": "41a25e7a",
   "metadata": {},
   "outputs": [
    {
     "data": {
      "text/plain": [
       "False"
      ]
     },
     "execution_count": 3,
     "metadata": {},
     "output_type": "execute_result"
    }
   ],
   "source": [
    "True and False"
   ]
  },
  {
   "cell_type": "code",
   "execution_count": 4,
   "id": "6f183e57",
   "metadata": {},
   "outputs": [
    {
     "data": {
      "text/plain": [
       "True"
      ]
     },
     "execution_count": 4,
     "metadata": {},
     "output_type": "execute_result"
    }
   ],
   "source": [
    "True or False"
   ]
  },
  {
   "cell_type": "code",
   "execution_count": 6,
   "id": "dc65cf51",
   "metadata": {},
   "outputs": [
    {
     "data": {
      "text/plain": [
       "True"
      ]
     },
     "execution_count": 6,
     "metadata": {},
     "output_type": "execute_result"
    }
   ],
   "source": [
    "not False"
   ]
  },
  {
   "cell_type": "code",
   "execution_count": 8,
   "id": "34221332",
   "metadata": {},
   "outputs": [
    {
     "name": "stdout",
     "output_type": "stream",
     "text": [
      "enter the age 5\n"
     ]
    }
   ],
   "source": [
    "age = int(input(\"enter the age \"))\n",
    "if(age>18 and age<35):\n",
    "    print(\"execution successful\")"
   ]
  },
  {
   "cell_type": "code",
   "execution_count": 9,
   "id": "19bb58c0",
   "metadata": {},
   "outputs": [],
   "source": [
    "#equality operator \n",
    "# is , is not, == , !="
   ]
  },
  {
   "cell_type": "code",
   "execution_count": 10,
   "id": "bcc6b126",
   "metadata": {},
   "outputs": [
    {
     "data": {
      "text/plain": [
       "True"
      ]
     },
     "execution_count": 10,
     "metadata": {},
     "output_type": "execute_result"
    }
   ],
   "source": [
    "a= \"Sahil\"\n",
    "b= \"Sahil\"\n",
    "a==b"
   ]
  },
  {
   "cell_type": "code",
   "execution_count": 11,
   "id": "58b06797",
   "metadata": {},
   "outputs": [
    {
     "name": "stdout",
     "output_type": "stream",
     "text": [
      "enter the age 18\n",
      "You are 18 years of age \n"
     ]
    }
   ],
   "source": [
    "age = int(input(\"enter the age \"))\n",
    "if age==18:\n",
    "    print(\"You are 18 years of age \")\n",
    "else:\n",
    "    print(\"You are not 18\")"
   ]
  },
  {
   "cell_type": "code",
   "execution_count": 12,
   "id": "fd8d72ce",
   "metadata": {},
   "outputs": [
    {
     "data": {
      "text/plain": [
       "2454227344432"
      ]
     },
     "execution_count": 12,
     "metadata": {},
     "output_type": "execute_result"
    }
   ],
   "source": [
    "a= \"Sahil\"\n",
    "id(a)  # It will show us in which memory it will be pointed."
   ]
  },
  {
   "cell_type": "code",
   "execution_count": 13,
   "id": "89f3c2a0",
   "metadata": {},
   "outputs": [],
   "source": [
    "# comparison operator\n",
    "# >,<,=,>=,<="
   ]
  },
  {
   "cell_type": "code",
   "execution_count": 15,
   "id": "437eb179",
   "metadata": {},
   "outputs": [
    {
     "name": "stdout",
     "output_type": "stream",
     "text": [
      "enter the marks60\n",
      "pass\n",
      "Fisrt division\n"
     ]
    }
   ],
   "source": [
    "marks = float(input(\"enter the marks\"))\n",
    "if marks>=35:\n",
    "    print(\"pass\")\n",
    "    if marks>=36 and marks<80:\n",
    "        print(\"Fisrt division\")\n",
    "    else:\n",
    "        print(\"Distinction\")"
   ]
  },
  {
   "cell_type": "markdown",
   "id": "a10536c9",
   "metadata": {},
   "source": [
    "# Python Number Method"
   ]
  },
  {
   "cell_type": "markdown",
   "id": "dd6c7ae0",
   "metadata": {},
   "source": [
    "Signature: abs(x, /)\n",
    "Docstring: Return the absolute value of the argument.\n",
    "Type:      builtin_function_or_method"
   ]
  },
  {
   "cell_type": "code",
   "execution_count": 23,
   "id": "b2eb3aa8",
   "metadata": {},
   "outputs": [
    {
     "name": "stdout",
     "output_type": "stream",
     "text": [
      "The value of a,b and c is 10,10,55.4\n"
     ]
    }
   ],
   "source": [
    "a= abs(10)  # give absolute value\n",
    "b = abs(-10)\n",
    "c = abs(-55.40)\n",
    "print(\"The value of a,b and c is {},{},{}\".format(a,b,c))"
   ]
  },
  {
   "cell_type": "code",
   "execution_count": 24,
   "id": "07fd1ee4",
   "metadata": {},
   "outputs": [],
   "source": [
    "import math"
   ]
  },
  {
   "cell_type": "code",
   "execution_count": 33,
   "id": "aecb7da0",
   "metadata": {},
   "outputs": [
    {
     "data": {
      "text/plain": [
       "45"
      ]
     },
     "execution_count": 33,
     "metadata": {},
     "output_type": "execute_result"
    }
   ],
   "source": [
    "math.ceil(44.5)"
   ]
  },
  {
   "cell_type": "code",
   "execution_count": 26,
   "id": "914307ad",
   "metadata": {},
   "outputs": [
    {
     "data": {
      "text/plain": [
       "45"
      ]
     },
     "execution_count": 26,
     "metadata": {},
     "output_type": "execute_result"
    }
   ],
   "source": [
    "math.ceil(44.7)"
   ]
  },
  {
   "cell_type": "code",
   "execution_count": 27,
   "id": "a148a307",
   "metadata": {},
   "outputs": [
    {
     "data": {
      "text/plain": [
       "45"
      ]
     },
     "execution_count": 27,
     "metadata": {},
     "output_type": "execute_result"
    }
   ],
   "source": [
    "math.ceil(44.3)"
   ]
  },
  {
   "cell_type": "code",
   "execution_count": 28,
   "id": "55fd411d",
   "metadata": {},
   "outputs": [
    {
     "data": {
      "text/plain": [
       "-44"
      ]
     },
     "execution_count": 28,
     "metadata": {},
     "output_type": "execute_result"
    }
   ],
   "source": [
    "math.ceil(-44.6)"
   ]
  },
  {
   "cell_type": "code",
   "execution_count": 29,
   "id": "1c5ac5d4",
   "metadata": {},
   "outputs": [
    {
     "data": {
      "text/plain": [
       "54"
      ]
     },
     "execution_count": 29,
     "metadata": {},
     "output_type": "execute_result"
    }
   ],
   "source": [
    "math.floor(54.6)"
   ]
  },
  {
   "cell_type": "code",
   "execution_count": 30,
   "id": "af9a25ee",
   "metadata": {},
   "outputs": [
    {
     "data": {
      "text/plain": [
       "54"
      ]
     },
     "execution_count": 30,
     "metadata": {},
     "output_type": "execute_result"
    }
   ],
   "source": [
    "math.floor(54.3)"
   ]
  },
  {
   "cell_type": "code",
   "execution_count": 31,
   "id": "64164bd3",
   "metadata": {},
   "outputs": [
    {
     "data": {
      "text/plain": [
       "-55"
      ]
     },
     "execution_count": 31,
     "metadata": {},
     "output_type": "execute_result"
    }
   ],
   "source": [
    "math.floor(-54.4)"
   ]
  },
  {
   "cell_type": "code",
   "execution_count": 34,
   "id": "854d5128",
   "metadata": {},
   "outputs": [
    {
     "data": {
      "text/plain": [
       "22026.465794806718"
      ]
     },
     "execution_count": 34,
     "metadata": {},
     "output_type": "execute_result"
    }
   ],
   "source": [
    "# exponential number\n",
    "math.exp(10)"
   ]
  },
  {
   "cell_type": "code",
   "execution_count": 35,
   "id": "611450ab",
   "metadata": {},
   "outputs": [
    {
     "data": {
      "text/plain": [
       "0.0009118819655545162"
      ]
     },
     "execution_count": 35,
     "metadata": {},
     "output_type": "execute_result"
    }
   ],
   "source": [
    "math.exp(-7)"
   ]
  },
  {
   "cell_type": "code",
   "execution_count": 37,
   "id": "d28b13ab",
   "metadata": {},
   "outputs": [
    {
     "data": {
      "text/plain": [
       "2.302585092994046"
      ]
     },
     "execution_count": 37,
     "metadata": {},
     "output_type": "execute_result"
    }
   ],
   "source": [
    "# log(x)\n",
    "math.log(10)   # It will consider log at base e"
   ]
  },
  {
   "cell_type": "code",
   "execution_count": 38,
   "id": "6a496024",
   "metadata": {},
   "outputs": [
    {
     "data": {
      "text/plain": [
       "1.0"
      ]
     },
     "execution_count": 38,
     "metadata": {},
     "output_type": "execute_result"
    }
   ],
   "source": [
    "math.log10(10) # log10 is consider as base 10"
   ]
  },
  {
   "cell_type": "code",
   "execution_count": 44,
   "id": "4b3c5e8b",
   "metadata": {},
   "outputs": [
    {
     "data": {
      "text/plain": [
       "9999"
      ]
     },
     "execution_count": 44,
     "metadata": {},
     "output_type": "execute_result"
    }
   ],
   "source": [
    "# max\n",
    "max(10,100,1000,9999)"
   ]
  },
  {
   "cell_type": "code",
   "execution_count": 40,
   "id": "b130161f",
   "metadata": {},
   "outputs": [
    {
     "data": {
      "text/plain": [
       "-55"
      ]
     },
     "execution_count": 40,
     "metadata": {},
     "output_type": "execute_result"
    }
   ],
   "source": [
    "min(-55,-44,-33)"
   ]
  },
  {
   "cell_type": "code",
   "execution_count": 41,
   "id": "4f92061e",
   "metadata": {},
   "outputs": [
    {
     "data": {
      "text/plain": [
       "8.0"
      ]
     },
     "execution_count": 41,
     "metadata": {},
     "output_type": "execute_result"
    }
   ],
   "source": [
    "# power\n",
    "math.pow(2,3)"
   ]
  },
  {
   "cell_type": "code",
   "execution_count": 47,
   "id": "86b50253",
   "metadata": {},
   "outputs": [
    {
     "data": {
      "text/plain": [
       "5.0"
      ]
     },
     "execution_count": 47,
     "metadata": {},
     "output_type": "execute_result"
    }
   ],
   "source": [
    "math.sqrt(25)"
   ]
  },
  {
   "cell_type": "markdown",
   "id": "d3eeb0eb",
   "metadata": {},
   "source": [
    "# Trignometric functions"
   ]
  },
  {
   "cell_type": "code",
   "execution_count": 56,
   "id": "0bded489",
   "metadata": {},
   "outputs": [
    {
     "data": {
      "text/plain": [
       "0.8939966636005579"
      ]
     },
     "execution_count": 56,
     "metadata": {},
     "output_type": "execute_result"
    }
   ],
   "source": [
    "import math\n",
    "math.sin(90)"
   ]
  },
  {
   "cell_type": "code",
   "execution_count": 51,
   "id": "d01091a3",
   "metadata": {},
   "outputs": [
    {
     "data": {
      "text/plain": [
       "1.0"
      ]
     },
     "execution_count": 51,
     "metadata": {},
     "output_type": "execute_result"
    }
   ],
   "source": [
    "math.cos(0)"
   ]
  },
  {
   "cell_type": "code",
   "execution_count": 57,
   "id": "99d40d38",
   "metadata": {},
   "outputs": [
    {
     "data": {
      "text/plain": [
       "1.6197751905438615"
      ]
     },
     "execution_count": 57,
     "metadata": {},
     "output_type": "execute_result"
    }
   ],
   "source": [
    "math.tan(45)"
   ]
  },
  {
   "cell_type": "code",
   "execution_count": 59,
   "id": "dacd92ba",
   "metadata": {},
   "outputs": [
    {
     "data": {
      "text/plain": [
       "3.605551275463989"
      ]
     },
     "execution_count": 59,
     "metadata": {},
     "output_type": "execute_result"
    }
   ],
   "source": [
    "#hypot\n",
    "math.hypot(2,3)"
   ]
  },
  {
   "cell_type": "code",
   "execution_count": 62,
   "id": "1565ba9d",
   "metadata": {},
   "outputs": [
    {
     "data": {
      "text/plain": [
       "(0.5, 2.0)"
      ]
     },
     "execution_count": 62,
     "metadata": {},
     "output_type": "execute_result"
    }
   ],
   "source": [
    "math.modf(2.5)"
   ]
  },
  {
   "cell_type": "code",
   "execution_count": 61,
   "id": "f0b5b76a",
   "metadata": {},
   "outputs": [
    {
     "data": {
      "text/plain": [
       "(0.8999999999999999, 3.0)"
      ]
     },
     "execution_count": 61,
     "metadata": {},
     "output_type": "execute_result"
    }
   ],
   "source": [
    "math.modf(3.9)"
   ]
  },
  {
   "cell_type": "markdown",
   "id": "ae99e57d",
   "metadata": {},
   "source": [
    "# LIST\n",
    "A list is a data sturture in python that is a mutable, or changeable, ordered sequence of element. Each element or value in the list is called as item.List is defined in the []"
   ]
  },
  {
   "cell_type": "code",
   "execution_count": 9,
   "id": "1a2967ae",
   "metadata": {},
   "outputs": [
    {
     "name": "stdout",
     "output_type": "stream",
     "text": [
      "<class 'list'>\n",
      "[1, 2, 3, 4, 5]\n",
      "1\n",
      "5\n",
      "[1, 2, 3, 4, 'Sahil']\n"
     ]
    }
   ],
   "source": [
    "lst = [1,2,3,4,5]\n",
    "print(type(lst))\n",
    "print(lst)\n",
    "print(lst[0])\n",
    "print(lst[4])\n",
    "lst[4] = \"Sahil\"\n",
    "print(lst)   # here list is mutable."
   ]
  },
  {
   "cell_type": "code",
   "execution_count": 6,
   "id": "96dd4b3d",
   "metadata": {},
   "outputs": [
    {
     "data": {
      "text/plain": [
       "list"
      ]
     },
     "execution_count": 6,
     "metadata": {},
     "output_type": "execute_result"
    }
   ],
   "source": [
    "type([])"
   ]
  },
  {
   "cell_type": "code",
   "execution_count": 3,
   "id": "f04634ac",
   "metadata": {},
   "outputs": [
    {
     "name": "stdout",
     "output_type": "stream",
     "text": [
      "S\n",
      "Sahil\n"
     ]
    }
   ],
   "source": [
    "str = \"Sahil\"\n",
    "a = str[0]\n",
    "print(a)\n",
    "print(str)"
   ]
  },
  {
   "cell_type": "code",
   "execution_count": 5,
   "id": "57105841",
   "metadata": {},
   "outputs": [
    {
     "ename": "TypeError",
     "evalue": "'str' object does not support item assignment",
     "output_type": "error",
     "traceback": [
      "\u001b[1;31m---------------------------------------------------------------------------\u001b[0m",
      "\u001b[1;31mTypeError\u001b[0m                                 Traceback (most recent call last)",
      "Cell \u001b[1;32mIn[5], line 1\u001b[0m\n\u001b[1;32m----> 1\u001b[0m \u001b[38;5;28;43mstr\u001b[39;49m\u001b[43m[\u001b[49m\u001b[38;5;241;43m2\u001b[39;49m\u001b[43m]\u001b[49m \u001b[38;5;241m=\u001b[39m \u001b[38;5;124m\"\u001b[39m\u001b[38;5;124mj\u001b[39m\u001b[38;5;124m\"\u001b[39m\n\u001b[0;32m      2\u001b[0m \u001b[38;5;28mprint\u001b[39m(\u001b[38;5;28mstr\u001b[39m)\n",
      "\u001b[1;31mTypeError\u001b[0m: 'str' object does not support item assignment"
     ]
    }
   ],
   "source": [
    "# string are immutable.\n",
    "str[2] = \"j\"\n",
    "print(str)"
   ]
  },
  {
   "cell_type": "code",
   "execution_count": 10,
   "id": "d2e46380",
   "metadata": {},
   "outputs": [
    {
     "name": "stdout",
     "output_type": "stream",
     "text": [
      "[1, 2, 3, 4, 5, 6]\n"
     ]
    }
   ],
   "source": [
    "lst1 = list((1,2,3,4,5,6))\n",
    "print(lst1)"
   ]
  },
  {
   "cell_type": "code",
   "execution_count": 12,
   "id": "7672d2a7",
   "metadata": {},
   "outputs": [
    {
     "name": "stdout",
     "output_type": "stream",
     "text": [
      "6\n",
      "6\n"
     ]
    }
   ],
   "source": [
    "a = len(lst1)\n",
    "print(a)\n",
    "print(max(lst1))"
   ]
  },
  {
   "cell_type": "markdown",
   "id": "2e1b7af5",
   "metadata": {},
   "source": [
    "# Append function"
   ]
  },
  {
   "cell_type": "code",
   "execution_count": 28,
   "id": "afdde400",
   "metadata": {},
   "outputs": [
    {
     "name": "stdout",
     "output_type": "stream",
     "text": [
      "[1, 22, 44, 55, 11, 2, 34, 'Sahil', ['Arpit', 'harshit']]\n",
      "['Arpit', 'harshit']\n",
      "harshit\n",
      "Arpit\n",
      "[44, 55, 11, 2, 34, 'Sahil', ['Arpit', 'harshit']]\n",
      "[['Arpit', 'harshit']]\n",
      "[11, 2, 34]\n"
     ]
    }
   ],
   "source": [
    "lst2 = [1,22,44,55,11,2]\n",
    "lst2.append(34)\n",
    "lst2.append(\"Sahil\")\n",
    "lst2.append([\"Arpit\",\"harshit\"])\n",
    "print(lst2)\n",
    "print(lst2[8])\n",
    "print(lst2[8][1])\n",
    "print(lst2[8][0])\n",
    "\n",
    "# Indexing \n",
    "\n",
    "print(lst2[2:])         \n",
    "print(lst2[-1:])\n",
    "print(lst2[4:7])"
   ]
  },
  {
   "cell_type": "code",
   "execution_count": 31,
   "id": "b97239c5",
   "metadata": {},
   "outputs": [
    {
     "name": "stdout",
     "output_type": "stream",
     "text": [
      "['Math', 'Science', 'Chemistry', 'Arpit', 1, 2, 3, 85, 4, 5, 6, 11, 55, 34]\n"
     ]
    }
   ],
   "source": [
    "# insert functions -- insert(position, value)\n",
    "lst3 = [\"Math\",\"Science\",\"Chemistry\", 1,2,3,4,5,6,11,55,34]\n",
    "lst3.insert(3,\"Arpit\")\n",
    "lst3.insert(7,85)          # It will insert the value on a particular index.\n",
    "print(lst3)"
   ]
  },
  {
   "cell_type": "code",
   "execution_count": 32,
   "id": "28efee2c",
   "metadata": {},
   "outputs": [
    {
     "name": "stdout",
     "output_type": "stream",
     "text": [
      "[1, 2, 3, 44, 55, 66, 77, 85, 87]\n"
     ]
    }
   ],
   "source": [
    "# extend method::- It will baically extend the same list without creating the nested list\n",
    "lst4 = [1,2,3,44,55,66,77]\n",
    "lst4.extend([85,87])\n",
    "print(lst4)"
   ]
  },
  {
   "cell_type": "code",
   "execution_count": 34,
   "id": "722dbb07",
   "metadata": {},
   "outputs": [
    {
     "name": "stdout",
     "output_type": "stream",
     "text": [
      "[1, 2, 3, 4, 5, 6, 1, 2, 3, 4, 5, 6, 1, 2, 3, 4, 5, 6]\n",
      "21\n"
     ]
    }
   ],
   "source": [
    "lst5 = [1,2,3,4,5,6]\n",
    "print(lst5*3)         # it will append the same lst5 3 times\n",
    "print(sum(lst5))"
   ]
  },
  {
   "cell_type": "code",
   "execution_count": 37,
   "id": "55cf6bfc",
   "metadata": {},
   "outputs": [
    {
     "name": "stdout",
     "output_type": "stream",
     "text": [
      "[1, 2, 4, 6]\n"
     ]
    }
   ],
   "source": [
    "# pop: It will pop out the last element. If we provide specific index it will pop out the that index value and update lst\n",
    "lst6 = [1,2,4,5,6,7]\n",
    "lst6.pop()\n",
    "lst6.pop(3)\n",
    "print(lst6)"
   ]
  },
  {
   "cell_type": "code",
   "execution_count": 43,
   "id": "6581fb3c",
   "metadata": {},
   "outputs": [
    {
     "name": "stdout",
     "output_type": "stream",
     "text": [
      "5\n",
      "2\n"
     ]
    }
   ],
   "source": [
    "# count : It will calculate the total occurance of element in the list.\n",
    "lst7 = [1,1,2,2,1,1,1,3,4,5]\n",
    "print(lst7.count(1))\n",
    "print(lst7.count(2))"
   ]
  },
  {
   "cell_type": "markdown",
   "id": "c240e8ed",
   "metadata": {},
   "source": [
    "# Sets\n",
    "A set is an unordered collection of datatype that is iterable , mutable and has no duplicate element.Python's set class represent the mathematical notion of the set. This is based on the data sturcture which is know as hash table."
   ]
  },
  {
   "cell_type": "code",
   "execution_count": 1,
   "id": "76e47008",
   "metadata": {},
   "outputs": [
    {
     "name": "stdout",
     "output_type": "stream",
     "text": [
      "<class 'dict'>\n",
      "<class 'set'>\n"
     ]
    }
   ],
   "source": [
    "print(type({}))       # It will take the value in the form of key value pair.\n",
    "print(type({1,2,3}))  # It will take the value independently."
   ]
  },
  {
   "cell_type": "code",
   "execution_count": 56,
   "id": "8eeada12",
   "metadata": {},
   "outputs": [
    {
     "name": "stdout",
     "output_type": "stream",
     "text": [
      "{1, 2, 3, 4, 5}\n"
     ]
    }
   ],
   "source": [
    "print(set([1,2,3,4,5,5]))    # It will not take any duplicate value."
   ]
  },
  {
   "cell_type": "code",
   "execution_count": 57,
   "id": "18d11a4c",
   "metadata": {},
   "outputs": [
    {
     "name": "stdout",
     "output_type": "stream",
     "text": [
      "{'Batman', 'hitman', 'Ironman'}\n",
      "<class 'set'>\n"
     ]
    }
   ],
   "source": [
    "set_var= {\"hitman\",\"Ironman\",\"Batman\"}\n",
    "print(set_var)\n",
    "print(type(set_var))\n",
    "# we can'nt get the data from set through indexing. By iterating the complete set we will get the data from set. \n",
    "# we can'nt assign the item in the set. "
   ]
  },
  {
   "cell_type": "code",
   "execution_count": 51,
   "id": "ae290692",
   "metadata": {},
   "outputs": [
    {
     "name": "stdout",
     "output_type": "stream",
     "text": [
      "Batman\n",
      "hitman\n",
      "Ironman\n"
     ]
    }
   ],
   "source": [
    "for i in set_var:\n",
    "    print(i)"
   ]
  },
  {
   "cell_type": "code",
   "execution_count": 67,
   "id": "b00c84f5",
   "metadata": {},
   "outputs": [
    {
     "name": "stdout",
     "output_type": "stream",
     "text": [
      "{'Sahil', 'Arpit', 'Harshit'}\n",
      "{'Gargi', 'Sahil', 'Arpit', 'Harshit', 'Bhavna'}\n"
     ]
    }
   ],
   "source": [
    "set1 = set([\"Sahil\", \"Arpit\",\"Harshit\"])\n",
    "print(set1)\n",
    "set1.add(\"Gargi\")\n",
    "set1.add(\"Bhavna\")\n",
    "print(set1)"
   ]
  },
  {
   "cell_type": "code",
   "execution_count": 72,
   "id": "46b15825",
   "metadata": {},
   "outputs": [
    {
     "name": "stdout",
     "output_type": "stream",
     "text": [
      "{1, 2, 3, 4, 6}\n"
     ]
    }
   ],
   "source": [
    "set_2 = set([4,2,3,1,6])\n",
    "print(set_2)"
   ]
  },
  {
   "cell_type": "code",
   "execution_count": 124,
   "id": "3454897d",
   "metadata": {},
   "outputs": [
    {
     "name": "stdout",
     "output_type": "stream",
     "text": [
      "{33, 34, 22, 55, 11, 44}\n"
     ]
    }
   ],
   "source": [
    "set_3 = set({22,33,11,55,44,34})\n",
    "print(set_3)"
   ]
  },
  {
   "cell_type": "code",
   "execution_count": 110,
   "id": "b18304b3",
   "metadata": {},
   "outputs": [
    {
     "name": "stdout",
     "output_type": "stream",
     "text": [
      "{'Sahil', 'Arpit', 'Harshit', 'Aditi'}\n"
     ]
    }
   ],
   "source": [
    "set_4 = {\"Aditi\",\"Arpit\",\"Harshit\",\"Sahil\"}\n",
    "print(set_4)"
   ]
  },
  {
   "cell_type": "code",
   "execution_count": 112,
   "id": "a08dd395",
   "metadata": {},
   "outputs": [
    {
     "data": {
      "text/plain": [
       "{'Arpit', 'Harshit', 'Sahil'}"
      ]
     },
     "execution_count": 112,
     "metadata": {},
     "output_type": "execute_result"
    }
   ],
   "source": [
    "set_5 = {\"Arpit\",\"Harshit\",\"Sahil\"}\n",
    "set_4.intersection(set_5)"
   ]
  },
  {
   "cell_type": "code",
   "execution_count": 117,
   "id": "ef1fe3a3",
   "metadata": {},
   "outputs": [
    {
     "data": {
      "text/plain": [
       "{'Aditi'}"
      ]
     },
     "execution_count": 117,
     "metadata": {},
     "output_type": "execute_result"
    }
   ],
   "source": [
    "set_4.difference(set_5)"
   ]
  },
  {
   "cell_type": "code",
   "execution_count": 120,
   "id": "a008548a",
   "metadata": {},
   "outputs": [
    {
     "name": "stdout",
     "output_type": "stream",
     "text": [
      "{'Aditi'}\n"
     ]
    }
   ],
   "source": [
    "set_4.difference_update(set_5)\n",
    "print(set_4)"
   ]
  },
  {
   "cell_type": "markdown",
   "id": "f0d82e4e",
   "metadata": {},
   "source": [
    "# Dictionaries\n",
    "A dict is a collection which is unordered,changeable and indexed. In python dict are written in curry baraces, and they have a key value pairs."
   ]
  },
  {
   "cell_type": "code",
   "execution_count": 126,
   "id": "65affa74",
   "metadata": {},
   "outputs": [
    {
     "name": "stdout",
     "output_type": "stream",
     "text": [
      "<class 'dict'>\n"
     ]
    }
   ],
   "source": [
    "print(type(dict()))"
   ]
  },
  {
   "cell_type": "code",
   "execution_count": 127,
   "id": "c3f4f0df",
   "metadata": {},
   "outputs": [
    {
     "data": {
      "text/plain": [
       "{'Name': 'Sahil', 'age': 31, 'Last_name': 'Sharma'}"
      ]
     },
     "execution_count": 127,
     "metadata": {},
     "output_type": "execute_result"
    }
   ],
   "source": [
    "dict(Name=\"Sahil\",age=31,Last_name=\"Sharma\")"
   ]
  },
  {
   "cell_type": "code",
   "execution_count": 133,
   "id": "6d72e7cc",
   "metadata": {},
   "outputs": [
    {
     "name": "stdout",
     "output_type": "stream",
     "text": [
      "{'Car1': 'Audi', 'Car2': 'BMW', 'Car3': 'Swift'}\n"
     ]
    }
   ],
   "source": [
    "my_car= {\"Car1\":\"Audi\",\"Car2\":\"BMW\",\"Car3\":\"Swift\"}\n",
    "print(my_car)"
   ]
  },
  {
   "cell_type": "code",
   "execution_count": 137,
   "id": "207098ca",
   "metadata": {},
   "outputs": [
    {
     "name": "stdout",
     "output_type": "stream",
     "text": [
      "Audi\n",
      "BMW\n"
     ]
    }
   ],
   "source": [
    "print(my_car[\"Car1\"])\n",
    "print(my_car[\"Car2\"])"
   ]
  },
  {
   "cell_type": "code",
   "execution_count": 138,
   "id": "83a7f8fa",
   "metadata": {},
   "outputs": [
    {
     "data": {
      "text/plain": [
       "dict_items([('Car1', 'Audi'), ('Car2', 'BMW'), ('Car3', 'Swift')])"
      ]
     },
     "execution_count": 138,
     "metadata": {},
     "output_type": "execute_result"
    }
   ],
   "source": [
    "my_car.items()"
   ]
  },
  {
   "cell_type": "code",
   "execution_count": 139,
   "id": "96df7032",
   "metadata": {},
   "outputs": [
    {
     "data": {
      "text/plain": [
       "dict_keys(['Car1', 'Car2', 'Car3'])"
      ]
     },
     "execution_count": 139,
     "metadata": {},
     "output_type": "execute_result"
    }
   ],
   "source": [
    "my_car.keys()"
   ]
  },
  {
   "cell_type": "code",
   "execution_count": 140,
   "id": "7c33c0a9",
   "metadata": {},
   "outputs": [
    {
     "data": {
      "text/plain": [
       "dict_values(['Audi', 'BMW', 'Swift'])"
      ]
     },
     "execution_count": 140,
     "metadata": {},
     "output_type": "execute_result"
    }
   ],
   "source": [
    "my_car.values()"
   ]
  },
  {
   "cell_type": "code",
   "execution_count": 146,
   "id": "fb264e62",
   "metadata": {},
   "outputs": [
    {
     "name": "stdout",
     "output_type": "stream",
     "text": [
      "Car1\n",
      "Car2\n",
      "Car3\n"
     ]
    }
   ],
   "source": [
    "for x in my_car:\n",
    "    print(x)         # by default it will print the key"
   ]
  },
  {
   "cell_type": "code",
   "execution_count": 147,
   "id": "ba865528",
   "metadata": {},
   "outputs": [
    {
     "name": "stdout",
     "output_type": "stream",
     "text": [
      "Audi\n",
      "BMW\n",
      "Swift\n"
     ]
    }
   ],
   "source": [
    "for x in my_car.values():       # It will print the values in the dict.\n",
    "    print(x)"
   ]
  },
  {
   "cell_type": "code",
   "execution_count": 148,
   "id": "2b9647a3",
   "metadata": {},
   "outputs": [
    {
     "name": "stdout",
     "output_type": "stream",
     "text": [
      "('Car1', 'Audi')\n",
      "('Car2', 'BMW')\n",
      "('Car3', 'Swift')\n"
     ]
    }
   ],
   "source": [
    "for x in my_car.items():\n",
    "    print(x)"
   ]
  },
  {
   "cell_type": "code",
   "execution_count": 154,
   "id": "3cbd1bbc",
   "metadata": {},
   "outputs": [],
   "source": [
    "my_car[\"Car4\"]=\"Ambasdoor\""
   ]
  },
  {
   "cell_type": "code",
   "execution_count": 153,
   "id": "91f76eb6",
   "metadata": {},
   "outputs": [
    {
     "name": "stdout",
     "output_type": "stream",
     "text": [
      "{'Car1': 'Audi', 'Car2': 'BMW', 'Car3': 'Swift', 4: 'Ambasdoor', 'Car4': 'Ambasdoor'}\n"
     ]
    }
   ],
   "source": [
    "print(my_car)"
   ]
  },
  {
   "cell_type": "code",
   "execution_count": 155,
   "id": "5e24ad19",
   "metadata": {},
   "outputs": [
    {
     "data": {
      "text/plain": [
       "'Ambasdoor'"
      ]
     },
     "execution_count": 155,
     "metadata": {},
     "output_type": "execute_result"
    }
   ],
   "source": [
    "my_car.pop(4)"
   ]
  },
  {
   "cell_type": "code",
   "execution_count": 156,
   "id": "bd34cd0b",
   "metadata": {},
   "outputs": [
    {
     "name": "stdout",
     "output_type": "stream",
     "text": [
      "{'Car1': 'Audi', 'Car2': 'BMW', 'Car3': 'Swift', 'Car4': 'Ambasdoor'}\n"
     ]
    }
   ],
   "source": [
    "print(my_car)"
   ]
  },
  {
   "cell_type": "markdown",
   "id": "3f566d2c",
   "metadata": {},
   "source": [
    "# Tuples\n"
   ]
  },
  {
   "cell_type": "code",
   "execution_count": 158,
   "id": "a6701e5b",
   "metadata": {},
   "outputs": [
    {
     "name": "stdout",
     "output_type": "stream",
     "text": [
      "<class 'tuple'>\n"
     ]
    }
   ],
   "source": [
    "tuples = tuple()\n",
    "print(type(tuples))"
   ]
  },
  {
   "cell_type": "code",
   "execution_count": 162,
   "id": "c6d3a73f",
   "metadata": {},
   "outputs": [
    {
     "name": "stdout",
     "output_type": "stream",
     "text": [
      "('Sahil', 'Harshit', 'Sharma', 'Sharma')\n"
     ]
    }
   ],
   "source": [
    "my_tuple = (\"Sahil\",\"Harshit\",\"Sharma\",\"Sharma\")\n",
    "print(my_tuple)"
   ]
  },
  {
   "cell_type": "code",
   "execution_count": 163,
   "id": "4174e1b0",
   "metadata": {},
   "outputs": [
    {
     "data": {
      "text/plain": [
       "2"
      ]
     },
     "execution_count": 163,
     "metadata": {},
     "output_type": "execute_result"
    }
   ],
   "source": [
    "my_tuple.count(\"Sharma\")"
   ]
  },
  {
   "cell_type": "code",
   "execution_count": null,
   "id": "7de416c0",
   "metadata": {},
   "outputs": [],
   "source": []
  }
 ],
 "metadata": {
  "kernelspec": {
   "display_name": "Python 3 (ipykernel)",
   "language": "python",
   "name": "python3"
  },
  "language_info": {
   "codemirror_mode": {
    "name": "ipython",
    "version": 3
   },
   "file_extension": ".py",
   "mimetype": "text/x-python",
   "name": "python",
   "nbconvert_exporter": "python",
   "pygments_lexer": "ipython3",
   "version": "3.11.4"
  }
 },
 "nbformat": 4,
 "nbformat_minor": 5
}
