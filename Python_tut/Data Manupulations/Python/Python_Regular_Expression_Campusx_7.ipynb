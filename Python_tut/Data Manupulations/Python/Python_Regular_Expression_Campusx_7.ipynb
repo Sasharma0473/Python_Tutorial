{
 "cells": [
  {
   "cell_type": "markdown",
   "id": "eb5f8015",
   "metadata": {},
   "source": [
    "##### Practice Regular expression on \n",
    "    1). Hacker Rank\n",
    "    2). LeetCode\n",
    "    3). HackerEarth"
   ]
  },
  {
   "cell_type": "markdown",
   "id": "58962930",
   "metadata": {},
   "source": [
    "##### Concepts of Regular Expression\n",
    "    1. Intro\n",
    "    2. re Module\n",
    "    3. Searching Operations\n",
    "    4. Meta Characters\n",
    "    5. Character Sets\n",
    "    6. Quantifiers\n",
    "    7. Grouping\n",
    "    8. String Modifications\n",
    "    9. Look-ahead and Look-behind Assertions\n",
    "    10. Flags\n",
    "    11. Practice Exercises"
   ]
  },
  {
   "cell_type": "markdown",
   "id": "d7b209cf",
   "metadata": {},
   "source": [
    "##### What are Regular Expressions?\n",
    "    1). Regular expressions, often abbreviated as regex, are sequences of characters that define\n",
    "        text patterns.\n",
    "    2). They can be used to represent any sort of text data as a pattern.\n",
    "    3). Regular expressions are powerful tools in programming and text processing, and they are\n",
    "        supported by many programming languages, including Python, JavaScript, Perl, and others\n",
    "\n",
    "##### Why Regular Expressions?\n",
    "    • Text Searching (find operations)\n",
    "    • Text Replacement (search & find operations)\n",
    "    • String Input Validation (emails, phone numbers, address, etc.)\n",
    "    • Parsing text from formatted data (HTML, log files, etc.)\n",
    "    \n",
    "##### What are Raw Strings?\n",
    "    • In python, we can denote a string as a 'raw string' by prefixing a regular string with 'r'\n",
    "    • A raw string treats every character as it is, including the escape characters\n",
    "    \n"
   ]
  },
  {
   "cell_type": "markdown",
   "id": "8295575d",
   "metadata": {},
   "source": [
    "##### re Module\n",
    "\n",
    "    1). This is a built-in module in Python that supports the usage of regular expressions.\n",
    "    2). Provides various functions for defining and using regular expressions for convenient\n",
    "        handling of textual data.\n",
    "    3). Involves working with regex objects for defining patterns and parsing results.\n",
    "    \n",
    "##### Most commonly used functions:\n",
    "    • compile - converts a pattern into a regular expression object, memory-efficient when patterns are to be reused.\n",
    "    • match - It is used for Searching in broad prespective.\n",
    "    • search - It is used for Searching in broad prespective.\n",
    "    • finditer - It is used for Searching in broad prespective.\n",
    "    • findall - It is used for Searching in broad prespective.\n",
    "    • sub - It is used for Search and replace.\n",
    "    • split - It is used for splitting the string.\n"
   ]
  },
  {
   "cell_type": "markdown",
   "id": "6b0fee24",
   "metadata": {},
   "source": [
    "##### Searching Operations\n",
    "\n",
    "    The re module provides 4 functions to perform searching operations over a string:\n",
    "    \n",
    "    1). Match: - Search for substring at the beginning of the string. and Return the match object only if its found.\n",
    "    \n",
    "    2). Search: - It will search for pattern anywhere in the string. and return only the first occurnace as a match object.\n",
    "    \n",
    "    3). findall: - It will search for all the patterns in the string. Return the list of all the substring found.\n",
    "    \n",
    "    4). finditer: - It will search for all the patterns in the string. and return the iterable \n",
    "                    of match object of all substring."
   ]
  },
  {
   "cell_type": "markdown",
   "id": "d5178e7b",
   "metadata": {},
   "source": [
    "# Match Functions"
   ]
  },
  {
   "cell_type": "code",
   "execution_count": null,
   "id": "23035d59",
   "metadata": {},
   "outputs": [],
   "source": [
    "import re"
   ]
  },
  {
   "cell_type": "code",
   "execution_count": null,
   "id": "3f5fbee9",
   "metadata": {},
   "outputs": [],
   "source": [
    "print(\"hello\\nWorld\") # this is a simple string which is considered \\n and give the result in the new lines."
   ]
  },
  {
   "cell_type": "code",
   "execution_count": null,
   "id": "9e643d26",
   "metadata": {},
   "outputs": [],
   "source": [
    "print(r\"Hello\\nWorld\") # this prefix r represent that the string is the raw string. It will consider each and every word."
   ]
  },
  {
   "cell_type": "code",
   "execution_count": null,
   "id": "04e8222f",
   "metadata": {},
   "outputs": [],
   "source": [
    "test_string = '123abc456789abc123ABC'\n",
    "pattern = re.compile(r'abc')"
   ]
  },
  {
   "cell_type": "code",
   "execution_count": null,
   "id": "2d4b088e",
   "metadata": {},
   "outputs": [],
   "source": [
    "# It will search the pattern in the test string that whether the pattern is in the beginning of the string or not.\n",
    "m1 = re.match(pattern,test_string)\n",
    "print(m1)   "
   ]
  },
  {
   "cell_type": "code",
   "execution_count": null,
   "id": "9e55a45b",
   "metadata": {},
   "outputs": [],
   "source": [
    "test_string = '123abc456789abc123ABC'\n",
    "pattern1 = re.compile(r'123')\n",
    "m1 = re.match(pattern1,test_string)\n",
    "print(m1)   "
   ]
  },
  {
   "cell_type": "code",
   "execution_count": null,
   "id": "3398f00c",
   "metadata": {},
   "outputs": [],
   "source": [
    "# It will retun the span as a tuple because of Immutability, Memory Efficiency, Performance.\n",
    "m1.span()"
   ]
  },
  {
   "cell_type": "code",
   "execution_count": null,
   "id": "374598da",
   "metadata": {},
   "outputs": [],
   "source": [
    "start_index, end_index = m1.span() # span() method is used to give the starting index and \n",
    "                                    # ending indexing of matching string in the form of tuple.\n",
    "test_string[start_index:end_index]"
   ]
  },
  {
   "cell_type": "code",
   "execution_count": null,
   "id": "40d13002",
   "metadata": {},
   "outputs": [],
   "source": [
    "m1.start()  # will show you start index"
   ]
  },
  {
   "cell_type": "code",
   "execution_count": null,
   "id": "f467545c",
   "metadata": {},
   "outputs": [],
   "source": [
    "m1.end() # will show you end index"
   ]
  },
  {
   "cell_type": "code",
   "execution_count": null,
   "id": "42bd8660",
   "metadata": {},
   "outputs": [],
   "source": [
    "m1.group()     # will show the extact pattern which is used for searching in particular string."
   ]
  },
  {
   "cell_type": "markdown",
   "id": "1d93cdc1",
   "metadata": {},
   "source": [
    "# Search Functions"
   ]
  },
  {
   "cell_type": "code",
   "execution_count": null,
   "id": "45ac800b",
   "metadata": {},
   "outputs": [],
   "source": [
    "pat1 = re.compile(r'abc')\n",
    "text_string1 = '123abc456789abc123ABC'"
   ]
  },
  {
   "cell_type": "code",
   "execution_count": null,
   "id": "322c120c",
   "metadata": {},
   "outputs": [],
   "source": [
    "search1 = re.search(pat1,text_string1)"
   ]
  },
  {
   "cell_type": "code",
   "execution_count": null,
   "id": "b5e27fbe",
   "metadata": {},
   "outputs": [],
   "source": [
    "print(search1)"
   ]
  },
  {
   "cell_type": "code",
   "execution_count": null,
   "id": "a90d049d",
   "metadata": {},
   "outputs": [],
   "source": [
    "search1.group()"
   ]
  },
  {
   "cell_type": "code",
   "execution_count": null,
   "id": "b8b91850",
   "metadata": {},
   "outputs": [],
   "source": [
    "start_index1, end_index1 = search1.span() # span() method is used to give the starting index and \n",
    "                                            # ending indexing of matching string in the form of tuple.\n",
    "text_string1[start_index1:end_index1]"
   ]
  },
  {
   "cell_type": "markdown",
   "id": "47fca7ee",
   "metadata": {},
   "source": [
    "# Findall Functions"
   ]
  },
  {
   "cell_type": "code",
   "execution_count": null,
   "id": "330d469c",
   "metadata": {},
   "outputs": [],
   "source": [
    "pat2 = re.compile(r'abc')\n",
    "text_string2 = '123abc456789abc123ABC'"
   ]
  },
  {
   "cell_type": "code",
   "execution_count": null,
   "id": "e7f38d5d",
   "metadata": {},
   "outputs": [],
   "source": [
    "find1 = re.findall(pat2,text_string2)"
   ]
  },
  {
   "cell_type": "code",
   "execution_count": null,
   "id": "919007c6",
   "metadata": {},
   "outputs": [],
   "source": [
    "print(find1)"
   ]
  },
  {
   "cell_type": "code",
   "execution_count": null,
   "id": "b127a70e",
   "metadata": {},
   "outputs": [],
   "source": [
    "# findall doesn’t return a match object, there’s no group() method to call on the results.\n",
    "# find1.group()"
   ]
  },
  {
   "cell_type": "markdown",
   "id": "5aa8a622",
   "metadata": {},
   "source": [
    "# finditer function"
   ]
  },
  {
   "cell_type": "code",
   "execution_count": null,
   "id": "bdf56276",
   "metadata": {},
   "outputs": [],
   "source": [
    "pat3 = re.compile(r'abc')\n",
    "text_string3 = '123abc456789abc123ABC'"
   ]
  },
  {
   "cell_type": "code",
   "execution_count": null,
   "id": "40fe7d4a",
   "metadata": {},
   "outputs": [],
   "source": [
    "find_iter1 = re.finditer(pat3,text_string3)\n",
    "print(find_iter1)"
   ]
  },
  {
   "cell_type": "code",
   "execution_count": null,
   "id": "62c7417a",
   "metadata": {},
   "outputs": [],
   "source": [
    "for match in find_iter1:\n",
    "    print(match)"
   ]
  },
  {
   "cell_type": "markdown",
   "id": "67f5ca19",
   "metadata": {},
   "source": [
    "### List vs Iterator\n",
    "##### List \n",
    "    An ordered mutable collection of items. Mutable, indexable, All element stored in memory.\n",
    "    Can be memory intensive for large list.\n",
    "    \n",
    "##### Iterator\n",
    "    An object representing stream of data, returning one element at a time.Not necessarly ordered, immutable , \n",
    "    non- indexable, element generated on demand. More memory efficient due to on the demand generation.\n",
    "    \n",
    "    "
   ]
  },
  {
   "cell_type": "markdown",
   "id": "aa5c2e67",
   "metadata": {},
   "source": [
    "### Meta Characters\n",
    "    1). These are special characters, with each one having a unique meaning in the\n",
    "        context of string matching\n",
    "    \n",
    "    2). Help in creating complex patterns conveniently with less code\n",
    "    \n",
    "    These are the different character we used for complex string matching pattern.\n",
    "    \n",
    "    .    - Any character (except newline character)\n",
    "    ^    - Beginning of a string\n",
    "    $    - Ending of a string\n",
    "    *    - Zero or more occurrences\n",
    "    +    - One or more occurrences\n",
    "    {}   - Exactly the specified number of occurrences\n",
    "    []   - A set of characters\n",
    "    \\    - Signals a special sequence (can also be used to escape special characters)\n",
    "    |    - Either Or\n",
    "    ()   - Capture and group"
   ]
  },
  {
   "cell_type": "markdown",
   "id": "ca8414f6",
   "metadata": {},
   "source": [
    "# DOT"
   ]
  },
  {
   "cell_type": "code",
   "execution_count": null,
   "id": "6b1fb636",
   "metadata": {},
   "outputs": [],
   "source": [
    "tst_str_1 = \"123abc.456789abc123defGHI.ABC \\n xyz345WXYZ\"\n",
    "print(tst_str_1)"
   ]
  },
  {
   "cell_type": "code",
   "execution_count": null,
   "id": "4f3a71e5",
   "metadata": {},
   "outputs": [],
   "source": [
    "patrn1 = re.compile('.')"
   ]
  },
  {
   "cell_type": "code",
   "execution_count": null,
   "id": "f8173b0a",
   "metadata": {},
   "outputs": [],
   "source": [
    "new_match = re.finditer(patrn1,tst_str_1)\n",
    "for i in new_match:\n",
    "    print(i)"
   ]
  },
  {
   "cell_type": "code",
   "execution_count": null,
   "id": "d54e80c9",
   "metadata": {},
   "outputs": [],
   "source": [
    "tst_str_2 = \"The cat sat on the mat with a bat and a hat.\""
   ]
  },
  {
   "cell_type": "code",
   "execution_count": null,
   "id": "faee6705",
   "metadata": {},
   "outputs": [],
   "source": [
    "new_match1 = re.finditer(patrn1,tst_str_2)\n",
    "for i in new_match1:\n",
    "    print(i)"
   ]
  },
  {
   "cell_type": "code",
   "execution_count": null,
   "id": "edd38dcd",
   "metadata": {},
   "outputs": [],
   "source": [
    "tst_str_3 = \"The cat sat on the mat with a bat and a hat. $at, 8at, at.\""
   ]
  },
  {
   "cell_type": "code",
   "execution_count": null,
   "id": "971f18f1",
   "metadata": {
    "scrolled": false
   },
   "outputs": [],
   "source": [
    "new_match2 = re.finditer(patrn1,tst_str_3)\n",
    "for i in new_match2:\n",
    "    print(i)"
   ]
  },
  {
   "cell_type": "markdown",
   "id": "c3ac5f23",
   "metadata": {},
   "source": [
    "# ^ (Carat Symbol)\n",
    "\n",
    "    Match the character which is present in the starting of the string."
   ]
  },
  {
   "cell_type": "code",
   "execution_count": null,
   "id": "2305811f",
   "metadata": {},
   "outputs": [],
   "source": [
    "text = \"\"\"Hello World!\n",
    "This is a test.\n",
    "Hello again!\n",
    "Python is fun.\n",
    "Hello Python\"\"\"\n",
    "\n",
    "patrn_2 = 'Hello'"
   ]
  },
  {
   "cell_type": "code",
   "execution_count": null,
   "id": "8e3512e7",
   "metadata": {},
   "outputs": [],
   "source": [
    "new_match3 = re.finditer(patrn_2,text)\n",
    "for i in new_match3:\n",
    "    print(i)"
   ]
  },
  {
   "cell_type": "code",
   "execution_count": null,
   "id": "b0d120b8",
   "metadata": {},
   "outputs": [],
   "source": [
    "text1 = \"\"\"Hello World!\n",
    "This is a test.\n",
    "Hello again!\n",
    "Python is fun.\n",
    "Hello Python\"\"\"\n",
    "\n",
    "patrn_3 = '^Hello'"
   ]
  },
  {
   "cell_type": "code",
   "execution_count": null,
   "id": "202d0df8",
   "metadata": {},
   "outputs": [],
   "source": [
    "new_match4 = re.finditer(patrn_3,text1)\n",
    "for i in new_match4:\n",
    "    print(i)"
   ]
  },
  {
   "cell_type": "markdown",
   "id": "2636d7b5",
   "metadata": {},
   "source": [
    "# $ Symbol\n",
    "    Match the charcater which is in the ending of the string"
   ]
  },
  {
   "cell_type": "code",
   "execution_count": null,
   "id": "7be83a43",
   "metadata": {},
   "outputs": [],
   "source": [
    "text5 = \"\"\"Hello World!\n",
    "This is a test.\n",
    "Hello again!\n",
    "Python is fun.\n",
    "Hello Python\"\"\"\n",
    "\n",
    "patrn_5 = 'Python'"
   ]
  },
  {
   "cell_type": "code",
   "execution_count": null,
   "id": "95bdf592",
   "metadata": {},
   "outputs": [],
   "source": [
    "new_match3 = re.finditer(patrn_5,text5)\n",
    "for i in new_match3:\n",
    "    print(i)"
   ]
  },
  {
   "cell_type": "code",
   "execution_count": null,
   "id": "2c6707e3",
   "metadata": {},
   "outputs": [],
   "source": [
    "text6 = \"\"\"Hello World!\n",
    "This is a test.\n",
    "Hello again!\n",
    "Python is fun.\n",
    "Hello Python\"\"\"\n",
    "\n",
    "patrn6 = 'Python$'"
   ]
  },
  {
   "cell_type": "code",
   "execution_count": null,
   "id": "da9e6568",
   "metadata": {},
   "outputs": [],
   "source": [
    "new_match3 = re.finditer(patrn6,text6)\n",
    "for i in new_match3:\n",
    "    print(i)"
   ]
  },
  {
   "cell_type": "markdown",
   "id": "c140fa7d",
   "metadata": {},
   "source": [
    "### character Set\n",
    "\n",
    "    A character set in regular expressions refers to a combination of characters that can be used complex and\n",
    "    flexible pattern matching.\n",
    "    \n",
    "    Typically, they are defined using square brackets [] and allow you to match any one of the characters within \n",
    "    the brackets.\n",
    "    \n",
    "    Character sets can be user-defined as well as pre-defined.\n",
    "    \n",
    "#### Custom Character Sets: user-defined\n",
    "    \n",
    "    1). Includes a bunch of characters specified within square brackets []\n",
    "    2). The complexity of such sets is only limited by the user's requirement\n",
    "    3). By default, any single character from the specified set will be matched. \n",
    "        However, this behaviour can be modified to match an arbitrary number of characters as well.\n",
    "        \n",
    "#### Pre-defined Character Sets: Character Classes (pre-defined)\n",
    "\n",
    "    These are special characters followed by a '\\'.\n",
    "    \n",
    "    ○ Each set holds a unique meaning and is used for matching a particular set of characters\n",
    "    ○ These sets provide a short-hand for matching common types of characters\n",
    "    \n",
    "    \\d: Matches any digit; equivalent to [0-9]\n",
    "    \\D: Matches any non-digit character; equivalent to [^0-9]\n",
    "    \\s: Matches any whitespace character (space, tab, newline)\n",
    "    \\S: Matches any non-whitespace character\n",
    "    \\w: Matches any alphanumeric character; equivalent to [a-zA-Z0-9_]\n",
    "    \\W: Matches any non-alphanumeric character; equivalent to [^a-zA-Z0-9_]\n",
    "    \\b: Matches any whitespace or non-alphanumeric character before or after character(s) (useful \n",
    "        for identifying individual words in a string)\n",
    "    \\B: Negation of \\b\n"
   ]
  },
  {
   "cell_type": "markdown",
   "id": "c09f48ac",
   "metadata": {},
   "source": [
    "### 5.1 Custom Character Sets"
   ]
  },
  {
   "cell_type": "code",
   "execution_count": null,
   "id": "7433d2f6",
   "metadata": {},
   "outputs": [],
   "source": [
    "import re"
   ]
  },
  {
   "cell_type": "code",
   "execution_count": null,
   "id": "daac1c6d",
   "metadata": {},
   "outputs": [],
   "source": [
    "text10 = \"123abc.4567XYZ$89abc123  def%GHIxyz.ABC#i.\"\n",
    "pat7 = re.compile(r\"[aeiou]\")"
   ]
  },
  {
   "cell_type": "code",
   "execution_count": null,
   "id": "1abd2a9d",
   "metadata": {},
   "outputs": [],
   "source": [
    "print(text10)"
   ]
  },
  {
   "cell_type": "code",
   "execution_count": null,
   "id": "6dc010d6",
   "metadata": {
    "scrolled": true
   },
   "outputs": [],
   "source": [
    "char1 = re.finditer(pat7,text10)\n",
    "for i in char1:\n",
    "    print(i)"
   ]
  },
  {
   "cell_type": "code",
   "execution_count": null,
   "id": "7851f7b9",
   "metadata": {},
   "outputs": [],
   "source": [
    "line1 = \"123abc.4567XYZ$89abc123  def%GHIxyz.ABC#i.\"\n",
    "patt1 = re.compile(r\"[aeiouAEIOU]\")\n",
    "\n",
    "char1 = re.finditer(patt1,line1)\n",
    "for i in char1:\n",
    "    print(i)"
   ]
  },
  {
   "cell_type": "code",
   "execution_count": null,
   "id": "3f9ab24b",
   "metadata": {},
   "outputs": [],
   "source": [
    "line2 = \"123abc.4567XYZ$89abc123  def%GHIxyz.ABC#i.\"\n",
    "patt2 = re.compile(r\"[123456789]\")\n",
    "\n",
    "char1 = re.finditer(patt2,line2)\n",
    "for i in char1:\n",
    "    print(i)"
   ]
  },
  {
   "cell_type": "code",
   "execution_count": null,
   "id": "01b052f0",
   "metadata": {},
   "outputs": [],
   "source": [
    "line3 = \"123abc.4567XYZ$89abc123  def%GHIxyz.ABC#i.\"\n",
    "patt3 = re.compile(r\"[2468]\")\n",
    "\n",
    "char1 = re.finditer(patt3,line3)\n",
    "for i in char1:\n",
    "    print(i)"
   ]
  },
  {
   "cell_type": "code",
   "execution_count": null,
   "id": "9375d5e8",
   "metadata": {},
   "outputs": [],
   "source": [
    "line4 = \"123abc.4567XYZ$89abc123  def%GHIxyz.ABC#i.\"\n",
    "patt4 = re.compile(r\"[0-9]\")\n",
    "\n",
    "char1 = re.finditer(patt4,line4)\n",
    "for i in char1:\n",
    "    print(i)"
   ]
  },
  {
   "cell_type": "code",
   "execution_count": null,
   "id": "d5bbf023",
   "metadata": {},
   "outputs": [],
   "source": [
    "line5 = \"123abc.4567XYZ$89abc123  def%GHIxyz.ABC#i.\"\n",
    "patt5 = re.compile(r\"[a-zA-Z]\")\n",
    "\n",
    "char1 = re.finditer(patt5,line5)\n",
    "for i in char1:\n",
    "    print(i)"
   ]
  },
  {
   "cell_type": "code",
   "execution_count": null,
   "id": "a029c49f",
   "metadata": {},
   "outputs": [],
   "source": [
    "line6 = \"123abc.4567XYZ$89abc123  def%GHIxyz.ABC#i.\"\n",
    "patt6 = re.compile(r\"[0-9a-fA-F]\")\n",
    "\n",
    "char1 = re.finditer(patt6,line6)\n",
    "for i in char1:\n",
    "    print(i)"
   ]
  },
  {
   "cell_type": "markdown",
   "id": "ac3001de",
   "metadata": {},
   "source": [
    "#### Charater Negation"
   ]
  },
  {
   "cell_type": "code",
   "execution_count": null,
   "id": "1d167249",
   "metadata": {},
   "outputs": [],
   "source": [
    "line9 = \"123abc.4567XYZ$89abc123  def%GHIxyz.ABC#i.\"\n",
    "patt9 = re.compile(r\"[^aeiouAEIOU0-9$%#. ]\")     # here ^(negation) in the sq bracket will leave those characters that\n",
    "                                                # written in the sq bracket\n",
    "char1 = re.finditer(patt9,line9)\n",
    "for i in char1:\n",
    "    print(i)"
   ]
  },
  {
   "cell_type": "code",
   "execution_count": null,
   "id": "8ea9c9b9",
   "metadata": {},
   "outputs": [],
   "source": [
    "line10 = \"123abc.4567XYZ$89abc123  def%GHIxyz.ABC#i.\"\n",
    "patt10 = re.compile(r\"[^2468]\")     # here ^(negation) in the sq bracket will leave those characters that\n",
    "                                                # written in the sq bracket\n",
    "\n",
    "char1 = re.finditer(patt10,line10)\n",
    "for i in char1:\n",
    "    print(i)"
   ]
  },
  {
   "cell_type": "code",
   "execution_count": null,
   "id": "7d151eed",
   "metadata": {},
   "outputs": [],
   "source": [
    "# we want only the SPECIAL CHARACTERS\n",
    "line11 = \"123abc.4567XYZ$89abc123  def%GHIxyz.ABC#i.\"\n",
    "patt11 = re.compile(r\"[^a-zA-Z0-9. ]\")     # here ^(negation) in the sq bracket will leave those characters that\n",
    "                                                # written in the sq bracket\n",
    "char1 = re.finditer(patt11,line11)\n",
    "for i in char1:\n",
    "    print(i)"
   ]
  },
  {
   "cell_type": "markdown",
   "id": "a37dfec9",
   "metadata": {},
   "source": [
    "### Pre-defined Character Sets: Character Classes (pre-defined)"
   ]
  },
  {
   "cell_type": "code",
   "execution_count": null,
   "id": "f74937b3",
   "metadata": {},
   "outputs": [],
   "source": [
    "test_line_1 = \"123abc.4567XYZ$89abc123 def%GHIxyz .ABC#i.\"\n",
    "\n",
    "test_line_2 = \"123abc.4567\\nXYZ$89abc123 def%GHI\\nxyz .ABC#i.\"\n",
    "\n",
    "test_line_3 = 'heyhello 123_ heyho hohey'"
   ]
  },
  {
   "cell_type": "code",
   "execution_count": null,
   "id": "03d7dd04",
   "metadata": {},
   "outputs": [],
   "source": [
    "# for digits\n",
    "print(test_line_1, end=\"\\n\\n\")\n",
    "\n",
    "ptrn_1  = re.compile(r\"[\\d]\")\n",
    "\n",
    "match_data = re.finditer(ptrn_1, test_line_1)\n",
    "\n",
    "for match in match_data:\n",
    "\tprint(match)"
   ]
  },
  {
   "cell_type": "code",
   "execution_count": null,
   "id": "81e0aa98",
   "metadata": {},
   "outputs": [],
   "source": [
    "print(test_line_1, end=\"\\n\\n\")\n",
    "\n",
    "ptrn_2  = re.compile(r\"[\\D]\")\n",
    "\n",
    "match_data = re.finditer(ptrn_2, test_line_1)\n",
    "\n",
    "for match in match_data:\n",
    "\tprint(match)"
   ]
  },
  {
   "cell_type": "code",
   "execution_count": null,
   "id": "bf0ba3c2",
   "metadata": {},
   "outputs": [],
   "source": [
    "# white spaces\n",
    "print(test_line_2, end=\"\\n\\n\")\n",
    "\n",
    "ptrn_3  = re.compile(r\"[\\s]\")\n",
    "\n",
    "match_data = re.finditer(ptrn_3, test_line_2)\n",
    "\n",
    "for match in match_data:\n",
    "\tprint(match)"
   ]
  },
  {
   "cell_type": "code",
   "execution_count": null,
   "id": "448266a6",
   "metadata": {},
   "outputs": [],
   "source": [
    "#  not whitespace\n",
    "print(test_line_2, end=\"\\n\\n\")\n",
    "\n",
    "ptrn_4  = re.compile(r\"[\\S]\")\n",
    "\n",
    "match_data = re.finditer(ptrn_4, test_line_2)\n",
    "\n",
    "for match in match_data:\n",
    "\tprint(match)"
   ]
  },
  {
   "cell_type": "code",
   "execution_count": null,
   "id": "1517c31d",
   "metadata": {},
   "outputs": [],
   "source": [
    "# see alphanumeric character\n",
    "print(test_line_2, end=\"\\n\\n\")\n",
    "\n",
    "ptrn_5  = re.compile(r\"[\\w]\")\n",
    "\n",
    "match_data = re.finditer(ptrn_5, test_line_2)\n",
    "\n",
    "for match in match_data:\n",
    "\tprint(match)"
   ]
  },
  {
   "cell_type": "code",
   "execution_count": null,
   "id": "beee43a9",
   "metadata": {},
   "outputs": [],
   "source": [
    "# Not alphaNumeric Character\n",
    "print(test_line_2, end=\"\\n\\n\")\n",
    "\n",
    "ptrn_6  = re.compile(r\"[\\W]\")\n",
    "\n",
    "match_data = re.finditer(ptrn_6, test_line_2)\n",
    "\n",
    "for match in match_data:\n",
    "\tprint(match)"
   ]
  },
  {
   "cell_type": "code",
   "execution_count": null,
   "id": "8b41ec8c",
   "metadata": {},
   "outputs": [],
   "source": [
    "print(test_line_3)"
   ]
  },
  {
   "cell_type": "code",
   "execution_count": null,
   "id": "a1f4a506",
   "metadata": {},
   "outputs": [],
   "source": [
    "print(test_line_2, end=\"\\n\\n\")\n",
    "\n",
    "ptrn_7  = re.compile(r\"hey\")\n",
    "\n",
    "match_data = re.finditer(ptrn_7, test_line_3)\n",
    "\n",
    "for match in match_data:\n",
    "\tprint(match)"
   ]
  },
  {
   "cell_type": "code",
   "execution_count": null,
   "id": "522f68e9",
   "metadata": {},
   "outputs": [],
   "source": [
    "# \\b - is used for word boundary:-as it is used for finding the specific word from the string with the help of word boundary\n",
    "print(test_line_2, end=\"\\n\\n\")\n",
    "\n",
    "ptrn_8  = re.compile(r\"\\bhey\")\n",
    "\n",
    "match_data = re.finditer(ptrn_8, test_line_3)\n",
    "\n",
    "for match in match_data:\n",
    "    print(match)"
   ]
  },
  {
   "cell_type": "markdown",
   "id": "fd9e21b0",
   "metadata": {},
   "source": [
    "### Quantifiers\n",
    "    1). Quantifiers in regular expressions (regex) specify the number of times that a\n",
    "    character, group, or character class must occur to make a match.\n",
    "    \n",
    "    2). They are used to define the permissible number of repetitions for the preceding\n",
    "    element.\n",
    "    \n",
    "    3). Can be categorized as greedy and non-greedy\n",
    "    \n",
    "#### 1. Greedy Quantifiers:\n",
    "    Try to match as many characters as possible\n",
    "    \n",
    "    * : 0 or more occurrences of preceding element\n",
    "    + : 1 or more occurrences of preceding element\n",
    "    ? : 0 or 1, used when a character can be optional\n",
    "    {m} : exactly 'm' characters\n",
    "    {m, n} : range of characters (m, n)\n",
    "    \n",
    "#### 2. Non-greedy (lazy) Quantifiers: \n",
    "    Try to match as few characters as possible\n",
    "    \n",
    "    *? : 0 or more\n",
    "    +? : 1 or more\n",
    "    ?? : 0 or 1, used when a character can be optional (as few as possible)\n",
    "    {m}? : exactly 'm' characters (as few as possible)\n",
    "    {m, n}? : range of characters (m, n) (as few as possible)"
   ]
  },
  {
   "cell_type": "markdown",
   "id": "b9891044",
   "metadata": {},
   "source": [
    "#### Greedy Quantifiers"
   ]
  },
  {
   "cell_type": "code",
   "execution_count": null,
   "id": "d94435a6",
   "metadata": {},
   "outputs": [],
   "source": [
    "import re"
   ]
  },
  {
   "cell_type": "code",
   "execution_count": null,
   "id": "d96f4559",
   "metadata": {},
   "outputs": [],
   "source": [
    "test_quant_1 = \"no no noo nooo noooothing noo\"\n",
    "\n",
    "test_quant_2 = \"The colour of the sky and the color of the ocean are different.\"\n",
    "\n",
    "test_quant_3 = \"We can use either http or https to generate URLs.\"\n",
    "\n",
    "test_quant_4 = \"aaXaaaXaaaaXaaaaaX\"\n",
    "\n",
    "test_quant_5 = \"<div>First div</div><div>Second div</div>\""
   ]
  },
  {
   "cell_type": "code",
   "execution_count": null,
   "id": "a06fa1e5",
   "metadata": {},
   "outputs": [],
   "source": [
    "patrn_quant_1 = re.compile(r'noo*')\n",
    "\n",
    "match_quant = re.finditer(patrn_quant_1,test_quant_1)\n",
    "for i in match_quant:\n",
    "    print(i)"
   ]
  },
  {
   "cell_type": "code",
   "execution_count": null,
   "id": "bca09d0d",
   "metadata": {},
   "outputs": [],
   "source": [
    "patrn_quant_2 = re.compile(r'noo+')\n",
    "\n",
    "match_quant = re.finditer(patrn_quant_2,test_quant_1)\n",
    "for i in match_quant:\n",
    "    print(i)"
   ]
  },
  {
   "cell_type": "code",
   "execution_count": null,
   "id": "3e04f72c",
   "metadata": {},
   "outputs": [],
   "source": [
    "patrn_quant_3 = re.compile(r'colou?r')   # here ? represent that u is optional it can or can not be there.\n",
    "\n",
    "match_quant = re.finditer(patrn_quant_3,test_quant_2)\n",
    "for i in match_quant:\n",
    "    print(i)"
   ]
  },
  {
   "cell_type": "code",
   "execution_count": null,
   "id": "747a06b3",
   "metadata": {},
   "outputs": [],
   "source": [
    "patrn_quant_4 = re.compile(r'https?')   # here ? represent that http or https is optional it can or can not be there.\n",
    "\n",
    "match_quant = re.finditer(patrn_quant_4,test_quant_3)\n",
    "for i in match_quant:\n",
    "    print(i)"
   ]
  },
  {
   "cell_type": "code",
   "execution_count": null,
   "id": "4fd2b068",
   "metadata": {},
   "outputs": [],
   "source": [
    "patrn_quant_5 = re.compile(r'a{3}')   # {} here curly braces means that a occurs exactly the 3 times.\n",
    "\n",
    "match_quant = re.finditer(patrn_quant_5,test_quant_4)\n",
    "for i in match_quant:\n",
    "    print(i)"
   ]
  },
  {
   "cell_type": "code",
   "execution_count": null,
   "id": "9c449182",
   "metadata": {},
   "outputs": [],
   "source": [
    "patrn_quant_6 = re.compile(r'a{2,5}')   # {} Here it will try to match as many character as possible.\n",
    "\n",
    "match_quant = re.finditer(patrn_quant_6,test_quant_4)\n",
    "for i in match_quant:\n",
    "    print(i)"
   ]
  },
  {
   "cell_type": "markdown",
   "id": "0fe9652f",
   "metadata": {},
   "source": [
    "#### Non-greedy (lazy) Quantifiers"
   ]
  },
  {
   "cell_type": "code",
   "execution_count": null,
   "id": "54e26bf5",
   "metadata": {},
   "outputs": [],
   "source": [
    "patrn_quant_7 = re.compile(r'noo*?') # this pattern give as few as possible.\n",
    "\n",
    "match_quant = re.finditer(patrn_quant_7,test_quant_1)\n",
    "for i in match_quant:\n",
    "    print(i)"
   ]
  },
  {
   "cell_type": "code",
   "execution_count": null,
   "id": "cc053ac9",
   "metadata": {},
   "outputs": [],
   "source": [
    "patrn_quant_8 = re.compile(r'noo+?')\n",
    "\n",
    "match_quant = re.finditer(patrn_quant_8,test_quant_1)\n",
    "for i in match_quant:\n",
    "    print(i)"
   ]
  },
  {
   "cell_type": "code",
   "execution_count": null,
   "id": "bed159c9",
   "metadata": {},
   "outputs": [],
   "source": [
    "patrn_quant_9 = re.compile(r'a{2,5}?')   # {} Here it will try to match as many character as possible.\n",
    "\n",
    "match_quant = re.finditer(patrn_quant_9,test_quant_4)\n",
    "for i in match_quant:\n",
    "    print(i)"
   ]
  },
  {
   "cell_type": "code",
   "execution_count": null,
   "id": "d2316124",
   "metadata": {},
   "outputs": [],
   "source": [
    "patrn_quant_10 = re.compile(r'<\\w+>.*</\\w+>')   # {} Here it will try to match as many character as possible.\n",
    "\n",
    "match_quant = re.findall(patrn_quant_10,test_quant_5)\n",
    "for i in match_quant:\n",
    "    print(i)"
   ]
  },
  {
   "cell_type": "code",
   "execution_count": null,
   "id": "2f55115a",
   "metadata": {},
   "outputs": [],
   "source": [
    "patrn_quant_11 = re.compile(r'<\\w+>.*?</\\w+>')   # {} Here it will try to match as many character as possible.\n",
    "\n",
    "match_quant = re.findall(patrn_quant_11,test_quant_5)\n",
    "for i in match_quant:\n",
    "    print(i)"
   ]
  },
  {
   "cell_type": "markdown",
   "id": "3fcfc92d",
   "metadata": {},
   "source": [
    "### Grouping\n",
    "\n",
    "    1). Used for identifying group(s) of matching substrings within a larger string\n",
    "    2). Grouping is useful for extracting specific parts of a string which could provide useful information\n",
    "    3). Characters to form a group are mentioned within parentheses ()\n",
    "    4). By default, the captured groups are stored for 'later use' Groups allow the usage of back-references\n",
    "    \n",
    "#### 1. Capture Groups:\n",
    "    ○ By default, all groups are 'Capture Groups' until explicitly altered\n",
    "    ○ By default, all identified groups are assigned integral names\n",
    "    ○ Syntax: (pattern)\n",
    "    \n",
    "#### 2. Named Capture Groups:\n",
    "    ○ Behaves similarly like Capture Groups\n",
    "    ○ Each captured group can be given a name explicitly\n",
    "    ○ This improves code readability and group access\n",
    "    ○ Syntax: (?P<group_name>pattern)\n",
    "    \n",
    "#### 3. Back-references:\n",
    "    ○ Used for referencing captured groups by short-hand notation\n",
    "    ○ Mainly used when some parts of the pattern repeat\n",
    "    \n",
    "    Grouping\n",
    "    ○ Syntax (default capture groups): \\group_index\n",
    "    ○ Syntax (named capture groups): (?P=group_name)\n",
    "    \n",
    "#### 4. Non-capture Groups:\n",
    "    ○ The 'groups' aren’t captured for later use\n",
    "    ○ Syntax: (?:pattern)\n",
    "    \n",
    "#### 5. Alternation:\n",
    "    ○ Allows to match any pattern from listed alternatives\n",
    "    ○ Implemented by using the | (pipe) symbol\n",
    "    \n",
    "    "
   ]
  },
  {
   "cell_type": "markdown",
   "id": "d9ecfafd",
   "metadata": {},
   "source": [
    "#### Grouping Practical"
   ]
  },
  {
   "cell_type": "markdown",
   "id": "2b41ba53",
   "metadata": {},
   "source": [
    "#### Capture Group"
   ]
  },
  {
   "cell_type": "code",
   "execution_count": null,
   "id": "96e9ed27",
   "metadata": {},
   "outputs": [],
   "source": [
    "test_group_1 = \"Call me at (123) 456-7890 or (456) 7890123 or (789) 201 3465.\"\n",
    "\n",
    "test_group_2 = \"\"\"\n",
    "<div>This is a div tag</div>\n",
    "<p>This is a paragraph tag</p>\n",
    "<div>This is another div tag</div>\n",
    "<h2>This is header div tag</h2>\n",
    "\"\"\"\n",
    "\n",
    "test_group_3 = \"\"\"\n",
    "hello hello\n",
    "world world\n",
    "python python\n",
    "\"\"\"\n",
    "\n",
    "test_group_4 = \"Visit our website at https://example.com or http://example.net\"\n",
    "\n",
    "test_group_5 = \"\"\"\n",
    "Mr. Wayne\n",
    "Mr Kent\n",
    "Ms Romanoff\n",
    "Mrs. Stark\n",
    "Mr. M\n",
    "\"\"\""
   ]
  },
  {
   "cell_type": "code",
   "execution_count": null,
   "id": "0c2b46a1",
   "metadata": {},
   "outputs": [],
   "source": [
    "import re"
   ]
  },
  {
   "cell_type": "code",
   "execution_count": null,
   "id": "72f7f037",
   "metadata": {},
   "outputs": [],
   "source": [
    "patrn_grp_1 = re.compile(r\"\\((\\d{3})\\)\\s(\\d{3}).?(\\d{4})\")   # \\((\\d{3})\\)    (\\d{3})    (\\d{4})    \n",
    "\n",
    "match_grp = re.finditer(patrn_grp_1,test_group_1)\n",
    "for i, match_group in enumerate(match_grp, start=1):\n",
    "    print(f\"match {i}\")\n",
    "    print(\"--------------------------\")\n",
    "    print(match_group)\n",
    "    print(f\"Match: {match_group.group()}\")\n",
    "    print(f\"Groups: {match_group.groups()}\")\n",
    "    print(f\"Group1: {match_group.group(1)}\")\n",
    "    print(f\"Group2: {match_group.group(2)}\")\n",
    "    print(f\"Group3: {match_group.group(3)}\")\n",
    "    print(\"Range of groups:\", match_group.groups()[0:3])\n",
    "    print(\"\\n\")"
   ]
  },
  {
   "cell_type": "markdown",
   "id": "0246bb26",
   "metadata": {},
   "source": [
    "#### Named Capture Groups"
   ]
  },
  {
   "cell_type": "code",
   "execution_count": null,
   "id": "07e54446",
   "metadata": {},
   "outputs": [],
   "source": [
    "print(test_group_2)"
   ]
  },
  {
   "cell_type": "code",
   "execution_count": null,
   "id": "97114887",
   "metadata": {},
   "outputs": [],
   "source": [
    "pattern_group = re.compile(r\"<(?P<Tag>\\w+)>(?P<Content>.*)</\\w+>\")\n",
    "\n",
    "match_groups = re.finditer(pattern_group,test_group_2)\n",
    "for i, match in enumerate(match_groups,start=1):\n",
    "    print(f\"Match: {i}\")\n",
    "    print(\"-------------------------------\")\n",
    "    print(match)\n",
    "    print(f\"Match : {match.group()}\")\n",
    "    print(f\"Group : {match.groups()}\")\n",
    "    print(f\"Group : {match.groupdict()}\")\n",
    "    print(f\"Group1 : {match.group('Tag')}\")\n",
    "    print(f\"Group1 : {match.group('Content')}\")\n",
    "    print(\"\\n\")"
   ]
  },
  {
   "cell_type": "markdown",
   "id": "e5977c1e",
   "metadata": {},
   "source": [
    "#### Back-references"
   ]
  },
  {
   "cell_type": "code",
   "execution_count": null,
   "id": "3ec6598f",
   "metadata": {},
   "outputs": [],
   "source": [
    "print(test_group_3)"
   ]
  },
  {
   "cell_type": "code",
   "execution_count": null,
   "id": "98a06c7f",
   "metadata": {},
   "outputs": [],
   "source": [
    "pattern_group_1 = re.compile(r\"\\b(\\w+)\\b \\1\")\n",
    "\n",
    "match_group = re.finditer(pattern_group_1,test_group_3)\n",
    "for i, match in enumerate(match_group,start=1):\n",
    "    print(f\"Match: {i}\")\n",
    "    print(match)\n",
    "    print(f\"match: {match.group()}\")\n",
    "    print(f\"Group: {match.groups()}\")\n",
    "    print(\"\\n\")"
   ]
  },
  {
   "cell_type": "code",
   "execution_count": null,
   "id": "f63a67fb",
   "metadata": {},
   "outputs": [],
   "source": [
    "print(test_group_2)\n",
    "print(\"=========================\\n\")\n",
    "\n",
    "pattern_group = re.compile(r\"<(?P<Tag>\\w+)>(?P<Content>.*)</(?P=Tag)>\")\n",
    "\n",
    "match_groups = re.finditer(pattern_group,test_group_2)\n",
    "for i, match in enumerate(match_groups,start=1):\n",
    "    print(f\"Match: {i}\")\n",
    "    print(\"-------------------------------\")\n",
    "    print(match)\n",
    "    print(f\"Match : {match.group()}\")\n",
    "    print(f\"Group : {match.groups()}\")\n",
    "    print(f\"Group : {match.groupdict()}\")\n",
    "    print(f\"Group1 : {match.group('Tag')}\")\n",
    "    print(f\"Group1 : {match.group('Content')}\")\n",
    "    print(\"\\n\")"
   ]
  },
  {
   "cell_type": "markdown",
   "id": "bdb48586",
   "metadata": {},
   "source": [
    "#### Non-capture Groups"
   ]
  },
  {
   "cell_type": "code",
   "execution_count": null,
   "id": "f11eff21",
   "metadata": {},
   "outputs": [],
   "source": [
    "print(test_group_4)"
   ]
  },
  {
   "cell_type": "code",
   "execution_count": null,
   "id": "f19229b4",
   "metadata": {},
   "outputs": [],
   "source": [
    "pattern_group_1 = re.compile(r\"(https?://)(\\w+)\\.(\\w+)\")\n",
    "\n",
    "match_group = re.finditer(pattern_group_1,test_group_4)\n",
    "for i,match in enumerate(match_group,start=1):\n",
    "    print(f\"Match: {i}\")\n",
    "    print(match)\n",
    "    print(f\"Match: {match.group()}\")\n",
    "    print(f\"Group: {match.groups()}\")"
   ]
  },
  {
   "cell_type": "code",
   "execution_count": null,
   "id": "aec70cd2",
   "metadata": {},
   "outputs": [],
   "source": [
    "pattern_group_2 = re.compile(r\"(?:https?://)(\\w+)\\.(\\w+)\")\n",
    "\n",
    "match_group = re.finditer(pattern_group_2,test_group_4)\n",
    "for i,match in enumerate(match_group,start=1):\n",
    "    print(f\"Match: {i}\")\n",
    "    print(match)\n",
    "    print(f\"Match: {match.group()}\")\n",
    "    print(f\"Group: {match.groups()}\")"
   ]
  },
  {
   "cell_type": "markdown",
   "id": "0ac81685",
   "metadata": {},
   "source": [
    "#### Alternation"
   ]
  },
  {
   "cell_type": "code",
   "execution_count": null,
   "id": "9db4a1a8",
   "metadata": {},
   "outputs": [],
   "source": [
    "print(test_group_5)"
   ]
  },
  {
   "cell_type": "code",
   "execution_count": null,
   "id": "6169e134",
   "metadata": {},
   "outputs": [],
   "source": [
    "#pattern_group_10 = re.compile(r\"Mr\\.?\\s\\w+\")\n",
    "#pattern_group_11 = re.compile(r\"Mr?s\\.?\\s\\w+\")\n",
    "#pattern_group_10 = re.compile(r\"Mr?s?\\.?\\s\\w+\")\n",
    "pattern_group_10 = re.compile(r\"(Mr|Ms|Mrs)\\.?\\s\\w+\")\n",
    "\n",
    "match_group_1 = re.finditer(pattern_group_10,test_group_5)\n",
    "for name in match_group_1:\n",
    "    print(name.group())"
   ]
  },
  {
   "cell_type": "markdown",
   "id": "a49ce1eb",
   "metadata": {},
   "source": [
    "### Modifications\n",
    "\n",
    "    Involves splitting a string or replacing parts of a string.\n",
    "    The re module provides the split and sub functions to achieve this.\n",
    "    \n",
    "#### 1. Split:\n",
    "\n",
    "    Allows to split a string on any matched pattern\n",
    "    Works similar to Python's str.split function, with the additional flexibility of regular expressions\n",
    "    \n",
    "    Syntax: re.split(pattern, string)\n",
    "    \n",
    "#### 2. Substitution:\n",
    "\n",
    "    Allows to replace a part of a string with any matched pattern\n",
    "    Useful for search and replace operations with the added flexibility of regular expressions\n",
    "    \n",
    "    ○ Syntax: re.sub(pattern, replacement, string)"
   ]
  },
  {
   "cell_type": "markdown",
   "id": "046bc7a6",
   "metadata": {},
   "source": [
    "#### Modifications\n",
    "    split"
   ]
  },
  {
   "cell_type": "code",
   "execution_count": null,
   "id": "1d3766bf",
   "metadata": {},
   "outputs": [],
   "source": [
    "test_modification_1 = \"This is the first sentence. This is the second sentence! This is the third sentence?\"\n",
    "\n",
    "test_modification_2 = \"Visit our website at https://website1.com or http://website2.net\""
   ]
  },
  {
   "cell_type": "code",
   "execution_count": null,
   "id": "41d129db",
   "metadata": {},
   "outputs": [],
   "source": [
    "str_pattern = re.compile(r\"[.!?]\")\n",
    "\n",
    "matches = re.split(str_pattern,test_modification_1)\n",
    "print(matches)"
   ]
  },
  {
   "cell_type": "code",
   "execution_count": null,
   "id": "d6dd5c51",
   "metadata": {},
   "outputs": [],
   "source": [
    "for i in matches:\n",
    "    print(i.strip())"
   ]
  },
  {
   "cell_type": "markdown",
   "id": "776ad869",
   "metadata": {},
   "source": [
    "###### Substitution"
   ]
  },
  {
   "cell_type": "code",
   "execution_count": null,
   "id": "f2830192",
   "metadata": {},
   "outputs": [],
   "source": [
    "print(test_modification_2)"
   ]
  },
  {
   "cell_type": "code",
   "execution_count": null,
   "id": "5cf84b9a",
   "metadata": {},
   "outputs": [],
   "source": [
    "str_pattern_1 = re.compile(r\"(https?://)(\\w+)\\.(\\w+)\")\n",
    "\n",
    "matches = re.sub(str_pattern_1,r\"\\2.\\3.co.in\",test_modification_2)\n",
    "print(matches)"
   ]
  },
  {
   "cell_type": "markdown",
   "id": "3611da81",
   "metadata": {},
   "source": [
    "### Lookahead and Lookbehind Assertions\n",
    "    \n",
    "    Lookahead and lookbehind assertions are powerful tools in regular expressions that allow for complex \n",
    "    pattern matching based on the context in which a pattern appears\n",
    "    \n",
    "    They are used to match a pattern only if it is followed or preceded by another specified pattern\n",
    "    \n",
    "#### 1. Lookahead Assertion:\n",
    "    \n",
    "###### 1.1 Positive lookahead assertion:\n",
    "    \n",
    "    Asserts if a pattern to be matched (X) is immediately followed by another specified pattern (Y)\n",
    "    ○ Syntax: X(?=Y)\n",
    "    \n",
    "###### 1.2 Negative lookahead assertion:\n",
    "    \n",
    "    Asserts if a pattern to be matched (X) is not immediately followed by another specified pattern (Y)\n",
    "    ○ Syntax: X(?!Y)\n",
    "    \n",
    "#### 2. Lookbehind Assertion:\n",
    "\n",
    "###### 2.1 Positive lookbehind assertion:\n",
    "\n",
    "    Asserts if a pattern to be matched (X) is immediately preceded by another specified pattern (Y)\n",
    "    ○ Syntax: (?<=Y)X\n",
    "    \n",
    "###### 2.2 Negative lookbehind assertion:\n",
    "\n",
    "    Asserts if a pattern to be matched (X) is not immediately preceded by another specified pattern (Y)\n",
    "    Syntax: (?<!Y)X\n"
   ]
  },
  {
   "cell_type": "code",
   "execution_count": null,
   "id": "0b24468d",
   "metadata": {},
   "outputs": [],
   "source": [
    "test_assertion_1 = \"\"\"\n",
    "100 USD\n",
    "150 USD\n",
    "85 INR\n",
    "120 AED\n",
    "60 USD\n",
    "70 INR\n",
    "\"\"\"\n",
    "\n",
    "test_assertion_2 = \"\"\"\n",
    "Chris Evans\n",
    "Chris Hemsworth\n",
    "Chris Pratt\n",
    "Tom Holland\n",
    "Tom Hiddleston\n",
    "\"\"\""
   ]
  },
  {
   "cell_type": "markdown",
   "id": "319d30d7",
   "metadata": {},
   "source": [
    "###### 1.1 Positive lookahead assertion:"
   ]
  },
  {
   "cell_type": "code",
   "execution_count": null,
   "id": "4fb95ed5",
   "metadata": {},
   "outputs": [],
   "source": [
    "print(test_assertion_1)"
   ]
  },
  {
   "cell_type": "code",
   "execution_count": null,
   "id": "ee4e2e4a",
   "metadata": {},
   "outputs": [],
   "source": [
    "pattern_assert = re.compile(r\"\\d+ (?=USD)\")\n",
    "\n",
    "matches_assert = re.findall(pattern_assert,test_assertion_1)\n",
    "for i in matches_assert:\n",
    "    print(i.strip()) "
   ]
  },
  {
   "cell_type": "code",
   "execution_count": null,
   "id": "30db754d",
   "metadata": {},
   "outputs": [],
   "source": [
    "pattern_assert = re.compile(r\"\\d+ (?!USD)\")\n",
    "\n",
    "matches_assert = re.findall(pattern_assert,test_assertion_1)\n",
    "for i in matches_assert:\n",
    "    print(i.strip())"
   ]
  },
  {
   "cell_type": "markdown",
   "id": "a61eec0d",
   "metadata": {},
   "source": [
    "#### 2. Lookbehind Assertion"
   ]
  },
  {
   "cell_type": "code",
   "execution_count": null,
   "id": "000c4481",
   "metadata": {},
   "outputs": [],
   "source": [
    "print(test_assertion_2)"
   ]
  },
  {
   "cell_type": "code",
   "execution_count": null,
   "id": "a384abf8",
   "metadata": {},
   "outputs": [],
   "source": [
    "pattern_assert_2 = re.compile(r\"(?<=Chris) \\w+\")\n",
    "\n",
    "matches_assert = re.findall(pattern_assert_2,test_assertion_2)\n",
    "for i in matches_assert:\n",
    "    print(i.strip())"
   ]
  },
  {
   "cell_type": "code",
   "execution_count": null,
   "id": "98e7c826",
   "metadata": {},
   "outputs": [],
   "source": [
    "pattern_assert_2 = re.compile(r\"(?<!Chris) \\w+\")\n",
    "\n",
    "matches_assert = re.findall(pattern_assert_2,test_assertion_2)\n",
    "for i in matches_assert:\n",
    "    print(i.strip())"
   ]
  },
  {
   "cell_type": "markdown",
   "id": "9a16e09c",
   "metadata": {},
   "source": [
    "### Flags\n",
    "\n",
    "    1). Flags provide additional control over pattern matching by altering the behaviour of regular expressions\n",
    "    2). Can be used for insensitive case matching, making the dot operator match newline character, etc.\n",
    "    3). Flags are usually passed as arguments to the functions of re module\n",
    "    \n",
    "##### Common Flags:\n",
    "    1). re.IGNORECASE (or re.I): Makes the pattern case-insensitive\n",
    "    2). re.MULTILINE (or re.M): Allows ^ and $ to match the start and end of each line\n",
    "    3). re.DOTALL (or re.S): Allows the . to match newline characters as well\n",
    "    4). re.VERBOSE (or re.X): Allows you to write more readable regex by ignoring whitespace and comments \n",
    "        within the pattern\n",
    "    5). re.ASCII (or re.A): Makes \\w, \\b, \\d, and \\s match only ASCII characters\n",
    "    6). re.LOCALE (or re.L): Makes \\w, \\b, \\d, and \\s dependent on the current locale"
   ]
  },
  {
   "cell_type": "code",
   "execution_count": null,
   "id": "5c53545c",
   "metadata": {},
   "outputs": [],
   "source": [
    "test_flag = \"\"\"\n",
    "Hello World!\n",
    "This is a Hello test.\n",
    "Hello again!\n",
    "Python is fun.\n",
    "Hello Python.\n",
    "\"\"\""
   ]
  },
  {
   "cell_type": "code",
   "execution_count": null,
   "id": "2ae2325e",
   "metadata": {},
   "outputs": [],
   "source": [
    "pattern_flag = re.compile(r\"python\", re.I)\n",
    "\n",
    "match_flag = re.finditer(pattern_flag,test_flag)\n",
    "for i in match_flag:\n",
    "    print(i)"
   ]
  },
  {
   "cell_type": "code",
   "execution_count": null,
   "id": "ad248a1e",
   "metadata": {},
   "outputs": [],
   "source": [
    "pattern_flag_1 = r\"python\"\n",
    "\n",
    "match_flag = re.finditer(pattern_flag_1,test_flag,flags=re.I)\n",
    "for i in match_flag:\n",
    "    print(i)"
   ]
  },
  {
   "cell_type": "code",
   "execution_count": null,
   "id": "3762dbce",
   "metadata": {},
   "outputs": [],
   "source": [
    "pattern_flag = re.compile(r\"^hello\", re.I | re.M)\n",
    "\n",
    "match_flag = re.finditer(pattern_flag,test_flag)\n",
    "for i in match_flag:\n",
    "    print(i)"
   ]
  },
  {
   "cell_type": "code",
   "execution_count": null,
   "id": "7b5c34d1",
   "metadata": {},
   "outputs": [],
   "source": [
    "pattern_flag = re.compile(r\".\",re.S)\n",
    "\n",
    "match_flag = re.finditer(pattern_flag,test_flag)\n",
    "for i in match_flag:\n",
    "    print(i)"
   ]
  },
  {
   "cell_type": "markdown",
   "id": "4bccd816",
   "metadata": {},
   "source": [
    "## Practical Exercise"
   ]
  },
  {
   "cell_type": "markdown",
   "id": "dfd5de21",
   "metadata": {},
   "source": [
    "##### Q1. Extract all email addresses from given text"
   ]
  },
  {
   "cell_type": "code",
   "execution_count": null,
   "id": "d123262a",
   "metadata": {},
   "outputs": [],
   "source": [
    "import re"
   ]
  },
  {
   "cell_type": "code",
   "execution_count": null,
   "id": "0e604160",
   "metadata": {},
   "outputs": [],
   "source": [
    "new_text_string1 = \"\"\"\n",
    "Hello John, please contact us at support@example.com for further assistance.\n",
    "You can also reach out to our manager at manager@example.org or sales@example.net.\n",
    "Thank you, support@example.com.\n",
    "\"\"\""
   ]
  },
  {
   "cell_type": "code",
   "execution_count": null,
   "id": "8d1aa096",
   "metadata": {},
   "outputs": [],
   "source": [
    "new_patrn_1 = re.compile(r\"(\\w+)@(\\w+)\\.(\\w+)\")"
   ]
  },
  {
   "cell_type": "code",
   "execution_count": null,
   "id": "ec597ac8",
   "metadata": {},
   "outputs": [],
   "source": [
    "new_match_str = re.finditer(new_patrn_1,new_text_string1)\n",
    "\n",
    "for match in new_match_str:\n",
    "    print(match.group().strip())"
   ]
  },
  {
   "cell_type": "markdown",
   "id": "27bb5c17",
   "metadata": {},
   "source": [
    "##### Q2. Validate phone numbers and callout invalid ones\n",
    "    valid format: (XXX) XXX-XXXX"
   ]
  },
  {
   "cell_type": "code",
   "execution_count": null,
   "id": "266aed9d",
   "metadata": {},
   "outputs": [],
   "source": [
    "phone_numbers = [\n",
    "    \"(123) 456-7890\",\n",
    "    \"(987) 654-3210\",\n",
    "    \"123-456-7890\",\n",
    "    \"(123)456-7890\",\n",
    "    \"(123) 456-7890\"\n",
    "]"
   ]
  },
  {
   "cell_type": "code",
   "execution_count": null,
   "id": "760eeb2a",
   "metadata": {},
   "outputs": [],
   "source": [
    "valid_phone_pattern = re.compile(r\"(\\(\\d{3}\\))\\s(\\d{3})-(\\d{4})\")"
   ]
  },
  {
   "cell_type": "code",
   "execution_count": null,
   "id": "0542776a",
   "metadata": {},
   "outputs": [],
   "source": [
    "for numbers in phone_numbers:\n",
    "    if not re.match(valid_phone_pattern,numbers):\n",
    "        print(numbers)"
   ]
  },
  {
   "cell_type": "markdown",
   "id": "2f055cb6",
   "metadata": {},
   "source": [
    "##### Q3. From Q2, represent all numbers in valid format"
   ]
  },
  {
   "cell_type": "code",
   "execution_count": null,
   "id": "27a65114",
   "metadata": {},
   "outputs": [],
   "source": [
    "valid_phone_pattern_1 = re.compile(r\"\\(?(\\d{3})\\)?.(\\d{3})-(\\d{4})\")\n",
    "for numbers in phone_numbers:\n",
    "    if re.match(valid_phone_pattern_1,numbers):\n",
    "        print(re.sub(valid_phone_pattern_1,r\"(\\1) \\2-\\3\",numbers))"
   ]
  },
  {
   "cell_type": "markdown",
   "id": "62333050",
   "metadata": {},
   "source": [
    "##### Q4. Identify dates & modify format to YYYY-MM-DD from below text"
   ]
  },
  {
   "cell_type": "code",
   "execution_count": null,
   "id": "144112a5",
   "metadata": {},
   "outputs": [],
   "source": [
    "date_text_string_1 = \"We have meetings scheduled on 12/05/2023, 23/06/2024, and 07/07/2025.\""
   ]
  },
  {
   "cell_type": "code",
   "execution_count": null,
   "id": "7dce8ace",
   "metadata": {},
   "outputs": [],
   "source": [
    "date_pattern = re.compile(r\"(\\d{2})/(\\d{2})/(\\d{4})\")\n",
    "replaced_text = re.sub(date_pattern,r\"\\3-\\2-\\1\",date_text_string_1)\n",
    "replaced_text"
   ]
  },
  {
   "cell_type": "markdown",
   "id": "84a7f670",
   "metadata": {},
   "source": [
    "##### Q5. Extract URLs from given text"
   ]
  },
  {
   "cell_type": "code",
   "execution_count": null,
   "id": "96fd677e",
   "metadata": {},
   "outputs": [],
   "source": [
    "import re"
   ]
  },
  {
   "cell_type": "code",
   "execution_count": null,
   "id": "9ab3c675",
   "metadata": {},
   "outputs": [],
   "source": [
    "extract_url_string_1 = \"\"\"\n",
    "Visit our website at https://www.example.com for more information.\n",
    "You can also check out our blog at http://blog.example.com or follow us on https://twitter.com/example.\n",
    "\"\"\""
   ]
  },
  {
   "cell_type": "code",
   "execution_count": null,
   "id": "c4c51ad7",
   "metadata": {},
   "outputs": [],
   "source": [
    "url_pattern = re.compile(r\"https?://(www.)?[\\w.]+(/\\w+)?\")\n",
    "match_url= re.finditer(url_pattern,extract_url_string_1)\n",
    "\n",
    "for m_url in match_url:\n",
    "    print(m_url.group())"
   ]
  },
  {
   "cell_type": "markdown",
   "id": "33b068f6",
   "metadata": {},
   "source": [
    "##### Q6. Extract all sentences from below text"
   ]
  },
  {
   "cell_type": "code",
   "execution_count": null,
   "id": "fec68549",
   "metadata": {},
   "outputs": [],
   "source": [
    "sentense_string = \"Hello world! How are you doing today? This is a great day. Let's make the most of it.\""
   ]
  },
  {
   "cell_type": "code",
   "execution_count": null,
   "id": "5dafa69b",
   "metadata": {},
   "outputs": [],
   "source": [
    "sentense_pattern = re.compile(r\"[!?.]\")\n",
    "split_sentense = re.split(sentense_pattern,sentense_string)\n",
    "for sens in split_sentense:\n",
    "    print(sens.strip())"
   ]
  },
  {
   "cell_type": "markdown",
   "id": "e00642c4",
   "metadata": {},
   "source": [
    "##### Q7. Validate passwords based on following conditions:\n",
    "    atleast 8 characters in length\n",
    "    atleast one lowercase alphabet\n",
    "    atleast one uppercase alphabet\n",
    "    atleast one numeric digit"
   ]
  },
  {
   "cell_type": "code",
   "execution_count": null,
   "id": "337e7517",
   "metadata": {},
   "outputs": [],
   "source": [
    "passwords = [\n",
    "    \"Password123\",\n",
    "    \"pass123\",\n",
    "    \"PASSWORD123\",\n",
    "    \"Pass123\",\n",
    "    \"ValidPass1\"\n",
    "]"
   ]
  },
  {
   "cell_type": "code",
   "execution_count": null,
   "id": "e7ea04f9",
   "metadata": {},
   "outputs": [],
   "source": [
    "password_pattern = re.compile(r\"^(?=.*[a-z])(?=.*[A-Z])(?=.*[0-9])[a-zA-Z0-9]{8,}\")\n",
    "\n",
    "for pw in passwords:\n",
    "    if not re.match(password_pattern, pw):\n",
    "        print(pw)"
   ]
  },
  {
   "cell_type": "markdown",
   "id": "ca976e4f",
   "metadata": {},
   "source": [
    "##### Q8. Remove all HTML tags from given text"
   ]
  },
  {
   "cell_type": "code",
   "execution_count": null,
   "id": "023b36b0",
   "metadata": {},
   "outputs": [],
   "source": [
    "html_tags_text = \"\"\"\n",
    "<p>\n",
    "The <strong>advent of technology</strong> in the 21st century has revolutionized the way we live and interact with the world around us. From the <em>smartphones</em> we carry to the <a href=\"https://en.wikipedia.org/wiki/Internet_of_things\" target=\"_blank\">Internet of Things</a> (IoT) devices that connect our homes, technology has become an <u>integral part</u> of our daily lives. <br><br>\n",
    "Consider the impact of <abbr title=\"Artificial Intelligence\">AI</abbr> on various industries. AI-driven applications are transforming <span style=\"color: blue;\">healthcare</span> by enabling predictive diagnostics and personalized treatment plans. In the realm of <span style=\"font-weight: bold;\">education</span>, AI is facilitating adaptive learning experiences that cater to individual student needs. <br><br>\n",
    "Moreover, the <mark>explosion of data</mark> has given rise to the field of data science, where professionals analyze vast amounts of information to uncover <q>insights</q> that drive decision-making across sectors. In <cite>finance</cite>, algorithms are being used to detect fraudulent activities and to automate trading processes, making the markets more efficient. <br><br>\n",
    "The rise of <kbd>cloud computing</kbd> has also played a crucial role in this technological transformation. By offering scalable and flexible computing resources, the cloud has enabled businesses to innovate without the constraints of physical infrastructure. This shift to the cloud has made it possible for <ins>startups</ins> and large enterprises alike to <del>maintain</del> <ins>achieve</ins> high levels of agility and resilience. <br><br>\n",
    "Looking ahead, the integration of <sup>5G</sup> networks promises to further accelerate the capabilities of connected devices, paving the way for advancements in areas such as <sub>autonomous vehicles</sub> and smart cities. As we continue to explore the potential of these emerging technologies, it is imperative that we also address the ethical and societal implications they bring. <br><br>\n",
    "In conclusion, the <strong>rapid pace</strong> of technological advancement presents both opportunities and challenges. By embracing innovation while remaining mindful of its impact, we can <i>harness the power</i> of technology to <u>create a better future</u> for all.\n",
    "</p>\n",
    "\"\"\""
   ]
  },
  {
   "cell_type": "code",
   "execution_count": null,
   "id": "1e60675a",
   "metadata": {},
   "outputs": [],
   "source": [
    "html_pattern = re.compile(r\"</?.+?>\")\n",
    "\n",
    "matches = re.finditer(html_pattern, html_tags_text)\n",
    "\n",
    "for match in matches:\n",
    "\tprint(match.group())"
   ]
  },
  {
   "cell_type": "code",
   "execution_count": null,
   "id": "2bc604bf",
   "metadata": {},
   "outputs": [],
   "source": [
    "print(re.sub(html_pattern, \"\", html_tags_text).strip())"
   ]
  },
  {
   "cell_type": "markdown",
   "id": "01e13ca8",
   "metadata": {},
   "source": [
    "### ADVANCE REGULAR EXPRESSION TOPICS\n",
    "##### Branch reset group:\n",
    "\n",
    "    A branch reset group is a special type of capturing group in regular expressions that allows different \n",
    "    alternatives (branches) within the group to have the same capturing group number. \n",
    "    This is helpful when you have multiple patterns to match and want their matching results to be \n",
    "    stored in the same capturing group, making it easier to reference them uniformly.\n",
    "    \n",
    "    (?|pattern1|pattern2|...)\n",
    "    \n",
    "##### Explanation:\n",
    "    When using a branch reset group, each alternative within the group shares the same capturing group numbers.\n",
    "    \n",
    "    For example, (?|(a)(b)|(c)(d)) means that whether the pattern matches ab or cd, the first capturing \n",
    "    group will contain either a or c, and the second capturing group will contain either b or d.\n",
    "    \n",
    "    $Regex_Pattern = '^\\d{2}(?|(---)|(-)|(.)|(:))\\d{2}\\1\\d{2}\\1\\d{2}$';\n",
    "\n",
    "    \n",
    "    "
   ]
  },
  {
   "cell_type": "markdown",
   "id": "801bef29",
   "metadata": {},
   "source": [
    "##### Problem Statement:\n",
    "    Imagine you are building a program that extracts and processes month abbreviations from a string. \n",
    "    Each abbreviation should be captured in the same capturing group, regardless of whether it matches \n",
    "    Jan, Feb, or Mar. You need a regular expression that captures any of these month abbreviations \n",
    "    in a uniform way so that subsequent code can reference the match using the same group number.\n",
    "    \n",
    "    Requirement:\n",
    "    Extract the month abbreviation from a string that may contain any of Jan, Feb, or Mar.\n",
    "    Ensure that the capturing group number remains the same for each match, simplifying the code \n",
    "    for extracting and processing these months."
   ]
  },
  {
   "cell_type": "raw",
   "id": "1a081e1b",
   "metadata": {},
   "source": [
    "import re\n",
    "# Sample string containing month abbreviations\n",
    "Month_text = \"The meeting is scheduled for Jan, with follow-ups in Feb and Mar.\"\n",
    "\n",
    "# Regular expression to match and capture month abbreviations using branch reset\n",
    "month_pattern = r\"(?|(Jan)|(Feb)|(Mar))\"\n",
    "\n",
    "# Find all matches\n",
    "matches = re.findall(month_pattern, Month_text)\n",
    "\n",
    "# Print the matches\n",
    "print(\"Extracted month abbreviations:\", matches)\n"
   ]
  },
  {
   "cell_type": "markdown",
   "id": "ff7a0933",
   "metadata": {},
   "source": [
    "## HackerRank Problem statement"
   ]
  },
  {
   "cell_type": "markdown",
   "id": "7ec88a8d",
   "metadata": {},
   "source": [
    "##### Q1 Detect Html links"
   ]
  },
  {
   "cell_type": "code",
   "execution_count": null,
   "id": "302abd17",
   "metadata": {},
   "outputs": [],
   "source": [
    "import re"
   ]
  },
  {
   "cell_type": "code",
   "execution_count": null,
   "id": "e14c2c99",
   "metadata": {},
   "outputs": [],
   "source": [
    "input_html_text = \"\"\"\n",
    "<p><a href=\"http://www.quackit.com/html/tutorial/html_links.cfm\">Example Link</a></p>\n",
    "<div class=\"more-info\"><a href=\"http://www.quackit.com/html/examples/html_links_examples.cfm\">More Link Examples...\n",
    "</a></div> \n",
    "\n",
    "<div class=\"portal\" role=\"navigation\" id='p-navigation'>\n",
    "<h3>Navigation</h3>\n",
    "<div class=\"body\">\n",
    "<ul>\n",
    " <li id=\"n-mainpage-description\"><a href=\"/wiki/Main_Page\" title=\"Visit the main page [z]\" accesskey=\"z\">Main page</a></li>\n",
    " <li id=\"n-contents\"><a href=\"/wiki/Portal:Contents\" title=\"Guides to browsing Wikipedia\">Contents</a></li>\n",
    " <li id=\"n-featuredcontent\"><a href=\"/wiki/Portal:Featured_content\" title=\"Featured content  the best of Wikipedia\">Featured content</a></li>\n",
    "<li id=\"n-currentevents\"><a href=\"/wiki/Portal:Current_events\" title=\"Find background information on current events\">Current events</a></li>\n",
    "<li id=\"n-randompage\"><a href=\"/wiki/Special:Random\" title=\"Load a random article [x]\" accesskey=\"x\">Random article</a></li>\n",
    "<li id=\"n-sitesupport\"><a href=\"//donate.wikimedia.org/wiki/Special:FundraiserRedirector?utm_source=donate&utm_medium=sidebar&utm_campaign=C13_en.wikipedia.org&uselang=en\" title=\"Support us\">Donate to Wikipedia</a></li>\n",
    "</ul>\n",
    "</div>\n",
    "</div>   \n",
    "\"\"\""
   ]
  },
  {
   "cell_type": "code",
   "execution_count": null,
   "id": "29176b52",
   "metadata": {},
   "outputs": [],
   "source": [
    "html_pattern_1 = re.compile(r\"<a\\s+href=[\\\"](.*?)[\\\"].*?>(.*?)</a>\")\n",
    "\n",
    "html_output_matches_1 = re.findall(html_pattern_1, input_html_text)\n",
    "\n",
    "for match in html_output_matches_1:\n",
    "    url, html_content = match[0],match[1]\n",
    "    url, html_content = url.strip(), html_content.strip()\n",
    "    print(f\"{url}, {html_content}\")"
   ]
  },
  {
   "cell_type": "code",
   "execution_count": null,
   "id": "c21ddb49",
   "metadata": {},
   "outputs": [],
   "source": [
    "html_pattern_5 = re.compile(r\"</?a\\s+href=[\\\"](.*?)[\\\"].*?>(.*?)\")\n",
    "\n",
    "html_output_matches_5 = re.findall(html_pattern_5, input_html_text)\n",
    "\n",
    "for match in html_output_matches_5:\n",
    "    url, html_content = match[0],match[1]\n",
    "    url, html_content = url.strip(), html_content.strip()\n",
    "    print(f\"{url}, {html_content}\")"
   ]
  },
  {
   "cell_type": "code",
   "execution_count": null,
   "id": "6c3a95ad",
   "metadata": {},
   "outputs": [],
   "source": [
    "html_pattern_2 = re.compile(r\"<a href=\\\"(.*?)\\\".*?>([\\w ,./]*)(?=</)\")\n",
    "\n",
    "html_output_matches_2 = re.findall(html_pattern_2, input_html_text)\n",
    "\n",
    "for match in html_output_matches_2:\n",
    "    url, html_content = match[0],match[1]\n",
    "    url, html_content = url.strip(), html_content.strip()\n",
    "    print(f\"{url}, {html_content}\")"
   ]
  },
  {
   "cell_type": "raw",
   "id": "395316c1",
   "metadata": {},
   "source": [
    "Breakdown of the Regular Expression:\n",
    "\n",
    "    1). <a\\s+:\n",
    "    \n",
    "    <a: Matches the literal string <a>, which is the start of an anchor tag.\n",
    "    \\s+: Matches one or more whitespace characters (spaces, tabs, newlines, etc.). \n",
    "    This allows for any spaces between the <a> tag and the href attribute.\n",
    "    \n",
    "    \n",
    "    2). href=[\"\\'](.*?)[\"\\']:\n",
    "    \n",
    "    href=[\"\\']: Matches href=\" or href=' (handles both single and double quotes for the href attribute).\n",
    "    \n",
    "    (.*?): The non-greedy match for any character (.) 0 or more times (*), matching the URL inside the href attribute. \n",
    "            This is wrapped in parentheses to capture the URL as a group.\n",
    "            \n",
    "    [\"\\']: Matches either a double quote \" or a single quote ', ensuring the href attribute is correctly closed.\n",
    "    \n",
    "    3). .*?:\n",
    "    \n",
    "    .*?: Matches any character (.) 0 or more times (*), but in a non-greedy manner (?). \n",
    "        This part is used to match any other attributes or content inside the <a> tag (e.g., target=\"_blank\", etc.), \n",
    "        but it doesn't consume too much content.\n",
    "        \n",
    "    4). >(.*?)</a>:\n",
    "\n",
    "        >: Matches the literal closing angle bracket > that ends the opening <a> tag.\n",
    "        (.*?): This is another non-greedy match that captures the content inside the anchor \n",
    "                tag (i.e., the link text or the content between <a> and </a>).\n",
    "        </a>: Matches the literal closing </a> tag."
   ]
  },
  {
   "cell_type": "code",
   "execution_count": null,
   "id": "2a0b0ced",
   "metadata": {},
   "outputs": [],
   "source": [
    "x = \"\"\"\n",
    "<p><a href=\"http://www.quackit.com/html/tutorial/html_links.cfm\">Example Link</a></p>\n",
    "<div class=\"more-info\"><a href=\"http://www.quackit.com/html/examples/html_links_examples.cfm\">More Link Examples...\n",
    "</a></div> \n",
    "\n",
    "<div class=\"portal\" role=\"navigation\" id='p-navigation'>\n",
    "<h3>Navigation</h3>\n",
    "<div class=\"body\">\n",
    "<ul>\n",
    " <li id=\"n-mainpage-description\"><a href=\"/wiki/Main_Page\" title=\"Visit the main page [z]\" accesskey=\"z\">Main page</a></li>\n",
    " <li id=\"n-contents\"><a href=\"/wiki/Portal:Contents\" title=\"Guides to browsing Wikipedia\">Contents</a></li>\n",
    " <li id=\"n-featuredcontent\"><a href=\"/wiki/Portal:Featured_content\" title=\"Featured content  the best of Wikipedia\">Featured content</a></li>\n",
    "<li id=\"n-currentevents\"><a href=\"/wiki/Portal:Current_events\" title=\"Find background information on current events\">Current events</a></li>\n",
    "<li id=\"n-randompage\"><a href=\"/wiki/Special:Random\" title=\"Load a random article [x]\" accesskey=\"x\">Random article</a></li>\n",
    "<li id=\"n-sitesupport\"><a href=\"//donate.wikimedia.org/wiki/Special:FundraiserRedirector?utm_source=donate&utm_medium=sidebar&utm_campaign=C13_en.wikipedia.org&uselang=en\" title=\"Support us\">Donate to Wikipedia</a></li>\n",
    "</ul>\n",
    "</div>\n",
    "</div>   \n",
    "\"\"\""
   ]
  },
  {
   "cell_type": "code",
   "execution_count": null,
   "id": "30f6ef44",
   "metadata": {},
   "outputs": [],
   "source": [
    "import re\n",
    "\n",
    "# Define the regex pattern to match <a> tags with optional plain text content\n",
    "html_pattern = re.compile(r'<a\\s+href=[\"\\'](.*?)[\"\\'].*?>(.*?)</a>', re.DOTALL)\n",
    "\n",
    "for _ in range(int(x)):\n",
    "    text = input()\n",
    "    html_output_matches_1 = re.findall(html_pattern, text)\n",
    "\n",
    "    for match in html_output_matches_1:\n",
    "        url, html_content = match[0], re.sub(r'<[^>]+>', '', match[1]).strip() or \"\"\n",
    "        url, html_content = url.strip(), html_content.strip()\n",
    "        print(f\"{url},{html_content}\")"
   ]
  },
  {
   "cell_type": "markdown",
   "id": "b5380c48",
   "metadata": {},
   "source": [
    "#### Q2 Detect Html Tags"
   ]
  },
  {
   "cell_type": "code",
   "execution_count": null,
   "id": "9943976e",
   "metadata": {},
   "outputs": [],
   "source": [
    "import re"
   ]
  },
  {
   "cell_type": "code",
   "execution_count": null,
   "id": "bb274871",
   "metadata": {},
   "outputs": [],
   "source": [
    "input_html_tags_str = \"\"\"\"\n",
    "<p><a href=\"http://www.quackit.com/html/tutorial/html_links.cfm\">Example Link</a></p>\n",
    "<div class=\"more-info\"><a href=\"http://www.quackit.com/html/examples/html_links_examples.cfm\">More Link Examples...\n",
    "</a></div> \"\"\""
   ]
  },
  {
   "cell_type": "code",
   "execution_count": null,
   "id": "729070be",
   "metadata": {},
   "outputs": [],
   "source": [
    "html_tags_pattern = re.compile(r\"</?.{0,3}>\")\n",
    "\n",
    "detect_html_tag = re.findall(html_tags_pattern,input_html_tags_str)\n",
    "for match in detect_html_tag:\n",
    "    print(f\"{match};\")\n"
   ]
  },
  {
   "cell_type": "code",
   "execution_count": null,
   "id": "fa6160e8",
   "metadata": {},
   "outputs": [],
   "source": [
    "html_tags_pattern = re.compile(r\"<\\s*/?\\s*([a-zA-Z0-9]+)\",re.IGNORECASE)\n",
    "\n",
    "detect_html_tag = set(re.findall(html_tags_pattern,input_html_tags_str))\n",
    "tag = list(detect_html_tag)\n",
    "print(tag)\n",
    "print(\";\".join(tag))"
   ]
  },
  {
   "cell_type": "code",
   "execution_count": null,
   "id": "15b400df",
   "metadata": {},
   "outputs": [],
   "source": [
    "new_text_str = \"\"\"\"\n",
    "<p><a href=\"http://www.quackit.com/html/tutorial/html_links.cfm\">Example Link</a></p>\n",
    "<div class=\"more-info\"><a href=\"http://www.quackit.com/html/examples/html_links_examples.cfm\">More Link Examples...\n",
    "</a></div> \n",
    "\n",
    "<div class=\"portal\" role=\"navigation\" id='p-navigation'>\n",
    "<h3>Navigation</h3>\n",
    "<div class=\"body\">\n",
    "<ul>\n",
    " <li id=\"n-mainpage-description\"><a href=\"/wiki/Main_Page\" title=\"Visit the main page [z]\" accesskey=\"z\">Main page</a></li>\n",
    " <li id=\"n-contents\"><a href=\"/wiki/Portal:Contents\" title=\"Guides to browsing Wikipedia\">Contents</a></li>\n",
    " <li id=\"n-featuredcontent\"><a href=\"/wiki/Portal:Featured_content\" title=\"Featured content  the best of Wikipedia\">Featured content</a></li>\n",
    "<li id=\"n-currentevents\"><a href=\"/wiki/Portal:Current_events\" title=\"Find background information on current events\">Current events</a></li>\n",
    "<li id=\"n-randompage\"><a href=\"/wiki/Special:Random\" title=\"Load a random article [x]\" accesskey=\"x\">Random article</a></li>\n",
    "<li id=\"n-sitesupport\"><a href=\"//donate.wikimedia.org/wiki/Special:FundraiserRedirector?utm_source=donate&utm_medium=sidebar&utm_campaign=C13_en.wikipedia.org&uselang=en\" title=\"Support us\">Donate to Wikipedia</a></li>\n",
    "</ul>\n",
    "</div>\n",
    "</div>  \n",
    "\"\"\""
   ]
  },
  {
   "cell_type": "code",
   "execution_count": null,
   "id": "db741f98",
   "metadata": {},
   "outputs": [],
   "source": [
    "new_html_tag_pattern = re.compile(r\"<\\s*/?\\s*([a-zA-Z0-9]+)\",re.IGNORECASE)\n",
    "\n",
    "detect_html_tag = set(re.findall(new_html_tag_pattern,new_text_str))\n",
    "print(detect_html_tag)\n",
    "tag = list(detect_html_tag)\n",
    "print(tag)\n",
    "print(\";\".join(tag))"
   ]
  },
  {
   "cell_type": "markdown",
   "id": "c5e541a0",
   "metadata": {},
   "source": [
    "### Q3 Find a Sub Word"
   ]
  },
  {
   "cell_type": "code",
   "execution_count": null,
   "id": "dabf4e52",
   "metadata": {},
   "outputs": [],
   "source": [
    "import re"
   ]
  },
  {
   "cell_type": "code",
   "execution_count": null,
   "id": "c2d38542",
   "metadata": {},
   "outputs": [],
   "source": [
    "sentences = [\"existing pessimist optimist this is\",\"My name is sahil Sharma\"]\n",
    "words = [\"is\"]"
   ]
  },
  {
   "cell_type": "code",
   "execution_count": null,
   "id": "0e05bac0",
   "metadata": {},
   "outputs": [],
   "source": [
    "no_of_sentences = 1\n",
    "no_of_words = 1"
   ]
  },
  {
   "cell_type": "code",
   "execution_count": null,
   "id": "9d8ab951",
   "metadata": {},
   "outputs": [],
   "source": [
    "new_word_string = []\n",
    "for s in sentences:\n",
    "    new_word_string.extend(re.split(r'\\W+',s))\n",
    "print(new_word_string)"
   ]
  },
  {
   "cell_type": "code",
   "execution_count": null,
   "id": "48d56167",
   "metadata": {},
   "outputs": [],
   "source": [
    "def count_subword_occurance(query,new_word_string):\n",
    "    count = 0\n",
    "    for lst in new_word_string:\n",
    "        matches = re.findall(r'(?<=[a-zA-Z0-9_])' + re.escape(query) + r'(?=[a-zA-Z0-9_])', lst)\n",
    "        count = count+len(matches)\n",
    "    return count"
   ]
  },
  {
   "cell_type": "code",
   "execution_count": null,
   "id": "c987d927",
   "metadata": {},
   "outputs": [],
   "source": [
    "for query in words:\n",
    "    result = count_subword_occurance(query,new_word_string)\n",
    "    print(f\"Occurnace of {query}:{result}\")"
   ]
  },
  {
   "cell_type": "code",
   "execution_count": null,
   "id": "130b424b",
   "metadata": {},
   "outputs": [],
   "source": []
  },
  {
   "cell_type": "code",
   "execution_count": null,
   "id": "13d33135",
   "metadata": {},
   "outputs": [],
   "source": [
    "import re\n",
    "\n",
    "# Hardcoded number of sentences\n",
    "\n",
    "# Hardcoded sentences\n",
    "sentences = [\n",
    "    \"existing pessimist optimist this is\"\n",
    "]\n",
    "\n",
    "# Hardcoded number of queries\n",
    "\n",
    "# Hardcoded queries\n",
    "queries = [\n",
    "    \"is\"\n",
    "]\n",
    "\n",
    "# Compile all sentences into a single list of words using non-word characters as delimiters\n",
    "words = []\n",
    "for sentence in sentences:\n",
    "    words.extend(re.split(r'\\W+', sentence))\n",
    "\n",
    "# Remove any empty strings resulting from the split\n",
    "words = [word for word in words if word]\n",
    "\n",
    "# Function to count sub-word occurrences\n",
    "def count_subword_occurrences(query, words):\n",
    "    count = 0\n",
    "    for word in words:\n",
    "        # Check if the query is surrounded by word characters inside the word\n",
    "        matches = re.findall(r'(?<=[a-zA-Z0-9_])' + re.escape(query) + r'(?=[a-zA-Z0-9_])', word)\n",
    "        count += len(matches)\n",
    "    return count\n",
    "\n",
    "# Process each query and print the results\n",
    "for query in queries:\n",
    "    result = count_subword_occurrences(query, words)\n",
    "    print(f\"Occurrences of '{query}': {result}\")\n"
   ]
  },
  {
   "cell_type": "markdown",
   "id": "83f2d6bf",
   "metadata": {},
   "source": [
    "### Q4 Alien Username"
   ]
  },
  {
   "cell_type": "code",
   "execution_count": null,
   "id": "26f6d704",
   "metadata": {},
   "outputs": [],
   "source": [
    "import re\n",
    "\n",
    "alien_username = \"\"\"\n",
    "3\n",
    "_0898989811abced_\n",
    "_abce\n",
    "_09090909abcD0\n",
    "87\n",
    "_455894903590720027BFYblVbWxrlDISuncMjQXwwwQ_\n",
    "_403102979630foXoFscfY\n",
    "_DevgMmdgyqsClabHIM\n",
    "_1933375787795592062143nKP_\n",
    ".62999857894572902222QLhbFyoGlEHjtToRlqdoBg\n",
    "_74487389998547334020720519732ArklyyAyRzarkupBjfZpd\n",
    ".68490303220611167726243jsqeges.\n",
    "_54iGQashrPJouJ.\n",
    "9831266916591720586p\n",
    ".89981716695784435049535ZOOghUoQFDGNqsMxJh_\n",
    "_ss\n",
    "_vuyAEm\n",
    "yWWSxHjWqDWFUULwCabwXYLSqZD\n",
    ".100vYwHiKImHxsWZZbjeymguUx.\n",
    "_.\n",
    "_\n",
    "_9278576752708382168FlaXgxthUE\n",
    ".QgOsjnjaPWDpKCLfaIyW\n",
    "72\n",
    "__\n",
    ".464482647584728129464ZYkCEDGpNCIAaWfoc_\n",
    "_9890113543788890127146858038YTI\n",
    "_488538848711793736RRZ.\n",
    ".\n",
    "uThgbBElriCF.\n",
    ".30955215207230lAEhMfozTmAuwsYMGtBznzAPo\n",
    "68795309830005729\n",
    "_.\n",
    ".lcFdcmpZCKKjCztESZsqyIPrDUsw\n",
    ".98005450042538733088058etRHJuxLkJZ\n",
    "_11RVTXsiyu.\n",
    ".6468rIovHWSlOwnbCcud_\n",
    "_1728831CuUNseuTtZjjEkvgkcEcVKg_\n",
    "_ss\n",
    "_ss\n",
    "_ngDMAUztoOVzVfqFnx.\n",
    ".173357992928159948624921889NCjVquaujcHwjnwymtHAmBgwuJo\n",
    ".156685nxWBppzUvp\n",
    "89\n",
    ".49791626567342fYbYzeRESzHsQUgwjimkIfW\n",
    ".HlypHWTvLCbbpZbDooQDo\n",
    "_63755338489180551796582_\n",
    "_8023093553993880202406737\n",
    ".091141729656487866786682421963nHrHxvlSuYoYQyjnjyEtIDPXCkC\n",
    ".60132497qb\n",
    ".952729LngEqyRQto.\n",
    "_45201137763608WqLNoOwjfefcKeqULqcENovscnssh.\n",
    ".aEEbYFHCodaaMjuHnaG\n",
    "_860531793303cUVQxoWzMFv_\n",
    ".643488311366709619095238188046mvFTXewyruAUqIUoB\n",
    ".7409865946118MjbXuBltRQUWZVwKoDZeAgsk\n",
    "_KUwjBVjjZPEpxoJtCJSNWRVlWcDg\n",
    "BstgezPBgUZhaNyrRAmruMFp\n",
    "_7578312341883919VZAmlzNQKjCpq\n",
    "_bWIWdVThRwSYdskCVFyAVrFbvl\n",
    "_7092680153zZJtIxmfhCdofTxj\n",
    "_3343505106370685940377492lxvx\n",
    "_006403443cuoeGGZOiLzglWZZQQFkYsOi.\n",
    "\"\"\"\n",
    "\n",
    "new_alien_username = alien_username.strip().split(\"\\n\")[0:]\n",
    "\n",
    "alien_pattern = re.compile(r\"^[_\\.][0-9]+[a-zA-Z]+_?$\")       # ^[_\\.][\\d]+[\\w]+_?$  its not valid\n",
    "for user in new_alien_username:\n",
    "    if re.match(alien_pattern,user):\n",
    "        print(\"Valid Username\")\n",
    "    else:\n",
    "        print(\"Not Valid Username\")"
   ]
  },
  {
   "cell_type": "code",
   "execution_count": null,
   "id": "d4cdcd03",
   "metadata": {},
   "outputs": [],
   "source": [
    "alien_username = \"\"\"\n",
    "3\n",
    "_0898989811abced_\n",
    "_abce\n",
    "_09090909abcD0\n",
    "\"\"\""
   ]
  },
  {
   "cell_type": "code",
   "execution_count": null,
   "id": "1bd82f6c",
   "metadata": {},
   "outputs": [],
   "source": [
    "new_alien_username = alien_username.strip().split(\"\\n\")[0:]\n",
    "print(new_alien_username)"
   ]
  },
  {
   "cell_type": "code",
   "execution_count": null,
   "id": "ae71ffca",
   "metadata": {},
   "outputs": [],
   "source": [
    "new_name = \"\"\"  Sahil, Arpit, Harshit, Manu, Anu, Gargi, Aditi \"\"\""
   ]
  },
  {
   "cell_type": "code",
   "execution_count": null,
   "id": "5679148e",
   "metadata": {},
   "outputs": [],
   "source": [
    "new_name_lst = new_name.strip().split(\",\")\n",
    "print(new_name_lst)"
   ]
  },
  {
   "cell_type": "code",
   "execution_count": null,
   "id": "673460df",
   "metadata": {},
   "outputs": [],
   "source": [
    "for i in new_name_lst:\n",
    "    print(i.strip())"
   ]
  },
  {
   "cell_type": "markdown",
   "id": "93d14d03",
   "metadata": {},
   "source": [
    "### Q5 IP Address Validation "
   ]
  },
  {
   "cell_type": "code",
   "execution_count": null,
   "id": "1fc1b65d",
   "metadata": {},
   "outputs": [],
   "source": [
    "import re"
   ]
  },
  {
   "cell_type": "code",
   "execution_count": null,
   "id": "72541e2b",
   "metadata": {},
   "outputs": [],
   "source": [
    "ip_address_string = \"\"\"\n",
    "3\n",
    "This line has junk text.\n",
    "121.18.19.20\n",
    "2001:0db8:0000:0000:0000:ff00:0042:8329\n",
    "1050:1000:1000:a000:5:600:300c:326b\n",
    "1050:1000:2000:ab00:5:600:300c:326a\n",
    "1050:1000:3000:abc0:5:600:300c:326c\n",
    "1051:1000:4000:abcd:5:600:300c:326b\n",
    "22.231.113.64\n",
    "22.231.113.164\n",
    "222.231.113.64\n",
    "\"\"\"\n",
    "\n",
    "new_ip_address = ip_address_string.strip().split(\"\\n\")[0:]\n",
    "\n",
    "def Validate_IPv4(ip_address):\n",
    "    ipv4_address_part = ip_address.split(\".\")\n",
    "    if len(ipv4_address_part) != 4:\n",
    "        return False\n",
    "    for parts in ipv4_address_part:\n",
    "        if not parts.isdigit() or not 0 <= int(parts) <= 255:\n",
    "            return False\n",
    "        if len(parts)>1 and parts[0] == '0':      # No leading zeros allowed (e.g., \"01\")\n",
    "            return False\n",
    "    return True\n",
    "\n",
    "def Validate_IPv6(ip_address):\n",
    "    hexadecimal_digits = '0123456789abcdefABCDEF'\n",
    "    ipv6_address_part = ip_address.split(\":\")\n",
    "    if len(ipv6_address_part)>8 or len(ipv6_address_part)<3:\n",
    "        return False\n",
    "    for parts in ipv6_address_part:\n",
    "        if len(parts) == 0:\n",
    "            continue\n",
    "        if not all(c in hexadecimal_digits for c in parts) or len(parts)>4:\n",
    "            return False\n",
    "    return True\n",
    "\n",
    "for ip_address in new_ip_address:\n",
    "    if Validate_IPv4(ip_address):\n",
    "        print(\"IPv4 Address\")\n",
    "    elif Validate_IPv6(ip_address):\n",
    "        print(\"IPv6 Address\")\n",
    "    else:\n",
    "        print(\"Neither\")"
   ]
  },
  {
   "cell_type": "code",
   "execution_count": null,
   "id": "6a2fd8c5",
   "metadata": {},
   "outputs": [],
   "source": [
    "ip = '121.18.19.20'"
   ]
  },
  {
   "cell_type": "code",
   "execution_count": null,
   "id": "ed6d9379",
   "metadata": {},
   "outputs": [],
   "source": [
    "new_ip = ip.split('.')\n",
    "new_ip"
   ]
  },
  {
   "cell_type": "code",
   "execution_count": null,
   "id": "3c4f7909",
   "metadata": {},
   "outputs": [],
   "source": [
    "if len(new_ip)==4:\n",
    "    print(\"NA\")\n",
    "else:\n",
    "    print(\"BB\")"
   ]
  },
  {
   "cell_type": "markdown",
   "id": "0bf97841",
   "metadata": {},
   "source": [
    "#### Q6 Detecting Valid Longitute and Latitude Pairs"
   ]
  },
  {
   "cell_type": "code",
   "execution_count": null,
   "id": "d509a8d2",
   "metadata": {},
   "outputs": [],
   "source": [
    "import re"
   ]
  },
  {
   "cell_type": "code",
   "execution_count": null,
   "id": "378bacaf",
   "metadata": {},
   "outputs": [],
   "source": [
    "lat_long_str = \"\"\"\n",
    "12\n",
    "(75, 180)\n",
    "(+90.0, -147.45)\n",
    "(77.11112223331, 149.99999999)\n",
    "(+90, +180)\n",
    "(90, 180)\n",
    "(-90.00000, -180.0000)\n",
    "(75, 280)\n",
    "(+190.0, -147.45)\n",
    "(77.11112223331, 249.99999999)\n",
    "(+90, +180.2)\n",
    "(90., 180.)\n",
    "(-090.00000, -180.0000)\n",
    "(-127, -48)\n",
    "(-127.560528, -48.560528)\n",
    "(-97, -282)\n",
    "(-97.354318, -282.354318)\n",
    "(-66, -43)\n",
    "(-66.435670, -43.435670)\n",
    "(-146, -101)\n",
    "(-146.725709, -101.725709)\n",
    "(-47, -91)\n",
    "(-47.153089, -91.153089)\n",
    "(-37, -49)\n",
    "(-37.561193, -49.561193)\n",
    "(-114, -80)\n",
    "(-114.756642, -80.756642)\n",
    "(-20, -20)\n",
    "(-20.509733, -20.509733)\n",
    "(-119, -9)\n",
    "(-119.168921, -9.168921)\n",
    "(-95, -166)\n",
    "(-95.996571, -166.996571)\n",
    "(-73, -125)\n",
    "(-73.368028, -125.368028)\n",
    "(-28, -193)\n",
    "(-28.52855, -193.52855)\n",
    "(-43, -198)\n",
    "(-43.556598, -198.556598)\n",
    "(-128, -6)\n",
    "\"\"\""
   ]
  },
  {
   "cell_type": "code",
   "execution_count": null,
   "id": "3ae6ee70",
   "metadata": {},
   "outputs": [],
   "source": [
    "new_lat_long_str = lat_long_str.strip().split(\"\\n\")"
   ]
  },
  {
   "cell_type": "code",
   "execution_count": null,
   "id": "ae51925a",
   "metadata": {},
   "outputs": [],
   "source": [
    "def is_valid_lat_long(lat,long):\n",
    "    try:\n",
    "        lat = float(lat)\n",
    "        long = float(long)\n",
    "        return -90 <= lat <= 90 and -180 <= long <= 180\n",
    "    except ValueError:\n",
    "        return False"
   ]
  },
  {
   "cell_type": "code",
   "execution_count": null,
   "id": "368a948b",
   "metadata": {
    "scrolled": true
   },
   "outputs": [],
   "source": [
    "lat_long_pattern = re.compile(r'^\\(\\s*([-+]?\\d{1,2}(\\.\\d+)?|[-+]?90(\\.0+)?)\\s*,\\s*([-+]?\\d{1,3}(\\.\\d+)?|[-+]?180(\\.0+)?)\\s*\\)$')\n",
    "\n",
    "for in_lat_long in new_lat_long_str:\n",
    "    matches = lat_long_pattern.match(in_lat_long)\n",
    "    \n",
    "    if matches:\n",
    "        latitude = matches.group(1)\n",
    "        longitude = matches.group(4)\n",
    "\n",
    "        if is_valid_lat_long(latitude,longitude):\n",
    "            print(\"Valid\")\n",
    "        else:\n",
    "            print(\"Invalid\")\n",
    "    else:\n",
    "        print(\"Invalid\")"
   ]
  },
  {
   "cell_type": "markdown",
   "id": "26cb5bf5",
   "metadata": {},
   "source": [
    "#### HackerRank Tweets"
   ]
  },
  {
   "cell_type": "code",
   "execution_count": null,
   "id": "067626e7",
   "metadata": {},
   "outputs": [],
   "source": [
    "import re"
   ]
  },
  {
   "cell_type": "code",
   "execution_count": null,
   "id": "0a62a55f",
   "metadata": {},
   "outputs": [],
   "source": [
    "hackertank_tweet_str = \"\"\"\n",
    "4\n",
    "I love #hackerrank\n",
    "I just scored 27 points in the Picking Cards challenge on #HackerRank\n",
    "I just signed up for summer cup @hackerrank\n",
    "interesting talk by hari, co-founder of hackerrank\n",
    "\"\"\""
   ]
  },
  {
   "cell_type": "code",
   "execution_count": null,
   "id": "8e61a75e",
   "metadata": {},
   "outputs": [],
   "source": [
    "hackerrank_tweet_pattern = re.compile(r\"hackerrank\",re.IGNORECASE)\n",
    "matches = re.findall(hackerrank_tweet_pattern,hackertank_tweet_str)\n",
    "# print(matches)\n",
    "count= 0\n",
    "for i in matches:\n",
    "    # print(i)\n",
    "    count = count+1\n",
    "print(count)"
   ]
  },
  {
   "cell_type": "markdown",
   "id": "65539986",
   "metadata": {},
   "source": [
    "#### Q 7 Build a Stack Exchanger Scraper"
   ]
  },
  {
   "cell_type": "code",
   "execution_count": null,
   "id": "17f01a6c",
   "metadata": {},
   "outputs": [],
   "source": [
    "import re\n",
    "from bs4 import BeautifulSoup"
   ]
  },
  {
   "cell_type": "code",
   "execution_count": null,
   "id": "96d5a834",
   "metadata": {},
   "outputs": [],
   "source": [
    "stack_scraper_str = \"\"\"\"\n",
    "<div class=\"question-summary\" id=\"question-summary-80407\">\n",
    "        <div class=\"statscontainer\">\n",
    "            <div class=\"statsarrow\"></div>\n",
    "            <div class=\"stats\">\n",
    "                <div class=\"vote\">\n",
    "                    <div class=\"votes\">\n",
    "                        <span class=\"vote-count-post \"><strong>2</strong></span>\n",
    "                        <div class=\"viewcount\">votes</div>\n",
    "                    </div>\n",
    "                </div>\n",
    "                <div class=\"status answered\">\n",
    "                    <strong>1</strong>answer\n",
    "                </div>\n",
    "            </div>\n",
    "\n",
    "    <div class=\"views \" title=\"60 views\">\n",
    "                        60 views\n",
    "    </div>\n",
    "        </div>\n",
    "        <div class=\"summary\">\n",
    "            <h3><a href=\"/questions/80407/about-power-supply-of-opertional-amplifier\" class=\"question-hyperlink\">about power supply of opertional amplifier</a></h3>\n",
    "            <div class=\"excerpt\">\n",
    "                I am constructing an operational amplifier as shown in the following figure. I use a batter as supplier for the OP Amp and set it up as a non-inverting amp circuit. I saw that the output was clipped ...\n",
    "            </div>\n",
    "\n",
    "            <div class=\"tags t-op-amp\">\n",
    "                <a href=\"/questions/tagged/op-amp\" class=\"post-tag\" title=\"show questions tagged 'op-amp'\" rel=\"tag\">op-amp</a>\n",
    "\n",
    "            </div>\n",
    "            <div class=\"started fr\">\n",
    "\n",
    "\n",
    "        <div class=\"user-info \">\n",
    "            <div class=\"user-action-time\">\n",
    "\n",
    "\n",
    "                        asked <span title=\"2013-08-27 21:49:14Z\" class=\"relativetime\">11 hours ago</span>\n",
    "            </div>\n",
    "            <div class=\"user-gravatar32\">\n",
    "                <a href=\"/users/17060/user1285419\"><div class=\"\"><img src=\"https://www.gravatar.com/avatar/08ee68b20a4eceff26f7eee99b708c08?s=32&d=identicon&r=PG\" alt=\"\" width=\"32\" height=\"32\"></div></a>\n",
    "            </div>\n",
    "            <div class=\"user-details\">\n",
    "                <a href=\"/users/17060/user1285419\">user1285419</a><br>\n",
    "                <span class=\"reputation-score\" title=\"reputation score\" dir=\"ltr\">165</span><span title=\"5 bronze badges\"><span class=\"badge3\"></span><span class=\"badgecount\">5</span></span>\n",
    "            </div>\n",
    "        </div>\n",
    "\n",
    "            </div>\n",
    "        </div>\n",
    "    </div>\n",
    "\n",
    "    <div class=\"question-summary\" id=\"question-summary-80405\">\n",
    "        <div class=\"statscontainer\">\n",
    "            <div class=\"statsarrow\"></div>\n",
    "            <div class=\"stats\">\n",
    "                <div class=\"vote\">\n",
    "                    <div class=\"votes\">\n",
    "                        <span class=\"vote-count-post \"><strong>4</strong></span>\n",
    "                        <div class=\"viewcount\">votes</div>\n",
    "                    </div>\n",
    "                </div>\n",
    "                <div class=\"status answered-accepted\">\n",
    "                    <strong>2</strong>answers\n",
    "                </div>\n",
    "            </div>\n",
    "\n",
    "    <div class=\"views \" title=\"64 views\">\n",
    "                        64 views\n",
    "    </div>\n",
    "        </div>\n",
    "        <div class=\"summary\">\n",
    "            <h3><a href=\"/questions/80405/5v-regulator-power-dissipation\" class=\"question-hyperlink\">5V Regulator Power Dissipation</a></h3>\n",
    "            <div class=\"excerpt\">\n",
    "                I am using a 5V regulator (LP2950) from ON Semiconductor. I am using this for USB power and I'm feeding in 9V from an adapter. USB requires maximum of 500mA right? So the maximum power dissipation in ...\n",
    "            </div>\n",
    "\n",
    "            <div class=\"tags t-voltage-regulator t-surface-mount t-heatsink t-5v t-power-dissipation\">\n",
    "                <a href=\"/questions/tagged/voltage-regulator\" class=\"post-tag\" title=\"show questions tagged 'voltage-regulator'\" rel=\"tag\">voltage-regulator</a> <a href=\"/questions/tagged/surface-mount\" class=\"post-tag\" title=\"show questions tagged 'surface-mount'\" rel=\"tag\">surface-mount</a> <a href=\"/questions/tagged/heatsink\" class=\"post-tag\" title=\"show questions tagged 'heatsink'\" rel=\"tag\">heatsink</a> <a href=\"/questions/tagged/5v\" class=\"post-tag\" title=\"show questions tagged '5v'\" rel=\"tag\">5v</a> <a href=\"/questions/tagged/power-dissipation\" class=\"post-tag\" title=\"show questions tagged 'power-dissipation'\" rel=\"tag\">power-dissipation</a>\n",
    "\n",
    "            </div>\n",
    "            <div class=\"started fr\">\n",
    "\n",
    "\n",
    "        <div class=\"user-info \">\n",
    "            <div class=\"user-action-time\">\n",
    "\n",
    "\n",
    "                        asked <span title=\"2013-08-27 21:39:31Z\" class=\"relativetime\">11 hours ago</span>\n",
    "            </div>\n",
    "            <div class=\"user-gravatar32\">\n",
    "                <a href=\"/users/10082/david-norman\"><div class=\"\"><img src=\"https://www.gravatar.com/avatar/8b073417e471077280b3fc5ff2eaf1f7?s=32&d=identicon&r=PG\" alt=\"\" width=\"32\" height=\"32\"></div></a>\n",
    "            </div>\n",
    "            <div class=\"user-details\">\n",
    "                <a href=\"/users/10082/david-norman\">David Norman</a><br>\n",
    "                <span class=\"reputation-score\" title=\"reputation score\" dir=\"ltr\">322</span><span title=\"3 silver badges\"><span class=\"badge2\"></span><span class=\"badgecount\">3</span></span><span title=\"10 bronze badges\"><span class=\"badge3\"></span><span class=\"badgecount\">10</span></span>\n",
    "            </div>\n",
    "        </div>\n",
    "\n",
    "            </div>\n",
    "        </div>\n",
    "    </div>\n",
    "\"\"\""
   ]
  },
  {
   "cell_type": "code",
   "execution_count": null,
   "id": "e968cd63",
   "metadata": {},
   "outputs": [],
   "source": [
    "soup = BeautifulSoup(stack_scraper_str,'lxml')\n"
   ]
  },
  {
   "cell_type": "code",
   "execution_count": null,
   "id": "61b9544d",
   "metadata": {},
   "outputs": [],
   "source": [
    "print(soup.prettify())"
   ]
  },
  {
   "cell_type": "code",
   "execution_count": null,
   "id": "c89ce416",
   "metadata": {
    "scrolled": true
   },
   "outputs": [],
   "source": [
    "soup.find_all('div',class_='question-summary')"
   ]
  },
  {
   "cell_type": "code",
   "execution_count": null,
   "id": "441d58f7",
   "metadata": {
    "scrolled": true
   },
   "outputs": [],
   "source": [
    "for question in soup.find_all('div',class_='question-summary'):\n",
    "    print(question.get('id').split('-')[-1:])"
   ]
  },
  {
   "cell_type": "code",
   "execution_count": null,
   "id": "37cdfa93",
   "metadata": {},
   "outputs": [],
   "source": [
    "for question in soup.find_all('a',class_='question-hyperlink'):\n",
    "    print(question.text.strip())"
   ]
  },
  {
   "cell_type": "code",
   "execution_count": null,
   "id": "84327d38",
   "metadata": {},
   "outputs": [],
   "source": [
    "for question in soup.find_all('div', class_ = 'excerpt'):\n",
    "    print(question.text.strip())"
   ]
  },
  {
   "cell_type": "code",
   "execution_count": null,
   "id": "cf8e0f95",
   "metadata": {},
   "outputs": [],
   "source": [
    "for question in soup.find_all('span',class_='relativetime'):\n",
    "    print(question.text.strip())"
   ]
  },
  {
   "cell_type": "code",
   "execution_count": null,
   "id": "014b0a72",
   "metadata": {},
   "outputs": [],
   "source": [
    "for question in soup.find_all('div',class_='question-summary'):\n",
    "    # Get the question id\n",
    "    question_id = question.get('id').split('-')[-1:]\n",
    "    # Get the question text\n",
    "    question_text = question.find('a',class_='question-hyperlink').text.strip()\n",
    "    # Get the question \n",
    "    comp_question = question.find('div',class_='excerpt').text.strip()\n",
    "    # Get the relative time\n",
    "    relative_time = question.find('span',class_='relativetime').text.strip()\n",
    "    \n",
    "    print(f\"{question_id};'\\n'{question_text};'\\n'{comp_question};'\\n'{relative_time}\")"
   ]
  },
  {
   "cell_type": "markdown",
   "id": "39bc7900",
   "metadata": {},
   "source": [
    "#### Q 8 Utopian Identification Number"
   ]
  },
  {
   "cell_type": "code",
   "execution_count": null,
   "id": "7ae1dd06",
   "metadata": {},
   "outputs": [],
   "source": [
    "import re"
   ]
  },
  {
   "cell_type": "code",
   "execution_count": null,
   "id": "509aafbf",
   "metadata": {},
   "outputs": [],
   "source": [
    "id_number = \"\"\"\n",
    "2\n",
    "abc012333ABCDEEEE\n",
    "0123AB\n",
    "44\n",
    "n761512618TUKEFQROSWNFWFWEQEXKPWYYCRK\n",
    "rRf99\n",
    "198VLHJIYVEBODQCQEGYGECOGRMQPE\n",
    "4536EFKQWGMRJLJLJNCNIIPEHPUKOLH\n",
    "WQSSBFJPCQQIDXZGPWBNHSEHMJ\n",
    "62560OMXEDXVAAXEUGYHTSSFUCEPCCZC\n",
    "567\n",
    "ss\n",
    "847\n",
    "w978270094\n",
    "zBb04301792RKMLT\n",
    "a\n",
    "op33QDQXV\n",
    "10453903ATVOLAD\n",
    "U6624930WZQXOVKLGRP\n",
    "UhBMVRFGHYDPSXSYWFUNTAPV\n",
    "oqrQ187291680\n",
    "DXmf9017RTIZYAKFNMBEATRK\n",
    "58GJVMGMHSQNOLPRWUKCIEMQ\n",
    "\"\"\""
   ]
  },
  {
   "cell_type": "code",
   "execution_count": null,
   "id": "bcf8c0db",
   "metadata": {},
   "outputs": [],
   "source": [
    "new_id_number = id_number.strip().split(\"\\n\")[0:]\n",
    "print(new_id_number)"
   ]
  },
  {
   "cell_type": "code",
   "execution_count": null,
   "id": "c890d27a",
   "metadata": {
    "scrolled": true
   },
   "outputs": [],
   "source": [
    "id_pattern = re.compile(r\"^[a-z]{0,3}[A-Za-z0-9]{2,8}[A-Z]{3,}$\")\n",
    "for id1 in new_id_number:\n",
    "    if re.match(id_pattern,id1):\n",
    "        print(\"Valid Match\")\n",
    "    else:\n",
    "        print(\"Invalid Match\")"
   ]
  },
  {
   "cell_type": "markdown",
   "id": "8c472f9e",
   "metadata": {},
   "source": [
    "#### Q9 Valid PAN format"
   ]
  },
  {
   "cell_type": "code",
   "execution_count": null,
   "id": "7593420f",
   "metadata": {},
   "outputs": [],
   "source": [
    "import re"
   ]
  },
  {
   "cell_type": "code",
   "execution_count": null,
   "id": "dbff5bca",
   "metadata": {},
   "outputs": [],
   "source": [
    "input_pan_card_str = \"\"\"\n",
    "3\n",
    "ABCDS1234Y\n",
    "ABAB12345Y\n",
    "avCDS1234Y\n",
    "ZKBlC3773M\n",
    "02OkO6P8NL\n",
    "QHRFF3667B\n",
    "1XQ9HO6V8S\n",
    "RuuGX6239Y\n",
    "FTThb1283H\n",
    "AECNF2139Z\n",
    "MKRKR3835R\n",
    "s19nqg88yG\n",
    "TQJBP4717M\n",
    "\"\"\""
   ]
  },
  {
   "cell_type": "code",
   "execution_count": null,
   "id": "297a7bc2",
   "metadata": {},
   "outputs": [],
   "source": [
    "new_pan_card_str = input_pan_card_str.strip().split('\\n')[0:]"
   ]
  },
  {
   "cell_type": "code",
   "execution_count": null,
   "id": "185f3422",
   "metadata": {},
   "outputs": [],
   "source": [
    "pan_card_pattern = re.compile(r\"^[A-Z]{0,5}[0-9]{0,4}[A-Z]$\")\n",
    "for pan_card in new_pan_card_str:\n",
    "    if re.match(pan_card_pattern,pan_card):\n",
    "        print(\"Valid PanCard\")\n",
    "    else:\n",
    "        print(\"Invalid PanCard\")"
   ]
  },
  {
   "cell_type": "markdown",
   "id": "4e9a808a",
   "metadata": {},
   "source": [
    "#### Q10 Saying Hi\n",
    "    Doubt in this question"
   ]
  },
  {
   "cell_type": "code",
   "execution_count": null,
   "id": "bfa37e0c",
   "metadata": {},
   "outputs": [],
   "source": [
    "import re"
   ]
  },
  {
   "cell_type": "code",
   "execution_count": null,
   "id": "aa0c87b2",
   "metadata": {},
   "outputs": [],
   "source": [
    "str_saying = \"\"\"\n",
    "5\n",
    "Hi Alex how are you doing\n",
    "hI dave how are you doing\n",
    "Good by Alex\n",
    "hidden agenda\n",
    "Alex greeted Martha by saying Hi Martha\n",
    "\"\"\""
   ]
  },
  {
   "cell_type": "code",
   "execution_count": null,
   "id": "52abf924",
   "metadata": {},
   "outputs": [],
   "source": [
    "new_str_saying = str_saying.strip().split('\\n')[0:]"
   ]
  },
  {
   "cell_type": "code",
   "execution_count": null,
   "id": "07ab3476",
   "metadata": {},
   "outputs": [],
   "source": [
    "pattern_str = re.compile(r\"^[Hh][Ii]\\s[^Dd]$\")\n",
    "for str1 in new_str_saying:\n",
    "    if re.match(pattern_str,str1):\n",
    "        print(str1)"
   ]
  },
  {
   "cell_type": "markdown",
   "id": "179f4292",
   "metadata": {},
   "source": [
    "#### Q 11 Split The Phone Number "
   ]
  },
  {
   "cell_type": "code",
   "execution_count": 1,
   "id": "f7871f73",
   "metadata": {},
   "outputs": [],
   "source": [
    "import re"
   ]
  },
  {
   "cell_type": "code",
   "execution_count": 2,
   "id": "f71ca48d",
   "metadata": {},
   "outputs": [],
   "source": [
    "phone_number_str = \"\"\"\n",
    "2\n",
    "1 877 2638277\n",
    "91-011-23413627\n",
    "1-800-1234567\n",
    "91 22 12345678\n",
    "44-20-12345678\n",
    "123 456 7890\n",
    "\"\"\""
   ]
  },
  {
   "cell_type": "code",
   "execution_count": 3,
   "id": "b39c1f8a",
   "metadata": {},
   "outputs": [],
   "source": [
    "new_phone_numbers = phone_number_str.strip().split('\\n')[0:]"
   ]
  },
  {
   "cell_type": "code",
   "execution_count": 6,
   "id": "eb7aa041",
   "metadata": {},
   "outputs": [
    {
     "name": "stdout",
     "output_type": "stream",
     "text": [
      "The Phone Number is Invalid and is ['2']\n",
      "CountryCode=1, LocalAreaCode=877, Number=2638277\n",
      "CountryCode=91, LocalAreaCode=011, Number=23413627\n",
      "CountryCode=1, LocalAreaCode=800, Number=1234567\n",
      "CountryCode=91, LocalAreaCode=22, Number=12345678\n",
      "CountryCode=44, LocalAreaCode=20, Number=12345678\n",
      "CountryCode=123, LocalAreaCode=456, Number=7890\n"
     ]
    }
   ],
   "source": [
    "for phone in new_phone_numbers:\n",
    "    phone_split= re.split(r\"[ -]\",phone)\n",
    "    # print(phone_split)\n",
    "    if len(phone_split)==3:\n",
    "        print(f\"CountryCode={phone_split[0]}, LocalAreaCode={phone_split[1]}, Number={phone_split[2]}\")\n",
    "    else:\n",
    "        print(f\"The Phone Number is Invalid and is {phone_split}\")"
   ]
  },
  {
   "cell_type": "code",
   "execution_count": null,
   "id": "230fa146",
   "metadata": {},
   "outputs": [],
   "source": []
  },
  {
   "cell_type": "code",
   "execution_count": null,
   "id": "0fbea800",
   "metadata": {},
   "outputs": [],
   "source": []
  },
  {
   "cell_type": "code",
   "execution_count": null,
   "id": "d243a08a",
   "metadata": {},
   "outputs": [],
   "source": []
  }
 ],
 "metadata": {
  "kernelspec": {
   "display_name": "Python 3 (ipykernel)",
   "language": "python",
   "name": "python3"
  },
  "language_info": {
   "codemirror_mode": {
    "name": "ipython",
    "version": 3
   },
   "file_extension": ".py",
   "mimetype": "text/x-python",
   "name": "python",
   "nbconvert_exporter": "python",
   "pygments_lexer": "ipython3",
   "version": "3.11.4"
  }
 },
 "nbformat": 4,
 "nbformat_minor": 5
}
