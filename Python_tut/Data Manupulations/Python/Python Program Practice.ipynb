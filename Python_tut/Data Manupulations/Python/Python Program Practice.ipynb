{
 "cells": [
  {
   "cell_type": "markdown",
   "id": "a4faa672",
   "metadata": {},
   "source": [
    "# DAY 1"
   ]
  },
  {
   "cell_type": "code",
   "execution_count": 1,
   "id": "8bdb6d94",
   "metadata": {},
   "outputs": [
    {
     "name": "stdout",
     "output_type": "stream",
     "text": [
      "enter the first number1\n",
      "enter the second number2\n",
      "enter the third number3\n",
      "the first number is minimum 1\n"
     ]
    }
   ],
   "source": [
    "#Write a code to find the minimum among three given numbers.\n",
    "a = int(input(\"enter the first number\"))\n",
    "b = int(input(\"enter the second number\"))\n",
    "c = int(input(\"enter the third number\"))\n",
    "if(a<b and a<c):\n",
    "    print(\"the first number is minimum\",a)\n",
    "elif(b<a and b<c):\n",
    "    print(\"the second number is mini\", b)\n",
    "else:\n",
    "    print(\"The last number is mini\", c)"
   ]
  },
  {
   "cell_type": "code",
   "execution_count": 2,
   "id": "5a4a6359",
   "metadata": {},
   "outputs": [
    {
     "name": "stdout",
     "output_type": "stream",
     "text": [
      "Enter a number which is palindrome12\n",
      "The number is not palindrome\n"
     ]
    }
   ],
   "source": [
    "# Write a code to check whether a given number is a palindrome.\n",
    "a1 = int(input(\"Enter a number which is palindrome\"))\n",
    "tmp = a1\n",
    "rev = 0\n",
    "while(a1>0):\n",
    "    r = a1%10\n",
    "    rev= rev*10+r\n",
    "    a1= a1//10\n",
    "if(tmp==rev):\n",
    "    print(\"The number is palindrome\")\n",
    "else:\n",
    "    print(\"The number is not palindrome\")"
   ]
  },
  {
   "cell_type": "code",
   "execution_count": 3,
   "id": "836496d5",
   "metadata": {},
   "outputs": [
    {
     "name": "stdout",
     "output_type": "stream",
     "text": [
      "enter the number 3\n",
      "The number is not divisible by 4\n"
     ]
    }
   ],
   "source": [
    "# Doubt check.\n",
    "# Write a code to find the sum of numbers divisible by 4.\n",
    "# The code must allow the user to accept a number and \n",
    "# add it to the sum if it is divisible by 4. \n",
    "# It should continue accepting numbers as long as the user wants \n",
    "# to provide an input and should display the final sum.\n",
    "num = int(input(\"enter the number \"))\n",
    "sum1 = 0 \n",
    "tmp1 = num\n",
    "while(num>0):\n",
    "    r = num%10\n",
    "    sum1 = sum1 + r\n",
    "    num = num/10\n",
    "if(sum1%4 == 0):\n",
    "    print(\"The number is divisible by 4\")\n",
    "else:\n",
    "    print(\"The number is not divisible by 4\")"
   ]
  },
  {
   "cell_type": "code",
   "execution_count": 4,
   "id": "b2a902f6",
   "metadata": {},
   "outputs": [
    {
     "name": "stdout",
     "output_type": "stream",
     "text": [
      "enter the number153\n",
      "The number is armstrong\n"
     ]
    }
   ],
   "source": [
    "# A three digit number is said to be an “Armstrong number” \n",
    "# if the sum of the third power of its individual digits \n",
    "# is equal to the number itself.\n",
    "# Write a program to check whether a number is armstrong or not. \n",
    "num1 = int(input(\"enter the number\"))\n",
    "sum2 = 0\n",
    "tmp2 = num1\n",
    "while(num1>0):\n",
    "    r = num1%10\n",
    "    sum2 = sum2+ (r*r*r)\n",
    "    num1 = num1//10\n",
    "if(tmp2 == sum2):\n",
    "    print(\"The number is armstrong\")\n",
    "else:\n",
    "    print(\"The number is not armstrong\")\n",
    "    "
   ]
  },
  {
   "cell_type": "code",
   "execution_count": 5,
   "id": "b5626a24",
   "metadata": {},
   "outputs": [
    {
     "name": "stdout",
     "output_type": "stream",
     "text": [
      "Enter the branch of study Arts\n",
      "Enter the score 92\n",
      "Enter the fee of the course 5000\n",
      "The final fee for arts having score is greater than 90 is  2500.0\n"
     ]
    }
   ],
   "source": [
    "# JIT University offering degree courses to students \n",
    "# has decided to provide scholarship based on the following details:\n",
    "# If there are 500 students who have joined the university, \n",
    "# write a code to calculate and display the final fees to be paid by each student.\n",
    "# You may accept the branch of study, score and course fee as \n",
    "# inputs for each student and calculate the final \n",
    "# fees to be paid by each student based on formulae given below:\n",
    "# Scholarship amount=course fee * (scholarship%)\n",
    "# Final fee= course fee - scholarship amount\n",
    "branch_of_study = input(\"Enter the branch of study \")\n",
    "score = int(input(\"Enter the score \"))\n",
    "course_fee = int(input(\"Enter the fee of the course \"))\n",
    "\n",
    "if branch_of_study == 'Arts':\n",
    "    if score > 90:\n",
    "        scholarship_amount = course_fee * (50/100)\n",
    "        Final_fee = course_fee - scholarship_amount\n",
    "        print(\"The final fee for arts having score is greater than 90 is \",Final_fee)\n",
    "    elif (score%2 != 0 and score <=89 and score >= 65):\n",
    "        scholarship_amount = course_fee * (5/100)\n",
    "        Final_fee = course_fee - scholarship_amount\n",
    "        print(\"The final fee for arts having score is an odd number \", Final_fee)\n",
    "    else:\n",
    "        print(\"Enter the course as Engineering \")\n",
    "        \n",
    "elif branch_of_study == 'Engineering':\n",
    "    if score > 85:\n",
    "        scholarship_amount = course_fee * (50/100)\n",
    "        Final_fee = course_fee - scholarship_amount\n",
    "        print(\"The final fee for engineering having score is greater than 90 is \",Final_fee )\n",
    "    elif (score%7 == 0 and score <=89 and score >=65):\n",
    "        scholarship_amount = course_fee * (5/100)\n",
    "        Final_fee = course_fee - scholarship_amount\n",
    "        print(\"The final fee for engineering having score is divisible by 7 \",Final_fee )\n",
    "        \n",
    "    else:\n",
    "        print(\"Enter the course as Arts\")\n",
    "else:\n",
    "    print(\"Enter the course as Engineering or Arts\")"
   ]
  },
  {
   "cell_type": "code",
   "execution_count": 6,
   "id": "de3f1294",
   "metadata": {},
   "outputs": [
    {
     "name": "stdout",
     "output_type": "stream",
     "text": [
      "enter the number of adult 1\n",
      "Enter the number of childern 1\n",
      "The toatl ticket cost is  48214.2\n"
     ]
    }
   ],
   "source": [
    "# The flight ticket rates for a round-trip (Mumbai->Dubai) were as follows:\n",
    "# Rate per Adult: Rs. 37550.0\n",
    "# Rate per Child: 1/3rd of the rate per adult\n",
    "# Service Tax: 7% of the ticket amount (including all passengers)\n",
    "# As it was a holiday season, the airline also offered a 10% discount \n",
    "# on the final ticket cost (after inclusion of the service tax).\n",
    "# Find and display the total ticket cost for a group which had adults and children.\n",
    "adult = int(input(\"enter the number of adult \"))\n",
    "children = int(input(\"Enter the number of childern \"))\n",
    "total_charges = (adult*37550.0) + (children* (37550/3)) \n",
    "total_charges_with_service_tax = total_charges+ total_charges*(7/100)\n",
    "total_prices = (total_charges_with_service_tax)- (total_charges_with_service_tax * (10/100))\n",
    "print(\"The toatl ticket cost is \", total_prices)"
   ]
  },
  {
   "cell_type": "markdown",
   "id": "a2b9b7a5",
   "metadata": {},
   "source": [
    "# DAY 2"
   ]
  },
  {
   "cell_type": "code",
   "execution_count": 7,
   "id": "e21dff84",
   "metadata": {},
   "outputs": [
    {
     "name": "stdout",
     "output_type": "stream",
     "text": [
      "Enter the number 1\n",
      "Enter the number which is multiple of 3 or 5\n"
     ]
    }
   ],
   "source": [
    "# Write a python program that displays a message as follows for a given number:\n",
    "# If it is a multiple of three, display \"Zip\"\n",
    "# If it is a multiple of five, display \"Zap\".\n",
    "# If it is a multiple of both three and five, display \"Zoom\".\n",
    "# If it does not satisfy any of the above given conditions, display \"Invalid\".\n",
    "number1 = int(input(\"Enter the number \"))\n",
    "if (number1%3 == 0 and number1%5 == 0):\n",
    "    print(\"Zoom\")\n",
    "elif (number1%5 == 0):\n",
    "    print(\"Zap\")\n",
    "elif (number1%3 == 0):\n",
    "    print(\"Zip\")\n",
    "else:\n",
    "    print(\"Enter the number which is multiple of 3 or 5\")"
   ]
  },
  {
   "cell_type": "code",
   "execution_count": 8,
   "id": "03d12dbc",
   "metadata": {},
   "outputs": [
    {
     "name": "stdout",
     "output_type": "stream",
     "text": [
      "Enter the marks of student95\n",
      "The grade is A \n"
     ]
    }
   ],
   "source": [
    "# A teacher in a school wants to find and display the grade of \n",
    "# a student based on his/her percentage score. \n",
    "# The criterion for grades is as given below:\n",
    "# Assume that the percentage score is a whole number. \n",
    "# Write a python program for the above requirement.\n",
    "student_marks = int(input(\"Enter the marks of student\"))\n",
    "if student_marks >=80 and student_marks <= 100:\n",
    "    print(\"The grade is A \")\n",
    "elif student_marks >=73 and student_marks <= 79:\n",
    "    print(\"The grade is B \")\n",
    "elif student_marks >=65 and student_marks <=72:\n",
    "    print(\"The grade is C \")\n",
    "elif student_marks >= 0 and student_marks <=64:\n",
    "    print(\"The grade is D \")\n",
    "else:\n",
    "    print(\"The value is Z\")"
   ]
  },
  {
   "cell_type": "code",
   "execution_count": 9,
   "id": "aecefdfa",
   "metadata": {},
   "outputs": [
    {
     "name": "stdout",
     "output_type": "stream",
     "text": [
      "enter the first integer1\n",
      "enter the second integer1\n",
      "enter the third integer1\n",
      "The output multiplication of the three integer is  1\n"
     ]
    }
   ],
   "source": [
    "# Write a python program to find and display the product of \n",
    "# three positive integer values based on the rule mentioned below:\n",
    "# It should display the product of the three values except \n",
    "# when one of the integer value is 7. In that case, \n",
    "# 7 should not be included in the product and \n",
    "# the values to its left also should not be included.\n",
    "# If there is only one value to be considered, display that value itself. \n",
    "# If no values can be included in the product, display -1.\n",
    "\n",
    "# Note: Assume that if 7 is one of the positive integer values, \n",
    "# then it will occur only once. Refer the sample I/O given below.\n",
    "\n",
    "integer1 = int(input(\"enter the first integer\"))\n",
    "integer2 = int(input(\"enter the second integer\"))\n",
    "integer3 = int(input(\"enter the third integer\"))\n",
    "\n",
    "if (integer1 !=7 and integer2 !=7 and integer3 != 7):\n",
    "    output = integer1 * integer2 * integer3\n",
    "    print(\"The output multiplication of the three integer is \", output)\n",
    "elif (integer1 !=7 and integer2 ==7 and integer3 !=7):\n",
    "    output = integer3*1*1\n",
    "    print(\"The output is after multiplication if 7 in middle postion \", output)\n",
    "elif (integer1 ==7 and integer2 !=7 and integer3 !=7):\n",
    "    output = integer2*integer3\n",
    "    print(\"The multiplication of 2 number if first number is equal to 7 \", output)\n",
    "elif(integer1 !=7 and integer2 !=7 and integer3 ==7):\n",
    "    output = -1\n",
    "    print(\"the number if 7 is at the last is\", output)\n",
    "else:\n",
    "    print(\"Print the postive integer only\")"
   ]
  },
  {
   "cell_type": "code",
   "execution_count": 10,
   "id": "2f2c66c3",
   "metadata": {},
   "outputs": [
    {
     "ename": "NameError",
     "evalue": "name 'f' is not defined",
     "output_type": "error",
     "traceback": [
      "\u001b[1;31m---------------------------------------------------------------------------\u001b[0m",
      "\u001b[1;31mNameError\u001b[0m                                 Traceback (most recent call last)",
      "Cell \u001b[1;32mIn[10], line 22\u001b[0m\n\u001b[0;32m     20\u001b[0m             one_needed \u001b[38;5;241m=\u001b[39m rupees_to_make\u001b[38;5;241m-\u001b[39m(five_needed\u001b[38;5;241m*\u001b[39m\u001b[38;5;241m5\u001b[39m)\n\u001b[0;32m     21\u001b[0m             f \u001b[38;5;241m=\u001b[39m \u001b[38;5;241m1\u001b[39m\n\u001b[1;32m---> 22\u001b[0m \u001b[38;5;28;01mif\u001b[39;00m \u001b[43mf\u001b[49m \u001b[38;5;241m==\u001b[39m \u001b[38;5;241m1\u001b[39m:\n\u001b[0;32m     23\u001b[0m     \u001b[38;5;28mprint\u001b[39m(\u001b[38;5;124m\"\u001b[39m\u001b[38;5;124mNo of five needed\u001b[39m\u001b[38;5;124m\"\u001b[39m,five_needed)\n\u001b[0;32m     24\u001b[0m     \u001b[38;5;28mprint\u001b[39m(\u001b[38;5;124m\"\u001b[39m\u001b[38;5;124mNo of one needed\u001b[39m\u001b[38;5;124m\"\u001b[39m,one_needed)\n",
      "\u001b[1;31mNameError\u001b[0m: name 'f' is not defined"
     ]
    }
   ],
   "source": [
    "# Doubt check\n",
    "# You have x no. of 5 rupee coins and y no. of 1 rupee coins. \n",
    "# You want to purchase an item for amount z. The shopkeeper wants you to provide exact change. \n",
    "# You want to pay using minimum number of coins. How many 5 rupee coins and 1 rupee coins will you use? \n",
    "# If exact change is not possible then display -1.\n",
    "def make_amount(rupees_to_make,no_of_five,no_of_one):\n",
    "    five_needed=0\n",
    "    one_needed=0\n",
    "    one = 0\n",
    "    five = 0\n",
    "    f = 1\n",
    "    if rupees_to_make <= (5*no_of_five+no_of_one):\n",
    "        five = rupees_to_make//5\n",
    "        one = rupees_to_make-(no_of_five*5)\n",
    "        if five<= no_of_five and one<= no_of_one:\n",
    "            five_needed = five\n",
    "            one_needed = one\n",
    "        elif five>no_of_five:\n",
    "            five_needed = no_of_five\n",
    "            one_needed = rupees_to_make-(five_needed*5)\n",
    "            f = 1\n",
    "if f == 1:\n",
    "    print(\"No of five needed\",five_needed)\n",
    "    print(\"No of one needed\",one_needed)\n",
    "else:\n",
    "    print(-1)\n",
    "\n",
    "make_amount(28,8,5)"
   ]
  },
  {
   "cell_type": "code",
   "execution_count": 11,
   "id": "fc63936b",
   "metadata": {},
   "outputs": [
    {
     "name": "stdout",
     "output_type": "stream",
     "text": [
      "enter the years to get the next 15 leap years 1950\n",
      "The list of leap year is [1952, 1956, 1960, 1964, 1968, 1972, 1976, 1980, 1984, 1988, 1992, 1996, 2000, 2004, 2008]\n"
     ]
    }
   ],
   "source": [
    "# Write a Python program to generate the next 15 leap years starting from a given year. \n",
    "# Populate the leap years into a list and display the list.\n",
    "def find_leap_years(leap_year):\n",
    "    count =0\n",
    "    lst_of_leap_years = []\n",
    "    while(count<15):\n",
    "        if(leap_year%4==0 or (leap_year%400==0 and leap_year%100==0)):\n",
    "            lst_of_leap_years.append(leap_year)\n",
    "            count = count+1\n",
    "        leap_year= leap_year+1\n",
    "    return lst_of_leap_years\n",
    "leap_year = int(input(\"enter the years to get the next 15 leap years \"))\n",
    "print(\"The list of leap year is\",find_leap_years(leap_year))"
   ]
  },
  {
   "cell_type": "code",
   "execution_count": 12,
   "id": "0d651901",
   "metadata": {},
   "outputs": [
    {
     "name": "stdout",
     "output_type": "stream",
     "text": [
      "34941.95\n"
     ]
    }
   ],
   "source": [
    "#Write a Python program to calculate the bill amount to be paid by a customer \n",
    "# based on the list of gems and quantity purchased. \n",
    "# Any purchase with a total bill amount above Rs.30000 is entitled to 5% discount. \n",
    "# If any gem required by the customer is not available in the store, then consider total bill amount to be -1.\n",
    "# gem_lst = [\"Emerald\",\"Ivory\",\"Jasper\",\"Ruby\",\"Garnet\"]\n",
    "# price_lst = [1760,2119,1599,3920,3999]\n",
    "# reqd_gem = [\"Ivory\",\"Emerald\",\"Garnet\"]\n",
    "# reqd_quantity = [3,10,12]\n",
    "def calculate_bill_amount(gems_list, price_list, reqd_gems,reqd_quantity):\n",
    "    bill_amount=0\n",
    "    for gem in reqd_gems:\n",
    "        if gem in gems_list:\n",
    "            i1=gems_list.index(gem)\n",
    "            i2=reqd_gems.index(gem)\n",
    "            bill_amount=bill_amount+(price_list[i1]*reqd_quantity[i2])\n",
    "            if bill_amount>=30000:\n",
    "                bill_amount = bill_amount*0.95\n",
    "        else:\n",
    "                return -1\n",
    "    return bill_amount\n",
    "    \n",
    "reqd_quantity=[2, 1, 3]\n",
    "reqd_gems=['Amber', 'Opal', 'Topaz']\n",
    "gems_list=['Amber', 'Aquamarine', 'Opal', 'Topaz']\n",
    "price_list=[4392, 1342, 8734, 6421]\n",
    "\n",
    "bill_amount=calculate_bill_amount(gems_list, price_list, reqd_gems, reqd_quantity)\n",
    "print(bill_amount)"
   ]
  },
  {
   "cell_type": "code",
   "execution_count": 14,
   "id": "004cc45a",
   "metadata": {},
   "outputs": [
    {
     "name": "stdout",
     "output_type": "stream",
     "text": [
      "enter the measument for first line of triangle1\n",
      "enter the measument for second line of triangle1\n",
      "enter the measument for third line of triangle1\n",
      "The figure form a triangle\n"
     ]
    }
   ],
   "source": [
    "# Write a python function to check whether three given numbers can form the sides of a triangle.\n",
    "def triangle_formed(a,b,c):\n",
    "    if(a+b>c or b+c>a or a+c>b):\n",
    "        print(\"The figure form a triangle\")\n",
    "    else:\n",
    "        print(\"the figure does not form a triangle\")\n",
    "\n",
    "a= int(input(\"enter the measument for first line of triangle\"))\n",
    "b= int(input(\"enter the measument for second line of triangle\"))\n",
    "c= int(input(\"enter the measument for third line of triangle\"))\n",
    "triangle_formed(a,b,c)"
   ]
  },
  {
   "cell_type": "code",
   "execution_count": 18,
   "id": "731d2538",
   "metadata": {},
   "outputs": [
    {
     "name": "stdout",
     "output_type": "stream",
     "text": [
      "enter the no of heads: 150\n",
      "enter the no of legs: 400\n",
      "The no of chicknes:  100 The no of Rabbit is:  50\n"
     ]
    }
   ],
   "source": [
    "# chickens and Rabbit problem \n",
    "import math \n",
    "heads = int(input(\"enter the no of heads: \"))\n",
    "legs = int(input(\"enter the no of legs: \"))\n",
    "\n",
    "r= (legs*0.5) - heads\n",
    "if math.ceil(r)==math.floor(r):\n",
    "    r = int(r)\n",
    "    c = heads-r\n",
    "    print(\"The no of chicknes: \", c , \"The no of Rabbit is: \", r)\n",
    "\n",
    "# c+r : heads, chickens c, rabbits b \n",
    "# 2c +4r: legs, chickens c, rabbits b\n",
    "# c= head-r\n",
    "# r = legs*0.5-head"
   ]
  },
  {
   "cell_type": "code",
   "execution_count": 1,
   "id": "a7642422",
   "metadata": {},
   "outputs": [
    {
     "name": "stdout",
     "output_type": "stream",
     "text": [
      "Enter the first number10\n",
      "Enter the second number90\n",
      "90\n"
     ]
    }
   ],
   "source": [
    "# Write a python program which finds the maximum number \n",
    "# from num1 to num2 (num2 inclusive) based on the following rules.\n",
    "\n",
    "# Always num1 should be less than num2\n",
    "# Consider each number from num1 to num2 (num2 inclusive). \n",
    "\n",
    "# Populate the number into a list, if the below conditions are satisfied\n",
    "# Sum of the digits of the number is a multiple of 3\n",
    "# Number has only two digits\n",
    "# Number is a multiple of 5\n",
    "def get_max(num1,num2):\n",
    "    if num1<num2:\n",
    "        lst = []\n",
    "        for i in range(num1,num2+1):\n",
    "            n = [int(d) for d in str(i)]\n",
    "            if (sum(n)%3 == 0 and len(n)==2 and i%5==0):\n",
    "                lst.append(i)\n",
    "        if len(lst)>0:\n",
    "            return max(lst)\n",
    "        else:\n",
    "            return -1\n",
    "    else:\n",
    "        return -1\n",
    "\n",
    "num1 = int(input(\"Enter the first number\"))\n",
    "num2 = int(input(\"Enter the second number\"))\n",
    "print(get_max(num1,num2))"
   ]
  },
  {
   "cell_type": "code",
   "execution_count": 4,
   "id": "491b059f",
   "metadata": {
    "scrolled": true
   },
   "outputs": [
    {
     "name": "stdout",
     "output_type": "stream",
     "text": [
      "enter the airline: 2[Character]ai\n",
      "enter your source city Bangalore\n",
      "enter the destinaton city Delhi\n",
      "enter the no of passenger 10\n",
      "['AI:Ban:Del:106', 'AI:Ban:Del:107', 'AI:Ban:Del:108', 'AI:Ban:Del:109', 'AI:Ban:Del:110']\n"
     ]
    }
   ],
   "source": [
    "# Write a python program to generate the ticket numbers for specified \n",
    "# number of passengers traveling in a flight as per the details mentioned below:\n",
    "# The ticket number should be generated as airline:src:dest:number\n",
    "def get_ticket(ai,src,dest,no):\n",
    "    t_no = 101\n",
    "    ai = ai.upper()\n",
    "    src = src[:3]\n",
    "    dest = dest[:3]\n",
    "    l = []\n",
    "    for i in range(no):\n",
    "        s = ai+\":\"+src+\":\"+dest+\":\"+str(t_no)\n",
    "        l.append(s)\n",
    "        t_no = t_no+1\n",
    "    l = l[-5:]\n",
    "    return l \n",
    "\n",
    "airline = input(\"enter the airline: 2[Character]\")\n",
    "source = input(\"enter your source city \")\n",
    "destination = input(\"enter the destinaton city \")\n",
    "number = int(input(\"enter the no of passenger \"))\n",
    "print(get_ticket(airline,source,destination,number))"
   ]
  },
  {
   "cell_type": "code",
   "execution_count": 1,
   "id": "64e671ff",
   "metadata": {},
   "outputs": [
    {
     "name": "stdout",
     "output_type": "stream",
     "text": [
      "Enter the string for christmas wishing in english merry christmas and happy new year\n",
      "god-jul-och-gott-nytt-ar\n"
     ]
    }
   ],
   "source": [
    "# Represent a small bilingual (English-Swedish) glossary given below as a Python dictionary\n",
    "# {\"merry\":\"god\", \"christmas\":\"jul\", \"and\":\"och\", \"happy\":\"gott\", \"new\":\"nytt\", \"year\":\"ar\"} \n",
    "# and use it to translate your Christmas wishes from English into Swedish.\n",
    "\n",
    "def translate(bill_dict,wish):\n",
    "    wish_lst = wish.split(\" \")\n",
    "    translated_lst = []\n",
    "    for word in wish_lst:\n",
    "        translated_lst.append(bill_dict[word])\n",
    "    t_wish = \"-\".join(translated_lst)\n",
    "    return t_wish\n",
    "\n",
    "bill_dict = {\n",
    "    \"merry\":\"god\", \n",
    "    \"christmas\":\"jul\", \n",
    "    \"and\":\"och\", \n",
    "    \"happy\":\"gott\", \n",
    "    \"new\":\"nytt\", \n",
    "    \"year\":\"ar\"\n",
    "}\n",
    "\n",
    "wish = input(\"Enter the string for christmas wishing in english \")\n",
    "print(translate(bill_dict,wish))\n",
    "\n"
   ]
  },
  {
   "cell_type": "code",
   "execution_count": 6,
   "id": "e65059a0",
   "metadata": {},
   "outputs": [
    {
     "name": "stdout",
     "output_type": "stream",
     "text": [
      "enter the no of distance bus travelled5\n",
      "Enter the no of Passenger 10\n",
      "765.0\n"
     ]
    }
   ],
   "source": [
    "#The road transport corporation (RTC) of a city wants to know whether a particular bus-route is running on profit or loss.\n",
    "#Assume that the following information are given:\n",
    "#Price per litre of fuel = 70\n",
    "#Mileage of the bus in km/litre of fuel = 10\n",
    "#Price(Rs) per ticket = 80\n",
    "#The bus runs on multiple routes having different distance in kms and number of passengers.\n",
    "#Write a function to calculate and return the profit earned (Rs) in each route. Return -1 in case of loss.\n",
    "def total_calculated_amount(distance, passenger):\n",
    "    price_per_ltr = 70\n",
    "    milage =10\n",
    "    price_per_ticket = 80 \n",
    "    fuel_consumed = distance/milage\n",
    "    spent = fuel_consumed*price_per_ltr\n",
    "    earned = price_per_ticket*passenger\n",
    "    profit = earned-spent\n",
    "    if profit <0:\n",
    "        return -1\n",
    "    else:\n",
    "        return profit\n",
    "\n",
    "distance= int(input(\"enter the no of distance bus travelled\"))\n",
    "passenger = int(input(\"Enter the no of Passenger \"))\n",
    "print(total_calculated_amount(distance, passenger))"
   ]
  },
  {
   "cell_type": "code",
   "execution_count": null,
   "id": "f98945d0",
   "metadata": {},
   "outputs": [],
   "source": []
  },
  {
   "cell_type": "code",
   "execution_count": null,
   "id": "40502813",
   "metadata": {},
   "outputs": [],
   "source": []
  },
  {
   "cell_type": "code",
   "execution_count": null,
   "id": "c3511464",
   "metadata": {},
   "outputs": [],
   "source": []
  },
  {
   "cell_type": "code",
   "execution_count": null,
   "id": "26f99e4e",
   "metadata": {},
   "outputs": [],
   "source": []
  },
  {
   "cell_type": "code",
   "execution_count": null,
   "id": "e1fe092a",
   "metadata": {},
   "outputs": [],
   "source": []
  },
  {
   "cell_type": "code",
   "execution_count": null,
   "id": "5b04c3e3",
   "metadata": {},
   "outputs": [],
   "source": []
  },
  {
   "cell_type": "code",
   "execution_count": null,
   "id": "607d1623",
   "metadata": {},
   "outputs": [],
   "source": []
  },
  {
   "cell_type": "code",
   "execution_count": null,
   "id": "4c39b033",
   "metadata": {},
   "outputs": [],
   "source": []
  },
  {
   "cell_type": "code",
   "execution_count": null,
   "id": "b344e439",
   "metadata": {},
   "outputs": [],
   "source": []
  },
  {
   "cell_type": "code",
   "execution_count": null,
   "id": "36b0f1da",
   "metadata": {},
   "outputs": [],
   "source": []
  },
  {
   "cell_type": "code",
   "execution_count": null,
   "id": "fe27336c",
   "metadata": {},
   "outputs": [],
   "source": []
  },
  {
   "cell_type": "code",
   "execution_count": null,
   "id": "68b782de",
   "metadata": {},
   "outputs": [],
   "source": []
  },
  {
   "cell_type": "code",
   "execution_count": null,
   "id": "d9193c49",
   "metadata": {},
   "outputs": [],
   "source": []
  },
  {
   "cell_type": "code",
   "execution_count": null,
   "id": "09563d7f",
   "metadata": {},
   "outputs": [],
   "source": []
  },
  {
   "cell_type": "code",
   "execution_count": null,
   "id": "967c867a",
   "metadata": {},
   "outputs": [],
   "source": []
  },
  {
   "cell_type": "code",
   "execution_count": null,
   "id": "1193c210",
   "metadata": {},
   "outputs": [],
   "source": []
  },
  {
   "cell_type": "code",
   "execution_count": null,
   "id": "df6fd661",
   "metadata": {},
   "outputs": [],
   "source": []
  },
  {
   "cell_type": "code",
   "execution_count": null,
   "id": "9ecede5c",
   "metadata": {},
   "outputs": [],
   "source": []
  },
  {
   "cell_type": "code",
   "execution_count": null,
   "id": "a43c8908",
   "metadata": {},
   "outputs": [],
   "source": []
  },
  {
   "cell_type": "code",
   "execution_count": null,
   "id": "4e0404c6",
   "metadata": {},
   "outputs": [],
   "source": []
  },
  {
   "cell_type": "code",
   "execution_count": null,
   "id": "2579deb9",
   "metadata": {},
   "outputs": [],
   "source": []
  },
  {
   "cell_type": "code",
   "execution_count": null,
   "id": "fa015a25",
   "metadata": {},
   "outputs": [],
   "source": []
  },
  {
   "cell_type": "code",
   "execution_count": null,
   "id": "6fd30af8",
   "metadata": {},
   "outputs": [],
   "source": []
  },
  {
   "cell_type": "code",
   "execution_count": null,
   "id": "e66b2218",
   "metadata": {},
   "outputs": [],
   "source": []
  },
  {
   "cell_type": "markdown",
   "id": "011e648e",
   "metadata": {},
   "source": [
    "## "
   ]
  }
 ],
 "metadata": {
  "kernelspec": {
   "display_name": "Python 3 (ipykernel)",
   "language": "python",
   "name": "python3"
  },
  "language_info": {
   "codemirror_mode": {
    "name": "ipython",
    "version": 3
   },
   "file_extension": ".py",
   "mimetype": "text/x-python",
   "name": "python",
   "nbconvert_exporter": "python",
   "pygments_lexer": "ipython3",
   "version": "3.11.4"
  }
 },
 "nbformat": 4,
 "nbformat_minor": 5
}
