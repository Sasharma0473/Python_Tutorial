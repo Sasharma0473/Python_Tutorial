{
 "cells": [
  {
   "cell_type": "markdown",
   "id": "6e265320",
   "metadata": {},
   "source": [
    "### Strings \n",
    "\n",
    "    Strings are sequence of Characters\n",
    "\n",
    "    In Python specifically, strings are a sequence of Unicode Characters:\n",
    "\n",
    "- Creating Strings\n",
    "- Accessing Strings\n",
    "- Adding Chars to Strings\n",
    "- Editing Strings\n",
    "- Deleting Strings\n",
    "- Operations on Strings\n",
    "- String Functions"
   ]
  },
  {
   "cell_type": "markdown",
   "id": "ce89b3e5",
   "metadata": {},
   "source": [
    "#### Creating String "
   ]
  },
  {
   "cell_type": "code",
   "execution_count": 39,
   "id": "f32c319f",
   "metadata": {},
   "outputs": [
    {
     "name": "stdout",
     "output_type": "stream",
     "text": [
      "hello\n",
      "Hello\n",
      "Hello\n",
      "hello\n"
     ]
    }
   ],
   "source": [
    "str1 = 'hello'\n",
    "print(str1)\n",
    "str2 = \"Hello\"\n",
    "print(str2)\n",
    "# multiline string\n",
    "str3 = '''Hello'''\n",
    "print(str3)\n",
    "str4 = \"\"\"hello\"\"\"\n",
    "print(str4)"
   ]
  },
  {
   "cell_type": "code",
   "execution_count": null,
   "id": "b6d617e0",
   "metadata": {},
   "outputs": [],
   "source": [
    "it's raining yesterday\n",
    "\"it's raining yesterday\""
   ]
  },
  {
   "cell_type": "markdown",
   "id": "81c062ed",
   "metadata": {},
   "source": [
    "#### Accessing substring from the string"
   ]
  },
  {
   "cell_type": "code",
   "execution_count": 1,
   "id": "bb687ced",
   "metadata": {},
   "outputs": [
    {
     "name": "stdout",
     "output_type": "stream",
     "text": [
      "h\n",
      "e\n",
      "l\n"
     ]
    },
    {
     "ename": "IndexError",
     "evalue": "string index out of range",
     "output_type": "error",
     "traceback": [
      "\u001b[1;31m---------------------------------------------------------------------------\u001b[0m",
      "\u001b[1;31mIndexError\u001b[0m                                Traceback (most recent call last)",
      "Cell \u001b[1;32mIn[1], line 6\u001b[0m\n\u001b[0;32m      4\u001b[0m \u001b[38;5;28mprint\u001b[39m(str5[\u001b[38;5;241m1\u001b[39m])\n\u001b[0;32m      5\u001b[0m \u001b[38;5;28mprint\u001b[39m(str5[\u001b[38;5;241m2\u001b[39m])\n\u001b[1;32m----> 6\u001b[0m \u001b[38;5;28mprint\u001b[39m(\u001b[43mstr5\u001b[49m\u001b[43m[\u001b[49m\u001b[38;5;241;43m50\u001b[39;49m\u001b[43m]\u001b[49m)\n",
      "\u001b[1;31mIndexError\u001b[0m: string index out of range"
     ]
    }
   ],
   "source": [
    "# Positive Indexing\n",
    "str5 = 'hello world'\n",
    "print(str5[0])\n",
    "print(str5[1])\n",
    "print(str5[2])\n",
    "print(str5[50])"
   ]
  },
  {
   "cell_type": "code",
   "execution_count": 2,
   "id": "a200eabf",
   "metadata": {},
   "outputs": [
    {
     "name": "stdout",
     "output_type": "stream",
     "text": [
      "d\n",
      "l\n",
      "w\n"
     ]
    }
   ],
   "source": [
    "# Negative Indexing\n",
    "str6 = \"hello world\"\n",
    "print(str6[-1])\n",
    "print(str6[-2])\n",
    "print(str6[-5])"
   ]
  },
  {
   "cell_type": "code",
   "execution_count": 3,
   "id": "75cd9d3e",
   "metadata": {},
   "outputs": [
    {
     "name": "stdout",
     "output_type": "stream",
     "text": [
      "hello w\n",
      "llo wo\n",
      "hel\n",
      "hlw\n",
      "row olle\n",
      "dlrow olleh\n",
      "dlrow\n"
     ]
    }
   ],
   "source": [
    "# Slicing \n",
    "str7 = \"hello world\"\n",
    "print(str7[0:7])\n",
    "print(str7[2:8])\n",
    "print(str7[:3])\n",
    "print(str7[0:8:3])\n",
    "print(str7[8:0:-1])\n",
    "print(str7[::-1])\n",
    "print(str7[-1:-6:-1])"
   ]
  },
  {
   "cell_type": "code",
   "execution_count": 4,
   "id": "76fc833e",
   "metadata": {},
   "outputs": [
    {
     "ename": "TypeError",
     "evalue": "'str' object does not support item assignment",
     "output_type": "error",
     "traceback": [
      "\u001b[1;31m---------------------------------------------------------------------------\u001b[0m",
      "\u001b[1;31mTypeError\u001b[0m                                 Traceback (most recent call last)",
      "Cell \u001b[1;32mIn[4], line 3\u001b[0m\n\u001b[0;32m      1\u001b[0m \u001b[38;5;66;03m# Python string are immutable\u001b[39;00m\n\u001b[0;32m      2\u001b[0m str8 \u001b[38;5;241m=\u001b[39m \u001b[38;5;124m\"\u001b[39m\u001b[38;5;124mHello World\u001b[39m\u001b[38;5;124m\"\u001b[39m\n\u001b[1;32m----> 3\u001b[0m \u001b[43mstr8\u001b[49m\u001b[43m[\u001b[49m\u001b[38;5;241;43m0\u001b[39;49m\u001b[43m]\u001b[49m\u001b[38;5;241m=\u001b[39m \u001b[38;5;124m'\u001b[39m\u001b[38;5;124mh\u001b[39m\u001b[38;5;124m'\u001b[39m\n",
      "\u001b[1;31mTypeError\u001b[0m: 'str' object does not support item assignment"
     ]
    }
   ],
   "source": [
    "# Python string are immutable\n",
    "str8 = \"Hello World\"\n",
    "str8[0]= 'h'"
   ]
  },
  {
   "cell_type": "code",
   "execution_count": 5,
   "id": "30cddf83",
   "metadata": {},
   "outputs": [
    {
     "name": "stdout",
     "output_type": "stream",
     "text": [
      "hello world\n"
     ]
    },
    {
     "ename": "NameError",
     "evalue": "name 'str9' is not defined",
     "output_type": "error",
     "traceback": [
      "\u001b[1;31m---------------------------------------------------------------------------\u001b[0m",
      "\u001b[1;31mNameError\u001b[0m                                 Traceback (most recent call last)",
      "Cell \u001b[1;32mIn[5], line 4\u001b[0m\n\u001b[0;32m      2\u001b[0m \u001b[38;5;28mprint\u001b[39m(str9)\n\u001b[0;32m      3\u001b[0m \u001b[38;5;28;01mdel\u001b[39;00m str9\n\u001b[1;32m----> 4\u001b[0m \u001b[38;5;28mprint\u001b[39m(\u001b[43mstr9\u001b[49m)\n",
      "\u001b[1;31mNameError\u001b[0m: name 'str9' is not defined"
     ]
    }
   ],
   "source": [
    "str9 = \"hello world\"\n",
    "print(str9)\n",
    "del str9\n",
    "print(str9)"
   ]
  },
  {
   "cell_type": "markdown",
   "id": "88bc7d7b",
   "metadata": {},
   "source": [
    "#### Operation on string \n",
    "- Arithemtic operation\n",
    "- relational operation\n",
    "- logical opeartion \n",
    "- loops on string \n",
    "- membership operation "
   ]
  },
  {
   "cell_type": "code",
   "execution_count": 1,
   "id": "b4ee079f",
   "metadata": {},
   "outputs": [
    {
     "name": "stdout",
     "output_type": "stream",
     "text": [
      "delhi mumbai\n"
     ]
    }
   ],
   "source": [
    "print('delhi' + ' mumbai')"
   ]
  },
  {
   "cell_type": "code",
   "execution_count": 2,
   "id": "0ca5cfde",
   "metadata": {},
   "outputs": [
    {
     "name": "stdout",
     "output_type": "stream",
     "text": [
      "delhidelhidelhidelhidelhi\n"
     ]
    }
   ],
   "source": [
    "print('delhi'*5)"
   ]
  },
  {
   "cell_type": "code",
   "execution_count": 3,
   "id": "97306980",
   "metadata": {},
   "outputs": [
    {
     "data": {
      "text/plain": [
       "False"
      ]
     },
     "execution_count": 3,
     "metadata": {},
     "output_type": "execute_result"
    }
   ],
   "source": [
    "'delhi' == 'mumbai'"
   ]
  },
  {
   "cell_type": "code",
   "execution_count": 4,
   "id": "d7a3e2e0",
   "metadata": {},
   "outputs": [
    {
     "data": {
      "text/plain": [
       "True"
      ]
     },
     "execution_count": 4,
     "metadata": {},
     "output_type": "execute_result"
    }
   ],
   "source": [
    "'delhi' == 'delhi'"
   ]
  },
  {
   "cell_type": "code",
   "execution_count": 7,
   "id": "4413f593",
   "metadata": {},
   "outputs": [
    {
     "data": {
      "text/plain": [
       "True"
      ]
     },
     "execution_count": 7,
     "metadata": {},
     "output_type": "execute_result"
    }
   ],
   "source": [
    "# compare string lexiographically - we compare the string on the basis of ascii code.\n",
    "'mumbai'>'pune'"
   ]
  },
  {
   "cell_type": "code",
   "execution_count": 9,
   "id": "1419a97c",
   "metadata": {},
   "outputs": [
    {
     "data": {
      "text/plain": [
       "True"
      ]
     },
     "execution_count": 9,
     "metadata": {},
     "output_type": "execute_result"
    }
   ],
   "source": [
    "'Pune'>'pune'"
   ]
  },
  {
   "cell_type": "code",
   "execution_count": 7,
   "id": "eeb03875",
   "metadata": {},
   "outputs": [
    {
     "data": {
      "text/plain": [
       "'world'"
      ]
     },
     "execution_count": 7,
     "metadata": {},
     "output_type": "execute_result"
    }
   ],
   "source": [
    "# Background story:- python m string ke andar agar kuch characters hota h toh wo usse True comsider\n",
    "                    # karta h or jab string empty hoti toh wo false smajh leta h.\n",
    "'hello' and 'world'"
   ]
  },
  {
   "cell_type": "code",
   "execution_count": 8,
   "id": "194bb8fc",
   "metadata": {},
   "outputs": [
    {
     "data": {
      "text/plain": [
       "'hello'"
      ]
     },
     "execution_count": 8,
     "metadata": {},
     "output_type": "execute_result"
    }
   ],
   "source": [
    "'hello' or 'world'"
   ]
  },
  {
   "cell_type": "code",
   "execution_count": 10,
   "id": "ca827490",
   "metadata": {},
   "outputs": [
    {
     "data": {
      "text/plain": [
       "''"
      ]
     },
     "execution_count": 10,
     "metadata": {},
     "output_type": "execute_result"
    }
   ],
   "source": [
    "'' and 'world'"
   ]
  },
  {
   "cell_type": "code",
   "execution_count": 11,
   "id": "2c5fc21c",
   "metadata": {},
   "outputs": [
    {
     "data": {
      "text/plain": [
       "'world'"
      ]
     },
     "execution_count": 11,
     "metadata": {},
     "output_type": "execute_result"
    }
   ],
   "source": [
    "'world' or ''"
   ]
  },
  {
   "cell_type": "code",
   "execution_count": 9,
   "id": "994fc323",
   "metadata": {},
   "outputs": [
    {
     "data": {
      "text/plain": [
       "True"
      ]
     },
     "execution_count": 9,
     "metadata": {},
     "output_type": "execute_result"
    }
   ],
   "source": [
    "not ''"
   ]
  },
  {
   "cell_type": "code",
   "execution_count": 10,
   "id": "688d3e7c",
   "metadata": {},
   "outputs": [
    {
     "data": {
      "text/plain": [
       "False"
      ]
     },
     "execution_count": 10,
     "metadata": {},
     "output_type": "execute_result"
    }
   ],
   "source": [
    "not 'hello'"
   ]
  },
  {
   "cell_type": "code",
   "execution_count": 11,
   "id": "90b5c3c9",
   "metadata": {},
   "outputs": [
    {
     "name": "stdout",
     "output_type": "stream",
     "text": [
      "d\n",
      "e\n",
      "l\n",
      "h\n",
      "i\n"
     ]
    }
   ],
   "source": [
    "for i in 'delhi':\n",
    "    print(i)"
   ]
  },
  {
   "cell_type": "code",
   "execution_count": 12,
   "id": "bb0da263",
   "metadata": {},
   "outputs": [
    {
     "name": "stdout",
     "output_type": "stream",
     "text": [
      "pune\n",
      "d\n",
      "pune\n",
      "e\n",
      "pune\n",
      "l\n",
      "pune\n",
      "h\n",
      "pune\n",
      "i\n"
     ]
    }
   ],
   "source": [
    "for i in 'delhi':\n",
    "    print('pune')\n",
    "    print(i)"
   ]
  },
  {
   "cell_type": "code",
   "execution_count": 13,
   "id": "fb056c48",
   "metadata": {},
   "outputs": [
    {
     "data": {
      "text/plain": [
       "False"
      ]
     },
     "execution_count": 13,
     "metadata": {},
     "output_type": "execute_result"
    }
   ],
   "source": [
    "'D' in 'delhi'"
   ]
  },
  {
   "cell_type": "code",
   "execution_count": 14,
   "id": "76357242",
   "metadata": {},
   "outputs": [
    {
     "data": {
      "text/plain": [
       "True"
      ]
     },
     "execution_count": 14,
     "metadata": {},
     "output_type": "execute_result"
    }
   ],
   "source": [
    "'D' in 'Delhi'"
   ]
  },
  {
   "cell_type": "markdown",
   "id": "44e4fdd0",
   "metadata": {},
   "source": [
    "### Common functions in String\n",
    "    Common Function - all functions which will work on all data structure in python.\n",
    "- len, max, min ,sorted"
   ]
  },
  {
   "cell_type": "code",
   "execution_count": 33,
   "id": "cacae4f2",
   "metadata": {},
   "outputs": [
    {
     "data": {
      "text/plain": [
       "11"
      ]
     },
     "execution_count": 33,
     "metadata": {},
     "output_type": "execute_result"
    }
   ],
   "source": [
    "len('hello world')"
   ]
  },
  {
   "cell_type": "code",
   "execution_count": 34,
   "id": "99fb214c",
   "metadata": {},
   "outputs": [
    {
     "data": {
      "text/plain": [
       "'w'"
      ]
     },
     "execution_count": 34,
     "metadata": {},
     "output_type": "execute_result"
    }
   ],
   "source": [
    "max('hello world')"
   ]
  },
  {
   "cell_type": "code",
   "execution_count": 37,
   "id": "310b60b3",
   "metadata": {},
   "outputs": [
    {
     "data": {
      "text/plain": [
       "' '"
      ]
     },
     "execution_count": 37,
     "metadata": {},
     "output_type": "execute_result"
    }
   ],
   "source": [
    "min('hello world')"
   ]
  },
  {
   "cell_type": "code",
   "execution_count": 38,
   "id": "a773579e",
   "metadata": {},
   "outputs": [
    {
     "data": {
      "text/plain": [
       "['w', 'r', 'o', 'o', 'l', 'l', 'l', 'h', 'e', 'd', ' ']"
      ]
     },
     "execution_count": 38,
     "metadata": {},
     "output_type": "execute_result"
    }
   ],
   "source": [
    "sorted('hello world',reverse= True)"
   ]
  },
  {
   "cell_type": "markdown",
   "id": "8d0c8bc6",
   "metadata": {},
   "source": [
    "#### capitalize/ title/ upper/ lower/ swapcase"
   ]
  },
  {
   "cell_type": "code",
   "execution_count": 13,
   "id": "40695c6c",
   "metadata": {},
   "outputs": [
    {
     "data": {
      "text/plain": [
       "'Hello world'"
      ]
     },
     "execution_count": 13,
     "metadata": {},
     "output_type": "execute_result"
    }
   ],
   "source": [
    "# functions that works only on the string datatype not other data structure\n",
    "s = 'hello world'\n",
    "s.capitalize()"
   ]
  },
  {
   "cell_type": "code",
   "execution_count": 14,
   "id": "126d2958",
   "metadata": {},
   "outputs": [
    {
     "data": {
      "text/plain": [
       "'Hello World'"
      ]
     },
     "execution_count": 14,
     "metadata": {},
     "output_type": "execute_result"
    }
   ],
   "source": [
    "s.title()"
   ]
  },
  {
   "cell_type": "code",
   "execution_count": 15,
   "id": "680e87af",
   "metadata": {},
   "outputs": [
    {
     "data": {
      "text/plain": [
       "'HELLO WORLD'"
      ]
     },
     "execution_count": 15,
     "metadata": {},
     "output_type": "execute_result"
    }
   ],
   "source": [
    "s.upper()"
   ]
  },
  {
   "cell_type": "code",
   "execution_count": 16,
   "id": "42d0816d",
   "metadata": {},
   "outputs": [
    {
     "data": {
      "text/plain": [
       "'hello world'"
      ]
     },
     "execution_count": 16,
     "metadata": {},
     "output_type": "execute_result"
    }
   ],
   "source": [
    "s.lower()"
   ]
  },
  {
   "cell_type": "code",
   "execution_count": 17,
   "id": "3369b33a",
   "metadata": {},
   "outputs": [
    {
     "data": {
      "text/plain": [
       "'hEllO wORld'"
      ]
     },
     "execution_count": 17,
     "metadata": {},
     "output_type": "execute_result"
    }
   ],
   "source": [
    "'HeLLo WorLD'.swapcase()"
   ]
  },
  {
   "cell_type": "markdown",
   "id": "afbd9cf9",
   "metadata": {},
   "source": [
    "#### Count/ Find/ Index"
   ]
  },
  {
   "cell_type": "code",
   "execution_count": 20,
   "id": "879b033c",
   "metadata": {},
   "outputs": [
    {
     "data": {
      "text/plain": [
       "2"
      ]
     },
     "execution_count": 20,
     "metadata": {},
     "output_type": "execute_result"
    }
   ],
   "source": [
    "'my name is sahil'.count('i')"
   ]
  },
  {
   "cell_type": "code",
   "execution_count": 21,
   "id": "ed1e8593",
   "metadata": {},
   "outputs": [
    {
     "data": {
      "text/plain": [
       "8"
      ]
     },
     "execution_count": 21,
     "metadata": {},
     "output_type": "execute_result"
    }
   ],
   "source": [
    "'my name is sahil'.find('is')"
   ]
  },
  {
   "cell_type": "code",
   "execution_count": 22,
   "id": "2a50077b",
   "metadata": {},
   "outputs": [
    {
     "data": {
      "text/plain": [
       "-1"
      ]
     },
     "execution_count": 22,
     "metadata": {},
     "output_type": "execute_result"
    }
   ],
   "source": [
    "'my name is sahil'.find('x')"
   ]
  },
  {
   "cell_type": "code",
   "execution_count": 23,
   "id": "bf79d58b",
   "metadata": {},
   "outputs": [
    {
     "data": {
      "text/plain": [
       "8"
      ]
     },
     "execution_count": 23,
     "metadata": {},
     "output_type": "execute_result"
    }
   ],
   "source": [
    "'my name is sahil'.index('is')"
   ]
  },
  {
   "cell_type": "code",
   "execution_count": 24,
   "id": "be259d2b",
   "metadata": {},
   "outputs": [
    {
     "data": {
      "text/plain": [
       "-1"
      ]
     },
     "execution_count": 24,
     "metadata": {},
     "output_type": "execute_result"
    }
   ],
   "source": [
    "'my name is sahil'.find('x')"
   ]
  },
  {
   "cell_type": "markdown",
   "id": "279d800c",
   "metadata": {},
   "source": [
    "#### startswith / endswith"
   ]
  },
  {
   "cell_type": "code",
   "execution_count": 25,
   "id": "b315701c",
   "metadata": {},
   "outputs": [
    {
     "data": {
      "text/plain": [
       "True"
      ]
     },
     "execution_count": 25,
     "metadata": {},
     "output_type": "execute_result"
    }
   ],
   "source": [
    "'my name is sahil'.endswith('il')"
   ]
  },
  {
   "cell_type": "code",
   "execution_count": 26,
   "id": "6b4db357",
   "metadata": {},
   "outputs": [
    {
     "data": {
      "text/plain": [
       "False"
      ]
     },
     "execution_count": 26,
     "metadata": {},
     "output_type": "execute_result"
    }
   ],
   "source": [
    "'my name is sahil'.endswith('sa')"
   ]
  },
  {
   "cell_type": "code",
   "execution_count": 27,
   "id": "df76ff55",
   "metadata": {},
   "outputs": [
    {
     "data": {
      "text/plain": [
       "True"
      ]
     },
     "execution_count": 27,
     "metadata": {},
     "output_type": "execute_result"
    }
   ],
   "source": [
    "'my name is sahil'.startswith('my')"
   ]
  },
  {
   "cell_type": "code",
   "execution_count": 28,
   "id": "3efdd340",
   "metadata": {},
   "outputs": [
    {
     "data": {
      "text/plain": [
       "False"
      ]
     },
     "execution_count": 28,
     "metadata": {},
     "output_type": "execute_result"
    }
   ],
   "source": [
    "'my name is sahil'.startswith('ml')"
   ]
  },
  {
   "cell_type": "markdown",
   "id": "07695298",
   "metadata": {},
   "source": [
    "#### format"
   ]
  },
  {
   "cell_type": "code",
   "execution_count": 29,
   "id": "791f6c2e",
   "metadata": {},
   "outputs": [
    {
     "data": {
      "text/plain": [
       "'hi my name is sahil and my gender is male'"
      ]
     },
     "execution_count": 29,
     "metadata": {},
     "output_type": "execute_result"
    }
   ],
   "source": [
    "name = 'sahil'\n",
    "gender = 'male'\n",
    "\n",
    "'hi my name is {} and my gender is {}'.format(name,gender)"
   ]
  },
  {
   "cell_type": "markdown",
   "id": "37c55143",
   "metadata": {},
   "source": [
    "#### isalnum/ isalpha/ isdigit/ isidentifer"
   ]
  },
  {
   "cell_type": "code",
   "execution_count": 18,
   "id": "87ef559e",
   "metadata": {},
   "outputs": [
    {
     "data": {
      "text/plain": [
       "True"
      ]
     },
     "execution_count": 18,
     "metadata": {},
     "output_type": "execute_result"
    }
   ],
   "source": [
    "'mynameisahil'.isalnum()"
   ]
  },
  {
   "cell_type": "code",
   "execution_count": 19,
   "id": "34358f88",
   "metadata": {},
   "outputs": [
    {
     "data": {
      "text/plain": [
       "False"
      ]
     },
     "execution_count": 19,
     "metadata": {},
     "output_type": "execute_result"
    }
   ],
   "source": [
    "'nitish1234'.isalpha()"
   ]
  },
  {
   "cell_type": "code",
   "execution_count": 20,
   "id": "8f599e92",
   "metadata": {},
   "outputs": [
    {
     "data": {
      "text/plain": [
       "False"
      ]
     },
     "execution_count": 20,
     "metadata": {},
     "output_type": "execute_result"
    }
   ],
   "source": [
    "'sahil1123'.isdigit()"
   ]
  },
  {
   "cell_type": "code",
   "execution_count": 21,
   "id": "780da37f",
   "metadata": {},
   "outputs": [
    {
     "data": {
      "text/plain": [
       "True"
      ]
     },
     "execution_count": 21,
     "metadata": {},
     "output_type": "execute_result"
    }
   ],
   "source": [
    "'1234'.isdigit()"
   ]
  },
  {
   "cell_type": "code",
   "execution_count": 26,
   "id": "50162a96",
   "metadata": {},
   "outputs": [
    {
     "data": {
      "text/plain": [
       "False"
      ]
     },
     "execution_count": 26,
     "metadata": {},
     "output_type": "execute_result"
    }
   ],
   "source": [
    "'1name'.isidentifier()"
   ]
  },
  {
   "cell_type": "markdown",
   "id": "151969b4",
   "metadata": {},
   "source": [
    "#### split/join"
   ]
  },
  {
   "cell_type": "code",
   "execution_count": 27,
   "id": "397004ee",
   "metadata": {},
   "outputs": [
    {
     "data": {
      "text/plain": [
       "['my', 'name', 'is', 'sahil']"
      ]
     },
     "execution_count": 27,
     "metadata": {},
     "output_type": "execute_result"
    }
   ],
   "source": [
    "'my name is sahil'.split()"
   ]
  },
  {
   "cell_type": "code",
   "execution_count": 28,
   "id": "3b08bb2f",
   "metadata": {},
   "outputs": [
    {
     "data": {
      "text/plain": [
       "['my na', 'me ', 's sa', 'h', 'l']"
      ]
     },
     "execution_count": 28,
     "metadata": {},
     "output_type": "execute_result"
    }
   ],
   "source": [
    "'my naime is saihil'.split('i')"
   ]
  },
  {
   "cell_type": "code",
   "execution_count": 29,
   "id": "ade9863b",
   "metadata": {},
   "outputs": [
    {
     "data": {
      "text/plain": [
       "'my name is sahil'"
      ]
     },
     "execution_count": 29,
     "metadata": {},
     "output_type": "execute_result"
    }
   ],
   "source": [
    "\" \".join(['my', 'name', 'is', 'sahil'])"
   ]
  },
  {
   "cell_type": "code",
   "execution_count": 30,
   "id": "a3861fb9",
   "metadata": {},
   "outputs": [
    {
     "data": {
      "text/plain": [
       "'my-name-is-sahil'"
      ]
     },
     "execution_count": 30,
     "metadata": {},
     "output_type": "execute_result"
    }
   ],
   "source": [
    "\"-\".join(['my', 'name', 'is', 'sahil'])"
   ]
  },
  {
   "cell_type": "markdown",
   "id": "06645ab1",
   "metadata": {},
   "source": [
    "#### Replace"
   ]
  },
  {
   "cell_type": "code",
   "execution_count": 30,
   "id": "7b9bae47",
   "metadata": {},
   "outputs": [
    {
     "data": {
      "text/plain": [
       "'hi my name is aditi'"
      ]
     },
     "execution_count": 30,
     "metadata": {},
     "output_type": "execute_result"
    }
   ],
   "source": [
    "'hi my name is sahil'.replace('sahil', 'aditi')"
   ]
  },
  {
   "cell_type": "markdown",
   "id": "8b10568d",
   "metadata": {},
   "source": [
    "#### strip"
   ]
  },
  {
   "cell_type": "code",
   "execution_count": 31,
   "id": "87f33e31",
   "metadata": {},
   "outputs": [
    {
     "data": {
      "text/plain": [
       "'nitish'"
      ]
     },
     "execution_count": 31,
     "metadata": {},
     "output_type": "execute_result"
    }
   ],
   "source": [
    "'     nitish      '.strip()"
   ]
  },
  {
   "cell_type": "markdown",
   "id": "a434c971",
   "metadata": {},
   "source": [
    "### String Programs"
   ]
  },
  {
   "cell_type": "code",
   "execution_count": 32,
   "id": "47425ee8",
   "metadata": {},
   "outputs": [
    {
     "name": "stdout",
     "output_type": "stream",
     "text": [
      "Enter the String to calculate the lengthmy name is sahil\n",
      "The length of string is 16\n"
     ]
    }
   ],
   "source": [
    "# find the length of string which  is given as input by the user.\n",
    "str_len = str(input(\"Enter the String to calculate the length\"))\n",
    "count = 0\n",
    "for i in str_len:\n",
    "    # print(i)\n",
    "    count = count+1\n",
    "print(f\"The length of string is {count}\")"
   ]
  },
  {
   "cell_type": "code",
   "execution_count": 33,
   "id": "06d6eae1",
   "metadata": {},
   "outputs": [
    {
     "name": "stdout",
     "output_type": "stream",
     "text": [
      "Enter the email to extract the emailnitish24singh@gmail.com\n",
      "The user name for input email is nitish24singh\n"
     ]
    }
   ],
   "source": [
    "# Extract username from a given email. \n",
    "# Eg if the email is nitish24singh@gmail.com \n",
    "# then the username should be nitish24singh\n",
    "email_str = str(input(\"Enter the email to extract the email\"))\n",
    "user_name = email_str.split('@')[0]\n",
    "print(f\"The user name for input email is {user_name}\")"
   ]
  },
  {
   "cell_type": "code",
   "execution_count": 34,
   "id": "297c49f0",
   "metadata": {},
   "outputs": [
    {
     "name": "stdout",
     "output_type": "stream",
     "text": [
      "Enter the String to calculate the freqhello how are you\n",
      "Enter the word for which you need to check the freqh\n",
      "The number of freq word is 2\n"
     ]
    }
   ],
   "source": [
    "# Count the frequency of a particular character in a provided string. \n",
    "# Eg 'hello how are you' is the string, the frequency of h in this string is 2.\n",
    "str_freq = str(input(\"Enter the String to calculate the freq\"))\n",
    "freq = str(input(\"Enter the word for which you need to check the freq\"))\n",
    "\n",
    "count = 0\n",
    "for i in str_freq:\n",
    "    if i == freq:\n",
    "        count = count+1\n",
    "print(f\"The number of freq word is {count}\")"
   ]
  },
  {
   "cell_type": "code",
   "execution_count": null,
   "id": "845fcea2",
   "metadata": {},
   "outputs": [],
   "source": [
    "# Write a program which can remove a particular character from a string.\n",
    "input_str = str(input(\"Enter the string from which you need to remove the particular character \"))\n",
    "letter_remove = str(input(\"Enter the character which you want to remove from the string\"))\n",
    "\n",
    "new_str = ''\n",
    "for i in input_str:\n",
    "    if letter_remove != i:\n",
    "        new_str = new_str+(i)\n",
    "print(f\"The new string is {new_str}\")"
   ]
  },
  {
   "cell_type": "code",
   "execution_count": null,
   "id": "4d5904ac",
   "metadata": {},
   "outputs": [],
   "source": [
    "# Write a program that can check whether a given string is palindrome or not.\n",
    "# abba\n",
    "# malayalam\n",
    "palindrome_str = str(input('Enter the string to check whether its a palindrome or not'))\n",
    "flag = True\n",
    "\n",
    "for i in range(0,len(palindrome_str)):\n",
    "    if palindrome_str[i] != palindrome_str[len(palindrome_str)-i-1]:\n",
    "        flag = False\n",
    "        print(\"Not a Palindrome\")\n",
    "        break\n",
    "else:\n",
    "    print(\"Palindrome\")"
   ]
  },
  {
   "cell_type": "code",
   "execution_count": null,
   "id": "002b3d55",
   "metadata": {},
   "outputs": [],
   "source": [
    "# Write a program to count the number of words in a string without split()\n",
    "input_words = str(input(\"Enter the string to count the number of words\"))\n",
    "lst = []\n",
    "temp = ''\n",
    "for i in input_words:\n",
    "    if i != ' ':\n",
    "        temp = temp+i\n",
    "    else:\n",
    "        lst.append(temp)\n",
    "        temp = ''\n",
    "        \n",
    "lst.append(temp)\n",
    "print(lst)"
   ]
  },
  {
   "cell_type": "code",
   "execution_count": 1,
   "id": "1960f32b",
   "metadata": {},
   "outputs": [
    {
     "name": "stdout",
     "output_type": "stream",
     "text": [
      "Enter the string to convert it to title casemy name is sahil\n",
      "['My', 'Name', 'Is', 'Sahil']\n"
     ]
    }
   ],
   "source": [
    "# Write a python program to convert a string to title case without using the title()\n",
    "input_str_title = str(input('Enter the string to convert it to title case'))\n",
    "lst1 = []\n",
    "for i in input_str_title.split():\n",
    "    lst1.append(i[0].upper()+i[1:].lower())\n",
    "print(lst1)"
   ]
  },
  {
   "cell_type": "code",
   "execution_count": 32,
   "id": "95c10f90",
   "metadata": {},
   "outputs": [
    {
     "name": "stdout",
     "output_type": "stream",
     "text": [
      "Enter the integer which you want to change to string2345\n",
      "The number is 2345 and its type is <class 'int'>\n",
      "2345\n",
      "<class 'str'>\n"
     ]
    }
   ],
   "source": [
    "# Write a program that can convert an integer to string.\n",
    "number = int(input('Enter the integer which you want to change to string'))\n",
    "print(f\"The number is {number} and its type is {type(number)}\")\n",
    "\n",
    "digits = '0123456789'\n",
    "result = ''\n",
    "while number!=0:\n",
    "    result = digits[number%10] + result\n",
    "    number = number//10\n",
    "print(result)\n",
    "print(type(result))"
   ]
  },
  {
   "cell_type": "code",
   "execution_count": 5,
   "id": "ad92674b",
   "metadata": {},
   "outputs": [
    {
     "name": "stdout",
     "output_type": "stream",
     "text": [
      "Enter the String for which we need to find out the short formmy name is sahil\n",
      "MNIS\n"
     ]
    }
   ],
   "source": [
    "# Problem 11: Create Short Form from initial character\n",
    "# Given a string create short form ofthe string from Initial character. Short form should be capitalised.\n",
    "input_str1 = str(input(\"Enter the String for which we need to find out the short form\"))\n",
    "new_str = input_str1.split()\n",
    "short_hand = ''.join(i[0].upper() for i in new_str if i)\n",
    "print(short_hand)"
   ]
  },
  {
   "cell_type": "code",
   "execution_count": 6,
   "id": "2c8e9b74",
   "metadata": {},
   "outputs": [
    {
     "name": "stdout",
     "output_type": "stream",
     "text": [
      "Enter the String for which we need to find out the short formmy name is sahil\n",
      "['my', 'name', 'is', 'sahil']\n",
      "MNIS\n"
     ]
    }
   ],
   "source": [
    "# Alternate code -- code refactor\n",
    "in_str1 = str(input(\"Enter the String for which we need to find out the short form\"))\n",
    "\n",
    "short_hand = \"\"\n",
    "new_string = in_str1.split()\n",
    "print(new_string)\n",
    "for i in new_string:\n",
    "    short_hand =  short_hand+ i[0].upper()\n",
    "print(short_hand)"
   ]
  },
  {
   "cell_type": "code",
   "execution_count": null,
   "id": "00a848ec",
   "metadata": {},
   "outputs": [],
   "source": [
    "# Append second string in the middle of first string\n",
    "first_string  = str(input(\"enter the string in which we need to insert the string in its middle\"))\n",
    "second_string = str(input(\"enter the second string which you want to insert in the middle of first string\"))\n",
    "new_str = \"\"\n",
    "\n",
    "count = 0\n",
    "for i in first_string:\n",
    "    count = count+1\n",
    "    \n",
    "new_str = new_str + first_string[0:count//2] + second_string[:] + first_string[count//2:]\n",
    "\n",
    "print(f\"The new string is {new_str}\")"
   ]
  },
  {
   "cell_type": "code",
   "execution_count": 7,
   "id": "516c03bc",
   "metadata": {},
   "outputs": [
    {
     "name": "stdout",
     "output_type": "stream",
     "text": [
      "Enter the string which has mix lower and upper caseMy name IS PYTHon\n",
      "The string with lower case first is ynameonMISPYTH\n"
     ]
    }
   ],
   "source": [
    "# Given string contains a combination of the lower and upper case letters. \n",
    "# Write a program to arrange the characters of a string so that all lowercase letters should come first.\n",
    "string_with_case = str(input(\"Enter the string which has mix lower and upper case\"))\n",
    "lowercase_str = \"\"\n",
    "uppercase_str = \"\"\n",
    "new_arrange_str = \"\"\n",
    "\n",
    "for i in string_with_case:\n",
    "    if i.islower():\n",
    "        lowercase_str = lowercase_str + i\n",
    "        \n",
    "for i in string_with_case:\n",
    "    if i.isupper():\n",
    "        uppercase_str = uppercase_str + i\n",
    "        \n",
    "new_arrange_str = new_arrange_str + lowercase_str + uppercase_str\n",
    "        \n",
    "print(f\"The string with lower case first is {new_arrange_str}\")"
   ]
  },
  {
   "cell_type": "code",
   "execution_count": null,
   "id": "d0152fc6",
   "metadata": {},
   "outputs": [],
   "source": [
    "string_with_case1 = str(input(\"Enter the string which has mix lower and upper case\"))\n",
    "lowercase_str1 = \"\"\n",
    "uppercase_str1 = \"\"\n",
    "new_arrange_str1 = \"\"\n",
    "\n",
    "for i in string_with_case1:\n",
    "    if i.islower():\n",
    "        lowercase_str1 = lowercase_str1 + i\n",
    "    elif i.isupper():\n",
    "        uppercase_str1 = uppercase_str1 + i\n",
    "    else:\n",
    "        print(\"Give the right string\")\n",
    "        \n",
    "new_arrange_str1 = new_arrange_str1 + lowercase_str1 + uppercase_str1\n",
    "        \n",
    "print(f\"The string with lower case first is {new_arrange_str1}\")"
   ]
  },
  {
   "cell_type": "code",
   "execution_count": null,
   "id": "ec3ccb8a",
   "metadata": {},
   "outputs": [],
   "source": [
    "# Take a alphanumeric string input and print the sum and average of the digits that appear in the string, \n",
    "# ignoring all other characters.\n",
    "\n",
    "alpha_numeric_str = str(input(\"Enter the alphanumeric string\"))\n",
    "sum1 = 0\n",
    "avg1 = 0\n",
    "count = 0\n",
    "\n",
    "for i in alpha_numeric_str:\n",
    "    if i.isdigit():\n",
    "        count = count+1\n",
    "        \n",
    "print(f\"The total Number of digits is {count}\")\n",
    "        \n",
    "for i in alpha_numeric_str:\n",
    "    if i.isdigit():\n",
    "        sum1 = sum1 + int(i)\n",
    "        avg1 = (sum1/count)\n",
    "print(f\"The sum is {sum1} and the avg is {avg1}\")"
   ]
  },
  {
   "cell_type": "code",
   "execution_count": 9,
   "id": "2fe9871a",
   "metadata": {},
   "outputs": [
    {
     "name": "stdout",
     "output_type": "stream",
     "text": [
      "Enter the stringmyname 224567\n",
      "The all digits in given string is 224567 and type is <class 'str'>\n"
     ]
    }
   ],
   "source": [
    "# Removal of all characters from a string except integers\n",
    "complete_str = str(input(\"Enter the string\"))\n",
    "all_digit = \"\"\n",
    "\n",
    "for i in complete_str:\n",
    "    if i.isdigit():\n",
    "        all_digit = all_digit+i\n",
    "    else:\n",
    "        pass\n",
    "print(f\"The all digits in given string is {all_digit} and type is {type(all_digit)}\")"
   ]
  },
  {
   "cell_type": "code",
   "execution_count": null,
   "id": "b7cb9118",
   "metadata": {},
   "outputs": [],
   "source": [
    "# Check whether the string is Symmetrical.\n",
    "# Statement: Given a string. the task is to check if the string is symmetrical or not. \n",
    "# A string is said to be symmetrical if both the halves of the string are the same.\n",
    "def check_symmetry(symm_str):\n",
    "    length = len(symm_str)\n",
    "    \n",
    "    # check condition for even string \n",
    "    if length%2 == 0:\n",
    "        first_half = symm_str[0:length//2]\n",
    "        second_half = symm_str[length//2:]\n",
    "    \n",
    "    # check condition for odd string \n",
    "    else:\n",
    "        first_half = symm_str[0:length//2]\n",
    "        second_half = symm_str[length//2+1:]\n",
    "    \n",
    "    if first_half == second_half:\n",
    "        print(\"The string is symmetrical string\")\n",
    "    else:\n",
    "        print(\"The string is not symmetrical string\")\n",
    "    \n",
    "symm_str = str(input(\"enter the string to check if its a symmetrical string or not\"))\n",
    "check_symmetry(symm_str)"
   ]
  },
  {
   "cell_type": "code",
   "execution_count": null,
   "id": "b911907a",
   "metadata": {},
   "outputs": [],
   "source": [
    "# Reverse words in a given String\n",
    "# Statement: We are given a string and we need to reverse words of a given string.\n",
    "def rev_list(right_str):\n",
    "    right_lst = right_str.split()\n",
    "    rev_str = right_lst[::-1]\n",
    "    print(f\"The rev list is {rev_str}\")\n",
    "    \n",
    "right_str = str(input(\"Enter the string to reverse\"))\n",
    "rev_list(right_str)"
   ]
  },
  {
   "cell_type": "code",
   "execution_count": null,
   "id": "4b4de1c3",
   "metadata": {},
   "outputs": [],
   "source": [
    "def reverse_characters(input_string):\n",
    "    return input_string[::-1]\n",
    "\n",
    "# Example Usage\n",
    "input_string = \"hello\"\n",
    "result = reverse_characters(input_string)\n",
    "print(f\"Reversed String: {result}\")"
   ]
  },
  {
   "cell_type": "code",
   "execution_count": null,
   "id": "a70cde43",
   "metadata": {},
   "outputs": [],
   "source": [
    "# Find common words from two Strings.\n",
    "# Statement: Given two sentences as strings A and B. The task is to return a list of all common words. \n",
    "# A word is common if it appears exactly once in any one of the sentences, and same word appears in other sentence. \n",
    "# Note: A sentence is a string of space-separated words. Each word consists only of lowercase letters.\n",
    "\n",
    "first_str1 = str(input(\"Enter the first string\"))\n",
    "second_str2 = str(input(\"Enter the second string\"))\n",
    "new_str10 = []\n",
    "\n",
    "new_first_str1= first_str1.split()\n",
    "new_second_str1= second_str2.split()\n",
    "\n",
    "for i in new_first_str1:\n",
    "    for j in new_second_str1:\n",
    "        if i == j:\n",
    "            new_str10.append(i)\n",
    "        else:\n",
    "            pass\n",
    "print(f\"The new string is {new_str10}\")"
   ]
  },
  {
   "cell_type": "code",
   "execution_count": null,
   "id": "df15a69e",
   "metadata": {},
   "outputs": [],
   "source": [
    "# Find uncommon words from two Strings.\n",
    "#Statement: Given two sentences as strings A and B. The task is to return a list of all uncommon words. \n",
    "#A word is uncommon if it appears exactly once in any one of the sentences, and does not appear in the other sentence. \n",
    "#Note: A sentence is a string of space-separated words. Each word consists only of lowercase letters.\n",
    "\n",
    "fi_str1 = str(input(\"Enter the first string\"))\n",
    "sec_str2 = str(input(\"Enter the second string\"))\n",
    "nw_sr10 = []\n",
    "\n",
    "new_fi_str1= fi_str1.split()\n",
    "new_sec_str1= sec_str2.split()\n",
    "\n",
    "for i in new_fi_str1:\n",
    "    if i not in new_sec_str1 and i not in nw_sr10:\n",
    "        nw_sr10.append(i)\n",
    "    else:\n",
    "        pass\n",
    "    \n",
    "for j in new_sec_str1:\n",
    "    if j not in new_fi_str1 and j not in nw_sr10:\n",
    "        nw_sr10.append(j)\n",
    "    else:\n",
    "        pass\n",
    "    \n",
    "print(f\"The new string is {nw_sr10}\")"
   ]
  },
  {
   "cell_type": "code",
   "execution_count": null,
   "id": "69fe05f4",
   "metadata": {},
   "outputs": [],
   "source": [
    "#Word location in String.\n",
    "#Statement: Find a location of a word in a given sentence.\n",
    "str10 = str(input(\"enter the string\"))\n",
    "word = str(input(\"Enter the word for which you need to find its location\"))\n",
    "\n",
    "new_str10 = str10.split()\n",
    "index = 0\n",
    "\n",
    "for i in new_str10:\n",
    "    index = index +1\n",
    "    if word == i:\n",
    "        print(f\"The word is {i} and the index is {index}\")\n",
    "    else:\n",
    "        pass"
   ]
  },
  {
   "cell_type": "code",
   "execution_count": null,
   "id": "156477b7",
   "metadata": {},
   "outputs": [],
   "source": [
    "# Write a program that can remove all the duplicate characters from a string. User will provide the input.\n",
    "str_rem_duplicate = str(input(\"Enter the string to find the duplicate character\"))\n",
    "\n",
    "new_duplicate_str = str_rem_duplicate.split()\n",
    "lst = []\n",
    "\n",
    "for i in new_duplicate_str:\n",
    "    if i not in lst:\n",
    "        lst.append(i)\n",
    "    else:\n",
    "        pass\n",
    "print(lst)"
   ]
  },
  {
   "cell_type": "code",
   "execution_count": null,
   "id": "1bfdbd83",
   "metadata": {},
   "outputs": [],
   "source": [
    "rem_duplicate_str = str(input(\"Enter the string to find the duplicate character\"))\n",
    "lst10 = []\n",
    "\n",
    "for i in rem_duplicate_str:\n",
    "    if i not in lst10:\n",
    "        lst10.append(i)\n",
    "    else:\n",
    "        pass\n",
    "print(lst10)"
   ]
  },
  {
   "cell_type": "code",
   "execution_count": null,
   "id": "c5078814",
   "metadata": {},
   "outputs": [],
   "source": [
    "# Write a program to change the upper case to lower and lower case to upper for a given string.\n",
    "mixed_case_str = str(input(\"Enter the string with the mixed case\"))\n",
    "change_lowercase = \"\"\n",
    "change_uppercase = \"\"\n",
    "new_case_str = \"\"\n",
    "\n",
    "for i in mixed_case_str:\n",
    "    if i.islower():\n",
    "        change_uppercase = change_uppercase + i.upper()\n",
    "    else:\n",
    "        pass\n",
    "for i in mixed_case_str:\n",
    "    if i.isupper():\n",
    "        change_lowercase = change_lowercase + i.lower()\n",
    "    else:\n",
    "        pass\n",
    "new_case_str = new_case_str + change_uppercase + change_lowercase\n",
    "\n",
    "print(f\"The New Mixed case string is {new_case_str}\")"
   ]
  },
  {
   "cell_type": "code",
   "execution_count": null,
   "id": "5f68552c",
   "metadata": {},
   "outputs": [],
   "source": [
    "mixed_case_str1 = str(input(\"Enter the String with the mixed case\"))\n",
    "new_case_str1 = \"\"\n",
    "\n",
    "for i in mixed_case_str1:\n",
    "    if i.islower():\n",
    "        new_case_str1 = new_case_str1 + i.upper()\n",
    "    elif i.isupper():\n",
    "        new_case_str1 = new_case_str1 + i.lower()\n",
    "    else:\n",
    "        new_case_str1 = new_case_str1 + i\n",
    "        \n",
    "print(f\"The new mixed case string is {new_case_str1}\")"
   ]
  },
  {
   "cell_type": "markdown",
   "id": "ebc64a07",
   "metadata": {},
   "source": [
    "### Leetcode Easy problem practice"
   ]
  },
  {
   "cell_type": "markdown",
   "id": "caa9c318",
   "metadata": {},
   "source": [
    "##### 13. Roman to Integer"
   ]
  },
  {
   "cell_type": "code",
   "execution_count": null,
   "id": "c899bcc7",
   "metadata": {},
   "outputs": [],
   "source": [
    "roman_str = str(input('Enter Some number in roman numerals form'))\n",
    "\n",
    "roman_to_int = {\n",
    "    'I': 1, 'V': 5, 'X': 10, 'L':50, 'C':100, 'D':500, 'M':1000\n",
    "}\n",
    "\n",
    "total = 0\n",
    "previous_value = 0\n",
    "\n",
    "for i in reversed(roman_str):\n",
    "    current_value = roman_to_int[i]\n",
    "    print(f\"The current value is {current_value}\")\n",
    "    if current_value<previous_value:\n",
    "        total = total - current_value\n",
    "        print(total)\n",
    "    else:\n",
    "        total = total + current_value\n",
    "        print(total)\n",
    "    previous_value = current_value\n",
    "    \n",
    "print(f\"The total Value is {total}\")"
   ]
  },
  {
   "cell_type": "markdown",
   "id": "9ef02ddf",
   "metadata": {},
   "source": [
    "##### 14. Longest Common Prefix"
   ]
  },
  {
   "cell_type": "code",
   "execution_count": null,
   "id": "2b0bada3",
   "metadata": {},
   "outputs": [],
   "source": [
    "common_prefix_str = str(input(\"Enter the string to check whether its has Common prefix or not  \"))\n",
    "new_prefix_str = common_prefix_str.split()\n",
    "# print(prefix)\n",
    "\n",
    "print(f\"The array of string is {new_prefix_str}\")\n",
    "\n",
    "for i in new_prefix_str:\n",
    "    for j in i:\n",
    "        print(i,j)"
   ]
  },
  {
   "cell_type": "code",
   "execution_count": 1,
   "id": "005aba2b",
   "metadata": {},
   "outputs": [
    {
     "name": "stdout",
     "output_type": "stream",
     "text": [
      "Enter the string to check whether its has Common prefix or not  flights flower flow\n",
      "fl\n"
     ]
    }
   ],
   "source": [
    "longest_str1 = str(input(\"Enter the string to check whether its has Common prefix or not  \"))\n",
    "new_longest_str1 = longest_str1.split()\n",
    "\n",
    "for w in new_longest_str1:\n",
    "    if w == \"\":\n",
    "        print(\"\")\n",
    "if len(new_longest_str1) == 1:\n",
    "    print(new_longest_str1[0])\n",
    "\n",
    "common_prefix1 = \"\"\n",
    "j=0\n",
    "common = True\n",
    "while common:\n",
    "    for i in range(len(new_longest_str1)-1):\n",
    "        if new_longest_str1[i][j] != new_longest_str1[i+1][j]:\n",
    "            common = False\n",
    "            break\n",
    "    else:\n",
    "        common_prefix1 = common_prefix1 + new_longest_str1[i][j]\n",
    "        j= j+1\n",
    "print(common_prefix1)"
   ]
  },
  {
   "cell_type": "code",
   "execution_count": null,
   "id": "90135900",
   "metadata": {},
   "outputs": [],
   "source": [
    "strs = [\"Apple\",\"Application\",\"Appdurnce\"]\n",
    "def longestCommonPrefix(strs):\n",
    "    for word in strs:\n",
    "        if word == \"\":\n",
    "            return \"\"\n",
    "    if len(strs) == 1:\n",
    "        return strs[0]\n",
    "    common_prefix = \"\"\n",
    "    j = 0\n",
    "    Common = True\n",
    "    while Common:\n",
    "        for i in range(len(strs) - 1):\n",
    "            if strs[i][j] != strs[i + 1][j]:\n",
    "                Common = False\n",
    "                break\n",
    "        else:\n",
    "            common_prefix += strs[0][j]\n",
    "            j += 1\n",
    "    return common_prefix\n",
    "print(longestCommonPrefix(strs))"
   ]
  },
  {
   "cell_type": "markdown",
   "id": "edddb02a",
   "metadata": {},
   "source": [
    "##### 20. Valid Parentheses"
   ]
  },
  {
   "cell_type": "code",
   "execution_count": null,
   "id": "fcc8a35e",
   "metadata": {},
   "outputs": [],
   "source": [
    "# retain comments in py code\n",
    "def ispar(s):\n",
    "    stack = []\n",
    "    for char in s:\n",
    "      \n",
    "        # Opening bracket\n",
    "        if char in '({[':\n",
    "            stack.append(char)\n",
    "            \n",
    "        # Closing Bracket    \n",
    "        elif char in ')}]':\n",
    "          \n",
    "            # closing bracket without opening\n",
    "            if not stack:\n",
    "                return False\n",
    "              \n",
    "            # Else pop an item check for matching  \n",
    "            top = stack.pop()\n",
    "            if (top == '(' and char != ')') or \\\n",
    "               (top == '{' and char != '}') or \\\n",
    "               (top == '[' and char != ']'):\n",
    "                return False\n",
    "              \n",
    "    # If an opening bracket without closing          \n",
    "    return len(stack) == 0\n",
    "\n",
    "s = '{()}[]'\n",
    "\n",
    "if ispar(s):\n",
    "    print(\"true\")\n",
    "else:\n",
    "    print(\"false\")"
   ]
  },
  {
   "cell_type": "code",
   "execution_count": null,
   "id": "a30fdaf3",
   "metadata": {},
   "outputs": [],
   "source": []
  },
  {
   "cell_type": "code",
   "execution_count": null,
   "id": "24e9a2a7",
   "metadata": {},
   "outputs": [],
   "source": []
  },
  {
   "cell_type": "code",
   "execution_count": null,
   "id": "58a7842c",
   "metadata": {},
   "outputs": [],
   "source": []
  },
  {
   "cell_type": "code",
   "execution_count": null,
   "id": "3ea826c0",
   "metadata": {},
   "outputs": [],
   "source": []
  },
  {
   "cell_type": "code",
   "execution_count": null,
   "id": "ccc1304c",
   "metadata": {},
   "outputs": [],
   "source": []
  }
 ],
 "metadata": {
  "kernelspec": {
   "display_name": "Python 3 (ipykernel)",
   "language": "python",
   "name": "python3"
  },
  "language_info": {
   "codemirror_mode": {
    "name": "ipython",
    "version": 3
   },
   "file_extension": ".py",
   "mimetype": "text/x-python",
   "name": "python",
   "nbconvert_exporter": "python",
   "pygments_lexer": "ipython3",
   "version": "3.11.4"
  }
 },
 "nbformat": 4,
 "nbformat_minor": 5
}
