{
 "cells": [
  {
   "cell_type": "code",
   "execution_count": 1,
   "id": "a55503fd",
   "metadata": {},
   "outputs": [
    {
     "ename": "AttributeError",
     "evalue": "'list' object has no attribute 'upper'",
     "output_type": "error",
     "traceback": [
      "\u001b[1;31m---------------------------------------------------------------------------\u001b[0m",
      "\u001b[1;31mAttributeError\u001b[0m                            Traceback (most recent call last)",
      "Cell \u001b[1;32mIn[1], line 2\u001b[0m\n\u001b[0;32m      1\u001b[0m lst1 \u001b[38;5;241m=\u001b[39m [\u001b[38;5;241m1\u001b[39m,\u001b[38;5;241m2\u001b[39m,\u001b[38;5;241m3\u001b[39m]\n\u001b[1;32m----> 2\u001b[0m \u001b[43mlst1\u001b[49m\u001b[38;5;241;43m.\u001b[39;49m\u001b[43mupper\u001b[49m()\n",
      "\u001b[1;31mAttributeError\u001b[0m: 'list' object has no attribute 'upper'"
     ]
    }
   ],
   "source": [
    "lst1 = [1,2,3]\n",
    "lst1.upper()"
   ]
  },
  {
   "cell_type": "code",
   "execution_count": 2,
   "id": "85850d0f",
   "metadata": {},
   "outputs": [
    {
     "ename": "AttributeError",
     "evalue": "'str' object has no attribute 'append'",
     "output_type": "error",
     "traceback": [
      "\u001b[1;31m---------------------------------------------------------------------------\u001b[0m",
      "\u001b[1;31mAttributeError\u001b[0m                            Traceback (most recent call last)",
      "Cell \u001b[1;32mIn[2], line 2\u001b[0m\n\u001b[0;32m      1\u001b[0m str1 \u001b[38;5;241m=\u001b[39m \u001b[38;5;124m'\u001b[39m\u001b[38;5;124mhello\u001b[39m\u001b[38;5;124m'\u001b[39m\n\u001b[1;32m----> 2\u001b[0m \u001b[43mstr1\u001b[49m\u001b[38;5;241;43m.\u001b[39;49m\u001b[43mappend\u001b[49m(\u001b[38;5;124m'\u001b[39m\u001b[38;5;124mx\u001b[39m\u001b[38;5;124m'\u001b[39m)\n",
      "\u001b[1;31mAttributeError\u001b[0m: 'str' object has no attribute 'append'"
     ]
    }
   ],
   "source": [
    "str1 = 'hello'\n",
    "str1.append('x')"
   ]
  },
  {
   "cell_type": "code",
   "execution_count": null,
   "id": "f8347e8f",
   "metadata": {},
   "outputs": [],
   "source": [
    "# In the above situation we have seen that list aur str ko python ek object dikhata h. and not only list aur str \n",
    "# other datatypes like tuple, dict sabko python object hi show karta h aur issi ko object oriented programming bol jata \n",
    "# h python ko"
   ]
  },
  {
   "cell_type": "markdown",
   "id": "62f9e9ab",
   "metadata": {},
   "source": [
    "#### About Objects\n",
    "    everything in python is a object.\n",
    "    OOP - Object oriented programming.\n",
    "    \n",
    "    In procedural programming (line by line code), the code become very complex if we want to build any webiste or \n",
    "    something like that its very difficult to understand the code. That why here comes the concept of object \n",
    "    oriented programming because to create a real world application its very difficult to update the code base \n",
    "    in procedural approach in that case we use OOPs concepts to update our application.\n",
    "    \n",
    "##### Solution:-\n",
    "    Generality to specificity:\n",
    "    \n",
    "    In General coding we basically use the procedural approach of writing the code. OOPs approach is more specific to\n",
    "    the feature which we are creating. \n",
    "    \n",
    "##### Main power of using OOPs:-\n",
    "    OOPs gives the power to the programmer to create its own DATATYPES as per the requirement of the projects \n",
    "    or application in which he is working.\n",
    "    \n",
    "##### Priciple in OOPs:\n",
    "    OOPs consist of mainly 6 principle and they are:\n",
    "    1). class\n",
    "    2). objects\n",
    "    3). Encapsulation\n",
    "    4). Inheritance\n",
    "    5). Abstraction\n",
    "    6). Polymorphism.\n",
    "    \n",
    "##### CLASS:-\n",
    "    Class is the blueprint which actually tells how the object will behave if we create it.\n",
    "    In python all the datatype like list, dict,tuple,set etc are the built in datatype. and the list we create for \n",
    "    our program which will behave in the certain way that we called its as a object.\n",
    "    \n",
    "    Object is the instance of class.\n",
    "    \n",
    "    list = class\n",
    "    lst2 = object\n",
    "    OR \n",
    "    In simple words class is the set of rule jisko object follow karta h.\n",
    "    \n",
    "**class is basically consist of 2 things one is:\n",
    "1). Attributes/Data/Propertry\n",
    "2). Functions/Behaviours\n",
    "\n",
    "**\n",
    "For Example:- If we have class of car then we have data as 'car color, top speed, milage etc\n",
    "and functions is calculate avg speed."
   ]
  },
  {
   "cell_type": "code",
   "execution_count": 3,
   "id": "d6d812b9",
   "metadata": {},
   "outputs": [
    {
     "name": "stdout",
     "output_type": "stream",
     "text": [
      "<class 'list'>\n"
     ]
    }
   ],
   "source": [
    "# Class = list\n",
    "# lst2 = object\n",
    "lst2 = [1,2,3]\n",
    "print(type(lst2))"
   ]
  },
  {
   "cell_type": "code",
   "execution_count": null,
   "id": "11b7184c",
   "metadata": {},
   "outputs": [],
   "source": [
    "lst2.upper()"
   ]
  },
  {
   "cell_type": "code",
   "execution_count": null,
   "id": "b26b2901",
   "metadata": {},
   "outputs": [],
   "source": [
    "# Syntax to create an object:\n",
    "object_name = class_name()"
   ]
  },
  {
   "cell_type": "code",
   "execution_count": null,
   "id": "70a22ffd",
   "metadata": {},
   "outputs": [],
   "source": [
    "# Python has provided the facility to create object literal. \n",
    "lst3 = [1,2,3]\n",
    "lst3"
   ]
  },
  {
   "cell_type": "code",
   "execution_count": null,
   "id": "126bad0e",
   "metadata": {},
   "outputs": [],
   "source": [
    "# object_name = class_name()\n",
    "l = list()\n",
    "print(l)"
   ]
  },
  {
   "cell_type": "code",
   "execution_count": null,
   "id": "bb764b3f",
   "metadata": {},
   "outputs": [],
   "source": [
    "str1 = str()\n",
    "print(str1)"
   ]
  },
  {
   "cell_type": "markdown",
   "id": "637361b9",
   "metadata": {},
   "source": [
    "### Code of ATM machine"
   ]
  },
  {
   "cell_type": "code",
   "execution_count": null,
   "id": "80328722",
   "metadata": {},
   "outputs": [],
   "source": [
    "class Atm:\n",
    "    \n",
    "    # Constructor:- Its a special function because we do'nt need to call the constructor \n",
    "    # explicitly just like other function in which we need to call the function. It will \n",
    "    # automatically call the def of constructor.\n",
    "    # Its is basically the functions inside the class.\n",
    "    \n",
    "    def __init__(self):\n",
    "        self.pin = ''\n",
    "        self.balance = 0\n",
    "        # print(\"M toh execute ho gya\")\n",
    "        self.menu()\n",
    "    \n",
    "    # Functionality in Atm Machine\n",
    "    # 1). Change PIN    2). Set PIN for new atm    3). Can See Balance    4). Withdraw Money\n",
    "    \n",
    "    def menu(self):\n",
    "        user_input = input(\"\"\" \n",
    "        Hi! How Can I help You ?\n",
    "        1). Press 1 to create PIN.\n",
    "        2). Press 2 to Change PIN.\n",
    "        3). Press 3 to check Balance.\n",
    "        4). Press 4 to withdraw Money.\n",
    "        5). Press 5 to exit\n",
    "        \"\"\")\n",
    "    \n",
    "        if user_input == '1':\n",
    "            # create pin\n",
    "            self.create_pin()\n",
    "        elif user_input == '2':\n",
    "            # Change Pin\n",
    "            self.change_pin()\n",
    "        elif user_input == '3':\n",
    "            # check Balance\n",
    "            self.check_balance()\n",
    "        elif user_input == '4':\n",
    "            # Withdraw money\n",
    "            self.amount_withdraw()\n",
    "        else:\n",
    "            exit()\n",
    "    \n",
    "    def create_pin(self):\n",
    "        \n",
    "        user_pin = input(\"Enter the Pin\")\n",
    "        self.pin = user_pin\n",
    "        \n",
    "        user_balance = int(input(\"Enter the Balance\"))\n",
    "        self.balance = user_balance\n",
    "        \n",
    "        print(\"PIN created Successfully\")\n",
    "        self.menu()\n",
    "    \n",
    "    def change_pin(self):\n",
    "        old_pin = input(\"Enter the old PIN\")\n",
    "        \n",
    "        if old_pin == self.pin:\n",
    "            # Let him change the PIN\n",
    "            new_pin = input(\"Enter the new PIN\")\n",
    "            confirmed_new_pin = input(\"Confirm the pin you have entered\")\n",
    "            \n",
    "            if new_pin == confirmed_new_pin:\n",
    "                self.pin = new_pin\n",
    "                print(\"PIN changed successfully\")\n",
    "                self.menu()\n",
    "            else:\n",
    "                print(\"Confirmed PIN does not Match\")\n",
    "        else:\n",
    "            print(\"PIN is Incorrect enter the PIN again\")\n",
    "            self.menu()\n",
    "    \n",
    "    def check_balance(self):\n",
    "        user_pin = input(\"Enter the pin\")\n",
    "        \n",
    "        if user_pin == self.pin:\n",
    "            print(f\"Your Balance is {self.balance}\")\n",
    "            self.menu()\n",
    "        else:\n",
    "            print(\"Enter the correct pin\")\n",
    "            self.menu()\n",
    "    \n",
    "    def amount_withdraw(self):\n",
    "        user_pin = input(\"enter the pin\")\n",
    "        \n",
    "        if user_pin == self.pin:\n",
    "            # allow Cash withdraw\n",
    "            cash_withdraw = int(input(\"Enter the money you want to withdraw\"))\n",
    "            \n",
    "            if cash_withdraw > self.balance:\n",
    "                print(\"You Exceed the balance limit\")\n",
    "            else:\n",
    "                balance_left = self.balance - cash_withdraw\n",
    "                print(f\"Withdrawl is successfull. The remaining balance is {balance_left}\")\n",
    "        else:\n",
    "            print(\"Enter the Correct PIN\")\n",
    "        self.menu()"
   ]
  },
  {
   "cell_type": "code",
   "execution_count": null,
   "id": "fb67b9b3",
   "metadata": {},
   "outputs": [],
   "source": [
    "obj = Atm()\n",
    "print(type(obj))"
   ]
  },
  {
   "cell_type": "markdown",
   "id": "6af4e8d5",
   "metadata": {},
   "source": [
    "### Method VS Functions\n",
    "\n",
    "    1). Method:- If the functions is created inside the class that functions we called its as a method.\n",
    "    \n",
    "    2). Functions:- If a function is exiting independently outside the class then we called it as a function."
   ]
  },
  {
   "cell_type": "code",
   "execution_count": null,
   "id": "60a4322c",
   "metadata": {},
   "outputs": [],
   "source": [
    "lst5 = [1,2,3]\n",
    "print(len(lst5))       # Its a function because its does'nt inside the class.\n",
    "print(lst5.append(4))  # append function exist in the class so we called its as a method."
   ]
  },
  {
   "cell_type": "markdown",
   "id": "2380bd7b",
   "metadata": {},
   "source": [
    "#### class diagram\n",
    "    Class Name - ATM.\n",
    "    Attribute/variable/data:- pin, balance.\n",
    "    methods:- menu, create_pin, change_pin, check_balance, withdrawl.\n",
    "    + sign:- public, visible outside the class.\n",
    "    - sign:- private, not visible outside the class."
   ]
  },
  {
   "cell_type": "markdown",
   "id": "27f82565",
   "metadata": {},
   "source": [
    "#### Magic Method OR Dunder Methods\n",
    "\n",
    "    Magic methods are the special method. Every magic method has its own superpower.\n",
    "    \n",
    "    syntx: - __name__, __init__ etc\n",
    "    \n",
    "    with the help of these magic methods we can actually create our own datatypes."
   ]
  },
  {
   "cell_type": "markdown",
   "id": "847d9da1",
   "metadata": {},
   "source": [
    "#### About Constructor\n",
    "\n",
    "    constructor: Its a special function which has got the superpower. ye automatically trigger kr jata h when we create\n",
    "                the object for that class.\n",
    "                \n",
    "    Benefits of constructor:-\n",
    "    -------------------------\n",
    "    The main benefit of constructor is basically related to the control of application. \n",
    "    Suppose we have ola application so there are few feature in ola which is completely controlled by the user.\n",
    "    for ex.: booking the ride, payment, giving feedback. these are few feature which is in the hand of customer.\n",
    "    here kuch methods ka control customer ke pass hota h.\n",
    "    \n",
    "    But at the same time we need to connect our application through database and other so that we perform different\n",
    "    analytical activites to grow our organization these method which is in the control of organization generally we \n",
    "    define those functions in the constructor. So in simple words constructor ka control customer ke pass nhi hota h \n",
    "    like: connecting to the database,Connect our application to backend service, write the code to connect to the internet.\n",
    "    \n",
    "    CONSTRUCTOR IS USED TO WRITE CONFIGURATION RELATED CODE."
   ]
  },
  {
   "cell_type": "markdown",
   "id": "61d93b06",
   "metadata": {},
   "source": [
    "#### About Self:-\n",
    "    # Golden rule of OOPs:-\n",
    "    All the members of class(method and data/property/attribute) is actually access by the object of the class.\n",
    "    \n",
    "    So if we want to call one method in another then with the help of object is not possbile to call the method of class.\n",
    "    Now here comes the concept of SELF. so with the help of self we can call any method inside the other method of class.\n",
    "    \n",
    "    Calling the method within the class:--\n",
    "    Contructor class ke object ko bolega aur class ka object method ko bolega.\n",
    "    \n",
    "    "
   ]
  },
  {
   "cell_type": "code",
   "execution_count": null,
   "id": "083b71aa",
   "metadata": {},
   "outputs": [],
   "source": [
    "class temp:\n",
    "    def __init__(self):\n",
    "        print('hello')\n",
    "object1 = temp()\n",
    "print(object1)"
   ]
  },
  {
   "cell_type": "code",
   "execution_count": null,
   "id": "d3ae933a",
   "metadata": {},
   "outputs": [],
   "source": [
    "class Atm:\n",
    "    \n",
    "    # Constructor:- Its a special function because we do'nt need to call the constructor \n",
    "    # explicitly just like other function in which we need to call the function. It will \n",
    "    # automatically call the def of constructor.\n",
    "    # Its is basically the functions inside the class.\n",
    "    \n",
    "    def __init__(self):\n",
    "        print(id(self))\n",
    "        print(type(self))\n",
    "        self.pin = ''\n",
    "        self.balance = 0\n",
    "        # print(\"M toh execute ho gya\")\n",
    "        # self.menu()\n",
    "    \n",
    "    # Functionality in Atm Machine\n",
    "    # 1). Change PIN    2). Set PIN for new atm    3). Can See Balance    4). Withdraw Money\n",
    "    \n",
    "    def menu(self):\n",
    "        user_input = input(\"\"\" \n",
    "        Hi! How Can I help You ?\n",
    "        1). Press 1 to create PIN.\n",
    "        2). Press 2 to Change PIN.\n",
    "        3). Press 3 to check Balance.\n",
    "        4). Press 4 to withdraw Money.\n",
    "        5). Press 5 to exit\n",
    "        \"\"\")\n",
    "    \n",
    "        if user_input == '1':\n",
    "            # create pin\n",
    "            self.create_pin()\n",
    "        elif user_input == '2':\n",
    "            # Change Pin\n",
    "            self.change_pin()\n",
    "        elif user_input == '3':\n",
    "            # check Balance\n",
    "            self.check_balance()\n",
    "        elif user_input == '4':\n",
    "            # Withdraw money\n",
    "            self.amount_withdraw()\n",
    "        else:\n",
    "            exit()\n",
    "    \n",
    "    def create_pin(self):\n",
    "        \n",
    "        user_pin = input(\"Enter the Pin\")\n",
    "        self.pin = user_pin\n",
    "        \n",
    "        user_balance = int(input(\"Enter the Balance\"))\n",
    "        self.balance = user_balance\n",
    "        \n",
    "        print(\"PIN created Successfully\")\n",
    "        self.menu()\n",
    "    \n",
    "    def change_pin():\n",
    "        old_pin = input(\"Enter the old PIN\")\n",
    "        \n",
    "        if old_pin == self.pin:\n",
    "            # Let him change the PIN\n",
    "            new_pin = input(\"Enter the new PIN\")\n",
    "            confirmed_new_pin = input(\"Confirm the pin you have entered\")\n",
    "            \n",
    "            if new_pin == confirmed_new_pin:\n",
    "                self.pin = new_pin\n",
    "                print(\"PIN changed successfully\")\n",
    "                self.menu()\n",
    "            else:\n",
    "                print(\"Confirmed PIN does not Match\")\n",
    "        else:\n",
    "            print(\"PIN is Incorrect enter the PIN again\")\n",
    "            self.menu()\n",
    "    \n",
    "    def check_balance(self):\n",
    "        user_pin = input(\"Enter the pin\")\n",
    "        \n",
    "        if user_pin == self.pin:\n",
    "            print(f\"Your Balance is {self.balance}\")\n",
    "            self.menu()\n",
    "        else:\n",
    "            print(\"Enter the correct pin\")\n",
    "            self.menu()\n",
    "    \n",
    "    def amount_withdraw(self):\n",
    "        user_pin = input(\"enter the pin\")\n",
    "        \n",
    "        if user_pin == self.pin:\n",
    "            # allow Cash withdraw\n",
    "            cash_withdraw = int(input(\"Enter the money you want to withdraw\"))\n",
    "            \n",
    "            if cash_withdraw > self.balance:\n",
    "                print(\"You Exceed the balance limit\")\n",
    "            else:\n",
    "                balance_left = self.balance - cash_withdraw\n",
    "                print(f\"Withdrawl is successfull. The remaining balance is {balance_left}\")\n",
    "        else:\n",
    "            print(\"Enter the Correct PIN\")\n",
    "        self.menu()"
   ]
  },
  {
   "cell_type": "code",
   "execution_count": null,
   "id": "ca28d1eb",
   "metadata": {},
   "outputs": [],
   "source": [
    "object2 = Atm()\n",
    "print(object2)"
   ]
  },
  {
   "cell_type": "code",
   "execution_count": null,
   "id": "df84779b",
   "metadata": {},
   "outputs": [],
   "source": [
    "print(id(object2))\n",
    "print(type(object2))"
   ]
  },
  {
   "cell_type": "code",
   "execution_count": null,
   "id": "bae96703",
   "metadata": {},
   "outputs": [],
   "source": [
    "object2.change_pin()   # here object behave as a argument to the method. \n",
    "                       # that why self is necessary because the self and object has same position."
   ]
  },
  {
   "cell_type": "code",
   "execution_count": null,
   "id": "ceeb7720",
   "metadata": {},
   "outputs": [],
   "source": [
    "class Fraction:\n",
    "    \n",
    "    # Parameterized constructor\n",
    "    def __init__(self,x,y):\n",
    "        self.num = x\n",
    "        self.den = y\n",
    "        \n",
    "    def __str__(self):      # str magic function is used to print the data in which ever way we like.\n",
    "        return f'The fraction is {self.num}/{self.den}'\n",
    "        \n",
    "    def __add__(self,other):\n",
    "        new_num = self.num*other.den + other.num*self.num\n",
    "        new_den = self.den*other.den\n",
    "        \n",
    "        return '{}/{}'.format(new_num,new_den)\n",
    "        \n",
    "    def __sub__(self,other):\n",
    "        new_num = self.num*other.den - other.num*self.num\n",
    "        new_den = self.den*other.den\n",
    "        \n",
    "        return '{}/{}'.format(new_num,new_den)\n",
    "        \n",
    "    def __mul__(self,other):\n",
    "        new_num = self.num*other.num\n",
    "        new_den = self.den*other.den\n",
    "        \n",
    "        return '{}/{}'.format(new_num,new_den)\n",
    "        \n",
    "    def __truediv__(self,other):\n",
    "        new_num = self.num*other.den\n",
    "        new_den = self.den*other.num\n",
    "        \n",
    "        return '{}/{}'.format(new_num,new_den)\n",
    "        \n",
    "    def convertToDecimal(self):\n",
    "        \n",
    "        return self.num/self.den"
   ]
  },
  {
   "cell_type": "code",
   "execution_count": null,
   "id": "a9f81c60",
   "metadata": {},
   "outputs": [],
   "source": [
    "fr1 = Fraction()"
   ]
  },
  {
   "cell_type": "code",
   "execution_count": null,
   "id": "20f3a0c0",
   "metadata": {},
   "outputs": [],
   "source": [
    "fr1 = Fraction(2,3)\n",
    "fr2 = Fraction(1,3)"
   ]
  },
  {
   "cell_type": "code",
   "execution_count": null,
   "id": "2084d7ec",
   "metadata": {},
   "outputs": [],
   "source": [
    "print(fr1)\n",
    "print(fr2)\n",
    "print(type(fr1))\n",
    "print(id(fr1))"
   ]
  },
  {
   "cell_type": "code",
   "execution_count": null,
   "id": "0b6cef8e",
   "metadata": {},
   "outputs": [],
   "source": [
    "print(fr1+fr2)\n",
    "print(fr1-fr2)\n",
    "print(fr1*fr2)\n",
    "print(fr1/fr2)"
   ]
  },
  {
   "cell_type": "code",
   "execution_count": null,
   "id": "b6521871",
   "metadata": {},
   "outputs": [],
   "source": [
    "round(fr1.convertToDecimal(),2)"
   ]
  },
  {
   "cell_type": "code",
   "execution_count": null,
   "id": "46b8e209",
   "metadata": {},
   "outputs": [],
   "source": [
    "round(fr2.convertToDecimal(),2)"
   ]
  },
  {
   "cell_type": "code",
   "execution_count": null,
   "id": "9bc7eb31",
   "metadata": {},
   "outputs": [],
   "source": [
    "print(dir(int))"
   ]
  },
  {
   "cell_type": "code",
   "execution_count": null,
   "id": "62298722",
   "metadata": {},
   "outputs": [],
   "source": [
    "# Q -1: Rectangle Class\n",
    "# Write a Rectangle class in Python language, allowing you to build a rectangle with length and width attributes.\n",
    "\n",
    "# Create a Perimeter() method to calculate the perimeter of the rectangle and a Area() \n",
    "# method to calculate the area of ​​the rectangle.\n",
    "\n",
    "# Create a method display() that display the length, width, perimeter and area of an object \n",
    "# created using an instantiation on rectangle class"
   ]
  },
  {
   "cell_type": "code",
   "execution_count": null,
   "id": "11af5da5",
   "metadata": {},
   "outputs": [],
   "source": [
    "class Rectangle:\n",
    "    \n",
    "    def __init__(self,l,b):\n",
    "        self.length = l\n",
    "        self.width = b\n",
    "        self.menu()\n",
    "        \n",
    "    def menu(self):\n",
    "        while True:\n",
    "            user_input = input(\"\"\"\n",
    "                Hi How can i help you?\n",
    "                1). Press 1 to Calculate Perimeter.\n",
    "                2). Press 2 to Calculate Area.\n",
    "                3). Press 3 to display the Area and Perimeter with Length and width.\n",
    "            \"\"\")\n",
    "\n",
    "            if user_input == '1':\n",
    "                # Calculate Perimeter\n",
    "                print(self.Perimeter())\n",
    "            elif user_input == '2':\n",
    "                # Calculate Area\n",
    "                print(self.Area())\n",
    "            elif user_input == '3':\n",
    "                # Display\n",
    "                self.display()\n",
    "            elif user_input == '4':\n",
    "                print(\"Enter the Valid Choice\")\n",
    "                break\n",
    "            else:\n",
    "                print(\"Wrong Choice!!! Please try Again\")\n",
    "            \n",
    "    def Perimeter(self):\n",
    "        peri = (2*(self.length+self.width))\n",
    "        return peri\n",
    "        \n",
    "    def Area(self):\n",
    "        area1 = self.length*self.width\n",
    "        return area1\n",
    "        \n",
    "    def display(self):\n",
    "        print(f\"The length is {self.length}\")\n",
    "        print(f\"The breath is {self.width}\")\n",
    "        print(f\"The Area of Rectangle is {self.Area()}\")\n",
    "        print(f\"The perimeter of Rectangle is {self.Perimeter()}\")"
   ]
  },
  {
   "cell_type": "code",
   "execution_count": null,
   "id": "b9f4f74e",
   "metadata": {},
   "outputs": [],
   "source": [
    "rect1 = Rectangle(4,8)\n",
    "rect1.display()"
   ]
  },
  {
   "cell_type": "code",
   "execution_count": null,
   "id": "009ec842",
   "metadata": {},
   "outputs": [],
   "source": [
    "# Q-2: Bank Class\n",
    "# Create a Python class called BankAccount which represents a bank account, having as attributes: \n",
    "# accountNumber (numeric type), name (name of the account owner as string type), balance.\n",
    "\n",
    "# Create a constructor with parameters: accountNumber, name, balance.\n",
    "# Create a Deposit() method which manages the deposit actions.\n",
    "# Create a Withdrawal() method which manages withdrawals actions.\n",
    "# Create an bankFees() method to apply the bank fees with a percentage of 5% of the balance account.\n",
    "# Create a display() method to display account details. Give the complete code for the BankAccount class."
   ]
  },
  {
   "cell_type": "code",
   "execution_count": null,
   "id": "d7bc1910",
   "metadata": {},
   "outputs": [],
   "source": [
    "class BankAccount:\n",
    "    \n",
    "    \n",
    "    def __init__(self,accountNumber,name,balance):\n",
    "        print(id(self))\n",
    "        self.accountNumber = accountNumber\n",
    "        self.name = name\n",
    "        self.balance = 0\n",
    "        self.pin = ''\n",
    "        self.menu()\n",
    "    \n",
    "    \n",
    "    def menu(self):\n",
    "        while True:\n",
    "            user_input = input(\"\"\"\n",
    "                           Hi!! How Can i Help you?\n",
    "                           Press 1 to Create Pin and Enter Balance.\n",
    "                           Press 2 to Deposit amount.\n",
    "                           Press 3 to Withdraw amount.\n",
    "                           Press 4 to See Account details.\n",
    "                           \"\"\")\n",
    "            \n",
    "            if user_input == '1':\n",
    "                # Create Pin and Enter balance\n",
    "                self.create_pin()\n",
    "            elif user_input == '2':\n",
    "                # Deposit Amount\n",
    "                self.Deposit_Bank_Amount()\n",
    "            elif user_input == '3':\n",
    "                # Withdraw Amount\n",
    "                self.Withdrawl_Bank_Amount()\n",
    "            elif user_input == '4':\n",
    "                # Complete Account details\n",
    "                self.display()\n",
    "            elif user_input == '5':\n",
    "                print(\"Enter the Correct Choice\")\n",
    "                break\n",
    "            else:\n",
    "                print(\"Wrong Choice!!! Enter the Right Choice\")\n",
    "    \n",
    "    \n",
    "    def create_pin(self):\n",
    "        user_pin = input(\"Enter the PIN\")\n",
    "        self.pin = user_pin\n",
    "        \n",
    "        user_balance = int(input('Enter the balance'))\n",
    "        self.balance = user_balance\n",
    "        \n",
    "        self.menu()\n",
    "    \n",
    "    \n",
    "    def Deposit_Bank_Amount(self):\n",
    "        acc_num = int(input(\"Enter the account number\"))\n",
    "        deposit_amount = int(input(\"Enter the amount of money you want to deposit\"))\n",
    "        \n",
    "        if acc_num == self.accountNumber:\n",
    "            self.balance = self.balance + deposit_amount\n",
    "            print(\"Amount deposit Successfully\")\n",
    "            print(f\"The New Amount is {self.balance}\")\n",
    "            self.menu()\n",
    "        else:\n",
    "            print(\"Enter the correct Account Number\")\n",
    "            self.menu()\n",
    "    \n",
    "    \n",
    "    def Withdrawl_Bank_Amount(self):\n",
    "        user_pin = input(\"Enter the PIN\")\n",
    "        acc_num = int(input(\"Enter the account number\"))\n",
    "        if user_pin == self.pin and self.accountNumber == acc_num:\n",
    "            # Write withdraw code\n",
    "            amount_withdraw = int(input(\"Enter the amount to be withdraw\"))\n",
    "            if amount_withdraw > self.balance:\n",
    "                print(\"You have Excceds the amount limit\")\n",
    "                self.menu()\n",
    "            else:\n",
    "                reduction = self.BankFee()\n",
    "                self.balance = self.balance-(amount_withdraw + reduction)\n",
    "                print(f\"Amount after withdrawl is {self.balance}\")\n",
    "                self.menu()\n",
    "        else:\n",
    "            print(\"Enter the correct PIN\")\n",
    "            self.menu()\n",
    "    \n",
    "    def BankFee(self):\n",
    "        return (0.05 * self.balance)\n",
    "    \n",
    "    \n",
    "    def display(self):\n",
    "        print(f\"The account number is {self.accountNumber}\")\n",
    "        print(f\"The Person Name is  {self.name}\")\n",
    "        print(f\"The Balance is {self.balance}\")\n",
    "    \n",
    "    \n",
    "object1 = BankAccount(2178514584,'Sahil',10000)\n",
    "print(id(object1))\n",
    "\n",
    "print(object1)\n",
    "print(type(object1))"
   ]
  },
  {
   "cell_type": "code",
   "execution_count": null,
   "id": "15b423ed",
   "metadata": {},
   "outputs": [],
   "source": [
    "# Q-3:Computation class\n",
    "# Create a Computation class with a default constructor (without parameters) allowing to perform various \n",
    "# calculations on integers numbers.\n",
    "\n",
    "# Create a method called Factorial() which allows to calculate the factorial of an integer n. \n",
    "# Integer n as parameter for this method\n",
    "\n",
    "# Create a method called naturalSum() allowing to calculate the sum of the first n \n",
    "# integers 1 + 2 + 3 + .. + n. Integer n as parameter for this method.\n",
    "\n",
    "# Create a method called testPrime() in the Calculation class to test the primality of a given integer n, \n",
    "# n is Prime or Not? Integer n as parameter for this method.\n",
    "\n",
    "# Create a method called testPrims() allowing to test if two numbers are prime between them. \n",
    "# Two integers are prime to one another if they have only 1 as their common divisor. Eg. 4 and 9 are prime to each other.\n",
    "\n",
    "# Create a tableMult() method which creates and displays the multiplication table of a given integer. \n",
    "# Then create an allTablesMult() method to display all the integer multiplication tables 1, 2, 3, ..., 9.\n",
    "\n",
    "# Create a static listDiv() method that gets all the divisors of a given integer on new list called Ldiv. \n",
    "# Create another listDivPrim() method that gets all the prime divisors of a given integer."
   ]
  },
  {
   "cell_type": "code",
   "execution_count": null,
   "id": "6505aedc",
   "metadata": {},
   "outputs": [],
   "source": [
    "class Computation:\n",
    "    \n",
    "    \n",
    "    def __init__(self):\n",
    "        "
   ]
  },
  {
   "cell_type": "markdown",
   "id": "a375a593",
   "metadata": {},
   "source": [
    "### Class 2\n",
    "#### Encapsulation and Static Keywords"
   ]
  },
  {
   "cell_type": "code",
   "execution_count": null,
   "id": "9da57c48",
   "metadata": {},
   "outputs": [],
   "source": [
    "# Write OOP classes to handle the following scenarios:\n",
    "# A user can create and view 2D coordinates.\n",
    "# A user can find out the distance between 2 coordinates.\n",
    "# A user can find find the distance of a coordinate from origin.\n",
    "# A user can check if a point lies on a given line.\n",
    "# A user can find the distance between a given 2D point and a given line."
   ]
  },
  {
   "cell_type": "code",
   "execution_count": null,
   "id": "71325e02",
   "metadata": {},
   "outputs": [],
   "source": [
    "class Point:\n",
    "    \n",
    "    def __init__(self,x,y):\n",
    "        # print(id(self))\n",
    "        # print(type(self))\n",
    "        self.x_cod = x\n",
    "        self.y_cod = y\n",
    "        \n",
    "    def __str__(self):\n",
    "        return '<{},{}>'.format(self.x_cod,self.y_cod)\n",
    "    \n",
    "    def Euclidian_distance(self,other):\n",
    "        return (((self.x_cod - other.x_cod)**2) + ((self.y_cod-other.y_cod)**2))**0.5\n",
    "    \n",
    "    def distance_from_origin(self):\n",
    "        # return (self.x_cod**2 + self.y_cod**2)**0.5\n",
    "        return self.Euclidian_distance(Point(0,0))\n",
    "    \n",
    "class Lines:\n",
    "    \n",
    "    def __init__(self,A,B,C):\n",
    "        self.A = A\n",
    "        self.B = B\n",
    "        self.C = C\n",
    "    \n",
    "    \n",
    "    def __str__(self):\n",
    "        return '{}x + {}y + {} = 0'.format(self.A,self.B,self.C)\n",
    "    \n",
    "    def point_on_line(line,point):\n",
    "        if line.A*point.x_cod + line.B*point.y_cod + line.C == 0:\n",
    "            return 'point lies on the line'\n",
    "        else:\n",
    "            return 'point does not lies on the line'\n",
    "        \n",
    "    def shortest_distance(line,point):\n",
    "        return abs(line.A*point.x_cod + line.B*point.y_cod + line.C)/(line.A**2 + line.B**2)**0.5"
   ]
  },
  {
   "cell_type": "code",
   "execution_count": null,
   "id": "179a668b",
   "metadata": {},
   "outputs": [],
   "source": [
    "p1 = Point(10,10)\n",
    "p2 = Point(-2,3)\n",
    "print(p1.Euclidian_distance(p2))\n",
    "print(p1.distance_from_origin())"
   ]
  },
  {
   "cell_type": "code",
   "execution_count": null,
   "id": "6f8994ad",
   "metadata": {},
   "outputs": [],
   "source": [
    "l1 = Lines(1,1,-2)\n",
    "p3 = Point(1,1)\n",
    "print(l1.point_on_line(p3))\n",
    "print(p3)\n",
    "print(l1)"
   ]
  },
  {
   "cell_type": "markdown",
   "id": "70933097",
   "metadata": {},
   "source": [
    "### How Objects Access Attributes\n",
    "    We can access methods and attributes with the help of object of the class.\n",
    "    We can create attributes outside the class.\n",
    "    If some attribute is not present in the class then it will show \"Person' object has no attribute 'gender'\"\n",
    "    "
   ]
  },
  {
   "cell_type": "code",
   "execution_count": null,
   "id": "7881771b",
   "metadata": {},
   "outputs": [],
   "source": [
    "class Person:\n",
    "    \n",
    "    def __init__(self,name,country):\n",
    "        \n",
    "        self.country = country\n",
    "        self.name = name\n",
    "        \n",
    "    def greet(self):\n",
    "        if self.country == 'India':\n",
    "            print(\"Namaste\", self.name)\n",
    "        else:\n",
    "            print(\"Hello\", self.name)"
   ]
  },
  {
   "cell_type": "code",
   "execution_count": null,
   "id": "e24e30bf",
   "metadata": {},
   "outputs": [],
   "source": [
    "p = Person('Sahil','India')"
   ]
  },
  {
   "cell_type": "code",
   "execution_count": null,
   "id": "e95ce9a2",
   "metadata": {},
   "outputs": [],
   "source": [
    "# Access those attribute which is in the class\n",
    "print(p.country)\n",
    "print(p.name)\n",
    "p.greet()"
   ]
  },
  {
   "cell_type": "code",
   "execution_count": null,
   "id": "f9feceda",
   "metadata": {},
   "outputs": [],
   "source": [
    "# what if i try to access those attributes which is not present in the class.\n",
    "p.gender"
   ]
  },
  {
   "cell_type": "code",
   "execution_count": null,
   "id": "b8631a56",
   "metadata": {},
   "outputs": [],
   "source": [
    "p.gender = 'Male'"
   ]
  },
  {
   "cell_type": "code",
   "execution_count": null,
   "id": "5fef132c",
   "metadata": {},
   "outputs": [],
   "source": [
    "p.gender"
   ]
  },
  {
   "cell_type": "markdown",
   "id": "c1abb7e6",
   "metadata": {},
   "source": [
    "#### Reference Variable\n",
    "- Reference Variables\n",
    "- Reference variables hold the objects\n",
    "- We can create objects without reference variable as well\n",
    "- An object can have multiple reference variables\n",
    "- Assigning a new reference variable to an existing object does not create a new object- "
   ]
  },
  {
   "cell_type": "code",
   "execution_count": null,
   "id": "708d4b37",
   "metadata": {},
   "outputs": [],
   "source": [
    "class PersonClass:\n",
    "    \n",
    "    def __init__(self):\n",
    "        self.name = 'Sahil'\n",
    "        self.gender = 'Male'\n",
    "        \n",
    "p = PersonClass()     # Here p is the reference variable and PersonClass() is the object.\n",
    "q = p"
   ]
  },
  {
   "cell_type": "code",
   "execution_count": null,
   "id": "d2711933",
   "metadata": {},
   "outputs": [],
   "source": [
    "print(id(p))\n",
    "print(id(q))"
   ]
  },
  {
   "cell_type": "code",
   "execution_count": null,
   "id": "767de975",
   "metadata": {},
   "outputs": [],
   "source": [
    "# change attribute value with the help of 2nd object\n",
    "print(p.name)\n",
    "print(q.name)\n",
    "q.name = 'ankit'\n",
    "print(q.name)\n",
    "print(p.name)"
   ]
  },
  {
   "cell_type": "markdown",
   "id": "cd1f9e1e",
   "metadata": {},
   "source": [
    "### Pass By Reference"
   ]
  },
  {
   "cell_type": "code",
   "execution_count": null,
   "id": "feaef8af",
   "metadata": {},
   "outputs": [],
   "source": [
    "# In this code we can see that we can pass the class objects in the functions outside the class.\n",
    "class Person:\n",
    "    def __init__(self,name,gender):\n",
    "        self.name = name\n",
    "        self.gender = gender\n",
    "        \n",
    "# Outside the class that why its a function\n",
    "def Greet(person):\n",
    "    print('Hi my name is', person.name, 'and I am ', person.gender)\n",
    "    p1 = Person('Gargi','Female')\n",
    "    return p1\n",
    "    \n",
    "p = Person('Sahil', 'Male')\n",
    "x = Greet(p)\n",
    "print(x.name)\n",
    "print(x.gender)"
   ]
  },
  {
   "cell_type": "code",
   "execution_count": null,
   "id": "5b30ae11",
   "metadata": {},
   "outputs": [],
   "source": [
    "class Person:\n",
    "    def __init__(self,name,gender):\n",
    "        self.name = name\n",
    "        self.gender = gender\n",
    "        \n",
    "# Outside the class that why its a function\n",
    "def Greet(person):\n",
    "    print(id(person))\n",
    "    print('Hi my name is', person.name, 'and I am ', person.gender)\n",
    "    \n",
    "    \n",
    "p = Person('Sahil', 'Male')\n",
    "print(id(p))\n",
    "x = Greet(p)"
   ]
  },
  {
   "cell_type": "code",
   "execution_count": null,
   "id": "7c06f7b1",
   "metadata": {},
   "outputs": [],
   "source": [
    "# All object of User defined class are mutable.\n",
    "# Object ki mutability\n",
    "class Person:\n",
    "    def __init__(self,name,gender):\n",
    "        self.name = name\n",
    "        self.gender = gender\n",
    "        \n",
    "# Outside the class that why its a function\n",
    "def Greet(person):\n",
    "    person.name = 'Ankit'\n",
    "    return person\n",
    "    \n",
    "    \n",
    "p = Person('Sahil', 'Male')\n",
    "print(id(p))\n",
    "p1 = Greet(p)\n",
    "print(id(p1))"
   ]
  },
  {
   "cell_type": "markdown",
   "id": "81cbb5ff",
   "metadata": {},
   "source": [
    "### Encapsulation"
   ]
  },
  {
   "cell_type": "code",
   "execution_count": null,
   "id": "56e77c98",
   "metadata": {},
   "outputs": [],
   "source": [
    "# Instance variable -- ek esa variable jiska value alag alag objects ke liye alag alag hota h. --> Python tutor\n",
    "class Person:\n",
    "    \n",
    "    def __init__(self,name_input,country_input):\n",
    "        \n",
    "        self.name = name_input\n",
    "        self.country = country_input\n",
    "        \n",
    "p1 = Person('Sahil','India')\n",
    "p2 = Person('Ankit','Nepal')"
   ]
  },
  {
   "cell_type": "code",
   "execution_count": null,
   "id": "bd3c85d4",
   "metadata": {},
   "outputs": [],
   "source": [
    "print(p1)\n",
    "print(p2)"
   ]
  },
  {
   "cell_type": "code",
   "execution_count": null,
   "id": "1c172212",
   "metadata": {},
   "outputs": [],
   "source": [
    "class Atm:\n",
    "    # constructor(special function)->superpower -> \n",
    "    def __init__(self):\n",
    "        print(id(self))\n",
    "        self.pin = ''\n",
    "        self.balance = 0\n",
    "        #self.menu()\n",
    "\n",
    "    def menu(self):\n",
    "        \n",
    "        user_input = input(\"\"\"\n",
    "        Hi how can I help you?\n",
    "        1. Press 1 to create pin\n",
    "        2. Press 2 to change pin\n",
    "        3. Press 3 to check balance\n",
    "        4. Press 4 to withdraw\n",
    "        5. Anything else to exit\n",
    "        \"\"\")\n",
    "\n",
    "        if user_input == '1':\n",
    "            self.create_pin()\n",
    "        elif user_input == '2':\n",
    "            self.change_pin()\n",
    "        elif user_input == '3':\n",
    "            self.check_balance()\n",
    "        elif user_input == '4':\n",
    "            self.withdraw()\n",
    "        else:\n",
    "            exit()\n",
    "\n",
    "    def create_pin(self):\n",
    "        \n",
    "        user_pin = input('enter your pin')\n",
    "        self.pin = user_pin\n",
    "\n",
    "        user_balance = int(input('enter balance'))\n",
    "        self.balance = user_balance\n",
    "\n",
    "        print('pin created successfully')\n",
    "\n",
    "    def change_pin(self):\n",
    "        old_pin = input('enter old pin')\n",
    "\n",
    "        if old_pin == self.pin:\n",
    "            # let him change the pin\n",
    "            new_pin = input('enter new pin')\n",
    "            self.pin = new_pin\n",
    "            print('pin change successful')\n",
    "        else:\n",
    "            print('nai karne de sakta re baba')\n",
    "\n",
    "    def check_balance(self):\n",
    "        user_pin = input('enter your pin')\n",
    "        if user_pin == self.pin:\n",
    "            print('your balance is ',self.balance)\n",
    "        else:\n",
    "            print('chal nikal yahan se')\n",
    "\n",
    "    def withdraw(self):\n",
    "        \n",
    "        user_pin = input('enter the pin')\n",
    "        if user_pin == self.pin:\n",
    "            # allow to withdraw\n",
    "            amount = int(input('enter the amount'))\n",
    "            if amount <= self.balance:\n",
    "                self.balance = self.balance - amount\n",
    "                print('withdrawl successful.balance is',self.balance)\n",
    "            else:\n",
    "                print('abe garib')\n",
    "        else:\n",
    "            print('sale chor')"
   ]
  },
  {
   "cell_type": "code",
   "execution_count": null,
   "id": "774cf979",
   "metadata": {},
   "outputs": [],
   "source": [
    "obj = Atm()"
   ]
  },
  {
   "cell_type": "code",
   "execution_count": null,
   "id": "2f71bd15",
   "metadata": {},
   "outputs": [],
   "source": [
    "obj.create_pin()"
   ]
  },
  {
   "cell_type": "code",
   "execution_count": null,
   "id": "cf407149",
   "metadata": {},
   "outputs": [],
   "source": [
    "obj.balance = 'hehehe'"
   ]
  },
  {
   "cell_type": "code",
   "execution_count": null,
   "id": "3dcf2954",
   "metadata": {},
   "outputs": [],
   "source": [
    "obj.withdraw()   # we are getting this error because hamne yaha pr pin create kiya and balance m int value provide kiya.\n",
    "                # but hum class ke bahar object ki value ko change kr sakte thae so hamne object balance jo create kiya h\n",
    "                # uska value ek junior developer ne str provide kara diya so we are getting this error\n",
    "                # '<=' not supported between instances of 'int' and 'str'"
   ]
  },
  {
   "cell_type": "code",
   "execution_count": null,
   "id": "67127ff8",
   "metadata": {},
   "outputs": [],
   "source": []
  },
  {
   "cell_type": "code",
   "execution_count": null,
   "id": "b2d23cd0",
   "metadata": {},
   "outputs": [],
   "source": [
    "class Atm:\n",
    "    # constructor(special function)->superpower -> \n",
    "    def __init__(self):\n",
    "        print(id(self))\n",
    "        self.pin = ''\n",
    "        self.__balance = 0\n",
    "        #self.menu()\n",
    "        \n",
    "    def get_balance(self):\n",
    "        return self.__balance\n",
    "    \n",
    "    def set_balance(self,new_value):\n",
    "        if type(new_value) == int:\n",
    "            self.__balance = new_value\n",
    "        else:\n",
    "            print('beta bahot maarenge')\n",
    "\n",
    "    def __menu(self):\n",
    "        \n",
    "        user_input = input(\"\"\"\n",
    "        Hi how can I help you?\n",
    "        1. Press 1 to create pin\n",
    "        2. Press 2 to change pin\n",
    "        3. Press 3 to check balance\n",
    "        4. Press 4 to withdraw\n",
    "        5. Anything else to exit\n",
    "        \"\"\")\n",
    "\n",
    "        if user_input == '1':\n",
    "            self.create_pin()\n",
    "        elif user_input == '2':\n",
    "            self.change_pin()\n",
    "        elif user_input == '3':\n",
    "            self.check_balance()\n",
    "        elif user_input == '4':\n",
    "            self.withdraw()\n",
    "        else:\n",
    "            exit()\n",
    "\n",
    "    def create_pin(self):\n",
    "        \n",
    "        user_pin = input('enter your pin')\n",
    "        self.pin = user_pin\n",
    "\n",
    "        user_balance = int(input('enter balance'))\n",
    "        self.balance = user_balance\n",
    "\n",
    "        print('pin created successfully')\n",
    "\n",
    "    def change_pin(self):\n",
    "        old_pin = input('enter old pin')\n",
    "\n",
    "        if old_pin == self.pin:\n",
    "            # let him change the pin\n",
    "            new_pin = input('enter new pin')\n",
    "            self.pin = new_pin\n",
    "            print('pin change successful')\n",
    "        else:\n",
    "            print('nai karne de sakta re baba')\n",
    "\n",
    "    def check_balance(self):\n",
    "        user_pin = input('enter your pin')\n",
    "        if user_pin == self.pin:\n",
    "            print('your balance is ',self.__balance)\n",
    "        else:\n",
    "            print('chal nikal yahan se')\n",
    "\n",
    "    def withdraw(self):\n",
    "        \n",
    "        user_pin = input('enter the pin')\n",
    "        if user_pin == self.pin:\n",
    "            # allow to withdraw\n",
    "            amount = int(input('enter the amount'))\n",
    "            if amount <= self.__balance:\n",
    "                self.__balance = self.__balance - amount\n",
    "                print('withdrawl successful.balance is',self.__balance)\n",
    "            else:\n",
    "                print('abe garib')\n",
    "        else:\n",
    "            print('sale chor')"
   ]
  },
  {
   "cell_type": "code",
   "execution_count": null,
   "id": "55ceb34c",
   "metadata": {},
   "outputs": [],
   "source": [
    "obj1 = Atm()"
   ]
  },
  {
   "cell_type": "code",
   "execution_count": null,
   "id": "6c61acd7",
   "metadata": {},
   "outputs": [],
   "source": [
    "obj1.create_pin()"
   ]
  },
  {
   "cell_type": "code",
   "execution_count": null,
   "id": "2dc55141",
   "metadata": {},
   "outputs": [],
   "source": [
    "# if we create a private variable then it will store in the memory like _Atm__balance inside of just __balance so \n",
    "# we try to change the value of __balance then it will create completely a new attribute then change there inside of \n",
    "# changing _Atm__balance.\n",
    "\n",
    "obj1.__balance = 'hehehe'"
   ]
  },
  {
   "cell_type": "code",
   "execution_count": null,
   "id": "06ac8f9d",
   "metadata": {},
   "outputs": [],
   "source": [
    "obj1.withdraw()"
   ]
  },
  {
   "cell_type": "markdown",
   "id": "51ff1fe3",
   "metadata": {},
   "source": [
    "#### Concept of getter and setter in python \n",
    "    here in python if we want to create any variable as private and also at the same time. we need to write the logic \n",
    "    in the manner that it will change the value from the outside of class so we create getter and setter methods \n",
    "    inside the class."
   ]
  },
  {
   "cell_type": "code",
   "execution_count": null,
   "id": "adaf0e94",
   "metadata": {},
   "outputs": [],
   "source": [
    "obj1.get_balance()"
   ]
  },
  {
   "cell_type": "code",
   "execution_count": null,
   "id": "48b1a0e0",
   "metadata": {},
   "outputs": [],
   "source": [
    "obj1.set_balance(1000)"
   ]
  },
  {
   "cell_type": "markdown",
   "id": "1c5c5b35",
   "metadata": {},
   "source": [
    "### Collection of Objects\n",
    "\n",
    "    We can create the collection of objects of the class. with the list and dict."
   ]
  },
  {
   "cell_type": "code",
   "execution_count": null,
   "id": "a17954e4",
   "metadata": {},
   "outputs": [],
   "source": [
    "# List of objects\n",
    "class Person:\n",
    "    def __init__(self,name,gender):\n",
    "        self.name = name\n",
    "        self.gender = gender\n",
    "        \n",
    "p1 = Person('Nitish','Male')\n",
    "p2 = Person('Sahil','Male')\n",
    "p3 = Person('Ankita','Female')\n",
    "p4 = Person('Gargi','Female')\n",
    "p5 = Person('Aditi','Shemale')\n",
    "\n",
    "lst1 = [p1,p2,p3,p4,p5]\n",
    "\n",
    "for i in lst1:\n",
    "    # print(i)\n",
    "    print(i.name,i.gender)"
   ]
  },
  {
   "cell_type": "code",
   "execution_count": null,
   "id": "5e807c27",
   "metadata": {},
   "outputs": [],
   "source": [
    "dict1 = {'p1':p1,'p2':p2,'p3':p3,'p4':p4,'p5':p5}\n",
    "\n",
    "for i in dict1:\n",
    "    print(dict1[i].name)\n",
    "    print(dict1[i].gender)"
   ]
  },
  {
   "cell_type": "code",
   "execution_count": null,
   "id": "c8e7d890",
   "metadata": {},
   "outputs": [],
   "source": [
    "# Static Variable VS (Instance Variable):-\n",
    "# Static variable ka value har object ke liye same hota h, static variable class ka hota h .\n",
    "# wahi pr instance variable ka value har object ke liye alag alag hota h, instance variable object ka hota h."
   ]
  },
  {
   "cell_type": "code",
   "execution_count": null,
   "id": "860f912c",
   "metadata": {},
   "outputs": [],
   "source": [
    "# Need of Static Variable\n",
    "class Atm:\n",
    "    # constructor(special function)->superpower -> \n",
    "    \n",
    "    __counter = 1     # Static Variable \n",
    "    \n",
    "    def __init__(self):\n",
    "        print(id(self))\n",
    "        self.pin = ''\n",
    "        self.__balance = 0         # Instance variable\n",
    "        self.cid = Atm.__counter\n",
    "        Atm.__counter = Atm.__counter + 1\n",
    "        #self.menu()\n",
    "        \n",
    "    # For static method we do'nt need to create the objects. we can directly access the static method \n",
    "    # without using the objects.    \n",
    "    \n",
    "    # Utility functions\n",
    "    @staticmethod    \n",
    "    def get_counter():\n",
    "        return Atm.__counter\n",
    "        \n",
    "    def get_balance(self):\n",
    "        return self.__balance\n",
    "        \n",
    "    def set_balance(self,new_value):\n",
    "        if type(new_value) == int:\n",
    "            self.__balance = new_value\n",
    "        else:\n",
    "            print('beta bahot maarenge')\n",
    "    \n",
    "    def __menu(self):\n",
    "        \n",
    "        user_input = input(\"\"\"\n",
    "        Hi how can I help you?\n",
    "        1. Press 1 to create pin\n",
    "        2. Press 2 to change pin\n",
    "        3. Press 3 to check balance\n",
    "        4. Press 4 to withdraw\n",
    "        5. Anything else to exit\n",
    "        \"\"\")\n",
    "\n",
    "        if user_input == '1':\n",
    "            self.create_pin()\n",
    "        elif user_input == '2':\n",
    "            self.change_pin()\n",
    "        elif user_input == '3':\n",
    "            self.check_balance()\n",
    "        elif user_input == '4':\n",
    "            self.withdraw()\n",
    "        else:\n",
    "            exit()\n",
    "\n",
    "    def create_pin(self):\n",
    "        \n",
    "        user_pin = input('enter your pin')\n",
    "        self.pin = user_pin\n",
    "\n",
    "        user_balance = int(input('enter balance'))\n",
    "        self.balance = user_balance\n",
    "\n",
    "        print('pin created successfully')\n",
    "\n",
    "    def change_pin(self):\n",
    "        old_pin = input('enter old pin')\n",
    "\n",
    "        if old_pin == self.pin:\n",
    "            # let him change the pin\n",
    "            new_pin = input('enter new pin')\n",
    "            self.pin = new_pin\n",
    "            print('pin change successful')\n",
    "        else:\n",
    "            print('nai karne de sakta re baba')\n",
    "\n",
    "    def check_balance(self):\n",
    "        user_pin = input('enter your pin')\n",
    "        if user_pin == self.pin:\n",
    "            print('your balance is ',self.__balance)\n",
    "        else:\n",
    "            print('chal nikal yahan se')\n",
    "\n",
    "    def withdraw(self):\n",
    "        \n",
    "        user_pin = input('enter the pin')\n",
    "        if user_pin == self.pin:\n",
    "            # allow to withdraw\n",
    "            amount = int(input('enter the amount'))\n",
    "            if amount <= self.__balance:\n",
    "                self.__balance = self.__balance - amount\n",
    "                print('withdrawl successful.balance is',self.__balance)\n",
    "            else:\n",
    "                print('abe garib')\n",
    "        else:\n",
    "            print('sale chor')"
   ]
  },
  {
   "cell_type": "code",
   "execution_count": null,
   "id": "29fa382e",
   "metadata": {},
   "outputs": [],
   "source": [
    "c1 = Atm()\n",
    "c1.cid"
   ]
  },
  {
   "cell_type": "code",
   "execution_count": null,
   "id": "33b14f70",
   "metadata": {},
   "outputs": [],
   "source": [
    "c2 = Atm()\n",
    "c2.cid"
   ]
  },
  {
   "cell_type": "code",
   "execution_count": null,
   "id": "dcaab744",
   "metadata": {},
   "outputs": [],
   "source": [
    "c3 = Atm()\n",
    "c3.cid"
   ]
  },
  {
   "cell_type": "code",
   "execution_count": null,
   "id": "b481e4fd",
   "metadata": {},
   "outputs": [],
   "source": [
    "Atm.counter"
   ]
  },
  {
   "cell_type": "code",
   "execution_count": null,
   "id": "df418bf1",
   "metadata": {},
   "outputs": [],
   "source": [
    "c1.get_counter()"
   ]
  },
  {
   "cell_type": "code",
   "execution_count": null,
   "id": "993bfbd7",
   "metadata": {},
   "outputs": [],
   "source": [
    "Atm.get_counter()"
   ]
  },
  {
   "cell_type": "markdown",
   "id": "3002ec84",
   "metadata": {},
   "source": [
    "### Class 3\n",
    "#### Inheritance and Polymorphism"
   ]
  },
  {
   "cell_type": "markdown",
   "id": "f62950b2",
   "metadata": {},
   "source": [
    "#### Class Relationship\n",
    "\n",
    "    Aggregation:- One class Owns the other class \n",
    "                    For ex: Customer class owns the Address class because customer has the address.\n",
    "                    Resturant class owns the menu class because resturant has the menu.\n",
    "                    \n",
    "    Inheritance:-"
   ]
  },
  {
   "cell_type": "markdown",
   "id": "bf9da992",
   "metadata": {},
   "source": [
    "### Aggregation (Has a Relationship)"
   ]
  },
  {
   "cell_type": "code",
   "execution_count": null,
   "id": "70b3bc9e",
   "metadata": {},
   "outputs": [],
   "source": [
    "# Example\n",
    "class Customer:\n",
    "    \n",
    "    def __init__(self,name,gender,address):\n",
    "        self.name = name\n",
    "        self.gender = gender\n",
    "        self.address = address\n",
    "    \n",
    "    def Print_Address(self):\n",
    "        print(self.address.city,self.address.pin,self.address.state)\n",
    "    \n",
    "class Address:\n",
    "    \n",
    "    def __init__(self,city,pin,state):\n",
    "        self.city = city\n",
    "        self.pin = pin\n",
    "        self.state = state\n",
    "    \n",
    "add1 = Address('West Delhi',110034,'Delhi')        \n",
    "cust = Customer('Sahil','Male',add1)"
   ]
  },
  {
   "cell_type": "code",
   "execution_count": null,
   "id": "f85453ea",
   "metadata": {},
   "outputs": [],
   "source": [
    "cust.Print_Address()"
   ]
  },
  {
   "cell_type": "code",
   "execution_count": null,
   "id": "89ebd7d1",
   "metadata": {},
   "outputs": [],
   "source": [
    "# Example\n",
    "class Customer:\n",
    "    \n",
    "    def __init__(self,name,gender,address):\n",
    "        self.name = name\n",
    "        self.gender = gender\n",
    "        self.address = address\n",
    "    \n",
    "    def Print_Address(self):\n",
    "        print(self.address.get_city(),self.address.pin,self.address.state)\n",
    "        \n",
    "    def edit_profile(self,new_name,new_city,new_pin,new_state):\n",
    "        self.name = new_name\n",
    "        self.address.edit_address(new_city,new_pin,new_state)\n",
    "        \n",
    "        \n",
    "    \n",
    "class Address:\n",
    "    \n",
    "    def __init__(self,city,pin,state):\n",
    "        self.__city = city\n",
    "        self.pin = pin\n",
    "        self.state = state\n",
    "        \n",
    "    def get_city(self):\n",
    "        return self.__city\n",
    "    \n",
    "    def edit_address(self,new_city,new_pin,new_state):\n",
    "        self.__city = new_city\n",
    "        self.pin = new_pin\n",
    "        self.state = new_state\n",
    "    \n",
    "    \n",
    "add1 = Address('West Delhi',110034,'Delhi')        \n",
    "cust = Customer('Sahil','Male',add1)"
   ]
  },
  {
   "cell_type": "code",
   "execution_count": null,
   "id": "42f303ee",
   "metadata": {},
   "outputs": [],
   "source": [
    "cust.Print_Address()"
   ]
  },
  {
   "cell_type": "code",
   "execution_count": null,
   "id": "d52b1181",
   "metadata": {},
   "outputs": [],
   "source": [
    "cust.edit_profile('ankit','mumbai',111111,'tamil nadu')\n",
    "cust.Print_Address()"
   ]
  },
  {
   "cell_type": "markdown",
   "id": "b1adddb2",
   "metadata": {},
   "source": [
    "#### Aggregation class diagram\n",
    "    \n",
    "    30:00 - 33:00 ==> here you find it\n",
    "\n",
    "    - ==> minus represent they are private attribute or methods.\n",
    "    + ==> plus represent they are public attribute or methods"
   ]
  },
  {
   "cell_type": "markdown",
   "id": "bf17e635",
   "metadata": {},
   "source": [
    "### Inheritance \n",
    "\n",
    "    What is inheritance\n",
    "\n",
    "    Inheritance means jo baap ka h wo bete ka bhi hoga. what so ever attribute and methods exit in the parent class \n",
    "    must be inherited in the child class.\n",
    "    \n",
    "    benefits of Inheritance:\n",
    "    - code reuseablility\n",
    "    - \n",
    "    \n",
    "    What gets inherited? \n",
    "    \n",
    "    When we create the child class.\n",
    "    1). Constructor\n",
    "    2). Non private attribute\n",
    "    3). Non Private method\n",
    "    \n",
    "    \n"
   ]
  },
  {
   "cell_type": "code",
   "execution_count": null,
   "id": "439eb5d8",
   "metadata": {},
   "outputs": [],
   "source": [
    "class User():\n",
    "    \n",
    "    def __init__(self):\n",
    "        self.name = 'Sahil'\n",
    "        \n",
    "    def login(self):\n",
    "        print(\"Login in the system\")\n",
    "        \n",
    "class Student(User):\n",
    "        \n",
    "    def enroll(self):\n",
    "        print(\"enroll in the class\")\n",
    "        \n",
    "u1 = User()\n",
    "s1 = Student()"
   ]
  },
  {
   "cell_type": "code",
   "execution_count": null,
   "id": "30b2aaef",
   "metadata": {},
   "outputs": [],
   "source": [
    "print(s1.name)\n",
    "s1.login()\n",
    "s1.enroll()"
   ]
  },
  {
   "cell_type": "code",
   "execution_count": null,
   "id": "b4dc26f3",
   "metadata": {},
   "outputs": [],
   "source": [
    "# Constructor example\n",
    "# if the child class does'nt have the constructor then it will go to the parent class and call the constructorof parent class.\n",
    "# we can access the non private method through the constructor child class. \n",
    "class Phone:\n",
    "    def __init__(self,price,brand,camera):\n",
    "        print(\"Inside the Phone Constructor\")\n",
    "        self.price = price\n",
    "        self.brand = brand\n",
    "        self.camera = camera\n",
    "        \n",
    "    def buy(self):\n",
    "        print(\"Buying the phone\")\n",
    "        \n",
    "class SmartPhone(Phone):\n",
    "    pass\n",
    "\n",
    "sp1 = SmartPhone(20000,'Apple',13)\n",
    "sp1.buy()"
   ]
  },
  {
   "cell_type": "code",
   "execution_count": null,
   "id": "efed23e9",
   "metadata": {},
   "outputs": [],
   "source": [
    "# Constructor example 2 \n",
    "# If we have constructor inside the child class it will execute that constructor and init the values but it will not \n",
    "# init the value of paraent class.\n",
    "\n",
    "class Phone:\n",
    "    def __init__(self,price,brand,camera):\n",
    "        print(\"Inside the Phone Constructor\")\n",
    "        self.price = price\n",
    "        self.brand = brand\n",
    "        self.camera = camera\n",
    "        \n",
    "class SmartPhone(Phone):\n",
    "    def __init__(self,os,ram):\n",
    "        self.os = os\n",
    "        self.ram = ram\n",
    "        print(\"Inside the Samrtphone constructor\")\n",
    "\n",
    "sp1 = SmartPhone('Android',8)\n",
    "sp1.brand"
   ]
  },
  {
   "cell_type": "code",
   "execution_count": null,
   "id": "8f05a096",
   "metadata": {},
   "outputs": [],
   "source": [
    "# Child can'nt access private member of class.\n",
    "\n",
    "class Phone:\n",
    "    def __init__(self,price,brand,camera):\n",
    "        print(\"Inside the Phone Constructor\")\n",
    "        self.__price = price\n",
    "        self.brand = brand\n",
    "        self.camera = camera\n",
    "        \n",
    "    # getter : We can access private attribute through getter.\n",
    "    def __show(self):\n",
    "        print(self.__price)\n",
    "        \n",
    "class SmartPhone(Phone):\n",
    "    \n",
    "    def check_self(self):\n",
    "        print(self.__price)\n",
    "        \n",
    "\n",
    "sp1 = SmartPhone(20000,'Apple',13)\n",
    "print(sp1.brand)\n",
    "sp1.__show()\n",
    "sp1.check()"
   ]
  },
  {
   "cell_type": "code",
   "execution_count": null,
   "id": "6c748fd8",
   "metadata": {},
   "outputs": [],
   "source": [
    "class parent:\n",
    "    \n",
    "    def __init__(self,num):\n",
    "        self.__num = num\n",
    "        \n",
    "    def get_num(self):\n",
    "        return self.__num\n",
    "    \n",
    "class child(parent):\n",
    "    \n",
    "    def show(self):\n",
    "        print(\"This is the child class\")\n",
    "        \n",
    "son = child(50)\n",
    "print(son)\n",
    "print(son.get_num())\n",
    "print(son.show())"
   ]
  },
  {
   "cell_type": "code",
   "execution_count": null,
   "id": "36c3313a",
   "metadata": {},
   "outputs": [],
   "source": [
    "class parent:\n",
    "    \n",
    "    def __init__(self,num):\n",
    "        self.__num = num\n",
    "        \n",
    "    def get_num(self):\n",
    "        return self.__num\n",
    "    \n",
    "class child(parent):\n",
    "    \n",
    "    def show(self):\n",
    "        print(\"This is the child class\")\n",
    "        \n",
    "son = child(50)\n",
    "print(son)\n",
    "print(son.get_num())\n",
    "print(son.show())"
   ]
  },
  {
   "cell_type": "code",
   "execution_count": null,
   "id": "4345ab4b",
   "metadata": {},
   "outputs": [],
   "source": [
    "class parent:\n",
    "    \n",
    "    def __init__(self,num):\n",
    "        self.__num = num\n",
    "        \n",
    "    def get_num(self):\n",
    "        return self.__num\n",
    "    \n",
    "class child(parent):\n",
    "    \n",
    "    def __init__(self,val,num):\n",
    "        self.__val = val\n",
    "    \n",
    "    def get_val(self):\n",
    "        return self.__val\n",
    "        \n",
    "son = child(100,10)\n",
    "print(son)\n",
    "print(son.get_val())\n",
    "print(son.get_num())\n"
   ]
  },
  {
   "cell_type": "code",
   "execution_count": null,
   "id": "cc98a873",
   "metadata": {},
   "outputs": [],
   "source": [
    "class A:\n",
    "    \n",
    "    def __init__(self):\n",
    "        self.var1 = 100\n",
    "        \n",
    "    def display1(self,var1):\n",
    "        # self.var1 = var1\n",
    "        print(\"Class A:\",self.var1)\n",
    "        \n",
    "class B(A):\n",
    "    \n",
    "    def display2(self,var1):\n",
    "        print(\"Class B:\",self.var1)\n",
    "        \n",
    "obj = B()\n",
    "obj.display1(200)"
   ]
  },
  {
   "cell_type": "code",
   "execution_count": null,
   "id": "810c6113",
   "metadata": {},
   "outputs": [],
   "source": [
    "# Method Overriding:- agar hamare pss parent and child class m same name se function ho toh child class wala function \n",
    "# execute hota h.\n",
    "class Phone:\n",
    "    def __init__(self,price,brand,camera):\n",
    "        print(\"Inside the Phone Constructor\")\n",
    "        self.__price = price\n",
    "        self.brand = brand\n",
    "        self.camera = camera\n",
    "    \n",
    "    def buy(self):\n",
    "        print(\"Buying the Phone\")\n",
    "        \n",
    "class SmartPhone(Phone):\n",
    "    def buy(self):\n",
    "        print(\"Buying the SmartPhone\")\n",
    "        \n",
    "sp1 = SmartPhone(20000,'Apple',12)\n",
    "sp1.buy()"
   ]
  },
  {
   "cell_type": "markdown",
   "id": "31b9d20d",
   "metadata": {},
   "source": [
    "#### Super Keyword"
   ]
  },
  {
   "cell_type": "code",
   "execution_count": null,
   "id": "accf4dbd",
   "metadata": {},
   "outputs": [],
   "source": [
    "# With the help of super() keyword we can send the control to the parent class to execute it.\n",
    "class Phone:\n",
    "    def __init__(self,price,brand,camera):\n",
    "        print(\"Inside the Phone Constructor\")\n",
    "        self.__price = price\n",
    "        self.brand = brand\n",
    "        self.camera = camera\n",
    "    \n",
    "    def buy(self):\n",
    "        print(\"Buying the Phone\")\n",
    "        \n",
    "class SmartPhone(Phone):\n",
    "    def buy(self):\n",
    "        print(\"Buying the SmartPhone\")\n",
    "        # syntax to call the parent ka buying method\n",
    "        super().buy()\n",
    "        \n",
    "sp1 = SmartPhone(20000,'Apple',12)\n",
    "sp1.buy()"
   ]
  },
  {
   "cell_type": "code",
   "execution_count": null,
   "id": "e0386b30",
   "metadata": {},
   "outputs": [],
   "source": [
    "class Phone:\n",
    "    def __init__(self,price,brand,camera):\n",
    "        print(\"Inside the Phone Constructor\")\n",
    "        self.__price = price\n",
    "        self.brand = brand\n",
    "        self.camera = camera\n",
    "        \n",
    "class SmartPhone(Phone):\n",
    "    def __init__(self,price,brand,camera,os,ram):\n",
    "        print(\"Inside SmartPhone Constructor\")\n",
    "        super().__init__(price,brand,camera)\n",
    "        self.os = os\n",
    "        self.ram = ram\n",
    "        print(\"Inside SmartPhone Constructor\")\n",
    "        \n",
    "sp1 = SmartPhone(20000,'Apple',12,'andriod',8)\n",
    "print(sp1.os)\n",
    "print(sp1.brand)"
   ]
  },
  {
   "cell_type": "code",
   "execution_count": 1,
   "id": "5abb5386",
   "metadata": {},
   "outputs": [
    {
     "name": "stdout",
     "output_type": "stream",
     "text": [
      "Inside the Phone Constructor\n"
     ]
    },
    {
     "ename": "AttributeError",
     "evalue": "'SmartPhone' object has no attribute 'super'",
     "output_type": "error",
     "traceback": [
      "\u001b[1;31m---------------------------------------------------------------------------\u001b[0m",
      "\u001b[1;31mAttributeError\u001b[0m                            Traceback (most recent call last)",
      "Cell \u001b[1;32mIn[1], line 18\u001b[0m\n\u001b[0;32m     15\u001b[0m         \u001b[38;5;66;03m# syntax to call the parent ka buying method\u001b[39;00m\n\u001b[0;32m     17\u001b[0m sp1 \u001b[38;5;241m=\u001b[39m SmartPhone(\u001b[38;5;241m20000\u001b[39m,\u001b[38;5;124m'\u001b[39m\u001b[38;5;124mApple\u001b[39m\u001b[38;5;124m'\u001b[39m,\u001b[38;5;241m12\u001b[39m)\n\u001b[1;32m---> 18\u001b[0m \u001b[43msp1\u001b[49m\u001b[38;5;241;43m.\u001b[39;49m\u001b[43msuper\u001b[49m()\u001b[38;5;241m.\u001b[39mbuy()\n",
      "\u001b[1;31mAttributeError\u001b[0m: 'SmartPhone' object has no attribute 'super'"
     ]
    }
   ],
   "source": [
    "# Using Super Outside the class\n",
    "# You can not use the super keyword outside the class.\n",
    "class Phone:\n",
    "    def __init__(self,price,brand,camera):\n",
    "        print(\"Inside the Phone Constructor\")\n",
    "        self.__price = price\n",
    "        self.brand = brand\n",
    "        self.camera = camera\n",
    "        \n",
    "    def buy(self):\n",
    "        print(\"Buying the Phone\")\n",
    "        \n",
    "class SmartPhone(Phone):\n",
    "    def buy(self):\n",
    "        print(\"Buying the SmartPhone\")\n",
    "        # syntax to call the parent ka buying method\n",
    "        \n",
    "sp1 = SmartPhone(20000,'Apple',12)\n",
    "sp1.super().buy()"
   ]
  },
  {
   "cell_type": "code",
   "execution_count": 2,
   "id": "4f0c85f5",
   "metadata": {},
   "outputs": [
    {
     "name": "stdout",
     "output_type": "stream",
     "text": [
      "Inside the Phone Constructor\n",
      "Buying the SmartPhone\n"
     ]
    },
    {
     "ename": "AttributeError",
     "evalue": "'super' object has no attribute 'brand'",
     "output_type": "error",
     "traceback": [
      "\u001b[1;31m---------------------------------------------------------------------------\u001b[0m",
      "\u001b[1;31mAttributeError\u001b[0m                            Traceback (most recent call last)",
      "Cell \u001b[1;32mIn[2], line 20\u001b[0m\n\u001b[0;32m     17\u001b[0m         \u001b[38;5;28mprint\u001b[39m(\u001b[38;5;28msuper\u001b[39m()\u001b[38;5;241m.\u001b[39mbrand)\n\u001b[0;32m     19\u001b[0m sp1 \u001b[38;5;241m=\u001b[39m SmartPhone(\u001b[38;5;241m20000\u001b[39m,\u001b[38;5;124m'\u001b[39m\u001b[38;5;124mApple\u001b[39m\u001b[38;5;124m'\u001b[39m,\u001b[38;5;241m12\u001b[39m)\n\u001b[1;32m---> 20\u001b[0m \u001b[43msp1\u001b[49m\u001b[38;5;241;43m.\u001b[39;49m\u001b[43mbuy\u001b[49m\u001b[43m(\u001b[49m\u001b[43m)\u001b[49m\n",
      "Cell \u001b[1;32mIn[2], line 17\u001b[0m, in \u001b[0;36mSmartPhone.buy\u001b[1;34m(self)\u001b[0m\n\u001b[0;32m     15\u001b[0m \u001b[38;5;28mprint\u001b[39m(\u001b[38;5;124m\"\u001b[39m\u001b[38;5;124mBuying the SmartPhone\u001b[39m\u001b[38;5;124m\"\u001b[39m)\n\u001b[0;32m     16\u001b[0m \u001b[38;5;66;03m# syntax to call the parent ka buying method\u001b[39;00m\n\u001b[1;32m---> 17\u001b[0m \u001b[38;5;28mprint\u001b[39m(\u001b[38;5;28;43msuper\u001b[39;49m\u001b[43m(\u001b[49m\u001b[43m)\u001b[49m\u001b[38;5;241;43m.\u001b[39;49m\u001b[43mbrand\u001b[49m)\n",
      "\u001b[1;31mAttributeError\u001b[0m: 'super' object has no attribute 'brand'"
     ]
    }
   ],
   "source": [
    "# Can super access parent ka data.\n",
    "# we can'nt access attribute with the super keywords.\n",
    "\n",
    "class Phone:\n",
    "    def __init__(self,price,brand,camera):\n",
    "        print(\"Inside the Phone Constructor\")\n",
    "        self.__price = price\n",
    "        self.brand = brand\n",
    "        self.camera = camera\n",
    "        \n",
    "    def buy(self):\n",
    "        print(\"Buying the Phone\")\n",
    "        \n",
    "class SmartPhone(Phone):\n",
    "    def buy(self):\n",
    "        print(\"Buying the SmartPhone\")\n",
    "        # syntax to call the parent ka buying method\n",
    "        print(super().brand)\n",
    "        \n",
    "sp1 = SmartPhone(20000,'Apple',12)\n",
    "sp1.buy()\n",
    "\n"
   ]
  },
  {
   "cell_type": "markdown",
   "id": "6262cc9f",
   "metadata": {},
   "source": [
    "### Inheritance in summary\n",
    "- A class can inherit from another class.\n",
    "\n",
    "- Inheritance improves code reuse\n",
    "\n",
    "- Constructor, attributes, methods get inherited to the child class\n",
    "\n",
    "- The parent has no access to the child class\n",
    "\n",
    "- Private properties of parent are not accessible directly in child class\n",
    "\n",
    "- Child class can override the attributes or methods. This is called method overriding\n",
    "\n",
    "- super() is an inbuilt function which is used to invoke the parent class methods and constructor"
   ]
  },
  {
   "cell_type": "code",
   "execution_count": 1,
   "id": "bd7d9b80",
   "metadata": {},
   "outputs": [
    {
     "name": "stdout",
     "output_type": "stream",
     "text": [
      "100\n",
      "200\n"
     ]
    }
   ],
   "source": [
    "class Parent:\n",
    "    def __init__(self,num):\n",
    "        self.__num=num\n",
    "\n",
    "    def get_num(self):\n",
    "        return self.__num\n",
    "\n",
    "class Child(Parent):\n",
    "    \n",
    "    def __init__(self,num,val):\n",
    "        super().__init__(num)\n",
    "        self.__val=val\n",
    "\n",
    "    def get_val(self):\n",
    "        return self.__val\n",
    "      \n",
    "son=Child(100,200)\n",
    "print(son.get_num())\n",
    "print(son.get_val())"
   ]
  },
  {
   "cell_type": "code",
   "execution_count": 2,
   "id": "c8e84c59",
   "metadata": {},
   "outputs": [
    {
     "name": "stdout",
     "output_type": "stream",
     "text": [
      "100\n",
      "200\n"
     ]
    }
   ],
   "source": [
    "class Parent:\n",
    "    def __init__(self):\n",
    "        self.num=100\n",
    "\n",
    "class Child(Parent):\n",
    "\n",
    "    def __init__(self):\n",
    "        super().__init__()\n",
    "        self.var=200\n",
    "        \n",
    "    def show(self):\n",
    "        print(self.num)\n",
    "        print(self.var)\n",
    "\n",
    "son=Child()\n",
    "son.show()"
   ]
  },
  {
   "cell_type": "code",
   "execution_count": 3,
   "id": "46ff808a",
   "metadata": {},
   "outputs": [
    {
     "name": "stdout",
     "output_type": "stream",
     "text": [
      "Child: 10\n"
     ]
    }
   ],
   "source": [
    "class Parent:\n",
    "    \n",
    "    def __init__(self):\n",
    "        self.__num=100\n",
    "\n",
    "    def show(self):\n",
    "        print(\"Parent:\",self.__num)\n",
    "\n",
    "class Child(Parent):\n",
    "    \n",
    "    def __init__(self):\n",
    "        super().__init__()\n",
    "        self.__var=10\n",
    "\n",
    "    def show(self):\n",
    "        print(\"Child:\",self.__var)\n",
    "\n",
    "obj=Child()\n",
    "obj.show()"
   ]
  },
  {
   "cell_type": "code",
   "execution_count": 4,
   "id": "63a1e00a",
   "metadata": {},
   "outputs": [
    {
     "name": "stdout",
     "output_type": "stream",
     "text": [
      "Child: 10\n"
     ]
    }
   ],
   "source": [
    "class Parent:\n",
    "    def __init__(self):\n",
    "        self.__num=100\n",
    "\n",
    "    def show(self):\n",
    "        print(\"Parent:\",self.__num)\n",
    "\n",
    "class Child(Parent):\n",
    "    def __init__(self):\n",
    "        super().__init__()\n",
    "        self.__var=10\n",
    "\n",
    "    def show(self):\n",
    "        print(\"Child:\",self.__var)\n",
    "\n",
    "obj=Child()\n",
    "obj.show()"
   ]
  },
  {
   "cell_type": "markdown",
   "id": "ce9fa48b",
   "metadata": {},
   "source": [
    "### Types of Inheritance\n",
    "\n",
    "- Single Inheritance ==> There are 2 classes in which child is inhereting from its parent \n",
    "\n",
    "- Multilevel Inheritance ==> There is multiple level of Inheritance child is inhereting from its parent then \n",
    "                             parent is inhereting from its grandparent\n",
    "\n",
    "- Hierarchical Inheritance ==> multiple child classes is inherit from the single parent class.\n",
    "\n",
    "- Multiple Inheritance(Diamond Problem) ==> In this we have one child class which is inhereting the attribute and method \n",
    "                                            from two different parent classes.\n",
    "\n",
    "- Hybrid Inheritance ==> Its a combination of different types of inheritance."
   ]
  },
  {
   "cell_type": "code",
   "execution_count": 6,
   "id": "4e2f08da",
   "metadata": {},
   "outputs": [
    {
     "name": "stdout",
     "output_type": "stream",
     "text": [
      "Inside the Constructor class\n",
      "Buying the phone\n"
     ]
    }
   ],
   "source": [
    "class Phone:\n",
    "    \n",
    "    def __init__(self,price,brand,camera):\n",
    "        print(\"Inside the Constructor class\")\n",
    "        self.price = price\n",
    "        self.brand = brand\n",
    "        self.camera = camera\n",
    "        \n",
    "    def buy(self):\n",
    "        print(\"Buying the phone\")\n",
    "        \n",
    "class SmartPhone(Phone):\n",
    "    pass\n",
    "\n",
    "SmartPhone(20000,'Apple','13px').buy()"
   ]
  },
  {
   "cell_type": "code",
   "execution_count": 7,
   "id": "d3c5eec4",
   "metadata": {},
   "outputs": [
    {
     "name": "stdout",
     "output_type": "stream",
     "text": [
      "Inside the Constructor class\n",
      "Buying the Phone\n",
      "Product Customer Review\n"
     ]
    }
   ],
   "source": [
    "class Product:\n",
    "    \n",
    "    def review(self):\n",
    "        print('Product Customer Review')\n",
    "        \n",
    "class Phone(Product):\n",
    "    def __init__(self,price,brand,camera):\n",
    "        print(\"Inside the Constructor class\")\n",
    "        self.price = price\n",
    "        self.brand = brand\n",
    "        self.camera = camera\n",
    "        \n",
    "    def buy(self):\n",
    "        print(\"Buying the Phone\")\n",
    "        \n",
    "class SmartPhone(Phone):\n",
    "    pass\n",
    "\n",
    "s = SmartPhone(20000,'Apple',12)\n",
    "s.buy()\n",
    "s.review()"
   ]
  },
  {
   "cell_type": "code",
   "execution_count": 10,
   "id": "881be960",
   "metadata": {},
   "outputs": [
    {
     "name": "stdout",
     "output_type": "stream",
     "text": [
      "Inside the Constructor class\n",
      "Buying the Phone\n",
      "Inside the Constructor class\n",
      "Buying the Phone\n"
     ]
    }
   ],
   "source": [
    "# Hierarchical Inheritance\n",
    "class Phone():\n",
    "    def __init__(self,price,brand,camera):\n",
    "        print('Inside the Constructor class')\n",
    "        self.price = price\n",
    "        self.brand = brand\n",
    "        self.camera = camera\n",
    "        \n",
    "    def buy(self):\n",
    "        print('Buying the Phone')\n",
    "        \n",
    "class SmartPhone(Phone):\n",
    "    pass\n",
    "\n",
    "class FeaturePhone(Phone):\n",
    "    pass\n",
    "\n",
    "SmartPhone(1000,'Apple','13px').buy()\n",
    "FeaturePhone(2000,'Samsung','12px').buy()"
   ]
  },
  {
   "cell_type": "code",
   "execution_count": 11,
   "id": "87465d7b",
   "metadata": {},
   "outputs": [
    {
     "name": "stdout",
     "output_type": "stream",
     "text": [
      "Inside phone constructor\n",
      "Buying a phone\n",
      "Customer review\n"
     ]
    }
   ],
   "source": [
    "# Multiple\n",
    "class Phone:\n",
    "    def __init__(self, price, brand, camera):\n",
    "        print (\"Inside phone constructor\")\n",
    "        self.__price = price\n",
    "        self.brand = brand\n",
    "        self.camera = camera\n",
    "\n",
    "    def buy(self):\n",
    "        print (\"Buying a phone\")\n",
    "\n",
    "class Product:\n",
    "    def review(self):\n",
    "        print (\"Customer review\")\n",
    "\n",
    "class SmartPhone(Phone, Product):\n",
    "    pass\n",
    "\n",
    "s=SmartPhone(20000, \"Apple\", 12)\n",
    "\n",
    "s.buy()\n",
    "s.review()"
   ]
  },
  {
   "cell_type": "code",
   "execution_count": 12,
   "id": "314a69b6",
   "metadata": {},
   "outputs": [
    {
     "name": "stdout",
     "output_type": "stream",
     "text": [
      "Inside phone constructor\n",
      "Buying a phone\n"
     ]
    }
   ],
   "source": [
    "# the diamond problem\n",
    "# https://stackoverflow.com/questions/56361048/what-is-the-diamond-problem-in-python-and-why-its-not-appear-in-python2\n",
    "class Phone:\n",
    "    def __init__(self, price, brand, camera):\n",
    "        print (\"Inside phone constructor\")\n",
    "        self.__price = price\n",
    "        self.brand = brand\n",
    "        self.camera = camera\n",
    "\n",
    "    def buy(self):\n",
    "        print (\"Buying a phone\")\n",
    "\n",
    "class Product:\n",
    "    def buy(self):\n",
    "        print (\"Product buy method\")\n",
    "\n",
    "# Method resolution order\n",
    "class SmartPhone(Phone,Product):\n",
    "    pass\n",
    "\n",
    "s=SmartPhone(20000, \"Apple\", 12)\n",
    "\n",
    "s.buy()"
   ]
  },
  {
   "cell_type": "code",
   "execution_count": 13,
   "id": "a78a30da",
   "metadata": {},
   "outputs": [
    {
     "name": "stdout",
     "output_type": "stream",
     "text": [
      "70\n"
     ]
    }
   ],
   "source": [
    "class A:\n",
    "\n",
    "    def m1(self):\n",
    "        return 20\n",
    "\n",
    "class B(A):\n",
    "\n",
    "    def m1(self):\n",
    "        return 30\n",
    "\n",
    "    def m2(self):\n",
    "        return 40\n",
    "\n",
    "class C(B):\n",
    "  \n",
    "    def m2(self):\n",
    "        return 20\n",
    "    \n",
    "obj1=A()\n",
    "obj2=B()\n",
    "obj3=C()\n",
    "\n",
    "print(obj1.m1() + obj3.m1()+ obj3.m2())"
   ]
  },
  {
   "cell_type": "code",
   "execution_count": 14,
   "id": "e775b802",
   "metadata": {},
   "outputs": [
    {
     "ename": "RecursionError",
     "evalue": "maximum recursion depth exceeded",
     "output_type": "error",
     "traceback": [
      "\u001b[1;31m---------------------------------------------------------------------------\u001b[0m",
      "\u001b[1;31mRecursionError\u001b[0m                            Traceback (most recent call last)",
      "Cell \u001b[1;32mIn[14], line 19\u001b[0m\n\u001b[0;32m     16\u001b[0m         \u001b[38;5;28;01mreturn\u001b[39;00m val\n\u001b[0;32m     18\u001b[0m obj\u001b[38;5;241m=\u001b[39mC()\n\u001b[1;32m---> 19\u001b[0m \u001b[38;5;28mprint\u001b[39m(\u001b[43mobj\u001b[49m\u001b[38;5;241;43m.\u001b[39;49m\u001b[43mm1\u001b[49m\u001b[43m(\u001b[49m\u001b[43m)\u001b[49m)\n",
      "Cell \u001b[1;32mIn[14], line 15\u001b[0m, in \u001b[0;36mC.m1\u001b[1;34m(self)\u001b[0m\n\u001b[0;32m     14\u001b[0m \u001b[38;5;28;01mdef\u001b[39;00m \u001b[38;5;21mm1\u001b[39m(\u001b[38;5;28mself\u001b[39m):\n\u001b[1;32m---> 15\u001b[0m     val\u001b[38;5;241m=\u001b[39m\u001b[38;5;28;43mself\u001b[39;49m\u001b[38;5;241;43m.\u001b[39;49m\u001b[43mm1\u001b[49m\u001b[43m(\u001b[49m\u001b[43m)\u001b[49m\u001b[38;5;241m+\u001b[39m\u001b[38;5;241m20\u001b[39m\n\u001b[0;32m     16\u001b[0m     \u001b[38;5;28;01mreturn\u001b[39;00m val\n",
      "Cell \u001b[1;32mIn[14], line 15\u001b[0m, in \u001b[0;36mC.m1\u001b[1;34m(self)\u001b[0m\n\u001b[0;32m     14\u001b[0m \u001b[38;5;28;01mdef\u001b[39;00m \u001b[38;5;21mm1\u001b[39m(\u001b[38;5;28mself\u001b[39m):\n\u001b[1;32m---> 15\u001b[0m     val\u001b[38;5;241m=\u001b[39m\u001b[38;5;28;43mself\u001b[39;49m\u001b[38;5;241;43m.\u001b[39;49m\u001b[43mm1\u001b[49m\u001b[43m(\u001b[49m\u001b[43m)\u001b[49m\u001b[38;5;241m+\u001b[39m\u001b[38;5;241m20\u001b[39m\n\u001b[0;32m     16\u001b[0m     \u001b[38;5;28;01mreturn\u001b[39;00m val\n",
      "    \u001b[1;31m[... skipping similar frames: C.m1 at line 15 (2971 times)]\u001b[0m\n",
      "Cell \u001b[1;32mIn[14], line 15\u001b[0m, in \u001b[0;36mC.m1\u001b[1;34m(self)\u001b[0m\n\u001b[0;32m     14\u001b[0m \u001b[38;5;28;01mdef\u001b[39;00m \u001b[38;5;21mm1\u001b[39m(\u001b[38;5;28mself\u001b[39m):\n\u001b[1;32m---> 15\u001b[0m     val\u001b[38;5;241m=\u001b[39m\u001b[38;5;28;43mself\u001b[39;49m\u001b[38;5;241;43m.\u001b[39;49m\u001b[43mm1\u001b[49m\u001b[43m(\u001b[49m\u001b[43m)\u001b[49m\u001b[38;5;241m+\u001b[39m\u001b[38;5;241m20\u001b[39m\n\u001b[0;32m     16\u001b[0m     \u001b[38;5;28;01mreturn\u001b[39;00m val\n",
      "\u001b[1;31mRecursionError\u001b[0m: maximum recursion depth exceeded"
     ]
    }
   ],
   "source": [
    "class A:\n",
    "\n",
    "    def m1(self):\n",
    "        return 20\n",
    "\n",
    "class B(A):\n",
    "\n",
    "    def m1(self):\n",
    "        val=super().m1()+30\n",
    "        return val\n",
    "\n",
    "class C(B):\n",
    "  \n",
    "    def m1(self):\n",
    "        val=self.m1()+20\n",
    "        return val\n",
    "    \n",
    "obj=C()\n",
    "print(obj.m1())"
   ]
  },
  {
   "cell_type": "markdown",
   "id": "348e60b5",
   "metadata": {},
   "source": [
    "### Polymorphism\n",
    "\n",
    "    It means having multiple faces. It means that the same thing behave or act differently in the every situation.\n",
    "\n",
    "- Method Overriding ==> when child and parent has the method with the same name this senario is called method overriding,\n",
    "                        and the method is going to execute is of child class.\n",
    "                        \n",
    "- Method Overloading ==> In this we have the method with the same name in the same class, but they both have different \n",
    "                            behaviour depending on the input. Method overloading is not in python.\n",
    "\n",
    "- Operator Overloading ==> same operator but depending on different input uska behaviour alag alag ho jata h."
   ]
  },
  {
   "cell_type": "code",
   "execution_count": null,
   "id": "24ba1480",
   "metadata": {},
   "outputs": [],
   "source": [
    "# Method overloading: code looks cleaner, increase readability.\n",
    "class Shape:\n",
    "    def area(self,a,b=0):\n",
    "        \n",
    "    if b == 0:\n",
    "        return 3.14*a*a\n",
    "    else:\n",
    "        return a*b\n",
    "\n",
    "s = Shape()\n",
    "\n",
    "print(s.area(2))\n",
    "print(s.area(3,4))"
   ]
  },
  {
   "cell_type": "code",
   "execution_count": 15,
   "id": "9b686745",
   "metadata": {},
   "outputs": [
    {
     "data": {
      "text/plain": [
       "'helloworld'"
      ]
     },
     "execution_count": 15,
     "metadata": {},
     "output_type": "execute_result"
    }
   ],
   "source": [
    "'hello'+'world'"
   ]
  },
  {
   "cell_type": "code",
   "execution_count": 16,
   "id": "4de09268",
   "metadata": {},
   "outputs": [
    {
     "data": {
      "text/plain": [
       "9"
      ]
     },
     "execution_count": 16,
     "metadata": {},
     "output_type": "execute_result"
    }
   ],
   "source": [
    "4+5"
   ]
  },
  {
   "cell_type": "code",
   "execution_count": 17,
   "id": "4cdc6add",
   "metadata": {},
   "outputs": [
    {
     "data": {
      "text/plain": [
       "[1, 2, 3, 4, 5]"
      ]
     },
     "execution_count": 17,
     "metadata": {},
     "output_type": "execute_result"
    }
   ],
   "source": [
    "[1,2,3] + [4,5]"
   ]
  },
  {
   "cell_type": "markdown",
   "id": "534dace1",
   "metadata": {},
   "source": [
    "### Abstraction:-\n",
    "\n",
    "    Abstraction is the process in which we only show essential details/functionality to the user. \n",
    "    The non-essential implementation details are not displayed to the user.\n",
    "    \n",
    "    Abstract Class:- Ek esa class jiske andar atleast ek abstract method hota h. \n",
    "    Abstract method:- jiske andar koi code nhi likha rahta h. "
   ]
  },
  {
   "cell_type": "code",
   "execution_count": 7,
   "id": "39377cb6",
   "metadata": {},
   "outputs": [],
   "source": [
    "from abc import ABC, abstractmethod\n",
    "\n",
    "class BankApps(ABC):\n",
    "    def Database(self):\n",
    "        print(\"Connected to Database\")\n",
    "    \n",
    "    @abstractmethod\n",
    "    def Security(self):\n",
    "        pass"
   ]
  },
  {
   "cell_type": "code",
   "execution_count": 8,
   "id": "504ff062",
   "metadata": {},
   "outputs": [],
   "source": [
    "class MobileApp(BankApps):\n",
    "    def mobile_login(self):\n",
    "        print('Login into mobile')\n",
    "    \n",
    "    def Security(self):\n",
    "        print(\"Mobile Security\")"
   ]
  },
  {
   "cell_type": "code",
   "execution_count": 9,
   "id": "48b5a7b3",
   "metadata": {},
   "outputs": [],
   "source": [
    "mob1 = MobileApp()"
   ]
  },
  {
   "cell_type": "code",
   "execution_count": 5,
   "id": "1b0350bc",
   "metadata": {},
   "outputs": [
    {
     "ename": "TypeError",
     "evalue": "Can't instantiate abstract class MobileApp with abstract method Security",
     "output_type": "error",
     "traceback": [
      "\u001b[1;31m---------------------------------------------------------------------------\u001b[0m",
      "\u001b[1;31mTypeError\u001b[0m                                 Traceback (most recent call last)",
      "Cell \u001b[1;32mIn[5], line 1\u001b[0m\n\u001b[1;32m----> 1\u001b[0m mob \u001b[38;5;241m=\u001b[39m \u001b[43mMobileApp\u001b[49m\u001b[43m(\u001b[49m\u001b[43m)\u001b[49m\n",
      "\u001b[1;31mTypeError\u001b[0m: Can't instantiate abstract class MobileApp with abstract method Security"
     ]
    }
   ],
   "source": [
    "mob = MobileApp()"
   ]
  },
  {
   "cell_type": "code",
   "execution_count": 11,
   "id": "bdb6d21b",
   "metadata": {},
   "outputs": [
    {
     "name": "stdout",
     "output_type": "stream",
     "text": [
      "Connected to Database\n",
      "Mobile Security\n"
     ]
    }
   ],
   "source": [
    "mob1.Database()\n",
    "mob1.Security()"
   ]
  },
  {
   "cell_type": "code",
   "execution_count": null,
   "id": "f56039e9",
   "metadata": {},
   "outputs": [],
   "source": []
  },
  {
   "cell_type": "code",
   "execution_count": null,
   "id": "ddfd47ef",
   "metadata": {},
   "outputs": [],
   "source": []
  },
  {
   "cell_type": "code",
   "execution_count": null,
   "id": "90e73c25",
   "metadata": {},
   "outputs": [],
   "source": []
  },
  {
   "cell_type": "code",
   "execution_count": null,
   "id": "3ccb0006",
   "metadata": {},
   "outputs": [],
   "source": []
  },
  {
   "cell_type": "code",
   "execution_count": null,
   "id": "a8bc3dbc",
   "metadata": {},
   "outputs": [],
   "source": []
  },
  {
   "cell_type": "code",
   "execution_count": null,
   "id": "2c5a1e14",
   "metadata": {},
   "outputs": [],
   "source": []
  },
  {
   "cell_type": "code",
   "execution_count": null,
   "id": "dc33b697",
   "metadata": {},
   "outputs": [],
   "source": []
  },
  {
   "cell_type": "code",
   "execution_count": null,
   "id": "bef8766d",
   "metadata": {},
   "outputs": [],
   "source": []
  },
  {
   "cell_type": "code",
   "execution_count": null,
   "id": "93ade556",
   "metadata": {},
   "outputs": [],
   "source": []
  },
  {
   "cell_type": "code",
   "execution_count": null,
   "id": "e879f0b8",
   "metadata": {},
   "outputs": [],
   "source": []
  },
  {
   "cell_type": "code",
   "execution_count": null,
   "id": "5373d85f",
   "metadata": {},
   "outputs": [],
   "source": []
  },
  {
   "cell_type": "code",
   "execution_count": null,
   "id": "d3c90304",
   "metadata": {},
   "outputs": [],
   "source": []
  },
  {
   "cell_type": "code",
   "execution_count": null,
   "id": "4466223b",
   "metadata": {},
   "outputs": [],
   "source": []
  },
  {
   "cell_type": "code",
   "execution_count": null,
   "id": "45d440f0",
   "metadata": {},
   "outputs": [],
   "source": []
  },
  {
   "cell_type": "code",
   "execution_count": null,
   "id": "e78caecd",
   "metadata": {},
   "outputs": [],
   "source": []
  },
  {
   "cell_type": "code",
   "execution_count": null,
   "id": "91f34afb",
   "metadata": {},
   "outputs": [],
   "source": []
  },
  {
   "cell_type": "code",
   "execution_count": null,
   "id": "03228fbd",
   "metadata": {},
   "outputs": [],
   "source": []
  },
  {
   "cell_type": "code",
   "execution_count": null,
   "id": "58fd7517",
   "metadata": {},
   "outputs": [],
   "source": []
  },
  {
   "cell_type": "code",
   "execution_count": null,
   "id": "fd18e282",
   "metadata": {},
   "outputs": [],
   "source": []
  },
  {
   "cell_type": "code",
   "execution_count": null,
   "id": "f9eb92d3",
   "metadata": {},
   "outputs": [],
   "source": []
  },
  {
   "cell_type": "code",
   "execution_count": null,
   "id": "c8e58d70",
   "metadata": {},
   "outputs": [],
   "source": []
  },
  {
   "cell_type": "code",
   "execution_count": null,
   "id": "89611ede",
   "metadata": {},
   "outputs": [],
   "source": []
  },
  {
   "cell_type": "code",
   "execution_count": null,
   "id": "9b8e9843",
   "metadata": {},
   "outputs": [],
   "source": []
  },
  {
   "cell_type": "code",
   "execution_count": null,
   "id": "a598bae7",
   "metadata": {},
   "outputs": [],
   "source": []
  },
  {
   "cell_type": "code",
   "execution_count": null,
   "id": "4bc6a5b9",
   "metadata": {},
   "outputs": [],
   "source": []
  },
  {
   "cell_type": "code",
   "execution_count": null,
   "id": "e442194c",
   "metadata": {},
   "outputs": [],
   "source": []
  },
  {
   "cell_type": "code",
   "execution_count": null,
   "id": "7704f9be",
   "metadata": {},
   "outputs": [],
   "source": []
  },
  {
   "cell_type": "code",
   "execution_count": null,
   "id": "57c5c430",
   "metadata": {},
   "outputs": [],
   "source": []
  },
  {
   "cell_type": "code",
   "execution_count": null,
   "id": "f4dadb44",
   "metadata": {},
   "outputs": [],
   "source": []
  },
  {
   "cell_type": "code",
   "execution_count": null,
   "id": "e880c34c",
   "metadata": {},
   "outputs": [],
   "source": []
  },
  {
   "cell_type": "code",
   "execution_count": null,
   "id": "b3c713e8",
   "metadata": {},
   "outputs": [],
   "source": []
  },
  {
   "cell_type": "code",
   "execution_count": null,
   "id": "13a44579",
   "metadata": {},
   "outputs": [],
   "source": []
  },
  {
   "cell_type": "code",
   "execution_count": null,
   "id": "16a75404",
   "metadata": {},
   "outputs": [],
   "source": []
  },
  {
   "cell_type": "code",
   "execution_count": null,
   "id": "dd740298",
   "metadata": {},
   "outputs": [],
   "source": []
  },
  {
   "cell_type": "code",
   "execution_count": null,
   "id": "4afc95dc",
   "metadata": {},
   "outputs": [],
   "source": []
  },
  {
   "cell_type": "code",
   "execution_count": null,
   "id": "9239ef7c",
   "metadata": {},
   "outputs": [],
   "source": []
  },
  {
   "cell_type": "code",
   "execution_count": null,
   "id": "4d08cfc2",
   "metadata": {},
   "outputs": [],
   "source": []
  },
  {
   "cell_type": "code",
   "execution_count": null,
   "id": "c5b0408e",
   "metadata": {},
   "outputs": [],
   "source": []
  },
  {
   "cell_type": "code",
   "execution_count": null,
   "id": "acfa039e",
   "metadata": {},
   "outputs": [],
   "source": []
  },
  {
   "cell_type": "code",
   "execution_count": null,
   "id": "8f214dda",
   "metadata": {},
   "outputs": [],
   "source": []
  },
  {
   "cell_type": "code",
   "execution_count": null,
   "id": "e5f25a6b",
   "metadata": {},
   "outputs": [],
   "source": []
  }
 ],
 "metadata": {
  "kernelspec": {
   "display_name": "Python 3 (ipykernel)",
   "language": "python",
   "name": "python3"
  },
  "language_info": {
   "codemirror_mode": {
    "name": "ipython",
    "version": 3
   },
   "file_extension": ".py",
   "mimetype": "text/x-python",
   "name": "python",
   "nbconvert_exporter": "python",
   "pygments_lexer": "ipython3",
   "version": "3.11.4"
  }
 },
 "nbformat": 4,
 "nbformat_minor": 5
}
