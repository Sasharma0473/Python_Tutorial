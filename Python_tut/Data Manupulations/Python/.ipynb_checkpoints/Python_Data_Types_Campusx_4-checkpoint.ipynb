{
 "cells": [
  {
   "cell_type": "markdown",
   "id": "7ae8cb6d",
   "metadata": {},
   "source": [
    "### Python List\n",
    "\n",
    "- What are List \n",
    "- List vs Array\n",
    "- Characterstics of a List\n",
    "- How to create list \n",
    "- Access Items from List \n",
    "- Editing Items in the list \n",
    "- Deleting items from the list \n",
    "- operation on list \n",
    "- functions on list "
   ]
  },
  {
   "cell_type": "markdown",
   "id": "01f99706",
   "metadata": {},
   "source": [
    "#### What are Lists\n",
    "    List is a data type where you can store multiple items under 1 name. More technically, lists act like \n",
    "    dynamic arrays which means you can add more items on the fly.\n",
    "    \n",
    "    lst = [20, 'jessica', 35.75, [30,50,70]]\n",
    "    \n",
    "    Why Lists are required in programming?\n",
    "    \n",
    "    We can have multiple value in the list so that in just one command we will be able to tranform the list as per \n",
    "    it required.\n",
    "    \n",
    "    \n",
    "    "
   ]
  },
  {
   "cell_type": "code",
   "execution_count": 1,
   "id": "ad6c3047",
   "metadata": {
    "scrolled": true
   },
   "outputs": [
    {
     "name": "stdout",
     "output_type": "stream",
     "text": [
      "[20, 'jessica', 35.75, [30, 50, 70]]\n",
      "<class 'list'>\n"
     ]
    }
   ],
   "source": [
    "lst = [20, 'jessica', 35.75, [30,50,70]]\n",
    "print(lst)\n",
    "print(type(lst))"
   ]
  },
  {
   "cell_type": "markdown",
   "id": "56ba36c4",
   "metadata": {},
   "source": [
    "#### Array vs List\n",
    "\n",
    "- Fixed Vs Dynamic Size\n",
    "- Convenience -> Hetrogeneous\n",
    "- Speed of Execution --> list is slower. array is fast\n",
    "- Memory --> list occupy more space. array take less space."
   ]
  },
  {
   "cell_type": "code",
   "execution_count": 2,
   "id": "6fc7cd2a",
   "metadata": {},
   "outputs": [
    {
     "name": "stdout",
     "output_type": "stream",
     "text": [
      "140706629935944\n"
     ]
    }
   ],
   "source": [
    "a = 2\n",
    "print(id(a)) # --> The id will print the address of a."
   ]
  },
  {
   "cell_type": "code",
   "execution_count": 3,
   "id": "a81b3394",
   "metadata": {},
   "outputs": [
    {
     "name": "stdout",
     "output_type": "stream",
     "text": [
      "2799604390912\n",
      "140706629935912\n",
      "140706629935944\n",
      "140706629935976\n",
      "************************************\n",
      "140706629935912\n",
      "140706629935944\n",
      "140706629935976\n"
     ]
    }
   ],
   "source": [
    "lst = [1,2,3]\n",
    "print(id(lst))\n",
    "print(id(lst[0]))\n",
    "print(id(lst[1]))\n",
    "print(id(lst[2]))\n",
    "print(\"************************************\")\n",
    "print(id(1))\n",
    "print(id(2))\n",
    "print(id(3))"
   ]
  },
  {
   "cell_type": "markdown",
   "id": "76dbf65f",
   "metadata": {},
   "source": [
    "#### Characterstics of a List\n",
    "\n",
    "- Ordered\n",
    "- Changeble/Mutable\n",
    "- Hetrogeneous --> add multiple different types of Datatypes\n",
    "- Can have duplicates \n",
    "- are dynamic\n",
    "- can be nested\n",
    "- items can be accessed\n",
    "- can contain any kind of objects in python"
   ]
  },
  {
   "cell_type": "code",
   "execution_count": 4,
   "id": "5bde7c5e",
   "metadata": {},
   "outputs": [
    {
     "data": {
      "text/plain": [
       "False"
      ]
     },
     "execution_count": 4,
     "metadata": {},
     "output_type": "execute_result"
    }
   ],
   "source": [
    "lst1 = [1,2,3]\n",
    "lst2 = [3,2,1]\n",
    "lst1 == lst2"
   ]
  },
  {
   "cell_type": "markdown",
   "id": "aa5f632a",
   "metadata": {},
   "source": [
    "#### Creating a List"
   ]
  },
  {
   "cell_type": "code",
   "execution_count": 5,
   "id": "de23daac",
   "metadata": {},
   "outputs": [
    {
     "name": "stdout",
     "output_type": "stream",
     "text": [
      "[]\n",
      "[1, 2, 3, 4, 5]\n",
      "[[1, 2, 3], [4, 5, 6]]\n",
      "[[[1, 2, 3], [1, 2, 3]]]\n",
      "[1, 2, 'sahil', 2.5, [1, 2], True]\n"
     ]
    },
    {
     "data": {
      "text/plain": [
       "['h', 'e', 'l', 'l', 'o']"
      ]
     },
     "execution_count": 5,
     "metadata": {},
     "output_type": "execute_result"
    }
   ],
   "source": [
    "# empty list \n",
    "l1 = []\n",
    "print(l1)\n",
    "\n",
    "# 1D List \n",
    "lst10 = [1,2,3,4,5]\n",
    "print(lst10)\n",
    "\n",
    "# 2D List \n",
    "lst12 = [[1,2,3],[4,5,6]]\n",
    "print(lst12)\n",
    "\n",
    "# 3D list \n",
    "lst13 = [[[1,2,3],[1,2,3]]]\n",
    "print(lst13)\n",
    "\n",
    "# Hetrogenous list \n",
    "print([1,2,'sahil', 2.5, [1,2], True])\n",
    "\n",
    "# Type conversion \n",
    "list1 = 'hello'\n",
    "list(list1)"
   ]
  },
  {
   "cell_type": "code",
   "execution_count": 6,
   "id": "14f51837",
   "metadata": {},
   "outputs": [
    {
     "name": "stdout",
     "output_type": "stream",
     "text": [
      "[1, 2, 'sahil', 2.5, [1, 2], True, (1, 2, 3)]\n"
     ]
    }
   ],
   "source": [
    "print([1,2,'sahil', 2.5, [1,2], True,(1,2,3)])"
   ]
  },
  {
   "cell_type": "markdown",
   "id": "ed7954a1",
   "metadata": {},
   "source": [
    "#### Accessing Items from the list "
   ]
  },
  {
   "cell_type": "code",
   "execution_count": 7,
   "id": "251dfd09",
   "metadata": {},
   "outputs": [
    {
     "name": "stdout",
     "output_type": "stream",
     "text": [
      "3\n"
     ]
    }
   ],
   "source": [
    "# Indexing and slicing\n",
    "list2 = [1,2,3,4,5,6]\n",
    "print(list2[2])"
   ]
  },
  {
   "cell_type": "code",
   "execution_count": 8,
   "id": "e3c29d67",
   "metadata": {},
   "outputs": [
    {
     "name": "stdout",
     "output_type": "stream",
     "text": [
      "10\n"
     ]
    }
   ],
   "source": [
    "list3 = [1,2,3,4,5, [8,9,10]]\n",
    "print(list3[-1][2])"
   ]
  },
  {
   "cell_type": "code",
   "execution_count": 9,
   "id": "85bb5947",
   "metadata": {},
   "outputs": [
    {
     "name": "stdout",
     "output_type": "stream",
     "text": [
      "3\n",
      "7\n"
     ]
    }
   ],
   "source": [
    "list4 = [[[1,2],[3,4]],[[5,6],[7,8]]]\n",
    "print(list4[0][1][0])\n",
    "print(list4[1][1][0])"
   ]
  },
  {
   "cell_type": "code",
   "execution_count": 10,
   "id": "cc4e5258",
   "metadata": {},
   "outputs": [
    {
     "data": {
      "text/plain": [
       "[3, 34, 5, 6, 7, 8]"
      ]
     },
     "execution_count": 10,
     "metadata": {},
     "output_type": "execute_result"
    }
   ],
   "source": [
    "list5 = [1,2,3,34,5,6,7,8,9]\n",
    "list5[2:8]"
   ]
  },
  {
   "cell_type": "markdown",
   "id": "a4e40e08",
   "metadata": {},
   "source": [
    "#### Adding Items to the list "
   ]
  },
  {
   "cell_type": "code",
   "execution_count": 11,
   "id": "efee82ca",
   "metadata": {},
   "outputs": [
    {
     "name": "stdout",
     "output_type": "stream",
     "text": [
      "[1, 2, 3, 4, 5, 10, [1, 2]]\n"
     ]
    }
   ],
   "source": [
    "# Append, extend, insert\n",
    "list10 = [1,2,3,4,5]\n",
    "list10.append(10)\n",
    "list10.append([1,2])\n",
    "print(list10)"
   ]
  },
  {
   "cell_type": "code",
   "execution_count": 12,
   "id": "492fb64b",
   "metadata": {},
   "outputs": [
    {
     "name": "stdout",
     "output_type": "stream",
     "text": [
      "[1, 2, 3, 4, 5, 10, [1, 2], 6, 7, 8]\n"
     ]
    }
   ],
   "source": [
    "# extend\n",
    "list10.extend([6,7,8])\n",
    "print(list10)"
   ]
  },
  {
   "cell_type": "code",
   "execution_count": 13,
   "id": "07a1b0a9",
   "metadata": {},
   "outputs": [
    {
     "name": "stdout",
     "output_type": "stream",
     "text": [
      "[1, 2, 3, 4, 5, 10, [1, 2], 6, 7, 8, 'd', 'e', 'l', 'h', 'i']\n"
     ]
    }
   ],
   "source": [
    "list10.extend('delhi')\n",
    "print(list10)"
   ]
  },
  {
   "cell_type": "code",
   "execution_count": 14,
   "id": "55f6aa2a",
   "metadata": {},
   "outputs": [
    {
     "name": "stdout",
     "output_type": "stream",
     "text": [
      "[1, 2, 3, 4, 5, 10, [1, 2], 6, 10, 7, 8, 'd', 'e', 'l', 'h', 'i']\n"
     ]
    }
   ],
   "source": [
    "list10.insert(8,10)    # List10.insert(index pos, value)\n",
    "print(list10)"
   ]
  },
  {
   "cell_type": "markdown",
   "id": "a1e0d38c",
   "metadata": {},
   "source": [
    "#### Editing Items in list "
   ]
  },
  {
   "cell_type": "code",
   "execution_count": 15,
   "id": "35024a17",
   "metadata": {},
   "outputs": [
    {
     "name": "stdout",
     "output_type": "stream",
     "text": [
      "[1, 2, 3, 4, 500]\n"
     ]
    }
   ],
   "source": [
    "lis12 = [1,2,3,4,5]\n",
    "lis12[-1] = 500\n",
    "print(lis12)"
   ]
  },
  {
   "cell_type": "code",
   "execution_count": 16,
   "id": "06490e58",
   "metadata": {},
   "outputs": [
    {
     "name": "stdout",
     "output_type": "stream",
     "text": [
      "[1, 200, 300, 400, 500]\n"
     ]
    }
   ],
   "source": [
    "lis12[1:4] = [200,300,400]\n",
    "print(lis12)"
   ]
  },
  {
   "cell_type": "markdown",
   "id": "5286a8a9",
   "metadata": {},
   "source": [
    "#### Deleting items from the list "
   ]
  },
  {
   "cell_type": "code",
   "execution_count": 18,
   "id": "0590e1b5",
   "metadata": {},
   "outputs": [
    {
     "name": "stdout",
     "output_type": "stream",
     "text": [
      "[1, 2, 34, 5]\n"
     ]
    },
    {
     "ename": "NameError",
     "evalue": "name 'list15' is not defined",
     "output_type": "error",
     "traceback": [
      "\u001b[1;31m---------------------------------------------------------------------------\u001b[0m",
      "\u001b[1;31mNameError\u001b[0m                                 Traceback (most recent call last)",
      "Cell \u001b[1;32mIn[18], line 5\u001b[0m\n\u001b[0;32m      3\u001b[0m \u001b[38;5;28mprint\u001b[39m(list15)\n\u001b[0;32m      4\u001b[0m \u001b[38;5;28;01mdel\u001b[39;00m list15\n\u001b[1;32m----> 5\u001b[0m \u001b[38;5;28mprint\u001b[39m(\u001b[43mlist15\u001b[49m)\n",
      "\u001b[1;31mNameError\u001b[0m: name 'list15' is not defined"
     ]
    }
   ],
   "source": [
    "# del \n",
    "list15 = [1,2,34,5]\n",
    "print(list15)\n",
    "del list15\n",
    "print(list15)"
   ]
  },
  {
   "cell_type": "code",
   "execution_count": 19,
   "id": "290748fe",
   "metadata": {},
   "outputs": [],
   "source": [
    "# remove\n",
    "list16 = [1,2,3,4,5]\n",
    "list16.remove(5)\n",
    "list16.remove(2)"
   ]
  },
  {
   "cell_type": "code",
   "execution_count": 20,
   "id": "50e920a7",
   "metadata": {},
   "outputs": [
    {
     "name": "stdout",
     "output_type": "stream",
     "text": [
      "[1, 3, 4]\n"
     ]
    }
   ],
   "source": [
    "print(list16)"
   ]
  },
  {
   "cell_type": "code",
   "execution_count": 21,
   "id": "a72a8130",
   "metadata": {},
   "outputs": [
    {
     "name": "stdout",
     "output_type": "stream",
     "text": [
      "[3, 4, 5, 6, 7]\n"
     ]
    }
   ],
   "source": [
    "# pop\n",
    "list17 = [2,3,4,5,6,7]\n",
    "list17.pop(0)\n",
    "print(list17)"
   ]
  },
  {
   "cell_type": "markdown",
   "id": "df93389f",
   "metadata": {},
   "source": [
    "#### Operations in list \n",
    "\n",
    "- Arithemtic (+,*)\n",
    "- Membership --> in, not in\n",
    "- Loops"
   ]
  },
  {
   "cell_type": "code",
   "execution_count": 22,
   "id": "c46ab8f7",
   "metadata": {},
   "outputs": [
    {
     "name": "stdout",
     "output_type": "stream",
     "text": [
      "1\n",
      "2\n",
      "3\n",
      "4\n",
      "5\n",
      "6\n",
      "********************\n",
      "1\n",
      "2\n",
      "3\n",
      "4\n",
      "5\n",
      "[9, 8]\n",
      "********************\n",
      "[[1, 2], [3, 4]]\n",
      "[[5, 6], [7, 8]]\n"
     ]
    }
   ],
   "source": [
    "list11 = [1,2,3,4,5,6]\n",
    "list12 = [1,2,3,4,5,[9,8]]\n",
    "list14 = [[[1,2],[3,4]],[[5,6],[7,8]]]\n",
    "\n",
    "for i in list11:\n",
    "    print(i)\n",
    "print(\"********************\")\n",
    "\n",
    "for j in list12:\n",
    "    print(j)\n",
    "print(\"********************\")\n",
    "\n",
    "for k in list14:\n",
    "    print(k)"
   ]
  },
  {
   "cell_type": "markdown",
   "id": "1275c212",
   "metadata": {},
   "source": [
    "#### List functions"
   ]
  },
  {
   "cell_type": "code",
   "execution_count": 23,
   "id": "eec7f0e4",
   "metadata": {},
   "outputs": [
    {
     "name": "stdout",
     "output_type": "stream",
     "text": [
      "7\n",
      "1\n",
      "7\n",
      "[1, 2, 3, 4, 5, 6, 7]\n"
     ]
    }
   ],
   "source": [
    "# len/min/max/sorted\n",
    "list17 = [1,2,3,4,5,6,7]\n",
    "print(len(list17))\n",
    "print(min(list17))\n",
    "print(max(list17))\n",
    "print(sorted(list17))"
   ]
  },
  {
   "cell_type": "code",
   "execution_count": 24,
   "id": "5bc2ccd3",
   "metadata": {},
   "outputs": [
    {
     "data": {
      "text/plain": [
       "1"
      ]
     },
     "execution_count": 24,
     "metadata": {},
     "output_type": "execute_result"
    }
   ],
   "source": [
    "list17.count(2)"
   ]
  },
  {
   "cell_type": "code",
   "execution_count": 25,
   "id": "7d88eeb4",
   "metadata": {},
   "outputs": [
    {
     "data": {
      "text/plain": [
       "4"
      ]
     },
     "execution_count": 25,
     "metadata": {},
     "output_type": "execute_result"
    }
   ],
   "source": [
    "list17.index(5)"
   ]
  },
  {
   "cell_type": "code",
   "execution_count": 26,
   "id": "3e9963cf",
   "metadata": {},
   "outputs": [
    {
     "name": "stdout",
     "output_type": "stream",
     "text": [
      "[1, 7, 5, 6, 4, 1, 2]\n"
     ]
    }
   ],
   "source": [
    "lst20 = [2,1,4,6,5,7,1]\n",
    "lst20.reverse()\n",
    "print(lst20)"
   ]
  },
  {
   "cell_type": "code",
   "execution_count": 27,
   "id": "db1d5b7e",
   "metadata": {},
   "outputs": [
    {
     "name": "stdout",
     "output_type": "stream",
     "text": [
      "[0, 1, 2, 5, 7]\n",
      "None\n"
     ]
    }
   ],
   "source": [
    "lst21 = [2,1,5,7,0]\n",
    "print(sorted(lst21))\n",
    "print(lst21.sort())"
   ]
  },
  {
   "cell_type": "markdown",
   "id": "07dba67d",
   "metadata": {},
   "source": [
    "#### List Comprehension\n",
    "    List Comprehension provides a concise way of creating lists.\n",
    "\n",
    "    newlist = [expression for item in iterable if condition == True]\n",
    "    \n",
    "    Advantages of List Comprehension\n",
    "\n",
    "- More time-efficient and space-efficient than loops.\n",
    "- Require fewer lines of code.\n",
    "- Transforms iterative statement into a formula."
   ]
  },
  {
   "cell_type": "code",
   "execution_count": 28,
   "id": "bcbd2e02",
   "metadata": {},
   "outputs": [
    {
     "name": "stdout",
     "output_type": "stream",
     "text": [
      "[1, 2, 3, 4, 5, 6, 7, 8, 9]\n"
     ]
    }
   ],
   "source": [
    "# Add 1 to 10 numbers to a list\n",
    "L = []\n",
    "\n",
    "for i in range(1,10):\n",
    "    L.append(i)\n",
    "    \n",
    "print(L)"
   ]
  },
  {
   "cell_type": "code",
   "execution_count": 29,
   "id": "7b9cc683",
   "metadata": {},
   "outputs": [
    {
     "name": "stdout",
     "output_type": "stream",
     "text": [
      "[6, 7, 8, 9, 10]\n"
     ]
    }
   ],
   "source": [
    "list31 = [i for i in range(1,11) if i>5]\n",
    "print(list31)"
   ]
  },
  {
   "cell_type": "code",
   "execution_count": 30,
   "id": "b33381a6",
   "metadata": {},
   "outputs": [
    {
     "data": {
      "text/plain": [
       "[-6, -9, -12]"
      ]
     },
     "execution_count": 30,
     "metadata": {},
     "output_type": "execute_result"
    }
   ],
   "source": [
    "# scalar multiplication on a vector\n",
    "vec = [2,3,4]\n",
    "s = -3\n",
    "[s*i for i in vec]"
   ]
  },
  {
   "cell_type": "code",
   "execution_count": 31,
   "id": "3359e270",
   "metadata": {},
   "outputs": [
    {
     "name": "stdout",
     "output_type": "stream",
     "text": [
      "[16, 25]\n"
     ]
    }
   ],
   "source": [
    "# Add Square\n",
    "list21 = [1,2,3,4,5]\n",
    "output1 = [i**2 for i in list21 if i**2 >10]\n",
    "print(output1)"
   ]
  },
  {
   "cell_type": "code",
   "execution_count": 32,
   "id": "1f6e5edb",
   "metadata": {},
   "outputs": [
    {
     "name": "stdout",
     "output_type": "stream",
     "text": [
      "[5, 10, 15, 20, 25, 30, 35, 40, 45, 50]\n"
     ]
    }
   ],
   "source": [
    "# Print all numbers divisible by 5 in the range of 1 to 50\n",
    "lst31 = [i for i in range(1,51) if i%5==0]\n",
    "print(lst31)"
   ]
  },
  {
   "cell_type": "code",
   "execution_count": 33,
   "id": "5c728e7c",
   "metadata": {},
   "outputs": [
    {
     "data": {
      "text/plain": [
       "['python', 'php']"
      ]
     },
     "execution_count": 33,
     "metadata": {},
     "output_type": "execute_result"
    }
   ],
   "source": [
    " # find languages which start with letter p\n",
    "languages = ['java','python','php','c','javascript']\n",
    "[language for language in languages if language.startswith('p')]"
   ]
  },
  {
   "cell_type": "code",
   "execution_count": null,
   "id": "10af9716",
   "metadata": {},
   "outputs": [],
   "source": [
    "for i in languages:\n",
    "    if i[0] == 'p':\n",
    "        print(i)"
   ]
  },
  {
   "cell_type": "code",
   "execution_count": 34,
   "id": "65935303",
   "metadata": {},
   "outputs": [
    {
     "data": {
      "text/plain": [
       "['apple']"
      ]
     },
     "execution_count": 34,
     "metadata": {},
     "output_type": "execute_result"
    }
   ],
   "source": [
    "# Nested if with List Comprehension\n",
    "basket = ['apple','guava','cherry','banana']\n",
    "my_fruits = ['apple','kiwi','grapes','banana']\n",
    "\n",
    "# add new list from my_fruits and items if the fruit exists in basket and also starts with 'a'\n",
    "\n",
    "[fruit for fruit in my_fruits if fruit in basket if fruit.startswith('a')]\n"
   ]
  },
  {
   "cell_type": "code",
   "execution_count": 35,
   "id": "721fff57",
   "metadata": {},
   "outputs": [
    {
     "data": {
      "text/plain": [
       "[[1, 2, 3], [2, 4, 6], [3, 6, 9]]"
      ]
     },
     "execution_count": 35,
     "metadata": {},
     "output_type": "execute_result"
    }
   ],
   "source": [
    "# Print a (3,3) matrix using list comprehension -> Nested List comprehension\n",
    "[[i*j for i in range(1,4)] for j in range(1,4)]"
   ]
  },
  {
   "cell_type": "code",
   "execution_count": null,
   "id": "67732886",
   "metadata": {},
   "outputs": [],
   "source": [
    "# cartesian products -> List comprehension on 2 lists together\n",
    "L1 = [1,2,3,4]\n",
    "L2 = [6,7,8,9]\n",
    "\n",
    "[i*j for i in L1 for j in L2]"
   ]
  },
  {
   "cell_type": "markdown",
   "id": "02c4d0ab",
   "metadata": {},
   "source": [
    "#### 2 ways to traverse a list\n",
    "- itemwise\n",
    "- indexwise"
   ]
  },
  {
   "cell_type": "code",
   "execution_count": 36,
   "id": "be861c14",
   "metadata": {},
   "outputs": [
    {
     "name": "stdout",
     "output_type": "stream",
     "text": [
      "1\n",
      "2\n",
      "3\n",
      "4\n",
      "5\n"
     ]
    }
   ],
   "source": [
    "# itemwise loop\n",
    "lst = [1,2,3,4,5]\n",
    "for i in lst:\n",
    "    print(i)"
   ]
  },
  {
   "cell_type": "code",
   "execution_count": 37,
   "id": "e7adc047",
   "metadata": {},
   "outputs": [
    {
     "name": "stdout",
     "output_type": "stream",
     "text": [
      "0\n",
      "1\n",
      "2\n",
      "3\n",
      "4\n"
     ]
    }
   ],
   "source": [
    "# Indexwise loop\n",
    "lst = [1,2,3,4,5]\n",
    "for i in range(0,len(lst)):\n",
    "    print(i)"
   ]
  },
  {
   "cell_type": "markdown",
   "id": "dec9f016",
   "metadata": {},
   "source": [
    "### Zip\n",
    "    The zip() function returns a zip object, which is an iterator of tuples where the first item in each passed \n",
    "    iterator is paired together, and then the second item in each passed iterator are paired together.\n",
    "    If the passed iterators have different lengths, the iterator with the least items decides \n",
    "    the length of the new iterator."
   ]
  },
  {
   "cell_type": "code",
   "execution_count": 38,
   "id": "5ca6bfd8",
   "metadata": {},
   "outputs": [
    {
     "name": "stdout",
     "output_type": "stream",
     "text": [
      "<zip object at 0x0000028BD3EBEF80>\n",
      "[(1, -1), (2, -2), (3, -3), (4, -4)]\n"
     ]
    },
    {
     "data": {
      "text/plain": [
       "[0, 0, 0, 0]"
      ]
     },
     "execution_count": 38,
     "metadata": {},
     "output_type": "execute_result"
    }
   ],
   "source": [
    "# Write a program to add items of 2 lists indexwise\n",
    "lst1 = [1,2,3,4]\n",
    "lst2 = [-1,-2,-3,-4]\n",
    "print(zip(lst1,lst2))\n",
    "print(list(zip(lst1,lst2)))\n",
    "\n",
    "[i+j for i, j in zip(lst1,lst2)]"
   ]
  },
  {
   "cell_type": "code",
   "execution_count": 39,
   "id": "5890c24c",
   "metadata": {},
   "outputs": [
    {
     "name": "stdout",
     "output_type": "stream",
     "text": [
      "Enter the 1st value5\n",
      "Enter the 2nd Value7\n",
      "12\n"
     ]
    }
   ],
   "source": [
    "def add(a,b):\n",
    "    return a+b\n",
    "\n",
    "a = int(input(\"Enter the 1st value\"))\n",
    "b = int(input(\"Enter the 2nd Value\"))\n",
    "\n",
    "output = add(a,b)\n",
    "print(output)"
   ]
  },
  {
   "cell_type": "code",
   "execution_count": 40,
   "id": "dc8e75b5",
   "metadata": {},
   "outputs": [
    {
     "name": "stdout",
     "output_type": "stream",
     "text": [
      "[1, 2, <built-in function print>, <class 'type'>, <bound method Kernel.raw_input of <ipykernel.ipkernel.IPythonKernel object at 0x0000028BD5322650>>, <function add at 0x0000028BD56A9440>]\n"
     ]
    }
   ],
   "source": [
    "list51 = [1,2,print,type,input,add]\n",
    "print(list51)"
   ]
  },
  {
   "cell_type": "code",
   "execution_count": 41,
   "id": "f583879f",
   "metadata": {},
   "outputs": [
    {
     "name": "stdout",
     "output_type": "stream",
     "text": [
      "1\n",
      "2\n",
      "<built-in function print>\n",
      "<class 'type'>\n",
      "<bound method Kernel.raw_input of <ipykernel.ipkernel.IPythonKernel object at 0x0000028BD5322650>>\n",
      "<function add at 0x0000028BD56A9440>\n"
     ]
    }
   ],
   "source": [
    "for i in list51:\n",
    "    print(i)"
   ]
  },
  {
   "cell_type": "markdown",
   "id": "b444c22d",
   "metadata": {},
   "source": [
    "### Disadvantages of Python Lists\n",
    "\n",
    "- Slow\n",
    "- Risky usage\n",
    "- eats up more memory"
   ]
  },
  {
   "cell_type": "code",
   "execution_count": 1,
   "id": "7ccd9781",
   "metadata": {},
   "outputs": [
    {
     "name": "stdout",
     "output_type": "stream",
     "text": [
      "[1, 2, 3]\n",
      "[1, 2, 3]\n",
      "[1, 2, 3, 4]\n",
      "[1, 2, 3, 4]\n"
     ]
    }
   ],
   "source": [
    "# list are mutable\n",
    "a = [1,2,3]\n",
    "b = a\n",
    "print(a)\n",
    "print(b)\n",
    "\n",
    "a.append(4)\n",
    "print(a)\n",
    "print(b)"
   ]
  },
  {
   "cell_type": "code",
   "execution_count": 2,
   "id": "c1161883",
   "metadata": {},
   "outputs": [
    {
     "name": "stdout",
     "output_type": "stream",
     "text": [
      "[1, 2, 3]\n",
      "[1, 2, 3]\n",
      "[1, 2, 3, 4]\n",
      "[1, 2, 3]\n"
     ]
    }
   ],
   "source": [
    "a = [1,2,3]\n",
    "b = a.copy()\n",
    "print(a)\n",
    "print(b)\n",
    "\n",
    "a.append(4)\n",
    "print(a)\n",
    "print(b)"
   ]
  },
  {
   "cell_type": "code",
   "execution_count": 42,
   "id": "c6a3eae1",
   "metadata": {},
   "outputs": [
    {
     "name": "stdout",
     "output_type": "stream",
     "text": [
      "[1, 2, 3, 4, 4, 4, 5, 5]\n"
     ]
    }
   ],
   "source": [
    "# Can have duplicates\n",
    "lst50 = [1,2,3,4,4,4,5,5]\n",
    "print(lst50)"
   ]
  },
  {
   "cell_type": "markdown",
   "id": "4af09e12",
   "metadata": {},
   "source": [
    "### Tuple,Set and Dictionary\n",
    "    A tuple in Python is similar to a list. The difference between the two is that we cannot change the elements \n",
    "    of a tuple once it is assigned whereas we can change the elements of a list.\n",
    "\n",
    "    In short, a tuple is an immutable list. A tuple can not be changed in any way once it is created.\n",
    "\n",
    "###### Characterstics\n",
    "\n",
    "- Ordered\n",
    "- Unchangeble\n",
    "- Allows duplicate\n",
    "\n",
    "##### Plan of attack\n",
    "- Creating a Tuple\n",
    "- Accessing items\n",
    "- Editing items\n",
    "- Adding items\n",
    "- Deleting items\n",
    "- Operations on Tuples\n",
    "- Tuple Functions"
   ]
  },
  {
   "cell_type": "markdown",
   "id": "700a722d",
   "metadata": {},
   "source": [
    "### Creating Tuple"
   ]
  },
  {
   "cell_type": "code",
   "execution_count": 4,
   "id": "ac6b3904",
   "metadata": {},
   "outputs": [
    {
     "name": "stdout",
     "output_type": "stream",
     "text": [
      "()\n",
      "('hello',)\n",
      "<class 'tuple'>\n",
      "hello\n",
      "<class 'str'>\n",
      "(1, 2, 3, 4)\n",
      "<class 'tuple'>\n",
      "(1, 2, True, [1, 2, 3])\n",
      "<class 'tuple'>\n",
      "(1, 2, 3, (4, 5))\n",
      "('h', 'e', 'l', 'l', 'o')\n"
     ]
    }
   ],
   "source": [
    "# empty tuple\n",
    "t1 = ()\n",
    "print(t1)\n",
    "\n",
    "# Create a tuple with the single item.\n",
    "t2 = ('hello',)\n",
    "print(t2)\n",
    "print(type(t2))\n",
    "\n",
    "t3 = ('hello')\n",
    "print(t3)\n",
    "print(type(t3))\n",
    "\n",
    "# Homo\n",
    "t4 = (1,2,3,4)\n",
    "print(t4)\n",
    "print(type(t4))\n",
    "\n",
    "# hetro\n",
    "t5 = (1,2,True,[1,2,3])\n",
    "print(t5)\n",
    "print(type(t5))\n",
    "\n",
    "# 2D tuple\n",
    "t6 = (1,2,3,(4,5))\n",
    "print(t6)\n",
    "\n",
    "t7 = tuple('hello')\n",
    "print(t7)\n",
    "\n"
   ]
  },
  {
   "cell_type": "code",
   "execution_count": 5,
   "id": "d929a08b",
   "metadata": {},
   "outputs": [
    {
     "name": "stdout",
     "output_type": "stream",
     "text": [
      "1\n",
      "6\n",
      "9\n",
      "*********************\n",
      "(2, 3, 4, 5, 6)\n",
      "(9, 8, 7, 6, 5, 4, 3, 2, 1)\n"
     ]
    }
   ],
   "source": [
    "# Accessing items from the tuple\n",
    "# Indexing , Slicing \n",
    "t8 = (1,2,3,4,5,6,7,8,9)\n",
    "print(t8[0])\n",
    "print(t8[5])\n",
    "print(t8[-1])\n",
    "print(\"*********************\")\n",
    "print(t8[1:6])\n",
    "print(t8[::-1])"
   ]
  },
  {
   "cell_type": "code",
   "execution_count": 6,
   "id": "b9b0f823",
   "metadata": {},
   "outputs": [
    {
     "ename": "TypeError",
     "evalue": "'tuple' object does not support item assignment",
     "output_type": "error",
     "traceback": [
      "\u001b[1;31m---------------------------------------------------------------------------\u001b[0m",
      "\u001b[1;31mTypeError\u001b[0m                                 Traceback (most recent call last)",
      "Cell \u001b[1;32mIn[6], line 2\u001b[0m\n\u001b[0;32m      1\u001b[0m \u001b[38;5;66;03m# Editing items\u001b[39;00m\n\u001b[1;32m----> 2\u001b[0m \u001b[43mt8\u001b[49m\u001b[43m[\u001b[49m\u001b[38;5;241;43m0\u001b[39;49m\u001b[43m]\u001b[49m \u001b[38;5;241m=\u001b[39m \u001b[38;5;241m100\u001b[39m\n\u001b[0;32m      3\u001b[0m \u001b[38;5;28mprint\u001b[39m(t8)\n",
      "\u001b[1;31mTypeError\u001b[0m: 'tuple' object does not support item assignment"
     ]
    }
   ],
   "source": [
    "# Editing items\n",
    "t8[0] = 100\n",
    "print(t8)"
   ]
  },
  {
   "cell_type": "code",
   "execution_count": null,
   "id": "012e0338",
   "metadata": {},
   "outputs": [],
   "source": [
    "# Adding items\n",
    "# Items addition is not possible because tuple are immutable."
   ]
  },
  {
   "cell_type": "code",
   "execution_count": 7,
   "id": "83c8894d",
   "metadata": {},
   "outputs": [
    {
     "name": "stdout",
     "output_type": "stream",
     "text": [
      "(1, 2, 3, 4, 5)\n"
     ]
    },
    {
     "ename": "NameError",
     "evalue": "name 't10' is not defined",
     "output_type": "error",
     "traceback": [
      "\u001b[1;31m---------------------------------------------------------------------------\u001b[0m",
      "\u001b[1;31mNameError\u001b[0m                                 Traceback (most recent call last)",
      "Cell \u001b[1;32mIn[7], line 5\u001b[0m\n\u001b[0;32m      3\u001b[0m \u001b[38;5;28mprint\u001b[39m(t10)\n\u001b[0;32m      4\u001b[0m \u001b[38;5;28;01mdel\u001b[39;00m t10\n\u001b[1;32m----> 5\u001b[0m \u001b[38;5;28mprint\u001b[39m(\u001b[43mt10\u001b[49m)\n",
      "\u001b[1;31mNameError\u001b[0m: name 't10' is not defined"
     ]
    }
   ],
   "source": [
    "# Deleting in tuple.\n",
    "t10 = (1,2,3,4,5)\n",
    "print(t10)\n",
    "del t10\n",
    "print(t10)"
   ]
  },
  {
   "cell_type": "code",
   "execution_count": 8,
   "id": "d371ba35",
   "metadata": {},
   "outputs": [
    {
     "name": "stdout",
     "output_type": "stream",
     "text": [
      "(1, 2, 3, 4, 5, 6, 7, 8)\n",
      "(1, 2, 3, 4, 1, 2, 3, 4, 1, 2, 3, 4)\n",
      "True\n",
      "True\n",
      "1\n",
      "2\n",
      "3\n",
      "4\n"
     ]
    }
   ],
   "source": [
    "# Operation on Tuples\n",
    "# +,*, membership operator, iteration\n",
    "t11 = (1,2,3,4)\n",
    "t12 = (5,6,7,8)\n",
    "print(t11+t12)\n",
    "print(t11*3)\n",
    "print(1 in t11)\n",
    "print(5 not in t11)\n",
    "\n",
    "# Iteration \n",
    "for i in t11:\n",
    "    print(i)"
   ]
  },
  {
   "cell_type": "markdown",
   "id": "cd4a4eb0",
   "metadata": {},
   "source": [
    "#### Tuples Functions\n",
    "- len, sum, min, max, sorted"
   ]
  },
  {
   "cell_type": "code",
   "execution_count": 9,
   "id": "0f3eddfa",
   "metadata": {},
   "outputs": [
    {
     "name": "stdout",
     "output_type": "stream",
     "text": [
      "6\n",
      "21\n",
      "1\n",
      "6\n",
      "[6, 5, 4, 3, 2, 1]\n"
     ]
    }
   ],
   "source": [
    "t14 = (1,2,3,4,5,6)\n",
    "print(len(t14))\n",
    "print(sum(t14))\n",
    "print(min(t14))\n",
    "print(max(t14))\n",
    "print(sorted(t14,reverse = True))"
   ]
  },
  {
   "cell_type": "code",
   "execution_count": 10,
   "id": "c0cf5520",
   "metadata": {},
   "outputs": [
    {
     "name": "stdout",
     "output_type": "stream",
     "text": [
      "1\n"
     ]
    }
   ],
   "source": [
    "print(t14.count(5))"
   ]
  },
  {
   "cell_type": "code",
   "execution_count": 11,
   "id": "e626a58e",
   "metadata": {},
   "outputs": [
    {
     "name": "stdout",
     "output_type": "stream",
     "text": [
      "3\n"
     ]
    }
   ],
   "source": [
    "print(t14.index(4))"
   ]
  },
  {
   "cell_type": "markdown",
   "id": "89c7a096",
   "metadata": {},
   "source": [
    "#### Difference between Lists and Tuples\n",
    "- Syntax\n",
    "- Mutability\n",
    "- Speed --> immutable datatypes are faster than mutable datatype.\n",
    "- Memory\n",
    "- Built in functionality\n",
    "- Error prone\n",
    "- Usability"
   ]
  },
  {
   "cell_type": "code",
   "execution_count": 12,
   "id": "35c0bd81",
   "metadata": {},
   "outputs": [
    {
     "name": "stdout",
     "output_type": "stream",
     "text": [
      "List time 9.831998825073242\n",
      "Tuple time 9.397691249847412\n"
     ]
    }
   ],
   "source": [
    "import time \n",
    "\n",
    "L1 = list(range(100000000))\n",
    "T1 = tuple(range(100000000))\n",
    "\n",
    "start = time.time()\n",
    "for i in L1:\n",
    "    i*5\n",
    "print('List time',time.time()-start)\n",
    "\n",
    "start = time.time()\n",
    "for i in T1:\n",
    "    i*5\n",
    "print('Tuple time',time.time()-start)"
   ]
  },
  {
   "cell_type": "code",
   "execution_count": 13,
   "id": "7e5eeab8",
   "metadata": {},
   "outputs": [
    {
     "name": "stdout",
     "output_type": "stream",
     "text": [
      "List size 8056\n",
      "Tuple size 8040\n"
     ]
    }
   ],
   "source": [
    "import sys\n",
    "\n",
    "L = list(range(1000))\n",
    "T = tuple(range(1000))\n",
    "\n",
    "print('List size',sys.getsizeof(L))\n",
    "print('Tuple size',sys.getsizeof(T))"
   ]
  },
  {
   "cell_type": "code",
   "execution_count": 14,
   "id": "836fd07c",
   "metadata": {},
   "outputs": [
    {
     "name": "stdout",
     "output_type": "stream",
     "text": [
      "[1, 2, 3, 4]\n",
      "[1, 2, 3, 4]\n"
     ]
    }
   ],
   "source": [
    "a = [1,2,3]\n",
    "b = a\n",
    "\n",
    "a.append(4)\n",
    "print(a)\n",
    "print(b)"
   ]
  },
  {
   "cell_type": "code",
   "execution_count": 15,
   "id": "ceedce9c",
   "metadata": {},
   "outputs": [
    {
     "name": "stdout",
     "output_type": "stream",
     "text": [
      "(1, 2, 3, 4)\n",
      "(1, 2, 3)\n"
     ]
    }
   ],
   "source": [
    "a = (1,2,3)\n",
    "b = a\n",
    "\n",
    "a = a + (4,)\n",
    "print(a)\n",
    "print(b)"
   ]
  },
  {
   "cell_type": "markdown",
   "id": "76b34ffe",
   "metadata": {},
   "source": [
    "#### Why use tuple?\n",
    "\n",
    "    We use tuple where we need to perform only read only operations. and if we talk about the list we create the list\n",
    "    where we need to make the frequent changes in the data."
   ]
  },
  {
   "cell_type": "markdown",
   "id": "7cd4ddb3",
   "metadata": {},
   "source": [
    "#### Special Syntax"
   ]
  },
  {
   "cell_type": "code",
   "execution_count": 16,
   "id": "4cfdad88",
   "metadata": {},
   "outputs": [
    {
     "name": "stdout",
     "output_type": "stream",
     "text": [
      "1 2 3\n"
     ]
    }
   ],
   "source": [
    "# Tuple unpacking\n",
    "a,b,c = (1,2,3)\n",
    "print(a,b,c)"
   ]
  },
  {
   "cell_type": "code",
   "execution_count": 17,
   "id": "5839d18c",
   "metadata": {},
   "outputs": [
    {
     "ename": "ValueError",
     "evalue": "too many values to unpack (expected 2)",
     "output_type": "error",
     "traceback": [
      "\u001b[1;31m---------------------------------------------------------------------------\u001b[0m",
      "\u001b[1;31mValueError\u001b[0m                                Traceback (most recent call last)",
      "Cell \u001b[1;32mIn[17], line 1\u001b[0m\n\u001b[1;32m----> 1\u001b[0m a,b \u001b[38;5;241m=\u001b[39m (\u001b[38;5;241m1\u001b[39m,\u001b[38;5;241m2\u001b[39m,\u001b[38;5;241m3\u001b[39m)\n\u001b[0;32m      2\u001b[0m \u001b[38;5;28mprint\u001b[39m(a,b)\n",
      "\u001b[1;31mValueError\u001b[0m: too many values to unpack (expected 2)"
     ]
    }
   ],
   "source": [
    "a,b = (1,2,3)\n",
    "print(a,b)"
   ]
  },
  {
   "cell_type": "code",
   "execution_count": 18,
   "id": "74326200",
   "metadata": {},
   "outputs": [
    {
     "name": "stdout",
     "output_type": "stream",
     "text": [
      "2 1\n"
     ]
    }
   ],
   "source": [
    "a= 1\n",
    "b = 2\n",
    "a,b = b,a\n",
    "print(a,b)"
   ]
  },
  {
   "cell_type": "code",
   "execution_count": 19,
   "id": "48ba8557",
   "metadata": {},
   "outputs": [
    {
     "name": "stdout",
     "output_type": "stream",
     "text": [
      "1 2\n",
      "[3, 4]\n"
     ]
    }
   ],
   "source": [
    "a,b,*others = (1,2,3,4)\n",
    "print(a,b)\n",
    "print(others)"
   ]
  },
  {
   "cell_type": "code",
   "execution_count": 20,
   "id": "de729451",
   "metadata": {},
   "outputs": [
    {
     "name": "stdout",
     "output_type": "stream",
     "text": [
      "[(1, 6), (2, 7), (4, 8), (5, 9)]\n"
     ]
    }
   ],
   "source": [
    "# zipping tuple\n",
    "a = (1,2,4,5)\n",
    "b = (6,7,8,9)\n",
    "output = list(zip(a,b))\n",
    "print(output)"
   ]
  },
  {
   "cell_type": "markdown",
   "id": "69987eed",
   "metadata": {},
   "source": [
    "### Sets\n",
    "    \n",
    "    A set is an unordered collection of items. Every set element is unique (no duplicates) and must be immutable \n",
    "    (cannot be changed).\n",
    "    However, a set itself is mutable. We can add or remove items from it.\n",
    "    Sets can also be used to perform mathematical set operations like union, intersection, symmetric difference, etc.\n",
    "\n",
    "##### Characterstics:\n",
    "\n",
    "- Unordered\n",
    "\n",
    "- Mutable\n",
    "- No Duplicates\n",
    "- Can't contain mutable(list) data types"
   ]
  },
  {
   "cell_type": "code",
   "execution_count": 21,
   "id": "013e588b",
   "metadata": {},
   "outputs": [
    {
     "name": "stdout",
     "output_type": "stream",
     "text": [
      "set()\n",
      "<class 'set'>\n",
      "{1, 2, 3}\n",
      "<class 'set'>\n",
      "{1, 'hello', 4.5}\n",
      "{1, 2, 3, 4}\n",
      "{1, 2, 3}\n"
     ]
    },
    {
     "ename": "TypeError",
     "evalue": "unhashable type: 'list'",
     "output_type": "error",
     "traceback": [
      "\u001b[1;31m---------------------------------------------------------------------------\u001b[0m",
      "\u001b[1;31mTypeError\u001b[0m                                 Traceback (most recent call last)",
      "Cell \u001b[1;32mIn[21], line 28\u001b[0m\n\u001b[0;32m     25\u001b[0m \u001b[38;5;28mprint\u001b[39m(s6)\n\u001b[0;32m     27\u001b[0m \u001b[38;5;66;03m# set can'nt have mutable item\u001b[39;00m\n\u001b[1;32m---> 28\u001b[0m s7 \u001b[38;5;241m=\u001b[39m {\u001b[38;5;241m1\u001b[39m,\u001b[38;5;241m2\u001b[39m,\u001b[38;5;241m3\u001b[39m,[\u001b[38;5;241m4\u001b[39m,\u001b[38;5;241m5\u001b[39m]}\n\u001b[0;32m     29\u001b[0m \u001b[38;5;28mprint\u001b[39m(s7)\n",
      "\u001b[1;31mTypeError\u001b[0m: unhashable type: 'list'"
     ]
    }
   ],
   "source": [
    "# Creating Sets\n",
    "# By default set and dict share the same syntax so we have to use type conversion function.\n",
    "s = set()\n",
    "print(s)\n",
    "print(type(s))\n",
    "\n",
    "# 1d set\n",
    "s1 = {1,2,3}\n",
    "print(s1)\n",
    "print(type(s1))\n",
    "\n",
    "# 2d set\n",
    "#s3 = {1,2,34,{5,6}}\n",
    "#print(s3)\n",
    "\n",
    "# Homo and hetro\n",
    "s4 = {1,'hello', True, 4.5}\n",
    "print(s4)\n",
    "\n",
    "# Type conversion \n",
    "s5 = set([1,2,3,4])\n",
    "print(s5)\n",
    "\n",
    "# Duplicate not allowed\n",
    "s6 = {1,2,3,1,2,3}\n",
    "print(s6)\n",
    "\n",
    "# set can'nt have mutable item\n",
    "s7 = {1,2,3,[4,5]}\n",
    "print(s7)"
   ]
  },
  {
   "cell_type": "code",
   "execution_count": 22,
   "id": "8463c7ec",
   "metadata": {},
   "outputs": [
    {
     "data": {
      "text/plain": [
       "True"
      ]
     },
     "execution_count": 22,
     "metadata": {},
     "output_type": "execute_result"
    }
   ],
   "source": [
    "# unordered\n",
    "s1 = {1,2,3}\n",
    "s2 = {3,2,1}\n",
    "s1 ==s2"
   ]
  },
  {
   "cell_type": "code",
   "execution_count": 44,
   "id": "2beeb822",
   "metadata": {},
   "outputs": [
    {
     "ename": "TypeError",
     "evalue": "'set' object is not subscriptable",
     "output_type": "error",
     "traceback": [
      "\u001b[1;31m---------------------------------------------------------------------------\u001b[0m",
      "\u001b[1;31mTypeError\u001b[0m                                 Traceback (most recent call last)",
      "Cell \u001b[1;32mIn[44], line 4\u001b[0m\n\u001b[0;32m      1\u001b[0m \u001b[38;5;66;03m# Accessing items from set\u001b[39;00m\n\u001b[0;32m      2\u001b[0m \u001b[38;5;66;03m# we can'nt do indexing because its a unordered collection of element. so there is no indexing possible.\u001b[39;00m\n\u001b[0;32m      3\u001b[0m s8 \u001b[38;5;241m=\u001b[39m {\u001b[38;5;241m1\u001b[39m,\u001b[38;5;241m2\u001b[39m,\u001b[38;5;241m3\u001b[39m,\u001b[38;5;241m4\u001b[39m,\u001b[38;5;241m5\u001b[39m,\u001b[38;5;241m6\u001b[39m,\u001b[38;5;241m7\u001b[39m}\n\u001b[1;32m----> 4\u001b[0m \u001b[38;5;28mprint\u001b[39m(\u001b[43ms8\u001b[49m\u001b[43m[\u001b[49m\u001b[38;5;241;43m0\u001b[39;49m\u001b[43m]\u001b[49m)\n\u001b[0;32m      5\u001b[0m \u001b[38;5;28mprint\u001b[39m(s8[\u001b[38;5;241m0\u001b[39m:\u001b[38;5;241m3\u001b[39m])\n",
      "\u001b[1;31mTypeError\u001b[0m: 'set' object is not subscriptable"
     ]
    }
   ],
   "source": [
    "# Accessing items from set\n",
    "# we can'nt do indexing because its a unordered collection of element. so there is no indexing possible.\n",
    "s8 = {1,2,3,4,5,6,7}\n",
    "print(s8[0])\n",
    "print(s8[0:3])"
   ]
  },
  {
   "cell_type": "code",
   "execution_count": 45,
   "id": "8fff7573",
   "metadata": {
    "scrolled": true
   },
   "outputs": [
    {
     "ename": "TypeError",
     "evalue": "'set' object does not support item assignment",
     "output_type": "error",
     "traceback": [
      "\u001b[1;31m---------------------------------------------------------------------------\u001b[0m",
      "\u001b[1;31mTypeError\u001b[0m                                 Traceback (most recent call last)",
      "Cell \u001b[1;32mIn[45], line 3\u001b[0m\n\u001b[0;32m      1\u001b[0m \u001b[38;5;66;03m# editing items\u001b[39;00m\n\u001b[0;32m      2\u001b[0m s9 \u001b[38;5;241m=\u001b[39m {\u001b[38;5;241m1\u001b[39m,\u001b[38;5;241m2\u001b[39m,\u001b[38;5;241m3\u001b[39m,\u001b[38;5;241m4\u001b[39m,\u001b[38;5;241m5\u001b[39m}\n\u001b[1;32m----> 3\u001b[0m \u001b[43ms9\u001b[49m\u001b[43m[\u001b[49m\u001b[38;5;241;43m0\u001b[39;49m\u001b[43m]\u001b[49m\u001b[38;5;241m=\u001b[39m \u001b[38;5;241m100\u001b[39m\n",
      "\u001b[1;31mTypeError\u001b[0m: 'set' object does not support item assignment"
     ]
    }
   ],
   "source": [
    "# editing items\n",
    "s9 = {1,2,3,4,5}\n",
    "s9[0]= 100"
   ]
  },
  {
   "cell_type": "code",
   "execution_count": 24,
   "id": "77dac277",
   "metadata": {},
   "outputs": [
    {
     "name": "stdout",
     "output_type": "stream",
     "text": [
      "{1, 2, 3, 4, 2.5, 10}\n",
      "{1, 2, 3, 4, 2.5, 9, 10, 11}\n"
     ]
    }
   ],
   "source": [
    "# Adding items in sets\n",
    "s10 = {1,2,3,4}\n",
    "s10.add(10)\n",
    "s10.add(2.5)\n",
    "print(s10)\n",
    "s10.update([9,11])\n",
    "print(s10)"
   ]
  },
  {
   "cell_type": "code",
   "execution_count": 25,
   "id": "7ecbb16e",
   "metadata": {},
   "outputs": [
    {
     "name": "stdout",
     "output_type": "stream",
     "text": [
      "{1, 2, 3, 4, 5}\n",
      "{1, 2, 3, 4}\n",
      "{1, 3, 4}\n",
      "{3, 4}\n",
      "set()\n"
     ]
    },
    {
     "ename": "NameError",
     "evalue": "name 's11' is not defined",
     "output_type": "error",
     "traceback": [
      "\u001b[1;31m---------------------------------------------------------------------------\u001b[0m",
      "\u001b[1;31mNameError\u001b[0m                                 Traceback (most recent call last)",
      "Cell \u001b[1;32mIn[25], line 13\u001b[0m\n\u001b[0;32m     11\u001b[0m \u001b[38;5;28mprint\u001b[39m(s11)\n\u001b[0;32m     12\u001b[0m \u001b[38;5;28;01mdel\u001b[39;00m s11\n\u001b[1;32m---> 13\u001b[0m \u001b[38;5;28mprint\u001b[39m(\u001b[43ms11\u001b[49m)\n",
      "\u001b[1;31mNameError\u001b[0m: name 's11' is not defined"
     ]
    }
   ],
   "source": [
    "# deleting the items\n",
    "s11 = {1,2,3,4,5}\n",
    "print(s11)\n",
    "s11.discard(5)\n",
    "print(s11)\n",
    "s11.remove(2)\n",
    "print(s11)\n",
    "s11.pop()\n",
    "print(s11)\n",
    "s11.clear()\n",
    "print(s11)\n",
    "del s11\n",
    "print(s11)"
   ]
  },
  {
   "cell_type": "markdown",
   "id": "e1986cd5",
   "metadata": {},
   "source": [
    "### Set Operation"
   ]
  },
  {
   "cell_type": "code",
   "execution_count": 26,
   "id": "f0edf80c",
   "metadata": {},
   "outputs": [
    {
     "name": "stdout",
     "output_type": "stream",
     "text": [
      "{1, 2, 3, 4, 5, 6, 7, 8}\n",
      "{4, 5}\n",
      "{1, 2, 3}\n",
      "{8, 6, 7}\n",
      "{1, 2, 3, 6, 7, 8}\n",
      "True\n",
      "False\n"
     ]
    }
   ],
   "source": [
    "s13 = {1,2,3,4,5}\n",
    "s14 = {4,5,6,7,8}\n",
    "\n",
    "# Union(|)\n",
    "# Intersection(&)\n",
    "print(s13 | s14)\n",
    "print(s13 & s14)\n",
    "\n",
    "# Difference(-)\n",
    "print(s13-s14)\n",
    "print(s14-s13)\n",
    "\n",
    "# Symmetric Difference(^)\n",
    "print(s13^s14)\n",
    "\n",
    "# Membership Test\n",
    "print(1 in s13)\n",
    "print(1 not in s13)"
   ]
  },
  {
   "cell_type": "code",
   "execution_count": 27,
   "id": "828ff250",
   "metadata": {},
   "outputs": [
    {
     "data": {
      "text/plain": [
       "[7, 5, 4, 3, 2, 1]"
      ]
     },
     "execution_count": 27,
     "metadata": {},
     "output_type": "execute_result"
    }
   ],
   "source": [
    "# len/sum/min/max/sorted\n",
    "s = {3,1,4,5,2,7}\n",
    "len(s)\n",
    "sum(s)\n",
    "min(s)\n",
    "max(s)\n",
    "sorted(s,reverse=True)"
   ]
  },
  {
   "cell_type": "code",
   "execution_count": null,
   "id": "a3d5ef5c",
   "metadata": {},
   "outputs": [],
   "source": [
    "# union/update\n",
    "s1 = {1,2,3,4,5}\n",
    "s2 = {4,5,6,7,8}\n",
    "\n",
    "# s1 | s2\n",
    "s1.union(s1)\n",
    "\n",
    "s1.update(s2)\n",
    "print(s1)\n",
    "print(s2)"
   ]
  },
  {
   "cell_type": "code",
   "execution_count": null,
   "id": "1b64d921",
   "metadata": {},
   "outputs": [],
   "source": [
    "# intersection/intersection_update\n",
    "s1 = {1,2,3,4,5}\n",
    "s2 = {4,5,6,7,8}\n",
    "\n",
    "s1.intersection(s2)\n",
    "\n",
    "s1.intersection_update(s2)\n",
    "print(s1)\n",
    "print(s2)"
   ]
  },
  {
   "cell_type": "code",
   "execution_count": null,
   "id": "f88bf24f",
   "metadata": {},
   "outputs": [],
   "source": [
    "# difference/difference_update\n",
    "s1 = {1,2,3,4,5}\n",
    "s2 = {4,5,6,7,8}\n",
    "\n",
    "s1.difference(s2)\n",
    "\n",
    "s1.difference_update(s2)\n",
    "print(s1)\n",
    "print(s2)"
   ]
  },
  {
   "cell_type": "code",
   "execution_count": null,
   "id": "8ab62d61",
   "metadata": {},
   "outputs": [],
   "source": [
    "# symmetric_difference/symmetric_difference_update\n",
    "s1 = {1,2,3,4,5}\n",
    "s2 = {4,5,6,7,8}\n",
    "\n",
    "s1.symmetric_difference(s2)\n",
    "\n",
    "s1.symmetric_difference_update(s2)\n",
    "print(s1)\n",
    "print(s2)"
   ]
  },
  {
   "cell_type": "code",
   "execution_count": null,
   "id": "fce838cb",
   "metadata": {},
   "outputs": [],
   "source": [
    "# isdisjoint/issubset/issuperset\n",
    "s1 = {1,2,3,4}\n",
    "s2 = {7,8,5,6}\n",
    "\n",
    "s1.isdisjoint(s2)"
   ]
  },
  {
   "cell_type": "code",
   "execution_count": null,
   "id": "66fafd1b",
   "metadata": {},
   "outputs": [],
   "source": [
    "s1 = {1,2,3,4,5}\n",
    "s2 = {3,4,5}\n",
    "\n",
    "s1.issuperset(s2)"
   ]
  },
  {
   "cell_type": "code",
   "execution_count": null,
   "id": "f6e8eab1",
   "metadata": {},
   "outputs": [],
   "source": [
    "s1 = {1,2,3,4,5}\n",
    "s2 = {3,4,5}\n",
    "\n",
    "s1.issubset(s2)"
   ]
  },
  {
   "cell_type": "markdown",
   "id": "99ccec43",
   "metadata": {},
   "source": [
    "##### Frozenset\n",
    "\n",
    "    Frozen set is just an immutable version of a Python set object. "
   ]
  },
  {
   "cell_type": "code",
   "execution_count": 48,
   "id": "7472bbe8",
   "metadata": {},
   "outputs": [
    {
     "name": "stdout",
     "output_type": "stream",
     "text": [
      "frozenset({1, 2, 3})\n",
      "<class 'frozenset'>\n"
     ]
    }
   ],
   "source": [
    "fs = frozenset([1,2,3])\n",
    "print(fs)\n",
    "print(type(fs))"
   ]
  },
  {
   "cell_type": "code",
   "execution_count": null,
   "id": "329f9288",
   "metadata": {},
   "outputs": [],
   "source": [
    "# what operation works and what does not\n",
    "# works -> all read functions\n",
    "# does't work -> write operations"
   ]
  },
  {
   "cell_type": "code",
   "execution_count": null,
   "id": "c006bc02",
   "metadata": {},
   "outputs": [],
   "source": [
    "# When to use\n",
    "# 2D sets\n",
    "fs = frozenset([1,2,frozenset([3,4])])\n",
    "fs"
   ]
  },
  {
   "cell_type": "markdown",
   "id": "7b88e698",
   "metadata": {},
   "source": [
    "### Set Comprehension"
   ]
  },
  {
   "cell_type": "code",
   "execution_count": 49,
   "id": "396019f7",
   "metadata": {},
   "outputs": [
    {
     "data": {
      "text/plain": [
       "{36, 49, 64, 81, 100}"
      ]
     },
     "execution_count": 49,
     "metadata": {},
     "output_type": "execute_result"
    }
   ],
   "source": [
    "# examples\n",
    "\n",
    "{i**2 for i in range(1,11) if i>5}"
   ]
  },
  {
   "cell_type": "markdown",
   "id": "070a21c0",
   "metadata": {},
   "source": [
    "### Dictionary\n",
    "\n",
    "    Dictionary in Python is a collection of keys values, used to store data values like a map, which, unlike \n",
    "    other data types which hold only a single value as an element.\n",
    "\n",
    "    In some languages it is known as map or assosiative arrays.\n",
    "\n",
    "    dict = { 'name' : 'nitish' , 'age' : 33 , 'gender' : 'male' }\n",
    "\n",
    "##### Characterstics:\n",
    "- Mutable\n",
    "- Indexing has no meaning\n",
    "- keys can't be duplicated\n",
    "- keys can't be mutable items"
   ]
  },
  {
   "cell_type": "markdown",
   "id": "efbfeaf0",
   "metadata": {},
   "source": [
    "#### Create Dictionary"
   ]
  },
  {
   "cell_type": "code",
   "execution_count": 47,
   "id": "b3713136",
   "metadata": {},
   "outputs": [
    {
     "name": "stdout",
     "output_type": "stream",
     "text": [
      "<class 'dict'>\n",
      "{'name': 'sahil', 'gender': 'Male', 'Age': 32}\n",
      "{(1, 2, 3): 1, 'hello': 'world'}\n",
      "{'name': 'sahil', 'college': 'Gla university', 'semester': 4, 'subjects': {'Dsa': 97, 'Math': 85, 'english': 78, 'Science': 88}}\n",
      "{1: 2, 3: 4, 4: 5}\n",
      "{'name': 'sahil', 'age': 34, 3: 3}\n",
      "{'name': 'rahul'}\n"
     ]
    },
    {
     "ename": "TypeError",
     "evalue": "unhashable type: 'list'",
     "output_type": "error",
     "traceback": [
      "\u001b[1;31m---------------------------------------------------------------------------\u001b[0m",
      "\u001b[1;31mTypeError\u001b[0m                                 Traceback (most recent call last)",
      "Cell \u001b[1;32mIn[47], line 38\u001b[0m\n\u001b[0;32m     35\u001b[0m \u001b[38;5;28mprint\u001b[39m(d6)\n\u001b[0;32m     37\u001b[0m \u001b[38;5;66;03m# mutable items as keys\u001b[39;00m\n\u001b[1;32m---> 38\u001b[0m d7 \u001b[38;5;241m=\u001b[39m {\u001b[38;5;124m'\u001b[39m\u001b[38;5;124mname\u001b[39m\u001b[38;5;124m'\u001b[39m:\u001b[38;5;124m'\u001b[39m\u001b[38;5;124mnitish\u001b[39m\u001b[38;5;124m'\u001b[39m,[\u001b[38;5;241m1\u001b[39m,\u001b[38;5;241m2\u001b[39m,\u001b[38;5;241m3\u001b[39m]:\u001b[38;5;241m1\u001b[39m}\n\u001b[0;32m     39\u001b[0m \u001b[38;5;28mprint\u001b[39m(d7)\n",
      "\u001b[1;31mTypeError\u001b[0m: unhashable type: 'list'"
     ]
    }
   ],
   "source": [
    "# empty dict\n",
    "d1 = {}\n",
    "print(type(d1))\n",
    "\n",
    "# 1D dict\n",
    "d2 = {'name':'sahil', 'gender':'Male','Age':32}\n",
    "print(d2)\n",
    "\n",
    "# with mixed key \n",
    "d3 = {(1,2,3):1, 'hello':'world'}\n",
    "print(d3)\n",
    "\n",
    "# 2D dict \n",
    "stud = {\n",
    "    'name':'sahil',\n",
    "    'college':'Gla university',\n",
    "    'semester':4,\n",
    "    'subjects':{\n",
    "        'Dsa':97,\n",
    "        'Math':85,\n",
    "        'english':78,\n",
    "        'Science':88\n",
    "    }\n",
    "}\n",
    "print(stud)\n",
    "\n",
    "# using sequence and dict function\n",
    "d4 = dict([(1,2),(3,4),(4,5)])\n",
    "print(d4)\n",
    "d5 = dict([('name','sahil'),('age',34),(3,3)])\n",
    "print(d5)\n",
    "\n",
    "# duplicates keys\n",
    "d6 = {'name':'sahil','name':'rahul'}\n",
    "print(d6)\n",
    "\n",
    "# mutable items as keys\n",
    "d7 = {'name':'nitish',[1,2,3]:1}\n",
    "print(d7)"
   ]
  },
  {
   "cell_type": "markdown",
   "id": "66c8a7e8",
   "metadata": {},
   "source": [
    "##### Accessing items"
   ]
  },
  {
   "cell_type": "code",
   "execution_count": 51,
   "id": "37d819b2",
   "metadata": {},
   "outputs": [
    {
     "name": "stdout",
     "output_type": "stream",
     "text": [
      "Sahil\n",
      "32\n",
      "Sahil\n",
      "KV\n"
     ]
    }
   ],
   "source": [
    "my_dict = {'Name':'Sahil','Age':32,'School':'KV'}\n",
    "\n",
    "print(my_dict['Name'])\n",
    "print(my_dict['Age'])\n",
    "\n",
    "print(my_dict.get('Name'))\n",
    "print(my_dict.get('School'))\n"
   ]
  },
  {
   "cell_type": "code",
   "execution_count": 52,
   "id": "4d598c27",
   "metadata": {},
   "outputs": [
    {
     "name": "stdout",
     "output_type": "stream",
     "text": [
      "{'Name': 'Sahil', 'Age': 32, 'School': 'KV', 'gender': 'Male'}\n",
      "{'Name': 'Sahil', 'Age': 32, 'School': 'KV', 'gender': 'Male', 'Weight': 82}\n"
     ]
    }
   ],
   "source": [
    "# Adding new Key-Value Pair\n",
    "my_dict['gender'] = 'Male'\n",
    "print(my_dict)\n",
    "my_dict['Weight'] = 82\n",
    "print(my_dict)"
   ]
  },
  {
   "cell_type": "code",
   "execution_count": null,
   "id": "f220f572",
   "metadata": {},
   "outputs": [],
   "source": [
    "# Remove key-value pair\n",
    "d = {'name': 'nitish', 'age': 32, 3: 3, 'gender': 'male', 'weight': 72}\n",
    "# pop\n",
    "#d.pop(3)\n",
    "#print(d)\n",
    "# popitem\n",
    "#d.popitem()\n",
    "# d.popitem()\n",
    "# print(d)\n",
    "# del\n",
    "#del d['name']\n",
    "#print(d)\n",
    "# clear\n",
    "d.clear()\n",
    "print(d)\n",
    "\n",
    "del s['subjects']['maths']\n",
    "s"
   ]
  },
  {
   "cell_type": "code",
   "execution_count": null,
   "id": "b676f312",
   "metadata": {},
   "outputs": [],
   "source": [
    "# Editing key-value pair\n",
    "stud1 = {\n",
    "    'name':'sahil',\n",
    "    'college':'Gla university',\n",
    "    'semester':4,\n",
    "    'subjects':{\n",
    "        'Dsa':97,\n",
    "        'Math':85,\n",
    "        'english':78,\n",
    "        'Science':88\n",
    "    }\n",
    "}\n",
    "\n",
    "stud1['subjects']['dsa'] = 80\n",
    "print(stud1)"
   ]
  },
  {
   "cell_type": "markdown",
   "id": "16f1e585",
   "metadata": {},
   "source": [
    "### Dictionary Operations\n",
    "- Membership\n",
    "- Iteration"
   ]
  },
  {
   "cell_type": "code",
   "execution_count": null,
   "id": "ad38b0d7",
   "metadata": {},
   "outputs": [],
   "source": [
    "print(stud1)\n",
    "print('sahil' in stud1)\n",
    "print('name' in stud1)"
   ]
  },
  {
   "cell_type": "code",
   "execution_count": null,
   "id": "1b018aa3",
   "metadata": {},
   "outputs": [],
   "source": [
    "for i in stud1:\n",
    "    print(i,stud1[i])"
   ]
  },
  {
   "cell_type": "markdown",
   "id": "37061f08",
   "metadata": {},
   "source": [
    "#### Dictionary Functions"
   ]
  },
  {
   "cell_type": "code",
   "execution_count": null,
   "id": "44065831",
   "metadata": {},
   "outputs": [],
   "source": [
    "# len/sorted\n",
    "len(stud1)\n",
    "print(stud1)\n",
    "sorted(stud1,reverse=True)\n",
    "max(stud1)"
   ]
  },
  {
   "cell_type": "code",
   "execution_count": null,
   "id": "53a0048f",
   "metadata": {},
   "outputs": [],
   "source": [
    "# items/keys/values\n",
    "print(stud1)\n",
    "\n",
    "print(stud1.items())\n",
    "print(stud1.keys())\n",
    "print(stud1.values())"
   ]
  },
  {
   "cell_type": "code",
   "execution_count": null,
   "id": "081af4bc",
   "metadata": {},
   "outputs": [],
   "source": [
    "# update\n",
    "d1 = {1:2,3:4,4:5}\n",
    "d2 = {4:7,6:8}\n",
    "\n",
    "d1.update(d2)\n",
    "print(d1)"
   ]
  },
  {
   "cell_type": "markdown",
   "id": "5fb122db",
   "metadata": {},
   "source": [
    "#### Dict comprehension \n",
    "    {key:value for var in iterable}"
   ]
  },
  {
   "cell_type": "code",
   "execution_count": null,
   "id": "eab3c112",
   "metadata": {},
   "outputs": [],
   "source": [
    "# print 1st 10 numbers and their squares\n",
    "{i:i**2 for i in range(1,11)}"
   ]
  },
  {
   "cell_type": "code",
   "execution_count": null,
   "id": "3d739281",
   "metadata": {},
   "outputs": [],
   "source": [
    "distances = {'delhi':1000,'mumbai':2000,'bangalore':3000}\n",
    "print(distances.items())"
   ]
  },
  {
   "cell_type": "code",
   "execution_count": null,
   "id": "64a3b295",
   "metadata": {},
   "outputs": [],
   "source": [
    "# using existing dict\n",
    "distances = {'delhi':1000,'mumbai':2000,'bangalore':3000}\n",
    "{key:value*0.62 for (key,value) in distances.items()}"
   ]
  },
  {
   "cell_type": "code",
   "execution_count": null,
   "id": "b9adaad6",
   "metadata": {},
   "outputs": [],
   "source": [
    "# using zip\n",
    "days = [\"Sunday\", \"Monday\",\"Tuesday\",\"Wednesday\",\"Thursday\",\"Friday\",\"Saturday\"]\n",
    "temp_C = [30.5,32.6,31.8,33.4,29.8,30.2,29.9]\n",
    "\n",
    "{i:j for (i,j) in zip(days,temp_C)}"
   ]
  },
  {
   "cell_type": "code",
   "execution_count": null,
   "id": "4a78f0e1",
   "metadata": {},
   "outputs": [],
   "source": [
    "# using if condition\n",
    "products = {'phone':10,'laptop':0,'charger':32,'tablet':0}\n",
    "\n",
    "{key:value for (key,value) in products.items() if value>0}"
   ]
  },
  {
   "cell_type": "code",
   "execution_count": 1,
   "id": "dc6e5c07",
   "metadata": {},
   "outputs": [
    {
     "data": {
      "text/plain": [
       "{2: {1: 2, 2: 4, 3: 6, 4: 8, 5: 10, 6: 12, 7: 14, 8: 16, 9: 18, 10: 20},\n",
       " 3: {1: 3, 2: 6, 3: 9, 4: 12, 5: 15, 6: 18, 7: 21, 8: 24, 9: 27, 10: 30},\n",
       " 4: {1: 4, 2: 8, 3: 12, 4: 16, 5: 20, 6: 24, 7: 28, 8: 32, 9: 36, 10: 40}}"
      ]
     },
     "execution_count": 1,
     "metadata": {},
     "output_type": "execute_result"
    }
   ],
   "source": [
    "# Nested Comprehension\n",
    "# print tables of number from 2 to 4\n",
    "{i:{j:i*j for j in range(1,11)} for i in range(2,5)}"
   ]
  },
  {
   "cell_type": "code",
   "execution_count": null,
   "id": "ce71a6c0",
   "metadata": {},
   "outputs": [],
   "source": []
  },
  {
   "cell_type": "code",
   "execution_count": null,
   "id": "d938a419",
   "metadata": {},
   "outputs": [],
   "source": []
  }
 ],
 "metadata": {
  "kernelspec": {
   "display_name": "Python 3 (ipykernel)",
   "language": "python",
   "name": "python3"
  },
  "language_info": {
   "codemirror_mode": {
    "name": "ipython",
    "version": 3
   },
   "file_extension": ".py",
   "mimetype": "text/x-python",
   "name": "python",
   "nbconvert_exporter": "python",
   "pygments_lexer": "ipython3",
   "version": "3.11.4"
  }
 },
 "nbformat": 4,
 "nbformat_minor": 5
}
