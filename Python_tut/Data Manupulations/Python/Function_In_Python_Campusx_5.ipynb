{
 "cells": [
  {
   "cell_type": "code",
   "execution_count": null,
   "id": "8a73b764",
   "metadata": {},
   "outputs": [],
   "source": [
    "# Functions:\n",
    "# Its a block of code with the help of which we will provide some input value and get the output value.\n",
    "# code resuablity\n",
    "\n",
    "# Types of Functions\n",
    "# 1). Built-in functions\n",
    "# 2). User Defined Functions\n",
    "\n",
    "# Component of Functions\n",
    "# def -- definition\n",
    "# "
   ]
  },
  {
   "cell_type": "markdown",
   "id": "c0064010",
   "metadata": {},
   "source": [
    "#### Let's create a function(with docstring):\n",
    "\n",
    "    Abstraction --> Its basically hiding the definition of code.\n",
    "    decomposition --> Its basically smaller pixel creating the larger picture when coming together."
   ]
  },
  {
   "cell_type": "code",
   "execution_count": 4,
   "id": "72b9db22",
   "metadata": {},
   "outputs": [
    {
     "name": "stdout",
     "output_type": "stream",
     "text": [
      "Enter the number12\n",
      "even\n"
     ]
    }
   ],
   "source": [
    "def is_even(number):\n",
    "    \"\"\"\n",
    "    This function will basically check whether the given number which is integer is odd or even.\n",
    "    \"\"\"\n",
    "    if type(number) == int:\n",
    "        \n",
    "        if number%2 == 0:\n",
    "            return \"even\"\n",
    "        else:\n",
    "            return \"odd\"\n",
    "    else:\n",
    "        return \"Enter the Integer value\"\n",
    "\n",
    "try:\n",
    "    number = int(input(\"Enter the number\"))\n",
    "    print(is_even(number))\n",
    "except ValueError:\n",
    "    print(\"Enter the Integer value\")"
   ]
  },
  {
   "cell_type": "code",
   "execution_count": 2,
   "id": "f5970fd0",
   "metadata": {},
   "outputs": [
    {
     "name": "stdout",
     "output_type": "stream",
     "text": [
      "odd\n",
      "even\n",
      "odd\n",
      "even\n",
      "odd\n",
      "even\n",
      "odd\n",
      "even\n",
      "odd\n",
      "even\n"
     ]
    }
   ],
   "source": [
    "for i in range(1,11):\n",
    "    x = is_even(i)\n",
    "    print(x)"
   ]
  },
  {
   "cell_type": "code",
   "execution_count": 6,
   "id": "2a0f00fe",
   "metadata": {},
   "outputs": [
    {
     "name": "stdout",
     "output_type": "stream",
     "text": [
      "\n",
      "    This function will basically check whether the given number which is integer is odd or even.\n",
      "    \n"
     ]
    }
   ],
   "source": [
    "print(is_even.__doc__)"
   ]
  },
  {
   "cell_type": "code",
   "execution_count": 7,
   "id": "1f625263",
   "metadata": {},
   "outputs": [
    {
     "name": "stdout",
     "output_type": "stream",
     "text": [
      "Prints the values to a stream, or to sys.stdout by default.\n",
      "\n",
      "  sep\n",
      "    string inserted between values, default a space.\n",
      "  end\n",
      "    string appended after the last value, default a newline.\n",
      "  file\n",
      "    a file-like object (stream); defaults to the current sys.stdout.\n",
      "  flush\n",
      "    whether to forcibly flush the stream.\n"
     ]
    }
   ],
   "source": [
    "print(print.__doc__)"
   ]
  },
  {
   "cell_type": "markdown",
   "id": "d982bf11",
   "metadata": {},
   "source": [
    "### Parameter and Argument:\n",
    "\n",
    "    Parameter:- In the definition of functions we will provide the parameter. like def is_even(i),: Here i is parameter.\n",
    "    \n",
    "    Argument:- The argument is the value which we provide inside the function when we are calling the functions.\n",
    "                like: print(is_even(i)), here the value of i could be 10,20,30 anything so this is a argument.\n",
    "                \n",
    "                In other words argument is basically the value which is given to the parameter.\n",
    "                \n",
    "#### Type of Argument:\n",
    "\n",
    "    1). Default argument. --> In this we will provide the default argument so that if we are not able to provide the \n",
    "                                argument then it will assume by its own.\n",
    "                                \n",
    "    2). postional argument. --> The default behaviour of postional argument is the first arugument goes to 1st parameter\n",
    "                                second argument goes to second parameter.\n",
    "                                \n",
    "                                or in other words jis order m hum arugment ko bhejte h ussi order m \n",
    "    \n",
    "    3). keyword argument. --> In this we baiscally define the parameter inside the calling function so that the value would\n",
    "                                get to the definition."
   ]
  },
  {
   "cell_type": "code",
   "execution_count": null,
   "id": "52388cac",
   "metadata": {},
   "outputs": [],
   "source": [
    "def is_power(a,b):\n",
    "    return a**b"
   ]
  },
  {
   "cell_type": "code",
   "execution_count": null,
   "id": "5c45bd39",
   "metadata": {},
   "outputs": [],
   "source": [
    "print(is_power(2))"
   ]
  },
  {
   "cell_type": "code",
   "execution_count": null,
   "id": "30fdc839",
   "metadata": {},
   "outputs": [],
   "source": [
    "# Default argument.\n",
    "def new_power(c=2,d=3):\n",
    "    return c**d"
   ]
  },
  {
   "cell_type": "code",
   "execution_count": null,
   "id": "0c7cbe66",
   "metadata": {},
   "outputs": [],
   "source": [
    "print(new_power(3))"
   ]
  },
  {
   "cell_type": "code",
   "execution_count": null,
   "id": "3776e9e2",
   "metadata": {},
   "outputs": [],
   "source": [
    "# Positional Arugument:- \n",
    "new_power(2,3)"
   ]
  },
  {
   "cell_type": "code",
   "execution_count": null,
   "id": "bfabf28a",
   "metadata": {},
   "outputs": [],
   "source": [
    "# keyword argument-- hum naam se argument bhej/pass kr sakte h \n",
    "print(new_power(d=3,c=2))"
   ]
  },
  {
   "cell_type": "markdown",
   "id": "437afc01",
   "metadata": {},
   "source": [
    "#### *args and **kwargs\n",
    "    *args and **kwargs are special Python keywords that are used to pass the variable length of arguments to a function\n",
    "    \n",
    "##### Points to remember while using *args and **kwargs\n",
    "\n",
    "    order of the arguments matter(normal -> *args -> **kwargs)\n",
    "    The words “args” and “kwargs” are only a convention, you can use any name of your choice"
   ]
  },
  {
   "cell_type": "code",
   "execution_count": null,
   "id": "50a6ad62",
   "metadata": {},
   "outputs": [],
   "source": [
    "# *args\n",
    "# allows us to pass a variable number of non-keyword arguments to a function.\n",
    "def multiply(*args):\n",
    "    product = 1\n",
    "    for i in args:\n",
    "        product = product *i\n",
    "    print(args)\n",
    "    print(product)"
   ]
  },
  {
   "cell_type": "code",
   "execution_count": null,
   "id": "d1848d98",
   "metadata": {},
   "outputs": [],
   "source": [
    "multiply(1,2,3,4,5)"
   ]
  },
  {
   "cell_type": "code",
   "execution_count": 8,
   "id": "a8815e31",
   "metadata": {},
   "outputs": [],
   "source": [
    "# **kwargs\n",
    "# **kwargs allows us to pass any number of keyword arguments.\n",
    "# Keyword arguments mean that they contain a key-value pair, like a Python dictionary.\n",
    "\n",
    "def display(**kwargs):\n",
    "    for (key,value) in kwargs.items():\n",
    "        print(key, \"-->\", value)"
   ]
  },
  {
   "cell_type": "code",
   "execution_count": 9,
   "id": "732faa5e",
   "metadata": {},
   "outputs": [
    {
     "name": "stdout",
     "output_type": "stream",
     "text": [
      "india --> Delhi\n",
      "China --> bejing\n",
      "Srilanks --> colombo\n",
      "Nepal --> Kathmandu\n",
      "pakistan --> islambad\n"
     ]
    }
   ],
   "source": [
    "display(india ='Delhi',China ='bejing',Srilanks='colombo',Nepal='Kathmandu',pakistan='islambad')"
   ]
  },
  {
   "cell_type": "markdown",
   "id": "2a861bf8",
   "metadata": {},
   "source": [
    "#### How Functions are executed in memory?\n",
    "     visit python tutor.com"
   ]
  },
  {
   "cell_type": "markdown",
   "id": "ae7f2388",
   "metadata": {},
   "source": [
    "#### Without return statement\n",
    "    Python can or can'nt have return statement its completely depends upon the programmer mindset. \n",
    "    If it does'nt have return statement then it will automatically return the NONE value. and if we want to print the\n",
    "    value instead of returning the statement inside the functions.\n",
    "    \n",
    "    "
   ]
  },
  {
   "cell_type": "code",
   "execution_count": null,
   "id": "6ecb6267",
   "metadata": {},
   "outputs": [],
   "source": [
    "lst = [1,2,3]\n",
    "print(lst.append(4))\n",
    "print(lst)"
   ]
  },
  {
   "cell_type": "markdown",
   "id": "498fef86",
   "metadata": {},
   "source": [
    "#### Variable Scope\n",
    "    1). Global Scope -- variable which work throughout the program\n",
    "    2). Local Scope -- variable which work inside the block of the code."
   ]
  },
  {
   "cell_type": "code",
   "execution_count": null,
   "id": "5e548f06",
   "metadata": {},
   "outputs": [],
   "source": [
    "def g(y):\n",
    "    print(x)\n",
    "    print(x+1)\n",
    "x = 5 \n",
    "g(x)\n",
    "print(x)"
   ]
  },
  {
   "cell_type": "code",
   "execution_count": null,
   "id": "b226b17c",
   "metadata": {},
   "outputs": [],
   "source": [
    "def f(y):\n",
    "    x = 1\n",
    "    x += 1\n",
    "    print(x)\n",
    "x = 5\n",
    "f(x)\n",
    "print(x)"
   ]
  },
  {
   "cell_type": "code",
   "execution_count": null,
   "id": "a2c17080",
   "metadata": {},
   "outputs": [],
   "source": [
    "def h(y):\n",
    "    x += 1\n",
    "x = 5\n",
    "h(x)\n",
    "print(x)"
   ]
  },
  {
   "cell_type": "code",
   "execution_count": null,
   "id": "882a6baa",
   "metadata": {},
   "outputs": [],
   "source": [
    "def f(x):\n",
    "   x = x + 1\n",
    "   print('in f(x): x =', x)\n",
    "   return x\n",
    "\n",
    "x = 3\n",
    "z = f(x)\n",
    "print('in main program scope: z =', z)\n",
    "print('in main program scope: x =', x)"
   ]
  },
  {
   "cell_type": "markdown",
   "id": "0158a365",
   "metadata": {},
   "source": [
    "#### Nested Functions"
   ]
  },
  {
   "cell_type": "code",
   "execution_count": null,
   "id": "f6d5b871",
   "metadata": {},
   "outputs": [],
   "source": [
    "def f():\n",
    "    def g():\n",
    "        print('inside function g')\n",
    "    g()\n",
    "    print('inside function f')"
   ]
  },
  {
   "cell_type": "code",
   "execution_count": null,
   "id": "d9977ee2",
   "metadata": {},
   "outputs": [],
   "source": [
    "f()"
   ]
  },
  {
   "cell_type": "code",
   "execution_count": null,
   "id": "b67c2a1c",
   "metadata": {},
   "outputs": [],
   "source": [
    "def f():\n",
    "    def g():\n",
    "        print('inside function g')\n",
    "        f()\n",
    "    g()\n",
    "    print('inside function f')"
   ]
  },
  {
   "cell_type": "code",
   "execution_count": null,
   "id": "cd923d2d",
   "metadata": {},
   "outputs": [],
   "source": [
    "f()"
   ]
  },
  {
   "cell_type": "code",
   "execution_count": null,
   "id": "e3611a47",
   "metadata": {},
   "outputs": [],
   "source": [
    "def g(x):\n",
    "    def h():\n",
    "        x = 'abc'\n",
    "    x = x + 1\n",
    "    print('in g(x): x =', x)\n",
    "    h()\n",
    "    return x\n",
    "\n",
    "x = 3\n",
    "z = g(x)"
   ]
  },
  {
   "cell_type": "code",
   "execution_count": null,
   "id": "72582ca0",
   "metadata": {},
   "outputs": [],
   "source": [
    "def g(x):\n",
    "    def h(x):\n",
    "        x = x+1\n",
    "        print(\"in h(x): x = \", x)\n",
    "    x = x + 1\n",
    "    print('in g(x): x = ', x)\n",
    "    h(x)\n",
    "    return x\n",
    "\n",
    "x = 3\n",
    "z = g(x)\n",
    "print('in main program scope: x = ', x)\n",
    "print('in main program scope: z = ', z)"
   ]
  },
  {
   "cell_type": "markdown",
   "id": "d8e89ee3",
   "metadata": {},
   "source": [
    "#### Functions are 1st class citizens"
   ]
  },
  {
   "cell_type": "code",
   "execution_count": null,
   "id": "641fc4bd",
   "metadata": {},
   "outputs": [],
   "source": [
    "def square(num):\n",
    "    return num**2\n",
    "print(type(square))\n",
    "a= 2\n",
    "print(type(a))\n",
    "print(id(square))"
   ]
  },
  {
   "cell_type": "code",
   "execution_count": null,
   "id": "1ddcbe9a",
   "metadata": {},
   "outputs": [],
   "source": [
    "x = square\n",
    "print(id(x))\n",
    "x(3)"
   ]
  },
  {
   "cell_type": "code",
   "execution_count": null,
   "id": "c85d6bad",
   "metadata": {},
   "outputs": [],
   "source": [
    "del square"
   ]
  },
  {
   "cell_type": "code",
   "execution_count": null,
   "id": "8d115d81",
   "metadata": {},
   "outputs": [],
   "source": [
    "square(3)"
   ]
  },
  {
   "cell_type": "code",
   "execution_count": null,
   "id": "dfd1eb9f",
   "metadata": {},
   "outputs": [],
   "source": [
    "lst = [1,2,3,square]\n",
    "print(lst)"
   ]
  },
  {
   "cell_type": "code",
   "execution_count": null,
   "id": "e7a6649a",
   "metadata": {},
   "outputs": [],
   "source": [
    "s = {square}\n",
    "print(s)   # its immutable"
   ]
  },
  {
   "cell_type": "markdown",
   "id": "a79fc21f",
   "metadata": {},
   "source": [
    "#### Returning a function"
   ]
  },
  {
   "cell_type": "code",
   "execution_count": null,
   "id": "4aa8af19",
   "metadata": {},
   "outputs": [],
   "source": [
    "def f():\n",
    "    def x(a, b):\n",
    "        return a+b\n",
    "    return x\n",
    "    \n",
    "val = f()(3,4)\n",
    "print(val)"
   ]
  },
  {
   "cell_type": "code",
   "execution_count": null,
   "id": "fa258a4a",
   "metadata": {},
   "outputs": [],
   "source": [
    "def func_a():\n",
    "    print('inside func_a')\n",
    "\n",
    "def func_b(z):\n",
    "    print('inside func_c')\n",
    "    return z()\n",
    "\n",
    "print(func_b(func_a))"
   ]
  },
  {
   "cell_type": "markdown",
   "id": "b2608d99",
   "metadata": {},
   "source": [
    "### Benefits of using a Function\n",
    "- Code Modularity\n",
    "- Code Readibility\n",
    "- Code Reusability"
   ]
  },
  {
   "cell_type": "markdown",
   "id": "8e74dc82",
   "metadata": {},
   "source": [
    "### Lambda Function\n",
    "    A lambda function is a small anonymous function.\n",
    "    A lambda function can take any number of arguments, but can only have one expression."
   ]
  },
  {
   "cell_type": "code",
   "execution_count": null,
   "id": "30f70ae8",
   "metadata": {},
   "outputs": [],
   "source": []
  },
  {
   "cell_type": "code",
   "execution_count": null,
   "id": "55a936bf",
   "metadata": {},
   "outputs": [],
   "source": []
  },
  {
   "cell_type": "code",
   "execution_count": null,
   "id": "2c14bc29",
   "metadata": {},
   "outputs": [],
   "source": []
  },
  {
   "cell_type": "code",
   "execution_count": null,
   "id": "bd758a96",
   "metadata": {},
   "outputs": [],
   "source": []
  },
  {
   "cell_type": "code",
   "execution_count": null,
   "id": "08a02869",
   "metadata": {},
   "outputs": [],
   "source": []
  },
  {
   "cell_type": "code",
   "execution_count": null,
   "id": "31eeab25",
   "metadata": {},
   "outputs": [],
   "source": []
  },
  {
   "cell_type": "code",
   "execution_count": null,
   "id": "e70f8a71",
   "metadata": {},
   "outputs": [],
   "source": []
  },
  {
   "cell_type": "code",
   "execution_count": null,
   "id": "f32d039a",
   "metadata": {},
   "outputs": [],
   "source": []
  },
  {
   "cell_type": "code",
   "execution_count": null,
   "id": "beaa7bda",
   "metadata": {},
   "outputs": [],
   "source": []
  },
  {
   "cell_type": "code",
   "execution_count": null,
   "id": "2457677a",
   "metadata": {},
   "outputs": [],
   "source": []
  },
  {
   "cell_type": "code",
   "execution_count": null,
   "id": "c37c16ff",
   "metadata": {},
   "outputs": [],
   "source": []
  },
  {
   "cell_type": "code",
   "execution_count": null,
   "id": "20117042",
   "metadata": {},
   "outputs": [],
   "source": []
  },
  {
   "cell_type": "code",
   "execution_count": null,
   "id": "1169dcf6",
   "metadata": {},
   "outputs": [],
   "source": []
  },
  {
   "cell_type": "code",
   "execution_count": null,
   "id": "78fa513e",
   "metadata": {},
   "outputs": [],
   "source": []
  },
  {
   "cell_type": "code",
   "execution_count": null,
   "id": "d3db8ea0",
   "metadata": {},
   "outputs": [],
   "source": []
  },
  {
   "cell_type": "code",
   "execution_count": null,
   "id": "f4cc4bfa",
   "metadata": {},
   "outputs": [],
   "source": []
  },
  {
   "cell_type": "code",
   "execution_count": null,
   "id": "899df908",
   "metadata": {},
   "outputs": [],
   "source": []
  },
  {
   "cell_type": "code",
   "execution_count": null,
   "id": "190ba9eb",
   "metadata": {},
   "outputs": [],
   "source": []
  },
  {
   "cell_type": "code",
   "execution_count": null,
   "id": "92703a78",
   "metadata": {},
   "outputs": [],
   "source": []
  }
 ],
 "metadata": {
  "kernelspec": {
   "display_name": "Python 3 (ipykernel)",
   "language": "python",
   "name": "python3"
  },
  "language_info": {
   "codemirror_mode": {
    "name": "ipython",
    "version": 3
   },
   "file_extension": ".py",
   "mimetype": "text/x-python",
   "name": "python",
   "nbconvert_exporter": "python",
   "pygments_lexer": "ipython3",
   "version": "3.11.4"
  }
 },
 "nbformat": 4,
 "nbformat_minor": 5
}
