{
 "cells": [
  {
   "cell_type": "markdown",
   "id": "3b63f3be",
   "metadata": {},
   "source": [
    "### Decorators and NameSpace"
   ]
  },
  {
   "cell_type": "markdown",
   "id": "ddeb9180",
   "metadata": {},
   "source": [
    "### Namespaces\n",
    "A namespace is a space that holds names(identifiers).Programmatically speaking, namespaces are dictionary of identifiers(keys) and their objects(values)\n",
    "\n",
    "There are 4 types of namespaces:\n",
    "\n",
    "- Builtin Namespace\n",
    "- Global Namespace\n",
    "- Enclosing Namespace\n",
    "- Local Namespace"
   ]
  },
  {
   "cell_type": "markdown",
   "id": "75d4150d",
   "metadata": {},
   "source": [
    "### Scope and LEGB Rule\n",
    "A scope is a textual region of a Python program where a namespace is directly accessible.\n",
    "\n",
    "The interpreter searches for a name from the inside out, looking in the local, enclosing, global, and finally \n",
    "the built-in scope. If the interpreter doesn’t find the name in any of these locations, \n",
    "then Python raises a NameError exception."
   ]
  },
  {
   "cell_type": "code",
   "execution_count": null,
   "id": "532a4b57",
   "metadata": {},
   "outputs": [],
   "source": [
    "# Local And Global Scope\n",
    "a = 2\n",
    "\n",
    "def temp():\n",
    "    # local var\n",
    "    b = 3\n",
    "    print(b)\n",
    "\n",
    "temp()\n",
    "print(a)\n",
    "\n",
    "# Here a is global namespace inside the global scope. \n",
    "# Local Namespace inside the local scope.\n",
    "# We can have same namespace in the global and local scope."
   ]
  },
  {
   "cell_type": "code",
   "execution_count": null,
   "id": "0141dc34",
   "metadata": {},
   "outputs": [],
   "source": [
    "# local and global -> same name\n",
    "a = 2\n",
    "\n",
    "def temp():\n",
    "    # local var\n",
    "    a = 3\n",
    "    print(a)\n",
    "\n",
    "temp()\n",
    "print(a)"
   ]
  },
  {
   "cell_type": "code",
   "execution_count": null,
   "id": "b3a6ccac",
   "metadata": {},
   "outputs": [],
   "source": [
    "# local and global -> local does not have but global has\n",
    "a = 2\n",
    "\n",
    "def temp():\n",
    "  # local var\n",
    "  print(a)\n",
    "\n",
    "temp()\n",
    "print(a)"
   ]
  },
  {
   "cell_type": "code",
   "execution_count": null,
   "id": "be3eec15",
   "metadata": {},
   "outputs": [],
   "source": [
    "# local and global -> editing global\n",
    "a = 2\n",
    "\n",
    "def temp():\n",
    "  # local var\n",
    "    a += 1\n",
    "    print(a)\n",
    "\n",
    "temp()\n",
    "print(a)\n",
    "#We can access the value from the global scope in the local scope but we can'nt make the changes in the global scope."
   ]
  },
  {
   "cell_type": "code",
   "execution_count": null,
   "id": "edf8672f",
   "metadata": {},
   "outputs": [],
   "source": [
    "a = 2\n",
    "\n",
    "def temp():\n",
    "  # local var\n",
    "    global a \n",
    "    a += 1\n",
    "    print(a)\n",
    "\n",
    "temp()\n",
    "print(a)"
   ]
  },
  {
   "cell_type": "code",
   "execution_count": null,
   "id": "a2a762d5",
   "metadata": {},
   "outputs": [],
   "source": [
    "# local and global -> global created inside local\n",
    "def temp():\n",
    "    # local var\n",
    "    global a\n",
    "    a = 1\n",
    "    print(a)\n",
    "\n",
    "temp()\n",
    "print(a)\n",
    "# Here we are creating the global variable in the local scope."
   ]
  },
  {
   "cell_type": "code",
   "execution_count": null,
   "id": "d068f2c3",
   "metadata": {},
   "outputs": [],
   "source": [
    "# local and global -> function parameter is local\n",
    "# \n",
    "def temp(z):\n",
    "    # local var\n",
    "    print(z)\n",
    "\n",
    "a = 5\n",
    "temp(5)\n",
    "print(a)\n",
    "print(z)"
   ]
  },
  {
   "cell_type": "markdown",
   "id": "af439535",
   "metadata": {},
   "source": [
    "### Built-In Scope"
   ]
  },
  {
   "cell_type": "code",
   "execution_count": null,
   "id": "53999c84",
   "metadata": {},
   "outputs": [],
   "source": [
    "print('Hello')  # print is the example of built in scope, type, input, str, min, len, sorted etc."
   ]
  },
  {
   "cell_type": "code",
   "execution_count": null,
   "id": "5a88bd4b",
   "metadata": {},
   "outputs": [],
   "source": [
    "# How to see all built in scope\n",
    "import builtins\n",
    "print(dir(builtins))"
   ]
  },
  {
   "cell_type": "code",
   "execution_count": null,
   "id": "a180e4c2",
   "metadata": {},
   "outputs": [],
   "source": [
    "L = [1,2,3]\n",
    "def max():\n",
    "    print('Hello')\n",
    "max(L)"
   ]
  },
  {
   "cell_type": "code",
   "execution_count": null,
   "id": "329a948b",
   "metadata": {},
   "outputs": [],
   "source": [
    "# Enclosing scope:- when we have nested function we are able to see the enclosing scope.\n",
    "def outer():\n",
    "    # a = 3\n",
    "    def inner():\n",
    "        # a = 4\n",
    "        print(a)\n",
    "        print('Inner function')\n",
    "    inner()\n",
    "    print('Outer Function')\n",
    "# a = 1\n",
    "outer()\n",
    "print('Main Program')"
   ]
  },
  {
   "cell_type": "code",
   "execution_count": null,
   "id": "0f65c4ca",
   "metadata": {},
   "outputs": [],
   "source": [
    "# Nonlocal Keyword\n",
    "# nonlocal keyword\n",
    "def outer():\n",
    "    a = 1\n",
    "    def inner():\n",
    "        nonlocal a\n",
    "        a += 1\n",
    "        print('inner',a)\n",
    "    inner()\n",
    "    print('outer',a)\n",
    "\n",
    "\n",
    "outer()\n",
    "print('main program')"
   ]
  },
  {
   "cell_type": "markdown",
   "id": "5cbdbb6e",
   "metadata": {},
   "source": [
    "### Decorators\n",
    "    A decorator in python is a function that receives another function as input and adds some \n",
    "    functionality(decoration) to and it and returns it.\n",
    "\n",
    "    This can happen only because python functions are 1st class citizens.\n",
    "\n",
    "    There are 2 types of decorators available in python\n",
    "\n",
    "    Built in decorators like @staticmethod, @classmethod, @abstractmethod and @property etc\n",
    "    User defined decorators that we programmers can create according to our needs"
   ]
  },
  {
   "cell_type": "code",
   "execution_count": null,
   "id": "3901bcf5",
   "metadata": {},
   "outputs": [],
   "source": [
    "# Python functions are first class citizen\n",
    "def func():\n",
    "    print('Hello')\n",
    "    \n",
    "a = func\n",
    "a()"
   ]
  },
  {
   "cell_type": "code",
   "execution_count": null,
   "id": "dc1d54d2",
   "metadata": {},
   "outputs": [],
   "source": [
    "def func():\n",
    "    print('Hello')\n",
    "    \n",
    "del func\n",
    "func()"
   ]
  },
  {
   "cell_type": "code",
   "execution_count": null,
   "id": "d62d90fa",
   "metadata": {},
   "outputs": [],
   "source": [
    "def modify2(func,num):\n",
    "    return func(num)\n",
    "\n",
    "def square(num):\n",
    "    return num**2\n",
    "\n",
    "modify2(square,2)"
   ]
  },
  {
   "cell_type": "code",
   "execution_count": null,
   "id": "3c9dfb05",
   "metadata": {},
   "outputs": [],
   "source": [
    "# Simple Example\n",
    "def my_decorator(func):\n",
    "    def wrapper():\n",
    "        print('*******************************')\n",
    "        func()\n",
    "        print('*******************************')\n",
    "    return wrapper\n",
    "\n",
    "def hello():\n",
    "    print('Hello')\n",
    "    \n",
    "def display():\n",
    "    print('Hello Nitish')\n",
    "    \n",
    "a = my_decorator(hello)\n",
    "a()\n",
    "\n",
    "b = my_decorator(display)\n",
    "b()"
   ]
  },
  {
   "cell_type": "code",
   "execution_count": null,
   "id": "a44a3bd1",
   "metadata": {},
   "outputs": [],
   "source": [
    "def outer():\n",
    "    a = 5 \n",
    "    def inner():\n",
    "        print(a)\n",
    "    return inner\n",
    "b = outer()\n",
    "b()\n",
    "\n",
    "# It follows the clouse property which means that if the outer function is destroyed still the inner func use it values."
   ]
  },
  {
   "cell_type": "code",
   "execution_count": null,
   "id": "a6ca7f91",
   "metadata": {},
   "outputs": [],
   "source": [
    "def my_decorator(func):\n",
    "    def wrapper():\n",
    "        print('*******************************')\n",
    "        func()\n",
    "        print('*******************************')\n",
    "    return wrapper\n",
    "\n",
    "@my_decorator\n",
    "def hello():\n",
    "    print('Hello')\n",
    "    \n",
    "hello()"
   ]
  },
  {
   "cell_type": "code",
   "execution_count": null,
   "id": "99b51b1f",
   "metadata": {},
   "outputs": [],
   "source": [
    "# Here we are calculating the time taken by each program to execute with the help of decorator.\n",
    "import time\n",
    "\n",
    "def timer(func):\n",
    "    def wrapper(*args):\n",
    "        start = time.time()\n",
    "        func(*args)\n",
    "        print('The time Taken by the',func.__name__, 'is', time.time()-start,'secs')\n",
    "    return wrapper\n",
    "\n",
    "@timer\n",
    "def hello():\n",
    "    print('Hello World')\n",
    "    time.sleep(2)\n",
    "\n",
    "@timer\n",
    "def display():\n",
    "    print('Display Something')\n",
    "    time.sleep(4)\n",
    "\n",
    "@timer\n",
    "def square(num):\n",
    "    time.sleep(1)\n",
    "    print('The square is', num**2)\n",
    "    \n",
    "@timer\n",
    "def pow(a,b):\n",
    "    time.sleep(6)\n",
    "    print('The power is ', a**b)\n",
    "    \n",
    "hello()\n",
    "display()\n",
    "square(2)\n",
    "pow(2,3)"
   ]
  },
  {
   "cell_type": "code",
   "execution_count": null,
   "id": "008f2c4d",
   "metadata": {},
   "outputs": [],
   "source": [
    "# A big Problem\n",
    "def sanity_check(data_type):\n",
    "    def outer_wrapper(func):\n",
    "        def inner_wrapper(*args):\n",
    "            if type(*args) == data_type:\n",
    "                func(*args)\n",
    "            else:\n",
    "                raise TypeError('Ye Datatype nhi h')\n",
    "        return inner_wrapper\n",
    "    return outer_wrapper"
   ]
  },
  {
   "cell_type": "code",
   "execution_count": null,
   "id": "860ec2f2",
   "metadata": {},
   "outputs": [],
   "source": [
    "@sanity_check(int)\n",
    "def square(num):\n",
    "    print(num**2)"
   ]
  },
  {
   "cell_type": "code",
   "execution_count": null,
   "id": "68ea8f29",
   "metadata": {},
   "outputs": [],
   "source": [
    "square(2)"
   ]
  },
  {
   "cell_type": "markdown",
   "id": "3ee4aed3",
   "metadata": {},
   "source": [
    "# Advance Python Concepts\n",
    "### Iterators\n",
    "\n",
    "#### What is an Iteration\n",
    "\n",
    "    Iteration is a general term for taking each item of something, one after another. Any time you use a loop, \n",
    "    explicit or implicit, to go over a group of items, that is iteration.\n",
    "    \n",
    "    "
   ]
  },
  {
   "cell_type": "code",
   "execution_count": null,
   "id": "52ce495f",
   "metadata": {},
   "outputs": [],
   "source": [
    "# Example\n",
    "num = [1,2,3]\n",
    "for i in num:\n",
    "    print(i)\n"
   ]
  },
  {
   "cell_type": "markdown",
   "id": "a450ae6a",
   "metadata": {},
   "source": [
    "#### What is Iterator:\n",
    "\n",
    "    An Iterator is an object that allows the programmer to traverse through a sequence of data without having \n",
    "    to store the entire data in the memory.\n",
    "    \n",
    "    "
   ]
  },
  {
   "cell_type": "code",
   "execution_count": null,
   "id": "3483d17c",
   "metadata": {},
   "outputs": [],
   "source": [
    "import sys\n",
    "lst = [x for x in range(100000)]\n",
    "# for i in lst:\n",
    "#     print(i*2)\n",
    "\n",
    "print(sys.getsizeof(lst)/1024)\n",
    "\n",
    "x = range(1,100000)\n",
    "\n",
    "print(sys.getsizeof(x)/1024)\n"
   ]
  },
  {
   "cell_type": "markdown",
   "id": "bfb5d3e8",
   "metadata": {},
   "source": [
    "### What is Iterable\n",
    "    Iterable is an object, which one can iterate over\n",
    "\n",
    "    It generates an Iterator when passed to iter() method."
   ]
  },
  {
   "cell_type": "code",
   "execution_count": null,
   "id": "e4b4c825",
   "metadata": {},
   "outputs": [],
   "source": [
    "# Example\n",
    "# Here lst is a iterable\n",
    "lst = [1,2,3]\n",
    "print(type(lst))\n",
    "\n",
    "print(type(iter(lst)))\n",
    "# Here iter(lst) --> iterator\n",
    "\n"
   ]
  },
  {
   "cell_type": "markdown",
   "id": "c9a82185",
   "metadata": {},
   "source": [
    "#### Point to remember\n",
    "- Every Iterator is also and Iterable\n",
    "- Not all Iterables are Iterators"
   ]
  },
  {
   "cell_type": "markdown",
   "id": "82207657",
   "metadata": {},
   "source": [
    "#### Trick\n",
    "- Every Iterable has an iter function\n",
    "- Every Iterator has both iter function as well as a next function"
   ]
  },
  {
   "cell_type": "code",
   "execution_count": null,
   "id": "976c65e6",
   "metadata": {
    "scrolled": true
   },
   "outputs": [],
   "source": [
    "a = 2\n",
    "\n",
    "# for i in a:\n",
    "#     print(i)\n",
    "    \n",
    "dir(a)"
   ]
  },
  {
   "cell_type": "code",
   "execution_count": null,
   "id": "6058de8c",
   "metadata": {
    "scrolled": true
   },
   "outputs": [],
   "source": [
    "tup = (1,2,3)\n",
    "dir(a)"
   ]
  },
  {
   "cell_type": "code",
   "execution_count": null,
   "id": "f867782f",
   "metadata": {},
   "outputs": [],
   "source": [
    "# Understanding How For loops works\n",
    "num = [1,2,3]\n",
    "for i in num:\n",
    "    print(i)"
   ]
  },
  {
   "cell_type": "code",
   "execution_count": null,
   "id": "725a0471",
   "metadata": {},
   "outputs": [],
   "source": [
    "# It will fetch the iterator first\n",
    "iter_num = iter(num)\n",
    "print(iter_num)\n",
    "\n",
    "# With the help of next func it will iterate the datatype in python.\n",
    "print(next(iter_num))\n",
    "print(next(iter_num))\n",
    "print(next(iter_num))\n",
    "print(next(iter_num))"
   ]
  },
  {
   "cell_type": "code",
   "execution_count": null,
   "id": "0c584161",
   "metadata": {},
   "outputs": [],
   "source": [
    "def mera_khudka_for_loop(iterable):\n",
    "    \n",
    "    iterator = iter(iterable)\n",
    "    while True:\n",
    "        try:\n",
    "            print(next(iterator))\n",
    "        except StopIteration:\n",
    "            break"
   ]
  },
  {
   "cell_type": "code",
   "execution_count": null,
   "id": "c1b4169f",
   "metadata": {},
   "outputs": [],
   "source": [
    "a = [1,2,3]\n",
    "b = range(1,11)\n",
    "c = (1,2,3)\n",
    "d = {1,2,3}\n",
    "e = {0:1,1:1}"
   ]
  },
  {
   "cell_type": "code",
   "execution_count": null,
   "id": "604fc391",
   "metadata": {},
   "outputs": [],
   "source": [
    "mera_khudka_for_loop(e)"
   ]
  },
  {
   "cell_type": "code",
   "execution_count": null,
   "id": "b66fe73d",
   "metadata": {},
   "outputs": [],
   "source": [
    "# A confusing Point\n",
    "num = [1,2,3]\n",
    "\n",
    "iter_obj = iter(num)\n",
    "print(id(iter_obj), 'Address of Iterator Object 1')\n",
    "\n",
    "iter_obj1 = iter(iter_obj)\n",
    "print(id(iter_obj), 'Address of Iterator Object 2')"
   ]
  },
  {
   "cell_type": "markdown",
   "id": "1ea94a8a",
   "metadata": {},
   "source": [
    "### Lets Create Our own Range function"
   ]
  },
  {
   "cell_type": "code",
   "execution_count": null,
   "id": "17940206",
   "metadata": {},
   "outputs": [],
   "source": [
    "class MeraRange:\n",
    "    \n",
    "    def __init__(self,start,end):\n",
    "        self.start = start\n",
    "        self.end = end\n",
    "        \n",
    "    def __iter__(self):\n",
    "        return MeraRangeIterator(self)\n",
    "    \n",
    "class MeraRangeIterator:\n",
    "    \n",
    "    def __init__(self,iterable_obj):\n",
    "        self.iterable = iterable_obj\n",
    "        \n",
    "    def __iter__(self):\n",
    "        return self\n",
    "    \n",
    "    def __next__(self):\n",
    "        if self.iterable.start >= self.iterable.end:\n",
    "            raise StopIteration\n",
    "        else:\n",
    "            current = self.iterable.start\n",
    "            self.iterable.start += 1\n",
    "            return current"
   ]
  },
  {
   "cell_type": "code",
   "execution_count": null,
   "id": "32b4aada",
   "metadata": {},
   "outputs": [],
   "source": [
    "for i in MeraRange(1,11):\n",
    "    print(i)"
   ]
  },
  {
   "cell_type": "code",
   "execution_count": null,
   "id": "c29a4d9b",
   "metadata": {},
   "outputs": [],
   "source": [
    "x = MeraRange(1,11)\n",
    "print(x)"
   ]
  },
  {
   "cell_type": "code",
   "execution_count": null,
   "id": "b30a0fb4",
   "metadata": {},
   "outputs": [],
   "source": [
    "print(type(x))"
   ]
  },
  {
   "cell_type": "markdown",
   "id": "6c145ffe",
   "metadata": {},
   "source": [
    "### Generators\n",
    "    What is a Generator\n",
    "    Python generators are a simple way of creating iterators."
   ]
  },
  {
   "cell_type": "code",
   "execution_count": null,
   "id": "027eddf9",
   "metadata": {},
   "outputs": [],
   "source": [
    "# A Simple Example\n",
    "def gen_demo():\n",
    "    yield \"First Statement\" \n",
    "    yield \"Second Statement\"\n",
    "    yield \"Third Statement\"\n",
    "    \n",
    "gen = gen_demo()"
   ]
  },
  {
   "cell_type": "code",
   "execution_count": null,
   "id": "1feb2756",
   "metadata": {},
   "outputs": [],
   "source": [
    "gen"
   ]
  },
  {
   "cell_type": "code",
   "execution_count": null,
   "id": "928992f1",
   "metadata": {},
   "outputs": [],
   "source": [
    "print(next(gen))\n",
    "print(next(gen))\n",
    "print(next(gen))\n",
    "print(next(gen))"
   ]
  },
  {
   "cell_type": "markdown",
   "id": "7cdecb11",
   "metadata": {},
   "source": [
    "#### Python (Yield Vs Return statement)\n",
    "\n",
    "    Normal function will run one time and remove from the memory but generator is the special function jo kya karta h \n",
    "    tempraory stop kr jata h and jo apna state h jo variable ka value h usko yaad rakhta h. jab hum 2nd time call karte h \n",
    "    toh wo wahi se start hota h jaha pr khtam hua hota h."
   ]
  },
  {
   "cell_type": "code",
   "execution_count": 3,
   "id": "6dc1a07c",
   "metadata": {},
   "outputs": [],
   "source": [
    "# Another example\n",
    "def square(num):\n",
    "    for i in range(1,num+1):\n",
    "        yield i**2"
   ]
  },
  {
   "cell_type": "code",
   "execution_count": 2,
   "id": "237156b5",
   "metadata": {},
   "outputs": [],
   "source": [
    "gen = square(10)"
   ]
  },
  {
   "cell_type": "code",
   "execution_count": 4,
   "id": "3762cfe7",
   "metadata": {},
   "outputs": [
    {
     "name": "stdout",
     "output_type": "stream",
     "text": [
      "1\n",
      "4\n"
     ]
    }
   ],
   "source": [
    "print(next(gen))\n",
    "print(next(gen))"
   ]
  },
  {
   "cell_type": "code",
   "execution_count": 5,
   "id": "01643d4d",
   "metadata": {},
   "outputs": [
    {
     "name": "stdout",
     "output_type": "stream",
     "text": [
      "9\n",
      "16\n",
      "25\n",
      "36\n",
      "49\n",
      "64\n",
      "81\n",
      "100\n"
     ]
    }
   ],
   "source": [
    "for i in gen:\n",
    "    print(i)"
   ]
  },
  {
   "cell_type": "markdown",
   "id": "9081a6f4",
   "metadata": {},
   "source": [
    "### Range function using Generators:\n"
   ]
  },
  {
   "cell_type": "code",
   "execution_count": 6,
   "id": "da1a7287",
   "metadata": {},
   "outputs": [],
   "source": [
    "def mera_range(start,end):\n",
    "    for i in range(start,end):\n",
    "        yield i"
   ]
  },
  {
   "cell_type": "code",
   "execution_count": 7,
   "id": "f56a96ca",
   "metadata": {},
   "outputs": [
    {
     "name": "stdout",
     "output_type": "stream",
     "text": [
      "15\n",
      "16\n",
      "17\n",
      "18\n",
      "19\n",
      "20\n",
      "21\n",
      "22\n",
      "23\n",
      "24\n"
     ]
    }
   ],
   "source": [
    "for i in mera_range(15,25):\n",
    "    print(i)"
   ]
  },
  {
   "cell_type": "markdown",
   "id": "036fe57d",
   "metadata": {},
   "source": [
    "### Generators Expression:"
   ]
  },
  {
   "cell_type": "code",
   "execution_count": 9,
   "id": "5a420e23",
   "metadata": {},
   "outputs": [
    {
     "data": {
      "text/plain": [
       "[1, 4, 9, 16, 25, 36, 49, 64, 81]"
      ]
     },
     "execution_count": 9,
     "metadata": {},
     "output_type": "execute_result"
    }
   ],
   "source": [
    "# List comprehension \n",
    "lst = [i**2 for i in range(1,10)]\n",
    "lst"
   ]
  },
  {
   "cell_type": "code",
   "execution_count": 12,
   "id": "8ae393ac",
   "metadata": {},
   "outputs": [
    {
     "name": "stdout",
     "output_type": "stream",
     "text": [
      "<generator object <genexpr> at 0x000002BD490EBED0>\n",
      "1\n",
      "4\n",
      "9\n",
      "16\n",
      "25\n",
      "36\n",
      "49\n",
      "64\n",
      "81\n"
     ]
    }
   ],
   "source": [
    "# generator comprehension\n",
    "gen = (i**2 for i in range(1,10))\n",
    "print(gen)\n",
    "for i in gen:\n",
    "    print(i)"
   ]
  },
  {
   "cell_type": "markdown",
   "id": "3d4dcd4b",
   "metadata": {},
   "source": [
    "### Benefits of Using Generators:\n",
    "    1). Ease of Implementation\n",
    "    2). Memory Efficient\n",
    "    3). Representing Infinite Streams\n",
    "    4). Chaining Generators"
   ]
  },
  {
   "cell_type": "code",
   "execution_count": 13,
   "id": "9c07ee3a",
   "metadata": {},
   "outputs": [
    {
     "name": "stdout",
     "output_type": "stream",
     "text": [
      "Size of L in memory 800984\n",
      "Size of gen in memory 200\n"
     ]
    }
   ],
   "source": [
    "# Memory Efficient\n",
    "L = [x for x in range(100000)]\n",
    "gen = (x for x in range(100000))\n",
    "\n",
    "import sys\n",
    "\n",
    "print('Size of L in memory',sys.getsizeof(L))\n",
    "print('Size of gen in memory',sys.getsizeof(gen))"
   ]
  },
  {
   "cell_type": "code",
   "execution_count": 14,
   "id": "be7cb47b",
   "metadata": {},
   "outputs": [],
   "source": [
    "# Representing Infinite Streams\n",
    "def all_even():\n",
    "    n = 0\n",
    "    while True:\n",
    "        yield n\n",
    "        n += 2"
   ]
  },
  {
   "cell_type": "code",
   "execution_count": 15,
   "id": "6664183e",
   "metadata": {},
   "outputs": [
    {
     "data": {
      "text/plain": [
       "2"
      ]
     },
     "execution_count": 15,
     "metadata": {},
     "output_type": "execute_result"
    }
   ],
   "source": [
    "even_num_gen = all_even()\n",
    "next(even_num_gen)\n",
    "next(even_num_gen)"
   ]
  },
  {
   "cell_type": "code",
   "execution_count": 16,
   "id": "c3b46edc",
   "metadata": {},
   "outputs": [
    {
     "name": "stdout",
     "output_type": "stream",
     "text": [
      "4895\n"
     ]
    }
   ],
   "source": [
    "# Chaining Generators\n",
    "def fibonacci_numbers(nums):\n",
    "    x, y = 0, 1\n",
    "    for _ in range(nums):\n",
    "        x, y = y, x+y\n",
    "        yield x\n",
    "\n",
    "def square(nums):\n",
    "    for num in nums:\n",
    "        yield num**2\n",
    "\n",
    "print(sum(square(fibonacci_numbers(10))))"
   ]
  },
  {
   "cell_type": "code",
   "execution_count": null,
   "id": "ed3f6e16",
   "metadata": {},
   "outputs": [],
   "source": []
  },
  {
   "cell_type": "code",
   "execution_count": null,
   "id": "fdf7ce9d",
   "metadata": {},
   "outputs": [],
   "source": []
  }
 ],
 "metadata": {
  "kernelspec": {
   "display_name": "Python 3 (ipykernel)",
   "language": "python",
   "name": "python3"
  },
  "language_info": {
   "codemirror_mode": {
    "name": "ipython",
    "version": 3
   },
   "file_extension": ".py",
   "mimetype": "text/x-python",
   "name": "python",
   "nbconvert_exporter": "python",
   "pygments_lexer": "ipython3",
   "version": "3.11.4"
  }
 },
 "nbformat": 4,
 "nbformat_minor": 5
}
