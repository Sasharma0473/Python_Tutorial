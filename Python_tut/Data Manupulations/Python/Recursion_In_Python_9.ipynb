{
 "cells": [
  {
   "cell_type": "markdown",
   "id": "8cb13ff6",
   "metadata": {},
   "source": [
    "### What is Recursion\n",
    "    Recursion is a technique where the function that we have written calls itself.\n",
    "    \n",
    "    Iterative and Recursive:--\n",
    "    --------------------------\n",
    "    So generally we used to prefer the iteration process because its more efficient then the recursive process. \n",
    "    \n",
    "    so for example 3*4 =12\n",
    "    3+3*3 = 12\n",
    "    3+3+3*2 = 12\n",
    "    3+3+3+1*3 = 12\n",
    "    \n",
    "    so here we can clearly see that the base condition is b = 1 then a*b = a always."
   ]
  },
  {
   "cell_type": "code",
   "execution_count": null,
   "id": "b0b663c7",
   "metadata": {},
   "outputs": [],
   "source": [
    "def mul(a,b):\n",
    "    multi = a*b\n",
    "    return multi\n",
    "result = mul(5,6) \n",
    "print(result)"
   ]
  },
  {
   "cell_type": "code",
   "execution_count": null,
   "id": "5c495b9b",
   "metadata": {},
   "outputs": [],
   "source": [
    "def multiply(a,b):\n",
    "    if b ==1:\n",
    "        return a\n",
    "    else:\n",
    "        return a + multiply(a,b-1)\n",
    "print(multiply(5,6))"
   ]
  },
  {
   "cell_type": "code",
   "execution_count": null,
   "id": "d00680d6",
   "metadata": {},
   "outputs": [],
   "source": [
    "\"\"\"\n",
    "5! = 5*4!\n",
    "4! = 4*3!\n",
    "3! = 3*2!\n",
    "2! = 2*1!\n",
    "1! = 1*0!\n",
    "0! = 1\n",
    "\"\"\"\n",
    "def factorial(number):\n",
    "    if number ==1:\n",
    "        return 1\n",
    "    else:\n",
    "        return number * factorial(number-1)\n",
    "print(factorial(5))"
   ]
  },
  {
   "cell_type": "code",
   "execution_count": null,
   "id": "6c2fd63e",
   "metadata": {},
   "outputs": [],
   "source": [
    "# Palindrome using recursion\n",
    "\"\"\"\n",
    "Base condition:- Every single character it itself is the palindrome.\n",
    "then we will check whether the starting and ending of string is equal or not.\n",
    "\"\"\"\n",
    "def palindrome(text):\n",
    "    if len(text) <= 1:\n",
    "        print(\"This is Palindrome\")\n",
    "    else:\n",
    "        if text[0] == text[len(text)-1]:\n",
    "            palindrome(text[1:-1])\n",
    "        else:\n",
    "            print(\"Not a Plaindrome\")\n",
    "print(palindrome('MadaM'))\n",
    "print(palindrome('abcd'))\n",
    "print(palindrome('abba'))"
   ]
  },
  {
   "cell_type": "code",
   "execution_count": 2,
   "id": "ac4899ea",
   "metadata": {},
   "outputs": [
    {
     "name": "stdout",
     "output_type": "stream",
     "text": [
      "233\n"
     ]
    }
   ],
   "source": [
    "# Rabbit Problem\n",
    "# If 2 newborn rabbit are put in the pen how many rabbit will be in the pen after 1 years\n",
    "# Conditions:- \n",
    "# Always Produce one male and one female, Can produce every month, Can produce once they are 1 month old.\n",
    "\n",
    "def fib(m):\n",
    "    if m ==0 or m ==1:\n",
    "        return 1\n",
    "    else:\n",
    "        return fib(m-1) + fib(m-2)\n",
    "print(fib(12))"
   ]
  },
  {
   "cell_type": "code",
   "execution_count": null,
   "id": "3bcf7a3f",
   "metadata": {},
   "outputs": [],
   "source": []
  },
  {
   "cell_type": "code",
   "execution_count": null,
   "id": "1813178b",
   "metadata": {},
   "outputs": [],
   "source": []
  },
  {
   "cell_type": "code",
   "execution_count": null,
   "id": "69f119a1",
   "metadata": {},
   "outputs": [],
   "source": []
  },
  {
   "cell_type": "code",
   "execution_count": null,
   "id": "793182eb",
   "metadata": {},
   "outputs": [],
   "source": []
  },
  {
   "cell_type": "code",
   "execution_count": null,
   "id": "890117a0",
   "metadata": {},
   "outputs": [],
   "source": []
  }
 ],
 "metadata": {
  "kernelspec": {
   "display_name": "Python 3 (ipykernel)",
   "language": "python",
   "name": "python3"
  },
  "language_info": {
   "codemirror_mode": {
    "name": "ipython",
    "version": 3
   },
   "file_extension": ".py",
   "mimetype": "text/x-python",
   "name": "python",
   "nbconvert_exporter": "python",
   "pygments_lexer": "ipython3",
   "version": "3.11.4"
  }
 },
 "nbformat": 4,
 "nbformat_minor": 5
}
