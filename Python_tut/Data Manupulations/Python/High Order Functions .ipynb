{
 "cells": [
  {
   "cell_type": "markdown",
   "id": "4183d7ca",
   "metadata": {},
   "source": [
    "# Lambda Function \n",
    "\n",
    "These are the anynomous functions. These function write in one line. \n",
    "\n",
    "UseCase:-- We will not use the lambda func alone. we will use it with higher order func. Higher order func means a func \n",
    "which need one input function to work on. or either the return statement is a function. \n",
    "\n",
    "Syntax -- \n",
    "lambda input:expression\n",
    "\n",
    "Difference in normal function and lambda function :-\n",
    "\n",
    "lambda has no return value. \n",
    "Lambda function return the function itself instead of some value. \n",
    "\n",
    "Can only be written in one line. We can use lambda function only ones. These are not resuable function. It has No name. "
   ]
  },
  {
   "cell_type": "code",
   "execution_count": 1,
   "id": "5fb502dc",
   "metadata": {},
   "outputs": [
    {
     "data": {
      "text/plain": [
       "81"
      ]
     },
     "execution_count": 1,
     "metadata": {},
     "output_type": "execute_result"
    },
    {
     "data": {
      "text/plain": [
       "81"
      ]
     },
     "execution_count": 1,
     "metadata": {},
     "output_type": "execute_result"
    }
   ],
   "source": [
    "x = lambda x:x**2\n",
    "x(9)"
   ]
  },
  {
   "cell_type": "code",
   "execution_count": 2,
   "id": "4641829e",
   "metadata": {},
   "outputs": [],
   "source": [
    "a = lambda x,y: x+y\n",
    "a(2,5)"
   ]
  },
  {
   "cell_type": "code",
   "execution_count": 3,
   "id": "a5aa84de",
   "metadata": {},
   "outputs": [
    {
     "name": "stdout",
     "output_type": "stream",
     "text": [
      "True\n",
      "===================\n",
      "False\n"
     ]
    }
   ],
   "source": [
    "str1 = lambda x:x[0]=='a'\n",
    "print(str1('apple'))\n",
    "print(\"===================\")\n",
    "print(str1('banana'))"
   ]
  },
  {
   "cell_type": "code",
   "execution_count": 4,
   "id": "314d244b",
   "metadata": {},
   "outputs": [
    {
     "name": "stdout",
     "output_type": "stream",
     "text": [
      "even\n",
      "odd\n"
     ]
    }
   ],
   "source": [
    "# given number is odd or even\n",
    "num_check = lambda x:\"even\" if x%2==0 else \"odd\"\n",
    "print(num_check(12))\n",
    "print(num_check(11))"
   ]
  },
  {
   "cell_type": "code",
   "execution_count": 17,
   "id": "5af6e626",
   "metadata": {},
   "outputs": [
    {
     "name": "stdout",
     "output_type": "stream",
     "text": [
      "308\n",
      "106\n",
      "207\n"
     ]
    }
   ],
   "source": [
    "# In this we have created a func which return 3 output \n",
    "# 1st output - Return the sum of even number \n",
    "# 2nd output - Return the sum of odd number \n",
    "# 3rd output - return the sum of numbers divisble by 3.\n",
    "# Higher Order Functions:-\n",
    "\n",
    "def return_sum(func,lst):\n",
    "    result = 0\n",
    "    for i in lst:\n",
    "        if func(i):\n",
    "            result = result +i\n",
    "    return result \n",
    "\n",
    "lst = [12,13,14,11,56,76,54,37,45,30,66]\n",
    "\n",
    "x = lambda x: x%2 == 0\n",
    "y = lambda x: x%2 != 0\n",
    "z = lambda x: x%3 == 0\n",
    "\n",
    "print(return_sum(x,lst))\n",
    "print(return_sum(y,lst))\n",
    "print(return_sum(z,lst))"
   ]
  },
  {
   "cell_type": "code",
   "execution_count": 6,
   "id": "0d763675",
   "metadata": {},
   "outputs": [],
   "source": [
    "# There are three main in bulit higher order function:\n",
    "# Map, filter , Reduce"
   ]
  },
  {
   "cell_type": "markdown",
   "id": "6dcc63ec",
   "metadata": {},
   "source": [
    "# MAP\n",
    "MAP will take the 2 argument one is func and other one is iterable.\n",
    "\n",
    "Map will perform some operation on each item of list."
   ]
  },
  {
   "cell_type": "code",
   "execution_count": 7,
   "id": "55a27c19",
   "metadata": {},
   "outputs": [
    {
     "name": "stdout",
     "output_type": "stream",
     "text": [
      "<map object at 0x00000225F31FDEA0>\n",
      "[2, 4, 6, 8, 10]\n"
     ]
    }
   ],
   "source": [
    "lst = [1,2,3,4,5]\n",
    "lst_out = map(lambda x: x*2, lst)  # This Map func will return the map object. \n",
    "                                    #Now to change this map object to list we will use list func \n",
    "print(lst_out)  \n",
    "\n",
    "lst_data = list(map(lambda x: x*2, lst))\n",
    "print(lst_data)"
   ]
  },
  {
   "cell_type": "code",
   "execution_count": 23,
   "id": "5219fcc9",
   "metadata": {},
   "outputs": [
    {
     "name": "stdout",
     "output_type": "stream",
     "text": [
      "[True, True, False, False, True, True]\n"
     ]
    }
   ],
   "source": [
    "lst = [2,14,7,5,16,20]\n",
    "\n",
    "check_even = list(map(lambda x: x%2 == 0, lst))  # It will take 2 argument func and iterable.\n",
    "print(check_even)"
   ]
  },
  {
   "cell_type": "code",
   "execution_count": 24,
   "id": "5c3b9d64",
   "metadata": {},
   "outputs": [
    {
     "data": {
      "text/plain": [
       "[{'name': 'Sahil Sharma',\n",
       "  'father name': 'Anupam Sharma',\n",
       "  'address': 'Raja Park'},\n",
       " {'name': 'Arpit Sharma',\n",
       "  'father name': 'Rahul Sharma',\n",
       "  'address': 'Punjabi Bagh'},\n",
       " {'name': 'Harshit Sharma',\n",
       "  'father name': 'Shiv Sharma',\n",
       "  'address': 'Rajori Garden'}]"
      ]
     },
     "execution_count": 24,
     "metadata": {},
     "output_type": "execute_result"
    }
   ],
   "source": [
    "Student_data = [\n",
    "    {\n",
    "        \"name\": \"Sahil Sharma\",\n",
    "        \"father name\": \"Anupam Sharma\",\n",
    "        \"address\": \"Raja Park\"\n",
    "    },\n",
    "    \n",
    "    {\n",
    "        \"name\": \"Arpit Sharma\",\n",
    "        \"father name\": \"Rahul Sharma\",\n",
    "        \"address\": \"Punjabi Bagh\"\n",
    "    },\n",
    "    \n",
    "    {\n",
    "        \"name\": \"Harshit Sharma\",\n",
    "        \"father name\": \"Shiv Sharma\",\n",
    "        \"address\": \"Rajori Garden\"\n",
    "    }\n",
    "]\n",
    "Student_data"
   ]
  },
  {
   "cell_type": "code",
   "execution_count": 25,
   "id": "6737c16d",
   "metadata": {},
   "outputs": [
    {
     "name": "stdout",
     "output_type": "stream",
     "text": [
      "['Raja Park', 'Punjabi Bagh', 'Rajori Garden']\n"
     ]
    }
   ],
   "source": [
    "name_list = list(map(lambda x:x[\"address\"],Student_data))\n",
    "print(name_list)"
   ]
  },
  {
   "cell_type": "markdown",
   "id": "a6f7e3b2",
   "metadata": {},
   "source": [
    "# Filter \n",
    "It will filter out the data from the list on the basis of given condition"
   ]
  },
  {
   "cell_type": "code",
   "execution_count": 11,
   "id": "5bbf0798",
   "metadata": {},
   "outputs": [
    {
     "name": "stdout",
     "output_type": "stream",
     "text": [
      "[14, 16, 20]\n"
     ]
    }
   ],
   "source": [
    "list_filter = list(filter(lambda x:x>10, lst))\n",
    "print(list_filter)"
   ]
  },
  {
   "cell_type": "code",
   "execution_count": 12,
   "id": "38f71c0e",
   "metadata": {},
   "outputs": [
    {
     "name": "stdout",
     "output_type": "stream",
     "text": [
      "['apple', 'orange']\n"
     ]
    }
   ],
   "source": [
    "fruits = ['apple','orange','mango','guava']\n",
    "fruit_data = list(filter(lambda x: 'e' in x , fruits))\n",
    "print(fruit_data)"
   ]
  },
  {
   "cell_type": "markdown",
   "id": "011183f3",
   "metadata": {},
   "source": [
    "# Reduce\n",
    "It will basically reduce the list. We have to import the certain libaray functools"
   ]
  },
  {
   "cell_type": "code",
   "execution_count": 13,
   "id": "1097b9b4",
   "metadata": {},
   "outputs": [
    {
     "name": "stdout",
     "output_type": "stream",
     "text": [
      "64\n"
     ]
    }
   ],
   "source": [
    "import functools\n",
    "lst = [2,14,7,5,16,20]\n",
    "reduce_data = functools.reduce(lambda x,y: x+y , lst)\n",
    "print(reduce_data)"
   ]
  },
  {
   "cell_type": "code",
   "execution_count": 26,
   "id": "9acc1cdc",
   "metadata": {},
   "outputs": [
    {
     "name": "stdout",
     "output_type": "stream",
     "text": [
      "58\n"
     ]
    }
   ],
   "source": [
    "lst_data = [24,12,13,56,17,12,58]\n",
    "g1_data = functools.reduce(lambda x,y: x if x>y else y, lst_data)\n",
    "print(g1_data)"
   ]
  },
  {
   "cell_type": "markdown",
   "id": "9107fa91",
   "metadata": {},
   "source": [
    "# List Comprehensions\n",
    "\n",
    "[(expr) then we will run the loop on the given list]"
   ]
  },
  {
   "cell_type": "code",
   "execution_count": 27,
   "id": "93f61855",
   "metadata": {},
   "outputs": [
    {
     "name": "stdout",
     "output_type": "stream",
     "text": [
      "[48, 24, 26, 112, 34, 24, 116]\n"
     ]
    }
   ],
   "source": [
    "new_list = [lst_data*2 for lst_data in lst_data]\n",
    "print(new_list)"
   ]
  },
  {
   "cell_type": "code",
   "execution_count": 28,
   "id": "8bbf4884",
   "metadata": {},
   "outputs": [
    {
     "name": "stdout",
     "output_type": "stream",
     "text": [
      "[1, 4, 9, 16, 25]\n"
     ]
    }
   ],
   "source": [
    "numbers = [1, 2, 3, 4, 5]\n",
    "squares = [num ** 2 for num in numbers]\n",
    "\n",
    "print(squares)"
   ]
  },
  {
   "cell_type": "markdown",
   "id": "2f03793b",
   "metadata": {},
   "source": [
    "# Python Lambda Function Questions Practice "
   ]
  },
  {
   "cell_type": "code",
   "execution_count": 32,
   "id": "faa92bc4",
   "metadata": {},
   "outputs": [
    {
     "name": "stdout",
     "output_type": "stream",
     "text": [
      "30\n",
      "6\n"
     ]
    }
   ],
   "source": [
    "# Write a  Python program to create a lambda function that adds 15 to a given number passed in as an argument, \n",
    "# also create a lambda function that multiplies argument x with argument y and prints the result.\n",
    "x = lambda x: x+15\n",
    "mul = lambda x,y: x*y\n",
    "print(x(15))\n",
    "print(mul(2,3))"
   ]
  },
  {
   "cell_type": "code",
   "execution_count": 33,
   "id": "dbecc9ea",
   "metadata": {},
   "outputs": [
    {
     "name": "stdout",
     "output_type": "stream",
     "text": [
      "Enter the First Value: 15\n",
      "Enter the Second value: 15\n",
      "The sum of 2 values is:  30\n"
     ]
    }
   ],
   "source": [
    "def sum1(a):\n",
    "    def sum2(b):\n",
    "        return a+b\n",
    "    return sum2\n",
    "\n",
    "a = int(input(\"Enter the First Value: \"))\n",
    "b = int(input(\"Enter the Second value: \"))\n",
    "x = sum1(a)\n",
    "y = x(b)\n",
    "print(\"The sum of 2 values is: \", y)"
   ]
  },
  {
   "cell_type": "code",
   "execution_count": 41,
   "id": "f4dea612",
   "metadata": {},
   "outputs": [
    {
     "name": "stdout",
     "output_type": "stream",
     "text": [
      "This is the only tool lets you visually \n"
     ]
    }
   ],
   "source": [
    "list1 = ['This is','the only tool']\n",
    "list2 = ['lets you','visually ']\n",
    "lst = ' '.join(list1+list2)\n",
    "print(lst)"
   ]
  },
  {
   "cell_type": "code",
   "execution_count": 64,
   "id": "3debd21d",
   "metadata": {},
   "outputs": [
    {
     "name": "stdout",
     "output_type": "stream",
     "text": [
      "[15, 30, 45, 60]\n"
     ]
    }
   ],
   "source": [
    "# Write a  Python program to create a function that takes one argument, \n",
    "# and that argument will be multiplied with an unknown given number.\n",
    "\n",
    "# Here we have taken a list and it will multiply the each element of list with value 15 and returning a list \n",
    "\n",
    "def function(lst):\n",
    "        return list(map(lambda x:x*15,lst))\n",
    "\n",
    "lst = [1,2,3,4]\n",
    "l1 = function(lst)\n",
    "print(l1)"
   ]
  },
  {
   "cell_type": "code",
   "execution_count": 98,
   "id": "505ce885",
   "metadata": {},
   "outputs": [
    {
     "data": {
      "text/plain": [
       "[('English', 88), ('Maths', 97), ('Science', 90), ('Social sciences', 82)]"
      ]
     },
     "execution_count": 98,
     "metadata": {},
     "output_type": "execute_result"
    }
   ],
   "source": [
    "# Write a Python program to sort a list of tuples using Lambda.\n",
    "#Original list of tuples:\n",
    "#[('English', 88), ('Science', 90), ('Maths', 97), ('Social sciences', 82)]\n",
    "#Sorting the List of Tuples:\n",
    "# [('Social sciences', 82), ('English', 88), ('Science', 90), ('Maths', 97)]\n",
    "\n",
    "list1 = [('English', 88), ('Science', 90), ('Maths', 97), ('Social sciences', 82)]\n",
    "\n",
    "list1.sort(key=lambda x:x[0])\n",
    "list1"
   ]
  },
  {
   "cell_type": "code",
   "execution_count": null,
   "id": "b5d073a3",
   "metadata": {},
   "outputs": [],
   "source": []
  },
  {
   "cell_type": "code",
   "execution_count": null,
   "id": "fd0cc87b",
   "metadata": {},
   "outputs": [],
   "source": []
  },
  {
   "cell_type": "code",
   "execution_count": null,
   "id": "0dab029d",
   "metadata": {},
   "outputs": [],
   "source": []
  },
  {
   "cell_type": "code",
   "execution_count": null,
   "id": "aebc37c4",
   "metadata": {},
   "outputs": [],
   "source": []
  },
  {
   "cell_type": "code",
   "execution_count": null,
   "id": "19e5d718",
   "metadata": {},
   "outputs": [],
   "source": []
  },
  {
   "cell_type": "code",
   "execution_count": null,
   "id": "5e016d8d",
   "metadata": {},
   "outputs": [],
   "source": []
  },
  {
   "cell_type": "code",
   "execution_count": null,
   "id": "ed7a1583",
   "metadata": {},
   "outputs": [],
   "source": []
  },
  {
   "cell_type": "code",
   "execution_count": null,
   "id": "5109c1c9",
   "metadata": {},
   "outputs": [],
   "source": []
  },
  {
   "cell_type": "code",
   "execution_count": null,
   "id": "1e2f5b91",
   "metadata": {},
   "outputs": [],
   "source": []
  },
  {
   "cell_type": "code",
   "execution_count": null,
   "id": "828fce87",
   "metadata": {},
   "outputs": [],
   "source": []
  }
 ],
 "metadata": {
  "kernelspec": {
   "display_name": "Python 3 (ipykernel)",
   "language": "python",
   "name": "python3"
  },
  "language_info": {
   "codemirror_mode": {
    "name": "ipython",
    "version": 3
   },
   "file_extension": ".py",
   "mimetype": "text/x-python",
   "name": "python",
   "nbconvert_exporter": "python",
   "pygments_lexer": "ipython3",
   "version": "3.11.4"
  }
 },
 "nbformat": 4,
 "nbformat_minor": 5
}
