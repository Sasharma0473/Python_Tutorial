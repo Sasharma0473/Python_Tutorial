{
 "cells": [
  {
   "cell_type": "code",
   "execution_count": 1,
   "id": "901ad50a",
   "metadata": {},
   "outputs": [],
   "source": [
    "import numpy as np\n",
    "import pandas as pd\n",
    "import matplotlib.pyplot as plt\n",
    "import seaborn as sns"
   ]
  },
  {
   "cell_type": "markdown",
   "id": "4df12266",
   "metadata": {},
   "source": [
    "# Vectorized String Operations"
   ]
  },
  {
   "cell_type": "code",
   "execution_count": 2,
   "id": "21057428",
   "metadata": {},
   "outputs": [
    {
     "data": {
      "text/plain": [
       "array([ 4,  8, 12, 16, 20])"
      ]
     },
     "execution_count": 2,
     "metadata": {},
     "output_type": "execute_result"
    }
   ],
   "source": [
    "ar = np.array([1,2,3,4,5])\n",
    "ar*4 # vectorized operation."
   ]
  },
  {
   "cell_type": "code",
   "execution_count": 3,
   "id": "30f0e630",
   "metadata": {},
   "outputs": [],
   "source": [
    "str = ['cat','mat',None,'rat']"
   ]
  },
  {
   "cell_type": "code",
   "execution_count": 6,
   "id": "0f081931",
   "metadata": {},
   "outputs": [
    {
     "ename": "AttributeError",
     "evalue": "'str' object has no attribute 'startwith'",
     "output_type": "error",
     "traceback": [
      "\u001b[1;31m---------------------------------------------------------------------------\u001b[0m",
      "\u001b[1;31mAttributeError\u001b[0m                            Traceback (most recent call last)",
      "Cell \u001b[1;32mIn[6], line 1\u001b[0m\n\u001b[1;32m----> 1\u001b[0m \u001b[43m[\u001b[49m\u001b[43mi\u001b[49m\u001b[38;5;241;43m.\u001b[39;49m\u001b[43mstartwith\u001b[49m\u001b[43m(\u001b[49m\u001b[38;5;124;43m'\u001b[39;49m\u001b[38;5;124;43mc\u001b[39;49m\u001b[38;5;124;43m'\u001b[39;49m\u001b[43m)\u001b[49m\u001b[43m \u001b[49m\u001b[38;5;28;43;01mfor\u001b[39;49;00m\u001b[43m \u001b[49m\u001b[43mi\u001b[49m\u001b[43m \u001b[49m\u001b[38;5;129;43;01min\u001b[39;49;00m\u001b[43m \u001b[49m\u001b[38;5;28;43mstr\u001b[39;49m\u001b[43m]\u001b[49m\n",
      "Cell \u001b[1;32mIn[6], line 1\u001b[0m, in \u001b[0;36m<listcomp>\u001b[1;34m(.0)\u001b[0m\n\u001b[1;32m----> 1\u001b[0m [\u001b[43mi\u001b[49m\u001b[38;5;241;43m.\u001b[39;49m\u001b[43mstartwith\u001b[49m(\u001b[38;5;124m'\u001b[39m\u001b[38;5;124mc\u001b[39m\u001b[38;5;124m'\u001b[39m) \u001b[38;5;28;01mfor\u001b[39;00m i \u001b[38;5;129;01min\u001b[39;00m \u001b[38;5;28mstr\u001b[39m]\n",
      "\u001b[1;31mAttributeError\u001b[0m: 'str' object has no attribute 'startwith'"
     ]
    }
   ],
   "source": [
    "[i.startwith('c') for i in str]"
   ]
  },
  {
   "cell_type": "code",
   "execution_count": 9,
   "id": "11d9af70",
   "metadata": {},
   "outputs": [
    {
     "data": {
      "text/plain": [
       "0     True\n",
       "1    False\n",
       "2     None\n",
       "3    False\n",
       "dtype: object"
      ]
     },
     "execution_count": 9,
     "metadata": {},
     "output_type": "execute_result"
    }
   ],
   "source": [
    "# How pandas solves this issue?\n",
    "my_series = pd.Series(['cat','mat',None,'rat'])\n",
    "\n",
    "# String Accessor\n",
    "my_series.str.startswith('c')\n",
    "\n",
    "# Fast and optimized "
   ]
  },
  {
   "cell_type": "code",
   "execution_count": 10,
   "id": "362f2e4b",
   "metadata": {},
   "outputs": [
    {
     "data": {
      "text/html": [
       "<div>\n",
       "<style scoped>\n",
       "    .dataframe tbody tr th:only-of-type {\n",
       "        vertical-align: middle;\n",
       "    }\n",
       "\n",
       "    .dataframe tbody tr th {\n",
       "        vertical-align: top;\n",
       "    }\n",
       "\n",
       "    .dataframe thead th {\n",
       "        text-align: right;\n",
       "    }\n",
       "</style>\n",
       "<table border=\"1\" class=\"dataframe\">\n",
       "  <thead>\n",
       "    <tr style=\"text-align: right;\">\n",
       "      <th></th>\n",
       "      <th>PassengerId</th>\n",
       "      <th>Survived</th>\n",
       "      <th>Pclass</th>\n",
       "      <th>Name</th>\n",
       "      <th>Sex</th>\n",
       "      <th>Age</th>\n",
       "      <th>SibSp</th>\n",
       "      <th>Parch</th>\n",
       "      <th>Ticket</th>\n",
       "      <th>Fare</th>\n",
       "      <th>Cabin</th>\n",
       "      <th>Embarked</th>\n",
       "    </tr>\n",
       "  </thead>\n",
       "  <tbody>\n",
       "    <tr>\n",
       "      <th>0</th>\n",
       "      <td>1</td>\n",
       "      <td>0</td>\n",
       "      <td>3</td>\n",
       "      <td>Braund, Mr. Owen Harris</td>\n",
       "      <td>male</td>\n",
       "      <td>22.0</td>\n",
       "      <td>1</td>\n",
       "      <td>0</td>\n",
       "      <td>A/5 21171</td>\n",
       "      <td>7.2500</td>\n",
       "      <td>NaN</td>\n",
       "      <td>S</td>\n",
       "    </tr>\n",
       "    <tr>\n",
       "      <th>1</th>\n",
       "      <td>2</td>\n",
       "      <td>1</td>\n",
       "      <td>1</td>\n",
       "      <td>Cumings, Mrs. John Bradley (Florence Briggs Th...</td>\n",
       "      <td>female</td>\n",
       "      <td>38.0</td>\n",
       "      <td>1</td>\n",
       "      <td>0</td>\n",
       "      <td>PC 17599</td>\n",
       "      <td>71.2833</td>\n",
       "      <td>C85</td>\n",
       "      <td>C</td>\n",
       "    </tr>\n",
       "  </tbody>\n",
       "</table>\n",
       "</div>"
      ],
      "text/plain": [
       "   PassengerId  Survived  Pclass  \\\n",
       "0            1         0       3   \n",
       "1            2         1       1   \n",
       "\n",
       "                                                Name     Sex   Age  SibSp  \\\n",
       "0                            Braund, Mr. Owen Harris    male  22.0      1   \n",
       "1  Cumings, Mrs. John Bradley (Florence Briggs Th...  female  38.0      1   \n",
       "\n",
       "   Parch     Ticket     Fare Cabin Embarked  \n",
       "0      0  A/5 21171   7.2500   NaN        S  \n",
       "1      0   PC 17599  71.2833   C85        C  "
      ]
     },
     "execution_count": 10,
     "metadata": {},
     "output_type": "execute_result"
    }
   ],
   "source": [
    "titanic_data = pd.read_csv(r\"C:\\Users\\sasha\\Desktop\\Python\\Statistics\\DataSet\\titanic.csv\")\n",
    "titanic_data.head(2)"
   ]
  },
  {
   "cell_type": "code",
   "execution_count": 11,
   "id": "9a6d3015",
   "metadata": {},
   "outputs": [
    {
     "data": {
      "text/plain": [
       "0                                Braund, Mr. Owen Harris\n",
       "1      Cumings, Mrs. John Bradley (Florence Briggs Th...\n",
       "2                                 Heikkinen, Miss. Laina\n",
       "3           Futrelle, Mrs. Jacques Heath (Lily May Peel)\n",
       "4                               Allen, Mr. William Henry\n",
       "                             ...                        \n",
       "886                                Montvila, Rev. Juozas\n",
       "887                         Graham, Miss. Margaret Edith\n",
       "888             Johnston, Miss. Catherine Helen \"Carrie\"\n",
       "889                                Behr, Mr. Karl Howell\n",
       "890                                  Dooley, Mr. Patrick\n",
       "Name: Name, Length: 891, dtype: object"
      ]
     },
     "execution_count": 11,
     "metadata": {},
     "output_type": "execute_result"
    }
   ],
   "source": [
    "titanic_data['Name']"
   ]
  },
  {
   "cell_type": "code",
   "execution_count": 12,
   "id": "dd320cf8",
   "metadata": {},
   "outputs": [
    {
     "data": {
      "text/plain": [
       "0                                braund, mr. owen harris\n",
       "1      cumings, mrs. john bradley (florence briggs th...\n",
       "2                                 heikkinen, miss. laina\n",
       "3           futrelle, mrs. jacques heath (lily may peel)\n",
       "4                               allen, mr. william henry\n",
       "                             ...                        \n",
       "886                                montvila, rev. juozas\n",
       "887                         graham, miss. margaret edith\n",
       "888             johnston, miss. catherine helen \"carrie\"\n",
       "889                                behr, mr. karl howell\n",
       "890                                  dooley, mr. patrick\n",
       "Name: Name, Length: 891, dtype: object"
      ]
     },
     "execution_count": 12,
     "metadata": {},
     "output_type": "execute_result"
    }
   ],
   "source": [
    "titanic_data['Name'].str.lower()"
   ]
  },
  {
   "cell_type": "code",
   "execution_count": 13,
   "id": "bccfdc3d",
   "metadata": {},
   "outputs": [
    {
     "data": {
      "text/plain": [
       "0                                BRAUND, MR. OWEN HARRIS\n",
       "1      CUMINGS, MRS. JOHN BRADLEY (FLORENCE BRIGGS TH...\n",
       "2                                 HEIKKINEN, MISS. LAINA\n",
       "3           FUTRELLE, MRS. JACQUES HEATH (LILY MAY PEEL)\n",
       "4                               ALLEN, MR. WILLIAM HENRY\n",
       "                             ...                        \n",
       "886                                MONTVILA, REV. JUOZAS\n",
       "887                         GRAHAM, MISS. MARGARET EDITH\n",
       "888             JOHNSTON, MISS. CATHERINE HELEN \"CARRIE\"\n",
       "889                                BEHR, MR. KARL HOWELL\n",
       "890                                  DOOLEY, MR. PATRICK\n",
       "Name: Name, Length: 891, dtype: object"
      ]
     },
     "execution_count": 13,
     "metadata": {},
     "output_type": "execute_result"
    }
   ],
   "source": [
    "titanic_data['Name'].str.upper()"
   ]
  },
  {
   "cell_type": "code",
   "execution_count": 14,
   "id": "e59b270b",
   "metadata": {},
   "outputs": [
    {
     "data": {
      "text/plain": [
       "0                                Braund, mr. owen harris\n",
       "1      Cumings, mrs. john bradley (florence briggs th...\n",
       "2                                 Heikkinen, miss. laina\n",
       "3           Futrelle, mrs. jacques heath (lily may peel)\n",
       "4                               Allen, mr. william henry\n",
       "                             ...                        \n",
       "886                                Montvila, rev. juozas\n",
       "887                         Graham, miss. margaret edith\n",
       "888             Johnston, miss. catherine helen \"carrie\"\n",
       "889                                Behr, mr. karl howell\n",
       "890                                  Dooley, mr. patrick\n",
       "Name: Name, Length: 891, dtype: object"
      ]
     },
     "execution_count": 14,
     "metadata": {},
     "output_type": "execute_result"
    }
   ],
   "source": [
    "titanic_data['Name'].str.capitalize()"
   ]
  },
  {
   "cell_type": "code",
   "execution_count": 15,
   "id": "39022651",
   "metadata": {},
   "outputs": [
    {
     "data": {
      "text/plain": [
       "0                                Braund, Mr. Owen Harris\n",
       "1      Cumings, Mrs. John Bradley (Florence Briggs Th...\n",
       "2                                 Heikkinen, Miss. Laina\n",
       "3           Futrelle, Mrs. Jacques Heath (Lily May Peel)\n",
       "4                               Allen, Mr. William Henry\n",
       "                             ...                        \n",
       "886                                Montvila, Rev. Juozas\n",
       "887                         Graham, Miss. Margaret Edith\n",
       "888             Johnston, Miss. Catherine Helen \"Carrie\"\n",
       "889                                Behr, Mr. Karl Howell\n",
       "890                                  Dooley, Mr. Patrick\n",
       "Name: Name, Length: 891, dtype: object"
      ]
     },
     "execution_count": 15,
     "metadata": {},
     "output_type": "execute_result"
    }
   ],
   "source": [
    "titanic_data['Name'].str.title()"
   ]
  },
  {
   "cell_type": "code",
   "execution_count": 17,
   "id": "808eb2cb",
   "metadata": {},
   "outputs": [
    {
     "data": {
      "text/plain": [
       "'Penasco y Castellana, Mrs. Victor de Satode (Maria Josefa Perez de Soto y Vallejo)'"
      ]
     },
     "execution_count": 17,
     "metadata": {},
     "output_type": "execute_result"
    }
   ],
   "source": [
    "# len -- find maxi len of str in the series\n",
    "# titanic_data[\"Name\"][titanic_data[\"Name\"].str.len().sort_values(ascending = False).head(1)].values[0]\n",
    "titanic_data['Name'][titanic_data['Name'].str.len()==82].values[0]"
   ]
  },
  {
   "cell_type": "code",
   "execution_count": 18,
   "id": "429bdf60",
   "metadata": {},
   "outputs": [
    {
     "data": {
      "text/plain": [
       "0                                Braund, Mr. Owen Harris\n",
       "1      Cumings, Mrs. John Bradley (Florence Briggs Th...\n",
       "2                                 Heikkinen, Miss. Laina\n",
       "3           Futrelle, Mrs. Jacques Heath (Lily May Peel)\n",
       "4                               Allen, Mr. William Henry\n",
       "                             ...                        \n",
       "886                                Montvila, Rev. Juozas\n",
       "887                         Graham, Miss. Margaret Edith\n",
       "888             Johnston, Miss. Catherine Helen \"Carrie\"\n",
       "889                                Behr, Mr. Karl Howell\n",
       "890                                  Dooley, Mr. Patrick\n",
       "Name: Name, Length: 891, dtype: object"
      ]
     },
     "execution_count": 18,
     "metadata": {},
     "output_type": "execute_result"
    }
   ],
   "source": [
    "# strip() -- It will remove all the leading and trailing spaces.\n",
    "\"               sahil          \".strip()\n",
    "\n",
    "titanic_data['Name'].str.strip()"
   ]
  },
  {
   "cell_type": "code",
   "execution_count": 21,
   "id": "6ba7e51f",
   "metadata": {},
   "outputs": [
    {
     "data": {
      "text/html": [
       "<div>\n",
       "<style scoped>\n",
       "    .dataframe tbody tr th:only-of-type {\n",
       "        vertical-align: middle;\n",
       "    }\n",
       "\n",
       "    .dataframe tbody tr th {\n",
       "        vertical-align: top;\n",
       "    }\n",
       "\n",
       "    .dataframe thead th {\n",
       "        text-align: right;\n",
       "    }\n",
       "</style>\n",
       "<table border=\"1\" class=\"dataframe\">\n",
       "  <thead>\n",
       "    <tr style=\"text-align: right;\">\n",
       "      <th></th>\n",
       "      <th>PassengerId</th>\n",
       "      <th>Survived</th>\n",
       "      <th>Pclass</th>\n",
       "      <th>Name</th>\n",
       "      <th>Sex</th>\n",
       "      <th>Age</th>\n",
       "      <th>SibSp</th>\n",
       "      <th>Parch</th>\n",
       "      <th>Ticket</th>\n",
       "      <th>Fare</th>\n",
       "      <th>Cabin</th>\n",
       "      <th>Embarked</th>\n",
       "      <th>Last Name</th>\n",
       "    </tr>\n",
       "  </thead>\n",
       "  <tbody>\n",
       "    <tr>\n",
       "      <th>0</th>\n",
       "      <td>1</td>\n",
       "      <td>0</td>\n",
       "      <td>3</td>\n",
       "      <td>Braund, Mr. Owen Harris</td>\n",
       "      <td>male</td>\n",
       "      <td>22.0</td>\n",
       "      <td>1</td>\n",
       "      <td>0</td>\n",
       "      <td>A/5 21171</td>\n",
       "      <td>7.2500</td>\n",
       "      <td>NaN</td>\n",
       "      <td>S</td>\n",
       "      <td>Braund</td>\n",
       "    </tr>\n",
       "    <tr>\n",
       "      <th>1</th>\n",
       "      <td>2</td>\n",
       "      <td>1</td>\n",
       "      <td>1</td>\n",
       "      <td>Cumings, Mrs. John Bradley (Florence Briggs Th...</td>\n",
       "      <td>female</td>\n",
       "      <td>38.0</td>\n",
       "      <td>1</td>\n",
       "      <td>0</td>\n",
       "      <td>PC 17599</td>\n",
       "      <td>71.2833</td>\n",
       "      <td>C85</td>\n",
       "      <td>C</td>\n",
       "      <td>Cumings</td>\n",
       "    </tr>\n",
       "    <tr>\n",
       "      <th>2</th>\n",
       "      <td>3</td>\n",
       "      <td>1</td>\n",
       "      <td>3</td>\n",
       "      <td>Heikkinen, Miss. Laina</td>\n",
       "      <td>female</td>\n",
       "      <td>26.0</td>\n",
       "      <td>0</td>\n",
       "      <td>0</td>\n",
       "      <td>STON/O2. 3101282</td>\n",
       "      <td>7.9250</td>\n",
       "      <td>NaN</td>\n",
       "      <td>S</td>\n",
       "      <td>Heikkinen</td>\n",
       "    </tr>\n",
       "    <tr>\n",
       "      <th>3</th>\n",
       "      <td>4</td>\n",
       "      <td>1</td>\n",
       "      <td>1</td>\n",
       "      <td>Futrelle, Mrs. Jacques Heath (Lily May Peel)</td>\n",
       "      <td>female</td>\n",
       "      <td>35.0</td>\n",
       "      <td>1</td>\n",
       "      <td>0</td>\n",
       "      <td>113803</td>\n",
       "      <td>53.1000</td>\n",
       "      <td>C123</td>\n",
       "      <td>S</td>\n",
       "      <td>Futrelle</td>\n",
       "    </tr>\n",
       "    <tr>\n",
       "      <th>4</th>\n",
       "      <td>5</td>\n",
       "      <td>0</td>\n",
       "      <td>3</td>\n",
       "      <td>Allen, Mr. William Henry</td>\n",
       "      <td>male</td>\n",
       "      <td>35.0</td>\n",
       "      <td>0</td>\n",
       "      <td>0</td>\n",
       "      <td>373450</td>\n",
       "      <td>8.0500</td>\n",
       "      <td>NaN</td>\n",
       "      <td>S</td>\n",
       "      <td>Allen</td>\n",
       "    </tr>\n",
       "    <tr>\n",
       "      <th>...</th>\n",
       "      <td>...</td>\n",
       "      <td>...</td>\n",
       "      <td>...</td>\n",
       "      <td>...</td>\n",
       "      <td>...</td>\n",
       "      <td>...</td>\n",
       "      <td>...</td>\n",
       "      <td>...</td>\n",
       "      <td>...</td>\n",
       "      <td>...</td>\n",
       "      <td>...</td>\n",
       "      <td>...</td>\n",
       "      <td>...</td>\n",
       "    </tr>\n",
       "    <tr>\n",
       "      <th>886</th>\n",
       "      <td>887</td>\n",
       "      <td>0</td>\n",
       "      <td>2</td>\n",
       "      <td>Montvila, Rev. Juozas</td>\n",
       "      <td>male</td>\n",
       "      <td>27.0</td>\n",
       "      <td>0</td>\n",
       "      <td>0</td>\n",
       "      <td>211536</td>\n",
       "      <td>13.0000</td>\n",
       "      <td>NaN</td>\n",
       "      <td>S</td>\n",
       "      <td>Montvila</td>\n",
       "    </tr>\n",
       "    <tr>\n",
       "      <th>887</th>\n",
       "      <td>888</td>\n",
       "      <td>1</td>\n",
       "      <td>1</td>\n",
       "      <td>Graham, Miss. Margaret Edith</td>\n",
       "      <td>female</td>\n",
       "      <td>19.0</td>\n",
       "      <td>0</td>\n",
       "      <td>0</td>\n",
       "      <td>112053</td>\n",
       "      <td>30.0000</td>\n",
       "      <td>B42</td>\n",
       "      <td>S</td>\n",
       "      <td>Graham</td>\n",
       "    </tr>\n",
       "    <tr>\n",
       "      <th>888</th>\n",
       "      <td>889</td>\n",
       "      <td>0</td>\n",
       "      <td>3</td>\n",
       "      <td>Johnston, Miss. Catherine Helen \"Carrie\"</td>\n",
       "      <td>female</td>\n",
       "      <td>NaN</td>\n",
       "      <td>1</td>\n",
       "      <td>2</td>\n",
       "      <td>W./C. 6607</td>\n",
       "      <td>23.4500</td>\n",
       "      <td>NaN</td>\n",
       "      <td>S</td>\n",
       "      <td>Johnston</td>\n",
       "    </tr>\n",
       "    <tr>\n",
       "      <th>889</th>\n",
       "      <td>890</td>\n",
       "      <td>1</td>\n",
       "      <td>1</td>\n",
       "      <td>Behr, Mr. Karl Howell</td>\n",
       "      <td>male</td>\n",
       "      <td>26.0</td>\n",
       "      <td>0</td>\n",
       "      <td>0</td>\n",
       "      <td>111369</td>\n",
       "      <td>30.0000</td>\n",
       "      <td>C148</td>\n",
       "      <td>C</td>\n",
       "      <td>Behr</td>\n",
       "    </tr>\n",
       "    <tr>\n",
       "      <th>890</th>\n",
       "      <td>891</td>\n",
       "      <td>0</td>\n",
       "      <td>3</td>\n",
       "      <td>Dooley, Mr. Patrick</td>\n",
       "      <td>male</td>\n",
       "      <td>32.0</td>\n",
       "      <td>0</td>\n",
       "      <td>0</td>\n",
       "      <td>370376</td>\n",
       "      <td>7.7500</td>\n",
       "      <td>NaN</td>\n",
       "      <td>Q</td>\n",
       "      <td>Dooley</td>\n",
       "    </tr>\n",
       "  </tbody>\n",
       "</table>\n",
       "<p>891 rows × 13 columns</p>\n",
       "</div>"
      ],
      "text/plain": [
       "     PassengerId  Survived  Pclass  \\\n",
       "0              1         0       3   \n",
       "1              2         1       1   \n",
       "2              3         1       3   \n",
       "3              4         1       1   \n",
       "4              5         0       3   \n",
       "..           ...       ...     ...   \n",
       "886          887         0       2   \n",
       "887          888         1       1   \n",
       "888          889         0       3   \n",
       "889          890         1       1   \n",
       "890          891         0       3   \n",
       "\n",
       "                                                  Name     Sex   Age  SibSp  \\\n",
       "0                              Braund, Mr. Owen Harris    male  22.0      1   \n",
       "1    Cumings, Mrs. John Bradley (Florence Briggs Th...  female  38.0      1   \n",
       "2                               Heikkinen, Miss. Laina  female  26.0      0   \n",
       "3         Futrelle, Mrs. Jacques Heath (Lily May Peel)  female  35.0      1   \n",
       "4                             Allen, Mr. William Henry    male  35.0      0   \n",
       "..                                                 ...     ...   ...    ...   \n",
       "886                              Montvila, Rev. Juozas    male  27.0      0   \n",
       "887                       Graham, Miss. Margaret Edith  female  19.0      0   \n",
       "888           Johnston, Miss. Catherine Helen \"Carrie\"  female   NaN      1   \n",
       "889                              Behr, Mr. Karl Howell    male  26.0      0   \n",
       "890                                Dooley, Mr. Patrick    male  32.0      0   \n",
       "\n",
       "     Parch            Ticket     Fare Cabin Embarked  Last Name  \n",
       "0        0         A/5 21171   7.2500   NaN        S     Braund  \n",
       "1        0          PC 17599  71.2833   C85        C    Cumings  \n",
       "2        0  STON/O2. 3101282   7.9250   NaN        S  Heikkinen  \n",
       "3        0            113803  53.1000  C123        S   Futrelle  \n",
       "4        0            373450   8.0500   NaN        S      Allen  \n",
       "..     ...               ...      ...   ...      ...        ...  \n",
       "886      0            211536  13.0000   NaN        S   Montvila  \n",
       "887      0            112053  30.0000   B42        S     Graham  \n",
       "888      2        W./C. 6607  23.4500   NaN        S   Johnston  \n",
       "889      0            111369  30.0000  C148        C       Behr  \n",
       "890      0            370376   7.7500   NaN        Q     Dooley  \n",
       "\n",
       "[891 rows x 13 columns]"
      ]
     },
     "execution_count": 21,
     "metadata": {},
     "output_type": "execute_result"
    }
   ],
   "source": [
    "# Split \n",
    "titanic_data[\"Last Name\"]= titanic_data[\"Name\"].str.split(',').str.get(0)\n",
    "titanic_data"
   ]
  },
  {
   "cell_type": "code",
   "execution_count": 22,
   "id": "77f4819c",
   "metadata": {},
   "outputs": [
    {
     "data": {
      "text/html": [
       "<div>\n",
       "<style scoped>\n",
       "    .dataframe tbody tr th:only-of-type {\n",
       "        vertical-align: middle;\n",
       "    }\n",
       "\n",
       "    .dataframe tbody tr th {\n",
       "        vertical-align: top;\n",
       "    }\n",
       "\n",
       "    .dataframe thead th {\n",
       "        text-align: right;\n",
       "    }\n",
       "</style>\n",
       "<table border=\"1\" class=\"dataframe\">\n",
       "  <thead>\n",
       "    <tr style=\"text-align: right;\">\n",
       "      <th></th>\n",
       "      <th>PassengerId</th>\n",
       "      <th>Survived</th>\n",
       "      <th>Pclass</th>\n",
       "      <th>Name</th>\n",
       "      <th>Sex</th>\n",
       "      <th>Age</th>\n",
       "      <th>SibSp</th>\n",
       "      <th>Parch</th>\n",
       "      <th>Ticket</th>\n",
       "      <th>Fare</th>\n",
       "      <th>Cabin</th>\n",
       "      <th>Embarked</th>\n",
       "      <th>Last Name</th>\n",
       "      <th>Title</th>\n",
       "      <th>First Name</th>\n",
       "    </tr>\n",
       "  </thead>\n",
       "  <tbody>\n",
       "    <tr>\n",
       "      <th>0</th>\n",
       "      <td>1</td>\n",
       "      <td>0</td>\n",
       "      <td>3</td>\n",
       "      <td>Braund, Mr. Owen Harris</td>\n",
       "      <td>male</td>\n",
       "      <td>22.0</td>\n",
       "      <td>1</td>\n",
       "      <td>0</td>\n",
       "      <td>A/5 21171</td>\n",
       "      <td>7.2500</td>\n",
       "      <td>NaN</td>\n",
       "      <td>S</td>\n",
       "      <td>Braund</td>\n",
       "      <td>Mr.</td>\n",
       "      <td>Owen Harris</td>\n",
       "    </tr>\n",
       "    <tr>\n",
       "      <th>1</th>\n",
       "      <td>2</td>\n",
       "      <td>1</td>\n",
       "      <td>1</td>\n",
       "      <td>Cumings, Mrs. John Bradley (Florence Briggs Th...</td>\n",
       "      <td>female</td>\n",
       "      <td>38.0</td>\n",
       "      <td>1</td>\n",
       "      <td>0</td>\n",
       "      <td>PC 17599</td>\n",
       "      <td>71.2833</td>\n",
       "      <td>C85</td>\n",
       "      <td>C</td>\n",
       "      <td>Cumings</td>\n",
       "      <td>Mrs.</td>\n",
       "      <td>John Bradley (Florence Briggs Thayer)</td>\n",
       "    </tr>\n",
       "    <tr>\n",
       "      <th>2</th>\n",
       "      <td>3</td>\n",
       "      <td>1</td>\n",
       "      <td>3</td>\n",
       "      <td>Heikkinen, Miss. Laina</td>\n",
       "      <td>female</td>\n",
       "      <td>26.0</td>\n",
       "      <td>0</td>\n",
       "      <td>0</td>\n",
       "      <td>STON/O2. 3101282</td>\n",
       "      <td>7.9250</td>\n",
       "      <td>NaN</td>\n",
       "      <td>S</td>\n",
       "      <td>Heikkinen</td>\n",
       "      <td>Miss.</td>\n",
       "      <td>Laina</td>\n",
       "    </tr>\n",
       "    <tr>\n",
       "      <th>3</th>\n",
       "      <td>4</td>\n",
       "      <td>1</td>\n",
       "      <td>1</td>\n",
       "      <td>Futrelle, Mrs. Jacques Heath (Lily May Peel)</td>\n",
       "      <td>female</td>\n",
       "      <td>35.0</td>\n",
       "      <td>1</td>\n",
       "      <td>0</td>\n",
       "      <td>113803</td>\n",
       "      <td>53.1000</td>\n",
       "      <td>C123</td>\n",
       "      <td>S</td>\n",
       "      <td>Futrelle</td>\n",
       "      <td>Mrs.</td>\n",
       "      <td>Jacques Heath (Lily May Peel)</td>\n",
       "    </tr>\n",
       "    <tr>\n",
       "      <th>4</th>\n",
       "      <td>5</td>\n",
       "      <td>0</td>\n",
       "      <td>3</td>\n",
       "      <td>Allen, Mr. William Henry</td>\n",
       "      <td>male</td>\n",
       "      <td>35.0</td>\n",
       "      <td>0</td>\n",
       "      <td>0</td>\n",
       "      <td>373450</td>\n",
       "      <td>8.0500</td>\n",
       "      <td>NaN</td>\n",
       "      <td>S</td>\n",
       "      <td>Allen</td>\n",
       "      <td>Mr.</td>\n",
       "      <td>William Henry</td>\n",
       "    </tr>\n",
       "    <tr>\n",
       "      <th>...</th>\n",
       "      <td>...</td>\n",
       "      <td>...</td>\n",
       "      <td>...</td>\n",
       "      <td>...</td>\n",
       "      <td>...</td>\n",
       "      <td>...</td>\n",
       "      <td>...</td>\n",
       "      <td>...</td>\n",
       "      <td>...</td>\n",
       "      <td>...</td>\n",
       "      <td>...</td>\n",
       "      <td>...</td>\n",
       "      <td>...</td>\n",
       "      <td>...</td>\n",
       "      <td>...</td>\n",
       "    </tr>\n",
       "    <tr>\n",
       "      <th>886</th>\n",
       "      <td>887</td>\n",
       "      <td>0</td>\n",
       "      <td>2</td>\n",
       "      <td>Montvila, Rev. Juozas</td>\n",
       "      <td>male</td>\n",
       "      <td>27.0</td>\n",
       "      <td>0</td>\n",
       "      <td>0</td>\n",
       "      <td>211536</td>\n",
       "      <td>13.0000</td>\n",
       "      <td>NaN</td>\n",
       "      <td>S</td>\n",
       "      <td>Montvila</td>\n",
       "      <td>Rev.</td>\n",
       "      <td>Juozas</td>\n",
       "    </tr>\n",
       "    <tr>\n",
       "      <th>887</th>\n",
       "      <td>888</td>\n",
       "      <td>1</td>\n",
       "      <td>1</td>\n",
       "      <td>Graham, Miss. Margaret Edith</td>\n",
       "      <td>female</td>\n",
       "      <td>19.0</td>\n",
       "      <td>0</td>\n",
       "      <td>0</td>\n",
       "      <td>112053</td>\n",
       "      <td>30.0000</td>\n",
       "      <td>B42</td>\n",
       "      <td>S</td>\n",
       "      <td>Graham</td>\n",
       "      <td>Miss.</td>\n",
       "      <td>Margaret Edith</td>\n",
       "    </tr>\n",
       "    <tr>\n",
       "      <th>888</th>\n",
       "      <td>889</td>\n",
       "      <td>0</td>\n",
       "      <td>3</td>\n",
       "      <td>Johnston, Miss. Catherine Helen \"Carrie\"</td>\n",
       "      <td>female</td>\n",
       "      <td>NaN</td>\n",
       "      <td>1</td>\n",
       "      <td>2</td>\n",
       "      <td>W./C. 6607</td>\n",
       "      <td>23.4500</td>\n",
       "      <td>NaN</td>\n",
       "      <td>S</td>\n",
       "      <td>Johnston</td>\n",
       "      <td>Miss.</td>\n",
       "      <td>Catherine Helen \"Carrie\"</td>\n",
       "    </tr>\n",
       "    <tr>\n",
       "      <th>889</th>\n",
       "      <td>890</td>\n",
       "      <td>1</td>\n",
       "      <td>1</td>\n",
       "      <td>Behr, Mr. Karl Howell</td>\n",
       "      <td>male</td>\n",
       "      <td>26.0</td>\n",
       "      <td>0</td>\n",
       "      <td>0</td>\n",
       "      <td>111369</td>\n",
       "      <td>30.0000</td>\n",
       "      <td>C148</td>\n",
       "      <td>C</td>\n",
       "      <td>Behr</td>\n",
       "      <td>Mr.</td>\n",
       "      <td>Karl Howell</td>\n",
       "    </tr>\n",
       "    <tr>\n",
       "      <th>890</th>\n",
       "      <td>891</td>\n",
       "      <td>0</td>\n",
       "      <td>3</td>\n",
       "      <td>Dooley, Mr. Patrick</td>\n",
       "      <td>male</td>\n",
       "      <td>32.0</td>\n",
       "      <td>0</td>\n",
       "      <td>0</td>\n",
       "      <td>370376</td>\n",
       "      <td>7.7500</td>\n",
       "      <td>NaN</td>\n",
       "      <td>Q</td>\n",
       "      <td>Dooley</td>\n",
       "      <td>Mr.</td>\n",
       "      <td>Patrick</td>\n",
       "    </tr>\n",
       "  </tbody>\n",
       "</table>\n",
       "<p>891 rows × 15 columns</p>\n",
       "</div>"
      ],
      "text/plain": [
       "     PassengerId  Survived  Pclass  \\\n",
       "0              1         0       3   \n",
       "1              2         1       1   \n",
       "2              3         1       3   \n",
       "3              4         1       1   \n",
       "4              5         0       3   \n",
       "..           ...       ...     ...   \n",
       "886          887         0       2   \n",
       "887          888         1       1   \n",
       "888          889         0       3   \n",
       "889          890         1       1   \n",
       "890          891         0       3   \n",
       "\n",
       "                                                  Name     Sex   Age  SibSp  \\\n",
       "0                              Braund, Mr. Owen Harris    male  22.0      1   \n",
       "1    Cumings, Mrs. John Bradley (Florence Briggs Th...  female  38.0      1   \n",
       "2                               Heikkinen, Miss. Laina  female  26.0      0   \n",
       "3         Futrelle, Mrs. Jacques Heath (Lily May Peel)  female  35.0      1   \n",
       "4                             Allen, Mr. William Henry    male  35.0      0   \n",
       "..                                                 ...     ...   ...    ...   \n",
       "886                              Montvila, Rev. Juozas    male  27.0      0   \n",
       "887                       Graham, Miss. Margaret Edith  female  19.0      0   \n",
       "888           Johnston, Miss. Catherine Helen \"Carrie\"  female   NaN      1   \n",
       "889                              Behr, Mr. Karl Howell    male  26.0      0   \n",
       "890                                Dooley, Mr. Patrick    male  32.0      0   \n",
       "\n",
       "     Parch            Ticket     Fare Cabin Embarked  Last Name  Title  \\\n",
       "0        0         A/5 21171   7.2500   NaN        S     Braund    Mr.   \n",
       "1        0          PC 17599  71.2833   C85        C    Cumings   Mrs.   \n",
       "2        0  STON/O2. 3101282   7.9250   NaN        S  Heikkinen  Miss.   \n",
       "3        0            113803  53.1000  C123        S   Futrelle   Mrs.   \n",
       "4        0            373450   8.0500   NaN        S      Allen    Mr.   \n",
       "..     ...               ...      ...   ...      ...        ...    ...   \n",
       "886      0            211536  13.0000   NaN        S   Montvila   Rev.   \n",
       "887      0            112053  30.0000   B42        S     Graham  Miss.   \n",
       "888      2        W./C. 6607  23.4500   NaN        S   Johnston  Miss.   \n",
       "889      0            111369  30.0000  C148        C       Behr    Mr.   \n",
       "890      0            370376   7.7500   NaN        Q     Dooley    Mr.   \n",
       "\n",
       "                                First Name  \n",
       "0                              Owen Harris  \n",
       "1    John Bradley (Florence Briggs Thayer)  \n",
       "2                                    Laina  \n",
       "3            Jacques Heath (Lily May Peel)  \n",
       "4                            William Henry  \n",
       "..                                     ...  \n",
       "886                                 Juozas  \n",
       "887                         Margaret Edith  \n",
       "888               Catherine Helen \"Carrie\"  \n",
       "889                            Karl Howell  \n",
       "890                                Patrick  \n",
       "\n",
       "[891 rows x 15 columns]"
      ]
     },
     "execution_count": 22,
     "metadata": {},
     "output_type": "execute_result"
    }
   ],
   "source": [
    "# here n = 1 means ek hi split hoga ek se jada split nhi hoga.\n",
    "titanic_data[['Title','First Name']]= titanic_data[\"Name\"].str.split(',').str.get(1).str.strip().str.split(\" \",n=1,expand=True)\n",
    "titanic_data"
   ]
  },
  {
   "cell_type": "code",
   "execution_count": null,
   "id": "91cb46d6",
   "metadata": {},
   "outputs": [],
   "source": [
    "titanic_data['Title'].value_counts()"
   ]
  },
  {
   "cell_type": "code",
   "execution_count": null,
   "id": "b8970454",
   "metadata": {},
   "outputs": [],
   "source": [
    "# Replace\n",
    "titanic_data['Title']= titanic_data['Title'].str.replace('Ms.','Miss.')\n",
    "titanic_data['Title']= titanic_data['Title'].str.replace('Mlle.','Miss.')"
   ]
  },
  {
   "cell_type": "code",
   "execution_count": null,
   "id": "f666dc18",
   "metadata": {},
   "outputs": [],
   "source": [
    "titanic_data['Title'].value_counts()"
   ]
  },
  {
   "cell_type": "code",
   "execution_count": null,
   "id": "cf3a607a",
   "metadata": {},
   "outputs": [],
   "source": [
    "# Filtering \n",
    "titanic_data[titanic_data['First Name'].str.startswith('A')]\n",
    "titanic_data[titanic_data['First Name'].str.endswith('A')]"
   ]
  },
  {
   "cell_type": "code",
   "execution_count": null,
   "id": "fa9e1080",
   "metadata": {},
   "outputs": [],
   "source": [
    "titanic_data[titanic_data['First Name'].str.isdigit()]"
   ]
  },
  {
   "cell_type": "code",
   "execution_count": null,
   "id": "36db513c",
   "metadata": {},
   "outputs": [],
   "source": [
    "# applying regex\n",
    "# contains\n",
    "# search john -> both case"
   ]
  },
  {
   "cell_type": "code",
   "execution_count": null,
   "id": "0b8934be",
   "metadata": {
    "scrolled": true
   },
   "outputs": [],
   "source": [
    "titanic_data[titanic_data['First Name'].str.contains('john',case=False)]"
   ]
  },
  {
   "cell_type": "code",
   "execution_count": null,
   "id": "8f48a21a",
   "metadata": {},
   "outputs": [],
   "source": [
    "# First Name start and ends with vowel.\n",
    "titanic_data[titanic_data['Last Name'].str.contains('^[aeiouAEIOU].+[aeiouAEIOU]$',case=False)]"
   ]
  },
  {
   "cell_type": "code",
   "execution_count": null,
   "id": "fb472ac5",
   "metadata": {},
   "outputs": [],
   "source": [
    "titanic_data[titanic_data['Last Name'].str.contains('^[^aeiouAEIOU].+[^aeiouAEIOU]$',case=False)]"
   ]
  },
  {
   "cell_type": "markdown",
   "id": "e94d7c51",
   "metadata": {},
   "source": [
    "# Slicing "
   ]
  },
  {
   "cell_type": "code",
   "execution_count": null,
   "id": "9ac65fe0",
   "metadata": {},
   "outputs": [],
   "source": [
    "titanic_data['Name'].str[:6]"
   ]
  },
  {
   "cell_type": "code",
   "execution_count": null,
   "id": "19481797",
   "metadata": {},
   "outputs": [],
   "source": [
    "titanic_data['Name'].str[::-1]"
   ]
  },
  {
   "cell_type": "markdown",
   "id": "1fa3bc68",
   "metadata": {},
   "source": [
    "# PANDAS DATETIME CONCEPTS AND FUNC\n",
    "\n",
    "Timestamp Object\n",
    "\n",
    "Time stamps reference particular moments in time (e.g., Oct 24th, 2022 at 7:00pm)"
   ]
  },
  {
   "cell_type": "code",
   "execution_count": 27,
   "id": "0dcb841b",
   "metadata": {},
   "outputs": [
    {
     "name": "stdout",
     "output_type": "stream",
     "text": [
      "2022-09-23 00:00:00\n",
      "<class 'pandas._libs.tslibs.timestamps.Timestamp'>\n",
      "2022-09-23 00:00:00\n"
     ]
    }
   ],
   "source": [
    "# creating a timestamp  -- yyyy-mm-dd\n",
    "\n",
    "print(pd.Timestamp('2022/09/23'))\n",
    "\n",
    "print(type(pd.Timestamp('2022/09/23')))\n",
    "\n",
    "print(pd.Timestamp('2022-09-23'))"
   ]
  },
  {
   "cell_type": "code",
   "execution_count": 28,
   "id": "c3c19e8a",
   "metadata": {},
   "outputs": [
    {
     "name": "stdout",
     "output_type": "stream",
     "text": [
      "2022-01-01 00:00:00\n"
     ]
    },
    {
     "data": {
      "text/plain": [
       "Timestamp('2022-01-05 00:00:00')"
      ]
     },
     "execution_count": 28,
     "metadata": {},
     "output_type": "execute_result"
    }
   ],
   "source": [
    "# only year\n",
    "print(pd.Timestamp('2022'))\n",
    "# only text\n",
    "pd.Timestamp('5th January 2022')"
   ]
  },
  {
   "cell_type": "code",
   "execution_count": 29,
   "id": "f4652546",
   "metadata": {},
   "outputs": [
    {
     "data": {
      "text/plain": [
       "Timestamp('2022-01-05 12:21:00')"
      ]
     },
     "execution_count": 29,
     "metadata": {},
     "output_type": "execute_result"
    }
   ],
   "source": [
    "# Providing Time also \n",
    "pd.Timestamp('5th January 2022 12:21')"
   ]
  },
  {
   "cell_type": "code",
   "execution_count": 30,
   "id": "a29d060f",
   "metadata": {},
   "outputs": [
    {
     "data": {
      "text/plain": [
       "Timestamp('2022-05-01 12:55:00')"
      ]
     },
     "execution_count": 30,
     "metadata": {},
     "output_type": "execute_result"
    }
   ],
   "source": [
    "pd.Timestamp('2022, 05, 01, 12:55')"
   ]
  },
  {
   "cell_type": "code",
   "execution_count": 38,
   "id": "9b9b1dd2",
   "metadata": {},
   "outputs": [
    {
     "name": "stdout",
     "output_type": "stream",
     "text": [
      "2023-03-23 00:00:00\n",
      "<class 'datetime.datetime'>\n",
      "===============================\n",
      "<class 'pandas._libs.tslibs.timestamps.Timestamp'>\n",
      "2023-03-23 00:00:00\n"
     ]
    }
   ],
   "source": [
    "import datetime as dt\n",
    "\n",
    "print(dt.datetime(2023, 3, 23))\n",
    "print(type(dt.datetime(2023, 3, 23)))\n",
    "print(\"===============================\")\n",
    "x = pd.Timestamp(dt.datetime(2023, 3, 23))\n",
    "print(type(x))\n",
    "print(x)"
   ]
  },
  {
   "cell_type": "code",
   "execution_count": 34,
   "id": "ad62f5e6",
   "metadata": {},
   "outputs": [
    {
     "name": "stdout",
     "output_type": "stream",
     "text": [
      "2023\n",
      "3\n",
      "23\n",
      "0\n",
      "0\n",
      "0\n"
     ]
    }
   ],
   "source": [
    "# fetching attribute\n",
    "print(x.year)\n",
    "print(x.month)\n",
    "print(x.day)\n",
    "print(x.hour)\n",
    "print(x.minute)\n",
    "print(x.second)"
   ]
  },
  {
   "cell_type": "code",
   "execution_count": null,
   "id": "30dcbb31",
   "metadata": {},
   "outputs": [],
   "source": [
    "# why separate objects to handle data and time when python already has datetime functionality?\n",
    "\n",
    "# syntax wise datetime is very convenient\n",
    "# But the performance takes a hit while working with huge data. List vs Numpy Array\n",
    "# The weaknesses of Python's datetime format inspired the NumPy team to add a set of native time series data type to NumPy.\n",
    "# The datetime64 dtype encodes dates as 64-bit integers, and thus allows arrays of dates to be represented very compactly."
   ]
  },
  {
   "cell_type": "code",
   "execution_count": 39,
   "id": "6383dcc9",
   "metadata": {},
   "outputs": [
    {
     "data": {
      "text/plain": [
       "array('2022-03-09', dtype='datetime64[D]')"
      ]
     },
     "execution_count": 39,
     "metadata": {},
     "output_type": "execute_result"
    }
   ],
   "source": [
    "date = np.array('2022-03-09', dtype = np.datetime64)\n",
    "date"
   ]
  },
  {
   "cell_type": "code",
   "execution_count": 40,
   "id": "4ec176f3",
   "metadata": {},
   "outputs": [
    {
     "data": {
      "text/plain": [
       "array(['2022-03-09', '2022-03-10', '2022-03-11', '2022-03-12',\n",
       "       '2022-03-13', '2022-03-14', '2022-03-15', '2022-03-16',\n",
       "       '2022-03-17', '2022-03-18', '2022-03-19', '2022-03-20'],\n",
       "      dtype='datetime64[D]')"
      ]
     },
     "execution_count": 40,
     "metadata": {},
     "output_type": "execute_result"
    }
   ],
   "source": [
    "date+np.arange(12)"
   ]
  },
  {
   "cell_type": "markdown",
   "id": "1a1cd705",
   "metadata": {},
   "source": [
    "Because of the uniform type in NumPy datetime64 arrays, this type of operation can be accomplished much more quickly than if we were working directly with Python's datetime objects, especially as arrays get large\n",
    "\n",
    "Pandas Timestamp object combines the ease-of-use of python datetime with the efficient storage and vectorized interface of numpy.datetime64\n",
    "\n",
    "From a group of these Timestamp objects, Pandas can construct a DatetimeIndex that can be used to index data in a Series or DataFrame"
   ]
  },
  {
   "cell_type": "markdown",
   "id": "66ee8740",
   "metadata": {},
   "source": [
    "# DateTime Index Object\n",
    "\n",
    "A collection of pandas timestamp. When we have to store the multiple time value then will use Datetime Index object\n",
    "\n",
    "DatetimeIndex Object means its a collection of timestamp."
   ]
  },
  {
   "cell_type": "code",
   "execution_count": 41,
   "id": "069b102b",
   "metadata": {},
   "outputs": [
    {
     "data": {
      "text/plain": [
       "DatetimeIndex(['2022-01-01', '2022-02-01', '2022-03-01'], dtype='datetime64[ns]', freq=None)"
      ]
     },
     "execution_count": 41,
     "metadata": {},
     "output_type": "execute_result"
    }
   ],
   "source": [
    "pd.DatetimeIndex(['2022-01-01','2022-02-01','2022-03-01'])"
   ]
  },
  {
   "cell_type": "code",
   "execution_count": 42,
   "id": "5899f171",
   "metadata": {},
   "outputs": [
    {
     "data": {
      "text/plain": [
       "pandas._libs.tslibs.timestamps.Timestamp"
      ]
     },
     "execution_count": 42,
     "metadata": {},
     "output_type": "execute_result"
    }
   ],
   "source": [
    "type(pd.DatetimeIndex(['2022-01-01','2022-02-01','2022-03-01'])[0])"
   ]
  },
  {
   "cell_type": "code",
   "execution_count": 43,
   "id": "fa5e7d0d",
   "metadata": {},
   "outputs": [
    {
     "data": {
      "text/plain": [
       "pandas.core.indexes.datetimes.DatetimeIndex"
      ]
     },
     "execution_count": 43,
     "metadata": {},
     "output_type": "execute_result"
    }
   ],
   "source": [
    "type(pd.DatetimeIndex(['2022-01-01','2022-02-01','2022-03-01']))"
   ]
  },
  {
   "cell_type": "code",
   "execution_count": 44,
   "id": "734c4f32",
   "metadata": {},
   "outputs": [
    {
     "data": {
      "text/plain": [
       "DatetimeIndex(['2022-01-01', '2023-01-01', '2024-01-01'], dtype='datetime64[ns]', freq=None)"
      ]
     },
     "execution_count": 44,
     "metadata": {},
     "output_type": "execute_result"
    }
   ],
   "source": [
    "# using python Datetime object.\n",
    "pd.DatetimeIndex([dt.datetime(2022,1,1),dt.datetime(2023,1,1),dt.datetime(2024,1,1)])"
   ]
  },
  {
   "cell_type": "code",
   "execution_count": 46,
   "id": "ac15ecc0",
   "metadata": {},
   "outputs": [
    {
     "data": {
      "text/plain": [
       "DatetimeIndex(['2022-01-01', '2023-01-01', '2024-01-01'], dtype='datetime64[ns]', freq=None)"
      ]
     },
     "execution_count": 46,
     "metadata": {},
     "output_type": "execute_result"
    }
   ],
   "source": [
    "dt_index = pd.DatetimeIndex([pd.Timestamp(2022,1,1),pd.Timestamp(2023,1,1),pd.Timestamp(2024,1,1)])\n",
    "dt_index"
   ]
  },
  {
   "cell_type": "code",
   "execution_count": 47,
   "id": "65a4d144",
   "metadata": {},
   "outputs": [
    {
     "data": {
      "text/plain": [
       "2022-01-01    1\n",
       "2023-01-01    2\n",
       "2024-01-01    3\n",
       "dtype: int64"
      ]
     },
     "execution_count": 47,
     "metadata": {},
     "output_type": "execute_result"
    }
   ],
   "source": [
    "pd.Series([1,2,3],index=dt_index)"
   ]
  },
  {
   "cell_type": "code",
   "execution_count": 48,
   "id": "21607bfa",
   "metadata": {},
   "outputs": [
    {
     "data": {
      "text/plain": [
       "DatetimeIndex(['2023-05-01', '2023-05-02', '2023-05-03', '2023-05-04',\n",
       "               '2023-05-05', '2023-05-06', '2023-05-07', '2023-05-08',\n",
       "               '2023-05-09', '2023-05-10', '2023-05-11', '2023-05-12',\n",
       "               '2023-05-13', '2023-05-14', '2023-05-15', '2023-05-16',\n",
       "               '2023-05-17', '2023-05-18', '2023-05-19', '2023-05-20',\n",
       "               '2023-05-21', '2023-05-22', '2023-05-23', '2023-05-24',\n",
       "               '2023-05-25', '2023-05-26', '2023-05-27', '2023-05-28',\n",
       "               '2023-05-29', '2023-05-30', '2023-05-31'],\n",
       "              dtype='datetime64[ns]', freq='D')"
      ]
     },
     "execution_count": 48,
     "metadata": {},
     "output_type": "execute_result"
    }
   ],
   "source": [
    "# Date Range Function  D - Day\n",
    "pd.date_range(start = '2023-05-01',end = '2023-05-31', freq= 'D')"
   ]
  },
  {
   "cell_type": "code",
   "execution_count": 49,
   "id": "4f093579",
   "metadata": {},
   "outputs": [
    {
     "data": {
      "text/plain": [
       "DatetimeIndex(['2023-05-01', '2023-05-03', '2023-05-05', '2023-05-07',\n",
       "               '2023-05-09', '2023-05-11', '2023-05-13', '2023-05-15',\n",
       "               '2023-05-17', '2023-05-19', '2023-05-21', '2023-05-23',\n",
       "               '2023-05-25', '2023-05-27', '2023-05-29', '2023-05-31'],\n",
       "              dtype='datetime64[ns]', freq='2D')"
      ]
     },
     "execution_count": 49,
     "metadata": {},
     "output_type": "execute_result"
    }
   ],
   "source": [
    "# To get the alternate date.   2D- Gap with 1 day\n",
    "pd.date_range(start='2023-05-01', end = '2023-05-31', freq = '2D')"
   ]
  },
  {
   "cell_type": "code",
   "execution_count": 50,
   "id": "74c71edb",
   "metadata": {},
   "outputs": [
    {
     "data": {
      "text/plain": [
       "DatetimeIndex(['2023-05-01', '2023-05-04', '2023-05-07', '2023-05-10',\n",
       "               '2023-05-13', '2023-05-16', '2023-05-19', '2023-05-22',\n",
       "               '2023-05-25', '2023-05-28', '2023-05-31'],\n",
       "              dtype='datetime64[ns]', freq='3D')"
      ]
     },
     "execution_count": 50,
     "metadata": {},
     "output_type": "execute_result"
    }
   ],
   "source": [
    "pd.date_range(start='2023-05-01', end = '2023-05-31', freq = '3D')"
   ]
  },
  {
   "cell_type": "code",
   "execution_count": 51,
   "id": "474ee226",
   "metadata": {},
   "outputs": [
    {
     "data": {
      "text/plain": [
       "DatetimeIndex(['2023-05-01', '2023-05-02', '2023-05-03', '2023-05-04',\n",
       "               '2023-05-05', '2023-05-08', '2023-05-09', '2023-05-10',\n",
       "               '2023-05-11', '2023-05-12', '2023-05-15', '2023-05-16',\n",
       "               '2023-05-17', '2023-05-18', '2023-05-19', '2023-05-22',\n",
       "               '2023-05-23', '2023-05-24', '2023-05-25', '2023-05-26',\n",
       "               '2023-05-29', '2023-05-30', '2023-05-31'],\n",
       "              dtype='datetime64[ns]', freq='B')"
      ]
     },
     "execution_count": 51,
     "metadata": {},
     "output_type": "execute_result"
    }
   ],
   "source": [
    "# B -- business days -- Mon - Fri\n",
    "pd.date_range(start='2023-05-01', end = '2023-05-31', freq = 'B')"
   ]
  },
  {
   "cell_type": "code",
   "execution_count": 52,
   "id": "b8359fa3",
   "metadata": {},
   "outputs": [
    {
     "name": "stdout",
     "output_type": "stream",
     "text": [
      "DatetimeIndex(['2023-05-07', '2023-05-14', '2023-05-21', '2023-05-28'], dtype='datetime64[ns]', freq='W-SUN')\n",
      "DatetimeIndex(['2023-05-05', '2023-05-12', '2023-05-19', '2023-05-26'], dtype='datetime64[ns]', freq='W-FRI')\n"
     ]
    }
   ],
   "source": [
    "# W - 1 week per day\n",
    "print(pd.date_range(start='2023-05-01', end = '2023-05-31', freq = 'W'))\n",
    "print(pd.date_range(start='2023-05-01', end = '2023-05-31', freq = 'W-FRI'))"
   ]
  },
  {
   "cell_type": "code",
   "execution_count": 53,
   "id": "17926bc2",
   "metadata": {},
   "outputs": [
    {
     "name": "stdout",
     "output_type": "stream",
     "text": [
      "DatetimeIndex(['2023-05-01 00:00:00', '2023-05-01 01:00:00',\n",
      "               '2023-05-01 02:00:00', '2023-05-01 03:00:00',\n",
      "               '2023-05-01 04:00:00', '2023-05-01 05:00:00',\n",
      "               '2023-05-01 06:00:00', '2023-05-01 07:00:00',\n",
      "               '2023-05-01 08:00:00', '2023-05-01 09:00:00',\n",
      "               ...\n",
      "               '2023-05-30 15:00:00', '2023-05-30 16:00:00',\n",
      "               '2023-05-30 17:00:00', '2023-05-30 18:00:00',\n",
      "               '2023-05-30 19:00:00', '2023-05-30 20:00:00',\n",
      "               '2023-05-30 21:00:00', '2023-05-30 22:00:00',\n",
      "               '2023-05-30 23:00:00', '2023-05-31 00:00:00'],\n",
      "              dtype='datetime64[ns]', length=721, freq='h')\n",
      "===========================================================\n",
      "\n",
      "DatetimeIndex(['2023-05-01 00:00:00', '2023-05-01 06:00:00',\n",
      "               '2023-05-01 12:00:00', '2023-05-01 18:00:00',\n",
      "               '2023-05-02 00:00:00', '2023-05-02 06:00:00',\n",
      "               '2023-05-02 12:00:00', '2023-05-02 18:00:00',\n",
      "               '2023-05-03 00:00:00', '2023-05-03 06:00:00',\n",
      "               ...\n",
      "               '2023-05-28 18:00:00', '2023-05-29 00:00:00',\n",
      "               '2023-05-29 06:00:00', '2023-05-29 12:00:00',\n",
      "               '2023-05-29 18:00:00', '2023-05-30 00:00:00',\n",
      "               '2023-05-30 06:00:00', '2023-05-30 12:00:00',\n",
      "               '2023-05-30 18:00:00', '2023-05-31 00:00:00'],\n",
      "              dtype='datetime64[ns]', length=121, freq='6h')\n"
     ]
    },
    {
     "name": "stderr",
     "output_type": "stream",
     "text": [
      "C:\\Users\\sasha\\AppData\\Local\\Temp\\ipykernel_18444\\2635264867.py:2: FutureWarning: 'H' is deprecated and will be removed in a future version, please use 'h' instead.\n",
      "  print(pd.date_range(start='2023-05-01', end='2023-05-31',freq='H'))\n",
      "C:\\Users\\sasha\\AppData\\Local\\Temp\\ipykernel_18444\\2635264867.py:4: FutureWarning: 'H' is deprecated and will be removed in a future version, please use 'h' instead.\n",
      "  print(pd.date_range(start='2023-05-01', end='2023-05-31',freq='6H'))\n"
     ]
    }
   ],
   "source": [
    "# H - hourly Data factor -- It will give the hourly timestamp.\n",
    "print(pd.date_range(start='2023-05-01', end='2023-05-31',freq='H'))\n",
    "print(\"===========================================================\\n\")\n",
    "print(pd.date_range(start='2023-05-01', end='2023-05-31',freq='6H'))"
   ]
  },
  {
   "cell_type": "code",
   "execution_count": null,
   "id": "fe9f5725",
   "metadata": {},
   "outputs": [],
   "source": [
    "# M - for month end. -- It will give the month end..\n",
    "print(pd.date_range(start='2023-05-01', end='2023-05-31',freq='M'))"
   ]
  },
  {
   "cell_type": "code",
   "execution_count": 55,
   "id": "4e1858bf",
   "metadata": {},
   "outputs": [
    {
     "name": "stdout",
     "output_type": "stream",
     "text": [
      "DatetimeIndex(['2023-05-01'], dtype='datetime64[ns]', freq='MS')\n"
     ]
    }
   ],
   "source": [
    "# MS - for month start -- it will give month start \n",
    "print(pd.date_range(start='2023-05-01', end='2023-05-31',freq='MS'))"
   ]
  },
  {
   "cell_type": "code",
   "execution_count": 54,
   "id": "9ee416eb",
   "metadata": {},
   "outputs": [
    {
     "name": "stdout",
     "output_type": "stream",
     "text": [
      "DatetimeIndex(['2023-12-31', '2024-12-31', '2025-12-31', '2026-12-31',\n",
      "               '2027-12-31', '2028-12-31', '2029-12-31'],\n",
      "              dtype='datetime64[ns]', freq='YE-DEC')\n"
     ]
    },
    {
     "name": "stderr",
     "output_type": "stream",
     "text": [
      "C:\\Users\\sasha\\AppData\\Local\\Temp\\ipykernel_18444\\3803988507.py:2: FutureWarning: 'A' is deprecated and will be removed in a future version, please use 'YE' instead.\n",
      "  print(pd.date_range(start='2023-05-01', end='2030-05-31',freq='A'))\n"
     ]
    }
   ],
   "source": [
    "# A - to get the year end -- \n",
    "print(pd.date_range(start='2023-05-01', end='2030-05-31',freq='A'))"
   ]
  },
  {
   "cell_type": "code",
   "execution_count": 56,
   "id": "d40f3c59",
   "metadata": {},
   "outputs": [
    {
     "name": "stdout",
     "output_type": "stream",
     "text": [
      "DatetimeIndex(['2024-01-01', '2025-01-01', '2026-01-01', '2027-01-01',\n",
      "               '2028-01-01', '2029-01-01', '2030-01-01'],\n",
      "              dtype='datetime64[ns]', freq='YS-JAN')\n"
     ]
    },
    {
     "name": "stderr",
     "output_type": "stream",
     "text": [
      "C:\\Users\\sasha\\AppData\\Local\\Temp\\ipykernel_18444\\3730297710.py:2: FutureWarning: 'AS' is deprecated and will be removed in a future version, please use 'YS' instead.\n",
      "  print(pd.date_range(start='2023-05-01', end='2030-05-31',freq='AS'))\n"
     ]
    }
   ],
   "source": [
    "# AS -- to get the start date of every year.\n",
    "print(pd.date_range(start='2023-05-01', end='2030-05-31',freq='AS'))"
   ]
  },
  {
   "cell_type": "code",
   "execution_count": 57,
   "id": "6f6a7ea0",
   "metadata": {},
   "outputs": [
    {
     "name": "stdout",
     "output_type": "stream",
     "text": [
      "DatetimeIndex(['2023-01-01', '2023-01-02', '2023-01-03', '2023-01-04',\n",
      "               '2023-01-05', '2023-01-06', '2023-01-07', '2023-01-08',\n",
      "               '2023-01-09', '2023-01-10', '2023-01-11', '2023-01-12',\n",
      "               '2023-01-13', '2023-01-14', '2023-01-15', '2023-01-16',\n",
      "               '2023-01-17', '2023-01-18', '2023-01-19', '2023-01-20'],\n",
      "              dtype='datetime64[ns]', freq='D')\n",
      "====================================================\n",
      "\n",
      "DatetimeIndex(['2023-01-01 00:00:00', '2023-01-01 01:00:00',\n",
      "               '2023-01-01 02:00:00', '2023-01-01 03:00:00',\n",
      "               '2023-01-01 04:00:00', '2023-01-01 05:00:00',\n",
      "               '2023-01-01 06:00:00', '2023-01-01 07:00:00',\n",
      "               '2023-01-01 08:00:00', '2023-01-01 09:00:00',\n",
      "               '2023-01-01 10:00:00', '2023-01-01 11:00:00',\n",
      "               '2023-01-01 12:00:00', '2023-01-01 13:00:00',\n",
      "               '2023-01-01 14:00:00', '2023-01-01 15:00:00',\n",
      "               '2023-01-01 16:00:00', '2023-01-01 17:00:00',\n",
      "               '2023-01-01 18:00:00', '2023-01-01 19:00:00'],\n",
      "              dtype='datetime64[ns]', freq='h')\n",
      "====================================================\n",
      "\n",
      "DatetimeIndex(['2023-01-31', '2023-02-28', '2023-03-31', '2023-04-30',\n",
      "               '2023-05-31', '2023-06-30', '2023-07-31', '2023-08-31',\n",
      "               '2023-09-30', '2023-10-31', '2023-11-30', '2023-12-31',\n",
      "               '2024-01-31', '2024-02-29', '2024-03-31', '2024-04-30',\n",
      "               '2024-05-31', '2024-06-30', '2024-07-31', '2024-08-31'],\n",
      "              dtype='datetime64[ns]', freq='ME')\n"
     ]
    },
    {
     "name": "stderr",
     "output_type": "stream",
     "text": [
      "C:\\Users\\sasha\\AppData\\Local\\Temp\\ipykernel_18444\\2355031408.py:4: FutureWarning: 'H' is deprecated and will be removed in a future version, please use 'h' instead.\n",
      "  print(pd.date_range(start='2023-01-01',periods=20,freq='H'))\n",
      "C:\\Users\\sasha\\AppData\\Local\\Temp\\ipykernel_18444\\2355031408.py:6: FutureWarning: 'M' is deprecated and will be removed in a future version, please use 'ME' instead.\n",
      "  print(pd.date_range(start='2023-01-01',periods=20,freq='M'))\n"
     ]
    }
   ],
   "source": [
    "# Using Period - No of Results.\n",
    "print(pd.date_range(start='2023-01-01',periods=20,freq='D'))\n",
    "print(\"====================================================\\n\")\n",
    "print(pd.date_range(start='2023-01-01',periods=20,freq='H'))\n",
    "print(\"====================================================\\n\")\n",
    "print(pd.date_range(start='2023-01-01',periods=20,freq='M'))"
   ]
  },
  {
   "cell_type": "markdown",
   "id": "1faaa44e",
   "metadata": {},
   "source": [
    "# to_datetime function\n",
    "Convert the exisiting objects to pandas timestamp/DatetimeIndex Objects."
   ]
  },
  {
   "cell_type": "code",
   "execution_count": 23,
   "id": "ed58888e",
   "metadata": {},
   "outputs": [
    {
     "data": {
      "text/plain": [
       "0    2021-01-01\n",
       "1    2022-01-01\n",
       "2    2023-01-01\n",
       "dtype: object"
      ]
     },
     "execution_count": 23,
     "metadata": {},
     "output_type": "execute_result"
    }
   ],
   "source": [
    "my_series = pd.Series(['2021-01-01','2022-01-01','2023-01-01'])\n",
    "my_series"
   ]
  },
  {
   "cell_type": "code",
   "execution_count": 24,
   "id": "9171028a",
   "metadata": {},
   "outputs": [],
   "source": [
    "time_obj = pd.to_datetime(my_series)"
   ]
  },
  {
   "cell_type": "code",
   "execution_count": 25,
   "id": "02c14eb3",
   "metadata": {},
   "outputs": [
    {
     "name": "stdout",
     "output_type": "stream",
     "text": [
      "0    2021\n",
      "1    2022\n",
      "2    2023\n",
      "dtype: int32\n",
      "0    1\n",
      "1    1\n",
      "2    1\n",
      "dtype: int32\n",
      "0    1\n",
      "1    1\n",
      "2    1\n",
      "dtype: int32\n",
      "0    January\n",
      "1    January\n",
      "2    January\n",
      "dtype: object\n",
      "0      Friday\n",
      "1    Saturday\n",
      "2      Sunday\n",
      "dtype: object\n"
     ]
    }
   ],
   "source": [
    "print(time_obj.dt.year)\n",
    "print(time_obj.dt.month)\n",
    "print(time_obj.dt.day)\n",
    "print(time_obj.dt.month_name())\n",
    "print(time_obj.dt.day_name())"
   ]
  },
  {
   "cell_type": "code",
   "execution_count": 26,
   "id": "3d60ff9f",
   "metadata": {},
   "outputs": [
    {
     "data": {
      "text/plain": [
       "0   2021-01-01\n",
       "1   2022-01-01\n",
       "2          NaT\n",
       "dtype: datetime64[ns]"
      ]
     },
     "execution_count": 26,
     "metadata": {},
     "output_type": "execute_result"
    }
   ],
   "source": [
    "# with Error \n",
    "s = pd.Series(['2021-01-01','2022-01-01','2023-130-01'])\n",
    "pd.to_datetime(s,errors= 'coerce')"
   ]
  },
  {
   "cell_type": "code",
   "execution_count": null,
   "id": "451cd32d",
   "metadata": {},
   "outputs": [],
   "source": []
  }
 ],
 "metadata": {
  "kernelspec": {
   "display_name": "Python 3 (ipykernel)",
   "language": "python",
   "name": "python3"
  },
  "language_info": {
   "codemirror_mode": {
    "name": "ipython",
    "version": 3
   },
   "file_extension": ".py",
   "mimetype": "text/x-python",
   "name": "python",
   "nbconvert_exporter": "python",
   "pygments_lexer": "ipython3",
   "version": "3.11.4"
  }
 },
 "nbformat": 4,
 "nbformat_minor": 5
}
