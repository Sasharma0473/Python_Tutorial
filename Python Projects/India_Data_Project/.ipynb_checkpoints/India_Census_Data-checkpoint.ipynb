{
 "cells": [
  {
   "cell_type": "code",
   "execution_count": 1,
   "id": "1201aa02",
   "metadata": {},
   "outputs": [],
   "source": [
    "import numpy as np\n",
    "import pandas as pd"
   ]
  },
  {
   "cell_type": "code",
   "execution_count": 11,
   "id": "1f4d136e",
   "metadata": {},
   "outputs": [
    {
     "data": {
      "text/html": [
       "<div>\n",
       "<style scoped>\n",
       "    .dataframe tbody tr th:only-of-type {\n",
       "        vertical-align: middle;\n",
       "    }\n",
       "\n",
       "    .dataframe tbody tr th {\n",
       "        vertical-align: top;\n",
       "    }\n",
       "\n",
       "    .dataframe thead th {\n",
       "        text-align: right;\n",
       "    }\n",
       "</style>\n",
       "<table border=\"1\" class=\"dataframe\">\n",
       "  <thead>\n",
       "    <tr style=\"text-align: right;\">\n",
       "      <th></th>\n",
       "      <th>District code</th>\n",
       "      <th>State name</th>\n",
       "      <th>District name</th>\n",
       "      <th>Population</th>\n",
       "      <th>Male</th>\n",
       "      <th>Female</th>\n",
       "      <th>Literate</th>\n",
       "      <th>Male_Literate</th>\n",
       "      <th>Female_Literate</th>\n",
       "      <th>SC</th>\n",
       "      <th>...</th>\n",
       "      <th>Power_Parity_Rs_90000_150000</th>\n",
       "      <th>Power_Parity_Rs_45000_150000</th>\n",
       "      <th>Power_Parity_Rs_150000_240000</th>\n",
       "      <th>Power_Parity_Rs_240000_330000</th>\n",
       "      <th>Power_Parity_Rs_150000_330000</th>\n",
       "      <th>Power_Parity_Rs_330000_425000</th>\n",
       "      <th>Power_Parity_Rs_425000_545000</th>\n",
       "      <th>Power_Parity_Rs_330000_545000</th>\n",
       "      <th>Power_Parity_Above_Rs_545000</th>\n",
       "      <th>Total_Power_Parity</th>\n",
       "    </tr>\n",
       "  </thead>\n",
       "  <tbody>\n",
       "    <tr>\n",
       "      <th>0</th>\n",
       "      <td>1</td>\n",
       "      <td>JAMMU AND KASHMIR</td>\n",
       "      <td>Kupwara</td>\n",
       "      <td>870354</td>\n",
       "      <td>474190</td>\n",
       "      <td>396164</td>\n",
       "      <td>439654</td>\n",
       "      <td>282823</td>\n",
       "      <td>156831</td>\n",
       "      <td>1048</td>\n",
       "      <td>...</td>\n",
       "      <td>94</td>\n",
       "      <td>588</td>\n",
       "      <td>71</td>\n",
       "      <td>101</td>\n",
       "      <td>172</td>\n",
       "      <td>74</td>\n",
       "      <td>10</td>\n",
       "      <td>84</td>\n",
       "      <td>15</td>\n",
       "      <td>1119</td>\n",
       "    </tr>\n",
       "    <tr>\n",
       "      <th>1</th>\n",
       "      <td>2</td>\n",
       "      <td>JAMMU AND KASHMIR</td>\n",
       "      <td>Badgam</td>\n",
       "      <td>753745</td>\n",
       "      <td>398041</td>\n",
       "      <td>355704</td>\n",
       "      <td>335649</td>\n",
       "      <td>207741</td>\n",
       "      <td>127908</td>\n",
       "      <td>368</td>\n",
       "      <td>...</td>\n",
       "      <td>126</td>\n",
       "      <td>562</td>\n",
       "      <td>72</td>\n",
       "      <td>89</td>\n",
       "      <td>161</td>\n",
       "      <td>96</td>\n",
       "      <td>28</td>\n",
       "      <td>124</td>\n",
       "      <td>18</td>\n",
       "      <td>1066</td>\n",
       "    </tr>\n",
       "  </tbody>\n",
       "</table>\n",
       "<p>2 rows × 118 columns</p>\n",
       "</div>"
      ],
      "text/plain": [
       "   District code         State name District name  Population    Male  Female  \\\n",
       "0              1  JAMMU AND KASHMIR       Kupwara      870354  474190  396164   \n",
       "1              2  JAMMU AND KASHMIR        Badgam      753745  398041  355704   \n",
       "\n",
       "   Literate  Male_Literate  Female_Literate    SC  ...  \\\n",
       "0    439654         282823           156831  1048  ...   \n",
       "1    335649         207741           127908   368  ...   \n",
       "\n",
       "   Power_Parity_Rs_90000_150000  Power_Parity_Rs_45000_150000  \\\n",
       "0                            94                           588   \n",
       "1                           126                           562   \n",
       "\n",
       "   Power_Parity_Rs_150000_240000  Power_Parity_Rs_240000_330000  \\\n",
       "0                             71                            101   \n",
       "1                             72                             89   \n",
       "\n",
       "   Power_Parity_Rs_150000_330000  Power_Parity_Rs_330000_425000  \\\n",
       "0                            172                             74   \n",
       "1                            161                             96   \n",
       "\n",
       "   Power_Parity_Rs_425000_545000  Power_Parity_Rs_330000_545000  \\\n",
       "0                             10                             84   \n",
       "1                             28                            124   \n",
       "\n",
       "   Power_Parity_Above_Rs_545000  Total_Power_Parity  \n",
       "0                            15                1119  \n",
       "1                            18                1066  \n",
       "\n",
       "[2 rows x 118 columns]"
      ]
     },
     "execution_count": 11,
     "metadata": {},
     "output_type": "execute_result"
    }
   ],
   "source": [
    "latlong = pd.read_csv(r\"C:\\Users\\sasha\\Desktop\\Python\\Python_Tutorial\\Python Projects\\Plotly Project\\district wise centroids.csv\")\n",
    "india_2011 = pd.read_csv(r\"C:\\Users\\sasha\\Desktop\\Python\\Python_Tutorial\\Python Projects\\Plotly Project\\india-districts-census-2011.csv\")\n",
    "india_2011.head(2)"
   ]
  },
  {
   "cell_type": "code",
   "execution_count": 29,
   "id": "97e0ca03",
   "metadata": {},
   "outputs": [
    {
     "data": {
      "text/html": [
       "<div>\n",
       "<style scoped>\n",
       "    .dataframe tbody tr th:only-of-type {\n",
       "        vertical-align: middle;\n",
       "    }\n",
       "\n",
       "    .dataframe tbody tr th {\n",
       "        vertical-align: top;\n",
       "    }\n",
       "\n",
       "    .dataframe thead th {\n",
       "        text-align: right;\n",
       "    }\n",
       "</style>\n",
       "<table border=\"1\" class=\"dataframe\">\n",
       "  <thead>\n",
       "    <tr style=\"text-align: right;\">\n",
       "      <th></th>\n",
       "      <th>State</th>\n",
       "      <th>District</th>\n",
       "      <th>Latitude</th>\n",
       "      <th>Longitude</th>\n",
       "    </tr>\n",
       "  </thead>\n",
       "  <tbody>\n",
       "    <tr>\n",
       "      <th>0</th>\n",
       "      <td>Andaman and Nicobar</td>\n",
       "      <td>Andaman Islands</td>\n",
       "      <td>12.382571</td>\n",
       "      <td>92.822911</td>\n",
       "    </tr>\n",
       "    <tr>\n",
       "      <th>1</th>\n",
       "      <td>Andaman and Nicobar</td>\n",
       "      <td>Nicobar Islands</td>\n",
       "      <td>7.835291</td>\n",
       "      <td>93.511601</td>\n",
       "    </tr>\n",
       "  </tbody>\n",
       "</table>\n",
       "</div>"
      ],
      "text/plain": [
       "                 State         District   Latitude  Longitude\n",
       "0  Andaman and Nicobar  Andaman Islands  12.382571  92.822911\n",
       "1  Andaman and Nicobar  Nicobar Islands   7.835291  93.511601"
      ]
     },
     "execution_count": 29,
     "metadata": {},
     "output_type": "execute_result"
    }
   ],
   "source": [
    "latlong.head(2)"
   ]
  },
  {
   "cell_type": "code",
   "execution_count": 5,
   "id": "cc6e1572",
   "metadata": {},
   "outputs": [
    {
     "data": {
      "text/plain": [
       "(594, 4)"
      ]
     },
     "execution_count": 5,
     "metadata": {},
     "output_type": "execute_result"
    }
   ],
   "source": [
    "latlong.shape"
   ]
  },
  {
   "cell_type": "code",
   "execution_count": 7,
   "id": "e734d3ee",
   "metadata": {},
   "outputs": [
    {
     "data": {
      "text/plain": [
       "State        0\n",
       "District     0\n",
       "Latitude     0\n",
       "Longitude    0\n",
       "dtype: int64"
      ]
     },
     "execution_count": 7,
     "metadata": {},
     "output_type": "execute_result"
    }
   ],
   "source": [
    "latlong.isnull().sum()"
   ]
  },
  {
   "cell_type": "code",
   "execution_count": 9,
   "id": "9eb1e4d7",
   "metadata": {},
   "outputs": [
    {
     "data": {
      "text/plain": [
       "0"
      ]
     },
     "execution_count": 9,
     "metadata": {},
     "output_type": "execute_result"
    }
   ],
   "source": [
    "latlong.duplicated().sum()"
   ]
  },
  {
   "cell_type": "code",
   "execution_count": 12,
   "id": "0a0b76c4",
   "metadata": {},
   "outputs": [
    {
     "data": {
      "text/plain": [
       "(640, 118)"
      ]
     },
     "execution_count": 12,
     "metadata": {},
     "output_type": "execute_result"
    }
   ],
   "source": [
    "india_2011.shape"
   ]
  },
  {
   "cell_type": "code",
   "execution_count": 17,
   "id": "77f39c5d",
   "metadata": {},
   "outputs": [
    {
     "data": {
      "text/plain": [
       "District code                    0\n",
       "State name                       0\n",
       "District name                    0\n",
       "Population                       0\n",
       "Male                             0\n",
       "                                ..\n",
       "Power_Parity_Rs_330000_425000    0\n",
       "Power_Parity_Rs_425000_545000    0\n",
       "Power_Parity_Rs_330000_545000    0\n",
       "Power_Parity_Above_Rs_545000     0\n",
       "Total_Power_Parity               0\n",
       "Length: 118, dtype: int64"
      ]
     },
     "execution_count": 17,
     "metadata": {},
     "output_type": "execute_result"
    }
   ],
   "source": [
    "india_2011.isnull().sum()"
   ]
  },
  {
   "cell_type": "code",
   "execution_count": 18,
   "id": "6c3b4cd9",
   "metadata": {},
   "outputs": [
    {
     "data": {
      "text/plain": [
       "0"
      ]
     },
     "execution_count": 18,
     "metadata": {},
     "output_type": "execute_result"
    }
   ],
   "source": [
    "india_2011.duplicated().sum()"
   ]
  },
  {
   "cell_type": "code",
   "execution_count": 20,
   "id": "cd149cd2",
   "metadata": {},
   "outputs": [
    {
     "name": "stdout",
     "output_type": "stream",
     "text": [
      "<class 'pandas.core.frame.DataFrame'>\n",
      "RangeIndex: 640 entries, 0 to 639\n",
      "Columns: 118 entries, District code to Total_Power_Parity\n",
      "dtypes: int64(116), object(2)\n",
      "memory usage: 590.1+ KB\n"
     ]
    }
   ],
   "source": [
    "india_2011.info()"
   ]
  },
  {
   "cell_type": "code",
   "execution_count": 22,
   "id": "e39d0709",
   "metadata": {},
   "outputs": [],
   "source": [
    "# India cencus Data has 118 cols but we need only few columns for analysis \n",
    "cols = ['District code','District name','Population','Male','Female','Literate','Households_with_Internet','Housholds_with_Electric_Lighting']"
   ]
  },
  {
   "cell_type": "code",
   "execution_count": 26,
   "id": "9edbe2cc",
   "metadata": {},
   "outputs": [],
   "source": [
    "india_2011 = india_2011[cols]"
   ]
  },
  {
   "cell_type": "code",
   "execution_count": 28,
   "id": "2986da85",
   "metadata": {},
   "outputs": [
    {
     "data": {
      "text/html": [
       "<div>\n",
       "<style scoped>\n",
       "    .dataframe tbody tr th:only-of-type {\n",
       "        vertical-align: middle;\n",
       "    }\n",
       "\n",
       "    .dataframe tbody tr th {\n",
       "        vertical-align: top;\n",
       "    }\n",
       "\n",
       "    .dataframe thead th {\n",
       "        text-align: right;\n",
       "    }\n",
       "</style>\n",
       "<table border=\"1\" class=\"dataframe\">\n",
       "  <thead>\n",
       "    <tr style=\"text-align: right;\">\n",
       "      <th></th>\n",
       "      <th>District code</th>\n",
       "      <th>District name</th>\n",
       "      <th>Population</th>\n",
       "      <th>Male</th>\n",
       "      <th>Female</th>\n",
       "      <th>Literate</th>\n",
       "      <th>Households_with_Internet</th>\n",
       "      <th>Housholds_with_Electric_Lighting</th>\n",
       "    </tr>\n",
       "  </thead>\n",
       "  <tbody>\n",
       "    <tr>\n",
       "      <th>0</th>\n",
       "      <td>1</td>\n",
       "      <td>Kupwara</td>\n",
       "      <td>870354</td>\n",
       "      <td>474190</td>\n",
       "      <td>396164</td>\n",
       "      <td>439654</td>\n",
       "      <td>762</td>\n",
       "      <td>83071</td>\n",
       "    </tr>\n",
       "    <tr>\n",
       "      <th>1</th>\n",
       "      <td>2</td>\n",
       "      <td>Badgam</td>\n",
       "      <td>753745</td>\n",
       "      <td>398041</td>\n",
       "      <td>355704</td>\n",
       "      <td>335649</td>\n",
       "      <td>1999</td>\n",
       "      <td>90190</td>\n",
       "    </tr>\n",
       "  </tbody>\n",
       "</table>\n",
       "</div>"
      ],
      "text/plain": [
       "   District code District name  Population    Male  Female  Literate  \\\n",
       "0              1       Kupwara      870354  474190  396164    439654   \n",
       "1              2        Badgam      753745  398041  355704    335649   \n",
       "\n",
       "   Households_with_Internet  Housholds_with_Electric_Lighting  \n",
       "0                       762                             83071  \n",
       "1                      1999                             90190  "
      ]
     },
     "execution_count": 28,
     "metadata": {},
     "output_type": "execute_result"
    }
   ],
   "source": [
    "india_2011.head(2)"
   ]
  },
  {
   "cell_type": "code",
   "execution_count": 32,
   "id": "1570fc1b",
   "metadata": {},
   "outputs": [],
   "source": [
    "india_census_data = latlong.merge(india_2011,left_on='District',right_on='District name').drop(columns=['District name'])"
   ]
  },
  {
   "cell_type": "code",
   "execution_count": 33,
   "id": "a348bae4",
   "metadata": {},
   "outputs": [
    {
     "data": {
      "text/plain": [
       "(517, 11)"
      ]
     },
     "execution_count": 33,
     "metadata": {},
     "output_type": "execute_result"
    }
   ],
   "source": [
    "india_census_data.shape"
   ]
  },
  {
   "cell_type": "code",
   "execution_count": 34,
   "id": "549b0657",
   "metadata": {},
   "outputs": [
    {
     "data": {
      "text/html": [
       "<div>\n",
       "<style scoped>\n",
       "    .dataframe tbody tr th:only-of-type {\n",
       "        vertical-align: middle;\n",
       "    }\n",
       "\n",
       "    .dataframe tbody tr th {\n",
       "        vertical-align: top;\n",
       "    }\n",
       "\n",
       "    .dataframe thead th {\n",
       "        text-align: right;\n",
       "    }\n",
       "</style>\n",
       "<table border=\"1\" class=\"dataframe\">\n",
       "  <thead>\n",
       "    <tr style=\"text-align: right;\">\n",
       "      <th></th>\n",
       "      <th>State</th>\n",
       "      <th>District</th>\n",
       "      <th>Latitude</th>\n",
       "      <th>Longitude</th>\n",
       "      <th>District code</th>\n",
       "      <th>Population</th>\n",
       "      <th>Male</th>\n",
       "      <th>Female</th>\n",
       "      <th>Literate</th>\n",
       "      <th>Households_with_Internet</th>\n",
       "      <th>Housholds_with_Electric_Lighting</th>\n",
       "    </tr>\n",
       "  </thead>\n",
       "  <tbody>\n",
       "    <tr>\n",
       "      <th>0</th>\n",
       "      <td>Andhra Pradesh</td>\n",
       "      <td>Adilabad</td>\n",
       "      <td>19.284514</td>\n",
       "      <td>78.813212</td>\n",
       "      <td>532</td>\n",
       "      <td>2741239</td>\n",
       "      <td>1369597</td>\n",
       "      <td>1371642</td>\n",
       "      <td>1483347</td>\n",
       "      <td>5512</td>\n",
       "      <td>566108</td>\n",
       "    </tr>\n",
       "    <tr>\n",
       "      <th>1</th>\n",
       "      <td>Andhra Pradesh</td>\n",
       "      <td>Anantapur</td>\n",
       "      <td>14.312066</td>\n",
       "      <td>77.460158</td>\n",
       "      <td>553</td>\n",
       "      <td>4081148</td>\n",
       "      <td>2064495</td>\n",
       "      <td>2016653</td>\n",
       "      <td>2310960</td>\n",
       "      <td>8606</td>\n",
       "      <td>897970</td>\n",
       "    </tr>\n",
       "  </tbody>\n",
       "</table>\n",
       "</div>"
      ],
      "text/plain": [
       "            State   District   Latitude  Longitude  District code  Population  \\\n",
       "0  Andhra Pradesh   Adilabad  19.284514  78.813212            532     2741239   \n",
       "1  Andhra Pradesh  Anantapur  14.312066  77.460158            553     4081148   \n",
       "\n",
       "      Male   Female  Literate  Households_with_Internet  \\\n",
       "0  1369597  1371642   1483347                      5512   \n",
       "1  2064495  2016653   2310960                      8606   \n",
       "\n",
       "   Housholds_with_Electric_Lighting  \n",
       "0                            566108  \n",
       "1                            897970  "
      ]
     },
     "execution_count": 34,
     "metadata": {},
     "output_type": "execute_result"
    }
   ],
   "source": [
    "india_census_data.head(2)"
   ]
  },
  {
   "cell_type": "code",
   "execution_count": 38,
   "id": "6099e343",
   "metadata": {},
   "outputs": [],
   "source": [
    "# So In the india_census_data we will create 2 calculated columns literacy_rate and sex_ratio\n",
    "india_census_data['Sex_Ratio']= round(india_census_data['Female']/india_census_data['Male']*100)"
   ]
  },
  {
   "cell_type": "code",
   "execution_count": 39,
   "id": "19b1b27f",
   "metadata": {},
   "outputs": [
    {
     "data": {
      "text/html": [
       "<div>\n",
       "<style scoped>\n",
       "    .dataframe tbody tr th:only-of-type {\n",
       "        vertical-align: middle;\n",
       "    }\n",
       "\n",
       "    .dataframe tbody tr th {\n",
       "        vertical-align: top;\n",
       "    }\n",
       "\n",
       "    .dataframe thead th {\n",
       "        text-align: right;\n",
       "    }\n",
       "</style>\n",
       "<table border=\"1\" class=\"dataframe\">\n",
       "  <thead>\n",
       "    <tr style=\"text-align: right;\">\n",
       "      <th></th>\n",
       "      <th>State</th>\n",
       "      <th>District</th>\n",
       "      <th>Latitude</th>\n",
       "      <th>Longitude</th>\n",
       "      <th>District code</th>\n",
       "      <th>Population</th>\n",
       "      <th>Male</th>\n",
       "      <th>Female</th>\n",
       "      <th>Literate</th>\n",
       "      <th>Households_with_Internet</th>\n",
       "      <th>Housholds_with_Electric_Lighting</th>\n",
       "      <th>Sex_Ratio</th>\n",
       "    </tr>\n",
       "  </thead>\n",
       "  <tbody>\n",
       "    <tr>\n",
       "      <th>0</th>\n",
       "      <td>Andhra Pradesh</td>\n",
       "      <td>Adilabad</td>\n",
       "      <td>19.284514</td>\n",
       "      <td>78.813212</td>\n",
       "      <td>532</td>\n",
       "      <td>2741239</td>\n",
       "      <td>1369597</td>\n",
       "      <td>1371642</td>\n",
       "      <td>1483347</td>\n",
       "      <td>5512</td>\n",
       "      <td>566108</td>\n",
       "      <td>100.0</td>\n",
       "    </tr>\n",
       "    <tr>\n",
       "      <th>1</th>\n",
       "      <td>Andhra Pradesh</td>\n",
       "      <td>Anantapur</td>\n",
       "      <td>14.312066</td>\n",
       "      <td>77.460158</td>\n",
       "      <td>553</td>\n",
       "      <td>4081148</td>\n",
       "      <td>2064495</td>\n",
       "      <td>2016653</td>\n",
       "      <td>2310960</td>\n",
       "      <td>8606</td>\n",
       "      <td>897970</td>\n",
       "      <td>98.0</td>\n",
       "    </tr>\n",
       "    <tr>\n",
       "      <th>2</th>\n",
       "      <td>Andhra Pradesh</td>\n",
       "      <td>Chittoor</td>\n",
       "      <td>13.331093</td>\n",
       "      <td>78.927639</td>\n",
       "      <td>554</td>\n",
       "      <td>4174064</td>\n",
       "      <td>2090204</td>\n",
       "      <td>2083860</td>\n",
       "      <td>2667878</td>\n",
       "      <td>13763</td>\n",
       "      <td>944555</td>\n",
       "      <td>100.0</td>\n",
       "    </tr>\n",
       "    <tr>\n",
       "      <th>3</th>\n",
       "      <td>Andhra Pradesh</td>\n",
       "      <td>East Godavari</td>\n",
       "      <td>16.782718</td>\n",
       "      <td>82.243207</td>\n",
       "      <td>545</td>\n",
       "      <td>5154296</td>\n",
       "      <td>2569688</td>\n",
       "      <td>2584608</td>\n",
       "      <td>3288577</td>\n",
       "      <td>22411</td>\n",
       "      <td>1297273</td>\n",
       "      <td>101.0</td>\n",
       "    </tr>\n",
       "    <tr>\n",
       "      <th>4</th>\n",
       "      <td>Andhra Pradesh</td>\n",
       "      <td>Guntur</td>\n",
       "      <td>15.884926</td>\n",
       "      <td>80.586576</td>\n",
       "      <td>548</td>\n",
       "      <td>4887813</td>\n",
       "      <td>2440521</td>\n",
       "      <td>2447292</td>\n",
       "      <td>2960441</td>\n",
       "      <td>19383</td>\n",
       "      <td>1186028</td>\n",
       "      <td>100.0</td>\n",
       "    </tr>\n",
       "    <tr>\n",
       "      <th>...</th>\n",
       "      <td>...</td>\n",
       "      <td>...</td>\n",
       "      <td>...</td>\n",
       "      <td>...</td>\n",
       "      <td>...</td>\n",
       "      <td>...</td>\n",
       "      <td>...</td>\n",
       "      <td>...</td>\n",
       "      <td>...</td>\n",
       "      <td>...</td>\n",
       "      <td>...</td>\n",
       "      <td>...</td>\n",
       "    </tr>\n",
       "    <tr>\n",
       "      <th>512</th>\n",
       "      <td>West Bengal</td>\n",
       "      <td>Maldah</td>\n",
       "      <td>25.080268</td>\n",
       "      <td>88.171917</td>\n",
       "      <td>332</td>\n",
       "      <td>3988845</td>\n",
       "      <td>2051541</td>\n",
       "      <td>1937304</td>\n",
       "      <td>2086432</td>\n",
       "      <td>5357</td>\n",
       "      <td>297716</td>\n",
       "      <td>94.0</td>\n",
       "    </tr>\n",
       "    <tr>\n",
       "      <th>513</th>\n",
       "      <td>West Bengal</td>\n",
       "      <td>Murshidabad</td>\n",
       "      <td>24.259507</td>\n",
       "      <td>88.168169</td>\n",
       "      <td>333</td>\n",
       "      <td>7103807</td>\n",
       "      <td>3627564</td>\n",
       "      <td>3476243</td>\n",
       "      <td>4055834</td>\n",
       "      <td>7951</td>\n",
       "      <td>541169</td>\n",
       "      <td>96.0</td>\n",
       "    </tr>\n",
       "    <tr>\n",
       "      <th>514</th>\n",
       "      <td>West Bengal</td>\n",
       "      <td>Nadia</td>\n",
       "      <td>23.564110</td>\n",
       "      <td>88.582930</td>\n",
       "      <td>336</td>\n",
       "      <td>5167600</td>\n",
       "      <td>2653768</td>\n",
       "      <td>2513832</td>\n",
       "      <td>3480555</td>\n",
       "      <td>12787</td>\n",
       "      <td>623729</td>\n",
       "      <td>95.0</td>\n",
       "    </tr>\n",
       "    <tr>\n",
       "      <th>515</th>\n",
       "      <td>West Bengal</td>\n",
       "      <td>Puruliya</td>\n",
       "      <td>23.254192</td>\n",
       "      <td>86.396853</td>\n",
       "      <td>340</td>\n",
       "      <td>2930115</td>\n",
       "      <td>1496996</td>\n",
       "      <td>1433119</td>\n",
       "      <td>1624905</td>\n",
       "      <td>3551</td>\n",
       "      <td>189889</td>\n",
       "      <td>96.0</td>\n",
       "    </tr>\n",
       "    <tr>\n",
       "      <th>516</th>\n",
       "      <td>West Bengal</td>\n",
       "      <td>Uttar Dinajpur</td>\n",
       "      <td>26.044619</td>\n",
       "      <td>88.235952</td>\n",
       "      <td>330</td>\n",
       "      <td>3007134</td>\n",
       "      <td>1551066</td>\n",
       "      <td>1456068</td>\n",
       "      <td>1489667</td>\n",
       "      <td>2883</td>\n",
       "      <td>199307</td>\n",
       "      <td>94.0</td>\n",
       "    </tr>\n",
       "  </tbody>\n",
       "</table>\n",
       "<p>517 rows × 12 columns</p>\n",
       "</div>"
      ],
      "text/plain": [
       "              State        District   Latitude  Longitude  District code  \\\n",
       "0    Andhra Pradesh        Adilabad  19.284514  78.813212            532   \n",
       "1    Andhra Pradesh       Anantapur  14.312066  77.460158            553   \n",
       "2    Andhra Pradesh        Chittoor  13.331093  78.927639            554   \n",
       "3    Andhra Pradesh   East Godavari  16.782718  82.243207            545   \n",
       "4    Andhra Pradesh          Guntur  15.884926  80.586576            548   \n",
       "..              ...             ...        ...        ...            ...   \n",
       "512     West Bengal          Maldah  25.080268  88.171917            332   \n",
       "513     West Bengal     Murshidabad  24.259507  88.168169            333   \n",
       "514     West Bengal           Nadia  23.564110  88.582930            336   \n",
       "515     West Bengal        Puruliya  23.254192  86.396853            340   \n",
       "516     West Bengal  Uttar Dinajpur  26.044619  88.235952            330   \n",
       "\n",
       "     Population     Male   Female  Literate  Households_with_Internet  \\\n",
       "0       2741239  1369597  1371642   1483347                      5512   \n",
       "1       4081148  2064495  2016653   2310960                      8606   \n",
       "2       4174064  2090204  2083860   2667878                     13763   \n",
       "3       5154296  2569688  2584608   3288577                     22411   \n",
       "4       4887813  2440521  2447292   2960441                     19383   \n",
       "..          ...      ...      ...       ...                       ...   \n",
       "512     3988845  2051541  1937304   2086432                      5357   \n",
       "513     7103807  3627564  3476243   4055834                      7951   \n",
       "514     5167600  2653768  2513832   3480555                     12787   \n",
       "515     2930115  1496996  1433119   1624905                      3551   \n",
       "516     3007134  1551066  1456068   1489667                      2883   \n",
       "\n",
       "     Housholds_with_Electric_Lighting  Sex_Ratio  \n",
       "0                              566108      100.0  \n",
       "1                              897970       98.0  \n",
       "2                              944555      100.0  \n",
       "3                             1297273      101.0  \n",
       "4                             1186028      100.0  \n",
       "..                                ...        ...  \n",
       "512                            297716       94.0  \n",
       "513                            541169       96.0  \n",
       "514                            623729       95.0  \n",
       "515                            189889       96.0  \n",
       "516                            199307       94.0  \n",
       "\n",
       "[517 rows x 12 columns]"
      ]
     },
     "execution_count": 39,
     "metadata": {},
     "output_type": "execute_result"
    }
   ],
   "source": [
    "india_census_data"
   ]
  },
  {
   "cell_type": "code",
   "execution_count": 45,
   "id": "7e3f92c3",
   "metadata": {},
   "outputs": [],
   "source": [
    "india_census_data['Literacy_rate']= round((india_census_data['Literate']/india_census_data['Population'])*100)"
   ]
  },
  {
   "cell_type": "code",
   "execution_count": 51,
   "id": "d39b5864",
   "metadata": {},
   "outputs": [],
   "source": [
    "india_census_data.drop(columns=['Male','Female','Literate'],inplace=True)"
   ]
  },
  {
   "cell_type": "code",
   "execution_count": 53,
   "id": "cc2896a7",
   "metadata": {},
   "outputs": [],
   "source": [
    "india_census_data.to_csv('India.csv')"
   ]
  },
  {
   "cell_type": "code",
   "execution_count": null,
   "id": "2633eba2",
   "metadata": {},
   "outputs": [],
   "source": []
  },
  {
   "cell_type": "code",
   "execution_count": null,
   "id": "851e13a5",
   "metadata": {},
   "outputs": [],
   "source": []
  },
  {
   "cell_type": "code",
   "execution_count": null,
   "id": "1cb62675",
   "metadata": {},
   "outputs": [],
   "source": []
  },
  {
   "cell_type": "code",
   "execution_count": null,
   "id": "7e1c0c72",
   "metadata": {},
   "outputs": [],
   "source": []
  },
  {
   "cell_type": "code",
   "execution_count": null,
   "id": "35bea812",
   "metadata": {},
   "outputs": [],
   "source": []
  },
  {
   "cell_type": "code",
   "execution_count": null,
   "id": "32e57cb5",
   "metadata": {},
   "outputs": [],
   "source": []
  },
  {
   "cell_type": "code",
   "execution_count": null,
   "id": "1f9d3d0d",
   "metadata": {},
   "outputs": [],
   "source": []
  },
  {
   "cell_type": "code",
   "execution_count": null,
   "id": "87511b1d",
   "metadata": {},
   "outputs": [],
   "source": []
  },
  {
   "cell_type": "code",
   "execution_count": null,
   "id": "f82950b6",
   "metadata": {},
   "outputs": [],
   "source": []
  },
  {
   "cell_type": "code",
   "execution_count": null,
   "id": "5038a55c",
   "metadata": {},
   "outputs": [],
   "source": []
  },
  {
   "cell_type": "code",
   "execution_count": null,
   "id": "0e8881a1",
   "metadata": {},
   "outputs": [],
   "source": []
  },
  {
   "cell_type": "code",
   "execution_count": null,
   "id": "90da0de1",
   "metadata": {},
   "outputs": [],
   "source": []
  }
 ],
 "metadata": {
  "kernelspec": {
   "display_name": "Python 3 (ipykernel)",
   "language": "python",
   "name": "python3"
  },
  "language_info": {
   "codemirror_mode": {
    "name": "ipython",
    "version": 3
   },
   "file_extension": ".py",
   "mimetype": "text/x-python",
   "name": "python",
   "nbconvert_exporter": "python",
   "pygments_lexer": "ipython3",
   "version": "3.11.4"
  }
 },
 "nbformat": 4,
 "nbformat_minor": 5
}
