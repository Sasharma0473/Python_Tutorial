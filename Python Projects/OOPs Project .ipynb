{
 "cells": [
  {
   "cell_type": "markdown",
   "id": "132e6fbc",
   "metadata": {},
   "source": [
    "### About Project \n",
    "\n",
    "    # This Object Oriented project is based on the Natural Language processing.\n",
    "\n",
    "    # 1). Named Entity Recognition:- In this we Basically provide the Natural Language text to the Software. \n",
    "                                     Then It will identify what all are the programming language used in the Text.\n",
    "\n",
    "    # 2). Language Detection:- In this we provide text to the software and it will detect what kind of language \n",
    "                               we are using in that like english , hindi, marathi etc\n",
    "\n",
    "    # 3). Sentimental Analysis:- In this we basically input one text and it will tell what is the sentiment of that text. \n",
    "    #                            whether its happy, sad, angry etc.\n"
   ]
  },
  {
   "cell_type": "markdown",
   "id": "9e14a129",
   "metadata": {},
   "source": [
    "### Plan of Attack\n",
    "\n",
    "    NLP Cloud ---> Its a API Provider.\n",
    "    \n",
    "    API --> Api ko hum ek function ki tarah image kr sakte h jo kisi website ke server pr pada hua h. \n",
    "    \n",
    "    Example:-\n",
    "    like def named_entity_recoginition(paragraph, prog_lang) this is the function you can consider it as a API which will \n",
    "    return the prog lang which is present in the paragraph. And This function will be present on the server in the form \n",
    "    of a URL which will return the output.\n",
    "    \n",
    "    We are going to use OOPs in python and create a code which will hit that url with the right set of paraneter."
   ]
  },
  {
   "cell_type": "code",
   "execution_count": 1,
   "id": "4ef83069",
   "metadata": {},
   "outputs": [],
   "source": [
    "import nlpcloud"
   ]
  },
  {
   "cell_type": "code",
   "execution_count": null,
   "id": "ae2787c0",
   "metadata": {},
   "outputs": [],
   "source": [
    "client = nlpcloud.Client(\"finetuned-llama-3-70b\", \"9dbd2568c1b6eed0fc2bcda141a4a62919119985\", gpu=True)\n",
    "client.entities(\n",
    "    \"\"\"John Doe started learning Javascript when he was 15 years old. After a couple of years he switched to Python and starter learning low level programming. He is now a Go expert at Google.\"\"\",\n",
    "    searched_entity=\"programming languages\"\n",
    "    \n",
    ")"
   ]
  },
  {
   "cell_type": "code",
   "execution_count": null,
   "id": "567bb65e",
   "metadata": {},
   "outputs": [],
   "source": [
    "import nlpcloud\n",
    "\n",
    "client = nlpcloud.Client(\"finetuned-llama-3-70b\", \"9dbd2568c1b6eed0fc2bcda141a4a62919119985\", gpu=True)\n",
    "client.sentiment(\n",
    "    \"\"\"I hate convoluted products with poor documentation. I see such products all the time. But NLP Cloud is not like that!\"\"\",\n",
    "    target=\"NLP Cloud\"\n",
    ")"
   ]
  },
  {
   "cell_type": "code",
   "execution_count": 2,
   "id": "1d174d66",
   "metadata": {},
   "outputs": [
    {
     "ename": "AttributeError",
     "evalue": "'Client' object has no attribute 'lang_detection'",
     "output_type": "error",
     "traceback": [
      "\u001b[1;31m---------------------------------------------------------------------------\u001b[0m",
      "\u001b[1;31mAttributeError\u001b[0m                            Traceback (most recent call last)",
      "Cell \u001b[1;32mIn[2], line 2\u001b[0m\n\u001b[0;32m      1\u001b[0m client \u001b[38;5;241m=\u001b[39m nlpcloud\u001b[38;5;241m.\u001b[39mClient(\u001b[38;5;124m\"\u001b[39m\u001b[38;5;124mpython-langdetect\u001b[39m\u001b[38;5;124m\"\u001b[39m, \u001b[38;5;124m\"\u001b[39m\u001b[38;5;124m9dbd2568c1b6eed0fc2bcda141a4a62919119985\u001b[39m\u001b[38;5;124m\"\u001b[39m, gpu\u001b[38;5;241m=\u001b[39m\u001b[38;5;28;01mFalse\u001b[39;00m)\n\u001b[1;32m----> 2\u001b[0m \u001b[43mclient\u001b[49m\u001b[38;5;241;43m.\u001b[39;49m\u001b[43mlang_detection\u001b[49m(\u001b[38;5;124m\"\"\"\u001b[39m\u001b[38;5;124mJohn Doe has been working for Microsoft in Seattle since 1999. Et il parle aussi un peu français.\u001b[39m\u001b[38;5;124m\"\"\"\u001b[39m)\n",
      "\u001b[1;31mAttributeError\u001b[0m: 'Client' object has no attribute 'lang_detection'"
     ]
    }
   ],
   "source": [
    "client = nlpcloud.Client(\"python-langdetect\", \"9dbd2568c1b6eed0fc2bcda141a4a62919119985\", gpu=False)\n",
    "client.lang_detection(\"\"\"John Doe has been working for Microsoft in Seattle since 1999. Et il parle aussi un peu français.\"\"\")"
   ]
  },
  {
   "cell_type": "code",
   "execution_count": null,
   "id": "78d1df7e",
   "metadata": {},
   "outputs": [],
   "source": [
    "import nlpcloud\n",
    "\n",
    "class NlpApp:\n",
    "    def __init__(self):\n",
    "        self.__database = {}\n",
    "        self.__first_menu()\n",
    "        self.__second_menu()\n",
    "        \n",
    "    def __first_menu(self):\n",
    "        first_input = input(\"\"\"\n",
    "        Hi!!! How would you like to proceed?\n",
    "        1). Not a Member? Register here.\n",
    "        2). Already a Member? Login.\n",
    "        3). Galt aa gye bhaiya? Exit\n",
    "        \"\"\")\n",
    "        \n",
    "        if first_input == '1':\n",
    "            self.__Register()\n",
    "        elif first_input == '2':\n",
    "            self.__login()\n",
    "        else:\n",
    "            exit()\n",
    "            \n",
    "    def __second_menu(self):\n",
    "        \n",
    "        second_input = input(\"\"\"\n",
    "        Hi!!! How would you like to proceed?\n",
    "        1). Named-Entity Recognition\n",
    "        2). Language Detetction\n",
    "        3). Sentimental Anlaysis\n",
    "        4). Logout\n",
    "        \"\"\")\n",
    "        \n",
    "        if second_input == '1':\n",
    "            self.__ner()\n",
    "        elif second_input == '2':\n",
    "            self.__language_detetction()\n",
    "        elif second_input == '3': \n",
    "            self.__sentimental_analysis()\n",
    "        else:\n",
    "            exit()\n",
    "        \n",
    "    def __Register(self):\n",
    "        # print('Register')\n",
    "        input_name = input(\"Enter the Name\")\n",
    "        input_email = input(\"Enter the Email\")\n",
    "        input_password = input(\"Enter Password\")\n",
    "        \n",
    "        if input_email in self.__database:\n",
    "            print('Email Already Exit')\n",
    "        else:\n",
    "            self.__database[input_email] = [input_name,input_password]\n",
    "            print('Registration Successful. Now Login')\n",
    "            print(self.__database)\n",
    "            # self.__login()\n",
    "            self.__first_menu()\n",
    "            \n",
    "    \n",
    "    def __login(self):\n",
    "        # print('Login')\n",
    "        input_email = input('Enter the Email')\n",
    "        input_password = input('Enter the Password')\n",
    "        \n",
    "        if input_email in self.__database:\n",
    "            if self.__database[input_email][1] == input_password:\n",
    "                print('Login is Successful')\n",
    "                self.__second_menu()\n",
    "            else:\n",
    "                print('Wrong Password!!! Try Again')\n",
    "                self.__login()\n",
    "        else:\n",
    "            print('This Email is Not Registered. Register here')\n",
    "            self.__first_menu()\n",
    "            \n",
    "    def __ner(self):\n",
    "        input_para = input('Enter the Paragraph')\n",
    "        input_search_term = input('What you want to search in that Paragraph')\n",
    "        \n",
    "        client = nlpcloud.Client(\"finetuned-llama-3-70b\", \"9dbd2568c1b6eed0fc2bcda141a4a62919119985\", gpu=True)\n",
    "        response = client.entities(input_para, searched_entity=input_search_term)\n",
    "        print(response)\n",
    "        self.__second_menu()\n",
    "        \n",
    "    def __language_detetction(self):\n",
    "        pass\n",
    "        \n",
    "    def __sentimental_analysis(self):\n",
    "        input_para = input('Enter the Paragraph')\n",
    "        \n",
    "        client = nlpcloud.Client(\"finetuned-llama-3-70b\", \"9dbd2568c1b6eed0fc2bcda141a4a62919119985\", gpu=True)\n",
    "        response = client.sentiment(input_para,target=\"NLP Cloud\")\n",
    "        \n",
    "        lst = []\n",
    "        for i in response['scored_labels']:\n",
    "            # print(i)\n",
    "            lst.append(i['score'])\n",
    "        # print(list(enumerate(lst)))\n",
    "        index = sorted(list(enumerate(lst)),key=lambda x:x[1],reverse=True)[0][0]\n",
    "        \n",
    "        print(response)\n",
    "        print(response['scored_labels'][index]['label'])\n",
    "        self.__second_menu()\n",
    "        "
   ]
  },
  {
   "cell_type": "code",
   "execution_count": null,
   "id": "067b92bc",
   "metadata": {},
   "outputs": [],
   "source": [
    "obj = NlpApp()"
   ]
  },
  {
   "cell_type": "markdown",
   "id": "698385de",
   "metadata": {},
   "source": [
    "### Logic for Sentimental Analysis"
   ]
  },
  {
   "cell_type": "code",
   "execution_count": null,
   "id": "ef94cf41",
   "metadata": {},
   "outputs": [],
   "source": [
    "d = {'scored_labels': [{'label': 'NEUTRAL', 'score': 1}, {'label': 'joy', 'score': 1}]}\n",
    "print(d)"
   ]
  },
  {
   "cell_type": "code",
   "execution_count": null,
   "id": "5ef189d5",
   "metadata": {},
   "outputs": [],
   "source": [
    "lst = []\n",
    "for i in d['scored_labels']:\n",
    "    # print(i)\n",
    "    lst.append(i['score'])\n",
    "# print(list(enumerate(lst)))\n",
    "index = sorted(list(enumerate(lst)),key=lambda x:x[1],reverse=True)[0][0]"
   ]
  },
  {
   "cell_type": "code",
   "execution_count": null,
   "id": "93a5c9ae",
   "metadata": {},
   "outputs": [],
   "source": [
    "d['scored_labels'][index]['label']"
   ]
  },
  {
   "cell_type": "code",
   "execution_count": null,
   "id": "8b553227",
   "metadata": {},
   "outputs": [],
   "source": []
  },
  {
   "cell_type": "code",
   "execution_count": null,
   "id": "663b8b14",
   "metadata": {},
   "outputs": [],
   "source": []
  },
  {
   "cell_type": "code",
   "execution_count": null,
   "id": "ce18e5a3",
   "metadata": {},
   "outputs": [],
   "source": []
  },
  {
   "cell_type": "code",
   "execution_count": null,
   "id": "9cea10c1",
   "metadata": {},
   "outputs": [],
   "source": []
  },
  {
   "cell_type": "code",
   "execution_count": null,
   "id": "a7713c05",
   "metadata": {},
   "outputs": [],
   "source": []
  },
  {
   "cell_type": "code",
   "execution_count": null,
   "id": "fc44ef9f",
   "metadata": {},
   "outputs": [],
   "source": []
  },
  {
   "cell_type": "code",
   "execution_count": null,
   "id": "d48b7dae",
   "metadata": {},
   "outputs": [],
   "source": []
  },
  {
   "cell_type": "code",
   "execution_count": null,
   "id": "d5f317a2",
   "metadata": {},
   "outputs": [],
   "source": []
  },
  {
   "cell_type": "code",
   "execution_count": null,
   "id": "93f9be4c",
   "metadata": {},
   "outputs": [],
   "source": []
  },
  {
   "cell_type": "code",
   "execution_count": null,
   "id": "a7a5a906",
   "metadata": {},
   "outputs": [],
   "source": []
  },
  {
   "cell_type": "code",
   "execution_count": null,
   "id": "47963930",
   "metadata": {},
   "outputs": [],
   "source": []
  },
  {
   "cell_type": "code",
   "execution_count": null,
   "id": "3cf016ce",
   "metadata": {},
   "outputs": [],
   "source": []
  }
 ],
 "metadata": {
  "kernelspec": {
   "display_name": "Python 3 (ipykernel)",
   "language": "python",
   "name": "python3"
  },
  "language_info": {
   "codemirror_mode": {
    "name": "ipython",
    "version": 3
   },
   "file_extension": ".py",
   "mimetype": "text/x-python",
   "name": "python",
   "nbconvert_exporter": "python",
   "pygments_lexer": "ipython3",
   "version": "3.11.4"
  }
 },
 "nbformat": 4,
 "nbformat_minor": 5
}
